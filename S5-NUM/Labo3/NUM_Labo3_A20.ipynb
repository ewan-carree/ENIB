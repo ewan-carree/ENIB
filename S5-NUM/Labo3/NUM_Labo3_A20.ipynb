{
 "cells": [
  {
   "cell_type": "markdown",
   "metadata": {},
   "source": [
    "<img style=\"float:right;width:100px\" src=\"https://enib.fr/images/logo-enib-accueil.jpg\">\n",
    "<div><h3>Labo de méthodes numériques S5, automne 2020</h3>\n",
    "      \n",
    "</div>\n",
    "<div style=\"text-align:center;padding-bottom:20px;padding-top:10px\">\n",
    "    <h1> TP 3 : stabilité absolue et système différentiel raide </h1>\n",
    "</div>\n",
    "    "
   ]
  },
  {
   "cell_type": "code",
   "execution_count": 1,
   "metadata": {},
   "outputs": [],
   "source": [
    "#Evite d'utiliser show :\n",
    "%matplotlib inline \n",
    "#les bons modules :\n",
    "import numpy as np\n",
    "import matplotlib.pyplot as plt\n",
    "from scipy.integrate import odeint\n",
    "from ipywidgets import interact\n",
    "import scipy.optimize as opt\n",
    "#On centre les figures :\n",
    "from IPython.core.display import HTML\n",
    "HTML(\"\"\"\n",
    "<style>\n",
    ".output_png {\n",
    "    display: table-cell;\n",
    "    text-align: right;\n",
    "    vertical-align: middle;\n",
    "}\n",
    "</style>\n",
    "\"\"\")\n",
    "#On change la taille des figures\n",
    "plt.rcParams['figure.figsize'] = [12, 8]\n",
    "\n",
    "from ipywidgets import interact_manual\n",
    "from ipywidgets import FloatSlider"
   ]
  },
  {
   "cell_type": "markdown",
   "metadata": {},
   "source": [
    "# Exercice 1 : codage d'une $\\theta$-méthode\n",
    "\n",
    "Les $\\theta$-méthodes sont du type \n",
    "$$\n",
    "y_{n+1}=y_n+h_n\\Big(\\theta f(y_n,t_n)+(1-\\theta)f(y_{n+1},t_{n+1})\\Big),~\\theta\\in[0;1].\n",
    "$$\n",
    "L'objet de ce TP est l'étude d'une de ces méthodes sur un système différentiel raide.\n",
    "\n",
    "### Question 1\n",
    "Coder le schéma (qu'on notera par la suite $(\\theta_{4/5})$)\n",
    "$$\n",
    "y_{n+1}=y_n+\\frac{h_n}{5}\\Big(4f(y_n,t_n)+f(y_{n+1},t_{n+1})\\Big)\\quad (\\theta_{4/5})\n",
    "$$\n",
    "pour la résolution d'un problème de Cauchy $y'(t)=f(y(t),t),~y(t_0)=y_0$.\n",
    "\n",
    "Les paramètres d'entrée seront les mêmes que pour $\\texttt{odeint}$ et les méthodes codées dans le TP 2."
   ]
  },
  {
   "cell_type": "code",
   "execution_count": null,
   "metadata": {},
   "outputs": [],
   "source": []
  },
  {
   "cell_type": "markdown",
   "metadata": {},
   "source": [
    "### Question 2\n",
    "Calculer le rayon de stabilité du schéma $(\\theta_{4/5})$."
   ]
  },
  {
   "cell_type": "markdown",
   "metadata": {},
   "source": []
  },
  {
   "cell_type": "markdown",
   "metadata": {},
   "source": [
    "### Question 3\n",
    "Tester la méthode $(\\theta_{4/5})$ sur le problème  $$y''(t)=-sin(y(t)),~y(0)=0,y'(0)=1$$ en affichant la courbe approchée de $(z(t),z'(t))$ où $z$ est la solution exacte du problème (on comparera avec la courbe obtenue par $\\texttt{odeint}$)."
   ]
  },
  {
   "cell_type": "code",
   "execution_count": null,
   "metadata": {},
   "outputs": [],
   "source": []
  },
  {
   "cell_type": "markdown",
   "metadata": {},
   "source": [
    "# Exercice 2 : test sur un système raide\n",
    "\n",
    "Soit le système\n",
    "$$\n",
    "(S)~:~\\left|\n",
    "\\begin{array}{l}\n",
    "x'(t)=-53x(t)+47y(t)+3\\sin 5t\\\\\n",
    "y'(t)=47x(t)-53y(t)-3\\cos 2t\\\\\n",
    "x(0)=1,y(0)=-1\n",
    "\\end{array}\n",
    "\\right.\n",
    "$$\n",
    "### Question 1\n",
    "Quelles sont les valeurs propres de la matrice $A=\\left(\\begin{smallmatrix}-53&47\\\\47&-53\\end{smallmatrix}\\right)$ ? Quelle est la forme de la solution du système $(S)$ ?"
   ]
  },
  {
   "cell_type": "markdown",
   "metadata": {},
   "source": []
  },
  {
   "cell_type": "markdown",
   "metadata": {},
   "source": [
    "### Question 2\n",
    "Appliquer la méthode $(\\theta_{4/5})$ sur le système $(S)$ avec un pas constant $h$ sur l'intervalle $[0;10]$. Faire varier le pas $h$ (on pourra utiliser la commande $\\texttt{interact}$) et conjecturer le seuil d'\"explosion\" de l'erreur. "
   ]
  },
  {
   "cell_type": "code",
   "execution_count": null,
   "metadata": {},
   "outputs": [],
   "source": []
  },
  {
   "cell_type": "markdown",
   "metadata": {},
   "source": [
    "### Question 3\n",
    "Démontrer votre conjecture en utilisant le cours et la question 1."
   ]
  },
  {
   "cell_type": "markdown",
   "metadata": {},
   "source": []
  },
  {
   "cell_type": "markdown",
   "metadata": {},
   "source": [
    "\n"
   ]
  },
  {
   "cell_type": "markdown",
   "metadata": {},
   "source": [
    "### Question 4 (subsidiaire)\n",
    "Déterminer la solution exacte du problème de Cauchy $(S)$."
   ]
  },
  {
   "cell_type": "markdown",
   "metadata": {},
   "source": []
  }
 ],
 "metadata": {
  "kernelspec": {
   "display_name": "Python 3",
   "language": "python",
   "name": "python3"
  },
  "language_info": {
   "codemirror_mode": {
    "name": "ipython",
    "version": 3
   },
   "file_extension": ".py",
   "mimetype": "text/x-python",
   "name": "python",
   "nbconvert_exporter": "python",
   "pygments_lexer": "ipython3",
   "version": "3.7.6-final"
  }
 },
 "nbformat": 4,
 "nbformat_minor": 2
}