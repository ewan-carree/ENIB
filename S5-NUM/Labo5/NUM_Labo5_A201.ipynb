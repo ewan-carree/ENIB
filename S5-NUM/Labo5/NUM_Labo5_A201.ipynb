{
 "cells": [
  {
   "cell_type": "markdown",
   "metadata": {},
   "source": [
    "<img style=\"float:right;width:100px\" src=\"https://enib.fr/images/logo-enib-accueil.jpg\">\n",
    "<div><h3>Labo de méthodes numériques S5, automne 2019</h3>\n",
    "       <p><em>Nom Prénom</em></p>\n",
    "</div>\n",
    "<div style=\"text-align:center;padding-bottom:20px;padding-top:10px\">\n",
    "    <h1> TP 5 : Systèmes linéaires, méthode de relaxation </h1>\n",
    "</div>\n",
    "    "
   ]
  },
  {
   "cell_type": "code",
   "execution_count": 11,
   "metadata": {},
   "outputs": [],
   "source": [
    "#Evite d'utiliser show :\n",
    "%matplotlib inline \n",
    "#les bons modules :\n",
    "import numpy as np\n",
    "import matplotlib.pyplot as plt\n",
    "import numpy.linalg as lg\n",
    "import numpy as np"
   ]
  },
  {
   "cell_type": "markdown",
   "metadata": {},
   "source": [
    "# Exercice 1 : codage\n",
    "La méthode de relaxation est une méthode de résolution des systèmes linéaires $Ax=B$ basée sur le principe suivant : on écrit \n",
    "$\n",
    "A=D+E+F\n",
    "$\n",
    "où $D$ est la sous-matrice diagonale de $A$, $E$ est la sous-matrice triangulaire inférieure stricte de $A$, et enfin $F$ est la sous-matrice triangulaire supérieure stricte de $A$.\n",
    "\n",
    "Soit alors $\\omega$ un réel, non nul, appelé paramètre de la relaxation. On peut écrire  \n",
    "$$\n",
    "\\begin{array}{rcccc}\n",
    "A&=&\\Big(\\displaystyle\\frac{1}{\\omega}D+E\\Big)&+&\\Big(\\displaystyle\\frac{w-1}{\\omega}D+F\\Big)=\\Big(M\\Big)+\\Big(N\\Big)\n",
    "\\end{array}\n",
    "$$\n",
    "et ainsi construire la méthode itérative de relaxation\n",
    "$$\n",
    "MX^{(k+1)}=B-NX^{(k)}.\n",
    "$$\n"
   ]
  },
  {
   "cell_type": "markdown",
   "metadata": {},
   "source": [
    "### Question 1\n",
    "Pour quelle valeur de $\\omega$ retrouve-t-on la méthode de Gauss-Seidel ? "
   ]
  },
  {
   "cell_type": "markdown",
   "metadata": {},
   "source": [
    "$\\omega$ =1"
   ]
  },
  {
   "cell_type": "markdown",
   "metadata": {},
   "source": [
    "### Question 2\n",
    "Coder la méthode de relaxation sous la forme\n",
    "$$\n",
    "\\texttt{def relaxation(A,b,x0,eps,omega) :}\n",
    "$$\n",
    "pour laquelle les itérations cesseront lorsque $\\| x^{(k+1)} - x^{(k)} \\|<$ epsilon. Cette fonction renverra la solution \"sol\" ainsi que le nombre d'itérations effectuées \"nb_it\".\n",
    "\n",
    "**On testera tout d'abord la valeur du rayon spectral de $M^{-1}N$.**\n"
   ]
  },
  {
   "cell_type": "markdown",
   "metadata": {},
   "source": [
    "Indication : ecrire l i-ème ligne de\n",
    "$$ \\Big(\\displaystyle\\frac{1}{\\omega}D+E\\Big)X^{(k+1)}=B-\\Big(\\displaystyle\\frac{w-1}{\\omega}D+F\\Big)X^{(k)}$$\n",
    "\n",
    "$$\n",
    "\\left[\\begin{array}{c c c c}\n",
    "\\frac{1}{\\omega}a_{11} & 0 & \\cdots & 0 \\\\[2pt]\n",
    "a_{21}&\\frac{1}{\\omega} a_{22} & \\cdots & 0 \\\\[2pt]\n",
    "\\vdots & \\vdots & \\ddots & \\vdots \\\\[2pt]\n",
    "a_{n1}& a_{n2} & \\cdots & \\frac{1}{\\omega}a_{nn}\n",
    "\\end{array} \\right]\n",
    "\\left[ \\begin{array}{c}\n",
    "x_{1}^{(k+1)} \\\\[2pt]\n",
    "x_{2}^{(k+1)} \\\\[2pt]\n",
    "\\vdots \\\\\n",
    "x_{n}^{(k+1)}\n",
    "\\end{array} \\right]\n",
    "=\n",
    "\\left[ \n",
    "\\begin{array}{c}\n",
    "b_{1} \\\\[2pt]\n",
    "b_{2} \\\\[2pt]\n",
    "\\vdots \\\\[2pt]\n",
    "b_{n}\n",
    "\\end{array} \n",
    "\\right]\n",
    "-\n",
    "\\left[ \n",
    "\\begin{array}{c c c c}\n",
    "\\frac{\\omega-1}{\\omega}a_{11}  & a_{12} & \\cdots & a_{1n} \\\\[2pt]\n",
    "0 &\\frac{\\omega-1}{\\omega}a_{22}& \\cdots & a_{2n} \\\\[2pt]\n",
    "\\vdots & \\vdots & \\ddots & \\vdots \\\\[2pt]\n",
    "0 &0 & \\cdots &\\frac{\\omega-1}{\\omega}a_{nn}\n",
    "\\end{array} \\right]\n",
    "\\left[ \\begin{array}{c}\n",
    "x_{1}^{(k)} \\\\[2pt]\n",
    "x_{2}^{(k)} \\\\[2pt]\n",
    "\\vdots \\\\\n",
    "x_{n}^{(k)}\n",
    "\\end{array} \n",
    "\\right]\n",
    "$$\n",
    "Pour la $i$-eme ligne on a \n",
    "$$\n",
    "\\sum_{j<i}a_{ij}x_j^{(k+1)}+\\frac{1}{\\omega}a_{ii}x_i^{(k+1)}=b_i-\\frac{\\omega-1}{\\omega}a_{ii}x_i^{(k)}-\\sum_{j>i}a_{ij}x_j^{(k)}\n",
    "$$\n",
    "D'où : pour $i$ de $1$ à $n$,\n",
    "$$\n",
    "x_i^{(k+1)}=\\frac{\\omega}{a_{ii}}\\left(b_i-\\sum_{j<i}a_{ij}x_j^{(k+1)}-\\frac{\\omega-1}{\\omega}a_{ii}x_i^{(k)}-\\sum_{j>i}a_{ij}x_j^{(k)}\\right)\n",
    "$$"
   ]
  },
  {
   "cell_type": "code",
   "execution_count": 12,
   "metadata": {},
   "outputs": [
    {
     "name": "stdout",
     "output_type": "stream",
     "text": [
      "A [[2. 1. 0. 0.]\n",
      " [1. 2. 1. 0.]\n",
      " [0. 1. 2. 1.]\n",
      " [0. 0. 1. 2.]] \n",
      "\n",
      "b [ 1.  0.  0. -1.] \n",
      "\n",
      "(4,)\n",
      "solution (array([[1., 1., 1., 1.],\n",
      "       [1., 1., 1., 1.],\n",
      "       [1., 1., 1., 1.],\n",
      "       [1., 1., 1., 1.]]), 0)\n"
     ]
    }
   ],
   "source": [
    "def relaxation(A,b,x0,eps,omega):\n",
    "    n = len(b)\n",
    "    y = 0*x0 # y joue le rôle de X^(k) \n",
    "    x = y+np.ones((n,1)) # pour passer le premier test de la boucle while, x joue le rôle de X^(k+1)\n",
    "    E = np.tril(A,-1)\n",
    "    D = np.diag(np.diag(A))\n",
    "    M = D/omega + E\n",
    "    N = A-M\n",
    "    diff = eps\n",
    "    k = 0\n",
    "    \n",
    "    while(diff>eps):\n",
    "        k = k+1\n",
    "        for i in range(n):\n",
    "            x[i] = 1/M[i,i]*(b[i]-np.vdot(N[i,:],y)-np.vdot(E[i,:],x))\n",
    "            # o, obtient bien les sommes qui sont dans la formule au dessus car E est triangulaire inf.stricte\n",
    "            # et N est triangulaire sup.\n",
    "        diff = lg.norm(x-y)\n",
    "        y = x.copy() #on effectue une copie de x dans y (échange)        \n",
    "    return x,k\n",
    "\n",
    "A = np.array([[2.,1.,0.,0.],[1.,2.,1.,0.],[0.,1.,2.,1.],[0.,0.,1.,2.]])\n",
    "b = np.array([1.,0.,0.,-1.])\n",
    "\n",
    "print(\"A\", A ,\"\\n\")\n",
    "print(\"b\", b,\"\\n\")\n",
    "\n",
    "print(b.shape)\n",
    "\n",
    "x0 = np.zeros(b.shape)\n",
    "eps = 0.000000001\n",
    "omega = 1.27\n",
    "\n",
    "sol = relaxation(A,b,x0,eps,omega)\n",
    "\n",
    "print(\"solution\",sol)\n",
    "\n"
   ]
  },
  {
   "cell_type": "markdown",
   "metadata": {},
   "source": [
    "# Exercice 2 : application\n",
    "\n",
    "### Question 1\n",
    "\n",
    "Ecrire une fonction qui renvoie une matrice de la forme\n",
    "$$\n",
    "A(\\alpha)=\n",
    "\\left[\n",
    "\\begin{array}{rrr}\n",
    "1&0&\\alpha\\\\0&1&5\\\\\n",
    "1&0&1\n",
    "\\end{array}\n",
    "\\right]\n",
    "$$\n",
    "où $\\alpha$ est le paramètre d'entrée de la fonction.\n"
   ]
  },
  {
   "cell_type": "code",
   "execution_count": 13,
   "metadata": {},
   "outputs": [
    {
     "name": "stdout",
     "output_type": "stream",
     "text": [
      "A [[1 0 2]\n",
      " [0 1 5]\n",
      " [1 0 1]]\n"
     ]
    }
   ],
   "source": [
    "def f(alpha):\n",
    "    \n",
    "    A = np.array([[1,0,alpha],[0,1,5],[1,0,1]])\n",
    "    \n",
    "    return A\n",
    "\n",
    "print(\"A\",f(2))"
   ]
  },
  {
   "cell_type": "markdown",
   "metadata": {},
   "source": [
    "**Pour les questions qui suivent, on demande de les traiter de deux façons : d'une part on utilisera exclusivement des  graphiques (on pourra par exemple tracer la courbe d'un déterminant ou d'un rayon spectral en fonction de $\\alpha$...), d'autre part, on donnera la justification théorique.**\n",
    "\n",
    "### Question 2   \n",
    "Pour quelles valeurs de $\\alpha$ la matrice $A(\\alpha)$ est-elle inversible ? \n",
    "\n"
   ]
  },
  {
   "cell_type": "markdown",
   "metadata": {},
   "source": [
    "Il faut avoir $\\det(A(\\alpha))\\not=0$, or\n",
    "$\n",
    "\\det(A((\\alpha))=1 \\alpha $\n",
    "donc$ A(\\alpha)$ est inversible si et seulement si $\\alpha\\not=1$"
   ]
  },
  {
   "cell_type": "code",
   "execution_count": 22,
   "metadata": {},
   "outputs": [
    {
     "data": {
      "text/plain": [
       "[<matplotlib.lines.Line2D at 0x214ace13f08>]"
      ]
     },
     "execution_count": 22,
     "metadata": {},
     "output_type": "execute_result"
    },
    {
     "data": {
      "image/png": "[encoded data removed]",
      "text/plain": [
       "<Figure size 432x288 with 1 Axes>"
      ]
     },
     "metadata": {
      "needs_background": "light"
     },
     "output_type": "display_data"
    }
   ],
   "source": [
    "#vérification graphique :\n",
    "\n",
    "alpha = np.arange(0,2,0.001)\n",
    "det = []\n",
    "\n",
    "z= np.zeros(len(alpha))\n",
    "plt.plot(alpha, z, 'g')\n",
    "\n",
    "for a in alpha:\n",
    "    det.append(np.linalg.det(f(a)))\n",
    "plt.plot(alpha, det)\n",
    "    \n",
    "#On constate que ça s'annule à 1"
   ]
  },
  {
   "cell_type": "markdown",
   "metadata": {},
   "source": [
    "### Question 3   \n",
    "Pour quelles valeurs de $\\alpha$ la méthode de Gauss-Seidel converge-t-elle pour résoudre $A(\\alpha)X=B$, où $B$ est un vecteur de $\\mathbb R^3$ quelconque ?\n",
    "\n",
    "On fixe $\\omega$ à 1 pour la relaxation, comme ça c'est juste Gauss Seidel. On cherche alors la valeur de alpha qui donne le rayon spectrale le plus petit pour la matrice $M^{-1}N$\n"
   ]
  },
  {
   "cell_type": "code",
   "execution_count": 31,
   "metadata": {},
   "outputs": [
    {
     "data": {
      "text/plain": [
       "[<matplotlib.lines.Line2D at 0x214ad0cb9c8>]"
      ]
     },
     "execution_count": 31,
     "metadata": {},
     "output_type": "execute_result"
    },
    {
     "data": {
      "image/png": "[encoded data removed]",
      "text/plain": [
       "<Figure size 432x288 with 1 Axes>"
      ]
     },
     "metadata": {
      "needs_background": "light"
     },
     "output_type": "display_data"
    }
   ],
   "source": [
    "# si le rayon spectral est compris entre 0 et 1, alors la solution converge\n",
    "def rayon_spectral(A, omega):\n",
    "    E = np.tril(A, -1); F=np.triu(A, 1); D = np.diag(np.diag(A));\n",
    "    M = D/omega + E; N= A-M;\n",
    "    rho = np.max(np.abs(lg.eigvals(np.dot(lg.inv(M),N))))\n",
    "    return rho\n",
    "\n",
    "alpha = np.arange(-2,2,0.001) #arbitraire\n",
    "\n",
    "spectral_array = []\n",
    "for a in alpha:\n",
    "    spectral_array.append(rayon_spectral(f(a), 1))\n",
    "plt.plot(alpha, spectral_array)\n",
    "\n",
    "z= np.ones(len(alpha))\n",
    "plt.plot(alpha, z, 'g')\n",
    "\n",
    "#pour toutes les valeurs en dessous de la ligne verte cela converge, sinon cela diverge\n",
    "# on observe donc la convergence pour -1<alpha<1 avec alpha optimal à 0"
   ]
  },
  {
   "cell_type": "markdown",
   "metadata": {},
   "source": [
    "### Question 4\n",
    "On prend $\\alpha=0$. Pour quelles valeurs de $\\omega$ la méthode de relaxation converge-t-elle ?"
   ]
  },
  {
   "cell_type": "code",
   "execution_count": 37,
   "metadata": {},
   "outputs": [
    {
     "data": {
      "text/plain": [
       "[<matplotlib.lines.Line2D at 0x214ad2699c8>]"
      ]
     },
     "execution_count": 37,
     "metadata": {},
     "output_type": "execute_result"
    },
    {
     "data": {
      "image/png": "[encoded data removed]",
      "text/plain": [
       "<Figure size 432x288 with 1 Axes>"
      ]
     },
     "metadata": {
      "needs_background": "light"
     },
     "output_type": "display_data"
    }
   ],
   "source": [
    "omega = np.arange(0.01,2,0.01) #arbitraire\n",
    "\n",
    "spectral_array = []\n",
    "for o in omega:\n",
    "    spectral_array.append(rayon_spectral(f(0), o))\n",
    "plt.plot(omega, spectral_array)\n"
   ]
  },
  {
   "cell_type": "markdown",
   "metadata": {},
   "source": [
    "### Question 5\n",
    "Illustrer ce dernier résultat sur le système $A(0)X=\\left[\\begin{array}{l}-1\\\\17\\\\2\\end{array}\\right]$, avec deux valeurs différentes de $\\omega$.\n",
    "\n"
   ]
  },
  {
   "cell_type": "code",
   "execution_count": null,
   "metadata": {},
   "outputs": [],
   "source": []
  }
 ],
 "metadata": {
  "kernelspec": {
   "display_name": "Python 3",
   "language": "python",
   "name": "python3"
  },
  "language_info": {
   "codemirror_mode": {
    "name": "ipython",
    "version": 3
   },
   "file_extension": ".py",
   "mimetype": "text/x-python",
   "name": "python",
   "nbconvert_exporter": "python",
   "pygments_lexer": "ipython3",
   "version": "3.7.6"
  }
 },
 "nbformat": 4,
 "nbformat_minor": 2
}
