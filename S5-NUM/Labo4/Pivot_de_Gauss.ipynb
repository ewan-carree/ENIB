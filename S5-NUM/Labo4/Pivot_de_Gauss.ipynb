{
 "cells": [
  {
   "cell_type": "markdown",
   "metadata": {},
   "source": [
    "<img style=\"float:right;width:100px\" src=\"https://enib.fr/images/logo-enib-accueil.jpg\">\n",
    "<div><h3>Méthodes numériques S5</h3>\n",
    "</div>\n",
    "<div style=\"text-align:center;padding-bottom:20px;padding-top:10px\">\n",
    "    <h1> Méthode directe : pivot de Gauss </h1>\n",
    "</div>\n",
    "    "
   ]
  },
  {
   "cell_type": "markdown",
   "metadata": {},
   "source": [
    "# Principe général \n",
    "\n",
    "Pour résoudre le système $n\\times n$ $AX=B$, la méthode du pivot de Gauss fonctionne en deux étapes :\n",
    "\n",
    "1. une étape de **triangularisation**, qui consiste à faire apparaître des zéros **sous la diagonale de $A$**. \n",
    "\n",
    "Elle se fait en $n-1$ pas : le premier pas fait apparaître des zéros sur la première colonne, le second sur la deuxième colonne, etc. A chaque pas, on \"prend appui\" sur l'élément diagonal sous lequel on fait apparaître des zéros. Cet élément est appelé **pivot**.\n",
    "\n",
    "Lorsqu'un pivot est nul, il faut changer de pivot, au moyen d'un pivotage qui consiste à aller chercher l'élément de module maximal dans la sous-matrice dont le pivot nul est le premier élément (1ère ligne 1ère colonne).\n",
    "\n",
    "2. une étape de **remontée**, pour résoudre le système triangulaire $A^{(n)}X=B^{(n)}$ ainsi obtenu."
   ]
  },
  {
   "cell_type": "markdown",
   "metadata": {},
   "source": [
    "# Etape 1 : triangularisation\n",
    "\n",
    "\n",
    "**Premier pas : on fait apparaître des zéros sous $a_{11}$**\n",
    "\n",
    "On note $A^{(1)}=A$, de composantes $a_{ij}^{(1)}=a_{ij}$ et $B^{(1)}=B$.\n",
    "\n",
    "Supposons $a_{11}^{(1)}\\not=0$. C'est le pivot pour ce premier pas ! On remplace chaque ligne (de $A^{(1)}$ **et** de $B^{(1)}$ sinon le système ne sera pas équivalent) $l_i$ par $l_i-\\frac{a_{i1}^{(1)}}{a_{11}^{(1)}}l_1$,\n",
    "pour $i = 2,\\dots,n$. On obtient\n",
    "$$\n",
    "A^{(2)}=\n",
    "\\left[\n",
    "\\begin{array}{ccccc}\n",
    "a_{11}^{(1)}&a_{12}^{(1)}&\\dots&\\dots&a_{1n}^{(1)}\\\\[5pt]\n",
    "0&a_{22}^{(2)}&\\dots&\\dots&a_{2n}^{(2)}\\\\[5pt]\n",
    "0&a_{32}^{(2)}&\\dots&\\dots&a_{3n}^{(2)}\\\\[5pt]\n",
    "\\vdots&\\vdots&&&\\vdots\\\\[5pt]\n",
    "0&a_{n2}^{(2)}&\\dots&\\dots&a_{nn}^{(2)}\n",
    "\\end{array}\n",
    "\\right]\n",
    "{~\\rm et~}\n",
    "B^{(2)}=\n",
    "\\left[\n",
    "\\begin{array}{c}\n",
    "b_1^{(1)}\\\\[5pt]\n",
    "b_2^{(2)}\\\\[5pt]\n",
    "b_3^{(2)}\\\\[5pt]\n",
    "\\vdots\\\\[5pt]\n",
    "b_n^{(2)}\\\\[5pt]\n",
    "\\end{array}\n",
    "\\right].\n",
    "$$\n",
    "Le système d'origine est alors équivalent au nouveau système\n",
    "$$\n",
    "A^{(2)}X=B^{(2)}.\n",
    "$$\n",
    "\n",
    "**Deuxième pas : on fait apparaître des zéros sous $a_{22}^{(2)}$**\n",
    "\n",
    "On recommence une combinaison linéaire analogue des lignes $l_2$ et $l_i,~i=3,\\dots,n$, de $\n",
    "\\Big(A^{(2)}|B^{(2)}\\Big),\n",
    "$\n",
    "de façon à annuler les éléments sous-diagonaux de la deuxième colonne de $\n",
    "A^{(2)}\n",
    "$\n",
    "\n",
    "**$k$-ième pas ($k\\le n-1$)**\n",
    "\n",
    "Pour passer de $\\Big(A^{(k)}|B^{(k)}\\Big)$ à $(A^{(k+1)}|B^{(k+1)})$\n",
    "on doit faire apparaître des zéros sous $a_{kk}^{(k)}$ :\n",
    "\n",
    "-on ne touche pas aux $k$ premières lignes de $(A^{(k)}|B^{(k)})$ ;\n",
    "\n",
    "-pour $i$ de $k+1$ à $n$, les lignes (de $A^{(k)}$ **et** $B^{(k)}$) sous le pivot sont modifiées : \n",
    "\n",
    "$l_{i}^{(k+1)}=l_{i}^{(k)}-\\frac{a_{ik}^{(k)}}{a_{kk}^{(k)}}l_{k}^{(k)}$;\n",
    "\n",
    "\n",
    "**et ainsi de suite**,... de sorte qu'en d\\'efinitive\n",
    "$\\Big(A^{(n)}|B^{(n)}\\Big)$ est tel que $A^{(n)}$ est triangulaire sup\\'erieure."
   ]
  },
  {
   "cell_type": "markdown",
   "metadata": {},
   "source": [
    "**QUE FAIRE QUAND UN PIVOT EST NUL ?**\n",
    "\n",
    "\n",
    "Si, par exemple au $k$-ième pas, on a un $a_{kk}^{(k)}=0$ nul, on ne peut évidemment plus diviser par le pivot $a_{kk}^{(k)}$ ! Il faut en choisir un autre :\n",
    "\n",
    "Dans la plupart des cas on fait un **pivotage total** : on choisit le nouveau pivot dans toute la sous-matrice $[a_{ij}^{(k)}],i\\ge k, j\\ge k$, en choisissant le plus grand nombre possible en module (vu qu'on l'inverse ensuite et qu'il faut minimiser les erreurs). \n",
    "\n",
    "Si par exemple le nouveau pivot choisi est à la $l$-ième ligne et $m$-ième colonne ($l\\ge k, m\\ge k$), il faut :\n",
    "\n",
    "-permuter les lignes $k$ et $l$ (si $l\\not=k$) de la matrice $A^{(k)}$ (**et aussi de $b^{(k)}$**) ;\n",
    "\n",
    "-permuter les colonnes $k$ et $m$ de de la matrice $A^{(k)}$. **Attention :** Sur la matrice $b^{(k)}$ cette dernière opération ne change rien, mais elle change l'ordre des inconnues au niveau du système : il faut donc au départ de l'algorithme introduire un vecteur d'entiers donnant l'ordre des inconnues du système, et lorsqu'un échange de colonnes a lieu, ce vecteur est modifié en conséquence. Par exemple, si on a un système à 4 inconnues, on introduit au départ un vecteur $ordre=[1,2,3,4]$ ; si lors d'un pivotage, les colonnes 2 et 4 sont permutées, ce vecteur devient $ordre=[1,4,3,2]$ pour mémoriser le changement d'ordre d'inconnues. Ainsi, la machine \"saura\" à quelle inconnue attribuer quelle valeur, à la toute fin de l'algorithme.\n"
   ]
  },
  {
   "cell_type": "markdown",
   "metadata": {},
   "source": [
    "# Etape 2 : remontée\n",
    "\n",
    "Pour résoudre le système triangulaire $A^{(n)}x=B^{(n)}$ : \n",
    "\n",
    "-On calcule d'abord $x_n=\\frac{b_n^{(n)}}{a_{nn}^{(n)}}$;\n",
    "\n",
    "-On remonte, ligne par ligne, en exprimant chaque $x_i$ en fonction des $x_j, j>i$ qu'on vient de calculer :\n",
    "\n",
    "Pour $i$ de $n-1$ à $1$ : $x_i=\\frac{b_i^{(n)}-\\sum_{j=i+1}^na_{ij}^{(n)}x_j}{a_{ii}^{(n)}}$.\n"
   ]
  },
  {
   "cell_type": "markdown",
   "metadata": {},
   "source": [
    "# Exemple :\n",
    "\n",
    "Résoudre le système\n",
    "\n",
    "$$\n",
    "\\left(\n",
    "\\begin{array}{ccc}\n",
    "2&-2&1\\\\\n",
    "1&-1&2\\\\\n",
    "-4&0&10\n",
    "\\end{array}\n",
    "\\right)\n",
    "\\cdot\n",
    "\\left(\n",
    "\\begin{array}{c}\n",
    "x_1\\\\\n",
    "x_2\\\\\n",
    "x_3\n",
    "\\end{array}\n",
    "\\right)\n",
    "=\n",
    "\\left(\n",
    "\\begin{array}{c}\n",
    "1\\\\\n",
    "5\\\\\n",
    "26\n",
    "\\end{array}\n",
    "\\right)\n",
    "$$"
   ]
  }
 ],
 "metadata": {
  "kernelspec": {
   "display_name": "Python 3",
   "language": "python",
   "name": "python3"
  },
  "language_info": {
   "codemirror_mode": {
    "name": "ipython",
    "version": 3
   },
   "file_extension": ".py",
   "mimetype": "text/x-python",
   "name": "python",
   "nbconvert_exporter": "python",
   "pygments_lexer": "ipython3",
   "version": "3.7.3"
  }
 },
 "nbformat": 4,
 "nbformat_minor": 2
}
