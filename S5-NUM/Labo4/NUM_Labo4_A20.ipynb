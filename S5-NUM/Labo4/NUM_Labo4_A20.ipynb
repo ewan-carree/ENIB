{
 "cells": [
  {
   "cell_type": "markdown",
   "metadata": {},
   "source": [
    "<img style=\"float:right;width:100px\" src=\"https://enib.fr/images/logo-enib-accueil.jpg\">\n",
    "<div><h3>Labo de méthodes numériques S5, automne 2020</h3>\n",
    "</div>\n",
    "<div style=\"text-align:center;padding-bottom:20px;padding-top:10px\">\n",
    "    <h1> TP 4 : Systèmes linéaires</h1>\n",
    "    <h1> Méthode directe : pivot de Gauss </h1>\n",
    "</div>\n",
    "    "
   ]
  },
  {
   "cell_type": "code",
   "execution_count": 2,
   "metadata": {},
   "outputs": [],
   "source": [
    "#Evite d'utiliser show :\n",
    "%matplotlib inline \n",
    "#les bons modules :\n",
    "import numpy as np\n",
    "import matplotlib.pyplot as plt\n",
    "from scipy.integrate import odeint\n",
    "from ipywidgets import interact"
   ]
  },
  {
   "cell_type": "markdown",
   "metadata": {},
   "source": [
    "# Exercice 1 : codage\n",
    "\n",
    "Coder la méthode du pivot de Gauss, pour la résolution du système linéaire $AX=b$, sous la forme\n",
    "$$\n",
    "\\texttt{def Gauss(A,b): }\n",
    "$$\n",
    "\n",
    "\n",
    "qui renverra respectivement la solution $x$, la matrice $m$ correspondant à $A$ triangularisée, et le vecteur $c$ correspondant à l'évolution de $b$ à l'issue de cette triangularisation. On n'oubliera pas de réordonner les coordonnées si un pivotage total a eu lieu au cours de l'exécution.\n",
    "\n",
    "### étape 1 :\n",
    "\n",
    "Coder le pivot de Gauss sans pivotage (donc en supposant que le pivot n'est jamais nul), et juste la partie triangularisation de la matrice.\n",
    "Il faut faire une double boucle\n",
    "\n",
    "### étape 2 : \n",
    "\n",
    "Coder un sous-programme qui va chercher dans une matrice le nombre de module maximal, et vient le mettre en haut à gauche de la matrice, en permuatant les lignes et colonnes comme il convient (et en renvoyant les indices de la ligne et de la colonne qui contenaient le nouveau pivot)\n",
    "\n",
    "### étape 3\n",
    "\n",
    "Coder la remontée"
   ]
  },
  {
   "cell_type": "code",
   "execution_count": 65,
   "metadata": {},
   "outputs": [
    {
     "name": "stdout",
     "output_type": "stream",
     "text": [
      "[1, -1, 2]\n"
     ]
    }
   ],
   "source": [
    "import numpy.linalg as lg\n",
    "\n",
    "def Gauss(A, B):\n",
    "    X = [1,1,1]\n",
    "    pivot = A[0][0]\n",
    "    \n",
    "    for i in range(1, len(B)):\n",
    "        B[i] = B[i] - A[i][0]/pivot*B[0]\n",
    "        division = A[i][0]\n",
    "        for j in range(len(B)):\n",
    "            A[i][j] = A[i][j] - division/pivot*A[0][j]\n",
    "\n",
    "    \n",
    "    if A[1][1] == 0.0:\n",
    "        new_pivot_table = []\n",
    "        for i in range(1,len(A)):\n",
    "            for j in range(1,len(A)):\n",
    "                new_pivot_table.append(A[i][j])\n",
    "        \n",
    "        index_new_pivot = get_index_new_pivot(new_pivot_table)\n",
    "        new_pivot = new_pivot_table[index_new_pivot]\n",
    "        \n",
    "        for i in range(1,len(A)):\n",
    "            for j in range(1,len(A)):\n",
    "                if A[i][j] == new_pivot:\n",
    "                    if i != 1:\n",
    "                        for j in range(len(A)):\n",
    "                            tempA = A[i][j]\n",
    "                            A[i][j] = A[i-1][j]\n",
    "                            A[i-1][j] = tempA\n",
    "\n",
    "                        tempB = B[i]\n",
    "                        B[i] = B[i-1]\n",
    "                        B[i-1] = tempB\n",
    "                        \n",
    "                        swap_lign = True\n",
    "                            \n",
    "                    if j != 1:\n",
    "                        for i in range(len(A)):\n",
    "                            temp = A[i][j]\n",
    "                            A[i][j] = A[i][j-1]\n",
    "                            A[i][j-1] = temp\n",
    "    \n",
    "    \n",
    "    division = A[2][1]\n",
    "    for j in range(len(A)):\n",
    "        A[2][j] = A[2][j] - division/new_pivot*A[1][j]\n",
    "    B[2] = B[2] - division/new_pivot*B[1]\n",
    "        \n",
    "    \n",
    "    if swap_lign:\n",
    "        X[1] = round(B[2]/A[2][2])\n",
    "        X[2] = round((B[1] - A[1][2]*X[1])/A[1][1])\n",
    "        X[0] = round((B[0] - A[0][2]*X[1] - A[0][1]*X[2])/A[0][0])\n",
    "    \n",
    "    else:\n",
    "        X[2] = round(B[2]/A[2][2])\n",
    "        X[1] = round((B[1] - A[1][2]*X[2])/A[1][1])\n",
    "        X[0] = round((B[0] - A[0][2]*X[2] - A[0][1]*X[1])/A[0][0])\n",
    "        \n",
    "    return X\n",
    "        \n",
    "    \n",
    "\n",
    "def printMatrice(A):\n",
    "    for elem in A:\n",
    "        print(elem)\n",
    "        \n",
    "def get_index_new_pivot(l):\n",
    "    l1 = [abs(value) for value in l]\n",
    "    index = l1.index(max(l1))\n",
    "    return index\n",
    "\n",
    "A = [[2, -1, 1], [4, -2, 3], [-1, 1, -10]]\n",
    "B = [5, 12, -22]\n",
    "\n",
    "print(Gauss(A, B))\n"
   ]
  },
  {
   "cell_type": "markdown",
   "metadata": {},
   "source": [
    "# Exercice 2 : application  \n",
    "\n",
    "Résoudre le système $Ax=b$, où $A$ est la matrice de Hilbert de taille $p$ (la matrice de Hilbert a pour terme général $a_{ij}=\\frac{1}{i+j-1}$), et $b$ est tel que la solution du système est $x=(1,1,\\dots,1)^T$ (i.e. $\\texttt{x=np.ones(p,1)}$). On commencera donc par calculer $b=Ax$, avant de résoudre le système pour vérifier que l'on obtient bien $x=(1,1,\\dots,1)^T$. On testera différente valeurs de $p$, de plus en plus grandes..\n",
    "\n",
    "\n"
   ]
  },
  {
   "cell_type": "code",
   "execution_count": null,
   "metadata": {},
   "outputs": [],
   "source": []
  }
 ],
 "metadata": {
  "kernelspec": {
   "display_name": "Python 3",
   "language": "python",
   "name": "python3"
  },
  "language_info": {
   "codemirror_mode": {
    "name": "ipython",
    "version": 3
   },
   "file_extension": ".py",
   "mimetype": "text/x-python",
   "name": "python",
   "nbconvert_exporter": "python",
   "pygments_lexer": "ipython3",
   "version": "3.7.6"
  }
 },
 "nbformat": 4,
 "nbformat_minor": 2
}
