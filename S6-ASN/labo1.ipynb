{
 "cells": [
  {
   "cell_type": "markdown",
   "metadata": {},
   "source": [
    "<img style=\"float: right;width: 100px\" src=\"https://www.enib.fr/images/logo-enib-accueil.jpg\">\n",
    "\n",
    "<div>\n",
    "    <p><h3>Asservissement (S6)</h3></p>\n",
    "    <p>Année 2020 - 2021</p>\n",
    "    <p><em>Equipe Pédagogique</em></p>\n",
    "</div>\n",
    "\n",
    "<div style=\"text-align: center;padding-bottom:20px;padding-top:10px\"><h1>Comportement des Systèmes Continus</h1>\n",
    "    <h2>Labo 1</h2>\n",
    "</div>"
   ]
  },
  {
   "cell_type": "markdown",
   "metadata": {},
   "source": [
    "### But de l'étude.\n",
    "\n",
    "La première partie de ce TP concerne l'analyse du comportement temporel et fréquentiel des systèmes continus. En plus d'un rappel sur les Fonctions de Transfert (FT) du 1er ordre et 2ème ordre, cette partie permet de prendre progressivement connaissance de l'environnement Jupyter  et plus particulièrement de la librairie `Python Control` concernant les F.T et de la librairie `ENIB_control` pour l'affichage des courbes.\n",
    "\n",
    "Dans une deuxième partie, diverses synthèses de correcteurs analogiques sont réalisées. Le calcul de correcteurs et la validation des résultats se feront en utilisant au maximum les fonctionnalités de la librairie `Python Control`.\n",
    "\n",
    "### Documentations\n",
    "\n",
    "<div class=\"alert alert-info\">\n",
    "    La documentation de la librairie Python Control est disponible à l'adresse: <a href=\"https://python-control.readthedocs.io/en/0.8.3/\">Python Control</a>.\n",
    "</div>\n",
    "\n",
    "<div class=\"alert alert-info\">\n",
    "    La documentation de la librairie Enib Control est disponible à l'adresse: <a href=\"./documentation2.ipynb\">documentation2.ipynb</a>.\n",
    "</div>\n",
    "\n",
    "<div class=\"alert alert-info\">\n",
    "    Pour les systèmes de second ordre, les abaques sont disponibles à l'adresse: <a href=\"https://vincentchoqueuse.github.io/web_app_2nd_order_performances/index.html\">abaques</a>.\n",
    "</div>\n",
    "\n",
    "\n",
    "\n"
   ]
  },
  {
   "cell_type": "code",
   "execution_count": 1,
   "metadata": {},
   "outputs": [],
   "source": [
    "import numpy as np\n",
    "from ENIB_control import *\n",
    "from control import *"
   ]
  },
  {
   "cell_type": "markdown",
   "metadata": {},
   "source": [
    "### 1. Analyse en temps et en fréquence des fonctions de transfert \n",
    "\n",
    "La fonction `tf` de la librairie `Python Control` permet de créer une fonction de transfert $F(p)$. Il s'agit d'une classe particulière de variables avec ses propres propriétés et ses propres opérations.\n",
    "\n",
    "Pour nous entrainer, nous allons considérer les fonctions de transfert suivantes:\n",
    "\n",
    "$$F_1(p)=\\frac{2}{1+3p}$$\n",
    "$$F_2(p)=\\frac{2}{1+10p+2p^2}$$\n",
    "$$F_3(p)=\\frac{2}{1+0.5p+8p^2}$$"
   ]
  },
  {
   "cell_type": "markdown",
   "metadata": {},
   "source": [
    "#### Saisie du Système\n",
    "\n",
    "La commande `tf` permet la saisie de la F.T. sous forme polynomiale (voir <a href=\"https://python-control.readthedocs.io/en/0.8.3/generated/control.tf.html\">documentation</a>)"
   ]
  },
  {
   "cell_type": "markdown",
   "metadata": {},
   "source": [
    "**Question :** Saisissez les fonctions de transfert continue $F_1(p)$, $F_2(p)$ et $F_3(p)$ sous forme polynomiale."
   ]
  },
  {
   "cell_type": "code",
   "execution_count": 2,
   "metadata": {},
   "outputs": [
    {
     "name": "stdout",
     "output_type": "stream",
     "text": [
      "\n",
      "   2\n",
      "-------\n",
      "3 s + 1\n",
      " \n",
      "       2\n",
      "----------------\n",
      "2 s^2 + 10 s + 1\n",
      " \n",
      "        2\n",
      "-----------------\n",
      "8 s^2 + 0.5 s + 1\n",
      "\n"
     ]
    }
   ],
   "source": [
    "F1 = tf([2],[3,1])\n",
    "F2 = tf([2],[2,10,1])\n",
    "F3 = tf([2],[8,0.5,1])\n",
    "\n",
    "print (F1,F2,F3)"
   ]
  },
  {
   "cell_type": "markdown",
   "metadata": {},
   "source": [
    "**Question :** Déterminez les pôles de chacun des 3 systèmes."
   ]
  },
  {
   "cell_type": "code",
   "execution_count": 3,
   "metadata": {},
   "outputs": [
    {
     "name": "stdout",
     "output_type": "stream",
     "text": [
      "[-0.33333333]\n",
      "[-4.89791576 -0.10208424]\n",
      "[-0.03125+0.35216961j -0.03125-0.35216961j]\n"
     ]
    }
   ],
   "source": [
    "print (pole(F1))\n",
    "print (pole(F2))\n",
    "print (pole(F3))"
   ]
  },
  {
   "cell_type": "markdown",
   "metadata": {},
   "source": [
    "#### 2.1 Analyse temporelle\n",
    "\n",
    "##### Réponse à une impulsion\n",
    "\n",
    "On appelle réponse impulsionnelle, la réponse temporelle à une impulsion en entrée pour un système linéaire initialement au repos, elle permet de déterminer expérimentalement la stabilité du système. Un système linéaire est stable si la réponse impulsionnelle $f(t)$ tend vers $0$ lorsque t tend vers l’infini. L’étude théorique explique qu’un système linéaire est stable si tous ses pôles (racines du dénominateur) sont à partie réelle négative.\n",
    "\n",
    "**Question :**\n",
    "\n",
    "* Tracez la réponse impulsionnelle de $F_1(p)$ via la fonction `figure(\"time\")` et l'argument `type=\"impulse\"`\n",
    "* Retrouvez par le calcul l'expression théorique de la réponse impulsionnelle."
   ]
  },
  {
   "cell_type": "code",
   "execution_count": 22,
   "metadata": {},
   "outputs": [
    {
     "data": {
      "application/vnd.plotly.v1+json": {
       "config": {
        "plotlyServerURL": "https://plot.ly"
       },
       "data": [
        {
         "line": {
          "shape": "linear"
         },
         "mode": "lines",
         "name": "tf 1",
         "showlegend": false,
         "type": "scatter",
         "x": [
          0,
          0.21212121212121213,
          0.42424242424242425,
          0.6363636363636364,
          0.8484848484848485,
          1.0606060606060606,
          1.2727272727272727,
          1.4848484848484849,
          1.696969696969697,
          1.9090909090909092,
          2.121212121212121,
          2.3333333333333335,
          2.5454545454545454,
          2.757575757575758,
          2.9696969696969697,
          3.181818181818182,
          3.393939393939394,
          3.606060606060606,
          3.8181818181818183,
          4.03030303030303,
          4.242424242424242,
          4.454545454545455,
          4.666666666666667,
          4.878787878787879,
          5.090909090909091,
          5.303030303030303,
          5.515151515151516,
          5.7272727272727275,
          5.9393939393939394,
          6.151515151515151,
          6.363636363636364,
          6.575757575757576,
          6.787878787878788,
          7,
          7.212121212121212,
          7.424242424242425,
          7.636363636363637,
          7.848484848484849,
          8.06060606060606,
          8.272727272727273,
          8.484848484848484,
          8.696969696969697,
          8.90909090909091,
          9.121212121212121,
          9.333333333333334,
          9.545454545454545,
          9.757575757575758,
          9.96969696969697,
          10.181818181818182,
          10.393939393939394,
          10.606060606060606,
          10.818181818181818,
          11.030303030303031,
          11.242424242424242,
          11.454545454545455,
          11.666666666666668,
          11.878787878787879,
          12.090909090909092,
          12.303030303030303,
          12.515151515151516,
          12.727272727272728,
          12.93939393939394,
          13.151515151515152,
          13.363636363636363,
          13.575757575757576,
          13.787878787878789,
          14,
          14.212121212121213,
          14.424242424242424,
          14.636363636363637,
          14.84848484848485,
          15.06060606060606,
          15.272727272727273,
          15.484848484848484,
          15.696969696969697,
          15.90909090909091,
          16.12121212121212,
          16.333333333333332,
          16.545454545454547,
          16.757575757575758,
          16.96969696969697,
          17.181818181818183,
          17.393939393939394,
          17.606060606060606,
          17.81818181818182,
          18.03030303030303,
          18.242424242424242,
          18.454545454545457,
          18.666666666666668,
          18.87878787878788,
          19.09090909090909,
          19.303030303030305,
          19.515151515151516,
          19.727272727272727,
          19.93939393939394,
          20.151515151515152,
          20.363636363636363,
          20.575757575757578,
          20.78787878787879,
          21
         ],
         "y": [
          0.6666666666666666,
          0.6211565230454581,
          0.5787531391828841,
          0.5392444314547264,
          0.5024327941710641,
          0.4681341112369688,
          0.4361768352823968,
          0.4064011296554777,
          0.3786580689878144,
          0.352808894333367,
          0.32872431915544,
          0.3062838826906179,
          0.2853753474554508,
          0.26589413788247596,
          0.24774281727787262,
          0.2308306004847144,
          0.21507289981437064,
          0.20039090197499793,
          0.1867111738810994,
          0.17396529537257946,
          0.16208951700631136,
          0.15102444120863703,
          0.14071472519406025,
          0.1311088041642594,
          0.12215863340297886,
          0.11381944797686866,
          0.10604953884039771,
          0.09881004422501356,
          0.09206475526916605,
          0.08577993491703931,
          0.07992414918020074,
          0.07446810991820998,
          0.06938452835184347,
          0.06464797857627014,
          0.060234770391529836,
          0.056122830814266264,
          0.052291593678087195,
          0.04872189677037975,
          0.045395885991103224,
          0.042296926054202544,
          0.039409517285008945,
          0.03671921809748406,
          0.03421257276357159,
          0.031877044113389805,
          0.029700950829659848,
          0.027673409022743435,
          0.02578427779407318,
          0.024024108515707066,
          0.02238409757232507,
          0.02085604232930358,
          0.019432300106638663,
          0.018105749953523334,
          0.016869757032391526,
          0.01571813943429298,
          0.014645137259623697,
          0.013645383809567016,
          0.012713878744157152,
          0.011845963072713317,
          0.011037295851557244,
          0.010283832472466035,
          0.009581804433268467,
          0.008927700489405896,
          0.008318249092185901,
          0.007750402025892349,
          0.007221319161911649,
          0.006728354253621872,
          0.006269041700996821,
          0.005841084218727255,
          0.0054423413461804765,
          0.005070818741730003,
          0.004724658207910131,
          0.0044021283975054625,
          0.004101616154091251,
          0.0038216184437136085,
          0.00356073483735531,
          0.0033176605065876885,
          0.0030911796973758622,
          0.002880159649396053,
          0.002683544930452017,
          0.0025003521576537607,
          0.002329665078956129,
          0.0021706299904572174,
          0.0020224514665359017,
          0.0018843883814724425,
          0.001755750202654021,
          0.0016358935368253954,
          0.0015242189121104995,
          0.0014201677797100328,
          0.001323219720278808,
          0.001232889841010352,
          0.0011487263504100869,
          0.001070308298627142,
          0.0009972434720429031,
          0.0009291664315859254,
          0.0008657366849617032,
          0.000806636983655569,
          0.0007515717361910539,
          0.00070026552970751,
          0.0006524617524625543,
          0.0006079213103696799
         ]
        }
       ],
       "layout": {
        "template": {
         "data": {
          "bar": [
           {
            "error_x": {
             "color": "#2a3f5f"
            },
            "error_y": {
             "color": "#2a3f5f"
            },
            "marker": {
             "line": {
              "color": "#E5ECF6",
              "width": 0.5
             }
            },
            "type": "bar"
           }
          ],
          "barpolar": [
           {
            "marker": {
             "line": {
              "color": "#E5ECF6",
              "width": 0.5
             }
            },
            "type": "barpolar"
           }
          ],
          "carpet": [
           {
            "aaxis": {
             "endlinecolor": "#2a3f5f",
             "gridcolor": "white",
             "linecolor": "white",
             "minorgridcolor": "white",
             "startlinecolor": "#2a3f5f"
            },
            "baxis": {
             "endlinecolor": "#2a3f5f",
             "gridcolor": "white",
             "linecolor": "white",
             "minorgridcolor": "white",
             "startlinecolor": "#2a3f5f"
            },
            "type": "carpet"
           }
          ],
          "choropleth": [
           {
            "colorbar": {
             "outlinewidth": 0,
             "ticks": ""
            },
            "type": "choropleth"
           }
          ],
          "contour": [
           {
            "colorbar": {
             "outlinewidth": 0,
             "ticks": ""
            },
            "colorscale": [
             [
              0,
              "#0d0887"
             ],
             [
              0.1111111111111111,
              "#46039f"
             ],
             [
              0.2222222222222222,
              "#7201a8"
             ],
             [
              0.3333333333333333,
              "#9c179e"
             ],
             [
              0.4444444444444444,
              "#bd3786"
             ],
             [
              0.5555555555555556,
              "#d8576b"
             ],
             [
              0.6666666666666666,
              "#ed7953"
             ],
             [
              0.7777777777777778,
              "#fb9f3a"
             ],
             [
              0.8888888888888888,
              "#fdca26"
             ],
             [
              1,
              "#f0f921"
             ]
            ],
            "type": "contour"
           }
          ],
          "contourcarpet": [
           {
            "colorbar": {
             "outlinewidth": 0,
             "ticks": ""
            },
            "type": "contourcarpet"
           }
          ],
          "heatmap": [
           {
            "colorbar": {
             "outlinewidth": 0,
             "ticks": ""
            },
            "colorscale": [
             [
              0,
              "#0d0887"
             ],
             [
              0.1111111111111111,
              "#46039f"
             ],
             [
              0.2222222222222222,
              "#7201a8"
             ],
             [
              0.3333333333333333,
              "#9c179e"
             ],
             [
              0.4444444444444444,
              "#bd3786"
             ],
             [
              0.5555555555555556,
              "#d8576b"
             ],
             [
              0.6666666666666666,
              "#ed7953"
             ],
             [
              0.7777777777777778,
              "#fb9f3a"
             ],
             [
              0.8888888888888888,
              "#fdca26"
             ],
             [
              1,
              "#f0f921"
             ]
            ],
            "type": "heatmap"
           }
          ],
          "heatmapgl": [
           {
            "colorbar": {
             "outlinewidth": 0,
             "ticks": ""
            },
            "colorscale": [
             [
              0,
              "#0d0887"
             ],
             [
              0.1111111111111111,
              "#46039f"
             ],
             [
              0.2222222222222222,
              "#7201a8"
             ],
             [
              0.3333333333333333,
              "#9c179e"
             ],
             [
              0.4444444444444444,
              "#bd3786"
             ],
             [
              0.5555555555555556,
              "#d8576b"
             ],
             [
              0.6666666666666666,
              "#ed7953"
             ],
             [
              0.7777777777777778,
              "#fb9f3a"
             ],
             [
              0.8888888888888888,
              "#fdca26"
             ],
             [
              1,
              "#f0f921"
             ]
            ],
            "type": "heatmapgl"
           }
          ],
          "histogram": [
           {
            "marker": {
             "colorbar": {
              "outlinewidth": 0,
              "ticks": ""
             }
            },
            "type": "histogram"
           }
          ],
          "histogram2d": [
           {
            "colorbar": {
             "outlinewidth": 0,
             "ticks": ""
            },
            "colorscale": [
             [
              0,
              "#0d0887"
             ],
             [
              0.1111111111111111,
              "#46039f"
             ],
             [
              0.2222222222222222,
              "#7201a8"
             ],
             [
              0.3333333333333333,
              "#9c179e"
             ],
             [
              0.4444444444444444,
              "#bd3786"
             ],
             [
              0.5555555555555556,
              "#d8576b"
             ],
             [
              0.6666666666666666,
              "#ed7953"
             ],
             [
              0.7777777777777778,
              "#fb9f3a"
             ],
             [
              0.8888888888888888,
              "#fdca26"
             ],
             [
              1,
              "#f0f921"
             ]
            ],
            "type": "histogram2d"
           }
          ],
          "histogram2dcontour": [
           {
            "colorbar": {
             "outlinewidth": 0,
             "ticks": ""
            },
            "colorscale": [
             [
              0,
              "#0d0887"
             ],
             [
              0.1111111111111111,
              "#46039f"
             ],
             [
              0.2222222222222222,
              "#7201a8"
             ],
             [
              0.3333333333333333,
              "#9c179e"
             ],
             [
              0.4444444444444444,
              "#bd3786"
             ],
             [
              0.5555555555555556,
              "#d8576b"
             ],
             [
              0.6666666666666666,
              "#ed7953"
             ],
             [
              0.7777777777777778,
              "#fb9f3a"
             ],
             [
              0.8888888888888888,
              "#fdca26"
             ],
             [
              1,
              "#f0f921"
             ]
            ],
            "type": "histogram2dcontour"
           }
          ],
          "mesh3d": [
           {
            "colorbar": {
             "outlinewidth": 0,
             "ticks": ""
            },
            "type": "mesh3d"
           }
          ],
          "parcoords": [
           {
            "line": {
             "colorbar": {
              "outlinewidth": 0,
              "ticks": ""
             }
            },
            "type": "parcoords"
           }
          ],
          "pie": [
           {
            "automargin": true,
            "type": "pie"
           }
          ],
          "scatter": [
           {
            "marker": {
             "colorbar": {
              "outlinewidth": 0,
              "ticks": ""
             }
            },
            "type": "scatter"
           }
          ],
          "scatter3d": [
           {
            "line": {
             "colorbar": {
              "outlinewidth": 0,
              "ticks": ""
             }
            },
            "marker": {
             "colorbar": {
              "outlinewidth": 0,
              "ticks": ""
             }
            },
            "type": "scatter3d"
           }
          ],
          "scattercarpet": [
           {
            "marker": {
             "colorbar": {
              "outlinewidth": 0,
              "ticks": ""
             }
            },
            "type": "scattercarpet"
           }
          ],
          "scattergeo": [
           {
            "marker": {
             "colorbar": {
              "outlinewidth": 0,
              "ticks": ""
             }
            },
            "type": "scattergeo"
           }
          ],
          "scattergl": [
           {
            "marker": {
             "colorbar": {
              "outlinewidth": 0,
              "ticks": ""
             }
            },
            "type": "scattergl"
           }
          ],
          "scattermapbox": [
           {
            "marker": {
             "colorbar": {
              "outlinewidth": 0,
              "ticks": ""
             }
            },
            "type": "scattermapbox"
           }
          ],
          "scatterpolar": [
           {
            "marker": {
             "colorbar": {
              "outlinewidth": 0,
              "ticks": ""
             }
            },
            "type": "scatterpolar"
           }
          ],
          "scatterpolargl": [
           {
            "marker": {
             "colorbar": {
              "outlinewidth": 0,
              "ticks": ""
             }
            },
            "type": "scatterpolargl"
           }
          ],
          "scatterternary": [
           {
            "marker": {
             "colorbar": {
              "outlinewidth": 0,
              "ticks": ""
             }
            },
            "type": "scatterternary"
           }
          ],
          "surface": [
           {
            "colorbar": {
             "outlinewidth": 0,
             "ticks": ""
            },
            "colorscale": [
             [
              0,
              "#0d0887"
             ],
             [
              0.1111111111111111,
              "#46039f"
             ],
             [
              0.2222222222222222,
              "#7201a8"
             ],
             [
              0.3333333333333333,
              "#9c179e"
             ],
             [
              0.4444444444444444,
              "#bd3786"
             ],
             [
              0.5555555555555556,
              "#d8576b"
             ],
             [
              0.6666666666666666,
              "#ed7953"
             ],
             [
              0.7777777777777778,
              "#fb9f3a"
             ],
             [
              0.8888888888888888,
              "#fdca26"
             ],
             [
              1,
              "#f0f921"
             ]
            ],
            "type": "surface"
           }
          ],
          "table": [
           {
            "cells": {
             "fill": {
              "color": "#EBF0F8"
             },
             "line": {
              "color": "white"
             }
            },
            "header": {
             "fill": {
              "color": "#C8D4E3"
             },
             "line": {
              "color": "white"
             }
            },
            "type": "table"
           }
          ]
         },
         "layout": {
          "annotationdefaults": {
           "arrowcolor": "#2a3f5f",
           "arrowhead": 0,
           "arrowwidth": 1
          },
          "coloraxis": {
           "colorbar": {
            "outlinewidth": 0,
            "ticks": ""
           }
          },
          "colorscale": {
           "diverging": [
            [
             0,
             "#8e0152"
            ],
            [
             0.1,
             "#c51b7d"
            ],
            [
             0.2,
             "#de77ae"
            ],
            [
             0.3,
             "#f1b6da"
            ],
            [
             0.4,
             "#fde0ef"
            ],
            [
             0.5,
             "#f7f7f7"
            ],
            [
             0.6,
             "#e6f5d0"
            ],
            [
             0.7,
             "#b8e186"
            ],
            [
             0.8,
             "#7fbc41"
            ],
            [
             0.9,
             "#4d9221"
            ],
            [
             1,
             "#276419"
            ]
           ],
           "sequential": [
            [
             0,
             "#0d0887"
            ],
            [
             0.1111111111111111,
             "#46039f"
            ],
            [
             0.2222222222222222,
             "#7201a8"
            ],
            [
             0.3333333333333333,
             "#9c179e"
            ],
            [
             0.4444444444444444,
             "#bd3786"
            ],
            [
             0.5555555555555556,
             "#d8576b"
            ],
            [
             0.6666666666666666,
             "#ed7953"
            ],
            [
             0.7777777777777778,
             "#fb9f3a"
            ],
            [
             0.8888888888888888,
             "#fdca26"
            ],
            [
             1,
             "#f0f921"
            ]
           ],
           "sequentialminus": [
            [
             0,
             "#0d0887"
            ],
            [
             0.1111111111111111,
             "#46039f"
            ],
            [
             0.2222222222222222,
             "#7201a8"
            ],
            [
             0.3333333333333333,
             "#9c179e"
            ],
            [
             0.4444444444444444,
             "#bd3786"
            ],
            [
             0.5555555555555556,
             "#d8576b"
            ],
            [
             0.6666666666666666,
             "#ed7953"
            ],
            [
             0.7777777777777778,
             "#fb9f3a"
            ],
            [
             0.8888888888888888,
             "#fdca26"
            ],
            [
             1,
             "#f0f921"
            ]
           ]
          },
          "colorway": [
           "#636efa",
           "#EF553B",
           "#00cc96",
           "#ab63fa",
           "#FFA15A",
           "#19d3f3",
           "#FF6692",
           "#B6E880",
           "#FF97FF",
           "#FECB52"
          ],
          "font": {
           "color": "#2a3f5f"
          },
          "geo": {
           "bgcolor": "white",
           "lakecolor": "white",
           "landcolor": "#E5ECF6",
           "showlakes": true,
           "showland": true,
           "subunitcolor": "white"
          },
          "hoverlabel": {
           "align": "left"
          },
          "hovermode": "closest",
          "mapbox": {
           "style": "light"
          },
          "paper_bgcolor": "white",
          "plot_bgcolor": "#E5ECF6",
          "polar": {
           "angularaxis": {
            "gridcolor": "white",
            "linecolor": "white",
            "ticks": ""
           },
           "bgcolor": "#E5ECF6",
           "radialaxis": {
            "gridcolor": "white",
            "linecolor": "white",
            "ticks": ""
           }
          },
          "scene": {
           "xaxis": {
            "backgroundcolor": "#E5ECF6",
            "gridcolor": "white",
            "gridwidth": 2,
            "linecolor": "white",
            "showbackground": true,
            "ticks": "",
            "zerolinecolor": "white"
           },
           "yaxis": {
            "backgroundcolor": "#E5ECF6",
            "gridcolor": "white",
            "gridwidth": 2,
            "linecolor": "white",
            "showbackground": true,
            "ticks": "",
            "zerolinecolor": "white"
           },
           "zaxis": {
            "backgroundcolor": "#E5ECF6",
            "gridcolor": "white",
            "gridwidth": 2,
            "linecolor": "white",
            "showbackground": true,
            "ticks": "",
            "zerolinecolor": "white"
           }
          },
          "shapedefaults": {
           "line": {
            "color": "#2a3f5f"
           }
          },
          "ternary": {
           "aaxis": {
            "gridcolor": "white",
            "linecolor": "white",
            "ticks": ""
           },
           "baxis": {
            "gridcolor": "white",
            "linecolor": "white",
            "ticks": ""
           },
           "bgcolor": "#E5ECF6",
           "caxis": {
            "gridcolor": "white",
            "linecolor": "white",
            "ticks": ""
           }
          },
          "title": {
           "x": 0.05
          },
          "xaxis": {
           "automargin": true,
           "gridcolor": "white",
           "linecolor": "white",
           "ticks": "",
           "title": {
            "standoff": 15
           },
           "zerolinecolor": "white",
           "zerolinewidth": 2
          },
          "yaxis": {
           "automargin": true,
           "gridcolor": "white",
           "linecolor": "white",
           "ticks": "",
           "title": {
            "standoff": 15
           },
           "zerolinecolor": "white",
           "zerolinewidth": 2
          }
         }
        },
        "xaxis": {
         "title": {
          "text": "time (s)"
         }
        },
        "yaxis": {
         "title": {
          "text": "response"
         }
        }
       }
      },
      "text/html": [
       "<div>                            <div id=\"0a2eaceb-ff1e-4be6-890f-bf90b01cba17\" class=\"plotly-graph-div\" style=\"height:525px; width:100%;\"></div>            <script type=\"text/javascript\">                require([\"plotly\"], function(Plotly) {                    window.PLOTLYENV=window.PLOTLYENV || {};                                    if (document.getElementById(\"0a2eaceb-ff1e-4be6-890f-bf90b01cba17\")) {                    Plotly.newPlot(                        \"0a2eaceb-ff1e-4be6-890f-bf90b01cba17\",                        [{\"line\": {\"shape\": \"linear\"}, \"mode\": \"lines\", \"name\": \"tf 1\", \"showlegend\": false, \"type\": \"scatter\", \"x\": [0.0, 0.21212121212121213, 0.42424242424242425, 0.6363636363636364, 0.8484848484848485, 1.0606060606060606, 1.2727272727272727, 1.4848484848484849, 1.696969696969697, 1.9090909090909092, 2.121212121212121, 2.3333333333333335, 2.5454545454545454, 2.757575757575758, 2.9696969696969697, 3.181818181818182, 3.393939393939394, 3.606060606060606, 3.8181818181818183, 4.03030303030303, 4.242424242424242, 4.454545454545455, 4.666666666666667, 4.878787878787879, 5.090909090909091, 5.303030303030303, 5.515151515151516, 5.7272727272727275, 5.9393939393939394, 6.151515151515151, 6.363636363636364, 6.575757575757576, 6.787878787878788, 7.0, 7.212121212121212, 7.424242424242425, 7.636363636363637, 7.848484848484849, 8.06060606060606, 8.272727272727273, 8.484848484848484, 8.696969696969697, 8.90909090909091, 9.121212121212121, 9.333333333333334, 9.545454545454545, 9.757575757575758, 9.96969696969697, 10.181818181818182, 10.393939393939394, 10.606060606060606, 10.818181818181818, 11.030303030303031, 11.242424242424242, 11.454545454545455, 11.666666666666668, 11.878787878787879, 12.090909090909092, 12.303030303030303, 12.515151515151516, 12.727272727272728, 12.93939393939394, 13.151515151515152, 13.363636363636363, 13.575757575757576, 13.787878787878789, 14.0, 14.212121212121213, 14.424242424242424, 14.636363636363637, 14.84848484848485, 15.06060606060606, 15.272727272727273, 15.484848484848484, 15.696969696969697, 15.90909090909091, 16.12121212121212, 16.333333333333332, 16.545454545454547, 16.757575757575758, 16.96969696969697, 17.181818181818183, 17.393939393939394, 17.606060606060606, 17.81818181818182, 18.03030303030303, 18.242424242424242, 18.454545454545457, 18.666666666666668, 18.87878787878788, 19.09090909090909, 19.303030303030305, 19.515151515151516, 19.727272727272727, 19.93939393939394, 20.151515151515152, 20.363636363636363, 20.575757575757578, 20.78787878787879, 21.0], \"y\": [0.6666666666666666, 0.6211565230454581, 0.5787531391828841, 0.5392444314547264, 0.5024327941710641, 0.4681341112369688, 0.4361768352823968, 0.4064011296554777, 0.3786580689878144, 0.352808894333367, 0.32872431915544, 0.3062838826906179, 0.2853753474554508, 0.26589413788247596, 0.24774281727787262, 0.2308306004847144, 0.21507289981437064, 0.20039090197499793, 0.1867111738810994, 0.17396529537257946, 0.16208951700631136, 0.15102444120863703, 0.14071472519406025, 0.1311088041642594, 0.12215863340297886, 0.11381944797686866, 0.10604953884039771, 0.09881004422501356, 0.09206475526916605, 0.08577993491703931, 0.07992414918020074, 0.07446810991820998, 0.06938452835184347, 0.06464797857627014, 0.060234770391529836, 0.056122830814266264, 0.052291593678087195, 0.04872189677037975, 0.045395885991103224, 0.042296926054202544, 0.039409517285008945, 0.03671921809748406, 0.03421257276357159, 0.031877044113389805, 0.029700950829659848, 0.027673409022743435, 0.02578427779407318, 0.024024108515707066, 0.02238409757232507, 0.02085604232930358, 0.019432300106638663, 0.018105749953523334, 0.016869757032391526, 0.01571813943429298, 0.014645137259623697, 0.013645383809567016, 0.012713878744157152, 0.011845963072713317, 0.011037295851557244, 0.010283832472466035, 0.009581804433268467, 0.008927700489405896, 0.008318249092185901, 0.007750402025892349, 0.007221319161911649, 0.006728354253621872, 0.006269041700996821, 0.005841084218727255, 0.0054423413461804765, 0.005070818741730003, 0.004724658207910131, 0.0044021283975054625, 0.004101616154091251, 0.0038216184437136085, 0.00356073483735531, 0.0033176605065876885, 0.0030911796973758622, 0.002880159649396053, 0.002683544930452017, 0.0025003521576537607, 0.002329665078956129, 0.0021706299904572174, 0.0020224514665359017, 0.0018843883814724425, 0.001755750202654021, 0.0016358935368253954, 0.0015242189121104995, 0.0014201677797100328, 0.001323219720278808, 0.001232889841010352, 0.0011487263504100869, 0.001070308298627142, 0.0009972434720429031, 0.0009291664315859254, 0.0008657366849617032, 0.000806636983655569, 0.0007515717361910539, 0.00070026552970751, 0.0006524617524625543, 0.0006079213103696799]}],                        {\"template\": {\"data\": {\"bar\": [{\"error_x\": {\"color\": \"#2a3f5f\"}, \"error_y\": {\"color\": \"#2a3f5f\"}, \"marker\": {\"line\": {\"color\": \"#E5ECF6\", \"width\": 0.5}}, \"type\": \"bar\"}], \"barpolar\": [{\"marker\": {\"line\": {\"color\": \"#E5ECF6\", \"width\": 0.5}}, \"type\": \"barpolar\"}], \"carpet\": [{\"aaxis\": {\"endlinecolor\": \"#2a3f5f\", \"gridcolor\": \"white\", \"linecolor\": \"white\", \"minorgridcolor\": \"white\", \"startlinecolor\": \"#2a3f5f\"}, \"baxis\": {\"endlinecolor\": \"#2a3f5f\", \"gridcolor\": \"white\", \"linecolor\": \"white\", \"minorgridcolor\": \"white\", \"startlinecolor\": \"#2a3f5f\"}, \"type\": \"carpet\"}], \"choropleth\": [{\"colorbar\": {\"outlinewidth\": 0, \"ticks\": \"\"}, \"type\": \"choropleth\"}], \"contour\": [{\"colorbar\": {\"outlinewidth\": 0, \"ticks\": \"\"}, \"colorscale\": [[0.0, \"#0d0887\"], [0.1111111111111111, \"#46039f\"], [0.2222222222222222, \"#7201a8\"], [0.3333333333333333, \"#9c179e\"], [0.4444444444444444, \"#bd3786\"], [0.5555555555555556, \"#d8576b\"], [0.6666666666666666, \"#ed7953\"], [0.7777777777777778, \"#fb9f3a\"], [0.8888888888888888, \"#fdca26\"], [1.0, \"#f0f921\"]], \"type\": \"contour\"}], \"contourcarpet\": [{\"colorbar\": {\"outlinewidth\": 0, \"ticks\": \"\"}, \"type\": \"contourcarpet\"}], \"heatmap\": [{\"colorbar\": {\"outlinewidth\": 0, \"ticks\": \"\"}, \"colorscale\": [[0.0, \"#0d0887\"], [0.1111111111111111, \"#46039f\"], [0.2222222222222222, \"#7201a8\"], [0.3333333333333333, \"#9c179e\"], [0.4444444444444444, \"#bd3786\"], [0.5555555555555556, \"#d8576b\"], [0.6666666666666666, \"#ed7953\"], [0.7777777777777778, \"#fb9f3a\"], [0.8888888888888888, \"#fdca26\"], [1.0, \"#f0f921\"]], \"type\": \"heatmap\"}], \"heatmapgl\": [{\"colorbar\": {\"outlinewidth\": 0, \"ticks\": \"\"}, \"colorscale\": [[0.0, \"#0d0887\"], [0.1111111111111111, \"#46039f\"], [0.2222222222222222, \"#7201a8\"], [0.3333333333333333, \"#9c179e\"], [0.4444444444444444, \"#bd3786\"], [0.5555555555555556, \"#d8576b\"], [0.6666666666666666, \"#ed7953\"], [0.7777777777777778, \"#fb9f3a\"], [0.8888888888888888, \"#fdca26\"], [1.0, \"#f0f921\"]], \"type\": \"heatmapgl\"}], \"histogram\": [{\"marker\": {\"colorbar\": {\"outlinewidth\": 0, \"ticks\": \"\"}}, \"type\": \"histogram\"}], \"histogram2d\": [{\"colorbar\": {\"outlinewidth\": 0, \"ticks\": \"\"}, \"colorscale\": [[0.0, \"#0d0887\"], [0.1111111111111111, \"#46039f\"], [0.2222222222222222, \"#7201a8\"], [0.3333333333333333, \"#9c179e\"], [0.4444444444444444, \"#bd3786\"], [0.5555555555555556, \"#d8576b\"], [0.6666666666666666, \"#ed7953\"], [0.7777777777777778, \"#fb9f3a\"], [0.8888888888888888, \"#fdca26\"], [1.0, \"#f0f921\"]], \"type\": \"histogram2d\"}], \"histogram2dcontour\": [{\"colorbar\": {\"outlinewidth\": 0, \"ticks\": \"\"}, \"colorscale\": [[0.0, \"#0d0887\"], [0.1111111111111111, \"#46039f\"], [0.2222222222222222, \"#7201a8\"], [0.3333333333333333, \"#9c179e\"], [0.4444444444444444, \"#bd3786\"], [0.5555555555555556, \"#d8576b\"], [0.6666666666666666, \"#ed7953\"], [0.7777777777777778, \"#fb9f3a\"], [0.8888888888888888, \"#fdca26\"], [1.0, \"#f0f921\"]], \"type\": \"histogram2dcontour\"}], \"mesh3d\": [{\"colorbar\": {\"outlinewidth\": 0, \"ticks\": \"\"}, \"type\": \"mesh3d\"}], \"parcoords\": [{\"line\": {\"colorbar\": {\"outlinewidth\": 0, \"ticks\": \"\"}}, \"type\": \"parcoords\"}], \"pie\": [{\"automargin\": true, \"type\": \"pie\"}], \"scatter\": [{\"marker\": {\"colorbar\": {\"outlinewidth\": 0, \"ticks\": \"\"}}, \"type\": \"scatter\"}], \"scatter3d\": [{\"line\": {\"colorbar\": {\"outlinewidth\": 0, \"ticks\": \"\"}}, \"marker\": {\"colorbar\": {\"outlinewidth\": 0, \"ticks\": \"\"}}, \"type\": \"scatter3d\"}], \"scattercarpet\": [{\"marker\": {\"colorbar\": {\"outlinewidth\": 0, \"ticks\": \"\"}}, \"type\": \"scattercarpet\"}], \"scattergeo\": [{\"marker\": {\"colorbar\": {\"outlinewidth\": 0, \"ticks\": \"\"}}, \"type\": \"scattergeo\"}], \"scattergl\": [{\"marker\": {\"colorbar\": {\"outlinewidth\": 0, \"ticks\": \"\"}}, \"type\": \"scattergl\"}], \"scattermapbox\": [{\"marker\": {\"colorbar\": {\"outlinewidth\": 0, \"ticks\": \"\"}}, \"type\": \"scattermapbox\"}], \"scatterpolar\": [{\"marker\": {\"colorbar\": {\"outlinewidth\": 0, \"ticks\": \"\"}}, \"type\": \"scatterpolar\"}], \"scatterpolargl\": [{\"marker\": {\"colorbar\": {\"outlinewidth\": 0, \"ticks\": \"\"}}, \"type\": \"scatterpolargl\"}], \"scatterternary\": [{\"marker\": {\"colorbar\": {\"outlinewidth\": 0, \"ticks\": \"\"}}, \"type\": \"scatterternary\"}], \"surface\": [{\"colorbar\": {\"outlinewidth\": 0, \"ticks\": \"\"}, \"colorscale\": [[0.0, \"#0d0887\"], [0.1111111111111111, \"#46039f\"], [0.2222222222222222, \"#7201a8\"], [0.3333333333333333, \"#9c179e\"], [0.4444444444444444, \"#bd3786\"], [0.5555555555555556, \"#d8576b\"], [0.6666666666666666, \"#ed7953\"], [0.7777777777777778, \"#fb9f3a\"], [0.8888888888888888, \"#fdca26\"], [1.0, \"#f0f921\"]], \"type\": \"surface\"}], \"table\": [{\"cells\": {\"fill\": {\"color\": \"#EBF0F8\"}, \"line\": {\"color\": \"white\"}}, \"header\": {\"fill\": {\"color\": \"#C8D4E3\"}, \"line\": {\"color\": \"white\"}}, \"type\": \"table\"}]}, \"layout\": {\"annotationdefaults\": {\"arrowcolor\": \"#2a3f5f\", \"arrowhead\": 0, \"arrowwidth\": 1}, \"coloraxis\": {\"colorbar\": {\"outlinewidth\": 0, \"ticks\": \"\"}}, \"colorscale\": {\"diverging\": [[0, \"#8e0152\"], [0.1, \"#c51b7d\"], [0.2, \"#de77ae\"], [0.3, \"#f1b6da\"], [0.4, \"#fde0ef\"], [0.5, \"#f7f7f7\"], [0.6, \"#e6f5d0\"], [0.7, \"#b8e186\"], [0.8, \"#7fbc41\"], [0.9, \"#4d9221\"], [1, \"#276419\"]], \"sequential\": [[0.0, \"#0d0887\"], [0.1111111111111111, \"#46039f\"], [0.2222222222222222, \"#7201a8\"], [0.3333333333333333, \"#9c179e\"], [0.4444444444444444, \"#bd3786\"], [0.5555555555555556, \"#d8576b\"], [0.6666666666666666, \"#ed7953\"], [0.7777777777777778, \"#fb9f3a\"], [0.8888888888888888, \"#fdca26\"], [1.0, \"#f0f921\"]], \"sequentialminus\": [[0.0, \"#0d0887\"], [0.1111111111111111, \"#46039f\"], [0.2222222222222222, \"#7201a8\"], [0.3333333333333333, \"#9c179e\"], [0.4444444444444444, \"#bd3786\"], [0.5555555555555556, \"#d8576b\"], [0.6666666666666666, \"#ed7953\"], [0.7777777777777778, \"#fb9f3a\"], [0.8888888888888888, \"#fdca26\"], [1.0, \"#f0f921\"]]}, \"colorway\": [\"#636efa\", \"#EF553B\", \"#00cc96\", \"#ab63fa\", \"#FFA15A\", \"#19d3f3\", \"#FF6692\", \"#B6E880\", \"#FF97FF\", \"#FECB52\"], \"font\": {\"color\": \"#2a3f5f\"}, \"geo\": {\"bgcolor\": \"white\", \"lakecolor\": \"white\", \"landcolor\": \"#E5ECF6\", \"showlakes\": true, \"showland\": true, \"subunitcolor\": \"white\"}, \"hoverlabel\": {\"align\": \"left\"}, \"hovermode\": \"closest\", \"mapbox\": {\"style\": \"light\"}, \"paper_bgcolor\": \"white\", \"plot_bgcolor\": \"#E5ECF6\", \"polar\": {\"angularaxis\": {\"gridcolor\": \"white\", \"linecolor\": \"white\", \"ticks\": \"\"}, \"bgcolor\": \"#E5ECF6\", \"radialaxis\": {\"gridcolor\": \"white\", \"linecolor\": \"white\", \"ticks\": \"\"}}, \"scene\": {\"xaxis\": {\"backgroundcolor\": \"#E5ECF6\", \"gridcolor\": \"white\", \"gridwidth\": 2, \"linecolor\": \"white\", \"showbackground\": true, \"ticks\": \"\", \"zerolinecolor\": \"white\"}, \"yaxis\": {\"backgroundcolor\": \"#E5ECF6\", \"gridcolor\": \"white\", \"gridwidth\": 2, \"linecolor\": \"white\", \"showbackground\": true, \"ticks\": \"\", \"zerolinecolor\": \"white\"}, \"zaxis\": {\"backgroundcolor\": \"#E5ECF6\", \"gridcolor\": \"white\", \"gridwidth\": 2, \"linecolor\": \"white\", \"showbackground\": true, \"ticks\": \"\", \"zerolinecolor\": \"white\"}}, \"shapedefaults\": {\"line\": {\"color\": \"#2a3f5f\"}}, \"ternary\": {\"aaxis\": {\"gridcolor\": \"white\", \"linecolor\": \"white\", \"ticks\": \"\"}, \"baxis\": {\"gridcolor\": \"white\", \"linecolor\": \"white\", \"ticks\": \"\"}, \"bgcolor\": \"#E5ECF6\", \"caxis\": {\"gridcolor\": \"white\", \"linecolor\": \"white\", \"ticks\": \"\"}}, \"title\": {\"x\": 0.05}, \"xaxis\": {\"automargin\": true, \"gridcolor\": \"white\", \"linecolor\": \"white\", \"ticks\": \"\", \"title\": {\"standoff\": 15}, \"zerolinecolor\": \"white\", \"zerolinewidth\": 2}, \"yaxis\": {\"automargin\": true, \"gridcolor\": \"white\", \"linecolor\": \"white\", \"ticks\": \"\", \"title\": {\"standoff\": 15}, \"zerolinecolor\": \"white\", \"zerolinewidth\": 2}}}, \"xaxis\": {\"title\": {\"text\": \"time (s)\"}}, \"yaxis\": {\"title\": {\"text\": \"response\"}}},                        {\"responsive\": true}                    ).then(function(){\n",
       "                            \n",
       "var gd = document.getElementById('0a2eaceb-ff1e-4be6-890f-bf90b01cba17');\n",
       "var x = new MutationObserver(function (mutations, observer) {{\n",
       "        var display = window.getComputedStyle(gd).display;\n",
       "        if (!display || display === 'none') {{\n",
       "            console.log([gd, 'removed!']);\n",
       "            Plotly.purge(gd);\n",
       "            observer.disconnect();\n",
       "        }}\n",
       "}});\n",
       "\n",
       "// Listen for the removal of the full notebook cells\n",
       "var notebookContainer = gd.closest('#notebook-container');\n",
       "if (notebookContainer) {{\n",
       "    x.observe(notebookContainer, {childList: true});\n",
       "}}\n",
       "\n",
       "// Listen for the clearing of the current output cell\n",
       "var outputEl = gd.closest('.output');\n",
       "if (outputEl) {{\n",
       "    x.observe(outputEl, {childList: true});\n",
       "}}\n",
       "\n",
       "                        })                };                });            </script>        </div>"
      ]
     },
     "metadata": {},
     "output_type": "display_data"
    }
   ],
   "source": [
    "impulse([F1])"
   ]
  },
  {
   "cell_type": "code",
   "execution_count": 5,
   "metadata": {},
   "outputs": [
    {
     "data": {
      "application/vnd.plotly.v1+json": {
       "config": {
        "plotlyServerURL": "https://plot.ly"
       },
       "data": [
        {
         "line": {
          "shape": "linear"
         },
         "mode": "lines",
         "name": "tf 1",
         "showlegend": false,
         "type": "scatter",
         "x": [
          0,
          0.13741647427492792,
          0.27483294854985585,
          0.4122494228247838,
          0.5496658970997117,
          0.6870823713746397,
          0.8244988456495675,
          0.9619153199244954,
          1.0993317941994234,
          1.2367482684743514,
          1.3741647427492794,
          1.5115812170242071,
          1.648997691299135,
          1.786414165574063,
          1.9238306398489908,
          2.061247114123919,
          2.198663588398847,
          2.3360800626737745,
          2.4734965369487028,
          2.6109130112236305,
          2.7483294854985587,
          2.8857459597734865,
          3.0231624340484142,
          3.1605789083233424,
          3.29799538259827,
          3.435411856873198,
          3.572828331148126,
          3.710244805423054,
          3.8476612796979817,
          3.98507775397291,
          4.122494228247838,
          4.259910702522766,
          4.397327176797694,
          4.534743651072621,
          4.672160125347549,
          4.809576599622478,
          4.9469930738974055,
          5.084409548172333,
          5.221826022447261,
          5.359242496722189,
          5.496658970997117,
          5.634075445272045,
          5.771491919546973,
          5.908908393821901,
          6.0463248680968285,
          6.183741342371756,
          6.321157816646685,
          6.458574290921613,
          6.59599076519654,
          6.733407239471468,
          6.870823713746396,
          7.0082401880213245,
          7.145656662296252,
          7.28307313657118,
          7.420489610846108,
          7.557906085121036,
          7.695322559395963,
          7.832739033670892,
          7.97015550794582,
          8.107571982220747,
          8.244988456495676,
          8.382404930770603,
          8.519821405045532,
          8.657237879320459,
          8.794654353595387,
          8.932070827870316,
          9.069487302145243,
          9.206903776420171,
          9.344320250695098,
          9.481736724970027,
          9.619153199244955,
          9.756569673519882,
          9.893986147794811,
          10.031402622069738,
          10.168819096344667,
          10.306235570619595,
          10.443652044894522,
          10.58106851916945,
          10.718484993444378,
          10.855901467719306,
          10.993317941994235,
          11.130734416269162,
          11.26815089054409,
          11.405567364819017,
          11.542983839093946,
          11.680400313368873,
          11.817816787643801,
          11.95523326191873,
          12.092649736193657,
          12.230066210468586,
          12.367482684743512,
          12.504899159018441,
          12.64231563329337,
          12.779732107568297,
          12.917148581843225,
          13.054565056118152,
          13.19198153039308,
          13.32939800466801,
          13.466814478942936,
          13.604230953217865,
          13.741647427492792,
          13.87906390176772,
          14.016480376042649,
          14.153896850317576,
          14.291313324592505,
          14.428729798867431,
          14.56614627314236,
          14.703562747417289,
          14.840979221692216,
          14.978395695967144,
          15.115812170242071,
          15.253228644517,
          15.390645118791927,
          15.528061593066855,
          15.665478067341784,
          15.80289454161671,
          15.94031101589164,
          16.077727490166566,
          16.215143964441495,
          16.352560438716424,
          16.489976912991352,
          16.627393387266277,
          16.764809861541206,
          16.902226335816135,
          17.039642810091063,
          17.177059284365992,
          17.314475758640917,
          17.451892232915846,
          17.589308707190774,
          17.726725181465703,
          17.86414165574063,
          18.001558130015557,
          18.138974604290485,
          18.276391078565414,
          18.413807552840343,
          18.55122402711527,
          18.688640501390196,
          18.826056975665125,
          18.963473449940054,
          19.100889924214982,
          19.23830639848991,
          19.375722872764836,
          19.513139347039765,
          19.650555821314693,
          19.787972295589622,
          19.92538876986455,
          20.062805244139476,
          20.200221718414404,
          20.337638192689333,
          20.47505466696426,
          20.61247114123919,
          20.749887615514115,
          20.887304089789044,
          21.024720564063973,
          21.1621370383389,
          21.29955351261383,
          21.436969986888755,
          21.574386461163684,
          21.711802935438612,
          21.84921940971354,
          21.98663588398847,
          22.124052358263395,
          22.261468832538323,
          22.398885306813252,
          22.53630178108818,
          22.673718255363106,
          22.811134729638034,
          22.948551203912963,
          23.08596767818789,
          23.22338415246282,
          23.360800626737745,
          23.498217101012674,
          23.635633575287603,
          23.77305004956253,
          23.91046652383746,
          24.047882998112385,
          24.185299472387314,
          24.322715946662242,
          24.46013242093717,
          24.5975488952121,
          24.734965369487025,
          24.872381843761953,
          25.009798318036882,
          25.14721479231181,
          25.28463126658674,
          25.422047740861665,
          25.559464215136593,
          25.696880689411522,
          25.83429716368645,
          25.97171363796138,
          26.109130112236304,
          26.246546586511233,
          26.38396306078616,
          26.52137953506109,
          26.65879600933602,
          26.796212483610944,
          26.933628957885873,
          27.0710454321608,
          27.20846190643573,
          27.34587838071066,
          27.483294854985584,
          27.620711329260512,
          27.75812780353544,
          27.89554427781037,
          28.032960752085298,
          28.170377226360223,
          28.307793700635152,
          28.44521017491008,
          28.58262664918501,
          28.720043123459938,
          28.857459597734863,
          28.99487607200979,
          29.13229254628472,
          29.26970902055965,
          29.407125494834577,
          29.544541969109503,
          29.68195844338443,
          29.81937491765936,
          29.95679139193429,
          30.094207866209217,
          30.231624340484142,
          30.36904081475907,
          30.506457289034,
          30.643873763308928,
          30.781290237583853,
          30.918706711858782,
          31.05612318613371,
          31.19353966040864,
          31.330956134683568,
          31.468372608958493,
          31.60578908323342,
          31.74320555750835,
          31.88062203178328,
          32.018038506058204,
          32.15545498033313,
          32.29287145460806,
          32.43028792888299,
          32.56770440315792,
          32.70512087743285,
          32.842537351707776,
          32.979953825982705,
          33.11737030025763,
          33.254786774532555,
          33.39220324880748,
          33.52961972308241,
          33.66703619735734,
          33.80445267163227,
          33.9418691459072,
          34.07928562018213,
          34.216702094457055,
          34.354118568731984,
          34.49153504300691,
          34.628951517281834,
          34.76636799155676,
          34.90378446583169,
          35.04120094010662,
          35.17861741438155,
          35.31603388865648,
          35.453450362931406,
          35.590866837206335,
          35.72828331148126,
          35.865699785756185,
          36.00311626003111,
          36.14053273430604,
          36.27794920858097,
          36.4153656828559,
          36.55278215713083,
          36.69019863140576,
          36.827615105680685,
          36.965031579955614,
          37.10244805423054,
          37.239864528505464,
          37.37728100278039,
          37.51469747705532,
          37.65211395133025,
          37.78953042560518,
          37.92694689988011,
          38.064363374155036,
          38.201779848429965,
          38.33919632270489,
          38.47661279697982,
          38.61402927125474,
          38.75144574552967,
          38.8888622198046,
          39.02627869407953,
          39.16369516835446,
          39.30111164262939,
          39.438528116904315,
          39.575944591179244,
          39.71336106545417,
          39.8507775397291,
          39.98819401400402,
          40.12561048827895,
          40.26302696255388,
          40.40044343682881,
          40.53785991110374,
          40.675276385378666,
          40.812692859653595,
          40.95010933392852,
          41.08752580820345,
          41.22494228247838,
          41.3623587567533,
          41.49977523102823,
          41.63719170530316,
          41.77460817957809,
          41.91202465385302,
          42.049441128127945,
          42.186857602402874,
          42.3242740766778,
          42.46169055095273,
          42.59910702522766,
          42.73652349950258,
          42.87393997377751,
          43.01135644805244,
          43.14877292232737,
          43.286189396602296,
          43.423605870877225,
          43.56102234515215,
          43.69843881942708,
          43.83585529370201,
          43.97327176797694,
          44.11068824225186,
          44.24810471652679,
          44.38552119080172,
          44.52293766507665,
          44.660354139351575,
          44.797770613626504,
          44.93518708790143,
          45.07260356217636,
          45.21002003645129,
          45.34743651072621,
          45.48485298500114,
          45.62226945927607,
          45.759685933551,
          45.897102407825926,
          46.034518882100855,
          46.17193535637578,
          46.30935183065071,
          46.44676830492564,
          46.58418477920057,
          46.72160125347549,
          46.85901772775042,
          46.99643420202535,
          47.13385067630028,
          47.271267150575206,
          47.408683624850134,
          47.54610009912506,
          47.68351657339999,
          47.82093304767492,
          47.95834952194985,
          48.09576599622477,
          48.2331824704997,
          48.37059894477463,
          48.508015419049556,
          48.645431893324485,
          48.782848367599414,
          48.92026484187434,
          49.05768131614927,
          49.1950977904242,
          49.33251426469913,
          49.46993073897405,
          49.60734721324898,
          49.74476368752391,
          49.882180161798836,
          50.019596636073764,
          50.15701311034869,
          50.29442958462362,
          50.43184605889855,
          50.56926253317348,
          50.70667900744841,
          50.84409548172333,
          50.98151195599826,
          51.118928430273186,
          51.256344904548115,
          51.393761378823044,
          51.53117785309797,
          51.6685943273729,
          51.80601080164783,
          51.94342727592276,
          52.08084375019769,
          52.21826022447261,
          52.35567669874754,
          52.493093173022466,
          52.630509647297394,
          52.76792612157232,
          52.90534259584725,
          53.04275907012218,
          53.18017554439711,
          53.31759201867204,
          53.45500849294696,
          53.59242496722189,
          53.729841441496816,
          53.867257915771745,
          54.004674390046674,
          54.1420908643216,
          54.27950733859653,
          54.41692381287146,
          54.55434028714639,
          54.69175676142132,
          54.82917323569624,
          54.96658970997117,
          55.104006184246096,
          55.241422658521024,
          55.37883913279595,
          55.51625560707088,
          55.65367208134581,
          55.79108855562074,
          55.92850502989567,
          56.065921504170596,
          56.20333797844552,
          56.34075445272045,
          56.478170926995375,
          56.615587401270304,
          56.75300387554523,
          56.89042034982016,
          57.02783682409509,
          57.16525329837002,
          57.30266977264495,
          57.440086246919876,
          57.5775027211948,
          57.714919195469726,
          57.852335669744654,
          57.98975214401958,
          58.12716861829451,
          58.26458509256944,
          58.40200156684437,
          58.5394180411193,
          58.676834515394226,
          58.814250989669155,
          58.95166746394408,
          59.089083938219005,
          59.226500412493934,
          59.36391688676886,
          59.50133336104379,
          59.63874983531872,
          59.77616630959365,
          59.91358278386858,
          60.050999258143506,
          60.188415732418434,
          60.325832206693356,
          60.463248680968285,
          60.60066515524321,
          60.73808162951814,
          60.87549810379307,
          61.012914578068,
          61.15033105234293,
          61.287747526617856,
          61.425164000892785,
          61.56258047516771,
          61.699996949442635,
          61.837413423717564,
          61.97482989799249,
          62.11224637226742,
          62.24966284654235,
          62.38707932081728,
          62.52449579509221,
          62.661912269367136,
          62.799328743642064,
          62.936745217916986,
          63.074161692191915,
          63.21157816646684,
          63.34899464074177,
          63.4864111150167,
          63.62382758929163,
          63.76124406356656,
          63.89866053784149,
          64.03607701211641,
          64.17349348639134,
          64.31090996066627,
          64.4483264349412,
          64.58574290921612,
          64.72315938349105,
          64.86057585776598,
          64.99799233204091,
          65.13540880631584,
          65.27282528059077,
          65.4102417548657,
          65.54765822914062,
          65.68507470341555,
          65.82249117769048,
          65.95990765196541,
          66.09732412624034,
          66.23474060051527,
          66.37215707479018,
          66.50957354906511,
          66.64699002334004,
          66.78440649761497,
          66.9218229718899,
          67.05923944616482,
          67.19665592043975,
          67.33407239471468,
          67.47148886898961,
          67.60890534326454,
          67.74632181753947,
          67.8837382918144,
          68.02115476608932,
          68.15857124036425,
          68.29598771463918,
          68.43340418891411,
          68.57082066318904
         ],
         "y": [
          0,
          0.09923656271298045,
          0.14847952359436487,
          0.17223760303022642,
          0.18301360851065474,
          0.1871855582957905,
          0.18800692509183822,
          0.1871372044391695,
          0.18542273112936997,
          0.18329501112232327,
          0.18097392974490908,
          0.17857141790733547,
          0.1761443371726607,
          0.17372145892432198,
          0.17131722768912108,
          0.16893878242362953,
          0.16658953836446652,
          0.16427101425759827,
          0.16198376447180038,
          0.15972785447114082,
          0.15750310333356504,
          0.15530920742910193,
          0.1531458034724704,
          0.15101250064823443,
          0.14890889695895054,
          0.14683458752526893,
          0.14478916878089507,
          0.1427722405738701,
          0.140783407200304,
          0.13882227789403387,
          0.1368884670392492,
          0.13498159424230652,
          0.13310128433222082,
          0.1312471673252749,
          0.12941887837181992,
          0.12761605769448078,
          0.12583835052245892,
          0.12408540702432076,
          0.12235688224048262,
          0.12065243601600383,
          0.11897173293399345,
          0.11731444224978009,
          0.11568023782591472,
          0.1140687980680361,
          0.11247980586160782,
          0.11091294850952532,
          0.10936791767058657,
          0.10784440929881674,
          0.10634212358363673,
          0.10486076489086442,
          0.1034000417045373,
          0.1019596665695454,
          0.10053935603506324,
          0.09913883059876967,
          0.09775781465184481,
          0.09639603642473307,
          0.09505322793366176,
          0.09372912492790467,
          0.0924234668377803,
          0.09113599672337445,
          0.08986646122397714,
          0.08861461050822379,
          0.0873801982249311,
          0.08616298145461763,
          0.08496272066169985,
          0.08377917964735397,
          0.08261212550303448,
          0.08146132856464022,
          0.08032656236731882,
          0.0792076036009008,
          0.07810423206595447,
          0.07701623063045293,
          0.0759433851870448,
          0.07488548461092008,
          0.07384232071826305,
          0.07281368822528375,
          0.07179938470782041,
          0.07079921056150437,
          0.06981296896248006,
          0.06884046582867212,
          0.06788150978159208,
          0.06693591210867701,
          0.06600348672615296,
          0.06508405014241546,
          0.06417742142192044,
          0.0632834221495779,
          0.06240187639564168,
          0.06153261068108839,
          0.060675453943478466,
          0.059830237503292916,
          0.05899679503073891,
          0.05817496251301783,
          0.05736457822204928,
          0.05656548268264463,
          0.05577751864112399,
          0.05500053103437035,
          0.05423436695931473,
          0.05347887564284645,
          0.052733908412142594,
          0.05199931866541071,
          0.051274961843039105,
          0.05056069539914904,
          0.04985637877354318,
          0.04916187336404478,
          0.04847704249922227,
          0.0478017514114937,
          0.047135867210605906,
          0.04647925885748308,
          0.045831797138439656,
          0.045193354639752395,
          0.04456380572258668,
          0.04394302649827214,
          0.043330894803922604,
          0.04272729017839574,
          0.04213209383858755,
          0.04154518865605711,
          0.04096645913397689,
          0.04039579138440419,
          0.039833073105869185,
          0.03927819356127515,
          0.03873104355610657,
          0.03819151541694079,
          0.037659502970258996,
          0.037134901521552396,
          0.0366176078347194,
          0.036107520111749856,
          0.035604537972692266,
          0.03510856243590001,
          0.03461949589855286,
          0.0341372421174497,
          0.033661706190068905,
          0.03319279453589248,
          0.03273041487799042,
          0.03227447622486157,
          0.031824888852527405,
          0.031381564286875344,
          0.03094441528624792,
          0.03051335582427455,
          0.030088301072942435,
          0.0296691673859033,
          0.029255872282012645,
          0.028848334429098343,
          0.02844647362795529,
          0.02805021079656304,
          0.02765946795452331,
          0.027274168207714226,
          0.02689423573315836,
          0.026519595764101574,
          0.026150174575299688,
          0.025785899468510128,
          0.025426698758185665,
          0.025072501757367444,
          0.02472323876377453,
          0.02437884104608723,
          0.024039240830421468,
          0.02370437128699161,
          0.023374166516959047,
          0.023048561539463993,
          0.02272749227883793,
          0.02241089555199418,
          0.022098709055994134,
          0.02179087135578668,
          0.021487321872118437,
          0.021188000869612363,
          0.02089284944501248,
          0.020601809515592318,
          0.020314823807724838,
          0.02003183584561158,
          0.019752789940168807,
          0.019477631178068486,
          0.019206305410931913,
          0.018938759244673867,
          0.01867494002899522,
          0.0184147958470219,
          0.018158275505088202,
          0.01790532852266239,
          0.017655905122412673,
          0.01740995622041153,
          0.01716743341647651,
          0.016928288984645583,
          0.01669247586378516,
          0.016459947648328963,
          0.016230658579145883,
          0.016004563534535058,
          0.015781618021346405,
          0.015561778166224824,
          0.01534500070697637,
          0.015131242984054721,
          0.01492046293216621,
          0.014712619071991818,
          0.01450767050202448,
          0.014305576890520085,
          0.01410629846756062,
          0.013909796017227853,
          0.013716030869886056,
          0.013524964894572224,
          0.013336560491492294,
          0.013150780584621899,
          0.012967588614410193,
          0.012786948530585315,
          0.012608824785060065,
          0.012433182324936414,
          0.012259986585607459,
          0.012089203483955467,
          0.011920799411644676,
          0.011754741228507518,
          0.011590996256022983,
          0.01142953227088583,
          0.011270317498665368,
          0.011113320607552586,
          0.010958510702194375,
          0.010805857317613647,
          0.010655330413214145,
          0.01050690036686876,
          0.010360537969090217,
          0.01021621441728294,
          0.010073901310075009,
          0.009933570641729061,
          0.009795194796631055,
          0.009658746543855809,
          0.009524199031808232,
          0.009391525782939215,
          0.009260700688535123,
          0.00913169800357987,
          0.00900449234168857,
          0.00887905867011176,
          0.00875537230480922,
          0.008633408905592405,
          0.00851314447133455,
          0.0083945553352475,
          0.008277618160224334,
          0.008162309934246865,
          0.008048607965857112,
          0.007936489879691857,
          0.007825933612079412,
          0.0077169174066977105,
          0.007609419810292896,
          0.007503419668457543,
          0.007398896121467688,
          0.007295828600177857,
          0.007194196821973269,
          0.00709398078677843,
          0.006995160773121326,
          0.00689771733425244,
          0.006801631294317841,
          0.006706883744585568,
          0.006613456039724594,
          0.006521329794135614,
          0.006430486878332959,
          0.006340909415376893,
          0.006252579777355619,
          0.006165480581916296,
          0.006079594688844365,
          0.00599490519669054,
          0.005911395439444772,
          0.0058290489832565585,
          0.0057478496232009285,
          0.005667781380089483,
          0.005588828497325857,
          0.005510975437804989,
          0.005434206880855573,
          0.005358507719225119,
          0.005283863056106994,
          0.005210258202208893,
          0.005137678672862135,
          0.005066110185171232,
          0.004995538655203166,
          0.004925950195215814,
          0.004857331110924989,
          0.004789667898809543,
          0.004722947243454019,
          0.004657156014928312,
          0.0045922812662038395,
          0.004528310230605698,
          0.004465230319300317,
          0.004403029118818103,
          0.004341694388610605,
          0.004281214058641693,
          0.004221576227012311,
          0.0041627691576183,
          0.004104781277840854,
          0.004047601176269156,
          0.003991217600454727,
          0.003935619454697057,
          0.003880795797860097,
          0.0038267358412191477,
          0.003773428946337756,
          0.003720864622974181,
          0.003669032527017021,
          0.003617922458449604,
          0.0035675243593427278,
          0.0035178283118753647,
          0.0034688245363829386,
          0.0034205033894327886,
          0.003372855361926441,
          0.0033258710772283186,
          0.003279541289320516,
          0.0032338568809832796,
          0.0031888088620008353,
          0.003144388367392205,
          0.003100586655666672,
          0.0030573951071035466,
          0.0030148052220558955,
          0.002972808619277899,
          0.0029313970342755083,
          0.002890562317680081,
          0.0028502964336446696,
          0.002810591458262649,
          0.002771439578008377,
          0.0027328330881995705,
          0.0026947643914811076,
          0.0026572259963299452,
          0.0026202105155808657,
          0.002583710664972759,
          0.002547719261715158,
          0.0025122292230747383,
          0.0024772335649815105,
          0.0024427254006544287,
          0.0024086979392461427,
          0.0023751444845066297,
          0.002342058433465444,
          0.002309433275132319,
          0.002277262589215873,
          0.002245540044860164,
          0.0022142593993988405,
          0.0021834144971266513,
          0.002152999268088068,
          0.002123007726882778,
          0.0020934339714878234,
          0.002064272182096141,
          0.0020355166199712877,
          0.002007161626318116,
          0.0019792016211691806,
          0.0019516311022866617,
          0.0019244446440795791,
          0.0018976368965360946,
          0.0018712025841706838,
          0.0018451365049859767,
          0.001819433529449058,
          0.0017940885994820288,
          0.0017690967274666292,
          0.0017444529952627276,
          0.0017201525532404812,
          0.0016961906193259796,
          0.001672562478060183,
          0.0016492634796709687,
          0.0016262890391581036,
          0.0016036346353909647,
          0.0015812958102188277,
          0.0015592681675935492,
          0.00153754737270447,
          0.0015161291511253696,
          0.0014950092879733039,
          0.0014741836270791599,
          0.001453648070169765,
          0.0014333985760613894,
          0.0014134311598644833,
          0.001393741892199492,
          0.0013743268984235954,
          0.0013551823578682183,
          0.0013363045030871624,
          0.0013176896191152124,
          0.0012993340427370694,
          0.0012812341617664687,
          0.0012633864143353384,
          0.0012457872881928619,
          0.0012284333200143023,
          0.0012113210947194571,
          0.0011944472448006055,
          0.001177808449659818,
          0.001161401434955498,
          0.0011452229719580247,
          0.001129269876914372,
          0.0011135390104215811,
          0.0010980272768089572,
          0.001082731623528874,
          0.0010676490405560643,
          0.0010527765597952786,
          0.0010381112544971944,
          0.0010236502386824625,
          0.0010093906665737766,
          0.0009953297320358535,
          0.0009814646680232158,
          0.0009677927460356648,
          0.0009543112755813413,
          0.0009410176036472644,
          0.0009279091141772459,
          0.000914983227557078,
          0.000902237400106892,
          0.0008896691235805887,
          0.0008772759246722416,
          0.0008650553645293758,
          0.0008530050382730276,
          0.0008411225745244896,
          0.0008294056349386473,
          0.0008178519137438176,
          0.000806459137287997,
          0.0007952250635914303,
          0.0007841474819054127,
          0.0007732242122772373,
          0.0007624531051212028,
          0.0007518320407955979,
          0.0007413589291855777,
          0.0007310317092918507,
          0.0007208483488250959,
          0.0007108068438060294,
          0.0007009052181710417,
          0.0006911415233833296,
          0.000681513838049444,
          0.0006720202675411799,
          0.0006626589436227332,
          0.0006534280240830513,
          0.0006443256923733053,
          0.0006353501572494121,
          0.0006264996524195359,
          0.0006177724361965011,
          0.0006091667911550454,
          0.0006006810237938494,
          0.0005923134642022723,
          0.0005840624657317314,
          0.0005759264046716586,
          0.0005679036799299715,
          0.0005599927127179945,
          0.0005521919462397698,
          0.0005444998453856966,
          0.0005369148964304371,
          0.0005294356067350313,
          0.0005220605044531611,
          0.0005147881382415062,
          0.0005076170769741352,
          0.0005005459094608745,
          0.000493573244169601,
          0.00048669770895240293,
          0.00047991795077555573,
          0.0004732326354532587,
          0.00046664044738508155,
          0.0004601400892970675,
          0.0004537302819864437,
          0.00044740976406988696,
          0.00044117729173529717,
          0.00043503163849702766,
          0.00042897159495452575,
          0.0004229959685543354,
          0.00041710358335541486,
          0.00041129327979772396,
          0.00040556391447403464,
          0.00039991435990492034,
          0.0003943435043168799,
          0.0003888502514235518,
          0.0003834335202099768,
          0.00037809224471986526,
          0.0003728253738458281,
          0.0003676318711225298,
          0.00036251071452272264,
          0.0003574608962561228,
          0.00035248142257108725,
          0.0003475713135590541,
          0.00034272960296170677,
          0.00033795533798082423,
          0.0003332475790907804,
          0.00032860539985365517,
          0.00032402788673692126,
          0.00031951413893367036,
          0.0003150632681853437,
          0.00031067439860693217,
          0.0003063466665146111,
          0.0003020792202557765,
          0.00029787122004144834,
          0.00029372183778100927,
          0.00028963025691924454,
          0.0002855956722756529,
          0.0002816172898859951,
          0.00027769432684605027,
          0.0002738260111575482,
          0.0002700115815762485,
          0.00026625028746213536,
          0.0002625413886316996,
          0.00025888415521227817,
          0.00025527786749842275,
          0.00025172181581026943,
          0.0002482153003538809,
          0.0002447576310835343,
          0.00024134812756592758,
          0.00023798611884627717,
          0.00023467094331628105,
          0.0002314019485839212,
          0.00022817849134507966,
          0.00022499993725694288,
          0.00022186566081316975,
          0.0002187750452207984,
          0.00021572748227886789,
          0.00021272237225873042,
          0.0002097591237860311,
          0.0002068371537243316,
          0.00020395588706035502,
          0.00020111475679082915,
          0.00019831320381090623,
          0.00019555067680413691,
          0.00019282663213397697,
          0.00019014053373680518
         ]
        }
       ],
       "layout": {
        "template": {
         "data": {
          "bar": [
           {
            "error_x": {
             "color": "#2a3f5f"
            },
            "error_y": {
             "color": "#2a3f5f"
            },
            "marker": {
             "line": {
              "color": "#E5ECF6",
              "width": 0.5
             }
            },
            "type": "bar"
           }
          ],
          "barpolar": [
           {
            "marker": {
             "line": {
              "color": "#E5ECF6",
              "width": 0.5
             }
            },
            "type": "barpolar"
           }
          ],
          "carpet": [
           {
            "aaxis": {
             "endlinecolor": "#2a3f5f",
             "gridcolor": "white",
             "linecolor": "white",
             "minorgridcolor": "white",
             "startlinecolor": "#2a3f5f"
            },
            "baxis": {
             "endlinecolor": "#2a3f5f",
             "gridcolor": "white",
             "linecolor": "white",
             "minorgridcolor": "white",
             "startlinecolor": "#2a3f5f"
            },
            "type": "carpet"
           }
          ],
          "choropleth": [
           {
            "colorbar": {
             "outlinewidth": 0,
             "ticks": ""
            },
            "type": "choropleth"
           }
          ],
          "contour": [
           {
            "colorbar": {
             "outlinewidth": 0,
             "ticks": ""
            },
            "colorscale": [
             [
              0,
              "#0d0887"
             ],
             [
              0.1111111111111111,
              "#46039f"
             ],
             [
              0.2222222222222222,
              "#7201a8"
             ],
             [
              0.3333333333333333,
              "#9c179e"
             ],
             [
              0.4444444444444444,
              "#bd3786"
             ],
             [
              0.5555555555555556,
              "#d8576b"
             ],
             [
              0.6666666666666666,
              "#ed7953"
             ],
             [
              0.7777777777777778,
              "#fb9f3a"
             ],
             [
              0.8888888888888888,
              "#fdca26"
             ],
             [
              1,
              "#f0f921"
             ]
            ],
            "type": "contour"
           }
          ],
          "contourcarpet": [
           {
            "colorbar": {
             "outlinewidth": 0,
             "ticks": ""
            },
            "type": "contourcarpet"
           }
          ],
          "heatmap": [
           {
            "colorbar": {
             "outlinewidth": 0,
             "ticks": ""
            },
            "colorscale": [
             [
              0,
              "#0d0887"
             ],
             [
              0.1111111111111111,
              "#46039f"
             ],
             [
              0.2222222222222222,
              "#7201a8"
             ],
             [
              0.3333333333333333,
              "#9c179e"
             ],
             [
              0.4444444444444444,
              "#bd3786"
             ],
             [
              0.5555555555555556,
              "#d8576b"
             ],
             [
              0.6666666666666666,
              "#ed7953"
             ],
             [
              0.7777777777777778,
              "#fb9f3a"
             ],
             [
              0.8888888888888888,
              "#fdca26"
             ],
             [
              1,
              "#f0f921"
             ]
            ],
            "type": "heatmap"
           }
          ],
          "heatmapgl": [
           {
            "colorbar": {
             "outlinewidth": 0,
             "ticks": ""
            },
            "colorscale": [
             [
              0,
              "#0d0887"
             ],
             [
              0.1111111111111111,
              "#46039f"
             ],
             [
              0.2222222222222222,
              "#7201a8"
             ],
             [
              0.3333333333333333,
              "#9c179e"
             ],
             [
              0.4444444444444444,
              "#bd3786"
             ],
             [
              0.5555555555555556,
              "#d8576b"
             ],
             [
              0.6666666666666666,
              "#ed7953"
             ],
             [
              0.7777777777777778,
              "#fb9f3a"
             ],
             [
              0.8888888888888888,
              "#fdca26"
             ],
             [
              1,
              "#f0f921"
             ]
            ],
            "type": "heatmapgl"
           }
          ],
          "histogram": [
           {
            "marker": {
             "colorbar": {
              "outlinewidth": 0,
              "ticks": ""
             }
            },
            "type": "histogram"
           }
          ],
          "histogram2d": [
           {
            "colorbar": {
             "outlinewidth": 0,
             "ticks": ""
            },
            "colorscale": [
             [
              0,
              "#0d0887"
             ],
             [
              0.1111111111111111,
              "#46039f"
             ],
             [
              0.2222222222222222,
              "#7201a8"
             ],
             [
              0.3333333333333333,
              "#9c179e"
             ],
             [
              0.4444444444444444,
              "#bd3786"
             ],
             [
              0.5555555555555556,
              "#d8576b"
             ],
             [
              0.6666666666666666,
              "#ed7953"
             ],
             [
              0.7777777777777778,
              "#fb9f3a"
             ],
             [
              0.8888888888888888,
              "#fdca26"
             ],
             [
              1,
              "#f0f921"
             ]
            ],
            "type": "histogram2d"
           }
          ],
          "histogram2dcontour": [
           {
            "colorbar": {
             "outlinewidth": 0,
             "ticks": ""
            },
            "colorscale": [
             [
              0,
              "#0d0887"
             ],
             [
              0.1111111111111111,
              "#46039f"
             ],
             [
              0.2222222222222222,
              "#7201a8"
             ],
             [
              0.3333333333333333,
              "#9c179e"
             ],
             [
              0.4444444444444444,
              "#bd3786"
             ],
             [
              0.5555555555555556,
              "#d8576b"
             ],
             [
              0.6666666666666666,
              "#ed7953"
             ],
             [
              0.7777777777777778,
              "#fb9f3a"
             ],
             [
              0.8888888888888888,
              "#fdca26"
             ],
             [
              1,
              "#f0f921"
             ]
            ],
            "type": "histogram2dcontour"
           }
          ],
          "mesh3d": [
           {
            "colorbar": {
             "outlinewidth": 0,
             "ticks": ""
            },
            "type": "mesh3d"
           }
          ],
          "parcoords": [
           {
            "line": {
             "colorbar": {
              "outlinewidth": 0,
              "ticks": ""
             }
            },
            "type": "parcoords"
           }
          ],
          "pie": [
           {
            "automargin": true,
            "type": "pie"
           }
          ],
          "scatter": [
           {
            "marker": {
             "colorbar": {
              "outlinewidth": 0,
              "ticks": ""
             }
            },
            "type": "scatter"
           }
          ],
          "scatter3d": [
           {
            "line": {
             "colorbar": {
              "outlinewidth": 0,
              "ticks": ""
             }
            },
            "marker": {
             "colorbar": {
              "outlinewidth": 0,
              "ticks": ""
             }
            },
            "type": "scatter3d"
           }
          ],
          "scattercarpet": [
           {
            "marker": {
             "colorbar": {
              "outlinewidth": 0,
              "ticks": ""
             }
            },
            "type": "scattercarpet"
           }
          ],
          "scattergeo": [
           {
            "marker": {
             "colorbar": {
              "outlinewidth": 0,
              "ticks": ""
             }
            },
            "type": "scattergeo"
           }
          ],
          "scattergl": [
           {
            "marker": {
             "colorbar": {
              "outlinewidth": 0,
              "ticks": ""
             }
            },
            "type": "scattergl"
           }
          ],
          "scattermapbox": [
           {
            "marker": {
             "colorbar": {
              "outlinewidth": 0,
              "ticks": ""
             }
            },
            "type": "scattermapbox"
           }
          ],
          "scatterpolar": [
           {
            "marker": {
             "colorbar": {
              "outlinewidth": 0,
              "ticks": ""
             }
            },
            "type": "scatterpolar"
           }
          ],
          "scatterpolargl": [
           {
            "marker": {
             "colorbar": {
              "outlinewidth": 0,
              "ticks": ""
             }
            },
            "type": "scatterpolargl"
           }
          ],
          "scatterternary": [
           {
            "marker": {
             "colorbar": {
              "outlinewidth": 0,
              "ticks": ""
             }
            },
            "type": "scatterternary"
           }
          ],
          "surface": [
           {
            "colorbar": {
             "outlinewidth": 0,
             "ticks": ""
            },
            "colorscale": [
             [
              0,
              "#0d0887"
             ],
             [
              0.1111111111111111,
              "#46039f"
             ],
             [
              0.2222222222222222,
              "#7201a8"
             ],
             [
              0.3333333333333333,
              "#9c179e"
             ],
             [
              0.4444444444444444,
              "#bd3786"
             ],
             [
              0.5555555555555556,
              "#d8576b"
             ],
             [
              0.6666666666666666,
              "#ed7953"
             ],
             [
              0.7777777777777778,
              "#fb9f3a"
             ],
             [
              0.8888888888888888,
              "#fdca26"
             ],
             [
              1,
              "#f0f921"
             ]
            ],
            "type": "surface"
           }
          ],
          "table": [
           {
            "cells": {
             "fill": {
              "color": "#EBF0F8"
             },
             "line": {
              "color": "white"
             }
            },
            "header": {
             "fill": {
              "color": "#C8D4E3"
             },
             "line": {
              "color": "white"
             }
            },
            "type": "table"
           }
          ]
         },
         "layout": {
          "annotationdefaults": {
           "arrowcolor": "#2a3f5f",
           "arrowhead": 0,
           "arrowwidth": 1
          },
          "coloraxis": {
           "colorbar": {
            "outlinewidth": 0,
            "ticks": ""
           }
          },
          "colorscale": {
           "diverging": [
            [
             0,
             "#8e0152"
            ],
            [
             0.1,
             "#c51b7d"
            ],
            [
             0.2,
             "#de77ae"
            ],
            [
             0.3,
             "#f1b6da"
            ],
            [
             0.4,
             "#fde0ef"
            ],
            [
             0.5,
             "#f7f7f7"
            ],
            [
             0.6,
             "#e6f5d0"
            ],
            [
             0.7,
             "#b8e186"
            ],
            [
             0.8,
             "#7fbc41"
            ],
            [
             0.9,
             "#4d9221"
            ],
            [
             1,
             "#276419"
            ]
           ],
           "sequential": [
            [
             0,
             "#0d0887"
            ],
            [
             0.1111111111111111,
             "#46039f"
            ],
            [
             0.2222222222222222,
             "#7201a8"
            ],
            [
             0.3333333333333333,
             "#9c179e"
            ],
            [
             0.4444444444444444,
             "#bd3786"
            ],
            [
             0.5555555555555556,
             "#d8576b"
            ],
            [
             0.6666666666666666,
             "#ed7953"
            ],
            [
             0.7777777777777778,
             "#fb9f3a"
            ],
            [
             0.8888888888888888,
             "#fdca26"
            ],
            [
             1,
             "#f0f921"
            ]
           ],
           "sequentialminus": [
            [
             0,
             "#0d0887"
            ],
            [
             0.1111111111111111,
             "#46039f"
            ],
            [
             0.2222222222222222,
             "#7201a8"
            ],
            [
             0.3333333333333333,
             "#9c179e"
            ],
            [
             0.4444444444444444,
             "#bd3786"
            ],
            [
             0.5555555555555556,
             "#d8576b"
            ],
            [
             0.6666666666666666,
             "#ed7953"
            ],
            [
             0.7777777777777778,
             "#fb9f3a"
            ],
            [
             0.8888888888888888,
             "#fdca26"
            ],
            [
             1,
             "#f0f921"
            ]
           ]
          },
          "colorway": [
           "#636efa",
           "#EF553B",
           "#00cc96",
           "#ab63fa",
           "#FFA15A",
           "#19d3f3",
           "#FF6692",
           "#B6E880",
           "#FF97FF",
           "#FECB52"
          ],
          "font": {
           "color": "#2a3f5f"
          },
          "geo": {
           "bgcolor": "white",
           "lakecolor": "white",
           "landcolor": "#E5ECF6",
           "showlakes": true,
           "showland": true,
           "subunitcolor": "white"
          },
          "hoverlabel": {
           "align": "left"
          },
          "hovermode": "closest",
          "mapbox": {
           "style": "light"
          },
          "paper_bgcolor": "white",
          "plot_bgcolor": "#E5ECF6",
          "polar": {
           "angularaxis": {
            "gridcolor": "white",
            "linecolor": "white",
            "ticks": ""
           },
           "bgcolor": "#E5ECF6",
           "radialaxis": {
            "gridcolor": "white",
            "linecolor": "white",
            "ticks": ""
           }
          },
          "scene": {
           "xaxis": {
            "backgroundcolor": "#E5ECF6",
            "gridcolor": "white",
            "gridwidth": 2,
            "linecolor": "white",
            "showbackground": true,
            "ticks": "",
            "zerolinecolor": "white"
           },
           "yaxis": {
            "backgroundcolor": "#E5ECF6",
            "gridcolor": "white",
            "gridwidth": 2,
            "linecolor": "white",
            "showbackground": true,
            "ticks": "",
            "zerolinecolor": "white"
           },
           "zaxis": {
            "backgroundcolor": "#E5ECF6",
            "gridcolor": "white",
            "gridwidth": 2,
            "linecolor": "white",
            "showbackground": true,
            "ticks": "",
            "zerolinecolor": "white"
           }
          },
          "shapedefaults": {
           "line": {
            "color": "#2a3f5f"
           }
          },
          "ternary": {
           "aaxis": {
            "gridcolor": "white",
            "linecolor": "white",
            "ticks": ""
           },
           "baxis": {
            "gridcolor": "white",
            "linecolor": "white",
            "ticks": ""
           },
           "bgcolor": "#E5ECF6",
           "caxis": {
            "gridcolor": "white",
            "linecolor": "white",
            "ticks": ""
           }
          },
          "title": {
           "x": 0.05
          },
          "xaxis": {
           "automargin": true,
           "gridcolor": "white",
           "linecolor": "white",
           "ticks": "",
           "title": {
            "standoff": 15
           },
           "zerolinecolor": "white",
           "zerolinewidth": 2
          },
          "yaxis": {
           "automargin": true,
           "gridcolor": "white",
           "linecolor": "white",
           "ticks": "",
           "title": {
            "standoff": 15
           },
           "zerolinecolor": "white",
           "zerolinewidth": 2
          }
         }
        },
        "xaxis": {
         "title": {
          "text": "time (s)"
         }
        },
        "yaxis": {
         "title": {
          "text": "response"
         }
        }
       }
      },
      "text/html": [
       "<div>                            <div id=\"28004f55-260a-424f-a6c2-777a5c8c32d0\" class=\"plotly-graph-div\" style=\"height:525px; width:100%;\"></div>            <script type=\"text/javascript\">                require([\"plotly\"], function(Plotly) {                    window.PLOTLYENV=window.PLOTLYENV || {};                                    if (document.getElementById(\"28004f55-260a-424f-a6c2-777a5c8c32d0\")) {                    Plotly.newPlot(                        \"28004f55-260a-424f-a6c2-777a5c8c32d0\",                        [{\"line\": {\"shape\": \"linear\"}, \"mode\": \"lines\", \"name\": \"tf 1\", \"showlegend\": false, \"type\": \"scatter\", \"x\": [0.0, 0.13741647427492792, 0.27483294854985585, 0.4122494228247838, 0.5496658970997117, 0.6870823713746397, 0.8244988456495675, 0.9619153199244954, 1.0993317941994234, 1.2367482684743514, 1.3741647427492794, 1.5115812170242071, 1.648997691299135, 1.786414165574063, 1.9238306398489908, 2.061247114123919, 2.198663588398847, 2.3360800626737745, 2.4734965369487028, 2.6109130112236305, 2.7483294854985587, 2.8857459597734865, 3.0231624340484142, 3.1605789083233424, 3.29799538259827, 3.435411856873198, 3.572828331148126, 3.710244805423054, 3.8476612796979817, 3.98507775397291, 4.122494228247838, 4.259910702522766, 4.397327176797694, 4.534743651072621, 4.672160125347549, 4.809576599622478, 4.9469930738974055, 5.084409548172333, 5.221826022447261, 5.359242496722189, 5.496658970997117, 5.634075445272045, 5.771491919546973, 5.908908393821901, 6.0463248680968285, 6.183741342371756, 6.321157816646685, 6.458574290921613, 6.59599076519654, 6.733407239471468, 6.870823713746396, 7.0082401880213245, 7.145656662296252, 7.28307313657118, 7.420489610846108, 7.557906085121036, 7.695322559395963, 7.832739033670892, 7.97015550794582, 8.107571982220747, 8.244988456495676, 8.382404930770603, 8.519821405045532, 8.657237879320459, 8.794654353595387, 8.932070827870316, 9.069487302145243, 9.206903776420171, 9.344320250695098, 9.481736724970027, 9.619153199244955, 9.756569673519882, 9.893986147794811, 10.031402622069738, 10.168819096344667, 10.306235570619595, 10.443652044894522, 10.58106851916945, 10.718484993444378, 10.855901467719306, 10.993317941994235, 11.130734416269162, 11.26815089054409, 11.405567364819017, 11.542983839093946, 11.680400313368873, 11.817816787643801, 11.95523326191873, 12.092649736193657, 12.230066210468586, 12.367482684743512, 12.504899159018441, 12.64231563329337, 12.779732107568297, 12.917148581843225, 13.054565056118152, 13.19198153039308, 13.32939800466801, 13.466814478942936, 13.604230953217865, 13.741647427492792, 13.87906390176772, 14.016480376042649, 14.153896850317576, 14.291313324592505, 14.428729798867431, 14.56614627314236, 14.703562747417289, 14.840979221692216, 14.978395695967144, 15.115812170242071, 15.253228644517, 15.390645118791927, 15.528061593066855, 15.665478067341784, 15.80289454161671, 15.94031101589164, 16.077727490166566, 16.215143964441495, 16.352560438716424, 16.489976912991352, 16.627393387266277, 16.764809861541206, 16.902226335816135, 17.039642810091063, 17.177059284365992, 17.314475758640917, 17.451892232915846, 17.589308707190774, 17.726725181465703, 17.86414165574063, 18.001558130015557, 18.138974604290485, 18.276391078565414, 18.413807552840343, 18.55122402711527, 18.688640501390196, 18.826056975665125, 18.963473449940054, 19.100889924214982, 19.23830639848991, 19.375722872764836, 19.513139347039765, 19.650555821314693, 19.787972295589622, 19.92538876986455, 20.062805244139476, 20.200221718414404, 20.337638192689333, 20.47505466696426, 20.61247114123919, 20.749887615514115, 20.887304089789044, 21.024720564063973, 21.1621370383389, 21.29955351261383, 21.436969986888755, 21.574386461163684, 21.711802935438612, 21.84921940971354, 21.98663588398847, 22.124052358263395, 22.261468832538323, 22.398885306813252, 22.53630178108818, 22.673718255363106, 22.811134729638034, 22.948551203912963, 23.08596767818789, 23.22338415246282, 23.360800626737745, 23.498217101012674, 23.635633575287603, 23.77305004956253, 23.91046652383746, 24.047882998112385, 24.185299472387314, 24.322715946662242, 24.46013242093717, 24.5975488952121, 24.734965369487025, 24.872381843761953, 25.009798318036882, 25.14721479231181, 25.28463126658674, 25.422047740861665, 25.559464215136593, 25.696880689411522, 25.83429716368645, 25.97171363796138, 26.109130112236304, 26.246546586511233, 26.38396306078616, 26.52137953506109, 26.65879600933602, 26.796212483610944, 26.933628957885873, 27.0710454321608, 27.20846190643573, 27.34587838071066, 27.483294854985584, 27.620711329260512, 27.75812780353544, 27.89554427781037, 28.032960752085298, 28.170377226360223, 28.307793700635152, 28.44521017491008, 28.58262664918501, 28.720043123459938, 28.857459597734863, 28.99487607200979, 29.13229254628472, 29.26970902055965, 29.407125494834577, 29.544541969109503, 29.68195844338443, 29.81937491765936, 29.95679139193429, 30.094207866209217, 30.231624340484142, 30.36904081475907, 30.506457289034, 30.643873763308928, 30.781290237583853, 30.918706711858782, 31.05612318613371, 31.19353966040864, 31.330956134683568, 31.468372608958493, 31.60578908323342, 31.74320555750835, 31.88062203178328, 32.018038506058204, 32.15545498033313, 32.29287145460806, 32.43028792888299, 32.56770440315792, 32.70512087743285, 32.842537351707776, 32.979953825982705, 33.11737030025763, 33.254786774532555, 33.39220324880748, 33.52961972308241, 33.66703619735734, 33.80445267163227, 33.9418691459072, 34.07928562018213, 34.216702094457055, 34.354118568731984, 34.49153504300691, 34.628951517281834, 34.76636799155676, 34.90378446583169, 35.04120094010662, 35.17861741438155, 35.31603388865648, 35.453450362931406, 35.590866837206335, 35.72828331148126, 35.865699785756185, 36.00311626003111, 36.14053273430604, 36.27794920858097, 36.4153656828559, 36.55278215713083, 36.69019863140576, 36.827615105680685, 36.965031579955614, 37.10244805423054, 37.239864528505464, 37.37728100278039, 37.51469747705532, 37.65211395133025, 37.78953042560518, 37.92694689988011, 38.064363374155036, 38.201779848429965, 38.33919632270489, 38.47661279697982, 38.61402927125474, 38.75144574552967, 38.8888622198046, 39.02627869407953, 39.16369516835446, 39.30111164262939, 39.438528116904315, 39.575944591179244, 39.71336106545417, 39.8507775397291, 39.98819401400402, 40.12561048827895, 40.26302696255388, 40.40044343682881, 40.53785991110374, 40.675276385378666, 40.812692859653595, 40.95010933392852, 41.08752580820345, 41.22494228247838, 41.3623587567533, 41.49977523102823, 41.63719170530316, 41.77460817957809, 41.91202465385302, 42.049441128127945, 42.186857602402874, 42.3242740766778, 42.46169055095273, 42.59910702522766, 42.73652349950258, 42.87393997377751, 43.01135644805244, 43.14877292232737, 43.286189396602296, 43.423605870877225, 43.56102234515215, 43.69843881942708, 43.83585529370201, 43.97327176797694, 44.11068824225186, 44.24810471652679, 44.38552119080172, 44.52293766507665, 44.660354139351575, 44.797770613626504, 44.93518708790143, 45.07260356217636, 45.21002003645129, 45.34743651072621, 45.48485298500114, 45.62226945927607, 45.759685933551, 45.897102407825926, 46.034518882100855, 46.17193535637578, 46.30935183065071, 46.44676830492564, 46.58418477920057, 46.72160125347549, 46.85901772775042, 46.99643420202535, 47.13385067630028, 47.271267150575206, 47.408683624850134, 47.54610009912506, 47.68351657339999, 47.82093304767492, 47.95834952194985, 48.09576599622477, 48.2331824704997, 48.37059894477463, 48.508015419049556, 48.645431893324485, 48.782848367599414, 48.92026484187434, 49.05768131614927, 49.1950977904242, 49.33251426469913, 49.46993073897405, 49.60734721324898, 49.74476368752391, 49.882180161798836, 50.019596636073764, 50.15701311034869, 50.29442958462362, 50.43184605889855, 50.56926253317348, 50.70667900744841, 50.84409548172333, 50.98151195599826, 51.118928430273186, 51.256344904548115, 51.393761378823044, 51.53117785309797, 51.6685943273729, 51.80601080164783, 51.94342727592276, 52.08084375019769, 52.21826022447261, 52.35567669874754, 52.493093173022466, 52.630509647297394, 52.76792612157232, 52.90534259584725, 53.04275907012218, 53.18017554439711, 53.31759201867204, 53.45500849294696, 53.59242496722189, 53.729841441496816, 53.867257915771745, 54.004674390046674, 54.1420908643216, 54.27950733859653, 54.41692381287146, 54.55434028714639, 54.69175676142132, 54.82917323569624, 54.96658970997117, 55.104006184246096, 55.241422658521024, 55.37883913279595, 55.51625560707088, 55.65367208134581, 55.79108855562074, 55.92850502989567, 56.065921504170596, 56.20333797844552, 56.34075445272045, 56.478170926995375, 56.615587401270304, 56.75300387554523, 56.89042034982016, 57.02783682409509, 57.16525329837002, 57.30266977264495, 57.440086246919876, 57.5775027211948, 57.714919195469726, 57.852335669744654, 57.98975214401958, 58.12716861829451, 58.26458509256944, 58.40200156684437, 58.5394180411193, 58.676834515394226, 58.814250989669155, 58.95166746394408, 59.089083938219005, 59.226500412493934, 59.36391688676886, 59.50133336104379, 59.63874983531872, 59.77616630959365, 59.91358278386858, 60.050999258143506, 60.188415732418434, 60.325832206693356, 60.463248680968285, 60.60066515524321, 60.73808162951814, 60.87549810379307, 61.012914578068, 61.15033105234293, 61.287747526617856, 61.425164000892785, 61.56258047516771, 61.699996949442635, 61.837413423717564, 61.97482989799249, 62.11224637226742, 62.24966284654235, 62.38707932081728, 62.52449579509221, 62.661912269367136, 62.799328743642064, 62.936745217916986, 63.074161692191915, 63.21157816646684, 63.34899464074177, 63.4864111150167, 63.62382758929163, 63.76124406356656, 63.89866053784149, 64.03607701211641, 64.17349348639134, 64.31090996066627, 64.4483264349412, 64.58574290921612, 64.72315938349105, 64.86057585776598, 64.99799233204091, 65.13540880631584, 65.27282528059077, 65.4102417548657, 65.54765822914062, 65.68507470341555, 65.82249117769048, 65.95990765196541, 66.09732412624034, 66.23474060051527, 66.37215707479018, 66.50957354906511, 66.64699002334004, 66.78440649761497, 66.9218229718899, 67.05923944616482, 67.19665592043975, 67.33407239471468, 67.47148886898961, 67.60890534326454, 67.74632181753947, 67.8837382918144, 68.02115476608932, 68.15857124036425, 68.29598771463918, 68.43340418891411, 68.57082066318904], \"y\": [0.0, 0.09923656271298045, 0.14847952359436487, 0.17223760303022642, 0.18301360851065474, 0.1871855582957905, 0.18800692509183822, 0.1871372044391695, 0.18542273112936997, 0.18329501112232327, 0.18097392974490908, 0.17857141790733547, 0.1761443371726607, 0.17372145892432198, 0.17131722768912108, 0.16893878242362953, 0.16658953836446652, 0.16427101425759827, 0.16198376447180038, 0.15972785447114082, 0.15750310333356504, 0.15530920742910193, 0.1531458034724704, 0.15101250064823443, 0.14890889695895054, 0.14683458752526893, 0.14478916878089507, 0.1427722405738701, 0.140783407200304, 0.13882227789403387, 0.1368884670392492, 0.13498159424230652, 0.13310128433222082, 0.1312471673252749, 0.12941887837181992, 0.12761605769448078, 0.12583835052245892, 0.12408540702432076, 0.12235688224048262, 0.12065243601600383, 0.11897173293399345, 0.11731444224978009, 0.11568023782591472, 0.1140687980680361, 0.11247980586160782, 0.11091294850952532, 0.10936791767058657, 0.10784440929881674, 0.10634212358363673, 0.10486076489086442, 0.1034000417045373, 0.1019596665695454, 0.10053935603506324, 0.09913883059876967, 0.09775781465184481, 0.09639603642473307, 0.09505322793366176, 0.09372912492790467, 0.0924234668377803, 0.09113599672337445, 0.08986646122397714, 0.08861461050822379, 0.0873801982249311, 0.08616298145461763, 0.08496272066169985, 0.08377917964735397, 0.08261212550303448, 0.08146132856464022, 0.08032656236731882, 0.0792076036009008, 0.07810423206595447, 0.07701623063045293, 0.0759433851870448, 0.07488548461092008, 0.07384232071826305, 0.07281368822528375, 0.07179938470782041, 0.07079921056150437, 0.06981296896248006, 0.06884046582867212, 0.06788150978159208, 0.06693591210867701, 0.06600348672615296, 0.06508405014241546, 0.06417742142192044, 0.0632834221495779, 0.06240187639564168, 0.06153261068108839, 0.060675453943478466, 0.059830237503292916, 0.05899679503073891, 0.05817496251301783, 0.05736457822204928, 0.05656548268264463, 0.05577751864112399, 0.05500053103437035, 0.05423436695931473, 0.05347887564284645, 0.052733908412142594, 0.05199931866541071, 0.051274961843039105, 0.05056069539914904, 0.04985637877354318, 0.04916187336404478, 0.04847704249922227, 0.0478017514114937, 0.047135867210605906, 0.04647925885748308, 0.045831797138439656, 0.045193354639752395, 0.04456380572258668, 0.04394302649827214, 0.043330894803922604, 0.04272729017839574, 0.04213209383858755, 0.04154518865605711, 0.04096645913397689, 0.04039579138440419, 0.039833073105869185, 0.03927819356127515, 0.03873104355610657, 0.03819151541694079, 0.037659502970258996, 0.037134901521552396, 0.0366176078347194, 0.036107520111749856, 0.035604537972692266, 0.03510856243590001, 0.03461949589855286, 0.0341372421174497, 0.033661706190068905, 0.03319279453589248, 0.03273041487799042, 0.03227447622486157, 0.031824888852527405, 0.031381564286875344, 0.03094441528624792, 0.03051335582427455, 0.030088301072942435, 0.0296691673859033, 0.029255872282012645, 0.028848334429098343, 0.02844647362795529, 0.02805021079656304, 0.02765946795452331, 0.027274168207714226, 0.02689423573315836, 0.026519595764101574, 0.026150174575299688, 0.025785899468510128, 0.025426698758185665, 0.025072501757367444, 0.02472323876377453, 0.02437884104608723, 0.024039240830421468, 0.02370437128699161, 0.023374166516959047, 0.023048561539463993, 0.02272749227883793, 0.02241089555199418, 0.022098709055994134, 0.02179087135578668, 0.021487321872118437, 0.021188000869612363, 0.02089284944501248, 0.020601809515592318, 0.020314823807724838, 0.02003183584561158, 0.019752789940168807, 0.019477631178068486, 0.019206305410931913, 0.018938759244673867, 0.01867494002899522, 0.0184147958470219, 0.018158275505088202, 0.01790532852266239, 0.017655905122412673, 0.01740995622041153, 0.01716743341647651, 0.016928288984645583, 0.01669247586378516, 0.016459947648328963, 0.016230658579145883, 0.016004563534535058, 0.015781618021346405, 0.015561778166224824, 0.01534500070697637, 0.015131242984054721, 0.01492046293216621, 0.014712619071991818, 0.01450767050202448, 0.014305576890520085, 0.01410629846756062, 0.013909796017227853, 0.013716030869886056, 0.013524964894572224, 0.013336560491492294, 0.013150780584621899, 0.012967588614410193, 0.012786948530585315, 0.012608824785060065, 0.012433182324936414, 0.012259986585607459, 0.012089203483955467, 0.011920799411644676, 0.011754741228507518, 0.011590996256022983, 0.01142953227088583, 0.011270317498665368, 0.011113320607552586, 0.010958510702194375, 0.010805857317613647, 0.010655330413214145, 0.01050690036686876, 0.010360537969090217, 0.01021621441728294, 0.010073901310075009, 0.009933570641729061, 0.009795194796631055, 0.009658746543855809, 0.009524199031808232, 0.009391525782939215, 0.009260700688535123, 0.00913169800357987, 0.00900449234168857, 0.00887905867011176, 0.00875537230480922, 0.008633408905592405, 0.00851314447133455, 0.0083945553352475, 0.008277618160224334, 0.008162309934246865, 0.008048607965857112, 0.007936489879691857, 0.007825933612079412, 0.0077169174066977105, 0.007609419810292896, 0.007503419668457543, 0.007398896121467688, 0.007295828600177857, 0.007194196821973269, 0.00709398078677843, 0.006995160773121326, 0.00689771733425244, 0.006801631294317841, 0.006706883744585568, 0.006613456039724594, 0.006521329794135614, 0.006430486878332959, 0.006340909415376893, 0.006252579777355619, 0.006165480581916296, 0.006079594688844365, 0.00599490519669054, 0.005911395439444772, 0.0058290489832565585, 0.0057478496232009285, 0.005667781380089483, 0.005588828497325857, 0.005510975437804989, 0.005434206880855573, 0.005358507719225119, 0.005283863056106994, 0.005210258202208893, 0.005137678672862135, 0.005066110185171232, 0.004995538655203166, 0.004925950195215814, 0.004857331110924989, 0.004789667898809543, 0.004722947243454019, 0.004657156014928312, 0.0045922812662038395, 0.004528310230605698, 0.004465230319300317, 0.004403029118818103, 0.004341694388610605, 0.004281214058641693, 0.004221576227012311, 0.0041627691576183, 0.004104781277840854, 0.004047601176269156, 0.003991217600454727, 0.003935619454697057, 0.003880795797860097, 0.0038267358412191477, 0.003773428946337756, 0.003720864622974181, 0.003669032527017021, 0.003617922458449604, 0.0035675243593427278, 0.0035178283118753647, 0.0034688245363829386, 0.0034205033894327886, 0.003372855361926441, 0.0033258710772283186, 0.003279541289320516, 0.0032338568809832796, 0.0031888088620008353, 0.003144388367392205, 0.003100586655666672, 0.0030573951071035466, 0.0030148052220558955, 0.002972808619277899, 0.0029313970342755083, 0.002890562317680081, 0.0028502964336446696, 0.002810591458262649, 0.002771439578008377, 0.0027328330881995705, 0.0026947643914811076, 0.0026572259963299452, 0.0026202105155808657, 0.002583710664972759, 0.002547719261715158, 0.0025122292230747383, 0.0024772335649815105, 0.0024427254006544287, 0.0024086979392461427, 0.0023751444845066297, 0.002342058433465444, 0.002309433275132319, 0.002277262589215873, 0.002245540044860164, 0.0022142593993988405, 0.0021834144971266513, 0.002152999268088068, 0.002123007726882778, 0.0020934339714878234, 0.002064272182096141, 0.0020355166199712877, 0.002007161626318116, 0.0019792016211691806, 0.0019516311022866617, 0.0019244446440795791, 0.0018976368965360946, 0.0018712025841706838, 0.0018451365049859767, 0.001819433529449058, 0.0017940885994820288, 0.0017690967274666292, 0.0017444529952627276, 0.0017201525532404812, 0.0016961906193259796, 0.001672562478060183, 0.0016492634796709687, 0.0016262890391581036, 0.0016036346353909647, 0.0015812958102188277, 0.0015592681675935492, 0.00153754737270447, 0.0015161291511253696, 0.0014950092879733039, 0.0014741836270791599, 0.001453648070169765, 0.0014333985760613894, 0.0014134311598644833, 0.001393741892199492, 0.0013743268984235954, 0.0013551823578682183, 0.0013363045030871624, 0.0013176896191152124, 0.0012993340427370694, 0.0012812341617664687, 0.0012633864143353384, 0.0012457872881928619, 0.0012284333200143023, 0.0012113210947194571, 0.0011944472448006055, 0.001177808449659818, 0.001161401434955498, 0.0011452229719580247, 0.001129269876914372, 0.0011135390104215811, 0.0010980272768089572, 0.001082731623528874, 0.0010676490405560643, 0.0010527765597952786, 0.0010381112544971944, 0.0010236502386824625, 0.0010093906665737766, 0.0009953297320358535, 0.0009814646680232158, 0.0009677927460356648, 0.0009543112755813413, 0.0009410176036472644, 0.0009279091141772459, 0.000914983227557078, 0.000902237400106892, 0.0008896691235805887, 0.0008772759246722416, 0.0008650553645293758, 0.0008530050382730276, 0.0008411225745244896, 0.0008294056349386473, 0.0008178519137438176, 0.000806459137287997, 0.0007952250635914303, 0.0007841474819054127, 0.0007732242122772373, 0.0007624531051212028, 0.0007518320407955979, 0.0007413589291855777, 0.0007310317092918507, 0.0007208483488250959, 0.0007108068438060294, 0.0007009052181710417, 0.0006911415233833296, 0.000681513838049444, 0.0006720202675411799, 0.0006626589436227332, 0.0006534280240830513, 0.0006443256923733053, 0.0006353501572494121, 0.0006264996524195359, 0.0006177724361965011, 0.0006091667911550454, 0.0006006810237938494, 0.0005923134642022723, 0.0005840624657317314, 0.0005759264046716586, 0.0005679036799299715, 0.0005599927127179945, 0.0005521919462397698, 0.0005444998453856966, 0.0005369148964304371, 0.0005294356067350313, 0.0005220605044531611, 0.0005147881382415062, 0.0005076170769741352, 0.0005005459094608745, 0.000493573244169601, 0.00048669770895240293, 0.00047991795077555573, 0.0004732326354532587, 0.00046664044738508155, 0.0004601400892970675, 0.0004537302819864437, 0.00044740976406988696, 0.00044117729173529717, 0.00043503163849702766, 0.00042897159495452575, 0.0004229959685543354, 0.00041710358335541486, 0.00041129327979772396, 0.00040556391447403464, 0.00039991435990492034, 0.0003943435043168799, 0.0003888502514235518, 0.0003834335202099768, 0.00037809224471986526, 0.0003728253738458281, 0.0003676318711225298, 0.00036251071452272264, 0.0003574608962561228, 0.00035248142257108725, 0.0003475713135590541, 0.00034272960296170677, 0.00033795533798082423, 0.0003332475790907804, 0.00032860539985365517, 0.00032402788673692126, 0.00031951413893367036, 0.0003150632681853437, 0.00031067439860693217, 0.0003063466665146111, 0.0003020792202557765, 0.00029787122004144834, 0.00029372183778100927, 0.00028963025691924454, 0.0002855956722756529, 0.0002816172898859951, 0.00027769432684605027, 0.0002738260111575482, 0.0002700115815762485, 0.00026625028746213536, 0.0002625413886316996, 0.00025888415521227817, 0.00025527786749842275, 0.00025172181581026943, 0.0002482153003538809, 0.0002447576310835343, 0.00024134812756592758, 0.00023798611884627717, 0.00023467094331628105, 0.0002314019485839212, 0.00022817849134507966, 0.00022499993725694288, 0.00022186566081316975, 0.0002187750452207984, 0.00021572748227886789, 0.00021272237225873042, 0.0002097591237860311, 0.0002068371537243316, 0.00020395588706035502, 0.00020111475679082915, 0.00019831320381090623, 0.00019555067680413691, 0.00019282663213397697, 0.00019014053373680518]}],                        {\"template\": {\"data\": {\"bar\": [{\"error_x\": {\"color\": \"#2a3f5f\"}, \"error_y\": {\"color\": \"#2a3f5f\"}, \"marker\": {\"line\": {\"color\": \"#E5ECF6\", \"width\": 0.5}}, \"type\": \"bar\"}], \"barpolar\": [{\"marker\": {\"line\": {\"color\": \"#E5ECF6\", \"width\": 0.5}}, \"type\": \"barpolar\"}], \"carpet\": [{\"aaxis\": {\"endlinecolor\": \"#2a3f5f\", \"gridcolor\": \"white\", \"linecolor\": \"white\", \"minorgridcolor\": \"white\", \"startlinecolor\": \"#2a3f5f\"}, \"baxis\": {\"endlinecolor\": \"#2a3f5f\", \"gridcolor\": \"white\", \"linecolor\": \"white\", \"minorgridcolor\": \"white\", \"startlinecolor\": \"#2a3f5f\"}, \"type\": \"carpet\"}], \"choropleth\": [{\"colorbar\": {\"outlinewidth\": 0, \"ticks\": \"\"}, \"type\": \"choropleth\"}], \"contour\": [{\"colorbar\": {\"outlinewidth\": 0, \"ticks\": \"\"}, \"colorscale\": [[0.0, \"#0d0887\"], [0.1111111111111111, \"#46039f\"], [0.2222222222222222, \"#7201a8\"], [0.3333333333333333, \"#9c179e\"], [0.4444444444444444, \"#bd3786\"], [0.5555555555555556, \"#d8576b\"], [0.6666666666666666, \"#ed7953\"], [0.7777777777777778, \"#fb9f3a\"], [0.8888888888888888, \"#fdca26\"], [1.0, \"#f0f921\"]], \"type\": \"contour\"}], \"contourcarpet\": [{\"colorbar\": {\"outlinewidth\": 0, \"ticks\": \"\"}, \"type\": \"contourcarpet\"}], \"heatmap\": [{\"colorbar\": {\"outlinewidth\": 0, \"ticks\": \"\"}, \"colorscale\": [[0.0, \"#0d0887\"], [0.1111111111111111, \"#46039f\"], [0.2222222222222222, \"#7201a8\"], [0.3333333333333333, \"#9c179e\"], [0.4444444444444444, \"#bd3786\"], [0.5555555555555556, \"#d8576b\"], [0.6666666666666666, \"#ed7953\"], [0.7777777777777778, \"#fb9f3a\"], [0.8888888888888888, \"#fdca26\"], [1.0, \"#f0f921\"]], \"type\": \"heatmap\"}], \"heatmapgl\": [{\"colorbar\": {\"outlinewidth\": 0, \"ticks\": \"\"}, \"colorscale\": [[0.0, \"#0d0887\"], [0.1111111111111111, \"#46039f\"], [0.2222222222222222, \"#7201a8\"], [0.3333333333333333, \"#9c179e\"], [0.4444444444444444, \"#bd3786\"], [0.5555555555555556, \"#d8576b\"], [0.6666666666666666, \"#ed7953\"], [0.7777777777777778, \"#fb9f3a\"], [0.8888888888888888, \"#fdca26\"], [1.0, \"#f0f921\"]], \"type\": \"heatmapgl\"}], \"histogram\": [{\"marker\": {\"colorbar\": {\"outlinewidth\": 0, \"ticks\": \"\"}}, \"type\": \"histogram\"}], \"histogram2d\": [{\"colorbar\": {\"outlinewidth\": 0, \"ticks\": \"\"}, \"colorscale\": [[0.0, \"#0d0887\"], [0.1111111111111111, \"#46039f\"], [0.2222222222222222, \"#7201a8\"], [0.3333333333333333, \"#9c179e\"], [0.4444444444444444, \"#bd3786\"], [0.5555555555555556, \"#d8576b\"], [0.6666666666666666, \"#ed7953\"], [0.7777777777777778, \"#fb9f3a\"], [0.8888888888888888, \"#fdca26\"], [1.0, \"#f0f921\"]], \"type\": \"histogram2d\"}], \"histogram2dcontour\": [{\"colorbar\": {\"outlinewidth\": 0, \"ticks\": \"\"}, \"colorscale\": [[0.0, \"#0d0887\"], [0.1111111111111111, \"#46039f\"], [0.2222222222222222, \"#7201a8\"], [0.3333333333333333, \"#9c179e\"], [0.4444444444444444, \"#bd3786\"], [0.5555555555555556, \"#d8576b\"], [0.6666666666666666, \"#ed7953\"], [0.7777777777777778, \"#fb9f3a\"], [0.8888888888888888, \"#fdca26\"], [1.0, \"#f0f921\"]], \"type\": \"histogram2dcontour\"}], \"mesh3d\": [{\"colorbar\": {\"outlinewidth\": 0, \"ticks\": \"\"}, \"type\": \"mesh3d\"}], \"parcoords\": [{\"line\": {\"colorbar\": {\"outlinewidth\": 0, \"ticks\": \"\"}}, \"type\": \"parcoords\"}], \"pie\": [{\"automargin\": true, \"type\": \"pie\"}], \"scatter\": [{\"marker\": {\"colorbar\": {\"outlinewidth\": 0, \"ticks\": \"\"}}, \"type\": \"scatter\"}], \"scatter3d\": [{\"line\": {\"colorbar\": {\"outlinewidth\": 0, \"ticks\": \"\"}}, \"marker\": {\"colorbar\": {\"outlinewidth\": 0, \"ticks\": \"\"}}, \"type\": \"scatter3d\"}], \"scattercarpet\": [{\"marker\": {\"colorbar\": {\"outlinewidth\": 0, \"ticks\": \"\"}}, \"type\": \"scattercarpet\"}], \"scattergeo\": [{\"marker\": {\"colorbar\": {\"outlinewidth\": 0, \"ticks\": \"\"}}, \"type\": \"scattergeo\"}], \"scattergl\": [{\"marker\": {\"colorbar\": {\"outlinewidth\": 0, \"ticks\": \"\"}}, \"type\": \"scattergl\"}], \"scattermapbox\": [{\"marker\": {\"colorbar\": {\"outlinewidth\": 0, \"ticks\": \"\"}}, \"type\": \"scattermapbox\"}], \"scatterpolar\": [{\"marker\": {\"colorbar\": {\"outlinewidth\": 0, \"ticks\": \"\"}}, \"type\": \"scatterpolar\"}], \"scatterpolargl\": [{\"marker\": {\"colorbar\": {\"outlinewidth\": 0, \"ticks\": \"\"}}, \"type\": \"scatterpolargl\"}], \"scatterternary\": [{\"marker\": {\"colorbar\": {\"outlinewidth\": 0, \"ticks\": \"\"}}, \"type\": \"scatterternary\"}], \"surface\": [{\"colorbar\": {\"outlinewidth\": 0, \"ticks\": \"\"}, \"colorscale\": [[0.0, \"#0d0887\"], [0.1111111111111111, \"#46039f\"], [0.2222222222222222, \"#7201a8\"], [0.3333333333333333, \"#9c179e\"], [0.4444444444444444, \"#bd3786\"], [0.5555555555555556, \"#d8576b\"], [0.6666666666666666, \"#ed7953\"], [0.7777777777777778, \"#fb9f3a\"], [0.8888888888888888, \"#fdca26\"], [1.0, \"#f0f921\"]], \"type\": \"surface\"}], \"table\": [{\"cells\": {\"fill\": {\"color\": \"#EBF0F8\"}, \"line\": {\"color\": \"white\"}}, \"header\": {\"fill\": {\"color\": \"#C8D4E3\"}, \"line\": {\"color\": \"white\"}}, \"type\": \"table\"}]}, \"layout\": {\"annotationdefaults\": {\"arrowcolor\": \"#2a3f5f\", \"arrowhead\": 0, \"arrowwidth\": 1}, \"coloraxis\": {\"colorbar\": {\"outlinewidth\": 0, \"ticks\": \"\"}}, \"colorscale\": {\"diverging\": [[0, \"#8e0152\"], [0.1, \"#c51b7d\"], [0.2, \"#de77ae\"], [0.3, \"#f1b6da\"], [0.4, \"#fde0ef\"], [0.5, \"#f7f7f7\"], [0.6, \"#e6f5d0\"], [0.7, \"#b8e186\"], [0.8, \"#7fbc41\"], [0.9, \"#4d9221\"], [1, \"#276419\"]], \"sequential\": [[0.0, \"#0d0887\"], [0.1111111111111111, \"#46039f\"], [0.2222222222222222, \"#7201a8\"], [0.3333333333333333, \"#9c179e\"], [0.4444444444444444, \"#bd3786\"], [0.5555555555555556, \"#d8576b\"], [0.6666666666666666, \"#ed7953\"], [0.7777777777777778, \"#fb9f3a\"], [0.8888888888888888, \"#fdca26\"], [1.0, \"#f0f921\"]], \"sequentialminus\": [[0.0, \"#0d0887\"], [0.1111111111111111, \"#46039f\"], [0.2222222222222222, \"#7201a8\"], [0.3333333333333333, \"#9c179e\"], [0.4444444444444444, \"#bd3786\"], [0.5555555555555556, \"#d8576b\"], [0.6666666666666666, \"#ed7953\"], [0.7777777777777778, \"#fb9f3a\"], [0.8888888888888888, \"#fdca26\"], [1.0, \"#f0f921\"]]}, \"colorway\": [\"#636efa\", \"#EF553B\", \"#00cc96\", \"#ab63fa\", \"#FFA15A\", \"#19d3f3\", \"#FF6692\", \"#B6E880\", \"#FF97FF\", \"#FECB52\"], \"font\": {\"color\": \"#2a3f5f\"}, \"geo\": {\"bgcolor\": \"white\", \"lakecolor\": \"white\", \"landcolor\": \"#E5ECF6\", \"showlakes\": true, \"showland\": true, \"subunitcolor\": \"white\"}, \"hoverlabel\": {\"align\": \"left\"}, \"hovermode\": \"closest\", \"mapbox\": {\"style\": \"light\"}, \"paper_bgcolor\": \"white\", \"plot_bgcolor\": \"#E5ECF6\", \"polar\": {\"angularaxis\": {\"gridcolor\": \"white\", \"linecolor\": \"white\", \"ticks\": \"\"}, \"bgcolor\": \"#E5ECF6\", \"radialaxis\": {\"gridcolor\": \"white\", \"linecolor\": \"white\", \"ticks\": \"\"}}, \"scene\": {\"xaxis\": {\"backgroundcolor\": \"#E5ECF6\", \"gridcolor\": \"white\", \"gridwidth\": 2, \"linecolor\": \"white\", \"showbackground\": true, \"ticks\": \"\", \"zerolinecolor\": \"white\"}, \"yaxis\": {\"backgroundcolor\": \"#E5ECF6\", \"gridcolor\": \"white\", \"gridwidth\": 2, \"linecolor\": \"white\", \"showbackground\": true, \"ticks\": \"\", \"zerolinecolor\": \"white\"}, \"zaxis\": {\"backgroundcolor\": \"#E5ECF6\", \"gridcolor\": \"white\", \"gridwidth\": 2, \"linecolor\": \"white\", \"showbackground\": true, \"ticks\": \"\", \"zerolinecolor\": \"white\"}}, \"shapedefaults\": {\"line\": {\"color\": \"#2a3f5f\"}}, \"ternary\": {\"aaxis\": {\"gridcolor\": \"white\", \"linecolor\": \"white\", \"ticks\": \"\"}, \"baxis\": {\"gridcolor\": \"white\", \"linecolor\": \"white\", \"ticks\": \"\"}, \"bgcolor\": \"#E5ECF6\", \"caxis\": {\"gridcolor\": \"white\", \"linecolor\": \"white\", \"ticks\": \"\"}}, \"title\": {\"x\": 0.05}, \"xaxis\": {\"automargin\": true, \"gridcolor\": \"white\", \"linecolor\": \"white\", \"ticks\": \"\", \"title\": {\"standoff\": 15}, \"zerolinecolor\": \"white\", \"zerolinewidth\": 2}, \"yaxis\": {\"automargin\": true, \"gridcolor\": \"white\", \"linecolor\": \"white\", \"ticks\": \"\", \"title\": {\"standoff\": 15}, \"zerolinecolor\": \"white\", \"zerolinewidth\": 2}}}, \"xaxis\": {\"title\": {\"text\": \"time (s)\"}}, \"yaxis\": {\"title\": {\"text\": \"response\"}}},                        {\"responsive\": true}                    ).then(function(){\n",
       "                            \n",
       "var gd = document.getElementById('28004f55-260a-424f-a6c2-777a5c8c32d0');\n",
       "var x = new MutationObserver(function (mutations, observer) {{\n",
       "        var display = window.getComputedStyle(gd).display;\n",
       "        if (!display || display === 'none') {{\n",
       "            console.log([gd, 'removed!']);\n",
       "            Plotly.purge(gd);\n",
       "            observer.disconnect();\n",
       "        }}\n",
       "}});\n",
       "\n",
       "// Listen for the removal of the full notebook cells\n",
       "var notebookContainer = gd.closest('#notebook-container');\n",
       "if (notebookContainer) {{\n",
       "    x.observe(notebookContainer, {childList: true});\n",
       "}}\n",
       "\n",
       "// Listen for the clearing of the current output cell\n",
       "var outputEl = gd.closest('.output');\n",
       "if (outputEl) {{\n",
       "    x.observe(outputEl, {childList: true});\n",
       "}}\n",
       "\n",
       "                        })                };                });            </script>        </div>"
      ]
     },
     "metadata": {},
     "output_type": "display_data"
    }
   ],
   "source": [
    "impulse([F2],500)"
   ]
  },
  {
   "cell_type": "code",
   "execution_count": null,
   "metadata": {},
   "outputs": [],
   "source": []
  },
  {
   "cell_type": "code",
   "execution_count": 6,
   "metadata": {},
   "outputs": [
    {
     "data": {
      "application/vnd.plotly.v1+json": {
       "config": {
        "plotlyServerURL": "https://plot.ly"
       },
       "data": [
        {
         "line": {
          "shape": "linear"
         },
         "mode": "lines",
         "name": "tf 1",
         "showlegend": false,
         "type": "scatter",
         "x": [
          0,
          0.5614035087719298,
          1.1228070175438596,
          1.6842105263157894,
          2.245614035087719,
          2.807017543859649,
          3.3684210526315788,
          3.9298245614035086,
          4.491228070175438,
          5.052631578947368,
          5.614035087719298,
          6.175438596491228,
          6.7368421052631575,
          7.298245614035087,
          7.859649122807017,
          8.421052631578947,
          8.982456140350877,
          9.543859649122806,
          10.105263157894736,
          10.666666666666666,
          11.228070175438596,
          11.789473684210526,
          12.350877192982455,
          12.912280701754385,
          13.473684210526315,
          14.035087719298245,
          14.596491228070175,
          15.157894736842104,
          15.719298245614034,
          16.280701754385966,
          16.842105263157894,
          17.403508771929822,
          17.964912280701753,
          18.526315789473685,
          19.087719298245613,
          19.64912280701754,
          20.210526315789473,
          20.771929824561404,
          21.333333333333332,
          21.89473684210526,
          22.45614035087719,
          23.017543859649123,
          23.57894736842105,
          24.14035087719298,
          24.70175438596491,
          25.263157894736842,
          25.82456140350877,
          26.3859649122807,
          26.94736842105263,
          27.50877192982456,
          28.07017543859649,
          28.631578947368418,
          29.19298245614035,
          29.75438596491228,
          30.31578947368421,
          30.877192982456137,
          31.43859649122807,
          32,
          32.56140350877193,
          33.122807017543856,
          33.68421052631579,
          34.24561403508772,
          34.807017543859644,
          35.368421052631575,
          35.92982456140351,
          36.49122807017544,
          37.05263157894737,
          37.614035087719294,
          38.175438596491226,
          38.73684210526316,
          39.29824561403508,
          39.859649122807014,
          40.421052631578945,
          40.98245614035088,
          41.54385964912281,
          42.10526315789473,
          42.666666666666664,
          43.228070175438596,
          43.78947368421052,
          44.35087719298245,
          44.91228070175438,
          45.473684210526315,
          46.03508771929825,
          46.59649122807017,
          47.1578947368421,
          47.719298245614034,
          48.28070175438596,
          48.84210526315789,
          49.40350877192982,
          49.96491228070175,
          50.526315789473685,
          51.08771929824561,
          51.64912280701754,
          52.21052631578947,
          52.7719298245614,
          53.33333333333333,
          53.89473684210526,
          54.45614035087719,
          55.01754385964912,
          55.57894736842105,
          56.14035087719298,
          56.70175438596491,
          57.263157894736835,
          57.82456140350877,
          58.3859649122807,
          58.94736842105263,
          59.50877192982456,
          60.070175438596486,
          60.63157894736842,
          61.19298245614035,
          61.754385964912274,
          62.315789473684205,
          62.87719298245614,
          63.43859649122807,
          64,
          64.56140350877193,
          65.12280701754386,
          65.68421052631578,
          66.24561403508771,
          66.80701754385964,
          67.36842105263158,
          67.9298245614035,
          68.49122807017544,
          69.05263157894737,
          69.61403508771929,
          70.17543859649122,
          70.73684210526315,
          71.29824561403508,
          71.85964912280701,
          72.42105263157895,
          72.98245614035088,
          73.54385964912281,
          74.10526315789474,
          74.66666666666666,
          75.22807017543859,
          75.78947368421052,
          76.35087719298245,
          76.91228070175438,
          77.47368421052632,
          78.03508771929825,
          78.59649122807016,
          79.1578947368421,
          79.71929824561403,
          80.28070175438596,
          80.84210526315789,
          81.40350877192982,
          81.96491228070175,
          82.52631578947368,
          83.08771929824562,
          83.64912280701753,
          84.21052631578947,
          84.7719298245614,
          85.33333333333333,
          85.89473684210526,
          86.45614035087719,
          87.01754385964912,
          87.57894736842104,
          88.14035087719297,
          88.7017543859649,
          89.26315789473684,
          89.82456140350877,
          90.3859649122807,
          90.94736842105263,
          91.50877192982456,
          92.0701754385965,
          92.63157894736841,
          93.19298245614034,
          93.75438596491227,
          94.3157894736842,
          94.87719298245614,
          95.43859649122807,
          96,
          96.56140350877192,
          97.12280701754385,
          97.68421052631578,
          98.24561403508771,
          98.80701754385964,
          99.36842105263158,
          99.9298245614035,
          100.49122807017544,
          101.05263157894737,
          101.61403508771929,
          102.17543859649122,
          102.73684210526315,
          103.29824561403508,
          103.85964912280701,
          104.42105263157895,
          104.98245614035088,
          105.5438596491228,
          106.10526315789473,
          106.66666666666666,
          107.22807017543859,
          107.78947368421052,
          108.35087719298245,
          108.91228070175438,
          109.47368421052632,
          110.03508771929825,
          110.59649122807016,
          111.1578947368421,
          111.71929824561403,
          112.28070175438596,
          112.84210526315789,
          113.40350877192982,
          113.96491228070175,
          114.52631578947367,
          115.0877192982456,
          115.64912280701753,
          116.21052631578947,
          116.7719298245614,
          117.33333333333333,
          117.89473684210526,
          118.45614035087719,
          119.01754385964912,
          119.57894736842104,
          120.14035087719297,
          120.7017543859649,
          121.26315789473684,
          121.82456140350877,
          122.3859649122807,
          122.94736842105263,
          123.50877192982455,
          124.07017543859648,
          124.63157894736841,
          125.19298245614034,
          125.75438596491227,
          126.3157894736842,
          126.87719298245614,
          127.43859649122807,
          128,
          128.56140350877192,
          129.12280701754386,
          129.68421052631578,
          130.24561403508773,
          130.80701754385964,
          131.36842105263156,
          131.9298245614035,
          132.49122807017542,
          133.05263157894737,
          133.6140350877193,
          134.17543859649123,
          134.73684210526315,
          135.29824561403507,
          135.859649122807,
          136.42105263157893,
          136.98245614035088,
          137.5438596491228,
          138.10526315789474,
          138.66666666666666,
          139.22807017543857,
          139.78947368421052,
          140.35087719298244,
          140.91228070175438,
          141.4736842105263,
          142.03508771929825,
          142.59649122807016,
          143.1578947368421,
          143.71929824561403,
          144.28070175438594,
          144.8421052631579,
          145.4035087719298,
          145.96491228070175,
          146.52631578947367,
          147.08771929824562,
          147.64912280701753,
          148.21052631578948,
          148.7719298245614,
          149.33333333333331,
          149.89473684210526,
          150.45614035087718,
          151.01754385964912,
          151.57894736842104,
          152.140350877193,
          152.7017543859649,
          153.26315789473682,
          153.82456140350877,
          154.38596491228068,
          154.94736842105263,
          155.50877192982455,
          156.0701754385965,
          156.6315789473684,
          157.19298245614033,
          157.75438596491227,
          158.3157894736842,
          158.87719298245614,
          159.43859649122805,
          160,
          160.56140350877192,
          161.12280701754386,
          161.68421052631578,
          162.2456140350877,
          162.80701754385964,
          163.36842105263156,
          163.9298245614035,
          164.49122807017542,
          165.05263157894737,
          165.6140350877193,
          166.17543859649123,
          166.73684210526315,
          167.29824561403507,
          167.859649122807,
          168.42105263157893,
          168.98245614035088,
          169.5438596491228,
          170.10526315789474,
          170.66666666666666,
          171.22807017543857,
          171.78947368421052,
          172.35087719298244,
          172.91228070175438,
          173.4736842105263,
          174.03508771929825,
          174.59649122807016,
          175.15789473684208,
          175.71929824561403,
          176.28070175438594,
          176.8421052631579,
          177.4035087719298,
          177.96491228070175,
          178.52631578947367,
          179.08771929824562,
          179.64912280701753,
          180.21052631578945,
          180.7719298245614,
          181.33333333333331,
          181.89473684210526,
          182.45614035087718,
          183.01754385964912,
          183.57894736842104,
          184.140350877193,
          184.7017543859649,
          185.26315789473682,
          185.82456140350877,
          186.38596491228068,
          186.94736842105263,
          187.50877192982455,
          188.0701754385965,
          188.6315789473684,
          189.19298245614033,
          189.75438596491227,
          190.3157894736842,
          190.87719298245614,
          191.43859649122805,
          192,
          192.56140350877192,
          193.12280701754383,
          193.68421052631578,
          194.2456140350877,
          194.80701754385964,
          195.36842105263156,
          195.9298245614035,
          196.49122807017542,
          197.05263157894737,
          197.6140350877193,
          198.1754385964912,
          198.73684210526315,
          199.29824561403507,
          199.859649122807,
          200.42105263157893,
          200.98245614035088,
          201.5438596491228,
          202.10526315789474,
          202.66666666666666,
          203.22807017543857,
          203.78947368421052,
          204.35087719298244,
          204.91228070175438,
          205.4736842105263,
          206.03508771929825,
          206.59649122807016,
          207.15789473684208,
          207.71929824561403,
          208.28070175438594,
          208.8421052631579,
          209.4035087719298,
          209.96491228070175,
          210.52631578947367,
          211.0877192982456,
          211.64912280701753,
          212.21052631578945,
          212.7719298245614,
          213.33333333333331,
          213.89473684210526,
          214.45614035087718,
          215.01754385964912,
          215.57894736842104,
          216.14035087719296,
          216.7017543859649,
          217.26315789473682,
          217.82456140350877,
          218.38596491228068,
          218.94736842105263,
          219.50877192982455,
          220.0701754385965,
          220.6315789473684,
          221.19298245614033,
          221.75438596491227,
          222.3157894736842,
          222.87719298245614,
          223.43859649122805,
          224
         ],
         "y": [
          0,
          0.13701334891065986,
          0.26401568969522327,
          0.3764515998033433,
          0.47048479415283123,
          0.5431213591772527,
          0.5922962335568188,
          0.6169208658588227,
          0.6168915487312036,
          0.5930594639048504,
          0.5471649140515008,
          0.4817395140810575,
          0.39998122072407194,
          0.3056079591056403,
          0.2026962323313074,
          0.09551145937543566,
          -0.011663126833177884,
          -0.11469236923531605,
          -0.20974364295147646,
          -0.29342431234583644,
          -0.36289747095818053,
          -0.41597224707862485,
          -0.4511660673338766,
          -0.46773744260942823,
          -0.46568902757746733,
          -0.44574186071830774,
          -0.4092827725025277,
          -0.3582879162184659,
          -0.2952261954083521,
          -0.22294700747533913,
          -0.1445571758267981,
          -0.06329219210175058,
          0.017613067002190036,
          0.09504914158233281,
          0.16614764789206884,
          0.22838364752891469,
          0.2796612346009976,
          0.3183796169819686,
          0.34347781434989105,
          0.35445698554044613,
          0.3513802950018678,
          0.33485109794031476,
          0.3059710334738422,
          0.2662803355972318,
          0.2176832782747334,
          0.16236214404946,
          0.10268343153353846,
          0.041100188515626086,
          -0.019945627090037887,
          -0.0781169918490767,
          -0.1312683766476904,
          -0.17752193288778648,
          -0.21533072294230296,
          -0.24352700172385908,
          -0.26135420176960544,
          -0.26848194953605126,
          -0.2650041185470501,
          -0.2514205793945705,
          -0.22860391291940607,
          -0.19775288945744707,
          -0.16033496552813614,
          -0.11802039549599819,
          -0.07261078972523768,
          -0.025965067409849635,
          0.020074248858779224,
          0.06375156452388882,
          0.10346295836052855,
          0.13781284283553252,
          0.1656606319596168,
          0.1861559604100039,
          0.19876148967957682,
          0.20326284923007432,
          0.19976577262935105,
          0.18868098068733155,
          0.17069781737449724,
          0.14674804362048846,
          0.11796152541808726,
          0.08561580555875431,
          0.0510817157455256,
          0.015767264254601634,
          -0.018937976209341234,
          -0.05171585182405236,
          -0.08136802831862797,
          -0.106858099386967,
          -0.12734599497558435,
          -0.14221362724001416,
          -0.15108108669714634,
          -0.15381308944069064,
          -0.1505157627796642,
          -0.14152422645558696,
          -0.12738176599945492,
          -0.10881169175587067,
          -0.08668322163327623,
          -0.06197291010831204,
          -0.03572326537178841,
          -0.009000248392849585,
          0.017148667579258065,
          0.04173427805595668,
          0.0638618083320766,
          0.08276218397344552,
          0.09781737276809628,
          0.10857902469176048,
          0.11477992171347297,
          0.11633804354319323,
          0.11335334703488109,
          0.10609763474500447,
          0.09499814186583078,
          0.08061569144469803,
          0.06361844808778382,
          0.044752434666124746,
          0.024810061294803166,
          0.004597949481973982,
          -0.01509468269191738,
          -0.03352587379860672,
          -0.050027919492812704,
          -0.06403057665546225,
          -0.07507970677244778,
          -0.08285079641526324,
          -0.0871570097473094,
          -0.08795165086845307,
          -0.08532513372897631,
          -0.07949676590885191,
          -0.07080184211298332,
          -0.059674707118823306,
          -0.04662858069087961,
          -0.032233034596136315,
          -0.017090071760798235,
          -0.0018097787907384935,
          0.013013493946555526,
          0.026823523737629005,
          0.03912236368030909,
          0.049487547478596225,
          0.05758578848481305,
          0.0631827652646988,
          0.0661487510271499,
          0.06646001299833311,
          0.06419607359229382,
          0.059533081742597985,
          0.05273368429197235,
          0.04413390894457808,
          0.034127667963028276,
          0.023149562595588813,
          0.01165671034272237,
          0.00011032997968654992,
          -0.011042196740121135,
          -0.021384110957899473,
          -0.030544302182407376,
          -0.03821005427780351,
          -0.044137098736395756,
          -0.048156680157063106,
          -0.05017946431320809,
          -0.05019624687623462,
          -0.04827554575838737,
          -0.04455827742894553,
          -0.039249823169402606,
          -0.03260988139730054,
          -0.02494057395831456,
          -0.01657332552685976,
          -0.007855064697538869,
          0.0008656973912954183,
          0.009252369499972959,
          0.01699285722645149,
          0.023810761050524418,
          0.029474810931574794,
          0.033806234212718195,
          0.03668384378670547,
          0.038046728792044654,
          0.03789452667742871,
          0.036285349529099016,
          0.03333152555655604,
          0.029193395390191328,
          0.024071469639624206,
          0.01819730682885268,
          0.011823507818634952,
          0.005213243260713365,
          -0.0013702657149294835,
          -0.0076739060622476075,
          -0.013464091084274685,
          -0.01853510050683914,
          -0.022716057720608973,
          -0.02587632195252457,
          -0.027929141952882444,
          -0.028833490156216342,
          -0.028594069277808425,
          -0.027259554104401104,
          -0.024919197171753865,
          -0.02169798571658594,
          -0.017750586730926447,
          -0.013254355544302225,
          -0.008401709998046378,
          -0.003392186340725874,
          0.0015755056448984082,
          0.0063111216908444765,
          0.010639932048096986,
          0.014408928792870323,
          0.017491980936930572,
          0.01979377470249736,
          0.02125242880636881,
          0.021840729522946273,
          0.021565985458246645,
          0.020468555230061032,
          0.01861915062339443,
          0.016115061504118067,
          0.013075485335774453,
          0.009636172390478162,
          0.005943616871663657,
          0.002149033750429639,
          -0.001597638882368379,
          -0.005153481398898861,
          -0.008387865432502606,
          -0.011187070594947505,
          -0.01345808959033324,
          -0.015131502882546928,
          -0.016163344073607252,
          -0.016535918813759237,
          -0.016257581725796208,
          -0.015361515878273762,
          -0.013903596295054416,
          -0.011959451522963136,
          -0.009620864292196135,
          -0.00699167294354896,
          -0.004183348985860334,
          -0.0013104325977143691,
          0.0015139928999187554,
          0.004182614318851479,
          0.006597830510119048,
          0.008675183601252653,
          0.010346164771938733,
          0.011560307868047478,
          0.012286514623299796,
          0.01251358684632467,
          0.012249972381055145,
          0.011522761751531267,
          0.010376000043090075,
          0.008868402768950883,
          0.007070584409409211,
          0.005061923367727299,
          0.002927196849663613,
          0.0007531234482363175,
          -0.0013750499739489195,
          -0.0033767869313766144,
          -0.005179206538412133,
          -0.006719631778968166,
          -0.007947656180515043,
          -0.0088266657514799,
          -0.00933477623769572,
          -0.009465169691692782,
          -0.009225838079013003,
          -0.008638764259858557,
          -0.007738591348144193,
          -0.006570849433310277,
          -0.005189823351576303,
          -0.0036561561585578056,
          -0.002034289890038268,
          -0.00038984797355308886,
          0.0012129376934071501,
          0.002713657258213195,
          0.004057922145598314,
          0.005199256121276727,
          0.006100615842310404,
          0.00673549499630978,
          0.007088583781993184,
          0.007155973615469962,
          0.006944914843608175,
          0.006473152225511326,
          0.005767878381900621,
          0.0048643587674780065,
          0.003804292549632572,
          0.002633981747450385,
          0.001402385888867859,
          0.0001591411974852402,
          -0.00104737803502196,
          -0.002171882540277695,
          -0.003173809264982457,
          -0.0040187236067669085,
          -0.004679436825566121,
          -0.005136805333895982,
          -0.005380191992684417,
          -0.005407583266602328,
          -0.0052253695839799075,
          -0.004847808988947592,
          -0.004296205701525796,
          -0.0035978451120473693,
          -0.0027847347028800698,
          -0.0018922061725497922,
          -0.000957437487253935,
          -1.795464969258731e-05,
          0.0008898283037277844,
          0.0017319760587874997,
          0.002478256008998124,
          0.0031031771639150637,
          0.003586810273556545,
          0.003915365066586353,
          0.004081510703115461,
          0.004084435930697958,
          0.003929655597149924,
          0.003628579731648162,
          0.0031978700083010853,
          0.002658615755006725,
          0.0020353675246049825,
          0.0013550704307260797,
          0.0006459418633732592,
          -6.366119281694927e-05,
          -0.0007463411727503649,
          -0.001376684031044348,
          -0.0019321714945765068,
          -0.0023939501230684124,
          -0.002747432439388611,
          -0.0029827127240856276,
          -0.003094787820277001,
          -0.003083581151876258,
          -0.0029537758134377625,
          -0.002714469755196833,
          -0.0023786725025894094,
          -0.0019626682939366323,
          -0.0014852748164836623,
          -0.0009670297433798756,
          -0.00042933894978532854,
          0.00010637940313296189,
          0.0006195217469111137,
          0.001091066041910174,
          0.0015042512441310152,
          0.0018451461002528006,
          0.0021030891388831353,
          0.002270987321293519,
          0.002345466701028079,
          0.00232687438156376,
          0.0022191368236188763,
          0.0020294849225173995,
          0.001768061057625466,
          0.001447427346024367,
          0.0010819974816706438,
          0.000687416718184557,
          0.0002799157076247914,
          -0.00012433597012646207,
          -0.0005098516315648984,
          -0.0008624015230295362,
          -0.0011695185611938197,
          -0.0014209186204435966,
          -0.00160882209602185,
          -0.0017281677388362397,
          -0.001776714225156233,
          -0.001755029412785859,
          -0.001666371570770099,
          -0.0015164708902577408,
          -0.0013132231455187974,
          -0.0010663103547113412,
          -0.0007867655948243707,
          -0.00048650068865430335,
          -0.0001778162689382494,
          0.00012708626774893614,
          0.00041657215042716187,
          0.0006800026437077027,
          0.000908111218364164,
          0.001093313802972676,
          0.0012299434178871592,
          0.001314402745053292,
          0.0013452315760164914,
          0.001323089470469973,
          0.0012506572179711566,
          0.0011324637046971945,
          0.0009746474378523142,
          0.0007846641826585648,
          0.0005709538512386478,
          0.0003425809019985702,
          0.0001088630386323847,
          -0.00012099706056865095,
          -0.00033826287725281166,
          -0.0005349850931272185,
          -0.0007042811854307879,
          -0.000840564218089707,
          -0.0009397137519675019,
          -0.0009991842750477044,
          -0.0010180491228594427,
          -0.0009969804186539715,
          -0.0009381680133666022,
          -0.0008451826564430031,
          -0.0007227906001891276,
          -0.0005767284659791559,
          -0.00041344842962299377,
          -0.00023984458171054759,
          -6.29716708437976e-05,
          0.00011023265485418746,
          0.0002732115108015833,
          0.000420028655717341,
          0.0005455761519527048,
          0.0006457429043808517,
          0.0007175389233726766,
          0.0007591720435684464,
          0.0007700757774149366,
          0.0007508889135315628,
          0.0007033893109398825,
          0.0006303860231091446,
          0.0005355753511476629,
          0.000423367624262357,
          0.0002986924007510976,
          0.00016679035021360347,
          3.3000306771289485e-05,
          -9.74501233008289e-05,
          -0.000219642442333644
         ]
        }
       ],
       "layout": {
        "template": {
         "data": {
          "bar": [
           {
            "error_x": {
             "color": "#2a3f5f"
            },
            "error_y": {
             "color": "#2a3f5f"
            },
            "marker": {
             "line": {
              "color": "#E5ECF6",
              "width": 0.5
             }
            },
            "type": "bar"
           }
          ],
          "barpolar": [
           {
            "marker": {
             "line": {
              "color": "#E5ECF6",
              "width": 0.5
             }
            },
            "type": "barpolar"
           }
          ],
          "carpet": [
           {
            "aaxis": {
             "endlinecolor": "#2a3f5f",
             "gridcolor": "white",
             "linecolor": "white",
             "minorgridcolor": "white",
             "startlinecolor": "#2a3f5f"
            },
            "baxis": {
             "endlinecolor": "#2a3f5f",
             "gridcolor": "white",
             "linecolor": "white",
             "minorgridcolor": "white",
             "startlinecolor": "#2a3f5f"
            },
            "type": "carpet"
           }
          ],
          "choropleth": [
           {
            "colorbar": {
             "outlinewidth": 0,
             "ticks": ""
            },
            "type": "choropleth"
           }
          ],
          "contour": [
           {
            "colorbar": {
             "outlinewidth": 0,
             "ticks": ""
            },
            "colorscale": [
             [
              0,
              "#0d0887"
             ],
             [
              0.1111111111111111,
              "#46039f"
             ],
             [
              0.2222222222222222,
              "#7201a8"
             ],
             [
              0.3333333333333333,
              "#9c179e"
             ],
             [
              0.4444444444444444,
              "#bd3786"
             ],
             [
              0.5555555555555556,
              "#d8576b"
             ],
             [
              0.6666666666666666,
              "#ed7953"
             ],
             [
              0.7777777777777778,
              "#fb9f3a"
             ],
             [
              0.8888888888888888,
              "#fdca26"
             ],
             [
              1,
              "#f0f921"
             ]
            ],
            "type": "contour"
           }
          ],
          "contourcarpet": [
           {
            "colorbar": {
             "outlinewidth": 0,
             "ticks": ""
            },
            "type": "contourcarpet"
           }
          ],
          "heatmap": [
           {
            "colorbar": {
             "outlinewidth": 0,
             "ticks": ""
            },
            "colorscale": [
             [
              0,
              "#0d0887"
             ],
             [
              0.1111111111111111,
              "#46039f"
             ],
             [
              0.2222222222222222,
              "#7201a8"
             ],
             [
              0.3333333333333333,
              "#9c179e"
             ],
             [
              0.4444444444444444,
              "#bd3786"
             ],
             [
              0.5555555555555556,
              "#d8576b"
             ],
             [
              0.6666666666666666,
              "#ed7953"
             ],
             [
              0.7777777777777778,
              "#fb9f3a"
             ],
             [
              0.8888888888888888,
              "#fdca26"
             ],
             [
              1,
              "#f0f921"
             ]
            ],
            "type": "heatmap"
           }
          ],
          "heatmapgl": [
           {
            "colorbar": {
             "outlinewidth": 0,
             "ticks": ""
            },
            "colorscale": [
             [
              0,
              "#0d0887"
             ],
             [
              0.1111111111111111,
              "#46039f"
             ],
             [
              0.2222222222222222,
              "#7201a8"
             ],
             [
              0.3333333333333333,
              "#9c179e"
             ],
             [
              0.4444444444444444,
              "#bd3786"
             ],
             [
              0.5555555555555556,
              "#d8576b"
             ],
             [
              0.6666666666666666,
              "#ed7953"
             ],
             [
              0.7777777777777778,
              "#fb9f3a"
             ],
             [
              0.8888888888888888,
              "#fdca26"
             ],
             [
              1,
              "#f0f921"
             ]
            ],
            "type": "heatmapgl"
           }
          ],
          "histogram": [
           {
            "marker": {
             "colorbar": {
              "outlinewidth": 0,
              "ticks": ""
             }
            },
            "type": "histogram"
           }
          ],
          "histogram2d": [
           {
            "colorbar": {
             "outlinewidth": 0,
             "ticks": ""
            },
            "colorscale": [
             [
              0,
              "#0d0887"
             ],
             [
              0.1111111111111111,
              "#46039f"
             ],
             [
              0.2222222222222222,
              "#7201a8"
             ],
             [
              0.3333333333333333,
              "#9c179e"
             ],
             [
              0.4444444444444444,
              "#bd3786"
             ],
             [
              0.5555555555555556,
              "#d8576b"
             ],
             [
              0.6666666666666666,
              "#ed7953"
             ],
             [
              0.7777777777777778,
              "#fb9f3a"
             ],
             [
              0.8888888888888888,
              "#fdca26"
             ],
             [
              1,
              "#f0f921"
             ]
            ],
            "type": "histogram2d"
           }
          ],
          "histogram2dcontour": [
           {
            "colorbar": {
             "outlinewidth": 0,
             "ticks": ""
            },
            "colorscale": [
             [
              0,
              "#0d0887"
             ],
             [
              0.1111111111111111,
              "#46039f"
             ],
             [
              0.2222222222222222,
              "#7201a8"
             ],
             [
              0.3333333333333333,
              "#9c179e"
             ],
             [
              0.4444444444444444,
              "#bd3786"
             ],
             [
              0.5555555555555556,
              "#d8576b"
             ],
             [
              0.6666666666666666,
              "#ed7953"
             ],
             [
              0.7777777777777778,
              "#fb9f3a"
             ],
             [
              0.8888888888888888,
              "#fdca26"
             ],
             [
              1,
              "#f0f921"
             ]
            ],
            "type": "histogram2dcontour"
           }
          ],
          "mesh3d": [
           {
            "colorbar": {
             "outlinewidth": 0,
             "ticks": ""
            },
            "type": "mesh3d"
           }
          ],
          "parcoords": [
           {
            "line": {
             "colorbar": {
              "outlinewidth": 0,
              "ticks": ""
             }
            },
            "type": "parcoords"
           }
          ],
          "pie": [
           {
            "automargin": true,
            "type": "pie"
           }
          ],
          "scatter": [
           {
            "marker": {
             "colorbar": {
              "outlinewidth": 0,
              "ticks": ""
             }
            },
            "type": "scatter"
           }
          ],
          "scatter3d": [
           {
            "line": {
             "colorbar": {
              "outlinewidth": 0,
              "ticks": ""
             }
            },
            "marker": {
             "colorbar": {
              "outlinewidth": 0,
              "ticks": ""
             }
            },
            "type": "scatter3d"
           }
          ],
          "scattercarpet": [
           {
            "marker": {
             "colorbar": {
              "outlinewidth": 0,
              "ticks": ""
             }
            },
            "type": "scattercarpet"
           }
          ],
          "scattergeo": [
           {
            "marker": {
             "colorbar": {
              "outlinewidth": 0,
              "ticks": ""
             }
            },
            "type": "scattergeo"
           }
          ],
          "scattergl": [
           {
            "marker": {
             "colorbar": {
              "outlinewidth": 0,
              "ticks": ""
             }
            },
            "type": "scattergl"
           }
          ],
          "scattermapbox": [
           {
            "marker": {
             "colorbar": {
              "outlinewidth": 0,
              "ticks": ""
             }
            },
            "type": "scattermapbox"
           }
          ],
          "scatterpolar": [
           {
            "marker": {
             "colorbar": {
              "outlinewidth": 0,
              "ticks": ""
             }
            },
            "type": "scatterpolar"
           }
          ],
          "scatterpolargl": [
           {
            "marker": {
             "colorbar": {
              "outlinewidth": 0,
              "ticks": ""
             }
            },
            "type": "scatterpolargl"
           }
          ],
          "scatterternary": [
           {
            "marker": {
             "colorbar": {
              "outlinewidth": 0,
              "ticks": ""
             }
            },
            "type": "scatterternary"
           }
          ],
          "surface": [
           {
            "colorbar": {
             "outlinewidth": 0,
             "ticks": ""
            },
            "colorscale": [
             [
              0,
              "#0d0887"
             ],
             [
              0.1111111111111111,
              "#46039f"
             ],
             [
              0.2222222222222222,
              "#7201a8"
             ],
             [
              0.3333333333333333,
              "#9c179e"
             ],
             [
              0.4444444444444444,
              "#bd3786"
             ],
             [
              0.5555555555555556,
              "#d8576b"
             ],
             [
              0.6666666666666666,
              "#ed7953"
             ],
             [
              0.7777777777777778,
              "#fb9f3a"
             ],
             [
              0.8888888888888888,
              "#fdca26"
             ],
             [
              1,
              "#f0f921"
             ]
            ],
            "type": "surface"
           }
          ],
          "table": [
           {
            "cells": {
             "fill": {
              "color": "#EBF0F8"
             },
             "line": {
              "color": "white"
             }
            },
            "header": {
             "fill": {
              "color": "#C8D4E3"
             },
             "line": {
              "color": "white"
             }
            },
            "type": "table"
           }
          ]
         },
         "layout": {
          "annotationdefaults": {
           "arrowcolor": "#2a3f5f",
           "arrowhead": 0,
           "arrowwidth": 1
          },
          "coloraxis": {
           "colorbar": {
            "outlinewidth": 0,
            "ticks": ""
           }
          },
          "colorscale": {
           "diverging": [
            [
             0,
             "#8e0152"
            ],
            [
             0.1,
             "#c51b7d"
            ],
            [
             0.2,
             "#de77ae"
            ],
            [
             0.3,
             "#f1b6da"
            ],
            [
             0.4,
             "#fde0ef"
            ],
            [
             0.5,
             "#f7f7f7"
            ],
            [
             0.6,
             "#e6f5d0"
            ],
            [
             0.7,
             "#b8e186"
            ],
            [
             0.8,
             "#7fbc41"
            ],
            [
             0.9,
             "#4d9221"
            ],
            [
             1,
             "#276419"
            ]
           ],
           "sequential": [
            [
             0,
             "#0d0887"
            ],
            [
             0.1111111111111111,
             "#46039f"
            ],
            [
             0.2222222222222222,
             "#7201a8"
            ],
            [
             0.3333333333333333,
             "#9c179e"
            ],
            [
             0.4444444444444444,
             "#bd3786"
            ],
            [
             0.5555555555555556,
             "#d8576b"
            ],
            [
             0.6666666666666666,
             "#ed7953"
            ],
            [
             0.7777777777777778,
             "#fb9f3a"
            ],
            [
             0.8888888888888888,
             "#fdca26"
            ],
            [
             1,
             "#f0f921"
            ]
           ],
           "sequentialminus": [
            [
             0,
             "#0d0887"
            ],
            [
             0.1111111111111111,
             "#46039f"
            ],
            [
             0.2222222222222222,
             "#7201a8"
            ],
            [
             0.3333333333333333,
             "#9c179e"
            ],
            [
             0.4444444444444444,
             "#bd3786"
            ],
            [
             0.5555555555555556,
             "#d8576b"
            ],
            [
             0.6666666666666666,
             "#ed7953"
            ],
            [
             0.7777777777777778,
             "#fb9f3a"
            ],
            [
             0.8888888888888888,
             "#fdca26"
            ],
            [
             1,
             "#f0f921"
            ]
           ]
          },
          "colorway": [
           "#636efa",
           "#EF553B",
           "#00cc96",
           "#ab63fa",
           "#FFA15A",
           "#19d3f3",
           "#FF6692",
           "#B6E880",
           "#FF97FF",
           "#FECB52"
          ],
          "font": {
           "color": "#2a3f5f"
          },
          "geo": {
           "bgcolor": "white",
           "lakecolor": "white",
           "landcolor": "#E5ECF6",
           "showlakes": true,
           "showland": true,
           "subunitcolor": "white"
          },
          "hoverlabel": {
           "align": "left"
          },
          "hovermode": "closest",
          "mapbox": {
           "style": "light"
          },
          "paper_bgcolor": "white",
          "plot_bgcolor": "#E5ECF6",
          "polar": {
           "angularaxis": {
            "gridcolor": "white",
            "linecolor": "white",
            "ticks": ""
           },
           "bgcolor": "#E5ECF6",
           "radialaxis": {
            "gridcolor": "white",
            "linecolor": "white",
            "ticks": ""
           }
          },
          "scene": {
           "xaxis": {
            "backgroundcolor": "#E5ECF6",
            "gridcolor": "white",
            "gridwidth": 2,
            "linecolor": "white",
            "showbackground": true,
            "ticks": "",
            "zerolinecolor": "white"
           },
           "yaxis": {
            "backgroundcolor": "#E5ECF6",
            "gridcolor": "white",
            "gridwidth": 2,
            "linecolor": "white",
            "showbackground": true,
            "ticks": "",
            "zerolinecolor": "white"
           },
           "zaxis": {
            "backgroundcolor": "#E5ECF6",
            "gridcolor": "white",
            "gridwidth": 2,
            "linecolor": "white",
            "showbackground": true,
            "ticks": "",
            "zerolinecolor": "white"
           }
          },
          "shapedefaults": {
           "line": {
            "color": "#2a3f5f"
           }
          },
          "ternary": {
           "aaxis": {
            "gridcolor": "white",
            "linecolor": "white",
            "ticks": ""
           },
           "baxis": {
            "gridcolor": "white",
            "linecolor": "white",
            "ticks": ""
           },
           "bgcolor": "#E5ECF6",
           "caxis": {
            "gridcolor": "white",
            "linecolor": "white",
            "ticks": ""
           }
          },
          "title": {
           "x": 0.05
          },
          "xaxis": {
           "automargin": true,
           "gridcolor": "white",
           "linecolor": "white",
           "ticks": "",
           "title": {
            "standoff": 15
           },
           "zerolinecolor": "white",
           "zerolinewidth": 2
          },
          "yaxis": {
           "automargin": true,
           "gridcolor": "white",
           "linecolor": "white",
           "ticks": "",
           "title": {
            "standoff": 15
           },
           "zerolinecolor": "white",
           "zerolinewidth": 2
          }
         }
        },
        "xaxis": {
         "title": {
          "text": "time (s)"
         }
        },
        "yaxis": {
         "title": {
          "text": "response"
         }
        }
       }
      },
      "text/html": [
       "<div>                            <div id=\"554d45c7-5de4-44d0-bb8e-8c3f3b03ca7b\" class=\"plotly-graph-div\" style=\"height:525px; width:100%;\"></div>            <script type=\"text/javascript\">                require([\"plotly\"], function(Plotly) {                    window.PLOTLYENV=window.PLOTLYENV || {};                                    if (document.getElementById(\"554d45c7-5de4-44d0-bb8e-8c3f3b03ca7b\")) {                    Plotly.newPlot(                        \"554d45c7-5de4-44d0-bb8e-8c3f3b03ca7b\",                        [{\"line\": {\"shape\": \"linear\"}, \"mode\": \"lines\", \"name\": \"tf 1\", \"showlegend\": false, \"type\": \"scatter\", \"x\": [0.0, 0.5614035087719298, 1.1228070175438596, 1.6842105263157894, 2.245614035087719, 2.807017543859649, 3.3684210526315788, 3.9298245614035086, 4.491228070175438, 5.052631578947368, 5.614035087719298, 6.175438596491228, 6.7368421052631575, 7.298245614035087, 7.859649122807017, 8.421052631578947, 8.982456140350877, 9.543859649122806, 10.105263157894736, 10.666666666666666, 11.228070175438596, 11.789473684210526, 12.350877192982455, 12.912280701754385, 13.473684210526315, 14.035087719298245, 14.596491228070175, 15.157894736842104, 15.719298245614034, 16.280701754385966, 16.842105263157894, 17.403508771929822, 17.964912280701753, 18.526315789473685, 19.087719298245613, 19.64912280701754, 20.210526315789473, 20.771929824561404, 21.333333333333332, 21.89473684210526, 22.45614035087719, 23.017543859649123, 23.57894736842105, 24.14035087719298, 24.70175438596491, 25.263157894736842, 25.82456140350877, 26.3859649122807, 26.94736842105263, 27.50877192982456, 28.07017543859649, 28.631578947368418, 29.19298245614035, 29.75438596491228, 30.31578947368421, 30.877192982456137, 31.43859649122807, 32.0, 32.56140350877193, 33.122807017543856, 33.68421052631579, 34.24561403508772, 34.807017543859644, 35.368421052631575, 35.92982456140351, 36.49122807017544, 37.05263157894737, 37.614035087719294, 38.175438596491226, 38.73684210526316, 39.29824561403508, 39.859649122807014, 40.421052631578945, 40.98245614035088, 41.54385964912281, 42.10526315789473, 42.666666666666664, 43.228070175438596, 43.78947368421052, 44.35087719298245, 44.91228070175438, 45.473684210526315, 46.03508771929825, 46.59649122807017, 47.1578947368421, 47.719298245614034, 48.28070175438596, 48.84210526315789, 49.40350877192982, 49.96491228070175, 50.526315789473685, 51.08771929824561, 51.64912280701754, 52.21052631578947, 52.7719298245614, 53.33333333333333, 53.89473684210526, 54.45614035087719, 55.01754385964912, 55.57894736842105, 56.14035087719298, 56.70175438596491, 57.263157894736835, 57.82456140350877, 58.3859649122807, 58.94736842105263, 59.50877192982456, 60.070175438596486, 60.63157894736842, 61.19298245614035, 61.754385964912274, 62.315789473684205, 62.87719298245614, 63.43859649122807, 64.0, 64.56140350877193, 65.12280701754386, 65.68421052631578, 66.24561403508771, 66.80701754385964, 67.36842105263158, 67.9298245614035, 68.49122807017544, 69.05263157894737, 69.61403508771929, 70.17543859649122, 70.73684210526315, 71.29824561403508, 71.85964912280701, 72.42105263157895, 72.98245614035088, 73.54385964912281, 74.10526315789474, 74.66666666666666, 75.22807017543859, 75.78947368421052, 76.35087719298245, 76.91228070175438, 77.47368421052632, 78.03508771929825, 78.59649122807016, 79.1578947368421, 79.71929824561403, 80.28070175438596, 80.84210526315789, 81.40350877192982, 81.96491228070175, 82.52631578947368, 83.08771929824562, 83.64912280701753, 84.21052631578947, 84.7719298245614, 85.33333333333333, 85.89473684210526, 86.45614035087719, 87.01754385964912, 87.57894736842104, 88.14035087719297, 88.7017543859649, 89.26315789473684, 89.82456140350877, 90.3859649122807, 90.94736842105263, 91.50877192982456, 92.0701754385965, 92.63157894736841, 93.19298245614034, 93.75438596491227, 94.3157894736842, 94.87719298245614, 95.43859649122807, 96.0, 96.56140350877192, 97.12280701754385, 97.68421052631578, 98.24561403508771, 98.80701754385964, 99.36842105263158, 99.9298245614035, 100.49122807017544, 101.05263157894737, 101.61403508771929, 102.17543859649122, 102.73684210526315, 103.29824561403508, 103.85964912280701, 104.42105263157895, 104.98245614035088, 105.5438596491228, 106.10526315789473, 106.66666666666666, 107.22807017543859, 107.78947368421052, 108.35087719298245, 108.91228070175438, 109.47368421052632, 110.03508771929825, 110.59649122807016, 111.1578947368421, 111.71929824561403, 112.28070175438596, 112.84210526315789, 113.40350877192982, 113.96491228070175, 114.52631578947367, 115.0877192982456, 115.64912280701753, 116.21052631578947, 116.7719298245614, 117.33333333333333, 117.89473684210526, 118.45614035087719, 119.01754385964912, 119.57894736842104, 120.14035087719297, 120.7017543859649, 121.26315789473684, 121.82456140350877, 122.3859649122807, 122.94736842105263, 123.50877192982455, 124.07017543859648, 124.63157894736841, 125.19298245614034, 125.75438596491227, 126.3157894736842, 126.87719298245614, 127.43859649122807, 128.0, 128.56140350877192, 129.12280701754386, 129.68421052631578, 130.24561403508773, 130.80701754385964, 131.36842105263156, 131.9298245614035, 132.49122807017542, 133.05263157894737, 133.6140350877193, 134.17543859649123, 134.73684210526315, 135.29824561403507, 135.859649122807, 136.42105263157893, 136.98245614035088, 137.5438596491228, 138.10526315789474, 138.66666666666666, 139.22807017543857, 139.78947368421052, 140.35087719298244, 140.91228070175438, 141.4736842105263, 142.03508771929825, 142.59649122807016, 143.1578947368421, 143.71929824561403, 144.28070175438594, 144.8421052631579, 145.4035087719298, 145.96491228070175, 146.52631578947367, 147.08771929824562, 147.64912280701753, 148.21052631578948, 148.7719298245614, 149.33333333333331, 149.89473684210526, 150.45614035087718, 151.01754385964912, 151.57894736842104, 152.140350877193, 152.7017543859649, 153.26315789473682, 153.82456140350877, 154.38596491228068, 154.94736842105263, 155.50877192982455, 156.0701754385965, 156.6315789473684, 157.19298245614033, 157.75438596491227, 158.3157894736842, 158.87719298245614, 159.43859649122805, 160.0, 160.56140350877192, 161.12280701754386, 161.68421052631578, 162.2456140350877, 162.80701754385964, 163.36842105263156, 163.9298245614035, 164.49122807017542, 165.05263157894737, 165.6140350877193, 166.17543859649123, 166.73684210526315, 167.29824561403507, 167.859649122807, 168.42105263157893, 168.98245614035088, 169.5438596491228, 170.10526315789474, 170.66666666666666, 171.22807017543857, 171.78947368421052, 172.35087719298244, 172.91228070175438, 173.4736842105263, 174.03508771929825, 174.59649122807016, 175.15789473684208, 175.71929824561403, 176.28070175438594, 176.8421052631579, 177.4035087719298, 177.96491228070175, 178.52631578947367, 179.08771929824562, 179.64912280701753, 180.21052631578945, 180.7719298245614, 181.33333333333331, 181.89473684210526, 182.45614035087718, 183.01754385964912, 183.57894736842104, 184.140350877193, 184.7017543859649, 185.26315789473682, 185.82456140350877, 186.38596491228068, 186.94736842105263, 187.50877192982455, 188.0701754385965, 188.6315789473684, 189.19298245614033, 189.75438596491227, 190.3157894736842, 190.87719298245614, 191.43859649122805, 192.0, 192.56140350877192, 193.12280701754383, 193.68421052631578, 194.2456140350877, 194.80701754385964, 195.36842105263156, 195.9298245614035, 196.49122807017542, 197.05263157894737, 197.6140350877193, 198.1754385964912, 198.73684210526315, 199.29824561403507, 199.859649122807, 200.42105263157893, 200.98245614035088, 201.5438596491228, 202.10526315789474, 202.66666666666666, 203.22807017543857, 203.78947368421052, 204.35087719298244, 204.91228070175438, 205.4736842105263, 206.03508771929825, 206.59649122807016, 207.15789473684208, 207.71929824561403, 208.28070175438594, 208.8421052631579, 209.4035087719298, 209.96491228070175, 210.52631578947367, 211.0877192982456, 211.64912280701753, 212.21052631578945, 212.7719298245614, 213.33333333333331, 213.89473684210526, 214.45614035087718, 215.01754385964912, 215.57894736842104, 216.14035087719296, 216.7017543859649, 217.26315789473682, 217.82456140350877, 218.38596491228068, 218.94736842105263, 219.50877192982455, 220.0701754385965, 220.6315789473684, 221.19298245614033, 221.75438596491227, 222.3157894736842, 222.87719298245614, 223.43859649122805, 224.0], \"y\": [0.0, 0.13701334891065986, 0.26401568969522327, 0.3764515998033433, 0.47048479415283123, 0.5431213591772527, 0.5922962335568188, 0.6169208658588227, 0.6168915487312036, 0.5930594639048504, 0.5471649140515008, 0.4817395140810575, 0.39998122072407194, 0.3056079591056403, 0.2026962323313074, 0.09551145937543566, -0.011663126833177884, -0.11469236923531605, -0.20974364295147646, -0.29342431234583644, -0.36289747095818053, -0.41597224707862485, -0.4511660673338766, -0.46773744260942823, -0.46568902757746733, -0.44574186071830774, -0.4092827725025277, -0.3582879162184659, -0.2952261954083521, -0.22294700747533913, -0.1445571758267981, -0.06329219210175058, 0.017613067002190036, 0.09504914158233281, 0.16614764789206884, 0.22838364752891469, 0.2796612346009976, 0.3183796169819686, 0.34347781434989105, 0.35445698554044613, 0.3513802950018678, 0.33485109794031476, 0.3059710334738422, 0.2662803355972318, 0.2176832782747334, 0.16236214404946, 0.10268343153353846, 0.041100188515626086, -0.019945627090037887, -0.0781169918490767, -0.1312683766476904, -0.17752193288778648, -0.21533072294230296, -0.24352700172385908, -0.26135420176960544, -0.26848194953605126, -0.2650041185470501, -0.2514205793945705, -0.22860391291940607, -0.19775288945744707, -0.16033496552813614, -0.11802039549599819, -0.07261078972523768, -0.025965067409849635, 0.020074248858779224, 0.06375156452388882, 0.10346295836052855, 0.13781284283553252, 0.1656606319596168, 0.1861559604100039, 0.19876148967957682, 0.20326284923007432, 0.19976577262935105, 0.18868098068733155, 0.17069781737449724, 0.14674804362048846, 0.11796152541808726, 0.08561580555875431, 0.0510817157455256, 0.015767264254601634, -0.018937976209341234, -0.05171585182405236, -0.08136802831862797, -0.106858099386967, -0.12734599497558435, -0.14221362724001416, -0.15108108669714634, -0.15381308944069064, -0.1505157627796642, -0.14152422645558696, -0.12738176599945492, -0.10881169175587067, -0.08668322163327623, -0.06197291010831204, -0.03572326537178841, -0.009000248392849585, 0.017148667579258065, 0.04173427805595668, 0.0638618083320766, 0.08276218397344552, 0.09781737276809628, 0.10857902469176048, 0.11477992171347297, 0.11633804354319323, 0.11335334703488109, 0.10609763474500447, 0.09499814186583078, 0.08061569144469803, 0.06361844808778382, 0.044752434666124746, 0.024810061294803166, 0.004597949481973982, -0.01509468269191738, -0.03352587379860672, -0.050027919492812704, -0.06403057665546225, -0.07507970677244778, -0.08285079641526324, -0.0871570097473094, -0.08795165086845307, -0.08532513372897631, -0.07949676590885191, -0.07080184211298332, -0.059674707118823306, -0.04662858069087961, -0.032233034596136315, -0.017090071760798235, -0.0018097787907384935, 0.013013493946555526, 0.026823523737629005, 0.03912236368030909, 0.049487547478596225, 0.05758578848481305, 0.0631827652646988, 0.0661487510271499, 0.06646001299833311, 0.06419607359229382, 0.059533081742597985, 0.05273368429197235, 0.04413390894457808, 0.034127667963028276, 0.023149562595588813, 0.01165671034272237, 0.00011032997968654992, -0.011042196740121135, -0.021384110957899473, -0.030544302182407376, -0.03821005427780351, -0.044137098736395756, -0.048156680157063106, -0.05017946431320809, -0.05019624687623462, -0.04827554575838737, -0.04455827742894553, -0.039249823169402606, -0.03260988139730054, -0.02494057395831456, -0.01657332552685976, -0.007855064697538869, 0.0008656973912954183, 0.009252369499972959, 0.01699285722645149, 0.023810761050524418, 0.029474810931574794, 0.033806234212718195, 0.03668384378670547, 0.038046728792044654, 0.03789452667742871, 0.036285349529099016, 0.03333152555655604, 0.029193395390191328, 0.024071469639624206, 0.01819730682885268, 0.011823507818634952, 0.005213243260713365, -0.0013702657149294835, -0.0076739060622476075, -0.013464091084274685, -0.01853510050683914, -0.022716057720608973, -0.02587632195252457, -0.027929141952882444, -0.028833490156216342, -0.028594069277808425, -0.027259554104401104, -0.024919197171753865, -0.02169798571658594, -0.017750586730926447, -0.013254355544302225, -0.008401709998046378, -0.003392186340725874, 0.0015755056448984082, 0.0063111216908444765, 0.010639932048096986, 0.014408928792870323, 0.017491980936930572, 0.01979377470249736, 0.02125242880636881, 0.021840729522946273, 0.021565985458246645, 0.020468555230061032, 0.01861915062339443, 0.016115061504118067, 0.013075485335774453, 0.009636172390478162, 0.005943616871663657, 0.002149033750429639, -0.001597638882368379, -0.005153481398898861, -0.008387865432502606, -0.011187070594947505, -0.01345808959033324, -0.015131502882546928, -0.016163344073607252, -0.016535918813759237, -0.016257581725796208, -0.015361515878273762, -0.013903596295054416, -0.011959451522963136, -0.009620864292196135, -0.00699167294354896, -0.004183348985860334, -0.0013104325977143691, 0.0015139928999187554, 0.004182614318851479, 0.006597830510119048, 0.008675183601252653, 0.010346164771938733, 0.011560307868047478, 0.012286514623299796, 0.01251358684632467, 0.012249972381055145, 0.011522761751531267, 0.010376000043090075, 0.008868402768950883, 0.007070584409409211, 0.005061923367727299, 0.002927196849663613, 0.0007531234482363175, -0.0013750499739489195, -0.0033767869313766144, -0.005179206538412133, -0.006719631778968166, -0.007947656180515043, -0.0088266657514799, -0.00933477623769572, -0.009465169691692782, -0.009225838079013003, -0.008638764259858557, -0.007738591348144193, -0.006570849433310277, -0.005189823351576303, -0.0036561561585578056, -0.002034289890038268, -0.00038984797355308886, 0.0012129376934071501, 0.002713657258213195, 0.004057922145598314, 0.005199256121276727, 0.006100615842310404, 0.00673549499630978, 0.007088583781993184, 0.007155973615469962, 0.006944914843608175, 0.006473152225511326, 0.005767878381900621, 0.0048643587674780065, 0.003804292549632572, 0.002633981747450385, 0.001402385888867859, 0.0001591411974852402, -0.00104737803502196, -0.002171882540277695, -0.003173809264982457, -0.0040187236067669085, -0.004679436825566121, -0.005136805333895982, -0.005380191992684417, -0.005407583266602328, -0.0052253695839799075, -0.004847808988947592, -0.004296205701525796, -0.0035978451120473693, -0.0027847347028800698, -0.0018922061725497922, -0.000957437487253935, -1.795464969258731e-05, 0.0008898283037277844, 0.0017319760587874997, 0.002478256008998124, 0.0031031771639150637, 0.003586810273556545, 0.003915365066586353, 0.004081510703115461, 0.004084435930697958, 0.003929655597149924, 0.003628579731648162, 0.0031978700083010853, 0.002658615755006725, 0.0020353675246049825, 0.0013550704307260797, 0.0006459418633732592, -6.366119281694927e-05, -0.0007463411727503649, -0.001376684031044348, -0.0019321714945765068, -0.0023939501230684124, -0.002747432439388611, -0.0029827127240856276, -0.003094787820277001, -0.003083581151876258, -0.0029537758134377625, -0.002714469755196833, -0.0023786725025894094, -0.0019626682939366323, -0.0014852748164836623, -0.0009670297433798756, -0.00042933894978532854, 0.00010637940313296189, 0.0006195217469111137, 0.001091066041910174, 0.0015042512441310152, 0.0018451461002528006, 0.0021030891388831353, 0.002270987321293519, 0.002345466701028079, 0.00232687438156376, 0.0022191368236188763, 0.0020294849225173995, 0.001768061057625466, 0.001447427346024367, 0.0010819974816706438, 0.000687416718184557, 0.0002799157076247914, -0.00012433597012646207, -0.0005098516315648984, -0.0008624015230295362, -0.0011695185611938197, -0.0014209186204435966, -0.00160882209602185, -0.0017281677388362397, -0.001776714225156233, -0.001755029412785859, -0.001666371570770099, -0.0015164708902577408, -0.0013132231455187974, -0.0010663103547113412, -0.0007867655948243707, -0.00048650068865430335, -0.0001778162689382494, 0.00012708626774893614, 0.00041657215042716187, 0.0006800026437077027, 0.000908111218364164, 0.001093313802972676, 0.0012299434178871592, 0.001314402745053292, 0.0013452315760164914, 0.001323089470469973, 0.0012506572179711566, 0.0011324637046971945, 0.0009746474378523142, 0.0007846641826585648, 0.0005709538512386478, 0.0003425809019985702, 0.0001088630386323847, -0.00012099706056865095, -0.00033826287725281166, -0.0005349850931272185, -0.0007042811854307879, -0.000840564218089707, -0.0009397137519675019, -0.0009991842750477044, -0.0010180491228594427, -0.0009969804186539715, -0.0009381680133666022, -0.0008451826564430031, -0.0007227906001891276, -0.0005767284659791559, -0.00041344842962299377, -0.00023984458171054759, -6.29716708437976e-05, 0.00011023265485418746, 0.0002732115108015833, 0.000420028655717341, 0.0005455761519527048, 0.0006457429043808517, 0.0007175389233726766, 0.0007591720435684464, 0.0007700757774149366, 0.0007508889135315628, 0.0007033893109398825, 0.0006303860231091446, 0.0005355753511476629, 0.000423367624262357, 0.0002986924007510976, 0.00016679035021360347, 3.3000306771289485e-05, -9.74501233008289e-05, -0.000219642442333644]}],                        {\"template\": {\"data\": {\"bar\": [{\"error_x\": {\"color\": \"#2a3f5f\"}, \"error_y\": {\"color\": \"#2a3f5f\"}, \"marker\": {\"line\": {\"color\": \"#E5ECF6\", \"width\": 0.5}}, \"type\": \"bar\"}], \"barpolar\": [{\"marker\": {\"line\": {\"color\": \"#E5ECF6\", \"width\": 0.5}}, \"type\": \"barpolar\"}], \"carpet\": [{\"aaxis\": {\"endlinecolor\": \"#2a3f5f\", \"gridcolor\": \"white\", \"linecolor\": \"white\", \"minorgridcolor\": \"white\", \"startlinecolor\": \"#2a3f5f\"}, \"baxis\": {\"endlinecolor\": \"#2a3f5f\", \"gridcolor\": \"white\", \"linecolor\": \"white\", \"minorgridcolor\": \"white\", \"startlinecolor\": \"#2a3f5f\"}, \"type\": \"carpet\"}], \"choropleth\": [{\"colorbar\": {\"outlinewidth\": 0, \"ticks\": \"\"}, \"type\": \"choropleth\"}], \"contour\": [{\"colorbar\": {\"outlinewidth\": 0, \"ticks\": \"\"}, \"colorscale\": [[0.0, \"#0d0887\"], [0.1111111111111111, \"#46039f\"], [0.2222222222222222, \"#7201a8\"], [0.3333333333333333, \"#9c179e\"], [0.4444444444444444, \"#bd3786\"], [0.5555555555555556, \"#d8576b\"], [0.6666666666666666, \"#ed7953\"], [0.7777777777777778, \"#fb9f3a\"], [0.8888888888888888, \"#fdca26\"], [1.0, \"#f0f921\"]], \"type\": \"contour\"}], \"contourcarpet\": [{\"colorbar\": {\"outlinewidth\": 0, \"ticks\": \"\"}, \"type\": \"contourcarpet\"}], \"heatmap\": [{\"colorbar\": {\"outlinewidth\": 0, \"ticks\": \"\"}, \"colorscale\": [[0.0, \"#0d0887\"], [0.1111111111111111, \"#46039f\"], [0.2222222222222222, \"#7201a8\"], [0.3333333333333333, \"#9c179e\"], [0.4444444444444444, \"#bd3786\"], [0.5555555555555556, \"#d8576b\"], [0.6666666666666666, \"#ed7953\"], [0.7777777777777778, \"#fb9f3a\"], [0.8888888888888888, \"#fdca26\"], [1.0, \"#f0f921\"]], \"type\": \"heatmap\"}], \"heatmapgl\": [{\"colorbar\": {\"outlinewidth\": 0, \"ticks\": \"\"}, \"colorscale\": [[0.0, \"#0d0887\"], [0.1111111111111111, \"#46039f\"], [0.2222222222222222, \"#7201a8\"], [0.3333333333333333, \"#9c179e\"], [0.4444444444444444, \"#bd3786\"], [0.5555555555555556, \"#d8576b\"], [0.6666666666666666, \"#ed7953\"], [0.7777777777777778, \"#fb9f3a\"], [0.8888888888888888, \"#fdca26\"], [1.0, \"#f0f921\"]], \"type\": \"heatmapgl\"}], \"histogram\": [{\"marker\": {\"colorbar\": {\"outlinewidth\": 0, \"ticks\": \"\"}}, \"type\": \"histogram\"}], \"histogram2d\": [{\"colorbar\": {\"outlinewidth\": 0, \"ticks\": \"\"}, \"colorscale\": [[0.0, \"#0d0887\"], [0.1111111111111111, \"#46039f\"], [0.2222222222222222, \"#7201a8\"], [0.3333333333333333, \"#9c179e\"], [0.4444444444444444, \"#bd3786\"], [0.5555555555555556, \"#d8576b\"], [0.6666666666666666, \"#ed7953\"], [0.7777777777777778, \"#fb9f3a\"], [0.8888888888888888, \"#fdca26\"], [1.0, \"#f0f921\"]], \"type\": \"histogram2d\"}], \"histogram2dcontour\": [{\"colorbar\": {\"outlinewidth\": 0, \"ticks\": \"\"}, \"colorscale\": [[0.0, \"#0d0887\"], [0.1111111111111111, \"#46039f\"], [0.2222222222222222, \"#7201a8\"], [0.3333333333333333, \"#9c179e\"], [0.4444444444444444, \"#bd3786\"], [0.5555555555555556, \"#d8576b\"], [0.6666666666666666, \"#ed7953\"], [0.7777777777777778, \"#fb9f3a\"], [0.8888888888888888, \"#fdca26\"], [1.0, \"#f0f921\"]], \"type\": \"histogram2dcontour\"}], \"mesh3d\": [{\"colorbar\": {\"outlinewidth\": 0, \"ticks\": \"\"}, \"type\": \"mesh3d\"}], \"parcoords\": [{\"line\": {\"colorbar\": {\"outlinewidth\": 0, \"ticks\": \"\"}}, \"type\": \"parcoords\"}], \"pie\": [{\"automargin\": true, \"type\": \"pie\"}], \"scatter\": [{\"marker\": {\"colorbar\": {\"outlinewidth\": 0, \"ticks\": \"\"}}, \"type\": \"scatter\"}], \"scatter3d\": [{\"line\": {\"colorbar\": {\"outlinewidth\": 0, \"ticks\": \"\"}}, \"marker\": {\"colorbar\": {\"outlinewidth\": 0, \"ticks\": \"\"}}, \"type\": \"scatter3d\"}], \"scattercarpet\": [{\"marker\": {\"colorbar\": {\"outlinewidth\": 0, \"ticks\": \"\"}}, \"type\": \"scattercarpet\"}], \"scattergeo\": [{\"marker\": {\"colorbar\": {\"outlinewidth\": 0, \"ticks\": \"\"}}, \"type\": \"scattergeo\"}], \"scattergl\": [{\"marker\": {\"colorbar\": {\"outlinewidth\": 0, \"ticks\": \"\"}}, \"type\": \"scattergl\"}], \"scattermapbox\": [{\"marker\": {\"colorbar\": {\"outlinewidth\": 0, \"ticks\": \"\"}}, \"type\": \"scattermapbox\"}], \"scatterpolar\": [{\"marker\": {\"colorbar\": {\"outlinewidth\": 0, \"ticks\": \"\"}}, \"type\": \"scatterpolar\"}], \"scatterpolargl\": [{\"marker\": {\"colorbar\": {\"outlinewidth\": 0, \"ticks\": \"\"}}, \"type\": \"scatterpolargl\"}], \"scatterternary\": [{\"marker\": {\"colorbar\": {\"outlinewidth\": 0, \"ticks\": \"\"}}, \"type\": \"scatterternary\"}], \"surface\": [{\"colorbar\": {\"outlinewidth\": 0, \"ticks\": \"\"}, \"colorscale\": [[0.0, \"#0d0887\"], [0.1111111111111111, \"#46039f\"], [0.2222222222222222, \"#7201a8\"], [0.3333333333333333, \"#9c179e\"], [0.4444444444444444, \"#bd3786\"], [0.5555555555555556, \"#d8576b\"], [0.6666666666666666, \"#ed7953\"], [0.7777777777777778, \"#fb9f3a\"], [0.8888888888888888, \"#fdca26\"], [1.0, \"#f0f921\"]], \"type\": \"surface\"}], \"table\": [{\"cells\": {\"fill\": {\"color\": \"#EBF0F8\"}, \"line\": {\"color\": \"white\"}}, \"header\": {\"fill\": {\"color\": \"#C8D4E3\"}, \"line\": {\"color\": \"white\"}}, \"type\": \"table\"}]}, \"layout\": {\"annotationdefaults\": {\"arrowcolor\": \"#2a3f5f\", \"arrowhead\": 0, \"arrowwidth\": 1}, \"coloraxis\": {\"colorbar\": {\"outlinewidth\": 0, \"ticks\": \"\"}}, \"colorscale\": {\"diverging\": [[0, \"#8e0152\"], [0.1, \"#c51b7d\"], [0.2, \"#de77ae\"], [0.3, \"#f1b6da\"], [0.4, \"#fde0ef\"], [0.5, \"#f7f7f7\"], [0.6, \"#e6f5d0\"], [0.7, \"#b8e186\"], [0.8, \"#7fbc41\"], [0.9, \"#4d9221\"], [1, \"#276419\"]], \"sequential\": [[0.0, \"#0d0887\"], [0.1111111111111111, \"#46039f\"], [0.2222222222222222, \"#7201a8\"], [0.3333333333333333, \"#9c179e\"], [0.4444444444444444, \"#bd3786\"], [0.5555555555555556, \"#d8576b\"], [0.6666666666666666, \"#ed7953\"], [0.7777777777777778, \"#fb9f3a\"], [0.8888888888888888, \"#fdca26\"], [1.0, \"#f0f921\"]], \"sequentialminus\": [[0.0, \"#0d0887\"], [0.1111111111111111, \"#46039f\"], [0.2222222222222222, \"#7201a8\"], [0.3333333333333333, \"#9c179e\"], [0.4444444444444444, \"#bd3786\"], [0.5555555555555556, \"#d8576b\"], [0.6666666666666666, \"#ed7953\"], [0.7777777777777778, \"#fb9f3a\"], [0.8888888888888888, \"#fdca26\"], [1.0, \"#f0f921\"]]}, \"colorway\": [\"#636efa\", \"#EF553B\", \"#00cc96\", \"#ab63fa\", \"#FFA15A\", \"#19d3f3\", \"#FF6692\", \"#B6E880\", \"#FF97FF\", \"#FECB52\"], \"font\": {\"color\": \"#2a3f5f\"}, \"geo\": {\"bgcolor\": \"white\", \"lakecolor\": \"white\", \"landcolor\": \"#E5ECF6\", \"showlakes\": true, \"showland\": true, \"subunitcolor\": \"white\"}, \"hoverlabel\": {\"align\": \"left\"}, \"hovermode\": \"closest\", \"mapbox\": {\"style\": \"light\"}, \"paper_bgcolor\": \"white\", \"plot_bgcolor\": \"#E5ECF6\", \"polar\": {\"angularaxis\": {\"gridcolor\": \"white\", \"linecolor\": \"white\", \"ticks\": \"\"}, \"bgcolor\": \"#E5ECF6\", \"radialaxis\": {\"gridcolor\": \"white\", \"linecolor\": \"white\", \"ticks\": \"\"}}, \"scene\": {\"xaxis\": {\"backgroundcolor\": \"#E5ECF6\", \"gridcolor\": \"white\", \"gridwidth\": 2, \"linecolor\": \"white\", \"showbackground\": true, \"ticks\": \"\", \"zerolinecolor\": \"white\"}, \"yaxis\": {\"backgroundcolor\": \"#E5ECF6\", \"gridcolor\": \"white\", \"gridwidth\": 2, \"linecolor\": \"white\", \"showbackground\": true, \"ticks\": \"\", \"zerolinecolor\": \"white\"}, \"zaxis\": {\"backgroundcolor\": \"#E5ECF6\", \"gridcolor\": \"white\", \"gridwidth\": 2, \"linecolor\": \"white\", \"showbackground\": true, \"ticks\": \"\", \"zerolinecolor\": \"white\"}}, \"shapedefaults\": {\"line\": {\"color\": \"#2a3f5f\"}}, \"ternary\": {\"aaxis\": {\"gridcolor\": \"white\", \"linecolor\": \"white\", \"ticks\": \"\"}, \"baxis\": {\"gridcolor\": \"white\", \"linecolor\": \"white\", \"ticks\": \"\"}, \"bgcolor\": \"#E5ECF6\", \"caxis\": {\"gridcolor\": \"white\", \"linecolor\": \"white\", \"ticks\": \"\"}}, \"title\": {\"x\": 0.05}, \"xaxis\": {\"automargin\": true, \"gridcolor\": \"white\", \"linecolor\": \"white\", \"ticks\": \"\", \"title\": {\"standoff\": 15}, \"zerolinecolor\": \"white\", \"zerolinewidth\": 2}, \"yaxis\": {\"automargin\": true, \"gridcolor\": \"white\", \"linecolor\": \"white\", \"ticks\": \"\", \"title\": {\"standoff\": 15}, \"zerolinecolor\": \"white\", \"zerolinewidth\": 2}}}, \"xaxis\": {\"title\": {\"text\": \"time (s)\"}}, \"yaxis\": {\"title\": {\"text\": \"response\"}}},                        {\"responsive\": true}                    ).then(function(){\n",
       "                            \n",
       "var gd = document.getElementById('554d45c7-5de4-44d0-bb8e-8c3f3b03ca7b');\n",
       "var x = new MutationObserver(function (mutations, observer) {{\n",
       "        var display = window.getComputedStyle(gd).display;\n",
       "        if (!display || display === 'none') {{\n",
       "            console.log([gd, 'removed!']);\n",
       "            Plotly.purge(gd);\n",
       "            observer.disconnect();\n",
       "        }}\n",
       "}});\n",
       "\n",
       "// Listen for the removal of the full notebook cells\n",
       "var notebookContainer = gd.closest('#notebook-container');\n",
       "if (notebookContainer) {{\n",
       "    x.observe(notebookContainer, {childList: true});\n",
       "}}\n",
       "\n",
       "// Listen for the clearing of the current output cell\n",
       "var outputEl = gd.closest('.output');\n",
       "if (outputEl) {{\n",
       "    x.observe(outputEl, {childList: true});\n",
       "}}\n",
       "\n",
       "                        })                };                });            </script>        </div>"
      ]
     },
     "metadata": {},
     "output_type": "display_data"
    }
   ],
   "source": [
    "impulse([F3],400)"
   ]
  },
  {
   "cell_type": "markdown",
   "metadata": {},
   "source": [
    "##### Réponse à un échelon\n",
    "\n",
    "On appelle réponse indicielle, la réponse temporelle à un échelon en entrée pour un système linéaire initialement au repos, elle permet de déterminer expérimentalement la rapidité du système.\n",
    "\n",
    "**Question :**\n",
    "\n",
    "* Tracez la réponse indicielle des différentes fonction de transfert. \n",
    "* Retrouvez par le calcul l'expression théorique de la réponse indicielle."
   ]
  },
  {
   "cell_type": "code",
   "execution_count": 7,
   "metadata": {},
   "outputs": [
    {
     "data": {
      "application/vnd.plotly.v1+json": {
       "config": {
        "plotlyServerURL": "https://plot.ly"
       },
       "data": [
        {
         "line": {
          "shape": "linear"
         },
         "mode": "lines",
         "name": "tf 1",
         "showlegend": false,
         "type": "scatter",
         "x": [
          0,
          0.21212121212121213,
          0.42424242424242425,
          0.6363636363636364,
          0.8484848484848485,
          1.0606060606060606,
          1.2727272727272727,
          1.4848484848484849,
          1.696969696969697,
          1.9090909090909092,
          2.121212121212121,
          2.3333333333333335,
          2.5454545454545454,
          2.757575757575758,
          2.9696969696969697,
          3.181818181818182,
          3.393939393939394,
          3.606060606060606,
          3.8181818181818183,
          4.03030303030303,
          4.242424242424242,
          4.454545454545455,
          4.666666666666667,
          4.878787878787879,
          5.090909090909091,
          5.303030303030303,
          5.515151515151516,
          5.7272727272727275,
          5.9393939393939394,
          6.151515151515151,
          6.363636363636364,
          6.575757575757576,
          6.787878787878788,
          7,
          7.212121212121212,
          7.424242424242425,
          7.636363636363637,
          7.848484848484849,
          8.06060606060606,
          8.272727272727273,
          8.484848484848484,
          8.696969696969697,
          8.90909090909091,
          9.121212121212121,
          9.333333333333334,
          9.545454545454545,
          9.757575757575758,
          9.96969696969697,
          10.181818181818182,
          10.393939393939394,
          10.606060606060606,
          10.818181818181818,
          11.030303030303031,
          11.242424242424242,
          11.454545454545455,
          11.666666666666668,
          11.878787878787879,
          12.090909090909092,
          12.303030303030303,
          12.515151515151516,
          12.727272727272728,
          12.93939393939394,
          13.151515151515152,
          13.363636363636363,
          13.575757575757576,
          13.787878787878789,
          14,
          14.212121212121213,
          14.424242424242424,
          14.636363636363637,
          14.84848484848485,
          15.06060606060606,
          15.272727272727273,
          15.484848484848484,
          15.696969696969697,
          15.90909090909091,
          16.12121212121212,
          16.333333333333332,
          16.545454545454547,
          16.757575757575758,
          16.96969696969697,
          17.181818181818183,
          17.393939393939394,
          17.606060606060606,
          17.81818181818182,
          18.03030303030303,
          18.242424242424242,
          18.454545454545457,
          18.666666666666668,
          18.87878787878788,
          19.09090909090909,
          19.303030303030305,
          19.515151515151516,
          19.727272727272727,
          19.93939393939394,
          20.151515151515152,
          20.363636363636363,
          20.575757575757578,
          20.78787878787879,
          21
         ],
         "y": [
          0,
          0.1365304308636258,
          0.26374058245134796,
          0.3822667056358207,
          0.4927016174868078,
          0.5955976662890939,
          0.6914694941528097,
          0.7807966110335673,
          0.8640257930365571,
          0.9415733169998993,
          1.0138270425336802,
          1.0811483519281466,
          1.143873957633648,
          1.2023175863525724,
          1.2567715481663826,
          1.3075081985458572,
          1.3547813005568887,
          1.3988272940750068,
          1.4398664783567026,
          1.4781041138822624,
          1.5137314489810667,
          1.5469266763740896,
          1.57785582441782,
          1.6066735875072227,
          1.6335240997910643,
          1.658541656069395,
          1.681851383478808,
          1.7035698673249604,
          1.723805734192503,
          1.7426601952488832,
          1.7602275524593989,
          1.7765956702453711,
          1.7918464149444708,
          1.806056064271191,
          1.8192956888254117,
          1.8316315075572025,
          1.8431252189657397,
          1.853834309688862,
          1.8638123420266917,
          1.8731092218373937,
          1.8817714481449745,
          1.8898423457075495,
          1.8973622817092868,
          1.9043688676598323,
          1.9108971475110224,
          1.9169797729317715,
          1.9226471666177822,
          1.9279276744528806,
          1.9328477072830266,
          1.9374318730120912,
          1.941703099680086,
          1.945682750139432,
          1.9493907289028274,
          1.9528455816971229,
          1.956064588221131,
          1.959063848571301,
          1.9618583637675306,
          1.9644621107818623,
          1.9668881124453306,
          1.969148502582604,
          1.971254586700197,
          1.9732168985317844,
          1.9750452527234446,
          1.9767487939223252,
          1.9783360425142673,
          1.9798149372391365,
          1.9811928748970118,
          1.9824767473438203,
          1.9836729759614606,
          1.984787543774812,
          1.9858260253762716,
          1.9867936148074856,
          1.9876951515377281,
          1.988535144668861,
          1.989317795487936,
          1.9900470184802388,
          1.9907264609078743,
          1.9913595210518138,
          1.991949365208646,
          1.9924989435270408,
          1.9930110047631335,
          1.9934881100286304,
          1.9939326456003945,
          1.9943468348555848,
          1.9947327493920401,
          1.995092319389526,
          1.9954273432636707,
          1.9957394966608721,
          1.996030340839166,
          1.9963013304769712,
          1.9965538209487719,
          1.9967890751041208,
          1.9970082695838736,
          1.9972125007052446,
          1.997402789945117,
          1.9975800890490354,
          1.997745284791429,
          1.9978992034108796,
          1.9980426147426142,
          1.9981762360688928
         ]
        }
       ],
       "layout": {
        "template": {
         "data": {
          "bar": [
           {
            "error_x": {
             "color": "#2a3f5f"
            },
            "error_y": {
             "color": "#2a3f5f"
            },
            "marker": {
             "line": {
              "color": "#E5ECF6",
              "width": 0.5
             }
            },
            "type": "bar"
           }
          ],
          "barpolar": [
           {
            "marker": {
             "line": {
              "color": "#E5ECF6",
              "width": 0.5
             }
            },
            "type": "barpolar"
           }
          ],
          "carpet": [
           {
            "aaxis": {
             "endlinecolor": "#2a3f5f",
             "gridcolor": "white",
             "linecolor": "white",
             "minorgridcolor": "white",
             "startlinecolor": "#2a3f5f"
            },
            "baxis": {
             "endlinecolor": "#2a3f5f",
             "gridcolor": "white",
             "linecolor": "white",
             "minorgridcolor": "white",
             "startlinecolor": "#2a3f5f"
            },
            "type": "carpet"
           }
          ],
          "choropleth": [
           {
            "colorbar": {
             "outlinewidth": 0,
             "ticks": ""
            },
            "type": "choropleth"
           }
          ],
          "contour": [
           {
            "colorbar": {
             "outlinewidth": 0,
             "ticks": ""
            },
            "colorscale": [
             [
              0,
              "#0d0887"
             ],
             [
              0.1111111111111111,
              "#46039f"
             ],
             [
              0.2222222222222222,
              "#7201a8"
             ],
             [
              0.3333333333333333,
              "#9c179e"
             ],
             [
              0.4444444444444444,
              "#bd3786"
             ],
             [
              0.5555555555555556,
              "#d8576b"
             ],
             [
              0.6666666666666666,
              "#ed7953"
             ],
             [
              0.7777777777777778,
              "#fb9f3a"
             ],
             [
              0.8888888888888888,
              "#fdca26"
             ],
             [
              1,
              "#f0f921"
             ]
            ],
            "type": "contour"
           }
          ],
          "contourcarpet": [
           {
            "colorbar": {
             "outlinewidth": 0,
             "ticks": ""
            },
            "type": "contourcarpet"
           }
          ],
          "heatmap": [
           {
            "colorbar": {
             "outlinewidth": 0,
             "ticks": ""
            },
            "colorscale": [
             [
              0,
              "#0d0887"
             ],
             [
              0.1111111111111111,
              "#46039f"
             ],
             [
              0.2222222222222222,
              "#7201a8"
             ],
             [
              0.3333333333333333,
              "#9c179e"
             ],
             [
              0.4444444444444444,
              "#bd3786"
             ],
             [
              0.5555555555555556,
              "#d8576b"
             ],
             [
              0.6666666666666666,
              "#ed7953"
             ],
             [
              0.7777777777777778,
              "#fb9f3a"
             ],
             [
              0.8888888888888888,
              "#fdca26"
             ],
             [
              1,
              "#f0f921"
             ]
            ],
            "type": "heatmap"
           }
          ],
          "heatmapgl": [
           {
            "colorbar": {
             "outlinewidth": 0,
             "ticks": ""
            },
            "colorscale": [
             [
              0,
              "#0d0887"
             ],
             [
              0.1111111111111111,
              "#46039f"
             ],
             [
              0.2222222222222222,
              "#7201a8"
             ],
             [
              0.3333333333333333,
              "#9c179e"
             ],
             [
              0.4444444444444444,
              "#bd3786"
             ],
             [
              0.5555555555555556,
              "#d8576b"
             ],
             [
              0.6666666666666666,
              "#ed7953"
             ],
             [
              0.7777777777777778,
              "#fb9f3a"
             ],
             [
              0.8888888888888888,
              "#fdca26"
             ],
             [
              1,
              "#f0f921"
             ]
            ],
            "type": "heatmapgl"
           }
          ],
          "histogram": [
           {
            "marker": {
             "colorbar": {
              "outlinewidth": 0,
              "ticks": ""
             }
            },
            "type": "histogram"
           }
          ],
          "histogram2d": [
           {
            "colorbar": {
             "outlinewidth": 0,
             "ticks": ""
            },
            "colorscale": [
             [
              0,
              "#0d0887"
             ],
             [
              0.1111111111111111,
              "#46039f"
             ],
             [
              0.2222222222222222,
              "#7201a8"
             ],
             [
              0.3333333333333333,
              "#9c179e"
             ],
             [
              0.4444444444444444,
              "#bd3786"
             ],
             [
              0.5555555555555556,
              "#d8576b"
             ],
             [
              0.6666666666666666,
              "#ed7953"
             ],
             [
              0.7777777777777778,
              "#fb9f3a"
             ],
             [
              0.8888888888888888,
              "#fdca26"
             ],
             [
              1,
              "#f0f921"
             ]
            ],
            "type": "histogram2d"
           }
          ],
          "histogram2dcontour": [
           {
            "colorbar": {
             "outlinewidth": 0,
             "ticks": ""
            },
            "colorscale": [
             [
              0,
              "#0d0887"
             ],
             [
              0.1111111111111111,
              "#46039f"
             ],
             [
              0.2222222222222222,
              "#7201a8"
             ],
             [
              0.3333333333333333,
              "#9c179e"
             ],
             [
              0.4444444444444444,
              "#bd3786"
             ],
             [
              0.5555555555555556,
              "#d8576b"
             ],
             [
              0.6666666666666666,
              "#ed7953"
             ],
             [
              0.7777777777777778,
              "#fb9f3a"
             ],
             [
              0.8888888888888888,
              "#fdca26"
             ],
             [
              1,
              "#f0f921"
             ]
            ],
            "type": "histogram2dcontour"
           }
          ],
          "mesh3d": [
           {
            "colorbar": {
             "outlinewidth": 0,
             "ticks": ""
            },
            "type": "mesh3d"
           }
          ],
          "parcoords": [
           {
            "line": {
             "colorbar": {
              "outlinewidth": 0,
              "ticks": ""
             }
            },
            "type": "parcoords"
           }
          ],
          "pie": [
           {
            "automargin": true,
            "type": "pie"
           }
          ],
          "scatter": [
           {
            "marker": {
             "colorbar": {
              "outlinewidth": 0,
              "ticks": ""
             }
            },
            "type": "scatter"
           }
          ],
          "scatter3d": [
           {
            "line": {
             "colorbar": {
              "outlinewidth": 0,
              "ticks": ""
             }
            },
            "marker": {
             "colorbar": {
              "outlinewidth": 0,
              "ticks": ""
             }
            },
            "type": "scatter3d"
           }
          ],
          "scattercarpet": [
           {
            "marker": {
             "colorbar": {
              "outlinewidth": 0,
              "ticks": ""
             }
            },
            "type": "scattercarpet"
           }
          ],
          "scattergeo": [
           {
            "marker": {
             "colorbar": {
              "outlinewidth": 0,
              "ticks": ""
             }
            },
            "type": "scattergeo"
           }
          ],
          "scattergl": [
           {
            "marker": {
             "colorbar": {
              "outlinewidth": 0,
              "ticks": ""
             }
            },
            "type": "scattergl"
           }
          ],
          "scattermapbox": [
           {
            "marker": {
             "colorbar": {
              "outlinewidth": 0,
              "ticks": ""
             }
            },
            "type": "scattermapbox"
           }
          ],
          "scatterpolar": [
           {
            "marker": {
             "colorbar": {
              "outlinewidth": 0,
              "ticks": ""
             }
            },
            "type": "scatterpolar"
           }
          ],
          "scatterpolargl": [
           {
            "marker": {
             "colorbar": {
              "outlinewidth": 0,
              "ticks": ""
             }
            },
            "type": "scatterpolargl"
           }
          ],
          "scatterternary": [
           {
            "marker": {
             "colorbar": {
              "outlinewidth": 0,
              "ticks": ""
             }
            },
            "type": "scatterternary"
           }
          ],
          "surface": [
           {
            "colorbar": {
             "outlinewidth": 0,
             "ticks": ""
            },
            "colorscale": [
             [
              0,
              "#0d0887"
             ],
             [
              0.1111111111111111,
              "#46039f"
             ],
             [
              0.2222222222222222,
              "#7201a8"
             ],
             [
              0.3333333333333333,
              "#9c179e"
             ],
             [
              0.4444444444444444,
              "#bd3786"
             ],
             [
              0.5555555555555556,
              "#d8576b"
             ],
             [
              0.6666666666666666,
              "#ed7953"
             ],
             [
              0.7777777777777778,
              "#fb9f3a"
             ],
             [
              0.8888888888888888,
              "#fdca26"
             ],
             [
              1,
              "#f0f921"
             ]
            ],
            "type": "surface"
           }
          ],
          "table": [
           {
            "cells": {
             "fill": {
              "color": "#EBF0F8"
             },
             "line": {
              "color": "white"
             }
            },
            "header": {
             "fill": {
              "color": "#C8D4E3"
             },
             "line": {
              "color": "white"
             }
            },
            "type": "table"
           }
          ]
         },
         "layout": {
          "annotationdefaults": {
           "arrowcolor": "#2a3f5f",
           "arrowhead": 0,
           "arrowwidth": 1
          },
          "coloraxis": {
           "colorbar": {
            "outlinewidth": 0,
            "ticks": ""
           }
          },
          "colorscale": {
           "diverging": [
            [
             0,
             "#8e0152"
            ],
            [
             0.1,
             "#c51b7d"
            ],
            [
             0.2,
             "#de77ae"
            ],
            [
             0.3,
             "#f1b6da"
            ],
            [
             0.4,
             "#fde0ef"
            ],
            [
             0.5,
             "#f7f7f7"
            ],
            [
             0.6,
             "#e6f5d0"
            ],
            [
             0.7,
             "#b8e186"
            ],
            [
             0.8,
             "#7fbc41"
            ],
            [
             0.9,
             "#4d9221"
            ],
            [
             1,
             "#276419"
            ]
           ],
           "sequential": [
            [
             0,
             "#0d0887"
            ],
            [
             0.1111111111111111,
             "#46039f"
            ],
            [
             0.2222222222222222,
             "#7201a8"
            ],
            [
             0.3333333333333333,
             "#9c179e"
            ],
            [
             0.4444444444444444,
             "#bd3786"
            ],
            [
             0.5555555555555556,
             "#d8576b"
            ],
            [
             0.6666666666666666,
             "#ed7953"
            ],
            [
             0.7777777777777778,
             "#fb9f3a"
            ],
            [
             0.8888888888888888,
             "#fdca26"
            ],
            [
             1,
             "#f0f921"
            ]
           ],
           "sequentialminus": [
            [
             0,
             "#0d0887"
            ],
            [
             0.1111111111111111,
             "#46039f"
            ],
            [
             0.2222222222222222,
             "#7201a8"
            ],
            [
             0.3333333333333333,
             "#9c179e"
            ],
            [
             0.4444444444444444,
             "#bd3786"
            ],
            [
             0.5555555555555556,
             "#d8576b"
            ],
            [
             0.6666666666666666,
             "#ed7953"
            ],
            [
             0.7777777777777778,
             "#fb9f3a"
            ],
            [
             0.8888888888888888,
             "#fdca26"
            ],
            [
             1,
             "#f0f921"
            ]
           ]
          },
          "colorway": [
           "#636efa",
           "#EF553B",
           "#00cc96",
           "#ab63fa",
           "#FFA15A",
           "#19d3f3",
           "#FF6692",
           "#B6E880",
           "#FF97FF",
           "#FECB52"
          ],
          "font": {
           "color": "#2a3f5f"
          },
          "geo": {
           "bgcolor": "white",
           "lakecolor": "white",
           "landcolor": "#E5ECF6",
           "showlakes": true,
           "showland": true,
           "subunitcolor": "white"
          },
          "hoverlabel": {
           "align": "left"
          },
          "hovermode": "closest",
          "mapbox": {
           "style": "light"
          },
          "paper_bgcolor": "white",
          "plot_bgcolor": "#E5ECF6",
          "polar": {
           "angularaxis": {
            "gridcolor": "white",
            "linecolor": "white",
            "ticks": ""
           },
           "bgcolor": "#E5ECF6",
           "radialaxis": {
            "gridcolor": "white",
            "linecolor": "white",
            "ticks": ""
           }
          },
          "scene": {
           "xaxis": {
            "backgroundcolor": "#E5ECF6",
            "gridcolor": "white",
            "gridwidth": 2,
            "linecolor": "white",
            "showbackground": true,
            "ticks": "",
            "zerolinecolor": "white"
           },
           "yaxis": {
            "backgroundcolor": "#E5ECF6",
            "gridcolor": "white",
            "gridwidth": 2,
            "linecolor": "white",
            "showbackground": true,
            "ticks": "",
            "zerolinecolor": "white"
           },
           "zaxis": {
            "backgroundcolor": "#E5ECF6",
            "gridcolor": "white",
            "gridwidth": 2,
            "linecolor": "white",
            "showbackground": true,
            "ticks": "",
            "zerolinecolor": "white"
           }
          },
          "shapedefaults": {
           "line": {
            "color": "#2a3f5f"
           }
          },
          "ternary": {
           "aaxis": {
            "gridcolor": "white",
            "linecolor": "white",
            "ticks": ""
           },
           "baxis": {
            "gridcolor": "white",
            "linecolor": "white",
            "ticks": ""
           },
           "bgcolor": "#E5ECF6",
           "caxis": {
            "gridcolor": "white",
            "linecolor": "white",
            "ticks": ""
           }
          },
          "title": {
           "x": 0.05
          },
          "xaxis": {
           "automargin": true,
           "gridcolor": "white",
           "linecolor": "white",
           "ticks": "",
           "title": {
            "standoff": 15
           },
           "zerolinecolor": "white",
           "zerolinewidth": 2
          },
          "yaxis": {
           "automargin": true,
           "gridcolor": "white",
           "linecolor": "white",
           "ticks": "",
           "title": {
            "standoff": 15
           },
           "zerolinecolor": "white",
           "zerolinewidth": 2
          }
         }
        },
        "xaxis": {
         "title": {
          "text": "time (s)"
         }
        },
        "yaxis": {
         "title": {
          "text": "response"
         }
        }
       }
      },
      "text/html": [
       "<div>                            <div id=\"3cdfa354-1bcc-4011-886e-296e44212b1d\" class=\"plotly-graph-div\" style=\"height:525px; width:100%;\"></div>            <script type=\"text/javascript\">                require([\"plotly\"], function(Plotly) {                    window.PLOTLYENV=window.PLOTLYENV || {};                                    if (document.getElementById(\"3cdfa354-1bcc-4011-886e-296e44212b1d\")) {                    Plotly.newPlot(                        \"3cdfa354-1bcc-4011-886e-296e44212b1d\",                        [{\"line\": {\"shape\": \"linear\"}, \"mode\": \"lines\", \"name\": \"tf 1\", \"showlegend\": false, \"type\": \"scatter\", \"x\": [0.0, 0.21212121212121213, 0.42424242424242425, 0.6363636363636364, 0.8484848484848485, 1.0606060606060606, 1.2727272727272727, 1.4848484848484849, 1.696969696969697, 1.9090909090909092, 2.121212121212121, 2.3333333333333335, 2.5454545454545454, 2.757575757575758, 2.9696969696969697, 3.181818181818182, 3.393939393939394, 3.606060606060606, 3.8181818181818183, 4.03030303030303, 4.242424242424242, 4.454545454545455, 4.666666666666667, 4.878787878787879, 5.090909090909091, 5.303030303030303, 5.515151515151516, 5.7272727272727275, 5.9393939393939394, 6.151515151515151, 6.363636363636364, 6.575757575757576, 6.787878787878788, 7.0, 7.212121212121212, 7.424242424242425, 7.636363636363637, 7.848484848484849, 8.06060606060606, 8.272727272727273, 8.484848484848484, 8.696969696969697, 8.90909090909091, 9.121212121212121, 9.333333333333334, 9.545454545454545, 9.757575757575758, 9.96969696969697, 10.181818181818182, 10.393939393939394, 10.606060606060606, 10.818181818181818, 11.030303030303031, 11.242424242424242, 11.454545454545455, 11.666666666666668, 11.878787878787879, 12.090909090909092, 12.303030303030303, 12.515151515151516, 12.727272727272728, 12.93939393939394, 13.151515151515152, 13.363636363636363, 13.575757575757576, 13.787878787878789, 14.0, 14.212121212121213, 14.424242424242424, 14.636363636363637, 14.84848484848485, 15.06060606060606, 15.272727272727273, 15.484848484848484, 15.696969696969697, 15.90909090909091, 16.12121212121212, 16.333333333333332, 16.545454545454547, 16.757575757575758, 16.96969696969697, 17.181818181818183, 17.393939393939394, 17.606060606060606, 17.81818181818182, 18.03030303030303, 18.242424242424242, 18.454545454545457, 18.666666666666668, 18.87878787878788, 19.09090909090909, 19.303030303030305, 19.515151515151516, 19.727272727272727, 19.93939393939394, 20.151515151515152, 20.363636363636363, 20.575757575757578, 20.78787878787879, 21.0], \"y\": [0.0, 0.1365304308636258, 0.26374058245134796, 0.3822667056358207, 0.4927016174868078, 0.5955976662890939, 0.6914694941528097, 0.7807966110335673, 0.8640257930365571, 0.9415733169998993, 1.0138270425336802, 1.0811483519281466, 1.143873957633648, 1.2023175863525724, 1.2567715481663826, 1.3075081985458572, 1.3547813005568887, 1.3988272940750068, 1.4398664783567026, 1.4781041138822624, 1.5137314489810667, 1.5469266763740896, 1.57785582441782, 1.6066735875072227, 1.6335240997910643, 1.658541656069395, 1.681851383478808, 1.7035698673249604, 1.723805734192503, 1.7426601952488832, 1.7602275524593989, 1.7765956702453711, 1.7918464149444708, 1.806056064271191, 1.8192956888254117, 1.8316315075572025, 1.8431252189657397, 1.853834309688862, 1.8638123420266917, 1.8731092218373937, 1.8817714481449745, 1.8898423457075495, 1.8973622817092868, 1.9043688676598323, 1.9108971475110224, 1.9169797729317715, 1.9226471666177822, 1.9279276744528806, 1.9328477072830266, 1.9374318730120912, 1.941703099680086, 1.945682750139432, 1.9493907289028274, 1.9528455816971229, 1.956064588221131, 1.959063848571301, 1.9618583637675306, 1.9644621107818623, 1.9668881124453306, 1.969148502582604, 1.971254586700197, 1.9732168985317844, 1.9750452527234446, 1.9767487939223252, 1.9783360425142673, 1.9798149372391365, 1.9811928748970118, 1.9824767473438203, 1.9836729759614606, 1.984787543774812, 1.9858260253762716, 1.9867936148074856, 1.9876951515377281, 1.988535144668861, 1.989317795487936, 1.9900470184802388, 1.9907264609078743, 1.9913595210518138, 1.991949365208646, 1.9924989435270408, 1.9930110047631335, 1.9934881100286304, 1.9939326456003945, 1.9943468348555848, 1.9947327493920401, 1.995092319389526, 1.9954273432636707, 1.9957394966608721, 1.996030340839166, 1.9963013304769712, 1.9965538209487719, 1.9967890751041208, 1.9970082695838736, 1.9972125007052446, 1.997402789945117, 1.9975800890490354, 1.997745284791429, 1.9978992034108796, 1.9980426147426142, 1.9981762360688928]}],                        {\"template\": {\"data\": {\"bar\": [{\"error_x\": {\"color\": \"#2a3f5f\"}, \"error_y\": {\"color\": \"#2a3f5f\"}, \"marker\": {\"line\": {\"color\": \"#E5ECF6\", \"width\": 0.5}}, \"type\": \"bar\"}], \"barpolar\": [{\"marker\": {\"line\": {\"color\": \"#E5ECF6\", \"width\": 0.5}}, \"type\": \"barpolar\"}], \"carpet\": [{\"aaxis\": {\"endlinecolor\": \"#2a3f5f\", \"gridcolor\": \"white\", \"linecolor\": \"white\", \"minorgridcolor\": \"white\", \"startlinecolor\": \"#2a3f5f\"}, \"baxis\": {\"endlinecolor\": \"#2a3f5f\", \"gridcolor\": \"white\", \"linecolor\": \"white\", \"minorgridcolor\": \"white\", \"startlinecolor\": \"#2a3f5f\"}, \"type\": \"carpet\"}], \"choropleth\": [{\"colorbar\": {\"outlinewidth\": 0, \"ticks\": \"\"}, \"type\": \"choropleth\"}], \"contour\": [{\"colorbar\": {\"outlinewidth\": 0, \"ticks\": \"\"}, \"colorscale\": [[0.0, \"#0d0887\"], [0.1111111111111111, \"#46039f\"], [0.2222222222222222, \"#7201a8\"], [0.3333333333333333, \"#9c179e\"], [0.4444444444444444, \"#bd3786\"], [0.5555555555555556, \"#d8576b\"], [0.6666666666666666, \"#ed7953\"], [0.7777777777777778, \"#fb9f3a\"], [0.8888888888888888, \"#fdca26\"], [1.0, \"#f0f921\"]], \"type\": \"contour\"}], \"contourcarpet\": [{\"colorbar\": {\"outlinewidth\": 0, \"ticks\": \"\"}, \"type\": \"contourcarpet\"}], \"heatmap\": [{\"colorbar\": {\"outlinewidth\": 0, \"ticks\": \"\"}, \"colorscale\": [[0.0, \"#0d0887\"], [0.1111111111111111, \"#46039f\"], [0.2222222222222222, \"#7201a8\"], [0.3333333333333333, \"#9c179e\"], [0.4444444444444444, \"#bd3786\"], [0.5555555555555556, \"#d8576b\"], [0.6666666666666666, \"#ed7953\"], [0.7777777777777778, \"#fb9f3a\"], [0.8888888888888888, \"#fdca26\"], [1.0, \"#f0f921\"]], \"type\": \"heatmap\"}], \"heatmapgl\": [{\"colorbar\": {\"outlinewidth\": 0, \"ticks\": \"\"}, \"colorscale\": [[0.0, \"#0d0887\"], [0.1111111111111111, \"#46039f\"], [0.2222222222222222, \"#7201a8\"], [0.3333333333333333, \"#9c179e\"], [0.4444444444444444, \"#bd3786\"], [0.5555555555555556, \"#d8576b\"], [0.6666666666666666, \"#ed7953\"], [0.7777777777777778, \"#fb9f3a\"], [0.8888888888888888, \"#fdca26\"], [1.0, \"#f0f921\"]], \"type\": \"heatmapgl\"}], \"histogram\": [{\"marker\": {\"colorbar\": {\"outlinewidth\": 0, \"ticks\": \"\"}}, \"type\": \"histogram\"}], \"histogram2d\": [{\"colorbar\": {\"outlinewidth\": 0, \"ticks\": \"\"}, \"colorscale\": [[0.0, \"#0d0887\"], [0.1111111111111111, \"#46039f\"], [0.2222222222222222, \"#7201a8\"], [0.3333333333333333, \"#9c179e\"], [0.4444444444444444, \"#bd3786\"], [0.5555555555555556, \"#d8576b\"], [0.6666666666666666, \"#ed7953\"], [0.7777777777777778, \"#fb9f3a\"], [0.8888888888888888, \"#fdca26\"], [1.0, \"#f0f921\"]], \"type\": \"histogram2d\"}], \"histogram2dcontour\": [{\"colorbar\": {\"outlinewidth\": 0, \"ticks\": \"\"}, \"colorscale\": [[0.0, \"#0d0887\"], [0.1111111111111111, \"#46039f\"], [0.2222222222222222, \"#7201a8\"], [0.3333333333333333, \"#9c179e\"], [0.4444444444444444, \"#bd3786\"], [0.5555555555555556, \"#d8576b\"], [0.6666666666666666, \"#ed7953\"], [0.7777777777777778, \"#fb9f3a\"], [0.8888888888888888, \"#fdca26\"], [1.0, \"#f0f921\"]], \"type\": \"histogram2dcontour\"}], \"mesh3d\": [{\"colorbar\": {\"outlinewidth\": 0, \"ticks\": \"\"}, \"type\": \"mesh3d\"}], \"parcoords\": [{\"line\": {\"colorbar\": {\"outlinewidth\": 0, \"ticks\": \"\"}}, \"type\": \"parcoords\"}], \"pie\": [{\"automargin\": true, \"type\": \"pie\"}], \"scatter\": [{\"marker\": {\"colorbar\": {\"outlinewidth\": 0, \"ticks\": \"\"}}, \"type\": \"scatter\"}], \"scatter3d\": [{\"line\": {\"colorbar\": {\"outlinewidth\": 0, \"ticks\": \"\"}}, \"marker\": {\"colorbar\": {\"outlinewidth\": 0, \"ticks\": \"\"}}, \"type\": \"scatter3d\"}], \"scattercarpet\": [{\"marker\": {\"colorbar\": {\"outlinewidth\": 0, \"ticks\": \"\"}}, \"type\": \"scattercarpet\"}], \"scattergeo\": [{\"marker\": {\"colorbar\": {\"outlinewidth\": 0, \"ticks\": \"\"}}, \"type\": \"scattergeo\"}], \"scattergl\": [{\"marker\": {\"colorbar\": {\"outlinewidth\": 0, \"ticks\": \"\"}}, \"type\": \"scattergl\"}], \"scattermapbox\": [{\"marker\": {\"colorbar\": {\"outlinewidth\": 0, \"ticks\": \"\"}}, \"type\": \"scattermapbox\"}], \"scatterpolar\": [{\"marker\": {\"colorbar\": {\"outlinewidth\": 0, \"ticks\": \"\"}}, \"type\": \"scatterpolar\"}], \"scatterpolargl\": [{\"marker\": {\"colorbar\": {\"outlinewidth\": 0, \"ticks\": \"\"}}, \"type\": \"scatterpolargl\"}], \"scatterternary\": [{\"marker\": {\"colorbar\": {\"outlinewidth\": 0, \"ticks\": \"\"}}, \"type\": \"scatterternary\"}], \"surface\": [{\"colorbar\": {\"outlinewidth\": 0, \"ticks\": \"\"}, \"colorscale\": [[0.0, \"#0d0887\"], [0.1111111111111111, \"#46039f\"], [0.2222222222222222, \"#7201a8\"], [0.3333333333333333, \"#9c179e\"], [0.4444444444444444, \"#bd3786\"], [0.5555555555555556, \"#d8576b\"], [0.6666666666666666, \"#ed7953\"], [0.7777777777777778, \"#fb9f3a\"], [0.8888888888888888, \"#fdca26\"], [1.0, \"#f0f921\"]], \"type\": \"surface\"}], \"table\": [{\"cells\": {\"fill\": {\"color\": \"#EBF0F8\"}, \"line\": {\"color\": \"white\"}}, \"header\": {\"fill\": {\"color\": \"#C8D4E3\"}, \"line\": {\"color\": \"white\"}}, \"type\": \"table\"}]}, \"layout\": {\"annotationdefaults\": {\"arrowcolor\": \"#2a3f5f\", \"arrowhead\": 0, \"arrowwidth\": 1}, \"coloraxis\": {\"colorbar\": {\"outlinewidth\": 0, \"ticks\": \"\"}}, \"colorscale\": {\"diverging\": [[0, \"#8e0152\"], [0.1, \"#c51b7d\"], [0.2, \"#de77ae\"], [0.3, \"#f1b6da\"], [0.4, \"#fde0ef\"], [0.5, \"#f7f7f7\"], [0.6, \"#e6f5d0\"], [0.7, \"#b8e186\"], [0.8, \"#7fbc41\"], [0.9, \"#4d9221\"], [1, \"#276419\"]], \"sequential\": [[0.0, \"#0d0887\"], [0.1111111111111111, \"#46039f\"], [0.2222222222222222, \"#7201a8\"], [0.3333333333333333, \"#9c179e\"], [0.4444444444444444, \"#bd3786\"], [0.5555555555555556, \"#d8576b\"], [0.6666666666666666, \"#ed7953\"], [0.7777777777777778, \"#fb9f3a\"], [0.8888888888888888, \"#fdca26\"], [1.0, \"#f0f921\"]], \"sequentialminus\": [[0.0, \"#0d0887\"], [0.1111111111111111, \"#46039f\"], [0.2222222222222222, \"#7201a8\"], [0.3333333333333333, \"#9c179e\"], [0.4444444444444444, \"#bd3786\"], [0.5555555555555556, \"#d8576b\"], [0.6666666666666666, \"#ed7953\"], [0.7777777777777778, \"#fb9f3a\"], [0.8888888888888888, \"#fdca26\"], [1.0, \"#f0f921\"]]}, \"colorway\": [\"#636efa\", \"#EF553B\", \"#00cc96\", \"#ab63fa\", \"#FFA15A\", \"#19d3f3\", \"#FF6692\", \"#B6E880\", \"#FF97FF\", \"#FECB52\"], \"font\": {\"color\": \"#2a3f5f\"}, \"geo\": {\"bgcolor\": \"white\", \"lakecolor\": \"white\", \"landcolor\": \"#E5ECF6\", \"showlakes\": true, \"showland\": true, \"subunitcolor\": \"white\"}, \"hoverlabel\": {\"align\": \"left\"}, \"hovermode\": \"closest\", \"mapbox\": {\"style\": \"light\"}, \"paper_bgcolor\": \"white\", \"plot_bgcolor\": \"#E5ECF6\", \"polar\": {\"angularaxis\": {\"gridcolor\": \"white\", \"linecolor\": \"white\", \"ticks\": \"\"}, \"bgcolor\": \"#E5ECF6\", \"radialaxis\": {\"gridcolor\": \"white\", \"linecolor\": \"white\", \"ticks\": \"\"}}, \"scene\": {\"xaxis\": {\"backgroundcolor\": \"#E5ECF6\", \"gridcolor\": \"white\", \"gridwidth\": 2, \"linecolor\": \"white\", \"showbackground\": true, \"ticks\": \"\", \"zerolinecolor\": \"white\"}, \"yaxis\": {\"backgroundcolor\": \"#E5ECF6\", \"gridcolor\": \"white\", \"gridwidth\": 2, \"linecolor\": \"white\", \"showbackground\": true, \"ticks\": \"\", \"zerolinecolor\": \"white\"}, \"zaxis\": {\"backgroundcolor\": \"#E5ECF6\", \"gridcolor\": \"white\", \"gridwidth\": 2, \"linecolor\": \"white\", \"showbackground\": true, \"ticks\": \"\", \"zerolinecolor\": \"white\"}}, \"shapedefaults\": {\"line\": {\"color\": \"#2a3f5f\"}}, \"ternary\": {\"aaxis\": {\"gridcolor\": \"white\", \"linecolor\": \"white\", \"ticks\": \"\"}, \"baxis\": {\"gridcolor\": \"white\", \"linecolor\": \"white\", \"ticks\": \"\"}, \"bgcolor\": \"#E5ECF6\", \"caxis\": {\"gridcolor\": \"white\", \"linecolor\": \"white\", \"ticks\": \"\"}}, \"title\": {\"x\": 0.05}, \"xaxis\": {\"automargin\": true, \"gridcolor\": \"white\", \"linecolor\": \"white\", \"ticks\": \"\", \"title\": {\"standoff\": 15}, \"zerolinecolor\": \"white\", \"zerolinewidth\": 2}, \"yaxis\": {\"automargin\": true, \"gridcolor\": \"white\", \"linecolor\": \"white\", \"ticks\": \"\", \"title\": {\"standoff\": 15}, \"zerolinecolor\": \"white\", \"zerolinewidth\": 2}}}, \"xaxis\": {\"title\": {\"text\": \"time (s)\"}}, \"yaxis\": {\"title\": {\"text\": \"response\"}}},                        {\"responsive\": true}                    ).then(function(){\n",
       "                            \n",
       "var gd = document.getElementById('3cdfa354-1bcc-4011-886e-296e44212b1d');\n",
       "var x = new MutationObserver(function (mutations, observer) {{\n",
       "        var display = window.getComputedStyle(gd).display;\n",
       "        if (!display || display === 'none') {{\n",
       "            console.log([gd, 'removed!']);\n",
       "            Plotly.purge(gd);\n",
       "            observer.disconnect();\n",
       "        }}\n",
       "}});\n",
       "\n",
       "// Listen for the removal of the full notebook cells\n",
       "var notebookContainer = gd.closest('#notebook-container');\n",
       "if (notebookContainer) {{\n",
       "    x.observe(notebookContainer, {childList: true});\n",
       "}}\n",
       "\n",
       "// Listen for the clearing of the current output cell\n",
       "var outputEl = gd.closest('.output');\n",
       "if (outputEl) {{\n",
       "    x.observe(outputEl, {childList: true});\n",
       "}}\n",
       "\n",
       "                        })                };                });            </script>        </div>"
      ]
     },
     "metadata": {},
     "output_type": "display_data"
    }
   ],
   "source": [
    "step([F1])"
   ]
  },
  {
   "cell_type": "markdown",
   "metadata": {},
   "source": [
    "**Question :**\n",
    "\n",
    "En utilisant la fonction `stepinfo`, déterminez pour la réponse indicielle de la fonction de transfert $F_1(p)$:\n",
    "* le temps de réponse à $\\pm 5 \\%$,\n",
    "* le temps de montée de $10\\%$ à $90\\%$,\n",
    "* la valeur finale."
   ]
  },
  {
   "cell_type": "code",
   "execution_count": 8,
   "metadata": {},
   "outputs": [
    {
     "data": {
      "text/plain": [
       "{'RiseTime': 6.648241206030151,\n",
       " 'SettlingTime': 8.969849246231156,\n",
       " 'SettlingMin': 1.8037686305649496,\n",
       " 'SettlingMax': 1.9981762360688888,\n",
       " 'Overshoot': 0.0,\n",
       " 'Undershoot': 0.0,\n",
       " 'Peak': 1.9981762360688888,\n",
       " 'PeakTime': 21.0,\n",
       " 'SteadyStateValue': 1.9981762360688888}"
      ]
     },
     "execution_count": 8,
     "metadata": {},
     "output_type": "execute_result"
    }
   ],
   "source": [
    "stepinfo(F1)\n",
    "#stepinfo(F2)\n",
    "#stepinfo(F3)"
   ]
  },
  {
   "cell_type": "markdown",
   "metadata": {},
   "source": [
    "**Question :**\n",
    "\n",
    "Completez le tableau suivant pour les 3 fonctions de transfert. La valeur de $m$ pourra s'obtenir au moyen de la fonction `damp`."
   ]
  },
  {
   "cell_type": "markdown",
   "metadata": {},
   "source": [
    "<table>\n",
    "    <tr>\n",
    "        <th>Fonction de Transfert</th>\n",
    "        <th style=\"width: 25%\">$F_1(p)$</th>\n",
    "        <th style=\"width: 25%\">$F_2(p)$</th>\n",
    "        <th style=\"width: 25%\">$F_3(p)$</th>\n",
    "    </tr>\n",
    "    <tr>\n",
    "        <td>$t_r (\\pm 5\\%)$</td>\n",
    "        <td></td>\n",
    "        <td></td>\n",
    "        <td></td>\n",
    "    </tr> \n",
    "    <tr>\n",
    "        <td>$m$</td>\n",
    "        <td></td>\n",
    "        <td></td>\n",
    "        <td></td>\n",
    "    </tr> \n",
    "    <tr>\n",
    "        <td>$D_r(\\%)$</td>\n",
    "        <td></td>\n",
    "        <td></td>\n",
    "        <td></td>\n",
    "    </tr> \n",
    "    <tr>\n",
    "        <td>$s(\\infty)$</td>\n",
    "        <td></td>\n",
    "        <td></td>\n",
    "        <td></td>\n",
    "    </tr>\n",
    "</table>"
   ]
  },
  {
   "cell_type": "code",
   "execution_count": null,
   "metadata": {},
   "outputs": [],
   "source": []
  },
  {
   "cell_type": "markdown",
   "metadata": {},
   "source": [
    "**Question :**\n",
    "    \n",
    "Que pouvez-vous conclure sur les pôles de ces FT à partir du coefficient d'amortissement ou du dépassement ?"
   ]
  },
  {
   "cell_type": "markdown",
   "metadata": {},
   "source": [
    "si ordre 2  si m>1 poles réels                 pas de dépassement\n",
    "            si m<1 poles complexes conjugues   +dépassement"
   ]
  },
  {
   "cell_type": "markdown",
   "metadata": {},
   "source": [
    "#### 2.2 Analyse Fréquentielle\n",
    "\n",
    "La réponse harmonique ou réponse fréquentielle permet d'analyser la réponse temporelle du système à une entrée sinusoïdale en régime permanent par une lecture directe du module (coefficient d'amplification ou d'atténuation) et de la phase (avance ou retard) pour toutes les fréquences du signal d'entrée. Cette analyse permet d'évaluer les performances en régime dynamique telles que la bande passante, le filtrage, le déphasage du processus.\n",
    "\n",
    "On rappelle que la réponse harmonique est obtenue en étudiant le gain et la phase de la fonction complexe $F(j\\omega)$ correspondant à $F(p)$ où on remplace $p = j\\omega$ ( $\\omega$ : pulsation réelle du signal d'entrée).\n",
    "La réponse harmonique peut être visualisée sous différentes formes : Bode, Nyquist, ou Black-Nichols en utilisant la fonction `figure()`\n",
    "\n",
    "\n",
    "##### Diagramme de Bode\n",
    "\n",
    "**Question :** Visualisez les diagrammes de Bode des 3 fonctions de transfert. Analysez le comportement de chacune d'elle."
   ]
  },
  {
   "cell_type": "code",
   "execution_count": 9,
   "metadata": {},
   "outputs": [
    {
     "name": "stderr",
     "output_type": "stream",
     "text": [
      "C:\\Users\\carre\\anaconda3\\lib\\site-packages\\control\\freqplot.py:163: FutureWarning:\n",
      "\n",
      "'Plot' keyword is deprecated in bode_plot; use 'plot'\n",
      "\n"
     ]
    },
    {
     "data": {
      "application/vnd.plotly.v1+json": {
       "config": {
        "plotlyServerURL": "https://plot.ly"
       },
       "data": [
        {
         "hovertemplate": "<b>w</b>: %{x:.3f} rad/s<br><b>mag</b>: %{y:.3f} dB<br><b>phase</b>: %{text:.3f} deg<br>",
         "line": {
          "color": "#1f77b4"
         },
         "name": "sys",
         "showlegend": false,
         "text": [
          -1.7183580016554572,
          -1.9783163552038507,
          -2.2775296543513024,
          -2.621887580926553,
          -3.018143535903415,
          -3.4740308162838067,
          -3.998388832212787,
          -4.601297042217597,
          -5.29421204217926,
          -6.090099797051444,
          -7.0035498420577404,
          -8.050850757483278,
          -9.249995612319411,
          -10.62057174342165,
          -12.183471058633414,
          -13.960336218901933,
          -15.972638505271515,
          -18.2402736673239,
          -20.779578372104734,
          -23.600735428782933,
          -26.70467681315222,
          -30.079822458504943,
          -33.69928015277267,
          -37.51937456048284,
          -41.48039707635546,
          -45.510107187968295,
          -49.52976488178309,
          -53.46159760171068,
          -57.2360485813597,
          -60.79724071012826,
          -64.10576879216751,
          -67.13881646827625,
          -69.88826058983783,
          -72.35768000573735,
          -74.55908846918453,
          -76.50994310554435,
          -78.23070081980188,
          -79.74298781070414,
          -81.06832766910901,
          -82.22732294449304,
          -83.23917720036215,
          -84.1214578058743,
          -84.89002018067808,
          -85.55903460527882,
          -86.14107395629053,
          -86.647234072461,
          -87.08726821837962,
          -87.46972397205626,
          -87.80207553550855,
          -88.09084756700362
         ],
         "type": "scatter",
         "x": [
          0.01,
          0.011513953993264475,
          0.013257113655901088,
          0.015264179671752334,
          0.017575106248547922,
          0.020235896477251575,
          0.023299518105153717,
          0.02682695795279726,
          0.030888435964774818,
          0.03556480306223128,
          0.040949150623804255,
          0.04714866363457394,
          0.054286754393238594,
          0.06250551925273973,
          0.07196856730011521,
          0.08286427728546843,
          0.09540954763499938,
          0.10985411419875583,
          0.12648552168552957,
          0.14563484775012436,
          0.16768329368110083,
          0.19306977288832497,
          0.22229964825261944,
          0.2559547922699536,
          0.29470517025518095,
          0.3393221771895328,
          0.3906939937054617,
          0.44984326689694465,
          0.517947467923121,
          0.5963623316594643,
          0.6866488450043002,
          0.7906043210907697,
          0.9102981779915218,
          1.0481131341546852,
          1.2067926406393288,
          1.3894954943731375,
          1.5998587196060574,
          1.8420699693267164,
          2.1209508879201904,
          2.44205309454865,
          2.8117686979742307,
          3.2374575428176433,
          3.727593720314938,
          4.291934260128778,
          4.941713361323833,
          5.689866029018293,
          6.551285568595509,
          7.543120063354615,
          8.68511373751352,
          10
         ],
         "xaxis": "x",
         "y": [
          6.016693020780522,
          6.015421259919415,
          6.013735846005295,
          6.011502481479788,
          6.008543454193552,
          6.004623743567054,
          5.999432786446875,
          5.992560626710064,
          5.983466858195973,
          5.971440426058696,
          5.955548016853015,
          5.93456852602848,
          5.9069110996055985,
          5.870514775749251,
          5.822729236932376,
          5.76017926366328,
          5.678620981983159,
          5.572806755624734,
          5.436387939577428,
          5.2618995478188175,
          5.04088407832493,
          4.764214858723,
          4.422660249064682,
          4.007678475310756,
          3.5123510393670947,
          2.9322764431281625,
          2.2662022553750867,
          1.5162139285873062,
          0.687422590848118,
          -0.21275350711056856,
          -1.1755131925960014,
          -2.1915845282106834,
          -3.251966474229129,
          -4.348430568027773,
          -5.473788710151396,
          -6.621975978692269,
          -7.788009627830882,
          -8.967878719961469,
          -10.158404622432744,
          -11.357098145211333,
          -12.562027615136849,
          -13.771704311668035,
          -14.984986883302422,
          -16.201003758504477,
          -17.419091373430824,
          -18.6387456751269,
          -19.85958443411961,
          -21.081318176779288,
          -22.303727890792544,
          -23.52664799651101
         ],
         "yaxis": "y"
        },
        {
         "hovertemplate": "<b>w</b>: %{x:.3f} rad/s<br><b>mag</b>: %{y:.3f} dB<br><b>phase</b>: %{text:.3f} deg<br>",
         "line": {
          "color": "#ff7f0e"
         },
         "name": "sys",
         "showlegend": false,
         "text": [
          -5.7117279321026455,
          -6.8831224304871865,
          -8.289476573487088,
          -9.97403219817082,
          -11.985171623966712,
          -14.374961473716102,
          -17.195983713255657,
          -20.49565033715591,
          -24.307326454742704,
          -28.63834623480732,
          -33.4567592519061,
          -38.68121320524656,
          -44.18027227343285,
          -49.786032830721965,
          -55.32080436445196,
          -60.62807371433108,
          -65.59622599869365,
          -70.16813852863355,
          -74.33750527552456,
          -78.13762727380293,
          -81.62863620472623,
          -84.88677535036919,
          -87.99690614175556,
          -91.04789541523733,
          -94.12990431074964,
          -97.33243651858281,
          -100.74198870411374,
          -104.43815025802905,
          -108.4870904283231,
          -112.93181353991928,
          -117.7797652420016,
          -122.9905786251443,
          -128.4693361393604,
          -134.07160158455017,
          -139.6231014083961,
          -144.9495774741439,
          -149.9060264292477,
          -154.39491056195746,
          -158.36962124300314,
          -161.82660900440294,
          -164.79251212461003,
          -167.311467149071,
          -169.43519173395754,
          -171.21635562712578,
          -172.70471398075662,
          -173.94519641707987,
          -174.97723146730013,
          -175.83477947921784,
          -176.54672950300406,
          -177.13745188451847
         ],
         "type": "scatter",
         "x": [
          0.01,
          0.012067926406393288,
          0.014563484775012436,
          0.017575106248547922,
          0.021209508879201904,
          0.025595479226995357,
          0.030888435964774818,
          0.0372759372031494,
          0.04498432668969444,
          0.054286754393238594,
          0.0655128556859551,
          0.07906043210907697,
          0.09540954763499938,
          0.1151395399326447,
          0.13894954943731375,
          0.16768329368110074,
          0.20235896477251566,
          0.2442053094548651,
          0.29470517025518095,
          0.35564803062231287,
          0.42919342601287763,
          0.517947467923121,
          0.6250551925273969,
          0.7543120063354615,
          0.9102981779915218,
          1.0985411419875584,
          1.325711365590108,
          1.5998587196060574,
          1.9306977288832496,
          2.329951810515372,
          2.811768697974228,
          3.3932217718953264,
          4.094915062380423,
          4.941713361323833,
          5.963623316594643,
          7.196856730011514,
          8.68511373751352,
          10.481131341546853,
          12.648552168552959,
          15.264179671752318,
          18.420699693267146,
          22.229964825261934,
          26.826957952797247,
          32.374575428176435,
          39.06939937054613,
          47.1486636345739,
          56.89866029018293,
          68.66488450042998,
          82.86427728546842,
          100
         ],
         "xaxis": "x",
         "y": [
          5.979106322213076,
          5.960301611303994,
          5.933060092854689,
          5.893689839635934,
          5.836983399603973,
          5.755700120521215,
          5.639977347020792,
          5.476770549832096,
          5.249534733754468,
          4.938496834522915,
          4.521947315149221,
          3.978832114387345,
          3.2923995446499448,
          2.453868263364871,
          1.4645983307590729,
          0.33569572976803586,
          -0.9147577246411762,
          -2.2655507552989413,
          -3.695814049182923,
          -5.187311785486829,
          -6.725504104784247,
          -8.299748648054276,
          -9.903076646472586,
          -11.531873272500652,
          -13.185657274661915,
          -14.867048811785464,
          -16.58193653212026,
          -18.33978144653998,
          -20.15389954725,
          -22.04143671604743,
          -24.022623393024496,
          -26.11888958585737,
          -28.34971504238256,
          -30.728764601389432,
          -33.26061367762506,
          -35.93952476498143,
          -38.75088179795068,
          -41.67455434599448,
          -44.68869796581957,
          -47.772737318976944,
          -50.90905033592763,
          -54.08351360319887,
          -57.28532474947339,
          -60.5064887635085,
          -63.741223078668234,
          -66.98541189816527,
          -70.23615821227966,
          -73.49143854335325,
          -76.74984705255486,
          -80.0104105906923
         ],
         "yaxis": "y"
        },
        {
         "hovertemplate": "<b>w</b>: %{x:.3f} rad/s<br><b>mag</b>: %{y:.3f} dB<br><b>phase</b>: %{text:.3f} deg<br>",
         "line": {
          "color": "#2ca02c"
         },
         "name": "sys",
         "showlegend": false,
         "text": [
          -0.28670587114980195,
          -0.3301970297015061,
          -0.38031748223964335,
          -0.43809460600384004,
          -0.5047238931100426,
          -0.5816011056983557,
          -0.6703629145172848,
          -0.7729392983591439,
          -0.8916226214126133,
          -1.0291608958039018,
          -1.1888869004541789,
          -1.3749016584770004,
          -1.5923422552522015,
          -1.8477838322760118,
          -2.1498611143004527,
          -2.5102610044317095,
          -2.945367092750507,
          -3.479104278192046,
          -4.14812295295636,
          -5.011880581365385,
          -6.1739409941000964,
          -7.832154761397647,
          -10.415895404117798,
          -15.051787218911663,
          -25.772227489113376,
          -65.06399523159752,
          -138.54307339201597,
          -160.02692121762394,
          -167.26783588677966,
          -170.82037886967066,
          -172.9393508795233,
          -174.35665883956855,
          -175.37735718024132,
          -176.15051750525836,
          -176.75750306462172,
          -177.2465307656979,
          -177.64808332826013,
          -177.98248066220305,
          -178.26388746044012,
          -178.50256356037895,
          -178.70618974759086,
          -178.88068086656008,
          -179.03070210958276,
          -179.16000718484253,
          -179.27166628717447,
          -179.36822405306359,
          -179.45181194378492,
          -179.52423028536464,
          -179.58700965239547,
          -179.64145787469803
         ],
         "type": "scatter",
         "x": [
          0.01,
          0.011513953993264475,
          0.013257113655901088,
          0.015264179671752334,
          0.017575106248547922,
          0.020235896477251575,
          0.023299518105153717,
          0.02682695795279726,
          0.030888435964774818,
          0.03556480306223128,
          0.040949150623804255,
          0.04714866363457394,
          0.054286754393238594,
          0.06250551925273973,
          0.07196856730011521,
          0.08286427728546843,
          0.09540954763499938,
          0.10985411419875583,
          0.12648552168552957,
          0.14563484775012436,
          0.16768329368110083,
          0.19306977288832497,
          0.22229964825261944,
          0.2559547922699536,
          0.29470517025518095,
          0.3393221771895328,
          0.3906939937054617,
          0.44984326689694465,
          0.517947467923121,
          0.5963623316594643,
          0.6866488450043002,
          0.7906043210907697,
          0.9102981779915218,
          1.0481131341546852,
          1.2067926406393288,
          1.3894954943731375,
          1.5998587196060574,
          1.8420699693267164,
          2.1209508879201904,
          2.44205309454865,
          2.8117686979742307,
          3.2374575428176433,
          3.727593720314938,
          4.291934260128778,
          4.941713361323833,
          5.689866029018293,
          6.551285568595509,
          7.543120063354615,
          8.68511373751352,
          10
         ],
         "xaxis": "x",
         "y": [
          6.027442659772588,
          6.029672547116301,
          6.032629588592354,
          6.036551274824859,
          6.041752942202923,
          6.048653502849337,
          6.057809841314895,
          6.069962920756836,
          6.086099803203256,
          6.107537463833362,
          6.136036745359793,
          6.173958517489499,
          6.224479871449536,
          6.291897398864856,
          6.38205986741716,
          6.5029988650102055,
          6.665873138953053,
          6.886431228268091,
          7.187374048900518,
          7.602375593432855,
          8.183385206072893,
          9.015018991161963,
          10.24600887004475,
          12.167105893366772,
          15.419128439947688,
          20.57898645251196,
          16.62237036321273,
          9.649787860180268,
          4.619473205829298,
          0.587847108635361,
          -2.9010492606029774,
          -6.0637589110706465,
          -9.016544780392131,
          -11.827904741938237,
          -14.540951249944316,
          -17.184134692806545,
          -19.77688627868662,
          -22.33281617631134,
          -24.86163677764146,
          -27.370375752241745,
          -29.864171080211463,
          -32.34680840135035,
          -34.821093219970095,
          -37.28911377054836,
          -39.75242951191109,
          -42.21220790409451,
          -44.66932457277066,
          -47.12443718172209,
          -49.57804021044503,
          -52.03050574086451
         ],
         "yaxis": "y"
        },
        {
         "hovertemplate": "<b>w</b>: %{x:.3f} rad/s<br><b>mag</b>: %{text:.3f} dB<br><b>phase</b>: %{y:.3f} deg<br>",
         "line": {
          "color": "#1f77b4"
         },
         "name": "sys",
         "showlegend": false,
         "text": [
          6.016693020780522,
          6.015421259919415,
          6.013735846005295,
          6.011502481479788,
          6.008543454193552,
          6.004623743567054,
          5.999432786446875,
          5.992560626710064,
          5.983466858195973,
          5.971440426058696,
          5.955548016853015,
          5.93456852602848,
          5.9069110996055985,
          5.870514775749251,
          5.822729236932376,
          5.76017926366328,
          5.678620981983159,
          5.572806755624734,
          5.436387939577428,
          5.2618995478188175,
          5.04088407832493,
          4.764214858723,
          4.422660249064682,
          4.007678475310756,
          3.5123510393670947,
          2.9322764431281625,
          2.2662022553750867,
          1.5162139285873062,
          0.687422590848118,
          -0.21275350711056856,
          -1.1755131925960014,
          -2.1915845282106834,
          -3.251966474229129,
          -4.348430568027773,
          -5.473788710151396,
          -6.621975978692269,
          -7.788009627830882,
          -8.967878719961469,
          -10.158404622432744,
          -11.357098145211333,
          -12.562027615136849,
          -13.771704311668035,
          -14.984986883302422,
          -16.201003758504477,
          -17.419091373430824,
          -18.6387456751269,
          -19.85958443411961,
          -21.081318176779288,
          -22.303727890792544,
          -23.52664799651101
         ],
         "type": "scatter",
         "x": [
          0.01,
          0.011513953993264475,
          0.013257113655901088,
          0.015264179671752334,
          0.017575106248547922,
          0.020235896477251575,
          0.023299518105153717,
          0.02682695795279726,
          0.030888435964774818,
          0.03556480306223128,
          0.040949150623804255,
          0.04714866363457394,
          0.054286754393238594,
          0.06250551925273973,
          0.07196856730011521,
          0.08286427728546843,
          0.09540954763499938,
          0.10985411419875583,
          0.12648552168552957,
          0.14563484775012436,
          0.16768329368110083,
          0.19306977288832497,
          0.22229964825261944,
          0.2559547922699536,
          0.29470517025518095,
          0.3393221771895328,
          0.3906939937054617,
          0.44984326689694465,
          0.517947467923121,
          0.5963623316594643,
          0.6866488450043002,
          0.7906043210907697,
          0.9102981779915218,
          1.0481131341546852,
          1.2067926406393288,
          1.3894954943731375,
          1.5998587196060574,
          1.8420699693267164,
          2.1209508879201904,
          2.44205309454865,
          2.8117686979742307,
          3.2374575428176433,
          3.727593720314938,
          4.291934260128778,
          4.941713361323833,
          5.689866029018293,
          6.551285568595509,
          7.543120063354615,
          8.68511373751352,
          10
         ],
         "xaxis": "x2",
         "y": [
          -1.7183580016554572,
          -1.9783163552038507,
          -2.2775296543513024,
          -2.621887580926553,
          -3.018143535903415,
          -3.4740308162838067,
          -3.998388832212787,
          -4.601297042217597,
          -5.29421204217926,
          -6.090099797051444,
          -7.0035498420577404,
          -8.050850757483278,
          -9.249995612319411,
          -10.62057174342165,
          -12.183471058633414,
          -13.960336218901933,
          -15.972638505271515,
          -18.2402736673239,
          -20.779578372104734,
          -23.600735428782933,
          -26.70467681315222,
          -30.079822458504943,
          -33.69928015277267,
          -37.51937456048284,
          -41.48039707635546,
          -45.510107187968295,
          -49.52976488178309,
          -53.46159760171068,
          -57.2360485813597,
          -60.79724071012826,
          -64.10576879216751,
          -67.13881646827625,
          -69.88826058983783,
          -72.35768000573735,
          -74.55908846918453,
          -76.50994310554435,
          -78.23070081980188,
          -79.74298781070414,
          -81.06832766910901,
          -82.22732294449304,
          -83.23917720036215,
          -84.1214578058743,
          -84.89002018067808,
          -85.55903460527882,
          -86.14107395629053,
          -86.647234072461,
          -87.08726821837962,
          -87.46972397205626,
          -87.80207553550855,
          -88.09084756700362
         ],
         "yaxis": "y2"
        },
        {
         "hovertemplate": "<b>w</b>: %{x:.3f} rad/s<br><b>mag</b>: %{text:.3f} dB<br><b>phase</b>: %{y:.3f} deg<br>",
         "line": {
          "color": "#ff7f0e"
         },
         "name": "sys",
         "showlegend": false,
         "text": [
          5.979106322213076,
          5.960301611303994,
          5.933060092854689,
          5.893689839635934,
          5.836983399603973,
          5.755700120521215,
          5.639977347020792,
          5.476770549832096,
          5.249534733754468,
          4.938496834522915,
          4.521947315149221,
          3.978832114387345,
          3.2923995446499448,
          2.453868263364871,
          1.4645983307590729,
          0.33569572976803586,
          -0.9147577246411762,
          -2.2655507552989413,
          -3.695814049182923,
          -5.187311785486829,
          -6.725504104784247,
          -8.299748648054276,
          -9.903076646472586,
          -11.531873272500652,
          -13.185657274661915,
          -14.867048811785464,
          -16.58193653212026,
          -18.33978144653998,
          -20.15389954725,
          -22.04143671604743,
          -24.022623393024496,
          -26.11888958585737,
          -28.34971504238256,
          -30.728764601389432,
          -33.26061367762506,
          -35.93952476498143,
          -38.75088179795068,
          -41.67455434599448,
          -44.68869796581957,
          -47.772737318976944,
          -50.90905033592763,
          -54.08351360319887,
          -57.28532474947339,
          -60.5064887635085,
          -63.741223078668234,
          -66.98541189816527,
          -70.23615821227966,
          -73.49143854335325,
          -76.74984705255486,
          -80.0104105906923
         ],
         "type": "scatter",
         "x": [
          0.01,
          0.012067926406393288,
          0.014563484775012436,
          0.017575106248547922,
          0.021209508879201904,
          0.025595479226995357,
          0.030888435964774818,
          0.0372759372031494,
          0.04498432668969444,
          0.054286754393238594,
          0.0655128556859551,
          0.07906043210907697,
          0.09540954763499938,
          0.1151395399326447,
          0.13894954943731375,
          0.16768329368110074,
          0.20235896477251566,
          0.2442053094548651,
          0.29470517025518095,
          0.35564803062231287,
          0.42919342601287763,
          0.517947467923121,
          0.6250551925273969,
          0.7543120063354615,
          0.9102981779915218,
          1.0985411419875584,
          1.325711365590108,
          1.5998587196060574,
          1.9306977288832496,
          2.329951810515372,
          2.811768697974228,
          3.3932217718953264,
          4.094915062380423,
          4.941713361323833,
          5.963623316594643,
          7.196856730011514,
          8.68511373751352,
          10.481131341546853,
          12.648552168552959,
          15.264179671752318,
          18.420699693267146,
          22.229964825261934,
          26.826957952797247,
          32.374575428176435,
          39.06939937054613,
          47.1486636345739,
          56.89866029018293,
          68.66488450042998,
          82.86427728546842,
          100
         ],
         "xaxis": "x2",
         "y": [
          -5.7117279321026455,
          -6.8831224304871865,
          -8.289476573487088,
          -9.97403219817082,
          -11.985171623966712,
          -14.374961473716102,
          -17.195983713255657,
          -20.49565033715591,
          -24.307326454742704,
          -28.63834623480732,
          -33.4567592519061,
          -38.68121320524656,
          -44.18027227343285,
          -49.786032830721965,
          -55.32080436445196,
          -60.62807371433108,
          -65.59622599869365,
          -70.16813852863355,
          -74.33750527552456,
          -78.13762727380293,
          -81.62863620472623,
          -84.88677535036919,
          -87.99690614175556,
          -91.04789541523733,
          -94.12990431074964,
          -97.33243651858281,
          -100.74198870411374,
          -104.43815025802905,
          -108.4870904283231,
          -112.93181353991928,
          -117.7797652420016,
          -122.9905786251443,
          -128.4693361393604,
          -134.07160158455017,
          -139.6231014083961,
          -144.9495774741439,
          -149.9060264292477,
          -154.39491056195746,
          -158.36962124300314,
          -161.82660900440294,
          -164.79251212461003,
          -167.311467149071,
          -169.43519173395754,
          -171.21635562712578,
          -172.70471398075662,
          -173.94519641707987,
          -174.97723146730013,
          -175.83477947921784,
          -176.54672950300406,
          -177.13745188451847
         ],
         "yaxis": "y2"
        },
        {
         "hovertemplate": "<b>w</b>: %{x:.3f} rad/s<br><b>mag</b>: %{text:.3f} dB<br><b>phase</b>: %{y:.3f} deg<br>",
         "line": {
          "color": "#2ca02c"
         },
         "name": "sys",
         "showlegend": false,
         "text": [
          6.027442659772588,
          6.029672547116301,
          6.032629588592354,
          6.036551274824859,
          6.041752942202923,
          6.048653502849337,
          6.057809841314895,
          6.069962920756836,
          6.086099803203256,
          6.107537463833362,
          6.136036745359793,
          6.173958517489499,
          6.224479871449536,
          6.291897398864856,
          6.38205986741716,
          6.5029988650102055,
          6.665873138953053,
          6.886431228268091,
          7.187374048900518,
          7.602375593432855,
          8.183385206072893,
          9.015018991161963,
          10.24600887004475,
          12.167105893366772,
          15.419128439947688,
          20.57898645251196,
          16.62237036321273,
          9.649787860180268,
          4.619473205829298,
          0.587847108635361,
          -2.9010492606029774,
          -6.0637589110706465,
          -9.016544780392131,
          -11.827904741938237,
          -14.540951249944316,
          -17.184134692806545,
          -19.77688627868662,
          -22.33281617631134,
          -24.86163677764146,
          -27.370375752241745,
          -29.864171080211463,
          -32.34680840135035,
          -34.821093219970095,
          -37.28911377054836,
          -39.75242951191109,
          -42.21220790409451,
          -44.66932457277066,
          -47.12443718172209,
          -49.57804021044503,
          -52.03050574086451
         ],
         "type": "scatter",
         "x": [
          0.01,
          0.011513953993264475,
          0.013257113655901088,
          0.015264179671752334,
          0.017575106248547922,
          0.020235896477251575,
          0.023299518105153717,
          0.02682695795279726,
          0.030888435964774818,
          0.03556480306223128,
          0.040949150623804255,
          0.04714866363457394,
          0.054286754393238594,
          0.06250551925273973,
          0.07196856730011521,
          0.08286427728546843,
          0.09540954763499938,
          0.10985411419875583,
          0.12648552168552957,
          0.14563484775012436,
          0.16768329368110083,
          0.19306977288832497,
          0.22229964825261944,
          0.2559547922699536,
          0.29470517025518095,
          0.3393221771895328,
          0.3906939937054617,
          0.44984326689694465,
          0.517947467923121,
          0.5963623316594643,
          0.6866488450043002,
          0.7906043210907697,
          0.9102981779915218,
          1.0481131341546852,
          1.2067926406393288,
          1.3894954943731375,
          1.5998587196060574,
          1.8420699693267164,
          2.1209508879201904,
          2.44205309454865,
          2.8117686979742307,
          3.2374575428176433,
          3.727593720314938,
          4.291934260128778,
          4.941713361323833,
          5.689866029018293,
          6.551285568595509,
          7.543120063354615,
          8.68511373751352,
          10
         ],
         "xaxis": "x2",
         "y": [
          -0.28670587114980195,
          -0.3301970297015061,
          -0.38031748223964335,
          -0.43809460600384004,
          -0.5047238931100426,
          -0.5816011056983557,
          -0.6703629145172848,
          -0.7729392983591439,
          -0.8916226214126133,
          -1.0291608958039018,
          -1.1888869004541789,
          -1.3749016584770004,
          -1.5923422552522015,
          -1.8477838322760118,
          -2.1498611143004527,
          -2.5102610044317095,
          -2.945367092750507,
          -3.479104278192046,
          -4.14812295295636,
          -5.011880581365385,
          -6.1739409941000964,
          -7.832154761397647,
          -10.415895404117798,
          -15.051787218911663,
          -25.772227489113376,
          -65.06399523159752,
          -138.54307339201597,
          -160.02692121762394,
          -167.26783588677966,
          -170.82037886967066,
          -172.9393508795233,
          -174.35665883956855,
          -175.37735718024132,
          -176.15051750525836,
          -176.75750306462172,
          -177.2465307656979,
          -177.64808332826013,
          -177.98248066220305,
          -178.26388746044012,
          -178.50256356037895,
          -178.70618974759086,
          -178.88068086656008,
          -179.03070210958276,
          -179.16000718484253,
          -179.27166628717447,
          -179.36822405306359,
          -179.45181194378492,
          -179.52423028536464,
          -179.58700965239547,
          -179.64145787469803
         ],
         "yaxis": "y2"
        }
       ],
       "layout": {
        "template": {
         "data": {
          "bar": [
           {
            "error_x": {
             "color": "#2a3f5f"
            },
            "error_y": {
             "color": "#2a3f5f"
            },
            "marker": {
             "line": {
              "color": "#E5ECF6",
              "width": 0.5
             }
            },
            "type": "bar"
           }
          ],
          "barpolar": [
           {
            "marker": {
             "line": {
              "color": "#E5ECF6",
              "width": 0.5
             }
            },
            "type": "barpolar"
           }
          ],
          "carpet": [
           {
            "aaxis": {
             "endlinecolor": "#2a3f5f",
             "gridcolor": "white",
             "linecolor": "white",
             "minorgridcolor": "white",
             "startlinecolor": "#2a3f5f"
            },
            "baxis": {
             "endlinecolor": "#2a3f5f",
             "gridcolor": "white",
             "linecolor": "white",
             "minorgridcolor": "white",
             "startlinecolor": "#2a3f5f"
            },
            "type": "carpet"
           }
          ],
          "choropleth": [
           {
            "colorbar": {
             "outlinewidth": 0,
             "ticks": ""
            },
            "type": "choropleth"
           }
          ],
          "contour": [
           {
            "colorbar": {
             "outlinewidth": 0,
             "ticks": ""
            },
            "colorscale": [
             [
              0,
              "#0d0887"
             ],
             [
              0.1111111111111111,
              "#46039f"
             ],
             [
              0.2222222222222222,
              "#7201a8"
             ],
             [
              0.3333333333333333,
              "#9c179e"
             ],
             [
              0.4444444444444444,
              "#bd3786"
             ],
             [
              0.5555555555555556,
              "#d8576b"
             ],
             [
              0.6666666666666666,
              "#ed7953"
             ],
             [
              0.7777777777777778,
              "#fb9f3a"
             ],
             [
              0.8888888888888888,
              "#fdca26"
             ],
             [
              1,
              "#f0f921"
             ]
            ],
            "type": "contour"
           }
          ],
          "contourcarpet": [
           {
            "colorbar": {
             "outlinewidth": 0,
             "ticks": ""
            },
            "type": "contourcarpet"
           }
          ],
          "heatmap": [
           {
            "colorbar": {
             "outlinewidth": 0,
             "ticks": ""
            },
            "colorscale": [
             [
              0,
              "#0d0887"
             ],
             [
              0.1111111111111111,
              "#46039f"
             ],
             [
              0.2222222222222222,
              "#7201a8"
             ],
             [
              0.3333333333333333,
              "#9c179e"
             ],
             [
              0.4444444444444444,
              "#bd3786"
             ],
             [
              0.5555555555555556,
              "#d8576b"
             ],
             [
              0.6666666666666666,
              "#ed7953"
             ],
             [
              0.7777777777777778,
              "#fb9f3a"
             ],
             [
              0.8888888888888888,
              "#fdca26"
             ],
             [
              1,
              "#f0f921"
             ]
            ],
            "type": "heatmap"
           }
          ],
          "heatmapgl": [
           {
            "colorbar": {
             "outlinewidth": 0,
             "ticks": ""
            },
            "colorscale": [
             [
              0,
              "#0d0887"
             ],
             [
              0.1111111111111111,
              "#46039f"
             ],
             [
              0.2222222222222222,
              "#7201a8"
             ],
             [
              0.3333333333333333,
              "#9c179e"
             ],
             [
              0.4444444444444444,
              "#bd3786"
             ],
             [
              0.5555555555555556,
              "#d8576b"
             ],
             [
              0.6666666666666666,
              "#ed7953"
             ],
             [
              0.7777777777777778,
              "#fb9f3a"
             ],
             [
              0.8888888888888888,
              "#fdca26"
             ],
             [
              1,
              "#f0f921"
             ]
            ],
            "type": "heatmapgl"
           }
          ],
          "histogram": [
           {
            "marker": {
             "colorbar": {
              "outlinewidth": 0,
              "ticks": ""
             }
            },
            "type": "histogram"
           }
          ],
          "histogram2d": [
           {
            "colorbar": {
             "outlinewidth": 0,
             "ticks": ""
            },
            "colorscale": [
             [
              0,
              "#0d0887"
             ],
             [
              0.1111111111111111,
              "#46039f"
             ],
             [
              0.2222222222222222,
              "#7201a8"
             ],
             [
              0.3333333333333333,
              "#9c179e"
             ],
             [
              0.4444444444444444,
              "#bd3786"
             ],
             [
              0.5555555555555556,
              "#d8576b"
             ],
             [
              0.6666666666666666,
              "#ed7953"
             ],
             [
              0.7777777777777778,
              "#fb9f3a"
             ],
             [
              0.8888888888888888,
              "#fdca26"
             ],
             [
              1,
              "#f0f921"
             ]
            ],
            "type": "histogram2d"
           }
          ],
          "histogram2dcontour": [
           {
            "colorbar": {
             "outlinewidth": 0,
             "ticks": ""
            },
            "colorscale": [
             [
              0,
              "#0d0887"
             ],
             [
              0.1111111111111111,
              "#46039f"
             ],
             [
              0.2222222222222222,
              "#7201a8"
             ],
             [
              0.3333333333333333,
              "#9c179e"
             ],
             [
              0.4444444444444444,
              "#bd3786"
             ],
             [
              0.5555555555555556,
              "#d8576b"
             ],
             [
              0.6666666666666666,
              "#ed7953"
             ],
             [
              0.7777777777777778,
              "#fb9f3a"
             ],
             [
              0.8888888888888888,
              "#fdca26"
             ],
             [
              1,
              "#f0f921"
             ]
            ],
            "type": "histogram2dcontour"
           }
          ],
          "mesh3d": [
           {
            "colorbar": {
             "outlinewidth": 0,
             "ticks": ""
            },
            "type": "mesh3d"
           }
          ],
          "parcoords": [
           {
            "line": {
             "colorbar": {
              "outlinewidth": 0,
              "ticks": ""
             }
            },
            "type": "parcoords"
           }
          ],
          "pie": [
           {
            "automargin": true,
            "type": "pie"
           }
          ],
          "scatter": [
           {
            "marker": {
             "colorbar": {
              "outlinewidth": 0,
              "ticks": ""
             }
            },
            "type": "scatter"
           }
          ],
          "scatter3d": [
           {
            "line": {
             "colorbar": {
              "outlinewidth": 0,
              "ticks": ""
             }
            },
            "marker": {
             "colorbar": {
              "outlinewidth": 0,
              "ticks": ""
             }
            },
            "type": "scatter3d"
           }
          ],
          "scattercarpet": [
           {
            "marker": {
             "colorbar": {
              "outlinewidth": 0,
              "ticks": ""
             }
            },
            "type": "scattercarpet"
           }
          ],
          "scattergeo": [
           {
            "marker": {
             "colorbar": {
              "outlinewidth": 0,
              "ticks": ""
             }
            },
            "type": "scattergeo"
           }
          ],
          "scattergl": [
           {
            "marker": {
             "colorbar": {
              "outlinewidth": 0,
              "ticks": ""
             }
            },
            "type": "scattergl"
           }
          ],
          "scattermapbox": [
           {
            "marker": {
             "colorbar": {
              "outlinewidth": 0,
              "ticks": ""
             }
            },
            "type": "scattermapbox"
           }
          ],
          "scatterpolar": [
           {
            "marker": {
             "colorbar": {
              "outlinewidth": 0,
              "ticks": ""
             }
            },
            "type": "scatterpolar"
           }
          ],
          "scatterpolargl": [
           {
            "marker": {
             "colorbar": {
              "outlinewidth": 0,
              "ticks": ""
             }
            },
            "type": "scatterpolargl"
           }
          ],
          "scatterternary": [
           {
            "marker": {
             "colorbar": {
              "outlinewidth": 0,
              "ticks": ""
             }
            },
            "type": "scatterternary"
           }
          ],
          "surface": [
           {
            "colorbar": {
             "outlinewidth": 0,
             "ticks": ""
            },
            "colorscale": [
             [
              0,
              "#0d0887"
             ],
             [
              0.1111111111111111,
              "#46039f"
             ],
             [
              0.2222222222222222,
              "#7201a8"
             ],
             [
              0.3333333333333333,
              "#9c179e"
             ],
             [
              0.4444444444444444,
              "#bd3786"
             ],
             [
              0.5555555555555556,
              "#d8576b"
             ],
             [
              0.6666666666666666,
              "#ed7953"
             ],
             [
              0.7777777777777778,
              "#fb9f3a"
             ],
             [
              0.8888888888888888,
              "#fdca26"
             ],
             [
              1,
              "#f0f921"
             ]
            ],
            "type": "surface"
           }
          ],
          "table": [
           {
            "cells": {
             "fill": {
              "color": "#EBF0F8"
             },
             "line": {
              "color": "white"
             }
            },
            "header": {
             "fill": {
              "color": "#C8D4E3"
             },
             "line": {
              "color": "white"
             }
            },
            "type": "table"
           }
          ]
         },
         "layout": {
          "annotationdefaults": {
           "arrowcolor": "#2a3f5f",
           "arrowhead": 0,
           "arrowwidth": 1
          },
          "coloraxis": {
           "colorbar": {
            "outlinewidth": 0,
            "ticks": ""
           }
          },
          "colorscale": {
           "diverging": [
            [
             0,
             "#8e0152"
            ],
            [
             0.1,
             "#c51b7d"
            ],
            [
             0.2,
             "#de77ae"
            ],
            [
             0.3,
             "#f1b6da"
            ],
            [
             0.4,
             "#fde0ef"
            ],
            [
             0.5,
             "#f7f7f7"
            ],
            [
             0.6,
             "#e6f5d0"
            ],
            [
             0.7,
             "#b8e186"
            ],
            [
             0.8,
             "#7fbc41"
            ],
            [
             0.9,
             "#4d9221"
            ],
            [
             1,
             "#276419"
            ]
           ],
           "sequential": [
            [
             0,
             "#0d0887"
            ],
            [
             0.1111111111111111,
             "#46039f"
            ],
            [
             0.2222222222222222,
             "#7201a8"
            ],
            [
             0.3333333333333333,
             "#9c179e"
            ],
            [
             0.4444444444444444,
             "#bd3786"
            ],
            [
             0.5555555555555556,
             "#d8576b"
            ],
            [
             0.6666666666666666,
             "#ed7953"
            ],
            [
             0.7777777777777778,
             "#fb9f3a"
            ],
            [
             0.8888888888888888,
             "#fdca26"
            ],
            [
             1,
             "#f0f921"
            ]
           ],
           "sequentialminus": [
            [
             0,
             "#0d0887"
            ],
            [
             0.1111111111111111,
             "#46039f"
            ],
            [
             0.2222222222222222,
             "#7201a8"
            ],
            [
             0.3333333333333333,
             "#9c179e"
            ],
            [
             0.4444444444444444,
             "#bd3786"
            ],
            [
             0.5555555555555556,
             "#d8576b"
            ],
            [
             0.6666666666666666,
             "#ed7953"
            ],
            [
             0.7777777777777778,
             "#fb9f3a"
            ],
            [
             0.8888888888888888,
             "#fdca26"
            ],
            [
             1,
             "#f0f921"
            ]
           ]
          },
          "colorway": [
           "#636efa",
           "#EF553B",
           "#00cc96",
           "#ab63fa",
           "#FFA15A",
           "#19d3f3",
           "#FF6692",
           "#B6E880",
           "#FF97FF",
           "#FECB52"
          ],
          "font": {
           "color": "#2a3f5f"
          },
          "geo": {
           "bgcolor": "white",
           "lakecolor": "white",
           "landcolor": "#E5ECF6",
           "showlakes": true,
           "showland": true,
           "subunitcolor": "white"
          },
          "hoverlabel": {
           "align": "left"
          },
          "hovermode": "closest",
          "mapbox": {
           "style": "light"
          },
          "paper_bgcolor": "white",
          "plot_bgcolor": "#E5ECF6",
          "polar": {
           "angularaxis": {
            "gridcolor": "white",
            "linecolor": "white",
            "ticks": ""
           },
           "bgcolor": "#E5ECF6",
           "radialaxis": {
            "gridcolor": "white",
            "linecolor": "white",
            "ticks": ""
           }
          },
          "scene": {
           "xaxis": {
            "backgroundcolor": "#E5ECF6",
            "gridcolor": "white",
            "gridwidth": 2,
            "linecolor": "white",
            "showbackground": true,
            "ticks": "",
            "zerolinecolor": "white"
           },
           "yaxis": {
            "backgroundcolor": "#E5ECF6",
            "gridcolor": "white",
            "gridwidth": 2,
            "linecolor": "white",
            "showbackground": true,
            "ticks": "",
            "zerolinecolor": "white"
           },
           "zaxis": {
            "backgroundcolor": "#E5ECF6",
            "gridcolor": "white",
            "gridwidth": 2,
            "linecolor": "white",
            "showbackground": true,
            "ticks": "",
            "zerolinecolor": "white"
           }
          },
          "shapedefaults": {
           "line": {
            "color": "#2a3f5f"
           }
          },
          "ternary": {
           "aaxis": {
            "gridcolor": "white",
            "linecolor": "white",
            "ticks": ""
           },
           "baxis": {
            "gridcolor": "white",
            "linecolor": "white",
            "ticks": ""
           },
           "bgcolor": "#E5ECF6",
           "caxis": {
            "gridcolor": "white",
            "linecolor": "white",
            "ticks": ""
           }
          },
          "title": {
           "x": 0.05
          },
          "xaxis": {
           "automargin": true,
           "gridcolor": "white",
           "linecolor": "white",
           "ticks": "",
           "title": {
            "standoff": 15
           },
           "zerolinecolor": "white",
           "zerolinewidth": 2
          },
          "yaxis": {
           "automargin": true,
           "gridcolor": "white",
           "linecolor": "white",
           "ticks": "",
           "title": {
            "standoff": 15
           },
           "zerolinecolor": "white",
           "zerolinewidth": 2
          }
         }
        },
        "xaxis": {
         "anchor": "y",
         "domain": [
          0,
          1
         ],
         "matches": "x2",
         "showticklabels": false,
         "title": {
          "text": "w (rad/s)"
         },
         "type": "log"
        },
        "xaxis2": {
         "anchor": "y2",
         "domain": [
          0,
          1
         ],
         "title": {
          "text": "w (rad/s)"
         },
         "type": "log"
        },
        "yaxis": {
         "anchor": "x",
         "domain": [
          0.575,
          1
         ],
         "title": {
          "text": "Magnitude"
         }
        },
        "yaxis2": {
         "anchor": "x2",
         "domain": [
          0,
          0.425
         ],
         "title": {
          "text": "Phase"
         }
        }
       }
      },
      "text/html": [
       "<div>                            <div id=\"4f80927f-2cfb-44ac-8a5f-0a0ff2ffce00\" class=\"plotly-graph-div\" style=\"height:525px; width:100%;\"></div>            <script type=\"text/javascript\">                require([\"plotly\"], function(Plotly) {                    window.PLOTLYENV=window.PLOTLYENV || {};                                    if (document.getElementById(\"4f80927f-2cfb-44ac-8a5f-0a0ff2ffce00\")) {                    Plotly.newPlot(                        \"4f80927f-2cfb-44ac-8a5f-0a0ff2ffce00\",                        [{\"hovertemplate\": \"<b>w</b>: %{x:.3f} rad/s<br><b>mag</b>: %{y:.3f} dB<br><b>phase</b>: %{text:.3f} deg<br>\", \"line\": {\"color\": \"#1f77b4\"}, \"name\": \"sys\", \"showlegend\": false, \"text\": [-1.7183580016554572, -1.9783163552038507, -2.2775296543513024, -2.621887580926553, -3.018143535903415, -3.4740308162838067, -3.998388832212787, -4.601297042217597, -5.29421204217926, -6.090099797051444, -7.0035498420577404, -8.050850757483278, -9.249995612319411, -10.62057174342165, -12.183471058633414, -13.960336218901933, -15.972638505271515, -18.2402736673239, -20.779578372104734, -23.600735428782933, -26.70467681315222, -30.079822458504943, -33.69928015277267, -37.51937456048284, -41.48039707635546, -45.510107187968295, -49.52976488178309, -53.46159760171068, -57.2360485813597, -60.79724071012826, -64.10576879216751, -67.13881646827625, -69.88826058983783, -72.35768000573735, -74.55908846918453, -76.50994310554435, -78.23070081980188, -79.74298781070414, -81.06832766910901, -82.22732294449304, -83.23917720036215, -84.1214578058743, -84.89002018067808, -85.55903460527882, -86.14107395629053, -86.647234072461, -87.08726821837962, -87.46972397205626, -87.80207553550855, -88.09084756700362], \"type\": \"scatter\", \"x\": [0.01, 0.011513953993264475, 0.013257113655901088, 0.015264179671752334, 0.017575106248547922, 0.020235896477251575, 0.023299518105153717, 0.02682695795279726, 0.030888435964774818, 0.03556480306223128, 0.040949150623804255, 0.04714866363457394, 0.054286754393238594, 0.06250551925273973, 0.07196856730011521, 0.08286427728546843, 0.09540954763499938, 0.10985411419875583, 0.12648552168552957, 0.14563484775012436, 0.16768329368110083, 0.19306977288832497, 0.22229964825261944, 0.2559547922699536, 0.29470517025518095, 0.3393221771895328, 0.3906939937054617, 0.44984326689694465, 0.517947467923121, 0.5963623316594643, 0.6866488450043002, 0.7906043210907697, 0.9102981779915218, 1.0481131341546852, 1.2067926406393288, 1.3894954943731375, 1.5998587196060574, 1.8420699693267164, 2.1209508879201904, 2.44205309454865, 2.8117686979742307, 3.2374575428176433, 3.727593720314938, 4.291934260128778, 4.941713361323833, 5.689866029018293, 6.551285568595509, 7.543120063354615, 8.68511373751352, 10.0], \"xaxis\": \"x\", \"y\": [6.016693020780522, 6.015421259919415, 6.013735846005295, 6.011502481479788, 6.008543454193552, 6.004623743567054, 5.999432786446875, 5.992560626710064, 5.983466858195973, 5.971440426058696, 5.955548016853015, 5.93456852602848, 5.9069110996055985, 5.870514775749251, 5.822729236932376, 5.76017926366328, 5.678620981983159, 5.572806755624734, 5.436387939577428, 5.2618995478188175, 5.04088407832493, 4.764214858723, 4.422660249064682, 4.007678475310756, 3.5123510393670947, 2.9322764431281625, 2.2662022553750867, 1.5162139285873062, 0.687422590848118, -0.21275350711056856, -1.1755131925960014, -2.1915845282106834, -3.251966474229129, -4.348430568027773, -5.473788710151396, -6.621975978692269, -7.788009627830882, -8.967878719961469, -10.158404622432744, -11.357098145211333, -12.562027615136849, -13.771704311668035, -14.984986883302422, -16.201003758504477, -17.419091373430824, -18.6387456751269, -19.85958443411961, -21.081318176779288, -22.303727890792544, -23.52664799651101], \"yaxis\": \"y\"}, {\"hovertemplate\": \"<b>w</b>: %{x:.3f} rad/s<br><b>mag</b>: %{y:.3f} dB<br><b>phase</b>: %{text:.3f} deg<br>\", \"line\": {\"color\": \"#ff7f0e\"}, \"name\": \"sys\", \"showlegend\": false, \"text\": [-5.7117279321026455, -6.8831224304871865, -8.289476573487088, -9.97403219817082, -11.985171623966712, -14.374961473716102, -17.195983713255657, -20.49565033715591, -24.307326454742704, -28.63834623480732, -33.4567592519061, -38.68121320524656, -44.18027227343285, -49.786032830721965, -55.32080436445196, -60.62807371433108, -65.59622599869365, -70.16813852863355, -74.33750527552456, -78.13762727380293, -81.62863620472623, -84.88677535036919, -87.99690614175556, -91.04789541523733, -94.12990431074964, -97.33243651858281, -100.74198870411374, -104.43815025802905, -108.4870904283231, -112.93181353991928, -117.7797652420016, -122.9905786251443, -128.4693361393604, -134.07160158455017, -139.6231014083961, -144.9495774741439, -149.9060264292477, -154.39491056195746, -158.36962124300314, -161.82660900440294, -164.79251212461003, -167.311467149071, -169.43519173395754, -171.21635562712578, -172.70471398075662, -173.94519641707987, -174.97723146730013, -175.83477947921784, -176.54672950300406, -177.13745188451847], \"type\": \"scatter\", \"x\": [0.01, 0.012067926406393288, 0.014563484775012436, 0.017575106248547922, 0.021209508879201904, 0.025595479226995357, 0.030888435964774818, 0.0372759372031494, 0.04498432668969444, 0.054286754393238594, 0.0655128556859551, 0.07906043210907697, 0.09540954763499938, 0.1151395399326447, 0.13894954943731375, 0.16768329368110074, 0.20235896477251566, 0.2442053094548651, 0.29470517025518095, 0.35564803062231287, 0.42919342601287763, 0.517947467923121, 0.6250551925273969, 0.7543120063354615, 0.9102981779915218, 1.0985411419875584, 1.325711365590108, 1.5998587196060574, 1.9306977288832496, 2.329951810515372, 2.811768697974228, 3.3932217718953264, 4.094915062380423, 4.941713361323833, 5.963623316594643, 7.196856730011514, 8.68511373751352, 10.481131341546853, 12.648552168552959, 15.264179671752318, 18.420699693267146, 22.229964825261934, 26.826957952797247, 32.374575428176435, 39.06939937054613, 47.1486636345739, 56.89866029018293, 68.66488450042998, 82.86427728546842, 100.0], \"xaxis\": \"x\", \"y\": [5.979106322213076, 5.960301611303994, 5.933060092854689, 5.893689839635934, 5.836983399603973, 5.755700120521215, 5.639977347020792, 5.476770549832096, 5.249534733754468, 4.938496834522915, 4.521947315149221, 3.978832114387345, 3.2923995446499448, 2.453868263364871, 1.4645983307590729, 0.33569572976803586, -0.9147577246411762, -2.2655507552989413, -3.695814049182923, -5.187311785486829, -6.725504104784247, -8.299748648054276, -9.903076646472586, -11.531873272500652, -13.185657274661915, -14.867048811785464, -16.58193653212026, -18.33978144653998, -20.15389954725, -22.04143671604743, -24.022623393024496, -26.11888958585737, -28.34971504238256, -30.728764601389432, -33.26061367762506, -35.93952476498143, -38.75088179795068, -41.67455434599448, -44.68869796581957, -47.772737318976944, -50.90905033592763, -54.08351360319887, -57.28532474947339, -60.5064887635085, -63.741223078668234, -66.98541189816527, -70.23615821227966, -73.49143854335325, -76.74984705255486, -80.0104105906923], \"yaxis\": \"y\"}, {\"hovertemplate\": \"<b>w</b>: %{x:.3f} rad/s<br><b>mag</b>: %{y:.3f} dB<br><b>phase</b>: %{text:.3f} deg<br>\", \"line\": {\"color\": \"#2ca02c\"}, \"name\": \"sys\", \"showlegend\": false, \"text\": [-0.28670587114980195, -0.3301970297015061, -0.38031748223964335, -0.43809460600384004, -0.5047238931100426, -0.5816011056983557, -0.6703629145172848, -0.7729392983591439, -0.8916226214126133, -1.0291608958039018, -1.1888869004541789, -1.3749016584770004, -1.5923422552522015, -1.8477838322760118, -2.1498611143004527, -2.5102610044317095, -2.945367092750507, -3.479104278192046, -4.14812295295636, -5.011880581365385, -6.1739409941000964, -7.832154761397647, -10.415895404117798, -15.051787218911663, -25.772227489113376, -65.06399523159752, -138.54307339201597, -160.02692121762394, -167.26783588677966, -170.82037886967066, -172.9393508795233, -174.35665883956855, -175.37735718024132, -176.15051750525836, -176.75750306462172, -177.2465307656979, -177.64808332826013, -177.98248066220305, -178.26388746044012, -178.50256356037895, -178.70618974759086, -178.88068086656008, -179.03070210958276, -179.16000718484253, -179.27166628717447, -179.36822405306359, -179.45181194378492, -179.52423028536464, -179.58700965239547, -179.64145787469803], \"type\": \"scatter\", \"x\": [0.01, 0.011513953993264475, 0.013257113655901088, 0.015264179671752334, 0.017575106248547922, 0.020235896477251575, 0.023299518105153717, 0.02682695795279726, 0.030888435964774818, 0.03556480306223128, 0.040949150623804255, 0.04714866363457394, 0.054286754393238594, 0.06250551925273973, 0.07196856730011521, 0.08286427728546843, 0.09540954763499938, 0.10985411419875583, 0.12648552168552957, 0.14563484775012436, 0.16768329368110083, 0.19306977288832497, 0.22229964825261944, 0.2559547922699536, 0.29470517025518095, 0.3393221771895328, 0.3906939937054617, 0.44984326689694465, 0.517947467923121, 0.5963623316594643, 0.6866488450043002, 0.7906043210907697, 0.9102981779915218, 1.0481131341546852, 1.2067926406393288, 1.3894954943731375, 1.5998587196060574, 1.8420699693267164, 2.1209508879201904, 2.44205309454865, 2.8117686979742307, 3.2374575428176433, 3.727593720314938, 4.291934260128778, 4.941713361323833, 5.689866029018293, 6.551285568595509, 7.543120063354615, 8.68511373751352, 10.0], \"xaxis\": \"x\", \"y\": [6.027442659772588, 6.029672547116301, 6.032629588592354, 6.036551274824859, 6.041752942202923, 6.048653502849337, 6.057809841314895, 6.069962920756836, 6.086099803203256, 6.107537463833362, 6.136036745359793, 6.173958517489499, 6.224479871449536, 6.291897398864856, 6.38205986741716, 6.5029988650102055, 6.665873138953053, 6.886431228268091, 7.187374048900518, 7.602375593432855, 8.183385206072893, 9.015018991161963, 10.24600887004475, 12.167105893366772, 15.419128439947688, 20.57898645251196, 16.62237036321273, 9.649787860180268, 4.619473205829298, 0.587847108635361, -2.9010492606029774, -6.0637589110706465, -9.016544780392131, -11.827904741938237, -14.540951249944316, -17.184134692806545, -19.77688627868662, -22.33281617631134, -24.86163677764146, -27.370375752241745, -29.864171080211463, -32.34680840135035, -34.821093219970095, -37.28911377054836, -39.75242951191109, -42.21220790409451, -44.66932457277066, -47.12443718172209, -49.57804021044503, -52.03050574086451], \"yaxis\": \"y\"}, {\"hovertemplate\": \"<b>w</b>: %{x:.3f} rad/s<br><b>mag</b>: %{text:.3f} dB<br><b>phase</b>: %{y:.3f} deg<br>\", \"line\": {\"color\": \"#1f77b4\"}, \"name\": \"sys\", \"showlegend\": false, \"text\": [6.016693020780522, 6.015421259919415, 6.013735846005295, 6.011502481479788, 6.008543454193552, 6.004623743567054, 5.999432786446875, 5.992560626710064, 5.983466858195973, 5.971440426058696, 5.955548016853015, 5.93456852602848, 5.9069110996055985, 5.870514775749251, 5.822729236932376, 5.76017926366328, 5.678620981983159, 5.572806755624734, 5.436387939577428, 5.2618995478188175, 5.04088407832493, 4.764214858723, 4.422660249064682, 4.007678475310756, 3.5123510393670947, 2.9322764431281625, 2.2662022553750867, 1.5162139285873062, 0.687422590848118, -0.21275350711056856, -1.1755131925960014, -2.1915845282106834, -3.251966474229129, -4.348430568027773, -5.473788710151396, -6.621975978692269, -7.788009627830882, -8.967878719961469, -10.158404622432744, -11.357098145211333, -12.562027615136849, -13.771704311668035, -14.984986883302422, -16.201003758504477, -17.419091373430824, -18.6387456751269, -19.85958443411961, -21.081318176779288, -22.303727890792544, -23.52664799651101], \"type\": \"scatter\", \"x\": [0.01, 0.011513953993264475, 0.013257113655901088, 0.015264179671752334, 0.017575106248547922, 0.020235896477251575, 0.023299518105153717, 0.02682695795279726, 0.030888435964774818, 0.03556480306223128, 0.040949150623804255, 0.04714866363457394, 0.054286754393238594, 0.06250551925273973, 0.07196856730011521, 0.08286427728546843, 0.09540954763499938, 0.10985411419875583, 0.12648552168552957, 0.14563484775012436, 0.16768329368110083, 0.19306977288832497, 0.22229964825261944, 0.2559547922699536, 0.29470517025518095, 0.3393221771895328, 0.3906939937054617, 0.44984326689694465, 0.517947467923121, 0.5963623316594643, 0.6866488450043002, 0.7906043210907697, 0.9102981779915218, 1.0481131341546852, 1.2067926406393288, 1.3894954943731375, 1.5998587196060574, 1.8420699693267164, 2.1209508879201904, 2.44205309454865, 2.8117686979742307, 3.2374575428176433, 3.727593720314938, 4.291934260128778, 4.941713361323833, 5.689866029018293, 6.551285568595509, 7.543120063354615, 8.68511373751352, 10.0], \"xaxis\": \"x2\", \"y\": [-1.7183580016554572, -1.9783163552038507, -2.2775296543513024, -2.621887580926553, -3.018143535903415, -3.4740308162838067, -3.998388832212787, -4.601297042217597, -5.29421204217926, -6.090099797051444, -7.0035498420577404, -8.050850757483278, -9.249995612319411, -10.62057174342165, -12.183471058633414, -13.960336218901933, -15.972638505271515, -18.2402736673239, -20.779578372104734, -23.600735428782933, -26.70467681315222, -30.079822458504943, -33.69928015277267, -37.51937456048284, -41.48039707635546, -45.510107187968295, -49.52976488178309, -53.46159760171068, -57.2360485813597, -60.79724071012826, -64.10576879216751, -67.13881646827625, -69.88826058983783, -72.35768000573735, -74.55908846918453, -76.50994310554435, -78.23070081980188, -79.74298781070414, -81.06832766910901, -82.22732294449304, -83.23917720036215, -84.1214578058743, -84.89002018067808, -85.55903460527882, -86.14107395629053, -86.647234072461, -87.08726821837962, -87.46972397205626, -87.80207553550855, -88.09084756700362], \"yaxis\": \"y2\"}, {\"hovertemplate\": \"<b>w</b>: %{x:.3f} rad/s<br><b>mag</b>: %{text:.3f} dB<br><b>phase</b>: %{y:.3f} deg<br>\", \"line\": {\"color\": \"#ff7f0e\"}, \"name\": \"sys\", \"showlegend\": false, \"text\": [5.979106322213076, 5.960301611303994, 5.933060092854689, 5.893689839635934, 5.836983399603973, 5.755700120521215, 5.639977347020792, 5.476770549832096, 5.249534733754468, 4.938496834522915, 4.521947315149221, 3.978832114387345, 3.2923995446499448, 2.453868263364871, 1.4645983307590729, 0.33569572976803586, -0.9147577246411762, -2.2655507552989413, -3.695814049182923, -5.187311785486829, -6.725504104784247, -8.299748648054276, -9.903076646472586, -11.531873272500652, -13.185657274661915, -14.867048811785464, -16.58193653212026, -18.33978144653998, -20.15389954725, -22.04143671604743, -24.022623393024496, -26.11888958585737, -28.34971504238256, -30.728764601389432, -33.26061367762506, -35.93952476498143, -38.75088179795068, -41.67455434599448, -44.68869796581957, -47.772737318976944, -50.90905033592763, -54.08351360319887, -57.28532474947339, -60.5064887635085, -63.741223078668234, -66.98541189816527, -70.23615821227966, -73.49143854335325, -76.74984705255486, -80.0104105906923], \"type\": \"scatter\", \"x\": [0.01, 0.012067926406393288, 0.014563484775012436, 0.017575106248547922, 0.021209508879201904, 0.025595479226995357, 0.030888435964774818, 0.0372759372031494, 0.04498432668969444, 0.054286754393238594, 0.0655128556859551, 0.07906043210907697, 0.09540954763499938, 0.1151395399326447, 0.13894954943731375, 0.16768329368110074, 0.20235896477251566, 0.2442053094548651, 0.29470517025518095, 0.35564803062231287, 0.42919342601287763, 0.517947467923121, 0.6250551925273969, 0.7543120063354615, 0.9102981779915218, 1.0985411419875584, 1.325711365590108, 1.5998587196060574, 1.9306977288832496, 2.329951810515372, 2.811768697974228, 3.3932217718953264, 4.094915062380423, 4.941713361323833, 5.963623316594643, 7.196856730011514, 8.68511373751352, 10.481131341546853, 12.648552168552959, 15.264179671752318, 18.420699693267146, 22.229964825261934, 26.826957952797247, 32.374575428176435, 39.06939937054613, 47.1486636345739, 56.89866029018293, 68.66488450042998, 82.86427728546842, 100.0], \"xaxis\": \"x2\", \"y\": [-5.7117279321026455, -6.8831224304871865, -8.289476573487088, -9.97403219817082, -11.985171623966712, -14.374961473716102, -17.195983713255657, -20.49565033715591, -24.307326454742704, -28.63834623480732, -33.4567592519061, -38.68121320524656, -44.18027227343285, -49.786032830721965, -55.32080436445196, -60.62807371433108, -65.59622599869365, -70.16813852863355, -74.33750527552456, -78.13762727380293, -81.62863620472623, -84.88677535036919, -87.99690614175556, -91.04789541523733, -94.12990431074964, -97.33243651858281, -100.74198870411374, -104.43815025802905, -108.4870904283231, -112.93181353991928, -117.7797652420016, -122.9905786251443, -128.4693361393604, -134.07160158455017, -139.6231014083961, -144.9495774741439, -149.9060264292477, -154.39491056195746, -158.36962124300314, -161.82660900440294, -164.79251212461003, -167.311467149071, -169.43519173395754, -171.21635562712578, -172.70471398075662, -173.94519641707987, -174.97723146730013, -175.83477947921784, -176.54672950300406, -177.13745188451847], \"yaxis\": \"y2\"}, {\"hovertemplate\": \"<b>w</b>: %{x:.3f} rad/s<br><b>mag</b>: %{text:.3f} dB<br><b>phase</b>: %{y:.3f} deg<br>\", \"line\": {\"color\": \"#2ca02c\"}, \"name\": \"sys\", \"showlegend\": false, \"text\": [6.027442659772588, 6.029672547116301, 6.032629588592354, 6.036551274824859, 6.041752942202923, 6.048653502849337, 6.057809841314895, 6.069962920756836, 6.086099803203256, 6.107537463833362, 6.136036745359793, 6.173958517489499, 6.224479871449536, 6.291897398864856, 6.38205986741716, 6.5029988650102055, 6.665873138953053, 6.886431228268091, 7.187374048900518, 7.602375593432855, 8.183385206072893, 9.015018991161963, 10.24600887004475, 12.167105893366772, 15.419128439947688, 20.57898645251196, 16.62237036321273, 9.649787860180268, 4.619473205829298, 0.587847108635361, -2.9010492606029774, -6.0637589110706465, -9.016544780392131, -11.827904741938237, -14.540951249944316, -17.184134692806545, -19.77688627868662, -22.33281617631134, -24.86163677764146, -27.370375752241745, -29.864171080211463, -32.34680840135035, -34.821093219970095, -37.28911377054836, -39.75242951191109, -42.21220790409451, -44.66932457277066, -47.12443718172209, -49.57804021044503, -52.03050574086451], \"type\": \"scatter\", \"x\": [0.01, 0.011513953993264475, 0.013257113655901088, 0.015264179671752334, 0.017575106248547922, 0.020235896477251575, 0.023299518105153717, 0.02682695795279726, 0.030888435964774818, 0.03556480306223128, 0.040949150623804255, 0.04714866363457394, 0.054286754393238594, 0.06250551925273973, 0.07196856730011521, 0.08286427728546843, 0.09540954763499938, 0.10985411419875583, 0.12648552168552957, 0.14563484775012436, 0.16768329368110083, 0.19306977288832497, 0.22229964825261944, 0.2559547922699536, 0.29470517025518095, 0.3393221771895328, 0.3906939937054617, 0.44984326689694465, 0.517947467923121, 0.5963623316594643, 0.6866488450043002, 0.7906043210907697, 0.9102981779915218, 1.0481131341546852, 1.2067926406393288, 1.3894954943731375, 1.5998587196060574, 1.8420699693267164, 2.1209508879201904, 2.44205309454865, 2.8117686979742307, 3.2374575428176433, 3.727593720314938, 4.291934260128778, 4.941713361323833, 5.689866029018293, 6.551285568595509, 7.543120063354615, 8.68511373751352, 10.0], \"xaxis\": \"x2\", \"y\": [-0.28670587114980195, -0.3301970297015061, -0.38031748223964335, -0.43809460600384004, -0.5047238931100426, -0.5816011056983557, -0.6703629145172848, -0.7729392983591439, -0.8916226214126133, -1.0291608958039018, -1.1888869004541789, -1.3749016584770004, -1.5923422552522015, -1.8477838322760118, -2.1498611143004527, -2.5102610044317095, -2.945367092750507, -3.479104278192046, -4.14812295295636, -5.011880581365385, -6.1739409941000964, -7.832154761397647, -10.415895404117798, -15.051787218911663, -25.772227489113376, -65.06399523159752, -138.54307339201597, -160.02692121762394, -167.26783588677966, -170.82037886967066, -172.9393508795233, -174.35665883956855, -175.37735718024132, -176.15051750525836, -176.75750306462172, -177.2465307656979, -177.64808332826013, -177.98248066220305, -178.26388746044012, -178.50256356037895, -178.70618974759086, -178.88068086656008, -179.03070210958276, -179.16000718484253, -179.27166628717447, -179.36822405306359, -179.45181194378492, -179.52423028536464, -179.58700965239547, -179.64145787469803], \"yaxis\": \"y2\"}],                        {\"template\": {\"data\": {\"bar\": [{\"error_x\": {\"color\": \"#2a3f5f\"}, \"error_y\": {\"color\": \"#2a3f5f\"}, \"marker\": {\"line\": {\"color\": \"#E5ECF6\", \"width\": 0.5}}, \"type\": \"bar\"}], \"barpolar\": [{\"marker\": {\"line\": {\"color\": \"#E5ECF6\", \"width\": 0.5}}, \"type\": \"barpolar\"}], \"carpet\": [{\"aaxis\": {\"endlinecolor\": \"#2a3f5f\", \"gridcolor\": \"white\", \"linecolor\": \"white\", \"minorgridcolor\": \"white\", \"startlinecolor\": \"#2a3f5f\"}, \"baxis\": {\"endlinecolor\": \"#2a3f5f\", \"gridcolor\": \"white\", \"linecolor\": \"white\", \"minorgridcolor\": \"white\", \"startlinecolor\": \"#2a3f5f\"}, \"type\": \"carpet\"}], \"choropleth\": [{\"colorbar\": {\"outlinewidth\": 0, \"ticks\": \"\"}, \"type\": \"choropleth\"}], \"contour\": [{\"colorbar\": {\"outlinewidth\": 0, \"ticks\": \"\"}, \"colorscale\": [[0.0, \"#0d0887\"], [0.1111111111111111, \"#46039f\"], [0.2222222222222222, \"#7201a8\"], [0.3333333333333333, \"#9c179e\"], [0.4444444444444444, \"#bd3786\"], [0.5555555555555556, \"#d8576b\"], [0.6666666666666666, \"#ed7953\"], [0.7777777777777778, \"#fb9f3a\"], [0.8888888888888888, \"#fdca26\"], [1.0, \"#f0f921\"]], \"type\": \"contour\"}], \"contourcarpet\": [{\"colorbar\": {\"outlinewidth\": 0, \"ticks\": \"\"}, \"type\": \"contourcarpet\"}], \"heatmap\": [{\"colorbar\": {\"outlinewidth\": 0, \"ticks\": \"\"}, \"colorscale\": [[0.0, \"#0d0887\"], [0.1111111111111111, \"#46039f\"], [0.2222222222222222, \"#7201a8\"], [0.3333333333333333, \"#9c179e\"], [0.4444444444444444, \"#bd3786\"], [0.5555555555555556, \"#d8576b\"], [0.6666666666666666, \"#ed7953\"], [0.7777777777777778, \"#fb9f3a\"], [0.8888888888888888, \"#fdca26\"], [1.0, \"#f0f921\"]], \"type\": \"heatmap\"}], \"heatmapgl\": [{\"colorbar\": {\"outlinewidth\": 0, \"ticks\": \"\"}, \"colorscale\": [[0.0, \"#0d0887\"], [0.1111111111111111, \"#46039f\"], [0.2222222222222222, \"#7201a8\"], [0.3333333333333333, \"#9c179e\"], [0.4444444444444444, \"#bd3786\"], [0.5555555555555556, \"#d8576b\"], [0.6666666666666666, \"#ed7953\"], [0.7777777777777778, \"#fb9f3a\"], [0.8888888888888888, \"#fdca26\"], [1.0, \"#f0f921\"]], \"type\": \"heatmapgl\"}], \"histogram\": [{\"marker\": {\"colorbar\": {\"outlinewidth\": 0, \"ticks\": \"\"}}, \"type\": \"histogram\"}], \"histogram2d\": [{\"colorbar\": {\"outlinewidth\": 0, \"ticks\": \"\"}, \"colorscale\": [[0.0, \"#0d0887\"], [0.1111111111111111, \"#46039f\"], [0.2222222222222222, \"#7201a8\"], [0.3333333333333333, \"#9c179e\"], [0.4444444444444444, \"#bd3786\"], [0.5555555555555556, \"#d8576b\"], [0.6666666666666666, \"#ed7953\"], [0.7777777777777778, \"#fb9f3a\"], [0.8888888888888888, \"#fdca26\"], [1.0, \"#f0f921\"]], \"type\": \"histogram2d\"}], \"histogram2dcontour\": [{\"colorbar\": {\"outlinewidth\": 0, \"ticks\": \"\"}, \"colorscale\": [[0.0, \"#0d0887\"], [0.1111111111111111, \"#46039f\"], [0.2222222222222222, \"#7201a8\"], [0.3333333333333333, \"#9c179e\"], [0.4444444444444444, \"#bd3786\"], [0.5555555555555556, \"#d8576b\"], [0.6666666666666666, \"#ed7953\"], [0.7777777777777778, \"#fb9f3a\"], [0.8888888888888888, \"#fdca26\"], [1.0, \"#f0f921\"]], \"type\": \"histogram2dcontour\"}], \"mesh3d\": [{\"colorbar\": {\"outlinewidth\": 0, \"ticks\": \"\"}, \"type\": \"mesh3d\"}], \"parcoords\": [{\"line\": {\"colorbar\": {\"outlinewidth\": 0, \"ticks\": \"\"}}, \"type\": \"parcoords\"}], \"pie\": [{\"automargin\": true, \"type\": \"pie\"}], \"scatter\": [{\"marker\": {\"colorbar\": {\"outlinewidth\": 0, \"ticks\": \"\"}}, \"type\": \"scatter\"}], \"scatter3d\": [{\"line\": {\"colorbar\": {\"outlinewidth\": 0, \"ticks\": \"\"}}, \"marker\": {\"colorbar\": {\"outlinewidth\": 0, \"ticks\": \"\"}}, \"type\": \"scatter3d\"}], \"scattercarpet\": [{\"marker\": {\"colorbar\": {\"outlinewidth\": 0, \"ticks\": \"\"}}, \"type\": \"scattercarpet\"}], \"scattergeo\": [{\"marker\": {\"colorbar\": {\"outlinewidth\": 0, \"ticks\": \"\"}}, \"type\": \"scattergeo\"}], \"scattergl\": [{\"marker\": {\"colorbar\": {\"outlinewidth\": 0, \"ticks\": \"\"}}, \"type\": \"scattergl\"}], \"scattermapbox\": [{\"marker\": {\"colorbar\": {\"outlinewidth\": 0, \"ticks\": \"\"}}, \"type\": \"scattermapbox\"}], \"scatterpolar\": [{\"marker\": {\"colorbar\": {\"outlinewidth\": 0, \"ticks\": \"\"}}, \"type\": \"scatterpolar\"}], \"scatterpolargl\": [{\"marker\": {\"colorbar\": {\"outlinewidth\": 0, \"ticks\": \"\"}}, \"type\": \"scatterpolargl\"}], \"scatterternary\": [{\"marker\": {\"colorbar\": {\"outlinewidth\": 0, \"ticks\": \"\"}}, \"type\": \"scatterternary\"}], \"surface\": [{\"colorbar\": {\"outlinewidth\": 0, \"ticks\": \"\"}, \"colorscale\": [[0.0, \"#0d0887\"], [0.1111111111111111, \"#46039f\"], [0.2222222222222222, \"#7201a8\"], [0.3333333333333333, \"#9c179e\"], [0.4444444444444444, \"#bd3786\"], [0.5555555555555556, \"#d8576b\"], [0.6666666666666666, \"#ed7953\"], [0.7777777777777778, \"#fb9f3a\"], [0.8888888888888888, \"#fdca26\"], [1.0, \"#f0f921\"]], \"type\": \"surface\"}], \"table\": [{\"cells\": {\"fill\": {\"color\": \"#EBF0F8\"}, \"line\": {\"color\": \"white\"}}, \"header\": {\"fill\": {\"color\": \"#C8D4E3\"}, \"line\": {\"color\": \"white\"}}, \"type\": \"table\"}]}, \"layout\": {\"annotationdefaults\": {\"arrowcolor\": \"#2a3f5f\", \"arrowhead\": 0, \"arrowwidth\": 1}, \"coloraxis\": {\"colorbar\": {\"outlinewidth\": 0, \"ticks\": \"\"}}, \"colorscale\": {\"diverging\": [[0, \"#8e0152\"], [0.1, \"#c51b7d\"], [0.2, \"#de77ae\"], [0.3, \"#f1b6da\"], [0.4, \"#fde0ef\"], [0.5, \"#f7f7f7\"], [0.6, \"#e6f5d0\"], [0.7, \"#b8e186\"], [0.8, \"#7fbc41\"], [0.9, \"#4d9221\"], [1, \"#276419\"]], \"sequential\": [[0.0, \"#0d0887\"], [0.1111111111111111, \"#46039f\"], [0.2222222222222222, \"#7201a8\"], [0.3333333333333333, \"#9c179e\"], [0.4444444444444444, \"#bd3786\"], [0.5555555555555556, \"#d8576b\"], [0.6666666666666666, \"#ed7953\"], [0.7777777777777778, \"#fb9f3a\"], [0.8888888888888888, \"#fdca26\"], [1.0, \"#f0f921\"]], \"sequentialminus\": [[0.0, \"#0d0887\"], [0.1111111111111111, \"#46039f\"], [0.2222222222222222, \"#7201a8\"], [0.3333333333333333, \"#9c179e\"], [0.4444444444444444, \"#bd3786\"], [0.5555555555555556, \"#d8576b\"], [0.6666666666666666, \"#ed7953\"], [0.7777777777777778, \"#fb9f3a\"], [0.8888888888888888, \"#fdca26\"], [1.0, \"#f0f921\"]]}, \"colorway\": [\"#636efa\", \"#EF553B\", \"#00cc96\", \"#ab63fa\", \"#FFA15A\", \"#19d3f3\", \"#FF6692\", \"#B6E880\", \"#FF97FF\", \"#FECB52\"], \"font\": {\"color\": \"#2a3f5f\"}, \"geo\": {\"bgcolor\": \"white\", \"lakecolor\": \"white\", \"landcolor\": \"#E5ECF6\", \"showlakes\": true, \"showland\": true, \"subunitcolor\": \"white\"}, \"hoverlabel\": {\"align\": \"left\"}, \"hovermode\": \"closest\", \"mapbox\": {\"style\": \"light\"}, \"paper_bgcolor\": \"white\", \"plot_bgcolor\": \"#E5ECF6\", \"polar\": {\"angularaxis\": {\"gridcolor\": \"white\", \"linecolor\": \"white\", \"ticks\": \"\"}, \"bgcolor\": \"#E5ECF6\", \"radialaxis\": {\"gridcolor\": \"white\", \"linecolor\": \"white\", \"ticks\": \"\"}}, \"scene\": {\"xaxis\": {\"backgroundcolor\": \"#E5ECF6\", \"gridcolor\": \"white\", \"gridwidth\": 2, \"linecolor\": \"white\", \"showbackground\": true, \"ticks\": \"\", \"zerolinecolor\": \"white\"}, \"yaxis\": {\"backgroundcolor\": \"#E5ECF6\", \"gridcolor\": \"white\", \"gridwidth\": 2, \"linecolor\": \"white\", \"showbackground\": true, \"ticks\": \"\", \"zerolinecolor\": \"white\"}, \"zaxis\": {\"backgroundcolor\": \"#E5ECF6\", \"gridcolor\": \"white\", \"gridwidth\": 2, \"linecolor\": \"white\", \"showbackground\": true, \"ticks\": \"\", \"zerolinecolor\": \"white\"}}, \"shapedefaults\": {\"line\": {\"color\": \"#2a3f5f\"}}, \"ternary\": {\"aaxis\": {\"gridcolor\": \"white\", \"linecolor\": \"white\", \"ticks\": \"\"}, \"baxis\": {\"gridcolor\": \"white\", \"linecolor\": \"white\", \"ticks\": \"\"}, \"bgcolor\": \"#E5ECF6\", \"caxis\": {\"gridcolor\": \"white\", \"linecolor\": \"white\", \"ticks\": \"\"}}, \"title\": {\"x\": 0.05}, \"xaxis\": {\"automargin\": true, \"gridcolor\": \"white\", \"linecolor\": \"white\", \"ticks\": \"\", \"title\": {\"standoff\": 15}, \"zerolinecolor\": \"white\", \"zerolinewidth\": 2}, \"yaxis\": {\"automargin\": true, \"gridcolor\": \"white\", \"linecolor\": \"white\", \"ticks\": \"\", \"title\": {\"standoff\": 15}, \"zerolinecolor\": \"white\", \"zerolinewidth\": 2}}}, \"xaxis\": {\"anchor\": \"y\", \"domain\": [0.0, 1.0], \"matches\": \"x2\", \"showticklabels\": false, \"title\": {\"text\": \"w (rad/s)\"}, \"type\": \"log\"}, \"xaxis2\": {\"anchor\": \"y2\", \"domain\": [0.0, 1.0], \"title\": {\"text\": \"w (rad/s)\"}, \"type\": \"log\"}, \"yaxis\": {\"anchor\": \"x\", \"domain\": [0.575, 1.0], \"title\": {\"text\": \"Magnitude\"}}, \"yaxis2\": {\"anchor\": \"x2\", \"domain\": [0.0, 0.425], \"title\": {\"text\": \"Phase\"}}},                        {\"responsive\": true}                    ).then(function(){\n",
       "                            \n",
       "var gd = document.getElementById('4f80927f-2cfb-44ac-8a5f-0a0ff2ffce00');\n",
       "var x = new MutationObserver(function (mutations, observer) {{\n",
       "        var display = window.getComputedStyle(gd).display;\n",
       "        if (!display || display === 'none') {{\n",
       "            console.log([gd, 'removed!']);\n",
       "            Plotly.purge(gd);\n",
       "            observer.disconnect();\n",
       "        }}\n",
       "}});\n",
       "\n",
       "// Listen for the removal of the full notebook cells\n",
       "var notebookContainer = gd.closest('#notebook-container');\n",
       "if (notebookContainer) {{\n",
       "    x.observe(notebookContainer, {childList: true});\n",
       "}}\n",
       "\n",
       "// Listen for the clearing of the current output cell\n",
       "var outputEl = gd.closest('.output');\n",
       "if (outputEl) {{\n",
       "    x.observe(outputEl, {childList: true});\n",
       "}}\n",
       "\n",
       "                        })                };                });            </script>        </div>"
      ]
     },
     "metadata": {},
     "output_type": "display_data"
    }
   ],
   "source": [
    "#mag,phase,w = bode_plot(F1,dB=True)\n",
    "fig = figure(\"bode\")\n",
    "fig.plot(F1)\n",
    "fig.plot(F2)\n",
    "fig.plot(F3)\n",
    "fig.show()"
   ]
  },
  {
   "cell_type": "markdown",
   "metadata": {},
   "source": [
    "**Question :** Complétez le tableau suivant à l'aide de Python (voir annexe polycopié de cours pour la définition de certains paramètres)."
   ]
  },
  {
   "cell_type": "markdown",
   "metadata": {},
   "source": [
    "<table>\n",
    "    <tr>\n",
    "        <th>Fonction de Transfert</th>\n",
    "        <th style=\"width: 25%\">$F_1(p)$</th>\n",
    "        <th style=\"width: 25%\">$F_2(p)$</th>\n",
    "        <th style=\"width: 25%\">$F_3(p)$</th>\n",
    "    </tr>\n",
    "    <tr>\n",
    "        <td>Gain Statique (dB)</td>\n",
    "        <td></td>\n",
    "        <td></td>\n",
    "        <td></td>\n",
    "    </tr> \n",
    "    <tr>\n",
    "        <td>Phase à l'origine (deg)</td>\n",
    "        <td></td>\n",
    "        <td></td>\n",
    "        <td></td>\n",
    "    </tr> \n",
    "    <tr>\n",
    "        <td>Gain pour $\\omega \\to \\infty$ (dB)</td>\n",
    "        <td></td>\n",
    "        <td></td>\n",
    "        <td></td>\n",
    "    </tr> \n",
    "    <tr>\n",
    "        <td>Phase pour $\\omega \\to \\infty$ (deg)</td>\n",
    "        <td></td>\n",
    "        <td></td>\n",
    "        <td></td>\n",
    "    </tr>\n",
    "    <tr>\n",
    "        <td>Pulsation de résonance (rad/s)</td>\n",
    "        <td></td>\n",
    "        <td></td>\n",
    "        <td></td>\n",
    "    </tr>\n",
    "    <tr>\n",
    "        <td>Coefficient de résonance (dB)</td>\n",
    "        <td></td>\n",
    "        <td></td>\n",
    "        <td></td>\n",
    "    </tr>\n",
    "    <tr>\n",
    "        <td>Coefficient de qualité (dB)</td>\n",
    "        <td></td>\n",
    "        <td></td>\n",
    "        <td></td>\n",
    "    </tr>\n",
    "</table>"
   ]
  },
  {
   "cell_type": "markdown",
   "metadata": {},
   "source": [
    "##### Diagramme de Black NIchols\n",
    "\n",
    "**Question :** Visualisez les diagrammes de Black des 3 fonctions de transfert. Retrouvez visuellement les caractéristiques du tableau précédent."
   ]
  },
  {
   "cell_type": "code",
   "execution_count": 10,
   "metadata": {},
   "outputs": [
    {
     "data": {
      "application/vnd.plotly.v1+json": {
       "config": {
        "plotlyServerURL": "https://plot.ly"
       },
       "data": [
        {
         "hoverinfo": "none",
         "marker": {
          "line": {
           "color": "#FF0000",
           "width": 1
          },
          "size": 3
         },
         "mode": "markers",
         "showlegend": false,
         "type": "scatter",
         "x": [
          -180
         ],
         "y": [
          0
         ]
        },
        {
         "hovertemplate": "<b>w</b>: %{text:.3f} rad/s<br><b>mag</b>: %{y:.3f} dB<br><b>phase</b>: %{x:.3f} deg<br>",
         "line": {
          "color": "#1f77b4"
         },
         "name": "sys",
         "showlegend": false,
         "text": [
          0.31622776601683794,
          0.3351602650938842,
          0.35522624946166637,
          0.3764935806792468,
          0.39903418316493794,
          0.4229242874389499,
          0.44824468792893096,
          0.4750810162102797,
          0.503524030605304,
          0.533669923120631,
          0.5656206447609019,
          0.599484250318941,
          0.6353752638084484,
          0.6734150657750821,
          0.7137323037957845,
          0.7564633275546289,
          0.8017526499665792,
          0.8497534359086443,
          0.9006280202112785,
          0.954548456661834,
          1.0116970998767498,
          1.072267222010323,
          1.1364636663857248,
          1.204503540258782,
          1.276616949057408,
          1.3530477745798069,
          1.4340544997832723,
          1.5199110829529336,
          1.6109078842068332,
          1.7073526474706904,
          1.809571541243321,
          1.9179102616724883,
          2.0327352016717124,
          2.154434690031884,
          2.2834203047182715,
          2.420128264794382,
          2.5650209056800453,
          2.718588242732941,
          2.881349628441461,
          3.0538555088334154,
          3.2366892850406033,
          3.4304692863149175,
          3.6358508611685774,
          3.8535285937105295,
          4.084238652674522,
          4.328761281083057,
          4.587923434967087,
          4.862601580065354,
          5.153724655961635,
          5.462277217684343,
          5.789302765393119,
          6.1359072734131725,
          6.503262930552246,
          6.892612104349698,
          7.305271542664452,
          7.742636826811269,
          8.20618709130545,
          8.697490026177835,
          9.218207178777465,
          9.770099572992251,
          10.355033664891309,
          10.974987654930562,
          11.632058178068945,
          12.32846739442066,
          13.066570504423456,
          13.848863713938732,
          14.677992676220699,
          15.556761439304715,
          16.488141929074178,
          17.47528400007684,
          18.521526088081725,
          19.630406500402703,
          20.805675382171703,
          22.051307399030456,
          23.371515179132786,
          24.7707635599171,
          26.25378468783062,
          27.825594022071243,
          29.491507296470683,
          31.25715849688235,
          33.12851891487237,
          35.11191734215131,
          37.21406147404327,
          39.442060594376564,
          41.803449618514534,
          44.30621457583882,
          46.95881961786354,
          49.77023564332109,
          52.749970637026195,
          55.90810182512222,
          59.25530975545674,
          62.80291441834253,
          66.56291352986194,
          70.54802310718645,
          74.77172047313223,
          79.24828983539169,
          83.99287059458466,
          89.02150854450383,
          94.35121013771044,
          100
         ],
         "type": "scatter",
         "x": [
          -43.491519345092,
          -45.156583726434704,
          -46.82111945854561,
          -48.47952321569352,
          -50.12629427367053,
          -51.75612407190325,
          -53.3639781435835,
          -54.94516748787743,
          -56.49540719468254,
          -58.0108609707281,
          -59.48817107175592,
          -60.924473942254345,
          -62.3174025414114,
          -63.6650768528803,
          -64.96608442049741,
          -66.21945292630004,
          -67.4246168505183,
          -68.58138015483566,
          -69.6898767434655,
          -70.75053021440212,
          -71.76401414482159,
          -72.73121388374719,
          -73.65319056925954,
          -74.53114785825352,
          -75.36640166035481,
          -76.16035300631589,
          -76.91446405420838,
          -77.63023714122168,
          -78.30919672093839,
          -78.9528739811866,
          -79.56279391155907,
          -80.14046457832934,
          -80.68736836415155,
          -81.20495493750514,
          -81.69463572980584,
          -82.15777971442873,
          -82.59571030002438,
          -83.00970316929404,
          -83.40098491299189,
          -83.77073232676746,
          -84.12007225518089,
          -84.450081882607,
          -84.76178938468844,
          -85.05617486648923,
          -85.33417152457714,
          -85.59666698000234,
          -85.84450473763837,
          -86.0784857347217,
          -86.2993699477778,
          -86.5078780325703,
          -86.70469297635624,
          -86.89046174568173,
          -87.06579691628944,
          -87.23127827452345,
          -87.38745438197449,
          -87.5348440970776,
          -87.67393804901117,
          -87.8052000605982,
          -87.92906851802506,
          -88.0459576861017,
          -88.15625896852701,
          -88.26034211321702,
          -88.35855636322883,
          -88.45123155418614,
          -88.53867915940265,
          -88.62119328411961,
          -88.69905161043711,
          -88.7725162946337,
          -88.84183481864699,
          -88.90724079753176,
          -88.96895474473354,
          -89.027184797014,
          -89.08212740084785,
          -89.13396796208166,
          -89.18288146060485,
          -89.2290330317362,
          -89.27257851597683,
          -89.31366497872324,
          -89.3524312014755,
          -89.38900814601449,
          -89.42351939296043,
          -89.45608155606389,
          -89.48680467351896,
          -89.51579257752896,
          -89.54314324329597,
          -89.5689491185482,
          -89.59329743466505,
          -89.61627050040467,
          -89.63794597918896,
          -89.65839715085065,
          -89.67769315870022,
          -89.69589924272488,
          -89.71307695968912,
          -89.72928439086454,
          -89.74457633807796,
          -89.7590045087292,
          -89.77261769039461,
          -89.78546191559863,
          -89.79758061730399,
          -89.80901477564038
         ],
         "y": [
          3.233063903751334,
          2.9864972838475374,
          2.7252560125494756,
          2.4493987752116517,
          2.1590815166669204,
          1.8545533121183362,
          1.5361499093754751,
          1.204285291183048,
          0.8594416940962617,
          0.5021585706967283,
          0.13302099383155647,
          -0.247352021764094,
          -0.6383188570668835,
          -1.0392259342579406,
          -1.4494174018200385,
          -1.868243676479424,
          -2.295068740244735,
          -2.7292761622274524,
          -3.170273873739262,
          -3.6174977701375304,
          -4.070414244280675,
          -4.528521775542059,
          -4.9913517070087075,
          -5.45846834391257,
          -5.929468500648971,
          -6.403980613880098,
          -6.881663526860759,
          -7.362205036587895,
          -7.84532028166868,
          -8.330750035634031,
          -8.818258958257761,
          -9.307633846540888,
          -9.798681917500966,
          -10.291229146774988,
          -10.78511868023757,
          -11.280209330244134,
          -11.77637416360042,
          -12.2734991847934,
          -12.77148211525639,
          -13.270231267352536,
          -13.76966451022724,
          -14.269708323597643,
          -14.770296934825335,
          -15.271371534180378,
          -15.772879562986882,
          -16.274774069289315,
          -16.777013125752006,
          -17.279559304667004,
          -17.782379205170475,
          -18.285443028033253,
          -18.78872419368063,
          -19.292198999397343,
          -19.795846311976188,
          -20.299647292366274,
          -20.803585149164295,
          -21.307644918066394,
          -21.811813264656625,
          -22.31607830815002,
          -22.82042946393299,
          -23.324857302951205,
          -23.82935342618582,
          -24.333910352633538,
          -24.83852141936509,
          -25.343180692381434,
          -25.84788288711829,
          -26.352623297568346,
          -26.857397733097788,
          -27.362202462130295,
          -27.867034161959037,
          -28.37188987402506,
          -28.87676696407107,
          -29.38166308664239,
          -29.886576153463544,
          -30.39150430526948,
          -30.896445886715675,
          -31.401399424031954,
          -31.906363605121044,
          -32.41133726183521,
          -32.9163193541933,
          -33.42130895632626,
          -33.926305243962254,
          -34.43130748328298,
          -34.93631502100142,
          -35.44132727552709,
          -35.946343729099894,
          -36.451363920786655,
          -36.956387440245436,
          -37.461413922174025,
          -37.96644304136721,
          -38.47147450831629,
          -38.9765080652915,
          -39.481543482854065,
          -39.9865805567511,
          -40.49161910515124,
          -40.9966589661835,
          -41.50169999574645,
          -42.00674206555761,
          -42.511785061417,
          -43.01682888166138,
          -43.52187343578798
         ]
        },
        {
         "hovertemplate": "<b>w</b>: %{text:.3f} rad/s<br><b>mag</b>: %{y:.3f} dB<br><b>phase</b>: %{x:.3f} deg<br>",
         "line": {
          "color": "#ff7f0e"
         },
         "name": "sys",
         "showlegend": false,
         "text": [
          0.01,
          0.011513953993264475,
          0.013257113655901088,
          0.015264179671752334,
          0.017575106248547922,
          0.020235896477251575,
          0.023299518105153717,
          0.02682695795279726,
          0.030888435964774818,
          0.03556480306223128,
          0.040949150623804255,
          0.04714866363457394,
          0.054286754393238594,
          0.06250551925273973,
          0.07196856730011521,
          0.08286427728546843,
          0.09540954763499938,
          0.10985411419875583,
          0.12648552168552957,
          0.14563484775012436,
          0.16768329368110083,
          0.19306977288832497,
          0.22229964825261944,
          0.2559547922699536,
          0.29470517025518095,
          0.3393221771895328,
          0.3906939937054617,
          0.44984326689694465,
          0.517947467923121,
          0.5963623316594643,
          0.6866488450043002,
          0.7906043210907697,
          0.9102981779915218,
          1.0481131341546852,
          1.2067926406393288,
          1.3894954943731375,
          1.5998587196060574,
          1.8420699693267164,
          2.1209508879201904,
          2.44205309454865,
          2.8117686979742307,
          3.2374575428176433,
          3.727593720314938,
          4.291934260128778,
          4.941713361323833,
          5.689866029018293,
          6.551285568595509,
          7.543120063354615,
          8.68511373751352,
          10
         ],
         "type": "scatter",
         "x": [
          -1.7183580016554576,
          -1.9783163552038507,
          -2.2775296543513024,
          -2.621887580926553,
          -3.018143535903415,
          -3.4740308162838067,
          -3.998388832212787,
          -4.601297042217597,
          -5.29421204217926,
          -6.090099797051444,
          -7.0035498420577404,
          -8.050850757483278,
          -9.249995612319411,
          -10.62057174342165,
          -12.183471058633414,
          -13.960336218901933,
          -15.972638505271515,
          -18.2402736673239,
          -20.779578372104734,
          -23.600735428782933,
          -26.70467681315222,
          -30.079822458504943,
          -33.69928015277267,
          -37.51937456048284,
          -41.48039707635546,
          -45.510107187968295,
          -49.52976488178309,
          -53.46159760171068,
          -57.2360485813597,
          -60.79724071012826,
          -64.10576879216751,
          -67.13881646827625,
          -69.88826058983786,
          -72.35768000573735,
          -74.55908846918453,
          -76.50994310554435,
          -78.23070081980188,
          -79.74298781070414,
          -81.06832766910901,
          -82.22732294449304,
          -83.23917720036215,
          -84.1214578058743,
          -84.89002018067808,
          -85.55903460527882,
          -86.14107395629053,
          -86.647234072461,
          -87.08726821837962,
          -87.46972397205626,
          -87.80207553550855,
          -88.09084756700362
         ],
         "y": [
          19.9960931075009,
          19.99482134663979,
          19.99313593272567,
          19.990902568200163,
          19.98794354091393,
          19.98402383028743,
          19.978832873167253,
          19.97196071343044,
          19.962866944916346,
          19.95084051277907,
          19.93494810357339,
          19.913968612748857,
          19.886311186325972,
          19.849914862469625,
          19.80212932365275,
          19.739579350383657,
          19.658021068703537,
          19.55220684234511,
          19.415788026297804,
          19.241299634539196,
          19.020284165045304,
          18.743614945443376,
          18.40206033578506,
          17.98707856203113,
          17.49175112608747,
          16.91167652984854,
          16.245602342095463,
          15.495614015307682,
          14.666822677568494,
          13.766646579609807,
          12.803886894124375,
          11.787815558509694,
          10.727433612491247,
          9.630969518692602,
          8.50561137656898,
          7.357424108028109,
          6.1913904588894955,
          5.011521366758906,
          3.820995464287631,
          2.622301941509044,
          1.417372471583527,
          0.20769577505234033,
          -1.0055867965820457,
          -2.221603671784101,
          -3.439691286710447,
          -4.659345588406524,
          -5.8801843473992355,
          -7.101918090058913,
          -8.324327804072167,
          -9.54724790979063
         ]
        },
        {
         "hoverinfo": "name",
         "line": {
          "color": "#555",
          "dash": "dot",
          "width": 1
         },
         "name": "6.00 dB",
         "showlegend": false,
         "type": "scatter",
         "x": [
          -181.0044525859156,
          -182.00706208752763,
          -183.0059994899574,
          -183.99946365000403,
          -184.98569457347367,
          -187.408591693385,
          -189.75111962661822,
          -194.11400997325404,
          -197.95308877480693,
          -201.2110046386224,
          -203.882655271241,
          -208.76368925804854,
          -210.07854669531383,
          -209.08573699075276,
          -206.61944411079287,
          -203.19624885388873,
          -199.14024541544325,
          -194.6633656344593,
          -189.91215173606156,
          -181.66883360739166,
          -180,
          -178.33116639260837,
          -170.08784826393844,
          -165.33663436554068,
          -160.85975458455675,
          -156.8037511461113,
          -153.38055588920716,
          -150.91426300924724,
          -149.92145330468617,
          -151.23631074195146,
          -156.11734472875898,
          -158.78899536137763,
          -162.04691122519313,
          -165.88599002674593,
          -170.24888037338178,
          -172.59140830661497,
          -175.0143054265264,
          -176.00053634999594,
          -176.99400051004255,
          -177.99293791247237,
          -178.9955474140844
         ],
         "y": [
          6.038584887637681,
          6.030603754626434,
          6.017337064173958,
          5.998837145331412,
          5.975176335900421,
          5.894089570862205,
          5.783261698845564,
          5.4826074459056695,
          5.096695738427625,
          4.650493262050236,
          4.166800369039922,
          2.6567802911877996,
          1.2493792041125524,
          0.03595583500082545,
          -0.9732279370869548,
          -1.7915587587987878,
          -2.436272660456205,
          -2.922504047148822,
          -3.2618637150774954,
          -3.5213402361322443,
          -3.528697248729707,
          -3.5213402361322443,
          -3.261863715077498,
          -2.9225040471488253,
          -2.4362726604562077,
          -1.7915587587987878,
          -0.9732279370869548,
          0.03595583500082353,
          1.2493792041125524,
          2.6567802911877987,
          4.166800369039918,
          4.650493262050238,
          5.096695738427627,
          5.482607445905669,
          5.783261698845564,
          5.894089570862203,
          5.975176335900418,
          5.998837145331412,
          6.017337064173956,
          6.030603754626437,
          6.038584887637679
         ]
        },
        {
         "hoverinfo": "name",
         "line": {
          "color": "#555",
          "dash": "dot",
          "width": 1
         },
         "name": "0.00 dB",
         "showlegend": false,
         "type": "scatter",
         "x": [
          -269.4999999999999,
          -268.99999999999994,
          -268.50000000000006,
          -268.00000000000006,
          -267.5,
          -266.25,
          -265,
          -262.5,
          -260,
          -257.5,
          -255,
          -247.5,
          -240,
          -232.5,
          -225,
          -217.5,
          -210,
          -202.5,
          -195,
          -182.5,
          -180,
          -177.5,
          -165,
          -157.5,
          -150,
          -142.5,
          -135,
          -127.5,
          -120,
          -112.5,
          -105,
          -102.5,
          -100,
          -97.5,
          -95,
          -93.75,
          -92.5,
          -92,
          -91.5,
          -91.00000000000006,
          -90.50000000000011
         ],
         "y": [
          35.16256289318372,
          29.14229371826325,
          25.62101977894313,
          23.123016808799058,
          21.185808854403394,
          17.667429531589104,
          15.173479920117972,
          11.665446712198822,
          9.185995486488366,
          7.272665074459145,
          5.719475475333597,
          2.322606875058725,
          0,
          -1.7095424698920367,
          -3.0102999566398116,
          -4.009933005441557,
          -4.771212547196625,
          -5.332906831698536,
          -5.719475475333596,
          -6.0123289342854225,
          -6.020599913279624,
          -6.0123289342854225,
          -5.719475475333596,
          -5.332906831698536,
          -4.771212547196625,
          -4.009933005441557,
          -3.0102999566398125,
          -1.709542469892039,
          0,
          2.3226068750587205,
          5.719475475333587,
          7.27266507445915,
          9.18599548648837,
          11.665446712198822,
          15.17347992011797,
          17.667429531589097,
          21.185808854403376,
          23.12301680879902,
          25.621019778943044,
          29.142293718263286,
          35.1625628931837
         ]
        },
        {
         "hoverinfo": "name",
         "line": {
          "color": "#555",
          "dash": "dot",
          "width": 1
         },
         "name": "-5.00 dB",
         "showlegend": false,
         "type": "scatter",
         "x": [
          -357.7156461901543,
          -355.4344760458533,
          -353.1596383215088,
          -350.89421290039166,
          -348.6411786888659,
          -343.08110719284156,
          -337.655658142777,
          -327.32791659155833,
          -317.81176103888635,
          -309.14193573202044,
          -301.2731626748182,
          -281.57023940198087,
          -265.8826332806969,
          -252.5557488275415,
          -240.64915314981818,
          -229.631213606674,
          -219.18707307644064,
          -209.11864001577317,
          -199.29260642451015,
          -183.2007348379094,
          -180,
          -176.79926516209062,
          -160.70739357548985,
          -150.8813599842268,
          -140.8129269235594,
          -130.36878639332593,
          -119.3508468501818,
          -107.44425117245856,
          -94.1173667193031,
          -78.42976059801913,
          -58.726837325181805,
          -50.85806426797956,
          -42.188238961113655,
          -32.67208340844161,
          -22.344341857223014,
          -16.918892807158443,
          -11.35882131113408,
          -9.105787099608392,
          -6.84036167849132,
          -4.565523954146727,
          -2.2843538098456975
         ],
         "y": [
          2.1734071144866545,
          2.16178287503579,
          2.1424819285456818,
          2.115612065794011,
          2.0813214716986472,
          1.964434082831654,
          1.8061996909436415,
          1.385219595998124,
          0.8607727963741443,
          0.2736183229458929,
          -0.3431048799285491,
          -2.16801908991087,
          -3.7730593229328253,
          -5.107825341480714,
          -6.193310480660946,
          -7.061015531352676,
          -7.738271724514311,
          -8.245907761671381,
          -8.598793860490886,
          -8.867897044997598,
          -8.875518407124991,
          -8.867897044997598,
          -8.598793860490886,
          -8.24590776167138,
          -7.738271724514313,
          -7.061015531352676,
          -6.193310480660946,
          -5.1078253414807175,
          -3.7730593229328253,
          -2.1680190899108718,
          -0.34310487992855515,
          0.2736183229458966,
          0.8607727963741427,
          1.385219595998124,
          1.8061996909436415,
          1.9644340828316524,
          2.0813214716986486,
          2.1156120657940125,
          2.1424819285456818,
          2.16178287503579,
          2.1734071144866545
         ]
        },
        {
         "hoverinfo": "name",
         "line": {
          "color": "#555",
          "dash": "dot",
          "width": 1
         },
         "name": "-20.00 dB",
         "showlegend": false,
         "type": "scatter",
         "x": [
          -358.8888965493027,
          -357.7778390541404,
          -356.66687343532357,
          -355.5560455442723,
          -354.44540112846903,
          -351.66989167066737,
          -348.89652075551027,
          -343.3589703285723,
          -337.8381516710673,
          -332.33916301626834,
          -326.8667171206091,
          -310.64868408641405,
          -294.79128089714493,
          -279.3371191156383,
          -264.28940686250036,
          -249.6211360082914,
          -235.2849960460518,
          -221.22162278409758,
          -207.3653939814767,
          -184.54588366326493,
          -180,
          -175.45411633673513,
          -152.63460601852324,
          -138.77837721590248,
          -124.71500395394821,
          -110.37886399170858,
          -95.71059313749964,
          -80.6628808843617,
          -65.20871910285507,
          -49.35131591358595,
          -33.13328287939095,
          -27.660836983731656,
          -22.161848328932706,
          -16.641029671427702,
          -11.103479244489733,
          -8.330108329332631,
          -5.55459887153097,
          -4.443954455727749,
          -3.3331265646764905,
          -2.2221609458596276,
          -1.1111034506973283
         ],
         "y": [
          -19.085013507081424,
          -19.085503375377726,
          -19.086319534008915,
          -19.08746155052706,
          -19.08892882019638,
          -19.094014462352902,
          -19.101110842980592,
          -19.121236166745526,
          -19.149042963976978,
          -19.184174848780152,
          -19.226190346310158,
          -19.38809146911957,
          -19.590413923210935,
          -19.81472569408657,
          -20.043213737826427,
          -20.260279180191155,
          -20.453229787866576,
          -20.612342803649057,
          -20.730600258806064,
          -20.825121237762787,
          -20.8278537031645,
          -20.825121237762787,
          -20.730600258806064,
          -20.612342803649057,
          -20.453229787866572,
          -20.26027918019116,
          -20.043213737826427,
          -19.81472569408657,
          -19.590413923210935,
          -19.38809146911957,
          -19.226190346310158,
          -19.184174848780152,
          -19.149042963976978,
          -19.121236166745526,
          -19.101110842980592,
          -19.094014462352902,
          -19.08892882019638,
          -19.08746155052706,
          -19.086319534008915,
          -19.085503375377726,
          -19.085013507081424
         ]
        },
        {
         "hoverinfo": "name",
         "line": {
          "color": "#555",
          "dash": "dot",
          "width": 1
         },
         "name": "-359.00 deg",
         "showlegend": false,
         "type": "scatter",
         "x": [
          -181.0044525859156,
          -182.42156130189062,
          -183.8538273684054,
          -188.12984536554268,
          -190.9344158007773,
          -196.3718246156576,
          -200.26021663058145,
          -206.3114697592357,
          -210.7345808486815,
          -216.6635681171084,
          -224.80489618685647,
          -236.09043705087817,
          -251.24683800549047,
          -269.4999999999999,
          -287.753161994509,
          -302.90956294912127,
          -314.19510381314365,
          -322.3364318828915,
          -328.2654191513184,
          -332.6885302407641,
          -338.7397833694185,
          -342.62817538434234,
          -348.06558419922266,
          -350.87015463445726,
          -355.14617263159454,
          -356.5784386981094,
          -357.2913247216967,
          -357.7156461901543,
          -357.9955474140844,
          -358.45015168578016,
          -358.6645881674737,
          -358.8116765954827,
          -358.8888965493027,
          -358.96734639178396,
          -358.98989951835864,
          -358.9989990499713
         ],
         "y": [
          6.038584887637681,
          10.679764301197936,
          13.711735715514646,
          19.17292087222408,
          21.473564446933352,
          24.66386078734449,
          26.351550772079545,
          28.39588115905801,
          29.582361840040452,
          30.88405633953153,
          32.272915503531166,
          33.64360969507572,
          34.739089603108305,
          35.16256289318372,
          34.689089603108336,
          33.54360969507577,
          32.12291550353115,
          30.68405633953155,
          29.33236184004049,
          28.095881159058045,
          25.951550772079585,
          24.163860787344515,
          20.723564446933352,
          18.172920872224083,
          11.711735715514651,
          7.6797643011979355,
          4.652344195068787,
          2.1734071144866545,
          0.03858488763767778,
          -5.194834381818714,
          -9.488041039111309,
          -14.50148872104064,
          -19.085013507081424,
          -29.72093593281454,
          -39.91271738956356,
          -59.99131109007229
         ]
        },
        {
         "hoverinfo": "name",
         "line": {
          "color": "#555",
          "dash": "dot",
          "width": 1
         },
         "name": "-355.00 deg",
         "showlegend": false,
         "type": "scatter",
         "x": [
          -184.98569457347367,
          -191.8233626783699,
          -198.35224760736764,
          -214.7096153155495,
          -222.83943505774351,
          -234.1134646185559,
          -239.69796826647632,
          -245.92146539007024,
          -249.25835228553376,
          -252.72858723419097,
          -256.31341133172936,
          -259.989259045856,
          -263.7283959194501,
          -267.5,
          -271.27160408054976,
          -275.0107409541439,
          -278.6865886682707,
          -282.271412765809,
          -285.74164771446624,
          -289.07853460992976,
          -295.30203173352356,
          -300.88653538144405,
          -312.1605649422565,
          -320.29038468445054,
          -336.6477523926323,
          -343.1766373216301,
          -346.5786356017429,
          -348.6411786888659,
          -350.0143054265264,
          -352.26161474704355,
          -353.32748962319005,
          -354.06025738718597,
          -354.44540112846903,
          -354.8369507000331,
          -354.9495609798578,
          -354.9950013641784
         ],
         "y": [
          5.975176335900421,
          10.424714401516344,
          13.15637722819709,
          17.30269583621942,
          18.59357019807048,
          19.86570394081788,
          20.318095967162986,
          20.70337257062739,
          20.862047629248345,
          20.99332004959212,
          21.093870457953344,
          21.16082174212472,
          21.1919404997191,
          21.185808854403394,
          21.1419404997191,
          21.060821742124723,
          20.943870457953345,
          20.793320049592126,
          20.61204762924834,
          20.40337257062739,
          19.918095967162994,
          19.365703940817884,
          17.843570198070484,
          16.302695836219424,
          11.156377228197092,
          7.424714401516347,
          4.50797988512989,
          2.0813214716986472,
          -0.024823664099580364,
          -5.221788912123486,
          -9.502229976955315,
          -14.508583844447521,
          -19.08892882019638,
          -29.722005767179546,
          -39.91304111416505,
          -59.99134288302994
         ]
        },
        {
         "hoverinfo": "name",
         "line": {
          "color": "#555",
          "dash": "dot",
          "width": 1
         },
         "name": "-350.00 deg",
         "showlegend": false,
         "type": "scatter",
         "x": [
          -189.75111962661822,
          -202.09598892987356,
          -212.35345913068954,
          -231.68544618825558,
          -238.7489296614017,
          -246.79435053744254,
          -250.2573865527558,
          -253.83501123894706,
          -255.65960361036178,
          -257.503659183197,
          -259.363585957195,
          -261.2355960478809,
          -263.1157490287522,
          -265,
          -266.8842509712478,
          -268.7644039521191,
          -270.6364140428051,
          -272.496340816803,
          -274.34039638963816,
          -276.1649887610529,
          -279.74261344724425,
          -283.20564946255746,
          -291.25107033859837,
          -298.3145538117444,
          -317.64654086931046,
          -327.9040110701264,
          -333.8610146236115,
          -337.655658142777,
          -340.2488803733818,
          -344.5899563733838,
          -346.68313903391805,
          -348.1321651543866,
          -348.89652075551027,
          -349.67526564124756,
          -349.8995174652041,
          -349.99004088458565
         ],
         "y": [
          5.783261698845564,
          9.714033764687105,
          11.775956313081908,
          14.099770859367858,
          14.594923883885638,
          14.97381756434649,
          15.080414384505051,
          15.15621710943876,
          15.181648668301047,
          15.1983486227364,
          15.206059569200638,
          15.204575519007793,
          15.193746138850234,
          15.173479920117972,
          15.143746138850233,
          15.104575519007792,
          15.056059569200638,
          14.9983486227364,
          14.931648668301046,
          14.856217109438761,
          14.680414384505053,
          14.473817564346486,
          13.844923883885636,
          13.099770859367856,
          9.775956313081904,
          6.714033764687107,
          4.086501615929624,
          1.8061996909436415,
          -0.21673830115443865,
          -5.304752563074492,
          -9.546163900231825,
          -14.530626329660187,
          -19.101110842980592,
          -29.725338912804,
          -39.914050057959166,
          -59.991441985000364
         ]
        },
        {
         "hoverinfo": "name",
         "line": {
          "color": "#555",
          "dash": "dot",
          "width": 1
         },
         "name": "-340.00 deg",
         "showlegend": false,
         "type": "scatter",
         "x": [
          -197.95308877480693,
          -215.8791234237175,
          -226.9736814525869,
          -241.93858840592924,
          -246.25008326075692,
          -250.7317375930338,
          -252.56136781439045,
          -254.40686827358445,
          -255.33439270580863,
          -256.264451326916,
          -257.19654718906554,
          -258.13017678870557,
          -259.06483165862886,
          -260,
          -260.93516834137114,
          -261.8698232112944,
          -262.80345281093446,
          -263.735548673084,
          -264.6656072941914,
          -265.59313172641555,
          -267.43863218560955,
          -269.2682624069662,
          -273.7499167392431,
          -278.06141159407076,
          -293.02631854741304,
          -304.1208765762825,
          -312.0719845024495,
          -317.81176103888635,
          -322.0469112251931,
          -329.68216191155295,
          -333.58372479687006,
          -336.35562188095696,
          -337.8381516710673,
          -339.3613582271222,
          -339.8021787598649,
          -339.9803852582164
         ],
         "y": [
          5.096695738427625,
          7.678062347477537,
          8.597793300386101,
          9.232708314999615,
          9.300350040488034,
          9.318257934761284,
          9.310284149791554,
          9.293248860230516,
          9.28126664709167,
          9.26694607309168,
          9.250270119069466,
          9.231225451995389,
          9.20980249648894,
          9.185995486488366,
          9.159802496488942,
          9.13122545199539,
          9.100270119069464,
          9.06694607309168,
          9.03126664709167,
          8.993248860230516,
          8.910284149791552,
          8.818257934761286,
          8.550350040488036,
          8.232708314999616,
          6.597793300386101,
          4.678062347477541,
          2.7305972432797097,
          0.8607727963741443,
          -0.9033042615723732,
          -5.618708656914063,
          -9.715988750167744,
          -14.616875379452285,
          -19.149042963976978,
          -29.7385197635113,
          -39.91804519575886,
          -59.99183460526538
         ]
        },
        {
         "hoverinfo": "name",
         "line": {
          "color": "#555",
          "dash": "dot",
          "width": 1
         },
         "name": "-330.00 deg",
         "showlegend": false,
         "type": "scatter",
         "x": [
          -203.882655271241,
          -222.4551688385875,
          -231.83973647604438,
          -242.88818452740378,
          -245.85243927303384,
          -248.87064427851567,
          -250.08929464488176,
          -251.3127394114194,
          -251.9258936010815,
          -252.53980424258486,
          -253.1543213605271,
          -253.769294105085,
          -254.3845709678439,
          -255,
          -255.6154290321561,
          -256.23070589491493,
          -256.84567863947296,
          -257.46019575741514,
          -258.0741063989185,
          -258.6872605885806,
          -259.9107053551182,
          -261.12935572148433,
          -264.14756072696616,
          -267.1118154725962,
          -278.16026352395556,
          -287.54483116141245,
          -295.1799121181876,
          -301.2731626748182,
          -306.117344728759,
          -315.6352523321829,
          -320.8811636256163,
          -324.7520018624275,
          -326.8667171206091,
          -329.06864784533053,
          -329.7110208991901,
          -329.97132728133215
         ],
         "y": [
          4.166800369039922,
          5.606844160199614,
          5.932206248669415,
          6.009559815241832,
          5.975208936745101,
          5.916081684987016,
          5.8852313052469665,
          5.850181404584557,
          5.831068132828873,
          5.8108902224713805,
          5.78964427580763,
          5.767327641665407,
          5.7439384217734455,
          5.719475475333597,
          5.693938421773446,
          5.667327641665408,
          5.63964427580763,
          5.610890222471382,
          5.581068132828873,
          5.5501814045845554,
          5.485231305246967,
          5.416081684987017,
          5.2252089367451005,
          5.009559815241831,
          3.932206248669413,
          2.6068441601996146,
          1.1533437890942961,
          -0.3431048799285491,
          -1.8331996309600802,
          -6.087078338824387,
          -9.979764081669678,
          -14.754127901309044,
          -19.226190346310158,
          -29.75995677804501,
          -39.92456085295799,
          -59.99247562744764
         ]
        },
        {
         "hoverinfo": "name",
         "line": {
          "color": "#555",
          "dash": "dot",
          "width": 1
         },
         "name": "-310.00 deg",
         "showlegend": false,
         "type": "scatter",
         "x": [
          -209.52730461324086,
          -224.8617597295535,
          -231.1899048297363,
          -237.97025516715092,
          -239.71356983065925,
          -241.46893619919013,
          -242.17358097759967,
          -242.8792695480219,
          -243.23242437600226,
          -243.58574287247382,
          -243.93919240648842,
          -244.2927402786603,
          -244.6463537381975,
          -245,
          -245.3536462618025,
          -245.7072597213397,
          -246.06080759351158,
          -246.41425712752618,
          -246.76757562399774,
          -247.12073045197803,
          -247.82641902240033,
          -248.53106380080987,
          -250.28643016934075,
          -252.02974483284908,
          -258.8100951702637,
          -265.1382402704465,
          -270.88476640555945,
          -275.9949524301256,
          -280.47269538675914,
          -290.6024276593667,
          -297.07594307104625,
          -302.30134107560315,
          -305.3198186609207,
          -308.583531731361,
          -309.55825809928365,
          -309.9560806642815
         ],
         "y": [
          2.1690092783717687,
          2.283613205343762,
          2.1482066351372553,
          1.8805110263369171,
          1.7903185689185086,
          1.690332235389074,
          1.6475597573189855,
          1.6031884953899582,
          1.5804015444470143,
          1.557212960058154,
          1.5336222991170896,
          1.5096292165861258,
          1.4852334657955046,
          1.4604348986575815,
          1.4352334657955048,
          1.4096292165861262,
          1.3836222991170892,
          1.357212960058154,
          1.3304015444470128,
          1.3031884953899575,
          1.2475597573189858,
          1.1903322353890728,
          1.0403185689185093,
          0.8805110263369176,
          0.14820663513725413,
          -0.7163867946562369,
          -1.6861149823730335,
          -2.7327119599275056,
          -3.8309907216282335,
          -7.25914823540008,
          -10.693337314020894,
          -15.145382670060465,
          -19.451939759943034,
          -29.824279769303864,
          -39.944246119925026,
          -59.99441757441544
         ]
        },
        {
         "hoverinfo": "name",
         "line": {
          "color": "#555",
          "dash": "dot",
          "width": 1
         },
         "name": "-270.00 deg",
         "showlegend": false,
         "type": "scatter",
         "x": [
          -206.61944411079287,
          -215.29642457077978,
          -218.46110795220994,
          -221.70905190957956,
          -222.52941048373117,
          -223.35180491824565,
          -223.6811819889183,
          -224.0107336090751,
          -224.1755612738757,
          -224.3404162425316,
          -224.50529305969962,
          -224.6701862664188,
          -224.8350904010141,
          -225,
          -225.1649095989859,
          -225.3298137335812,
          -225.49470694030038,
          -225.65958375746834,
          -225.8244387261243,
          -225.9892663909249,
          -226.3188180110817,
          -226.6481950817543,
          -227.47058951626883,
          -228.29094809042044,
          -231.53889204779006,
          -234.70357542922022,
          -237.7498224252065,
          -240.64915314981818,
          -243.38055588920713,
          -250.46463358891856,
          -255.89967637641075,
          -260.9941380290685,
          -264.28940686250036,
          -268.188751952672,
          -269.42706130231653,
          -269.9427042395855
         ],
         "y": [
          -0.9732279370869548,
          -1.764348624364853,
          -2.124426027943395,
          -2.5390189104386724,
          -2.6514699297020368,
          -2.7674915645818707,
          -2.8149035000028793,
          -2.8628898500051885,
          -2.887098602924716,
          -2.91145114746676,
          -2.9359475265105246,
          -2.9605877734182884,
          -2.985371912026573,
          -3.0102999566398116,
          -3.035371912026572,
          -3.0605877734182907,
          -3.0859475265105245,
          -3.1114511474667603,
          -3.1370986029247168,
          -3.162889850005191,
          -3.2149035000028805,
          -3.2674915645818716,
          -3.4014699297020368,
          -3.539018910438671,
          -4.124426027943397,
          -4.764348624364852,
          -5.455404631092938,
          -6.193310480660946,
          -6.973227937086955,
          -9.514969420252301,
          -12.265723755961025,
          -16.10774225511957,
          -20.043213737826427,
          -30.00434077479319,
          -40.00043427276863,
          -60.000004342942646
         ]
        },
        {
         "hoverinfo": "name",
         "line": {
          "color": "#555",
          "dash": "dot",
          "width": 1
         },
         "name": "-240.00 deg",
         "showlegend": false,
         "type": "scatter",
         "x": [
          -199.14024541544325,
          -204.36172377497314,
          -206.21381358967642,
          -208.09857633531192,
          -208.57301489483143,
          -209.04823910924426,
          -209.23849040969878,
          -209.42880894323696,
          -209.52398817799792,
          -209.6191779249774,
          -209.7143760829855,
          -209.80958054999672,
          -209.90478922335842,
          -210,
          -210.09521077664152,
          -210.19041945000322,
          -210.2856239170145,
          -210.3808220750226,
          -210.47601182200202,
          -210.57119105676304,
          -210.76150959030122,
          -210.95176089075574,
          -211.42698510516857,
          -211.90142366468808,
          -213.78618641032358,
          -215.6382762250269,
          -217.44292101522825,
          -219.18707307644064,
          -220.85975458455675,
          -225.37330168652204,
          -229.0616987201294,
          -232.75216733907212,
          -235.2849960460518,
          -238.45568816453994,
          -239.50628485109314,
          -239.95040520919997
         ],
         "y": [
          -2.436272660456205,
          -3.4422186673114457,
          -3.84762884451815,
          -4.29037960222416,
          -4.40699921593907,
          -4.526008275446839,
          -4.57428211823914,
          -4.622939314369939,
          -4.647411727484515,
          -4.671980041652243,
          -4.696644271172273,
          -4.721404427168291,
          -4.746260517586929,
          -4.771212547196625,
          -4.79626051758693,
          -4.821404427168288,
          -4.846644271172273,
          -4.871980041652241,
          -4.897411727484514,
          -4.922939314369941,
          -4.974282118239141,
          -5.02600827544684,
          -5.156999215939071,
          -5.290379602224159,
          -5.847628844518153,
          -6.442218667311449,
          -7.072958558444331,
          -7.738271724514311,
          -8.436272660456206,
          -10.704688157932988,
          -13.186893456343654,
          -16.732079592455978,
          -20.453229787866576,
          -30.139417000675234,
          -40.043643711077515,
          -60.004345113397235
         ]
        },
        {
         "hoverinfo": "name",
         "line": {
          "color": "#555",
          "dash": "dot",
          "width": 1
         },
         "name": "-210.00 deg",
         "showlegend": false,
         "type": "scatter",
         "x": [
          -189.91215173606156,
          -192.37662214327372,
          -193.24081558695843,
          -194.1172919529556,
          -194.3376264517101,
          -194.55825435352733,
          -194.64656584066665,
          -194.73490241741877,
          -194.77907815652532,
          -194.82325781782652,
          -194.8674406172289,
          -194.91162577040882,
          -194.95581249286977,
          -195,
          -195.04418750713023,
          -195.08837422959118,
          -195.13255938277098,
          -195.17674218217348,
          -195.22092184347468,
          -195.26509758258123,
          -195.35343415933335,
          -195.44174564647267,
          -195.6623735482898,
          -195.8827080470444,
          -196.75918441304157,
          -197.62337785672628,
          -198.46958668342972,
          -199.29260642451015,
          -200.08784826393844,
          -202.27177292498595,
          -204.1105118631359,
          -206.01403876500308,
          -207.3653939814767,
          -209.11829225570636,
          -209.71598310734691,
          -209.97137690095758
         ],
         "y": [
          -3.2618637150774954,
          -4.357464956087062,
          -4.781008157812972,
          -5.234889529168014,
          -5.353148423971277,
          -5.473330927281008,
          -5.521943113599203,
          -5.570863587065885,
          -5.595439459606192,
          -5.620092434585043,
          -5.644822518988903,
          -5.669629718252307,
          -5.694514036257395,
          -5.719475475333596,
          -5.744514036257396,
          -5.769629718252306,
          -5.794822518988905,
          -5.820092434585046,
          -5.845439459606192,
          -5.870863587065886,
          -5.921943113599205,
          -5.9733309272810065,
          -6.103148423971275,
          -6.234889529168011,
          -6.781008157812972,
          -7.357464956087063,
          -7.963662913962381,
          -8.598793860490886,
          -9.261863715077498,
          -11.406608921751245,
          -13.75560292379796,
          -17.138198674062732,
          -20.730600258806064,
          -30.235702451504753,
          -40.07500487427773,
          -60.00752002960971
         ]
        },
        {
         "hoverinfo": "name",
         "line": {
          "color": "#555",
          "dash": "dot",
          "width": 1
         },
         "name": "-180.00 deg",
         "showlegend": false,
         "type": "scatter",
         "x": [
          -180,
          -180,
          -180,
          -180,
          -180,
          -180,
          -180,
          -180,
          -180,
          -180,
          -180,
          -180,
          -180,
          -180,
          -180,
          -180,
          -180,
          -180,
          -180,
          -180,
          -180,
          -180,
          -180,
          -180,
          -180,
          -180,
          -180,
          -180,
          -180,
          -180,
          -180,
          -180,
          -180,
          -180,
          -180,
          -180
         ],
         "y": [
          -3.528697248729707,
          -4.649481613751726,
          -5.078037820877343,
          -5.534983129163744,
          -5.653692425461207,
          -5.774197205849433,
          -5.82290229493352,
          -5.871895053021047,
          -5.896499329536557,
          -5.921175546836581,
          -5.94592371028475,
          -5.970743824053145,
          -5.995635891122028,
          -6.020599913279624,
          -6.045635891122028,
          -6.070743824053146,
          -6.095923710284749,
          -6.121175546836581,
          -6.146499329536558,
          -6.17189505302105,
          -6.222902294933521,
          -6.2741972058494335,
          -6.403692425461207,
          -6.534983129163744,
          -7.078037820877343,
          -7.6494816137517265,
          -8.248852055886793,
          -8.875518407124991,
          -9.528697248729706,
          -11.637589600041242,
          -13.946455874173909,
          -17.277840682867595,
          -20.8278537031645,
          -30.27041844216076,
          -40.086427475652854,
          -60.00868154958637
         ]
        },
        {
         "hoverinfo": "name",
         "line": {
          "color": "#555",
          "dash": "dot",
          "width": 1
         },
         "name": "-1.00 deg",
         "showlegend": false,
         "type": "scatter",
         "x": [
          -178.9955474140844,
          -177.57843869810938,
          -176.1461726315946,
          -171.87015463445732,
          -169.0655841992227,
          -163.6281753843424,
          -159.73978336941855,
          -153.6885302407643,
          -149.2654191513185,
          -143.3364318828916,
          -135.19510381314353,
          -123.90956294912183,
          -108.75316199450953,
          -90.50000000000011,
          -72.24683800549099,
          -57.090437050878734,
          -45.804896186856354,
          -37.663568117108525,
          -31.734580848681617,
          -27.311469759235877,
          -21.26021663058151,
          -17.37182461565766,
          -11.934415800777344,
          -9.129845365542735,
          -4.853827368405462,
          -3.4215613018906197,
          -2.7086752783033035,
          -2.2843538098456975,
          -2.004452585915601,
          -1.5498483142198438,
          -1.3354118325262903,
          -1.1883234045172912,
          -1.1111034506973283,
          -1.0326536082160374,
          -1.0101004816413592,
          -1.001000950028697
         ],
         "y": [
          6.038584887637681,
          10.679764301197936,
          13.711735715514646,
          19.17292087222408,
          21.473564446933352,
          24.66386078734449,
          26.351550772079545,
          28.39588115905801,
          29.582361840040452,
          30.88405633953153,
          32.272915503531166,
          33.64360969507572,
          34.739089603108305,
          35.16256289318372,
          34.689089603108336,
          33.54360969507577,
          32.12291550353115,
          30.68405633953155,
          29.33236184004049,
          28.095881159058045,
          25.951550772079585,
          24.163860787344515,
          20.723564446933352,
          18.172920872224083,
          11.711735715514651,
          7.6797643011979355,
          4.652344195068787,
          2.1734071144866545,
          0.03858488763767778,
          -5.194834381818714,
          -9.488041039111309,
          -14.50148872104064,
          -19.085013507081424,
          -29.72093593281454,
          -39.91271738956356,
          -59.99131109007229
         ]
        },
        {
         "hoverinfo": "name",
         "line": {
          "color": "#555",
          "dash": "dot",
          "width": 1
         },
         "name": "-5.00 deg",
         "showlegend": false,
         "type": "scatter",
         "x": [
          -175.01430542652633,
          -168.1766373216301,
          -161.64775239263236,
          -145.2903846844505,
          -137.16056494225649,
          -125.8865353814441,
          -120.30203173352368,
          -114.07853460992976,
          -110.74164771446624,
          -107.27141276580903,
          -103.68658866827064,
          -100.01074095414401,
          -96.27160408054988,
          -92.5,
          -88.72839591945024,
          -84.9892590458561,
          -81.3134113317293,
          -77.72858723419102,
          -74.25835228553376,
          -70.92146539007024,
          -64.69796826647644,
          -59.11346461855595,
          -47.839435057743515,
          -39.709615315549456,
          -23.3522476073677,
          -16.823362678369904,
          -13.421364398257083,
          -11.35882131113408,
          -9.985694573473609,
          -7.738385252956448,
          -6.672510376809953,
          -5.93974261281403,
          -5.55459887153097,
          -5.163049299966872,
          -5.050439020142221,
          -5.004998635821607
         ],
         "y": [
          5.975176335900421,
          10.424714401516344,
          13.15637722819709,
          17.30269583621942,
          18.59357019807048,
          19.86570394081788,
          20.318095967162986,
          20.70337257062739,
          20.862047629248345,
          20.99332004959212,
          21.093870457953344,
          21.16082174212472,
          21.1919404997191,
          21.185808854403394,
          21.1419404997191,
          21.060821742124723,
          20.943870457953345,
          20.793320049592126,
          20.61204762924834,
          20.40337257062739,
          19.918095967162994,
          19.365703940817884,
          17.843570198070484,
          16.302695836219424,
          11.156377228197092,
          7.424714401516347,
          4.50797988512989,
          2.0813214716986472,
          -0.024823664099580364,
          -5.221788912123486,
          -9.502229976955315,
          -14.508583844447521,
          -19.08892882019638,
          -29.722005767179546,
          -39.91304111416505,
          -59.99134288302994
         ]
        },
        {
         "hoverinfo": "name",
         "line": {
          "color": "#555",
          "dash": "dot",
          "width": 1
         },
         "name": "-10.00 deg",
         "showlegend": false,
         "type": "scatter",
         "x": [
          -170.24888037338178,
          -157.90401107012644,
          -147.64654086931046,
          -128.31455381174442,
          -121.25107033859831,
          -113.20564946255746,
          -109.7426134472442,
          -106.16498876105294,
          -104.34039638963822,
          -102.49634081680301,
          -100.63641404280497,
          -98.7644039521191,
          -96.88425097124781,
          -95,
          -93.11574902875219,
          -91.2355960478809,
          -89.36358595719491,
          -87.50365918319699,
          -85.65960361036184,
          -83.83501123894712,
          -80.25738655275575,
          -76.79435053744254,
          -68.74892966140163,
          -61.68544618825558,
          -42.353459130689544,
          -32.09598892987361,
          -26.13898537638852,
          -22.344341857223014,
          -19.75111962661822,
          -15.410043626616186,
          -13.316860966081947,
          -11.867834845613402,
          -11.103479244489733,
          -10.324734358752437,
          -10.100482534795901,
          -10.009959115414347
         ],
         "y": [
          5.783261698845564,
          9.714033764687105,
          11.775956313081908,
          14.099770859367858,
          14.594923883885638,
          14.97381756434649,
          15.080414384505051,
          15.15621710943876,
          15.181648668301047,
          15.1983486227364,
          15.206059569200638,
          15.204575519007793,
          15.193746138850234,
          15.173479920117972,
          15.143746138850233,
          15.104575519007792,
          15.056059569200638,
          14.9983486227364,
          14.931648668301046,
          14.856217109438761,
          14.680414384505053,
          14.473817564346486,
          13.844923883885636,
          13.099770859367856,
          9.775956313081904,
          6.714033764687107,
          4.086501615929624,
          1.8061996909436415,
          -0.21673830115443865,
          -5.304752563074492,
          -9.546163900231825,
          -14.530626329660187,
          -19.101110842980592,
          -29.725338912804,
          -39.914050057959166,
          -59.991441985000364
         ]
        },
        {
         "hoverinfo": "name",
         "line": {
          "color": "#555",
          "dash": "dot",
          "width": 1
         },
         "name": "-20.00 deg",
         "showlegend": false,
         "type": "scatter",
         "x": [
          -162.04691122519307,
          -144.1208765762825,
          -133.0263185474131,
          -118.06141159407076,
          -113.74991673924308,
          -109.26826240696619,
          -107.43863218560955,
          -105.59313172641555,
          -104.66560729419137,
          -103.735548673084,
          -102.80345281093446,
          -101.86982321129443,
          -100.93516834137114,
          -100,
          -99.06483165862886,
          -98.13017678870563,
          -97.19654718906554,
          -96.264451326916,
          -95.33439270580863,
          -94.40686827358445,
          -92.56136781439045,
          -90.73173759303381,
          -86.25008326075692,
          -81.93858840592924,
          -66.97368145258696,
          -55.87912342371749,
          -47.92801549755052,
          -42.188238961113655,
          -37.95308877480687,
          -30.317838088447047,
          -26.416275203129942,
          -23.64437811904304,
          -22.161848328932706,
          -20.638641772877804,
          -20.197821240135113,
          -20.019614741783585
         ],
         "y": [
          5.096695738427625,
          7.678062347477537,
          8.597793300386101,
          9.232708314999615,
          9.300350040488034,
          9.318257934761284,
          9.310284149791554,
          9.293248860230516,
          9.28126664709167,
          9.26694607309168,
          9.250270119069466,
          9.231225451995389,
          9.20980249648894,
          9.185995486488366,
          9.159802496488942,
          9.13122545199539,
          9.100270119069464,
          9.06694607309168,
          9.03126664709167,
          8.993248860230516,
          8.910284149791552,
          8.818257934761286,
          8.550350040488036,
          8.232708314999616,
          6.597793300386101,
          4.678062347477541,
          2.7305972432797097,
          0.8607727963741443,
          -0.9033042615723732,
          -5.618708656914063,
          -9.715988750167744,
          -14.616875379452285,
          -19.149042963976978,
          -29.7385197635113,
          -39.91804519575886,
          -59.99183460526538
         ]
        },
        {
         "hoverinfo": "name",
         "line": {
          "color": "#555",
          "dash": "dot",
          "width": 1
         },
         "name": "-30.00 deg",
         "showlegend": false,
         "type": "scatter",
         "x": [
          -156.117344728759,
          -137.5448311614125,
          -128.16026352395562,
          -117.11181547259622,
          -114.14756072696616,
          -111.12935572148433,
          -109.91070535511824,
          -108.68726058858061,
          -108.0741063989185,
          -107.46019575741514,
          -106.84567863947291,
          -106.23070589491499,
          -105.6154290321561,
          -105,
          -104.3845709678439,
          -103.76929410508507,
          -103.15432136052704,
          -102.53980424258486,
          -101.9258936010815,
          -101.31273941141939,
          -100.08929464488182,
          -98.87064427851567,
          -95.85243927303384,
          -92.88818452740378,
          -81.83973647604444,
          -72.45516883858755,
          -64.82008788181241,
          -58.726837325181805,
          -53.88265527124099,
          -44.364747667817085,
          -39.118836374383704,
          -35.247998137572495,
          -33.13328287939089,
          -30.93135215466947,
          -30.28897910080991,
          -30.02867271866785
         ],
         "y": [
          4.166800369039922,
          5.606844160199614,
          5.932206248669415,
          6.009559815241832,
          5.975208936745101,
          5.916081684987016,
          5.8852313052469665,
          5.850181404584557,
          5.831068132828873,
          5.8108902224713805,
          5.78964427580763,
          5.767327641665407,
          5.7439384217734455,
          5.719475475333597,
          5.693938421773446,
          5.667327641665408,
          5.63964427580763,
          5.610890222471382,
          5.581068132828873,
          5.5501814045845554,
          5.485231305246967,
          5.416081684987017,
          5.2252089367451005,
          5.009559815241831,
          3.932206248669413,
          2.6068441601996146,
          1.1533437890942961,
          -0.3431048799285491,
          -1.8331996309600802,
          -6.087078338824387,
          -9.979764081669678,
          -14.754127901309044,
          -19.226190346310158,
          -29.75995677804501,
          -39.92456085295799,
          -59.99247562744764
         ]
        },
        {
         "hoverinfo": "name",
         "line": {
          "color": "#555",
          "dash": "dot",
          "width": 1
         },
         "name": "-50.00 deg",
         "showlegend": false,
         "type": "scatter",
         "x": [
          -150.47269538675914,
          -135.1382402704465,
          -128.8100951702637,
          -122.02974483284908,
          -120.28643016934075,
          -118.53106380080987,
          -117.82641902240033,
          -117.12073045197809,
          -116.76757562399774,
          -116.41425712752618,
          -116.06080759351158,
          -115.70725972133971,
          -115.35364626180251,
          -115,
          -114.64635373819749,
          -114.29274027866029,
          -113.93919240648842,
          -113.58574287247382,
          -113.23242437600226,
          -112.87926954802197,
          -112.17358097759967,
          -111.46893619919013,
          -109.71356983065925,
          -107.97025516715092,
          -101.18990482973629,
          -94.86175972955351,
          -89.11523359444055,
          -84.00504756987442,
          -79.52730461324086,
          -69.3975723406333,
          -62.924056928953746,
          -57.69865892439685,
          -54.6801813390793,
          -51.416468268638994,
          -50.44174190071635,
          -50.0439193357185
         ],
         "y": [
          2.1690092783717687,
          2.283613205343762,
          2.1482066351372553,
          1.8805110263369171,
          1.7903185689185086,
          1.690332235389074,
          1.6475597573189855,
          1.6031884953899582,
          1.5804015444470143,
          1.557212960058154,
          1.5336222991170896,
          1.5096292165861258,
          1.4852334657955046,
          1.4604348986575815,
          1.4352334657955048,
          1.4096292165861262,
          1.3836222991170892,
          1.357212960058154,
          1.3304015444470128,
          1.3031884953899575,
          1.2475597573189858,
          1.1903322353890728,
          1.0403185689185093,
          0.8805110263369176,
          0.14820663513725413,
          -0.7163867946562369,
          -1.6861149823730335,
          -2.7327119599275056,
          -3.8309907216282335,
          -7.25914823540008,
          -10.693337314020894,
          -15.145382670060465,
          -19.451939759943034,
          -29.824279769303864,
          -39.944246119925026,
          -59.99441757441544
         ]
        },
        {
         "hoverinfo": "name",
         "line": {
          "color": "#555",
          "dash": "dot",
          "width": 1
         },
         "name": "-90.00 deg",
         "showlegend": false,
         "type": "scatter",
         "x": [
          -153.38055588920713,
          -144.70357542922022,
          -141.53889204779006,
          -138.29094809042044,
          -137.47058951626883,
          -136.64819508175435,
          -136.3188180110817,
          -135.9892663909249,
          -135.8244387261243,
          -135.6595837574684,
          -135.49470694030038,
          -135.3298137335812,
          -135.1649095989859,
          -135,
          -134.8350904010141,
          -134.6701862664188,
          -134.50529305969962,
          -134.34041624253166,
          -134.1755612738757,
          -134.0107336090751,
          -133.6811819889183,
          -133.3518049182457,
          -132.52941048373117,
          -131.70905190957956,
          -128.46110795220994,
          -125.29642457077978,
          -122.2501775747935,
          -119.35084685018182,
          -116.61944411079287,
          -109.53536641108144,
          -104.10032362358925,
          -99.0058619709315,
          -95.71059313749964,
          -91.81124804732798,
          -90.57293869768347,
          -90.05729576041449
         ],
         "y": [
          -0.9732279370869548,
          -1.764348624364853,
          -2.124426027943395,
          -2.5390189104386724,
          -2.6514699297020368,
          -2.7674915645818707,
          -2.8149035000028793,
          -2.8628898500051885,
          -2.887098602924716,
          -2.91145114746676,
          -2.9359475265105246,
          -2.9605877734182884,
          -2.985371912026573,
          -3.0102999566398116,
          -3.035371912026572,
          -3.0605877734182907,
          -3.0859475265105245,
          -3.1114511474667603,
          -3.1370986029247168,
          -3.162889850005191,
          -3.2149035000028805,
          -3.2674915645818716,
          -3.4014699297020368,
          -3.539018910438671,
          -4.124426027943397,
          -4.764348624364852,
          -5.455404631092938,
          -6.193310480660946,
          -6.973227937086955,
          -9.514969420252301,
          -12.265723755961025,
          -16.10774225511957,
          -20.043213737826427,
          -30.00434077479319,
          -40.00043427276863,
          -60.000004342942646
         ]
        },
        {
         "hoverinfo": "name",
         "line": {
          "color": "#555",
          "dash": "dot",
          "width": 1
         },
         "name": "-120.00 deg",
         "showlegend": false,
         "type": "scatter",
         "x": [
          -160.85975458455675,
          -155.63827622502686,
          -153.78618641032358,
          -151.90142366468808,
          -151.42698510516857,
          -150.95176089075574,
          -150.76150959030122,
          -150.57119105676304,
          -150.47601182200208,
          -150.3808220750226,
          -150.2856239170145,
          -150.19041945000328,
          -150.09521077664158,
          -150,
          -149.90478922335848,
          -149.80958054999678,
          -149.7143760829855,
          -149.6191779249774,
          -149.52398817799798,
          -149.42880894323696,
          -149.23849040969878,
          -149.04823910924426,
          -148.57301489483143,
          -148.09857633531192,
          -146.21381358967642,
          -144.3617237749731,
          -142.55707898477175,
          -140.81292692355936,
          -139.14024541544325,
          -134.62669831347796,
          -130.9383012798706,
          -127.24783266092788,
          -124.71500395394821,
          -121.54431183546006,
          -120.49371514890686,
          -120.04959479080003
         ],
         "y": [
          -2.436272660456205,
          -3.4422186673114457,
          -3.84762884451815,
          -4.29037960222416,
          -4.40699921593907,
          -4.526008275446839,
          -4.57428211823914,
          -4.622939314369939,
          -4.647411727484515,
          -4.671980041652243,
          -4.696644271172273,
          -4.721404427168291,
          -4.746260517586929,
          -4.771212547196625,
          -4.79626051758693,
          -4.821404427168288,
          -4.846644271172273,
          -4.871980041652241,
          -4.897411727484514,
          -4.922939314369941,
          -4.974282118239141,
          -5.02600827544684,
          -5.156999215939071,
          -5.290379602224159,
          -5.847628844518153,
          -6.442218667311449,
          -7.072958558444331,
          -7.738271724514311,
          -8.436272660456206,
          -10.704688157932988,
          -13.186893456343654,
          -16.732079592455978,
          -20.453229787866576,
          -30.139417000675234,
          -40.043643711077515,
          -60.004345113397235
         ]
        },
        {
         "hoverinfo": "name",
         "line": {
          "color": "#555",
          "dash": "dot",
          "width": 1
         },
         "name": "-150.00 deg",
         "showlegend": false,
         "type": "scatter",
         "x": [
          -170.08784826393844,
          -167.62337785672628,
          -166.75918441304157,
          -165.8827080470444,
          -165.6623735482899,
          -165.44174564647267,
          -165.35343415933335,
          -165.26509758258123,
          -165.22092184347468,
          -165.17674218217348,
          -165.1325593827711,
          -165.08837422959118,
          -165.04418750713023,
          -165,
          -164.95581249286977,
          -164.91162577040882,
          -164.86744061722902,
          -164.82325781782652,
          -164.77907815652532,
          -164.73490241741877,
          -164.64656584066665,
          -164.55825435352733,
          -164.3376264517102,
          -164.1172919529556,
          -163.24081558695843,
          -162.37662214327372,
          -161.53041331657028,
          -160.70739357548985,
          -159.91215173606156,
          -157.72822707501405,
          -155.8894881368641,
          -153.98596123499692,
          -152.6346060185233,
          -150.88170774429364,
          -150.28401689265309,
          -150.02862309904242
         ],
         "y": [
          -3.2618637150774954,
          -4.357464956087062,
          -4.781008157812972,
          -5.234889529168014,
          -5.353148423971277,
          -5.473330927281008,
          -5.521943113599203,
          -5.570863587065885,
          -5.595439459606192,
          -5.620092434585043,
          -5.644822518988903,
          -5.669629718252307,
          -5.694514036257395,
          -5.719475475333596,
          -5.744514036257396,
          -5.769629718252306,
          -5.794822518988905,
          -5.820092434585046,
          -5.845439459606192,
          -5.870863587065886,
          -5.921943113599205,
          -5.9733309272810065,
          -6.103148423971275,
          -6.234889529168011,
          -6.781008157812972,
          -7.357464956087063,
          -7.963662913962381,
          -8.598793860490886,
          -9.261863715077498,
          -11.406608921751245,
          -13.75560292379796,
          -17.138198674062732,
          -20.730600258806064,
          -30.235702451504753,
          -40.07500487427773,
          -60.00752002960971
         ]
        },
        {
         "hoverinfo": "name",
         "line": {
          "color": "#555",
          "dash": "dot",
          "width": 1
         },
         "name": "-180.00 deg",
         "showlegend": false,
         "type": "scatter",
         "x": [
          -180,
          -180,
          -180,
          -180,
          -180,
          -180,
          -180,
          -180,
          -180,
          -180,
          -180,
          -180,
          -180,
          -180,
          -180,
          -180,
          -180,
          -180,
          -180,
          -180,
          -180,
          -180,
          -180,
          -180,
          -180,
          -180,
          -180,
          -180,
          -180,
          -180,
          -180,
          -180,
          -180,
          -180,
          -180,
          -180
         ],
         "y": [
          -3.528697248729707,
          -4.649481613751726,
          -5.078037820877343,
          -5.534983129163744,
          -5.653692425461207,
          -5.774197205849433,
          -5.82290229493352,
          -5.871895053021047,
          -5.896499329536557,
          -5.921175546836581,
          -5.94592371028475,
          -5.970743824053145,
          -5.995635891122028,
          -6.020599913279624,
          -6.045635891122028,
          -6.070743824053146,
          -6.095923710284749,
          -6.121175546836581,
          -6.146499329536558,
          -6.17189505302105,
          -6.222902294933521,
          -6.2741972058494335,
          -6.403692425461207,
          -6.534983129163744,
          -7.078037820877343,
          -7.6494816137517265,
          -8.248852055886793,
          -8.875518407124991,
          -9.528697248729706,
          -11.637589600041242,
          -13.946455874173909,
          -17.277840682867595,
          -20.8278537031645,
          -30.27041844216076,
          -40.086427475652854,
          -60.00868154958637
         ]
        },
        {
         "hoverinfo": "name",
         "line": {
          "color": "#555",
          "dash": "dot",
          "width": 1
         },
         "name": "-180.00 deg",
         "showlegend": false,
         "type": "scatter",
         "x": [
          -180,
          -180,
          -180,
          -180,
          -180,
          -180,
          -180,
          -180,
          -180,
          -180,
          -180,
          -180,
          -180,
          -180,
          -180,
          -180,
          -180,
          -180,
          -180,
          -180,
          -180,
          -180,
          -180,
          -180,
          -180,
          -180,
          -180,
          -180,
          -180,
          -180,
          -180,
          -180,
          -180,
          -180,
          -180,
          -180
         ],
         "y": [
          -3.528697248729707,
          -4.649481613751726,
          -5.078037820877343,
          -5.534983129163744,
          -5.653692425461207,
          -5.774197205849433,
          -5.82290229493352,
          -5.871895053021047,
          -5.896499329536557,
          -5.921175546836581,
          -5.94592371028475,
          -5.970743824053145,
          -5.995635891122028,
          -6.020599913279624,
          -6.045635891122028,
          -6.070743824053146,
          -6.095923710284749,
          -6.121175546836581,
          -6.146499329536558,
          -6.17189505302105,
          -6.222902294933521,
          -6.2741972058494335,
          -6.403692425461207,
          -6.534983129163744,
          -7.078037820877343,
          -7.6494816137517265,
          -8.248852055886793,
          -8.875518407124991,
          -9.528697248729706,
          -11.637589600041242,
          -13.946455874173909,
          -17.277840682867595,
          -20.8278537031645,
          -30.27041844216076,
          -40.086427475652854,
          -60.00868154958637
         ]
        }
       ],
       "layout": {
        "template": {
         "data": {
          "bar": [
           {
            "error_x": {
             "color": "#2a3f5f"
            },
            "error_y": {
             "color": "#2a3f5f"
            },
            "marker": {
             "line": {
              "color": "#E5ECF6",
              "width": 0.5
             }
            },
            "type": "bar"
           }
          ],
          "barpolar": [
           {
            "marker": {
             "line": {
              "color": "#E5ECF6",
              "width": 0.5
             }
            },
            "type": "barpolar"
           }
          ],
          "carpet": [
           {
            "aaxis": {
             "endlinecolor": "#2a3f5f",
             "gridcolor": "white",
             "linecolor": "white",
             "minorgridcolor": "white",
             "startlinecolor": "#2a3f5f"
            },
            "baxis": {
             "endlinecolor": "#2a3f5f",
             "gridcolor": "white",
             "linecolor": "white",
             "minorgridcolor": "white",
             "startlinecolor": "#2a3f5f"
            },
            "type": "carpet"
           }
          ],
          "choropleth": [
           {
            "colorbar": {
             "outlinewidth": 0,
             "ticks": ""
            },
            "type": "choropleth"
           }
          ],
          "contour": [
           {
            "colorbar": {
             "outlinewidth": 0,
             "ticks": ""
            },
            "colorscale": [
             [
              0,
              "#0d0887"
             ],
             [
              0.1111111111111111,
              "#46039f"
             ],
             [
              0.2222222222222222,
              "#7201a8"
             ],
             [
              0.3333333333333333,
              "#9c179e"
             ],
             [
              0.4444444444444444,
              "#bd3786"
             ],
             [
              0.5555555555555556,
              "#d8576b"
             ],
             [
              0.6666666666666666,
              "#ed7953"
             ],
             [
              0.7777777777777778,
              "#fb9f3a"
             ],
             [
              0.8888888888888888,
              "#fdca26"
             ],
             [
              1,
              "#f0f921"
             ]
            ],
            "type": "contour"
           }
          ],
          "contourcarpet": [
           {
            "colorbar": {
             "outlinewidth": 0,
             "ticks": ""
            },
            "type": "contourcarpet"
           }
          ],
          "heatmap": [
           {
            "colorbar": {
             "outlinewidth": 0,
             "ticks": ""
            },
            "colorscale": [
             [
              0,
              "#0d0887"
             ],
             [
              0.1111111111111111,
              "#46039f"
             ],
             [
              0.2222222222222222,
              "#7201a8"
             ],
             [
              0.3333333333333333,
              "#9c179e"
             ],
             [
              0.4444444444444444,
              "#bd3786"
             ],
             [
              0.5555555555555556,
              "#d8576b"
             ],
             [
              0.6666666666666666,
              "#ed7953"
             ],
             [
              0.7777777777777778,
              "#fb9f3a"
             ],
             [
              0.8888888888888888,
              "#fdca26"
             ],
             [
              1,
              "#f0f921"
             ]
            ],
            "type": "heatmap"
           }
          ],
          "heatmapgl": [
           {
            "colorbar": {
             "outlinewidth": 0,
             "ticks": ""
            },
            "colorscale": [
             [
              0,
              "#0d0887"
             ],
             [
              0.1111111111111111,
              "#46039f"
             ],
             [
              0.2222222222222222,
              "#7201a8"
             ],
             [
              0.3333333333333333,
              "#9c179e"
             ],
             [
              0.4444444444444444,
              "#bd3786"
             ],
             [
              0.5555555555555556,
              "#d8576b"
             ],
             [
              0.6666666666666666,
              "#ed7953"
             ],
             [
              0.7777777777777778,
              "#fb9f3a"
             ],
             [
              0.8888888888888888,
              "#fdca26"
             ],
             [
              1,
              "#f0f921"
             ]
            ],
            "type": "heatmapgl"
           }
          ],
          "histogram": [
           {
            "marker": {
             "colorbar": {
              "outlinewidth": 0,
              "ticks": ""
             }
            },
            "type": "histogram"
           }
          ],
          "histogram2d": [
           {
            "colorbar": {
             "outlinewidth": 0,
             "ticks": ""
            },
            "colorscale": [
             [
              0,
              "#0d0887"
             ],
             [
              0.1111111111111111,
              "#46039f"
             ],
             [
              0.2222222222222222,
              "#7201a8"
             ],
             [
              0.3333333333333333,
              "#9c179e"
             ],
             [
              0.4444444444444444,
              "#bd3786"
             ],
             [
              0.5555555555555556,
              "#d8576b"
             ],
             [
              0.6666666666666666,
              "#ed7953"
             ],
             [
              0.7777777777777778,
              "#fb9f3a"
             ],
             [
              0.8888888888888888,
              "#fdca26"
             ],
             [
              1,
              "#f0f921"
             ]
            ],
            "type": "histogram2d"
           }
          ],
          "histogram2dcontour": [
           {
            "colorbar": {
             "outlinewidth": 0,
             "ticks": ""
            },
            "colorscale": [
             [
              0,
              "#0d0887"
             ],
             [
              0.1111111111111111,
              "#46039f"
             ],
             [
              0.2222222222222222,
              "#7201a8"
             ],
             [
              0.3333333333333333,
              "#9c179e"
             ],
             [
              0.4444444444444444,
              "#bd3786"
             ],
             [
              0.5555555555555556,
              "#d8576b"
             ],
             [
              0.6666666666666666,
              "#ed7953"
             ],
             [
              0.7777777777777778,
              "#fb9f3a"
             ],
             [
              0.8888888888888888,
              "#fdca26"
             ],
             [
              1,
              "#f0f921"
             ]
            ],
            "type": "histogram2dcontour"
           }
          ],
          "mesh3d": [
           {
            "colorbar": {
             "outlinewidth": 0,
             "ticks": ""
            },
            "type": "mesh3d"
           }
          ],
          "parcoords": [
           {
            "line": {
             "colorbar": {
              "outlinewidth": 0,
              "ticks": ""
             }
            },
            "type": "parcoords"
           }
          ],
          "pie": [
           {
            "automargin": true,
            "type": "pie"
           }
          ],
          "scatter": [
           {
            "marker": {
             "colorbar": {
              "outlinewidth": 0,
              "ticks": ""
             }
            },
            "type": "scatter"
           }
          ],
          "scatter3d": [
           {
            "line": {
             "colorbar": {
              "outlinewidth": 0,
              "ticks": ""
             }
            },
            "marker": {
             "colorbar": {
              "outlinewidth": 0,
              "ticks": ""
             }
            },
            "type": "scatter3d"
           }
          ],
          "scattercarpet": [
           {
            "marker": {
             "colorbar": {
              "outlinewidth": 0,
              "ticks": ""
             }
            },
            "type": "scattercarpet"
           }
          ],
          "scattergeo": [
           {
            "marker": {
             "colorbar": {
              "outlinewidth": 0,
              "ticks": ""
             }
            },
            "type": "scattergeo"
           }
          ],
          "scattergl": [
           {
            "marker": {
             "colorbar": {
              "outlinewidth": 0,
              "ticks": ""
             }
            },
            "type": "scattergl"
           }
          ],
          "scattermapbox": [
           {
            "marker": {
             "colorbar": {
              "outlinewidth": 0,
              "ticks": ""
             }
            },
            "type": "scattermapbox"
           }
          ],
          "scatterpolar": [
           {
            "marker": {
             "colorbar": {
              "outlinewidth": 0,
              "ticks": ""
             }
            },
            "type": "scatterpolar"
           }
          ],
          "scatterpolargl": [
           {
            "marker": {
             "colorbar": {
              "outlinewidth": 0,
              "ticks": ""
             }
            },
            "type": "scatterpolargl"
           }
          ],
          "scatterternary": [
           {
            "marker": {
             "colorbar": {
              "outlinewidth": 0,
              "ticks": ""
             }
            },
            "type": "scatterternary"
           }
          ],
          "surface": [
           {
            "colorbar": {
             "outlinewidth": 0,
             "ticks": ""
            },
            "colorscale": [
             [
              0,
              "#0d0887"
             ],
             [
              0.1111111111111111,
              "#46039f"
             ],
             [
              0.2222222222222222,
              "#7201a8"
             ],
             [
              0.3333333333333333,
              "#9c179e"
             ],
             [
              0.4444444444444444,
              "#bd3786"
             ],
             [
              0.5555555555555556,
              "#d8576b"
             ],
             [
              0.6666666666666666,
              "#ed7953"
             ],
             [
              0.7777777777777778,
              "#fb9f3a"
             ],
             [
              0.8888888888888888,
              "#fdca26"
             ],
             [
              1,
              "#f0f921"
             ]
            ],
            "type": "surface"
           }
          ],
          "table": [
           {
            "cells": {
             "fill": {
              "color": "#EBF0F8"
             },
             "line": {
              "color": "white"
             }
            },
            "header": {
             "fill": {
              "color": "#C8D4E3"
             },
             "line": {
              "color": "white"
             }
            },
            "type": "table"
           }
          ]
         },
         "layout": {
          "annotationdefaults": {
           "arrowcolor": "#2a3f5f",
           "arrowhead": 0,
           "arrowwidth": 1
          },
          "coloraxis": {
           "colorbar": {
            "outlinewidth": 0,
            "ticks": ""
           }
          },
          "colorscale": {
           "diverging": [
            [
             0,
             "#8e0152"
            ],
            [
             0.1,
             "#c51b7d"
            ],
            [
             0.2,
             "#de77ae"
            ],
            [
             0.3,
             "#f1b6da"
            ],
            [
             0.4,
             "#fde0ef"
            ],
            [
             0.5,
             "#f7f7f7"
            ],
            [
             0.6,
             "#e6f5d0"
            ],
            [
             0.7,
             "#b8e186"
            ],
            [
             0.8,
             "#7fbc41"
            ],
            [
             0.9,
             "#4d9221"
            ],
            [
             1,
             "#276419"
            ]
           ],
           "sequential": [
            [
             0,
             "#0d0887"
            ],
            [
             0.1111111111111111,
             "#46039f"
            ],
            [
             0.2222222222222222,
             "#7201a8"
            ],
            [
             0.3333333333333333,
             "#9c179e"
            ],
            [
             0.4444444444444444,
             "#bd3786"
            ],
            [
             0.5555555555555556,
             "#d8576b"
            ],
            [
             0.6666666666666666,
             "#ed7953"
            ],
            [
             0.7777777777777778,
             "#fb9f3a"
            ],
            [
             0.8888888888888888,
             "#fdca26"
            ],
            [
             1,
             "#f0f921"
            ]
           ],
           "sequentialminus": [
            [
             0,
             "#0d0887"
            ],
            [
             0.1111111111111111,
             "#46039f"
            ],
            [
             0.2222222222222222,
             "#7201a8"
            ],
            [
             0.3333333333333333,
             "#9c179e"
            ],
            [
             0.4444444444444444,
             "#bd3786"
            ],
            [
             0.5555555555555556,
             "#d8576b"
            ],
            [
             0.6666666666666666,
             "#ed7953"
            ],
            [
             0.7777777777777778,
             "#fb9f3a"
            ],
            [
             0.8888888888888888,
             "#fdca26"
            ],
            [
             1,
             "#f0f921"
            ]
           ]
          },
          "colorway": [
           "#636efa",
           "#EF553B",
           "#00cc96",
           "#ab63fa",
           "#FFA15A",
           "#19d3f3",
           "#FF6692",
           "#B6E880",
           "#FF97FF",
           "#FECB52"
          ],
          "font": {
           "color": "#2a3f5f"
          },
          "geo": {
           "bgcolor": "white",
           "lakecolor": "white",
           "landcolor": "#E5ECF6",
           "showlakes": true,
           "showland": true,
           "subunitcolor": "white"
          },
          "hoverlabel": {
           "align": "left"
          },
          "hovermode": "closest",
          "mapbox": {
           "style": "light"
          },
          "paper_bgcolor": "white",
          "plot_bgcolor": "#E5ECF6",
          "polar": {
           "angularaxis": {
            "gridcolor": "white",
            "linecolor": "white",
            "ticks": ""
           },
           "bgcolor": "#E5ECF6",
           "radialaxis": {
            "gridcolor": "white",
            "linecolor": "white",
            "ticks": ""
           }
          },
          "scene": {
           "xaxis": {
            "backgroundcolor": "#E5ECF6",
            "gridcolor": "white",
            "gridwidth": 2,
            "linecolor": "white",
            "showbackground": true,
            "ticks": "",
            "zerolinecolor": "white"
           },
           "yaxis": {
            "backgroundcolor": "#E5ECF6",
            "gridcolor": "white",
            "gridwidth": 2,
            "linecolor": "white",
            "showbackground": true,
            "ticks": "",
            "zerolinecolor": "white"
           },
           "zaxis": {
            "backgroundcolor": "#E5ECF6",
            "gridcolor": "white",
            "gridwidth": 2,
            "linecolor": "white",
            "showbackground": true,
            "ticks": "",
            "zerolinecolor": "white"
           }
          },
          "shapedefaults": {
           "line": {
            "color": "#2a3f5f"
           }
          },
          "ternary": {
           "aaxis": {
            "gridcolor": "white",
            "linecolor": "white",
            "ticks": ""
           },
           "baxis": {
            "gridcolor": "white",
            "linecolor": "white",
            "ticks": ""
           },
           "bgcolor": "#E5ECF6",
           "caxis": {
            "gridcolor": "white",
            "linecolor": "white",
            "ticks": ""
           }
          },
          "title": {
           "x": 0.05
          },
          "xaxis": {
           "automargin": true,
           "gridcolor": "white",
           "linecolor": "white",
           "ticks": "",
           "title": {
            "standoff": 15
           },
           "zerolinecolor": "white",
           "zerolinewidth": 2
          },
          "yaxis": {
           "automargin": true,
           "gridcolor": "white",
           "linecolor": "white",
           "ticks": "",
           "title": {
            "standoff": 15
           },
           "zerolinecolor": "white",
           "zerolinewidth": 2
          }
         }
        },
        "xaxis": {
         "title": {
          "text": "Open-Loop Phase (deg)"
         }
        },
        "yaxis": {
         "title": {
          "text": "Open-Loop Gain (dB)"
         }
        }
       }
      },
      "text/html": [
       "<div>                            <div id=\"f6b076c4-fb1b-4cab-b249-4fb56f186c84\" class=\"plotly-graph-div\" style=\"height:525px; width:100%;\"></div>            <script type=\"text/javascript\">                require([\"plotly\"], function(Plotly) {                    window.PLOTLYENV=window.PLOTLYENV || {};                                    if (document.getElementById(\"f6b076c4-fb1b-4cab-b249-4fb56f186c84\")) {                    Plotly.newPlot(                        \"f6b076c4-fb1b-4cab-b249-4fb56f186c84\",                        [{\"hoverinfo\": \"none\", \"marker\": {\"line\": {\"color\": \"#FF0000\", \"width\": 1}, \"size\": 3}, \"mode\": \"markers\", \"showlegend\": false, \"type\": \"scatter\", \"x\": [-180], \"y\": [0]}, {\"hovertemplate\": \"<b>w</b>: %{text:.3f} rad/s<br><b>mag</b>: %{y:.3f} dB<br><b>phase</b>: %{x:.3f} deg<br>\", \"line\": {\"color\": \"#1f77b4\"}, \"name\": \"sys\", \"showlegend\": false, \"text\": [0.31622776601683794, 0.3351602650938842, 0.35522624946166637, 0.3764935806792468, 0.39903418316493794, 0.4229242874389499, 0.44824468792893096, 0.4750810162102797, 0.503524030605304, 0.533669923120631, 0.5656206447609019, 0.599484250318941, 0.6353752638084484, 0.6734150657750821, 0.7137323037957845, 0.7564633275546289, 0.8017526499665792, 0.8497534359086443, 0.9006280202112785, 0.954548456661834, 1.0116970998767498, 1.072267222010323, 1.1364636663857248, 1.204503540258782, 1.276616949057408, 1.3530477745798069, 1.4340544997832723, 1.5199110829529336, 1.6109078842068332, 1.7073526474706904, 1.809571541243321, 1.9179102616724883, 2.0327352016717124, 2.154434690031884, 2.2834203047182715, 2.420128264794382, 2.5650209056800453, 2.718588242732941, 2.881349628441461, 3.0538555088334154, 3.2366892850406033, 3.4304692863149175, 3.6358508611685774, 3.8535285937105295, 4.084238652674522, 4.328761281083057, 4.587923434967087, 4.862601580065354, 5.153724655961635, 5.462277217684343, 5.789302765393119, 6.1359072734131725, 6.503262930552246, 6.892612104349698, 7.305271542664452, 7.742636826811269, 8.20618709130545, 8.697490026177835, 9.218207178777465, 9.770099572992251, 10.355033664891309, 10.974987654930562, 11.632058178068945, 12.32846739442066, 13.066570504423456, 13.848863713938732, 14.677992676220699, 15.556761439304715, 16.488141929074178, 17.47528400007684, 18.521526088081725, 19.630406500402703, 20.805675382171703, 22.051307399030456, 23.371515179132786, 24.7707635599171, 26.25378468783062, 27.825594022071243, 29.491507296470683, 31.25715849688235, 33.12851891487237, 35.11191734215131, 37.21406147404327, 39.442060594376564, 41.803449618514534, 44.30621457583882, 46.95881961786354, 49.77023564332109, 52.749970637026195, 55.90810182512222, 59.25530975545674, 62.80291441834253, 66.56291352986194, 70.54802310718645, 74.77172047313223, 79.24828983539169, 83.99287059458466, 89.02150854450383, 94.35121013771044, 100.0], \"type\": \"scatter\", \"x\": [-43.491519345092, -45.156583726434704, -46.82111945854561, -48.47952321569352, -50.12629427367053, -51.75612407190325, -53.3639781435835, -54.94516748787743, -56.49540719468254, -58.0108609707281, -59.48817107175592, -60.924473942254345, -62.3174025414114, -63.6650768528803, -64.96608442049741, -66.21945292630004, -67.4246168505183, -68.58138015483566, -69.6898767434655, -70.75053021440212, -71.76401414482159, -72.73121388374719, -73.65319056925954, -74.53114785825352, -75.36640166035481, -76.16035300631589, -76.91446405420838, -77.63023714122168, -78.30919672093839, -78.9528739811866, -79.56279391155907, -80.14046457832934, -80.68736836415155, -81.20495493750514, -81.69463572980584, -82.15777971442873, -82.59571030002438, -83.00970316929404, -83.40098491299189, -83.77073232676746, -84.12007225518089, -84.450081882607, -84.76178938468844, -85.05617486648923, -85.33417152457714, -85.59666698000234, -85.84450473763837, -86.0784857347217, -86.2993699477778, -86.5078780325703, -86.70469297635624, -86.89046174568173, -87.06579691628944, -87.23127827452345, -87.38745438197449, -87.5348440970776, -87.67393804901117, -87.8052000605982, -87.92906851802506, -88.0459576861017, -88.15625896852701, -88.26034211321702, -88.35855636322883, -88.45123155418614, -88.53867915940265, -88.62119328411961, -88.69905161043711, -88.7725162946337, -88.84183481864699, -88.90724079753176, -88.96895474473354, -89.027184797014, -89.08212740084785, -89.13396796208166, -89.18288146060485, -89.2290330317362, -89.27257851597683, -89.31366497872324, -89.3524312014755, -89.38900814601449, -89.42351939296043, -89.45608155606389, -89.48680467351896, -89.51579257752896, -89.54314324329597, -89.5689491185482, -89.59329743466505, -89.61627050040467, -89.63794597918896, -89.65839715085065, -89.67769315870022, -89.69589924272488, -89.71307695968912, -89.72928439086454, -89.74457633807796, -89.7590045087292, -89.77261769039461, -89.78546191559863, -89.79758061730399, -89.80901477564038], \"y\": [3.233063903751334, 2.9864972838475374, 2.7252560125494756, 2.4493987752116517, 2.1590815166669204, 1.8545533121183362, 1.5361499093754751, 1.204285291183048, 0.8594416940962617, 0.5021585706967283, 0.13302099383155647, -0.247352021764094, -0.6383188570668835, -1.0392259342579406, -1.4494174018200385, -1.868243676479424, -2.295068740244735, -2.7292761622274524, -3.170273873739262, -3.6174977701375304, -4.070414244280675, -4.528521775542059, -4.9913517070087075, -5.45846834391257, -5.929468500648971, -6.403980613880098, -6.881663526860759, -7.362205036587895, -7.84532028166868, -8.330750035634031, -8.818258958257761, -9.307633846540888, -9.798681917500966, -10.291229146774988, -10.78511868023757, -11.280209330244134, -11.77637416360042, -12.2734991847934, -12.77148211525639, -13.270231267352536, -13.76966451022724, -14.269708323597643, -14.770296934825335, -15.271371534180378, -15.772879562986882, -16.274774069289315, -16.777013125752006, -17.279559304667004, -17.782379205170475, -18.285443028033253, -18.78872419368063, -19.292198999397343, -19.795846311976188, -20.299647292366274, -20.803585149164295, -21.307644918066394, -21.811813264656625, -22.31607830815002, -22.82042946393299, -23.324857302951205, -23.82935342618582, -24.333910352633538, -24.83852141936509, -25.343180692381434, -25.84788288711829, -26.352623297568346, -26.857397733097788, -27.362202462130295, -27.867034161959037, -28.37188987402506, -28.87676696407107, -29.38166308664239, -29.886576153463544, -30.39150430526948, -30.896445886715675, -31.401399424031954, -31.906363605121044, -32.41133726183521, -32.9163193541933, -33.42130895632626, -33.926305243962254, -34.43130748328298, -34.93631502100142, -35.44132727552709, -35.946343729099894, -36.451363920786655, -36.956387440245436, -37.461413922174025, -37.96644304136721, -38.47147450831629, -38.9765080652915, -39.481543482854065, -39.9865805567511, -40.49161910515124, -40.9966589661835, -41.50169999574645, -42.00674206555761, -42.511785061417, -43.01682888166138, -43.52187343578798]}, {\"hovertemplate\": \"<b>w</b>: %{text:.3f} rad/s<br><b>mag</b>: %{y:.3f} dB<br><b>phase</b>: %{x:.3f} deg<br>\", \"line\": {\"color\": \"#ff7f0e\"}, \"name\": \"sys\", \"showlegend\": false, \"text\": [0.01, 0.011513953993264475, 0.013257113655901088, 0.015264179671752334, 0.017575106248547922, 0.020235896477251575, 0.023299518105153717, 0.02682695795279726, 0.030888435964774818, 0.03556480306223128, 0.040949150623804255, 0.04714866363457394, 0.054286754393238594, 0.06250551925273973, 0.07196856730011521, 0.08286427728546843, 0.09540954763499938, 0.10985411419875583, 0.12648552168552957, 0.14563484775012436, 0.16768329368110083, 0.19306977288832497, 0.22229964825261944, 0.2559547922699536, 0.29470517025518095, 0.3393221771895328, 0.3906939937054617, 0.44984326689694465, 0.517947467923121, 0.5963623316594643, 0.6866488450043002, 0.7906043210907697, 0.9102981779915218, 1.0481131341546852, 1.2067926406393288, 1.3894954943731375, 1.5998587196060574, 1.8420699693267164, 2.1209508879201904, 2.44205309454865, 2.8117686979742307, 3.2374575428176433, 3.727593720314938, 4.291934260128778, 4.941713361323833, 5.689866029018293, 6.551285568595509, 7.543120063354615, 8.68511373751352, 10.0], \"type\": \"scatter\", \"x\": [-1.7183580016554576, -1.9783163552038507, -2.2775296543513024, -2.621887580926553, -3.018143535903415, -3.4740308162838067, -3.998388832212787, -4.601297042217597, -5.29421204217926, -6.090099797051444, -7.0035498420577404, -8.050850757483278, -9.249995612319411, -10.62057174342165, -12.183471058633414, -13.960336218901933, -15.972638505271515, -18.2402736673239, -20.779578372104734, -23.600735428782933, -26.70467681315222, -30.079822458504943, -33.69928015277267, -37.51937456048284, -41.48039707635546, -45.510107187968295, -49.52976488178309, -53.46159760171068, -57.2360485813597, -60.79724071012826, -64.10576879216751, -67.13881646827625, -69.88826058983786, -72.35768000573735, -74.55908846918453, -76.50994310554435, -78.23070081980188, -79.74298781070414, -81.06832766910901, -82.22732294449304, -83.23917720036215, -84.1214578058743, -84.89002018067808, -85.55903460527882, -86.14107395629053, -86.647234072461, -87.08726821837962, -87.46972397205626, -87.80207553550855, -88.09084756700362], \"y\": [19.9960931075009, 19.99482134663979, 19.99313593272567, 19.990902568200163, 19.98794354091393, 19.98402383028743, 19.978832873167253, 19.97196071343044, 19.962866944916346, 19.95084051277907, 19.93494810357339, 19.913968612748857, 19.886311186325972, 19.849914862469625, 19.80212932365275, 19.739579350383657, 19.658021068703537, 19.55220684234511, 19.415788026297804, 19.241299634539196, 19.020284165045304, 18.743614945443376, 18.40206033578506, 17.98707856203113, 17.49175112608747, 16.91167652984854, 16.245602342095463, 15.495614015307682, 14.666822677568494, 13.766646579609807, 12.803886894124375, 11.787815558509694, 10.727433612491247, 9.630969518692602, 8.50561137656898, 7.357424108028109, 6.1913904588894955, 5.011521366758906, 3.820995464287631, 2.622301941509044, 1.417372471583527, 0.20769577505234033, -1.0055867965820457, -2.221603671784101, -3.439691286710447, -4.659345588406524, -5.8801843473992355, -7.101918090058913, -8.324327804072167, -9.54724790979063]}, {\"hoverinfo\": \"name\", \"line\": {\"color\": \"#555\", \"dash\": \"dot\", \"width\": 1}, \"name\": \"6.00 dB\", \"showlegend\": false, \"type\": \"scatter\", \"x\": [-181.0044525859156, -182.00706208752763, -183.0059994899574, -183.99946365000403, -184.98569457347367, -187.408591693385, -189.75111962661822, -194.11400997325404, -197.95308877480693, -201.2110046386224, -203.882655271241, -208.76368925804854, -210.07854669531383, -209.08573699075276, -206.61944411079287, -203.19624885388873, -199.14024541544325, -194.6633656344593, -189.91215173606156, -181.66883360739166, -180.0, -178.33116639260837, -170.08784826393844, -165.33663436554068, -160.85975458455675, -156.8037511461113, -153.38055588920716, -150.91426300924724, -149.92145330468617, -151.23631074195146, -156.11734472875898, -158.78899536137763, -162.04691122519313, -165.88599002674593, -170.24888037338178, -172.59140830661497, -175.0143054265264, -176.00053634999594, -176.99400051004255, -177.99293791247237, -178.9955474140844], \"y\": [6.038584887637681, 6.030603754626434, 6.017337064173958, 5.998837145331412, 5.975176335900421, 5.894089570862205, 5.783261698845564, 5.4826074459056695, 5.096695738427625, 4.650493262050236, 4.166800369039922, 2.6567802911877996, 1.2493792041125524, 0.03595583500082545, -0.9732279370869548, -1.7915587587987878, -2.436272660456205, -2.922504047148822, -3.2618637150774954, -3.5213402361322443, -3.528697248729707, -3.5213402361322443, -3.261863715077498, -2.9225040471488253, -2.4362726604562077, -1.7915587587987878, -0.9732279370869548, 0.03595583500082353, 1.2493792041125524, 2.6567802911877987, 4.166800369039918, 4.650493262050238, 5.096695738427627, 5.482607445905669, 5.783261698845564, 5.894089570862203, 5.975176335900418, 5.998837145331412, 6.017337064173956, 6.030603754626437, 6.038584887637679]}, {\"hoverinfo\": \"name\", \"line\": {\"color\": \"#555\", \"dash\": \"dot\", \"width\": 1}, \"name\": \"0.00 dB\", \"showlegend\": false, \"type\": \"scatter\", \"x\": [-269.4999999999999, -268.99999999999994, -268.50000000000006, -268.00000000000006, -267.5, -266.25, -265.0, -262.5, -260.0, -257.5, -255.0, -247.5, -240.0, -232.5, -225.0, -217.5, -210.0, -202.5, -195.0, -182.5, -180.0, -177.5, -165.0, -157.5, -150.0, -142.5, -135.0, -127.5, -120.0, -112.5, -105.0, -102.5, -100.0, -97.5, -95.0, -93.75, -92.5, -92.0, -91.5, -91.00000000000006, -90.50000000000011], \"y\": [35.16256289318372, 29.14229371826325, 25.62101977894313, 23.123016808799058, 21.185808854403394, 17.667429531589104, 15.173479920117972, 11.665446712198822, 9.185995486488366, 7.272665074459145, 5.719475475333597, 2.322606875058725, 0.0, -1.7095424698920367, -3.0102999566398116, -4.009933005441557, -4.771212547196625, -5.332906831698536, -5.719475475333596, -6.0123289342854225, -6.020599913279624, -6.0123289342854225, -5.719475475333596, -5.332906831698536, -4.771212547196625, -4.009933005441557, -3.0102999566398125, -1.709542469892039, 0.0, 2.3226068750587205, 5.719475475333587, 7.27266507445915, 9.18599548648837, 11.665446712198822, 15.17347992011797, 17.667429531589097, 21.185808854403376, 23.12301680879902, 25.621019778943044, 29.142293718263286, 35.1625628931837]}, {\"hoverinfo\": \"name\", \"line\": {\"color\": \"#555\", \"dash\": \"dot\", \"width\": 1}, \"name\": \"-5.00 dB\", \"showlegend\": false, \"type\": \"scatter\", \"x\": [-357.7156461901543, -355.4344760458533, -353.1596383215088, -350.89421290039166, -348.6411786888659, -343.08110719284156, -337.655658142777, -327.32791659155833, -317.81176103888635, -309.14193573202044, -301.2731626748182, -281.57023940198087, -265.8826332806969, -252.5557488275415, -240.64915314981818, -229.631213606674, -219.18707307644064, -209.11864001577317, -199.29260642451015, -183.2007348379094, -180.0, -176.79926516209062, -160.70739357548985, -150.8813599842268, -140.8129269235594, -130.36878639332593, -119.3508468501818, -107.44425117245856, -94.1173667193031, -78.42976059801913, -58.726837325181805, -50.85806426797956, -42.188238961113655, -32.67208340844161, -22.344341857223014, -16.918892807158443, -11.35882131113408, -9.105787099608392, -6.84036167849132, -4.565523954146727, -2.2843538098456975], \"y\": [2.1734071144866545, 2.16178287503579, 2.1424819285456818, 2.115612065794011, 2.0813214716986472, 1.964434082831654, 1.8061996909436415, 1.385219595998124, 0.8607727963741443, 0.2736183229458929, -0.3431048799285491, -2.16801908991087, -3.7730593229328253, -5.107825341480714, -6.193310480660946, -7.061015531352676, -7.738271724514311, -8.245907761671381, -8.598793860490886, -8.867897044997598, -8.875518407124991, -8.867897044997598, -8.598793860490886, -8.24590776167138, -7.738271724514313, -7.061015531352676, -6.193310480660946, -5.1078253414807175, -3.7730593229328253, -2.1680190899108718, -0.34310487992855515, 0.2736183229458966, 0.8607727963741427, 1.385219595998124, 1.8061996909436415, 1.9644340828316524, 2.0813214716986486, 2.1156120657940125, 2.1424819285456818, 2.16178287503579, 2.1734071144866545]}, {\"hoverinfo\": \"name\", \"line\": {\"color\": \"#555\", \"dash\": \"dot\", \"width\": 1}, \"name\": \"-20.00 dB\", \"showlegend\": false, \"type\": \"scatter\", \"x\": [-358.8888965493027, -357.7778390541404, -356.66687343532357, -355.5560455442723, -354.44540112846903, -351.66989167066737, -348.89652075551027, -343.3589703285723, -337.8381516710673, -332.33916301626834, -326.8667171206091, -310.64868408641405, -294.79128089714493, -279.3371191156383, -264.28940686250036, -249.6211360082914, -235.2849960460518, -221.22162278409758, -207.3653939814767, -184.54588366326493, -180.0, -175.45411633673513, -152.63460601852324, -138.77837721590248, -124.71500395394821, -110.37886399170858, -95.71059313749964, -80.6628808843617, -65.20871910285507, -49.35131591358595, -33.13328287939095, -27.660836983731656, -22.161848328932706, -16.641029671427702, -11.103479244489733, -8.330108329332631, -5.55459887153097, -4.443954455727749, -3.3331265646764905, -2.2221609458596276, -1.1111034506973283], \"y\": [-19.085013507081424, -19.085503375377726, -19.086319534008915, -19.08746155052706, -19.08892882019638, -19.094014462352902, -19.101110842980592, -19.121236166745526, -19.149042963976978, -19.184174848780152, -19.226190346310158, -19.38809146911957, -19.590413923210935, -19.81472569408657, -20.043213737826427, -20.260279180191155, -20.453229787866576, -20.612342803649057, -20.730600258806064, -20.825121237762787, -20.8278537031645, -20.825121237762787, -20.730600258806064, -20.612342803649057, -20.453229787866572, -20.26027918019116, -20.043213737826427, -19.81472569408657, -19.590413923210935, -19.38809146911957, -19.226190346310158, -19.184174848780152, -19.149042963976978, -19.121236166745526, -19.101110842980592, -19.094014462352902, -19.08892882019638, -19.08746155052706, -19.086319534008915, -19.085503375377726, -19.085013507081424]}, {\"hoverinfo\": \"name\", \"line\": {\"color\": \"#555\", \"dash\": \"dot\", \"width\": 1}, \"name\": \"-359.00 deg\", \"showlegend\": false, \"type\": \"scatter\", \"x\": [-181.0044525859156, -182.42156130189062, -183.8538273684054, -188.12984536554268, -190.9344158007773, -196.3718246156576, -200.26021663058145, -206.3114697592357, -210.7345808486815, -216.6635681171084, -224.80489618685647, -236.09043705087817, -251.24683800549047, -269.4999999999999, -287.753161994509, -302.90956294912127, -314.19510381314365, -322.3364318828915, -328.2654191513184, -332.6885302407641, -338.7397833694185, -342.62817538434234, -348.06558419922266, -350.87015463445726, -355.14617263159454, -356.5784386981094, -357.2913247216967, -357.7156461901543, -357.9955474140844, -358.45015168578016, -358.6645881674737, -358.8116765954827, -358.8888965493027, -358.96734639178396, -358.98989951835864, -358.9989990499713], \"y\": [6.038584887637681, 10.679764301197936, 13.711735715514646, 19.17292087222408, 21.473564446933352, 24.66386078734449, 26.351550772079545, 28.39588115905801, 29.582361840040452, 30.88405633953153, 32.272915503531166, 33.64360969507572, 34.739089603108305, 35.16256289318372, 34.689089603108336, 33.54360969507577, 32.12291550353115, 30.68405633953155, 29.33236184004049, 28.095881159058045, 25.951550772079585, 24.163860787344515, 20.723564446933352, 18.172920872224083, 11.711735715514651, 7.6797643011979355, 4.652344195068787, 2.1734071144866545, 0.03858488763767778, -5.194834381818714, -9.488041039111309, -14.50148872104064, -19.085013507081424, -29.72093593281454, -39.91271738956356, -59.99131109007229]}, {\"hoverinfo\": \"name\", \"line\": {\"color\": \"#555\", \"dash\": \"dot\", \"width\": 1}, \"name\": \"-355.00 deg\", \"showlegend\": false, \"type\": \"scatter\", \"x\": [-184.98569457347367, -191.8233626783699, -198.35224760736764, -214.7096153155495, -222.83943505774351, -234.1134646185559, -239.69796826647632, -245.92146539007024, -249.25835228553376, -252.72858723419097, -256.31341133172936, -259.989259045856, -263.7283959194501, -267.5, -271.27160408054976, -275.0107409541439, -278.6865886682707, -282.271412765809, -285.74164771446624, -289.07853460992976, -295.30203173352356, -300.88653538144405, -312.1605649422565, -320.29038468445054, -336.6477523926323, -343.1766373216301, -346.5786356017429, -348.6411786888659, -350.0143054265264, -352.26161474704355, -353.32748962319005, -354.06025738718597, -354.44540112846903, -354.8369507000331, -354.9495609798578, -354.9950013641784], \"y\": [5.975176335900421, 10.424714401516344, 13.15637722819709, 17.30269583621942, 18.59357019807048, 19.86570394081788, 20.318095967162986, 20.70337257062739, 20.862047629248345, 20.99332004959212, 21.093870457953344, 21.16082174212472, 21.1919404997191, 21.185808854403394, 21.1419404997191, 21.060821742124723, 20.943870457953345, 20.793320049592126, 20.61204762924834, 20.40337257062739, 19.918095967162994, 19.365703940817884, 17.843570198070484, 16.302695836219424, 11.156377228197092, 7.424714401516347, 4.50797988512989, 2.0813214716986472, -0.024823664099580364, -5.221788912123486, -9.502229976955315, -14.508583844447521, -19.08892882019638, -29.722005767179546, -39.91304111416505, -59.99134288302994]}, {\"hoverinfo\": \"name\", \"line\": {\"color\": \"#555\", \"dash\": \"dot\", \"width\": 1}, \"name\": \"-350.00 deg\", \"showlegend\": false, \"type\": \"scatter\", \"x\": [-189.75111962661822, -202.09598892987356, -212.35345913068954, -231.68544618825558, -238.7489296614017, -246.79435053744254, -250.2573865527558, -253.83501123894706, -255.65960361036178, -257.503659183197, -259.363585957195, -261.2355960478809, -263.1157490287522, -265.0, -266.8842509712478, -268.7644039521191, -270.6364140428051, -272.496340816803, -274.34039638963816, -276.1649887610529, -279.74261344724425, -283.20564946255746, -291.25107033859837, -298.3145538117444, -317.64654086931046, -327.9040110701264, -333.8610146236115, -337.655658142777, -340.2488803733818, -344.5899563733838, -346.68313903391805, -348.1321651543866, -348.89652075551027, -349.67526564124756, -349.8995174652041, -349.99004088458565], \"y\": [5.783261698845564, 9.714033764687105, 11.775956313081908, 14.099770859367858, 14.594923883885638, 14.97381756434649, 15.080414384505051, 15.15621710943876, 15.181648668301047, 15.1983486227364, 15.206059569200638, 15.204575519007793, 15.193746138850234, 15.173479920117972, 15.143746138850233, 15.104575519007792, 15.056059569200638, 14.9983486227364, 14.931648668301046, 14.856217109438761, 14.680414384505053, 14.473817564346486, 13.844923883885636, 13.099770859367856, 9.775956313081904, 6.714033764687107, 4.086501615929624, 1.8061996909436415, -0.21673830115443865, -5.304752563074492, -9.546163900231825, -14.530626329660187, -19.101110842980592, -29.725338912804, -39.914050057959166, -59.991441985000364]}, {\"hoverinfo\": \"name\", \"line\": {\"color\": \"#555\", \"dash\": \"dot\", \"width\": 1}, \"name\": \"-340.00 deg\", \"showlegend\": false, \"type\": \"scatter\", \"x\": [-197.95308877480693, -215.8791234237175, -226.9736814525869, -241.93858840592924, -246.25008326075692, -250.7317375930338, -252.56136781439045, -254.40686827358445, -255.33439270580863, -256.264451326916, -257.19654718906554, -258.13017678870557, -259.06483165862886, -260.0, -260.93516834137114, -261.8698232112944, -262.80345281093446, -263.735548673084, -264.6656072941914, -265.59313172641555, -267.43863218560955, -269.2682624069662, -273.7499167392431, -278.06141159407076, -293.02631854741304, -304.1208765762825, -312.0719845024495, -317.81176103888635, -322.0469112251931, -329.68216191155295, -333.58372479687006, -336.35562188095696, -337.8381516710673, -339.3613582271222, -339.8021787598649, -339.9803852582164], \"y\": [5.096695738427625, 7.678062347477537, 8.597793300386101, 9.232708314999615, 9.300350040488034, 9.318257934761284, 9.310284149791554, 9.293248860230516, 9.28126664709167, 9.26694607309168, 9.250270119069466, 9.231225451995389, 9.20980249648894, 9.185995486488366, 9.159802496488942, 9.13122545199539, 9.100270119069464, 9.06694607309168, 9.03126664709167, 8.993248860230516, 8.910284149791552, 8.818257934761286, 8.550350040488036, 8.232708314999616, 6.597793300386101, 4.678062347477541, 2.7305972432797097, 0.8607727963741443, -0.9033042615723732, -5.618708656914063, -9.715988750167744, -14.616875379452285, -19.149042963976978, -29.7385197635113, -39.91804519575886, -59.99183460526538]}, {\"hoverinfo\": \"name\", \"line\": {\"color\": \"#555\", \"dash\": \"dot\", \"width\": 1}, \"name\": \"-330.00 deg\", \"showlegend\": false, \"type\": \"scatter\", \"x\": [-203.882655271241, -222.4551688385875, -231.83973647604438, -242.88818452740378, -245.85243927303384, -248.87064427851567, -250.08929464488176, -251.3127394114194, -251.9258936010815, -252.53980424258486, -253.1543213605271, -253.769294105085, -254.3845709678439, -255.0, -255.6154290321561, -256.23070589491493, -256.84567863947296, -257.46019575741514, -258.0741063989185, -258.6872605885806, -259.9107053551182, -261.12935572148433, -264.14756072696616, -267.1118154725962, -278.16026352395556, -287.54483116141245, -295.1799121181876, -301.2731626748182, -306.117344728759, -315.6352523321829, -320.8811636256163, -324.7520018624275, -326.8667171206091, -329.06864784533053, -329.7110208991901, -329.97132728133215], \"y\": [4.166800369039922, 5.606844160199614, 5.932206248669415, 6.009559815241832, 5.975208936745101, 5.916081684987016, 5.8852313052469665, 5.850181404584557, 5.831068132828873, 5.8108902224713805, 5.78964427580763, 5.767327641665407, 5.7439384217734455, 5.719475475333597, 5.693938421773446, 5.667327641665408, 5.63964427580763, 5.610890222471382, 5.581068132828873, 5.5501814045845554, 5.485231305246967, 5.416081684987017, 5.2252089367451005, 5.009559815241831, 3.932206248669413, 2.6068441601996146, 1.1533437890942961, -0.3431048799285491, -1.8331996309600802, -6.087078338824387, -9.979764081669678, -14.754127901309044, -19.226190346310158, -29.75995677804501, -39.92456085295799, -59.99247562744764]}, {\"hoverinfo\": \"name\", \"line\": {\"color\": \"#555\", \"dash\": \"dot\", \"width\": 1}, \"name\": \"-310.00 deg\", \"showlegend\": false, \"type\": \"scatter\", \"x\": [-209.52730461324086, -224.8617597295535, -231.1899048297363, -237.97025516715092, -239.71356983065925, -241.46893619919013, -242.17358097759967, -242.8792695480219, -243.23242437600226, -243.58574287247382, -243.93919240648842, -244.2927402786603, -244.6463537381975, -245.0, -245.3536462618025, -245.7072597213397, -246.06080759351158, -246.41425712752618, -246.76757562399774, -247.12073045197803, -247.82641902240033, -248.53106380080987, -250.28643016934075, -252.02974483284908, -258.8100951702637, -265.1382402704465, -270.88476640555945, -275.9949524301256, -280.47269538675914, -290.6024276593667, -297.07594307104625, -302.30134107560315, -305.3198186609207, -308.583531731361, -309.55825809928365, -309.9560806642815], \"y\": [2.1690092783717687, 2.283613205343762, 2.1482066351372553, 1.8805110263369171, 1.7903185689185086, 1.690332235389074, 1.6475597573189855, 1.6031884953899582, 1.5804015444470143, 1.557212960058154, 1.5336222991170896, 1.5096292165861258, 1.4852334657955046, 1.4604348986575815, 1.4352334657955048, 1.4096292165861262, 1.3836222991170892, 1.357212960058154, 1.3304015444470128, 1.3031884953899575, 1.2475597573189858, 1.1903322353890728, 1.0403185689185093, 0.8805110263369176, 0.14820663513725413, -0.7163867946562369, -1.6861149823730335, -2.7327119599275056, -3.8309907216282335, -7.25914823540008, -10.693337314020894, -15.145382670060465, -19.451939759943034, -29.824279769303864, -39.944246119925026, -59.99441757441544]}, {\"hoverinfo\": \"name\", \"line\": {\"color\": \"#555\", \"dash\": \"dot\", \"width\": 1}, \"name\": \"-270.00 deg\", \"showlegend\": false, \"type\": \"scatter\", \"x\": [-206.61944411079287, -215.29642457077978, -218.46110795220994, -221.70905190957956, -222.52941048373117, -223.35180491824565, -223.6811819889183, -224.0107336090751, -224.1755612738757, -224.3404162425316, -224.50529305969962, -224.6701862664188, -224.8350904010141, -225.0, -225.1649095989859, -225.3298137335812, -225.49470694030038, -225.65958375746834, -225.8244387261243, -225.9892663909249, -226.3188180110817, -226.6481950817543, -227.47058951626883, -228.29094809042044, -231.53889204779006, -234.70357542922022, -237.7498224252065, -240.64915314981818, -243.38055588920713, -250.46463358891856, -255.89967637641075, -260.9941380290685, -264.28940686250036, -268.188751952672, -269.42706130231653, -269.9427042395855], \"y\": [-0.9732279370869548, -1.764348624364853, -2.124426027943395, -2.5390189104386724, -2.6514699297020368, -2.7674915645818707, -2.8149035000028793, -2.8628898500051885, -2.887098602924716, -2.91145114746676, -2.9359475265105246, -2.9605877734182884, -2.985371912026573, -3.0102999566398116, -3.035371912026572, -3.0605877734182907, -3.0859475265105245, -3.1114511474667603, -3.1370986029247168, -3.162889850005191, -3.2149035000028805, -3.2674915645818716, -3.4014699297020368, -3.539018910438671, -4.124426027943397, -4.764348624364852, -5.455404631092938, -6.193310480660946, -6.973227937086955, -9.514969420252301, -12.265723755961025, -16.10774225511957, -20.043213737826427, -30.00434077479319, -40.00043427276863, -60.000004342942646]}, {\"hoverinfo\": \"name\", \"line\": {\"color\": \"#555\", \"dash\": \"dot\", \"width\": 1}, \"name\": \"-240.00 deg\", \"showlegend\": false, \"type\": \"scatter\", \"x\": [-199.14024541544325, -204.36172377497314, -206.21381358967642, -208.09857633531192, -208.57301489483143, -209.04823910924426, -209.23849040969878, -209.42880894323696, -209.52398817799792, -209.6191779249774, -209.7143760829855, -209.80958054999672, -209.90478922335842, -210.0, -210.09521077664152, -210.19041945000322, -210.2856239170145, -210.3808220750226, -210.47601182200202, -210.57119105676304, -210.76150959030122, -210.95176089075574, -211.42698510516857, -211.90142366468808, -213.78618641032358, -215.6382762250269, -217.44292101522825, -219.18707307644064, -220.85975458455675, -225.37330168652204, -229.0616987201294, -232.75216733907212, -235.2849960460518, -238.45568816453994, -239.50628485109314, -239.95040520919997], \"y\": [-2.436272660456205, -3.4422186673114457, -3.84762884451815, -4.29037960222416, -4.40699921593907, -4.526008275446839, -4.57428211823914, -4.622939314369939, -4.647411727484515, -4.671980041652243, -4.696644271172273, -4.721404427168291, -4.746260517586929, -4.771212547196625, -4.79626051758693, -4.821404427168288, -4.846644271172273, -4.871980041652241, -4.897411727484514, -4.922939314369941, -4.974282118239141, -5.02600827544684, -5.156999215939071, -5.290379602224159, -5.847628844518153, -6.442218667311449, -7.072958558444331, -7.738271724514311, -8.436272660456206, -10.704688157932988, -13.186893456343654, -16.732079592455978, -20.453229787866576, -30.139417000675234, -40.043643711077515, -60.004345113397235]}, {\"hoverinfo\": \"name\", \"line\": {\"color\": \"#555\", \"dash\": \"dot\", \"width\": 1}, \"name\": \"-210.00 deg\", \"showlegend\": false, \"type\": \"scatter\", \"x\": [-189.91215173606156, -192.37662214327372, -193.24081558695843, -194.1172919529556, -194.3376264517101, -194.55825435352733, -194.64656584066665, -194.73490241741877, -194.77907815652532, -194.82325781782652, -194.8674406172289, -194.91162577040882, -194.95581249286977, -195.0, -195.04418750713023, -195.08837422959118, -195.13255938277098, -195.17674218217348, -195.22092184347468, -195.26509758258123, -195.35343415933335, -195.44174564647267, -195.6623735482898, -195.8827080470444, -196.75918441304157, -197.62337785672628, -198.46958668342972, -199.29260642451015, -200.08784826393844, -202.27177292498595, -204.1105118631359, -206.01403876500308, -207.3653939814767, -209.11829225570636, -209.71598310734691, -209.97137690095758], \"y\": [-3.2618637150774954, -4.357464956087062, -4.781008157812972, -5.234889529168014, -5.353148423971277, -5.473330927281008, -5.521943113599203, -5.570863587065885, -5.595439459606192, -5.620092434585043, -5.644822518988903, -5.669629718252307, -5.694514036257395, -5.719475475333596, -5.744514036257396, -5.769629718252306, -5.794822518988905, -5.820092434585046, -5.845439459606192, -5.870863587065886, -5.921943113599205, -5.9733309272810065, -6.103148423971275, -6.234889529168011, -6.781008157812972, -7.357464956087063, -7.963662913962381, -8.598793860490886, -9.261863715077498, -11.406608921751245, -13.75560292379796, -17.138198674062732, -20.730600258806064, -30.235702451504753, -40.07500487427773, -60.00752002960971]}, {\"hoverinfo\": \"name\", \"line\": {\"color\": \"#555\", \"dash\": \"dot\", \"width\": 1}, \"name\": \"-180.00 deg\", \"showlegend\": false, \"type\": \"scatter\", \"x\": [-180.0, -180.0, -180.0, -180.0, -180.0, -180.0, -180.0, -180.0, -180.0, -180.0, -180.0, -180.0, -180.0, -180.0, -180.0, -180.0, -180.0, -180.0, -180.0, -180.0, -180.0, -180.0, -180.0, -180.0, -180.0, -180.0, -180.0, -180.0, -180.0, -180.0, -180.0, -180.0, -180.0, -180.0, -180.0, -180.0], \"y\": [-3.528697248729707, -4.649481613751726, -5.078037820877343, -5.534983129163744, -5.653692425461207, -5.774197205849433, -5.82290229493352, -5.871895053021047, -5.896499329536557, -5.921175546836581, -5.94592371028475, -5.970743824053145, -5.995635891122028, -6.020599913279624, -6.045635891122028, -6.070743824053146, -6.095923710284749, -6.121175546836581, -6.146499329536558, -6.17189505302105, -6.222902294933521, -6.2741972058494335, -6.403692425461207, -6.534983129163744, -7.078037820877343, -7.6494816137517265, -8.248852055886793, -8.875518407124991, -9.528697248729706, -11.637589600041242, -13.946455874173909, -17.277840682867595, -20.8278537031645, -30.27041844216076, -40.086427475652854, -60.00868154958637]}, {\"hoverinfo\": \"name\", \"line\": {\"color\": \"#555\", \"dash\": \"dot\", \"width\": 1}, \"name\": \"-1.00 deg\", \"showlegend\": false, \"type\": \"scatter\", \"x\": [-178.9955474140844, -177.57843869810938, -176.1461726315946, -171.87015463445732, -169.0655841992227, -163.6281753843424, -159.73978336941855, -153.6885302407643, -149.2654191513185, -143.3364318828916, -135.19510381314353, -123.90956294912183, -108.75316199450953, -90.50000000000011, -72.24683800549099, -57.090437050878734, -45.804896186856354, -37.663568117108525, -31.734580848681617, -27.311469759235877, -21.26021663058151, -17.37182461565766, -11.934415800777344, -9.129845365542735, -4.853827368405462, -3.4215613018906197, -2.7086752783033035, -2.2843538098456975, -2.004452585915601, -1.5498483142198438, -1.3354118325262903, -1.1883234045172912, -1.1111034506973283, -1.0326536082160374, -1.0101004816413592, -1.001000950028697], \"y\": [6.038584887637681, 10.679764301197936, 13.711735715514646, 19.17292087222408, 21.473564446933352, 24.66386078734449, 26.351550772079545, 28.39588115905801, 29.582361840040452, 30.88405633953153, 32.272915503531166, 33.64360969507572, 34.739089603108305, 35.16256289318372, 34.689089603108336, 33.54360969507577, 32.12291550353115, 30.68405633953155, 29.33236184004049, 28.095881159058045, 25.951550772079585, 24.163860787344515, 20.723564446933352, 18.172920872224083, 11.711735715514651, 7.6797643011979355, 4.652344195068787, 2.1734071144866545, 0.03858488763767778, -5.194834381818714, -9.488041039111309, -14.50148872104064, -19.085013507081424, -29.72093593281454, -39.91271738956356, -59.99131109007229]}, {\"hoverinfo\": \"name\", \"line\": {\"color\": \"#555\", \"dash\": \"dot\", \"width\": 1}, \"name\": \"-5.00 deg\", \"showlegend\": false, \"type\": \"scatter\", \"x\": [-175.01430542652633, -168.1766373216301, -161.64775239263236, -145.2903846844505, -137.16056494225649, -125.8865353814441, -120.30203173352368, -114.07853460992976, -110.74164771446624, -107.27141276580903, -103.68658866827064, -100.01074095414401, -96.27160408054988, -92.5, -88.72839591945024, -84.9892590458561, -81.3134113317293, -77.72858723419102, -74.25835228553376, -70.92146539007024, -64.69796826647644, -59.11346461855595, -47.839435057743515, -39.709615315549456, -23.3522476073677, -16.823362678369904, -13.421364398257083, -11.35882131113408, -9.985694573473609, -7.738385252956448, -6.672510376809953, -5.93974261281403, -5.55459887153097, -5.163049299966872, -5.050439020142221, -5.004998635821607], \"y\": [5.975176335900421, 10.424714401516344, 13.15637722819709, 17.30269583621942, 18.59357019807048, 19.86570394081788, 20.318095967162986, 20.70337257062739, 20.862047629248345, 20.99332004959212, 21.093870457953344, 21.16082174212472, 21.1919404997191, 21.185808854403394, 21.1419404997191, 21.060821742124723, 20.943870457953345, 20.793320049592126, 20.61204762924834, 20.40337257062739, 19.918095967162994, 19.365703940817884, 17.843570198070484, 16.302695836219424, 11.156377228197092, 7.424714401516347, 4.50797988512989, 2.0813214716986472, -0.024823664099580364, -5.221788912123486, -9.502229976955315, -14.508583844447521, -19.08892882019638, -29.722005767179546, -39.91304111416505, -59.99134288302994]}, {\"hoverinfo\": \"name\", \"line\": {\"color\": \"#555\", \"dash\": \"dot\", \"width\": 1}, \"name\": \"-10.00 deg\", \"showlegend\": false, \"type\": \"scatter\", \"x\": [-170.24888037338178, -157.90401107012644, -147.64654086931046, -128.31455381174442, -121.25107033859831, -113.20564946255746, -109.7426134472442, -106.16498876105294, -104.34039638963822, -102.49634081680301, -100.63641404280497, -98.7644039521191, -96.88425097124781, -95.0, -93.11574902875219, -91.2355960478809, -89.36358595719491, -87.50365918319699, -85.65960361036184, -83.83501123894712, -80.25738655275575, -76.79435053744254, -68.74892966140163, -61.68544618825558, -42.353459130689544, -32.09598892987361, -26.13898537638852, -22.344341857223014, -19.75111962661822, -15.410043626616186, -13.316860966081947, -11.867834845613402, -11.103479244489733, -10.324734358752437, -10.100482534795901, -10.009959115414347], \"y\": [5.783261698845564, 9.714033764687105, 11.775956313081908, 14.099770859367858, 14.594923883885638, 14.97381756434649, 15.080414384505051, 15.15621710943876, 15.181648668301047, 15.1983486227364, 15.206059569200638, 15.204575519007793, 15.193746138850234, 15.173479920117972, 15.143746138850233, 15.104575519007792, 15.056059569200638, 14.9983486227364, 14.931648668301046, 14.856217109438761, 14.680414384505053, 14.473817564346486, 13.844923883885636, 13.099770859367856, 9.775956313081904, 6.714033764687107, 4.086501615929624, 1.8061996909436415, -0.21673830115443865, -5.304752563074492, -9.546163900231825, -14.530626329660187, -19.101110842980592, -29.725338912804, -39.914050057959166, -59.991441985000364]}, {\"hoverinfo\": \"name\", \"line\": {\"color\": \"#555\", \"dash\": \"dot\", \"width\": 1}, \"name\": \"-20.00 deg\", \"showlegend\": false, \"type\": \"scatter\", \"x\": [-162.04691122519307, -144.1208765762825, -133.0263185474131, -118.06141159407076, -113.74991673924308, -109.26826240696619, -107.43863218560955, -105.59313172641555, -104.66560729419137, -103.735548673084, -102.80345281093446, -101.86982321129443, -100.93516834137114, -100.0, -99.06483165862886, -98.13017678870563, -97.19654718906554, -96.264451326916, -95.33439270580863, -94.40686827358445, -92.56136781439045, -90.73173759303381, -86.25008326075692, -81.93858840592924, -66.97368145258696, -55.87912342371749, -47.92801549755052, -42.188238961113655, -37.95308877480687, -30.317838088447047, -26.416275203129942, -23.64437811904304, -22.161848328932706, -20.638641772877804, -20.197821240135113, -20.019614741783585], \"y\": [5.096695738427625, 7.678062347477537, 8.597793300386101, 9.232708314999615, 9.300350040488034, 9.318257934761284, 9.310284149791554, 9.293248860230516, 9.28126664709167, 9.26694607309168, 9.250270119069466, 9.231225451995389, 9.20980249648894, 9.185995486488366, 9.159802496488942, 9.13122545199539, 9.100270119069464, 9.06694607309168, 9.03126664709167, 8.993248860230516, 8.910284149791552, 8.818257934761286, 8.550350040488036, 8.232708314999616, 6.597793300386101, 4.678062347477541, 2.7305972432797097, 0.8607727963741443, -0.9033042615723732, -5.618708656914063, -9.715988750167744, -14.616875379452285, -19.149042963976978, -29.7385197635113, -39.91804519575886, -59.99183460526538]}, {\"hoverinfo\": \"name\", \"line\": {\"color\": \"#555\", \"dash\": \"dot\", \"width\": 1}, \"name\": \"-30.00 deg\", \"showlegend\": false, \"type\": \"scatter\", \"x\": [-156.117344728759, -137.5448311614125, -128.16026352395562, -117.11181547259622, -114.14756072696616, -111.12935572148433, -109.91070535511824, -108.68726058858061, -108.0741063989185, -107.46019575741514, -106.84567863947291, -106.23070589491499, -105.6154290321561, -105.0, -104.3845709678439, -103.76929410508507, -103.15432136052704, -102.53980424258486, -101.9258936010815, -101.31273941141939, -100.08929464488182, -98.87064427851567, -95.85243927303384, -92.88818452740378, -81.83973647604444, -72.45516883858755, -64.82008788181241, -58.726837325181805, -53.88265527124099, -44.364747667817085, -39.118836374383704, -35.247998137572495, -33.13328287939089, -30.93135215466947, -30.28897910080991, -30.02867271866785], \"y\": [4.166800369039922, 5.606844160199614, 5.932206248669415, 6.009559815241832, 5.975208936745101, 5.916081684987016, 5.8852313052469665, 5.850181404584557, 5.831068132828873, 5.8108902224713805, 5.78964427580763, 5.767327641665407, 5.7439384217734455, 5.719475475333597, 5.693938421773446, 5.667327641665408, 5.63964427580763, 5.610890222471382, 5.581068132828873, 5.5501814045845554, 5.485231305246967, 5.416081684987017, 5.2252089367451005, 5.009559815241831, 3.932206248669413, 2.6068441601996146, 1.1533437890942961, -0.3431048799285491, -1.8331996309600802, -6.087078338824387, -9.979764081669678, -14.754127901309044, -19.226190346310158, -29.75995677804501, -39.92456085295799, -59.99247562744764]}, {\"hoverinfo\": \"name\", \"line\": {\"color\": \"#555\", \"dash\": \"dot\", \"width\": 1}, \"name\": \"-50.00 deg\", \"showlegend\": false, \"type\": \"scatter\", \"x\": [-150.47269538675914, -135.1382402704465, -128.8100951702637, -122.02974483284908, -120.28643016934075, -118.53106380080987, -117.82641902240033, -117.12073045197809, -116.76757562399774, -116.41425712752618, -116.06080759351158, -115.70725972133971, -115.35364626180251, -115.0, -114.64635373819749, -114.29274027866029, -113.93919240648842, -113.58574287247382, -113.23242437600226, -112.87926954802197, -112.17358097759967, -111.46893619919013, -109.71356983065925, -107.97025516715092, -101.18990482973629, -94.86175972955351, -89.11523359444055, -84.00504756987442, -79.52730461324086, -69.3975723406333, -62.924056928953746, -57.69865892439685, -54.6801813390793, -51.416468268638994, -50.44174190071635, -50.0439193357185], \"y\": [2.1690092783717687, 2.283613205343762, 2.1482066351372553, 1.8805110263369171, 1.7903185689185086, 1.690332235389074, 1.6475597573189855, 1.6031884953899582, 1.5804015444470143, 1.557212960058154, 1.5336222991170896, 1.5096292165861258, 1.4852334657955046, 1.4604348986575815, 1.4352334657955048, 1.4096292165861262, 1.3836222991170892, 1.357212960058154, 1.3304015444470128, 1.3031884953899575, 1.2475597573189858, 1.1903322353890728, 1.0403185689185093, 0.8805110263369176, 0.14820663513725413, -0.7163867946562369, -1.6861149823730335, -2.7327119599275056, -3.8309907216282335, -7.25914823540008, -10.693337314020894, -15.145382670060465, -19.451939759943034, -29.824279769303864, -39.944246119925026, -59.99441757441544]}, {\"hoverinfo\": \"name\", \"line\": {\"color\": \"#555\", \"dash\": \"dot\", \"width\": 1}, \"name\": \"-90.00 deg\", \"showlegend\": false, \"type\": \"scatter\", \"x\": [-153.38055588920713, -144.70357542922022, -141.53889204779006, -138.29094809042044, -137.47058951626883, -136.64819508175435, -136.3188180110817, -135.9892663909249, -135.8244387261243, -135.6595837574684, -135.49470694030038, -135.3298137335812, -135.1649095989859, -135.0, -134.8350904010141, -134.6701862664188, -134.50529305969962, -134.34041624253166, -134.1755612738757, -134.0107336090751, -133.6811819889183, -133.3518049182457, -132.52941048373117, -131.70905190957956, -128.46110795220994, -125.29642457077978, -122.2501775747935, -119.35084685018182, -116.61944411079287, -109.53536641108144, -104.10032362358925, -99.0058619709315, -95.71059313749964, -91.81124804732798, -90.57293869768347, -90.05729576041449], \"y\": [-0.9732279370869548, -1.764348624364853, -2.124426027943395, -2.5390189104386724, -2.6514699297020368, -2.7674915645818707, -2.8149035000028793, -2.8628898500051885, -2.887098602924716, -2.91145114746676, -2.9359475265105246, -2.9605877734182884, -2.985371912026573, -3.0102999566398116, -3.035371912026572, -3.0605877734182907, -3.0859475265105245, -3.1114511474667603, -3.1370986029247168, -3.162889850005191, -3.2149035000028805, -3.2674915645818716, -3.4014699297020368, -3.539018910438671, -4.124426027943397, -4.764348624364852, -5.455404631092938, -6.193310480660946, -6.973227937086955, -9.514969420252301, -12.265723755961025, -16.10774225511957, -20.043213737826427, -30.00434077479319, -40.00043427276863, -60.000004342942646]}, {\"hoverinfo\": \"name\", \"line\": {\"color\": \"#555\", \"dash\": \"dot\", \"width\": 1}, \"name\": \"-120.00 deg\", \"showlegend\": false, \"type\": \"scatter\", \"x\": [-160.85975458455675, -155.63827622502686, -153.78618641032358, -151.90142366468808, -151.42698510516857, -150.95176089075574, -150.76150959030122, -150.57119105676304, -150.47601182200208, -150.3808220750226, -150.2856239170145, -150.19041945000328, -150.09521077664158, -150.0, -149.90478922335848, -149.80958054999678, -149.7143760829855, -149.6191779249774, -149.52398817799798, -149.42880894323696, -149.23849040969878, -149.04823910924426, -148.57301489483143, -148.09857633531192, -146.21381358967642, -144.3617237749731, -142.55707898477175, -140.81292692355936, -139.14024541544325, -134.62669831347796, -130.9383012798706, -127.24783266092788, -124.71500395394821, -121.54431183546006, -120.49371514890686, -120.04959479080003], \"y\": [-2.436272660456205, -3.4422186673114457, -3.84762884451815, -4.29037960222416, -4.40699921593907, -4.526008275446839, -4.57428211823914, -4.622939314369939, -4.647411727484515, -4.671980041652243, -4.696644271172273, -4.721404427168291, -4.746260517586929, -4.771212547196625, -4.79626051758693, -4.821404427168288, -4.846644271172273, -4.871980041652241, -4.897411727484514, -4.922939314369941, -4.974282118239141, -5.02600827544684, -5.156999215939071, -5.290379602224159, -5.847628844518153, -6.442218667311449, -7.072958558444331, -7.738271724514311, -8.436272660456206, -10.704688157932988, -13.186893456343654, -16.732079592455978, -20.453229787866576, -30.139417000675234, -40.043643711077515, -60.004345113397235]}, {\"hoverinfo\": \"name\", \"line\": {\"color\": \"#555\", \"dash\": \"dot\", \"width\": 1}, \"name\": \"-150.00 deg\", \"showlegend\": false, \"type\": \"scatter\", \"x\": [-170.08784826393844, -167.62337785672628, -166.75918441304157, -165.8827080470444, -165.6623735482899, -165.44174564647267, -165.35343415933335, -165.26509758258123, -165.22092184347468, -165.17674218217348, -165.1325593827711, -165.08837422959118, -165.04418750713023, -165.0, -164.95581249286977, -164.91162577040882, -164.86744061722902, -164.82325781782652, -164.77907815652532, -164.73490241741877, -164.64656584066665, -164.55825435352733, -164.3376264517102, -164.1172919529556, -163.24081558695843, -162.37662214327372, -161.53041331657028, -160.70739357548985, -159.91215173606156, -157.72822707501405, -155.8894881368641, -153.98596123499692, -152.6346060185233, -150.88170774429364, -150.28401689265309, -150.02862309904242], \"y\": [-3.2618637150774954, -4.357464956087062, -4.781008157812972, -5.234889529168014, -5.353148423971277, -5.473330927281008, -5.521943113599203, -5.570863587065885, -5.595439459606192, -5.620092434585043, -5.644822518988903, -5.669629718252307, -5.694514036257395, -5.719475475333596, -5.744514036257396, -5.769629718252306, -5.794822518988905, -5.820092434585046, -5.845439459606192, -5.870863587065886, -5.921943113599205, -5.9733309272810065, -6.103148423971275, -6.234889529168011, -6.781008157812972, -7.357464956087063, -7.963662913962381, -8.598793860490886, -9.261863715077498, -11.406608921751245, -13.75560292379796, -17.138198674062732, -20.730600258806064, -30.235702451504753, -40.07500487427773, -60.00752002960971]}, {\"hoverinfo\": \"name\", \"line\": {\"color\": \"#555\", \"dash\": \"dot\", \"width\": 1}, \"name\": \"-180.00 deg\", \"showlegend\": false, \"type\": \"scatter\", \"x\": [-180.0, -180.0, -180.0, -180.0, -180.0, -180.0, -180.0, -180.0, -180.0, -180.0, -180.0, -180.0, -180.0, -180.0, -180.0, -180.0, -180.0, -180.0, -180.0, -180.0, -180.0, -180.0, -180.0, -180.0, -180.0, -180.0, -180.0, -180.0, -180.0, -180.0, -180.0, -180.0, -180.0, -180.0, -180.0, -180.0], \"y\": [-3.528697248729707, -4.649481613751726, -5.078037820877343, -5.534983129163744, -5.653692425461207, -5.774197205849433, -5.82290229493352, -5.871895053021047, -5.896499329536557, -5.921175546836581, -5.94592371028475, -5.970743824053145, -5.995635891122028, -6.020599913279624, -6.045635891122028, -6.070743824053146, -6.095923710284749, -6.121175546836581, -6.146499329536558, -6.17189505302105, -6.222902294933521, -6.2741972058494335, -6.403692425461207, -6.534983129163744, -7.078037820877343, -7.6494816137517265, -8.248852055886793, -8.875518407124991, -9.528697248729706, -11.637589600041242, -13.946455874173909, -17.277840682867595, -20.8278537031645, -30.27041844216076, -40.086427475652854, -60.00868154958637]}, {\"hoverinfo\": \"name\", \"line\": {\"color\": \"#555\", \"dash\": \"dot\", \"width\": 1}, \"name\": \"-180.00 deg\", \"showlegend\": false, \"type\": \"scatter\", \"x\": [-180.0, -180.0, -180.0, -180.0, -180.0, -180.0, -180.0, -180.0, -180.0, -180.0, -180.0, -180.0, -180.0, -180.0, -180.0, -180.0, -180.0, -180.0, -180.0, -180.0, -180.0, -180.0, -180.0, -180.0, -180.0, -180.0, -180.0, -180.0, -180.0, -180.0, -180.0, -180.0, -180.0, -180.0, -180.0, -180.0], \"y\": [-3.528697248729707, -4.649481613751726, -5.078037820877343, -5.534983129163744, -5.653692425461207, -5.774197205849433, -5.82290229493352, -5.871895053021047, -5.896499329536557, -5.921175546836581, -5.94592371028475, -5.970743824053145, -5.995635891122028, -6.020599913279624, -6.045635891122028, -6.070743824053146, -6.095923710284749, -6.121175546836581, -6.146499329536558, -6.17189505302105, -6.222902294933521, -6.2741972058494335, -6.403692425461207, -6.534983129163744, -7.078037820877343, -7.6494816137517265, -8.248852055886793, -8.875518407124991, -9.528697248729706, -11.637589600041242, -13.946455874173909, -17.277840682867595, -20.8278537031645, -30.27041844216076, -40.086427475652854, -60.00868154958637]}],                        {\"template\": {\"data\": {\"bar\": [{\"error_x\": {\"color\": \"#2a3f5f\"}, \"error_y\": {\"color\": \"#2a3f5f\"}, \"marker\": {\"line\": {\"color\": \"#E5ECF6\", \"width\": 0.5}}, \"type\": \"bar\"}], \"barpolar\": [{\"marker\": {\"line\": {\"color\": \"#E5ECF6\", \"width\": 0.5}}, \"type\": \"barpolar\"}], \"carpet\": [{\"aaxis\": {\"endlinecolor\": \"#2a3f5f\", \"gridcolor\": \"white\", \"linecolor\": \"white\", \"minorgridcolor\": \"white\", \"startlinecolor\": \"#2a3f5f\"}, \"baxis\": {\"endlinecolor\": \"#2a3f5f\", \"gridcolor\": \"white\", \"linecolor\": \"white\", \"minorgridcolor\": \"white\", \"startlinecolor\": \"#2a3f5f\"}, \"type\": \"carpet\"}], \"choropleth\": [{\"colorbar\": {\"outlinewidth\": 0, \"ticks\": \"\"}, \"type\": \"choropleth\"}], \"contour\": [{\"colorbar\": {\"outlinewidth\": 0, \"ticks\": \"\"}, \"colorscale\": [[0.0, \"#0d0887\"], [0.1111111111111111, \"#46039f\"], [0.2222222222222222, \"#7201a8\"], [0.3333333333333333, \"#9c179e\"], [0.4444444444444444, \"#bd3786\"], [0.5555555555555556, \"#d8576b\"], [0.6666666666666666, \"#ed7953\"], [0.7777777777777778, \"#fb9f3a\"], [0.8888888888888888, \"#fdca26\"], [1.0, \"#f0f921\"]], \"type\": \"contour\"}], \"contourcarpet\": [{\"colorbar\": {\"outlinewidth\": 0, \"ticks\": \"\"}, \"type\": \"contourcarpet\"}], \"heatmap\": [{\"colorbar\": {\"outlinewidth\": 0, \"ticks\": \"\"}, \"colorscale\": [[0.0, \"#0d0887\"], [0.1111111111111111, \"#46039f\"], [0.2222222222222222, \"#7201a8\"], [0.3333333333333333, \"#9c179e\"], [0.4444444444444444, \"#bd3786\"], [0.5555555555555556, \"#d8576b\"], [0.6666666666666666, \"#ed7953\"], [0.7777777777777778, \"#fb9f3a\"], [0.8888888888888888, \"#fdca26\"], [1.0, \"#f0f921\"]], \"type\": \"heatmap\"}], \"heatmapgl\": [{\"colorbar\": {\"outlinewidth\": 0, \"ticks\": \"\"}, \"colorscale\": [[0.0, \"#0d0887\"], [0.1111111111111111, \"#46039f\"], [0.2222222222222222, \"#7201a8\"], [0.3333333333333333, \"#9c179e\"], [0.4444444444444444, \"#bd3786\"], [0.5555555555555556, \"#d8576b\"], [0.6666666666666666, \"#ed7953\"], [0.7777777777777778, \"#fb9f3a\"], [0.8888888888888888, \"#fdca26\"], [1.0, \"#f0f921\"]], \"type\": \"heatmapgl\"}], \"histogram\": [{\"marker\": {\"colorbar\": {\"outlinewidth\": 0, \"ticks\": \"\"}}, \"type\": \"histogram\"}], \"histogram2d\": [{\"colorbar\": {\"outlinewidth\": 0, \"ticks\": \"\"}, \"colorscale\": [[0.0, \"#0d0887\"], [0.1111111111111111, \"#46039f\"], [0.2222222222222222, \"#7201a8\"], [0.3333333333333333, \"#9c179e\"], [0.4444444444444444, \"#bd3786\"], [0.5555555555555556, \"#d8576b\"], [0.6666666666666666, \"#ed7953\"], [0.7777777777777778, \"#fb9f3a\"], [0.8888888888888888, \"#fdca26\"], [1.0, \"#f0f921\"]], \"type\": \"histogram2d\"}], \"histogram2dcontour\": [{\"colorbar\": {\"outlinewidth\": 0, \"ticks\": \"\"}, \"colorscale\": [[0.0, \"#0d0887\"], [0.1111111111111111, \"#46039f\"], [0.2222222222222222, \"#7201a8\"], [0.3333333333333333, \"#9c179e\"], [0.4444444444444444, \"#bd3786\"], [0.5555555555555556, \"#d8576b\"], [0.6666666666666666, \"#ed7953\"], [0.7777777777777778, \"#fb9f3a\"], [0.8888888888888888, \"#fdca26\"], [1.0, \"#f0f921\"]], \"type\": \"histogram2dcontour\"}], \"mesh3d\": [{\"colorbar\": {\"outlinewidth\": 0, \"ticks\": \"\"}, \"type\": \"mesh3d\"}], \"parcoords\": [{\"line\": {\"colorbar\": {\"outlinewidth\": 0, \"ticks\": \"\"}}, \"type\": \"parcoords\"}], \"pie\": [{\"automargin\": true, \"type\": \"pie\"}], \"scatter\": [{\"marker\": {\"colorbar\": {\"outlinewidth\": 0, \"ticks\": \"\"}}, \"type\": \"scatter\"}], \"scatter3d\": [{\"line\": {\"colorbar\": {\"outlinewidth\": 0, \"ticks\": \"\"}}, \"marker\": {\"colorbar\": {\"outlinewidth\": 0, \"ticks\": \"\"}}, \"type\": \"scatter3d\"}], \"scattercarpet\": [{\"marker\": {\"colorbar\": {\"outlinewidth\": 0, \"ticks\": \"\"}}, \"type\": \"scattercarpet\"}], \"scattergeo\": [{\"marker\": {\"colorbar\": {\"outlinewidth\": 0, \"ticks\": \"\"}}, \"type\": \"scattergeo\"}], \"scattergl\": [{\"marker\": {\"colorbar\": {\"outlinewidth\": 0, \"ticks\": \"\"}}, \"type\": \"scattergl\"}], \"scattermapbox\": [{\"marker\": {\"colorbar\": {\"outlinewidth\": 0, \"ticks\": \"\"}}, \"type\": \"scattermapbox\"}], \"scatterpolar\": [{\"marker\": {\"colorbar\": {\"outlinewidth\": 0, \"ticks\": \"\"}}, \"type\": \"scatterpolar\"}], \"scatterpolargl\": [{\"marker\": {\"colorbar\": {\"outlinewidth\": 0, \"ticks\": \"\"}}, \"type\": \"scatterpolargl\"}], \"scatterternary\": [{\"marker\": {\"colorbar\": {\"outlinewidth\": 0, \"ticks\": \"\"}}, \"type\": \"scatterternary\"}], \"surface\": [{\"colorbar\": {\"outlinewidth\": 0, \"ticks\": \"\"}, \"colorscale\": [[0.0, \"#0d0887\"], [0.1111111111111111, \"#46039f\"], [0.2222222222222222, \"#7201a8\"], [0.3333333333333333, \"#9c179e\"], [0.4444444444444444, \"#bd3786\"], [0.5555555555555556, \"#d8576b\"], [0.6666666666666666, \"#ed7953\"], [0.7777777777777778, \"#fb9f3a\"], [0.8888888888888888, \"#fdca26\"], [1.0, \"#f0f921\"]], \"type\": \"surface\"}], \"table\": [{\"cells\": {\"fill\": {\"color\": \"#EBF0F8\"}, \"line\": {\"color\": \"white\"}}, \"header\": {\"fill\": {\"color\": \"#C8D4E3\"}, \"line\": {\"color\": \"white\"}}, \"type\": \"table\"}]}, \"layout\": {\"annotationdefaults\": {\"arrowcolor\": \"#2a3f5f\", \"arrowhead\": 0, \"arrowwidth\": 1}, \"coloraxis\": {\"colorbar\": {\"outlinewidth\": 0, \"ticks\": \"\"}}, \"colorscale\": {\"diverging\": [[0, \"#8e0152\"], [0.1, \"#c51b7d\"], [0.2, \"#de77ae\"], [0.3, \"#f1b6da\"], [0.4, \"#fde0ef\"], [0.5, \"#f7f7f7\"], [0.6, \"#e6f5d0\"], [0.7, \"#b8e186\"], [0.8, \"#7fbc41\"], [0.9, \"#4d9221\"], [1, \"#276419\"]], \"sequential\": [[0.0, \"#0d0887\"], [0.1111111111111111, \"#46039f\"], [0.2222222222222222, \"#7201a8\"], [0.3333333333333333, \"#9c179e\"], [0.4444444444444444, \"#bd3786\"], [0.5555555555555556, \"#d8576b\"], [0.6666666666666666, \"#ed7953\"], [0.7777777777777778, \"#fb9f3a\"], [0.8888888888888888, \"#fdca26\"], [1.0, \"#f0f921\"]], \"sequentialminus\": [[0.0, \"#0d0887\"], [0.1111111111111111, \"#46039f\"], [0.2222222222222222, \"#7201a8\"], [0.3333333333333333, \"#9c179e\"], [0.4444444444444444, \"#bd3786\"], [0.5555555555555556, \"#d8576b\"], [0.6666666666666666, \"#ed7953\"], [0.7777777777777778, \"#fb9f3a\"], [0.8888888888888888, \"#fdca26\"], [1.0, \"#f0f921\"]]}, \"colorway\": [\"#636efa\", \"#EF553B\", \"#00cc96\", \"#ab63fa\", \"#FFA15A\", \"#19d3f3\", \"#FF6692\", \"#B6E880\", \"#FF97FF\", \"#FECB52\"], \"font\": {\"color\": \"#2a3f5f\"}, \"geo\": {\"bgcolor\": \"white\", \"lakecolor\": \"white\", \"landcolor\": \"#E5ECF6\", \"showlakes\": true, \"showland\": true, \"subunitcolor\": \"white\"}, \"hoverlabel\": {\"align\": \"left\"}, \"hovermode\": \"closest\", \"mapbox\": {\"style\": \"light\"}, \"paper_bgcolor\": \"white\", \"plot_bgcolor\": \"#E5ECF6\", \"polar\": {\"angularaxis\": {\"gridcolor\": \"white\", \"linecolor\": \"white\", \"ticks\": \"\"}, \"bgcolor\": \"#E5ECF6\", \"radialaxis\": {\"gridcolor\": \"white\", \"linecolor\": \"white\", \"ticks\": \"\"}}, \"scene\": {\"xaxis\": {\"backgroundcolor\": \"#E5ECF6\", \"gridcolor\": \"white\", \"gridwidth\": 2, \"linecolor\": \"white\", \"showbackground\": true, \"ticks\": \"\", \"zerolinecolor\": \"white\"}, \"yaxis\": {\"backgroundcolor\": \"#E5ECF6\", \"gridcolor\": \"white\", \"gridwidth\": 2, \"linecolor\": \"white\", \"showbackground\": true, \"ticks\": \"\", \"zerolinecolor\": \"white\"}, \"zaxis\": {\"backgroundcolor\": \"#E5ECF6\", \"gridcolor\": \"white\", \"gridwidth\": 2, \"linecolor\": \"white\", \"showbackground\": true, \"ticks\": \"\", \"zerolinecolor\": \"white\"}}, \"shapedefaults\": {\"line\": {\"color\": \"#2a3f5f\"}}, \"ternary\": {\"aaxis\": {\"gridcolor\": \"white\", \"linecolor\": \"white\", \"ticks\": \"\"}, \"baxis\": {\"gridcolor\": \"white\", \"linecolor\": \"white\", \"ticks\": \"\"}, \"bgcolor\": \"#E5ECF6\", \"caxis\": {\"gridcolor\": \"white\", \"linecolor\": \"white\", \"ticks\": \"\"}}, \"title\": {\"x\": 0.05}, \"xaxis\": {\"automargin\": true, \"gridcolor\": \"white\", \"linecolor\": \"white\", \"ticks\": \"\", \"title\": {\"standoff\": 15}, \"zerolinecolor\": \"white\", \"zerolinewidth\": 2}, \"yaxis\": {\"automargin\": true, \"gridcolor\": \"white\", \"linecolor\": \"white\", \"ticks\": \"\", \"title\": {\"standoff\": 15}, \"zerolinecolor\": \"white\", \"zerolinewidth\": 2}}}, \"xaxis\": {\"title\": {\"text\": \"Open-Loop Phase (deg)\"}}, \"yaxis\": {\"title\": {\"text\": \"Open-Loop Gain (dB)\"}}},                        {\"responsive\": true}                    ).then(function(){\n",
       "                            \n",
       "var gd = document.getElementById('f6b076c4-fb1b-4cab-b249-4fb56f186c84');\n",
       "var x = new MutationObserver(function (mutations, observer) {{\n",
       "        var display = window.getComputedStyle(gd).display;\n",
       "        if (!display || display === 'none') {{\n",
       "            console.log([gd, 'removed!']);\n",
       "            Plotly.purge(gd);\n",
       "            observer.disconnect();\n",
       "        }}\n",
       "}});\n",
       "\n",
       "// Listen for the removal of the full notebook cells\n",
       "var notebookContainer = gd.closest('#notebook-container');\n",
       "if (notebookContainer) {{\n",
       "    x.observe(notebookContainer, {childList: true});\n",
       "}}\n",
       "\n",
       "// Listen for the clearing of the current output cell\n",
       "var outputEl = gd.closest('.output');\n",
       "if (outputEl) {{\n",
       "    x.observe(outputEl, {childList: true});\n",
       "}}\n",
       "\n",
       "                        })                };                });            </script>        </div>"
      ]
     },
     "metadata": {},
     "output_type": "display_data"
    }
   ],
   "source": [
    "fig = figure(\"nichols\")\n",
    "fig.plot(F1,w=np.logspace(-0.5,2,100))\n",
    "fig.plot(5*F1)\n",
    "fig.grid(cm=np.array([6,0,-5,-20]))\n",
    "fig.show()"
   ]
  },
  {
   "cell_type": "markdown",
   "metadata": {},
   "source": [
    "### 2. Correction d'un système du 2nd ordre.\n",
    "\n",
    "#### 2.1 Analyse du système en boucle fermée\n",
    "\n",
    "On considère un système du second ordre continu incorporé dans une boucle d'asservissement avec un correcteur proportionnel $K_c$ et un retour unitaire.\n",
    "\n",
    "<img src=\"img/labo1_1.png\" style=\"width: 500px\">\n",
    "\n",
    "avec la fonction de transfert suivante :\n",
    "\n",
    "$$F(p)=\\frac{8}{(1+0.1p)(1+0.01p)}$$"
   ]
  },
  {
   "cell_type": "markdown",
   "metadata": {},
   "source": [
    "##### Analyse temporelle ($Kc=1$)\n",
    "\n",
    "On pose initialement $K_c=1$.\n",
    "\n",
    "**Question :**\n",
    "* Déterminez la fonction de transfert en boucle fermée (FTBF) $H(p)$ avec la fonction `feedback`. \n",
    "* Vérifiez que vous retrouvez $H(p)$ théoriquement"
   ]
  },
  {
   "cell_type": "code",
   "execution_count": 11,
   "metadata": {},
   "outputs": [
    {
     "name": "stdout",
     "output_type": "stream",
     "text": [
      "\n",
      "          8\n",
      "----------------------\n",
      "0.001 s^2 + 0.11 s + 1\n",
      "\n",
      "\n",
      "          8\n",
      "----------------------\n",
      "0.001 s^2 + 0.11 s + 9\n",
      "\n"
     ]
    }
   ],
   "source": [
    "F = series(tf([8],[0.1,1]),tf([1],[0.01,1]))\n",
    "print(F)\n",
    "H = feedback(F,1)\n",
    "print(H)"
   ]
  },
  {
   "cell_type": "markdown",
   "metadata": {},
   "source": [
    "**Question :**\n",
    "* Pour le système en boucle fermée, simulez la réponse indicielle puis complétez le tableau suivant :\n",
    "\n",
    "<table style=\"width: 100%\">\n",
    "    <tr style=\"width: 100%\">\n",
    "        <th style=\"width: 20%\"></th>\n",
    "        <th style=\"width: 20%\">$t_r$</th> \n",
    "        <th style=\"width: 20%\">$m$</th> \n",
    "        <th style=\"width: 20%\">$D\\%$</th> \n",
    "        <th style=\"width: 20%\">$s(\\infty)$</th> \n",
    "    </tr>\n",
    "    <tr>\n",
    "        <td>$H(p)$</td>\n",
    "         <td>??? </td>\n",
    "         <td>??? </td>\n",
    "         <td>???</td>\n",
    "         <td>??? </td>\n",
    "    </tr>\n",
    "</table>"
   ]
  },
  {
   "cell_type": "code",
   "execution_count": 12,
   "metadata": {},
   "outputs": [
    {
     "data": {
      "text/plain": [
       "{'RiseTime': 0.01854728186386477,\n",
       " 'SettlingTime': 0.05564184559159432,\n",
       " 'SettlingMin': 0.8012887894678292,\n",
       " 'SettlingMax': 0.9839252175531522,\n",
       " 'Overshoot': 10.570438930324531,\n",
       " 'Undershoot': 0.0,\n",
       " 'Peak': 0.9839252175531522,\n",
       " 'PeakTime': 0.04093193238921881,\n",
       " 'SteadyStateValue': 0.8898628124042886}"
      ]
     },
     "execution_count": 12,
     "metadata": {},
     "output_type": "execute_result"
    }
   ],
   "source": [
    "stepinfo(H)\n",
    "#0.005 0.56 10.6 0.89"
   ]
  },
  {
   "cell_type": "code",
   "execution_count": 13,
   "metadata": {},
   "outputs": [
    {
     "name": "stdout",
     "output_type": "stream",
     "text": [
      "_____Eigenvalue______ Damping___ Frequency_\n",
      "       -55     +77.3j     0.5798      94.87\n",
      "       -55     -77.3j     0.5798      94.87\n"
     ]
    },
    {
     "data": {
      "text/plain": [
       "(array([94.86832981, 94.86832981]),\n",
       " array([0.5797509, 0.5797509]),\n",
       " array([-55.+77.29812417j, -55.-77.29812417j]))"
      ]
     },
     "execution_count": 13,
     "metadata": {},
     "output_type": "execute_result"
    }
   ],
   "source": [
    "damp(H)"
   ]
  },
  {
   "cell_type": "markdown",
   "metadata": {},
   "source": [
    "##### Réponse fréquentielle de $H(p)$ ($K_c=1$) \n",
    "\n",
    "On s'interesse maintenant au diagramme de Black-Nichols\n",
    "\n",
    "**Question :** \n",
    "\n",
    "* Tracez la réponse fréquentielle dans le plan de Black-Nichols de la **fonction de transfert en boucle ouverte** $F(p)$\n",
    "* A partir du tracé dans le plan de Black-Nichols, complétez le tableau suivant pour la FTBO $F(p)$. A partir des contours d'isogain, complétez également le tableau pour la fonction de transfert en boucle fermée $H(p)$. \n",
    "* Vérifiez que vous obtenez pour $F(p)$ et $H(p)$ les mêmes résultats lors de l'analyse de Bode."
   ]
  },
  {
   "cell_type": "code",
   "execution_count": 14,
   "metadata": {},
   "outputs": [
    {
     "data": {
      "application/vnd.plotly.v1+json": {
       "config": {
        "plotlyServerURL": "https://plot.ly"
       },
       "data": [
        {
         "hoverinfo": "none",
         "marker": {
          "line": {
           "color": "#FF0000",
           "width": 1
          },
          "size": 3
         },
         "mode": "markers",
         "showlegend": false,
         "type": "scatter",
         "x": [
          -180
         ],
         "y": [
          0
         ]
        },
        {
         "hovertemplate": "<b>w</b>: %{text:.3f} rad/s<br><b>mag</b>: %{y:.3f} dB<br><b>phase</b>: %{x:.3f} deg<br>",
         "line": {
          "color": "#1f77b4"
         },
         "name": "sys",
         "showlegend": false,
         "text": [
          0.01,
          0.010595601792776159,
          0.011226677735108135,
          0.011895340673703195,
          0.012603829296797275,
          0.013354515629298987,
          0.01414991297434576,
          0.014992684327860457,
          0.015885651294280528,
          0.016831803533309566,
          0.017834308769319095,
          0.018896523396912095,
          0.020022003718155844,
          0.021214517849106298,
          0.02247805833548725,
          0.023816855519761582,
          0.02523539170434766,
          0.026738416158399468,
          0.02833096101839324,
          0.03001835813575589,
          0.031806256927941194,
          0.03370064329271928,
          0.03570785964900463,
          0.03783462617131929,
          0.04008806328898465,
          0.04247571552536898,
          0.04500557675700498,
          0.04768611697714469,
          0.0505263106533568,
          0.053535666774107246,
          0.05672426068491978,
          0.06010276782070382,
          0.06368249944718586,
          0.06747544053110693,
          0.07149428986597577,
          0.07575250258771912,
          0.08026433522257174,
          0.08504489341802678,
          0.09011018251665019,
          0.09547716114208056,
          0.10116379797662076,
          0.10718913192051281,
          0.11357333583431058,
          0.12033778407775898,
          0.12750512407130135,
          0.13509935211980273,
          0.14314589375234793,
          0.15167168884709234,
          0.16070528182616392,
          0.17027691722259003,
          0.18041864093920726,
          0.19116440753857028,
          0.20255019392306675,
          0.21461411978584047,
          0.22739657523579287,
          0.24094035602395256,
          0.2552908068239518,
          0.27049597304631356,
          0.2866067616948252,
          0.3036771118035459,
          0.3217641750250737,
          0.3409285069746813,
          0.3612342699709432,
          0.3827494478516313,
          0.40554607358408296,
          0.42970047043208415,
          0.455293507486695,
          0.48241087041653713,
          0.5111433483440168,
          0.5415871378079473,
          0.5738441648302396,
          0.6080224261649424,
          0.6442363508721374,
          0.6826071834272389,
          0.7232633896483537,
          0.7663410868007459,
          0.8119844993184013,
          0.8603464416684504,
          0.9115888299750823,
          0.9658832241158704,
          1.0234114021054537,
          1.0843659686896108,
          1.1489510001873098,
          1.217382727739662,
          1.2898902612533094,
          1.3667163564620073,
          1.4481182276745346,
          1.5343684089300131,
          1.625755666443795,
          1.7225859653987874,
          1.8251834943190444,
          1.933891750455232,
          2.049074689815848,
          2.171117945694505,
          2.300430119772919,
          2.437444150122222,
          2.5826187606826774,
          2.736439997074672,
          2.899422853882878,
          3.0721129988617593,
          3.2550885998350596,
          3.44896226040576,
          3.654383070957258,
          3.8720387818125572,
          4.102658105827195,
          4.347013158125026,
          4.605922041145108,
          4.880251583654434,
          5.17092024289676,
          5.478901179593945,
          5.805225516094902,
          6.150985788580504,
          6.517339604882427,
          6.905513520162331,
          7.3168071434272,
          7.752597488629465,
          8.21434358491943,
          8.703591361485167,
          9.221978823334332,
          9.771241535346501,
          10.353218432956627,
          10.96985797892384,
          11.62322468679853,
          12.315506032928262,
          13.049019780144029,
          13.826221737646565,
          14.649713983072864,
          15.52225357427048,
          16.446761779946645,
          17.42633386009651,
          18.464249428955444,
          19.56398343517065,
          20.72921779595372,
          21.96385372416547,
          23.272024789604096,
          24.658110758226037,
          26.126752255633292,
          27.682866303920665,
          29.331662783900455,
          31.07866187782014,
          32.929712550971516,
          34.891012134067736,
          36.96912707195028,
          39.17101490809261,
          41.50404757850477,
          43.97603609302721,
          46.59525668664682,
          49.37047852839004,
          52.31099308056263,
          55.42664520663107,
          58.72786613189483,
          62.22570836730231,
          65.93188271333548,
          69.8587974678525,
          74.01959996915645,
          78.42822061337682,
          83.09941949353396,
          88.04883581643465,
          93.29304026284686,
          98.84959046625586,
          104.73708979594508,
          110.97524964120721,
          117.58495540521582,
          124.58833642950081,
          132.00884008314193,
          139.87131026472386,
          148.202070579886,
          157.02901247293775,
          166.38168860761309,
          176.2914118095948,
          186.79135990207848,
          197.91668678535575,
          209.7046401323235,
          222.19468609395238,
          235.42864143224202,
          249.45081352303166,
          264.30814869741084,
          280.0503894183631,
          296.73024081888724,
          314.40354715915,
          333.1294787934677,
          352.970730273065,
          373.99373024788014,
          396.2688638701478,
          419.8707084443914,
          444.87828311275854,
          471.3753134116729,
          499.450511585514,
          529.1978735958447,
          560.7169938205458,
          594.113398496504,
          629.4988990221888,
          666.9919663030129,
          706.7181273927491,
          748.810385759003,
          793.4096665797492,
          840.6652885618333,
          890.735463861044,
          943.7878277775391,
          1000
         ],
         "type": "scatter",
         "x": [
          -0.06302533834671024,
          -0.06677913631287355,
          -0.07075651068792507,
          -0.07497077763358033,
          -0.07943604640764754,
          -0.08416726659773274,
          -0.08918027816759853,
          -0.09449186448362612,
          -0.10011980849862676,
          -0.10608295228098608,
          -0.11240126008814225,
          -0.11909588519523033,
          -0.12618924070244827,
          -0.1337050745575989,
          -0.14166854904453802,
          -0.15010632500311735,
          -0.1590466510617581,
          -0.16851945818076186,
          -0.17855645982166665,
          -0.18919125807688614,
          -0.200459456113615,
          -0.2123987773066696,
          -0.22504919145717214,
          -0.2384530485171149,
          -0.25265522026492926,
          -0.2677032504027057,
          -0.2836475135737757,
          -0.30054138382806733,
          -0.3184414130936643,
          -0.33740752024533704,
          -0.35750319139470677,
          -0.3787956920633434,
          -0.4013562919374764,
          -0.4252605029433013,
          -0.45058833142364374,
          -0.47742454524132383,
          -0.5058589566801566,
          -0.5359867220638896,
          -0.5679086590636814,
          -0.6017315827178761,
          -0.6375686612433535,
          -0.6755397927752586,
          -0.7157720042315856,
          -0.7583998735608447,
          -0.803565976695233,
          -0.8514213605962884,
          -0.9021260438476069,
          -0.9558495463161752,
          -1.0127714494728535,
          -1.0730819890297327,
          -1.1369826816199133,
          -1.204686987309742,
          -1.2764210097959403,
          -1.3524242361967453,
          -1.4329503183972025,
          -1.5182678979499649,
          -1.6086614765639748,
          -1.704432334227959,
          -1.8058994970127353,
          -1.913400756569289,
          -2.0272937432834937,
          -2.147957054955709,
          -2.2757914427377166,
          -2.4112210558691793,
          -2.5546947465003784,
          -2.7066874355544766,
          -2.8677015401539174,
          -3.0382684625936665,
          -3.2189501401671885,
          -3.410340654312212,
          -3.613067896514003,
          -3.8277952871476946,
          -4.055223541918592,
          -4.296092478722788,
          -4.551182855547359,
          -4.821318227397363,
          -5.107366807108977,
          -5.410243311204534,
          -5.7309107675830075,
          -6.070382256722649,
          -6.429722552102151,
          -6.81004961861579,
          -7.212535919759647,
          -7.638409475194532,
          -8.08895459985191,
          -8.565512243965548,
          -9.069479840241646,
          -9.60231054983094,
          -10.165511782920843,
          -10.760642852809408,
          -11.389311604583542,
          -12.053169841514151,
          -12.753907354753666,
          -13.493244345926994,
          -14.272922019161236,
          -15.094691110843595,
          -15.960298124257706,
          -16.871469045074406,
          -17.82989033583039,
          -18.83718704685149,
          -19.894897941715346,
          -21.00444762151179,
          -22.16711574770658,
          -23.38400361126682,
          -24.655998477084356,
          -25.98373634621009,
          -27.36756401888227,
          -28.807501598971623,
          -30.30320683992411,
          -31.853942972309014,
          -33.45855184694186,
          -35.11543434450009,
          -36.822540010561006,
          -38.57736774480464,
          -40.37697908328986,
          -42.218025155020634,
          -44.09678777831488,
          -46.009234419677426,
          -47.95108591994344,
          -49.917895068734445,
          -51.905133357886534,
          -53.90828264591353,
          -55.922928084822466,
          -57.944848540799086,
          -59.97010089434957,
          -61.99509501394563,
          -64.01665681153162,
          -66.03207753887051,
          -68.03914829111596,
          -70.03617947037351,
          -72.02200566127317,
          -73.995976935247,
          -75.9579380044423,
          -77.9081968851333,
          -79.84748481684008,
          -81.77690914245291,
          -83.69790071906615,
          -85.61215723392293,
          -87.52158357841243,
          -89.42823021505498,
          -91.33423028209148,
          -93.24173603602824,
          -95.15285514679272,
          -97.06958733995654,
          -98.99376192736617,
          -100.92697687778303,
          -102.87054024364566,
          -104.82541496399708,
          -106.79216828623733,
          -108.77092726417317,
          -110.76134196543528,
          -112.76255812321213,
          -114.77320096087985,
          -116.79137177318113,
          -118.81465854319335,
          -120.84016140420765,
          -122.8645331327999,
          -124.88403411842101,
          -126.89460045126145,
          -128.89192297576756,
          -130.8715344518423,
          -132.8289014263964,
          -134.75951710687949,
          -136.65899148335956,
          -138.52313517324913,
          -140.34803393732238,
          -142.1301114838669,
          -143.86617896723658,
          -145.55347041764307,
          -147.1896641343835,
          -148.7728907717719,
          -150.3017294020295,
          -151.77519323002008,
          -153.1927068588396,
          -154.55407707705055,
          -155.85945908298837,
          -157.109319910011,
          -158.30440060071734,
          -159.44567842744442,
          -160.53433019539997,
          -161.57169741249936,
          -162.55925387940772,
          -163.49857605227163,
          -164.39131636265196,
          -165.23917954450516,
          -166.04390191467937,
          -166.8072334779379,
          -167.53092267591362,
          -168.2167035674316,
          -168.8662852112438,
          -169.48134301775835,
          -170.0635118406425,
          -170.6143805896015,
          -171.13548816005664,
          -171.62832049220134,
          -172.09430858974147,
          -172.53482734660508,
          -172.95119504738025,
          -173.3446734237855,
          -173.7164681648168
         ],
         "y": [
          18.061795353466778,
          18.061794815400575,
          18.06179421133107,
          18.061793533161804,
          18.061792771803148,
          18.061791917050474,
          18.06179095744739,
          18.06178988013218,
          18.061788670665422,
          18.061787312836465,
          18.06178578844615,
          18.061784077062892,
          18.061782155748848,
          18.061779998752485,
          18.061777577163426,
          18.06177485852501,
          18.061771806399257,
          18.061768379878544,
          18.06176453303732,
          18.061760214316628,
          18.0617553658331,
          18.06174992260322,
          18.061743811672414,
          18.06173695113738,
          18.06172924904845,
          18.061720602177374,
          18.061710894633983,
          18.06169999631321,
          18.061687761151642,
          18.061674025170305,
          18.061658604277476,
          18.061641291802022,
          18.061621855724365,
          18.06160003556795,
          18.061575538909594,
          18.06154803746211,
          18.06151716267673,
          18.06148250080657,
          18.061443587365137,
          18.06139990090578,
          18.061350856039063,
          18.06129579559475,
          18.06123398182375,
          18.06116458652284,
          18.06108667995017,
          18.060999218384207,
          18.060901030160203,
          18.06079079999851,
          18.060667051416498,
          18.06052812699039,
          18.06037216620535,
          18.06019708060036,
          18.060000525879193,
          18.059779870619124,
          18.059532161165055,
          18.059254082247204,
          18.058941912805633,
          18.058591476443393,
          18.058198085861775,
          18.057756480555007,
          18.057260756957042,
          18.05670429013931,
          18.05607964605383,
          18.05537848320108,
          18.05459144247425,
          18.05370802379144,
          18.052716447972415,
          18.051603502147714,
          18.05035436680242,
          18.04895242235585,
          18.047379032960166,
          18.045613304966054,
          18.043631817252408,
          18.04140832035021,
          18.03891340101088,
          18.03611410857886,
          18.032973539232028,
          18.02945037385749,
          18.025498365043994,
          18.021065768406217,
          18.016094713226902,
          18.01052050722957,
          18.004270870202667,
          17.99726509121796,
          17.989413104361166,
          17.98061447827014,
          17.97075731541532,
          17.959717058029145,
          17.947355198980116,
          17.9335178977902,
          17.918034504521806,
          17.900715997534846,
          17.881353345265893,
          17.859715807343896,
          17.835549196657567,
          17.80857413153599,
          17.778484316065953,
          17.744944896752177,
          17.70759095514157,
          17.666026208455243,
          17.61982200330093,
          17.568516700545096,
          17.511615561510784,
          17.44859125563172,
          17.378885116019454,
          17.301909270283396,
          17.217049767373002,
          17.123670805121762,
          17.02112013567843,
          16.908735685724892,
          16.785853374796133,
          16.6518160489211,
          16.50598337063635,
          16.34774242452111,
          16.17651871598293,
          15.991787167863832,
          15.793082663161233,
          15.580009651178745,
          15.35225033564818,
          15.109571000890833,
          14.851826106134173,
          14.57895988448059,
          14.2910053133195,
          13.988080465478117,
          13.670382391704921,
          13.33817881196371,
          12.99179799435841,
          12.631617268733827,
          12.258050653875163,
          11.871536073903059,
          11.472522605787397,
          11.061458143315724,
          10.63877779202975,
          10.20489323324362,
          9.760183220912324,
          9.30498530878569,
          8.839588850967807,
          8.364229278780652,
          7.879083631086052,
          7.384267302983178,
          6.879831977110646,
          6.365764710022291,
          5.841988160248075,
          5.3083619614540964,
          4.764685260251059,
          4.210700450362459,
          3.6460981398777643,
          3.070523383292266,
          2.4835831925827514,
          1.8848553100818624,
          1.2738981799211628,
          0.6502619953369061,
          0.013500629002130822,
          -0.6368158224371089,
          -1.3010882236040666,
          -1.9796757255895683,
          -2.672883689707227,
          -3.3809526907179737,
          -4.104049070077186,
          -4.842257463241669,
          -5.595575642961882,
          -6.363911907792068,
          -7.147085110910732,
          -7.944827280921279,
          -8.756788647128886,
          -9.582544759808778,
          -10.421605301749018,
          -11.273424127657991,
          -12.137410045284373,
          -13.01293786442823,
          -13.899359282065095,
          -14.796013235880721,
          -15.702235435987015,
          -16.617366867058532,
          -17.5407611333839,
          -18.4717905918745,
          -19.40985127935957,
          -20.354366688772515,
          -21.30479048388519,
          -22.26060826497499,
          -23.22133850985108,
          -24.186532818003847,
          -25.155775582351353,
          -26.12868320507105,
          -27.104902963029605,
          -28.084111615739836,
          -29.06601383566891,
          -30.050340527871565,
          -31.03684709386755,
          -32.02531168374006,
          -33.015533470774876,
          -34.0073309746271,
          -35.00054045196726,
          -35.99501436772555,
          -36.99061995531276,
          -37.987237870409814,
          -38.98476093995971,
          -39.983093005729835,
          -40.9821478601297,
          -41.98184827075618
         ]
        },
        {
         "hoverinfo": "name",
         "line": {
          "color": "#555",
          "dash": "dot",
          "width": 1
         },
         "name": "6.00 dB",
         "showlegend": false,
         "type": "scatter",
         "x": [
          -181.0044525859156,
          -182.00706208752763,
          -183.0059994899574,
          -183.99946365000403,
          -184.98569457347367,
          -187.408591693385,
          -189.75111962661822,
          -194.11400997325404,
          -197.95308877480693,
          -201.2110046386224,
          -203.882655271241,
          -208.76368925804854,
          -210.07854669531383,
          -209.08573699075276,
          -206.61944411079287,
          -203.19624885388873,
          -199.14024541544325,
          -194.6633656344593,
          -189.91215173606156,
          -181.66883360739166,
          -180,
          -178.33116639260837,
          -170.08784826393844,
          -165.33663436554068,
          -160.85975458455675,
          -156.8037511461113,
          -153.38055588920716,
          -150.91426300924724,
          -149.92145330468617,
          -151.23631074195146,
          -156.11734472875898,
          -158.78899536137763,
          -162.04691122519313,
          -165.88599002674593,
          -170.24888037338178,
          -172.59140830661497,
          -175.0143054265264,
          -176.00053634999594,
          -176.99400051004255,
          -177.99293791247237,
          -178.9955474140844
         ],
         "y": [
          6.038584887637681,
          6.030603754626434,
          6.017337064173958,
          5.998837145331412,
          5.975176335900421,
          5.894089570862205,
          5.783261698845564,
          5.4826074459056695,
          5.096695738427625,
          4.650493262050236,
          4.166800369039922,
          2.6567802911877996,
          1.2493792041125524,
          0.03595583500082545,
          -0.9732279370869548,
          -1.7915587587987878,
          -2.436272660456205,
          -2.922504047148822,
          -3.2618637150774954,
          -3.5213402361322443,
          -3.528697248729707,
          -3.5213402361322443,
          -3.261863715077498,
          -2.9225040471488253,
          -2.4362726604562077,
          -1.7915587587987878,
          -0.9732279370869548,
          0.03595583500082353,
          1.2493792041125524,
          2.6567802911877987,
          4.166800369039918,
          4.650493262050238,
          5.096695738427627,
          5.482607445905669,
          5.783261698845564,
          5.894089570862203,
          5.975176335900418,
          5.998837145331412,
          6.017337064173956,
          6.030603754626437,
          6.038584887637679
         ]
        },
        {
         "hoverinfo": "name",
         "line": {
          "color": "#555",
          "dash": "dot",
          "width": 1
         },
         "name": "3.00 dB",
         "showlegend": false,
         "type": "scatter",
         "x": [
          -182.42156130189062,
          -184.82844943546547,
          -187.20643299081019,
          -189.54213134653503,
          -191.8233626783699,
          -197.22187957454412,
          -202.09598892987356,
          -210.09301738566455,
          -215.8791234237175,
          -219.8563069529548,
          -222.4551688385875,
          -225.06798311222548,
          -223.50196919041633,
          -219.93702449004138,
          -215.29642457077978,
          -210.02487275397982,
          -204.36172377497314,
          -198.44853900143266,
          -192.37662214327372,
          -182.07224305175168,
          -180,
          -177.92775694824832,
          -167.6233778567263,
          -161.5514609985674,
          -155.63827622502694,
          -149.9751272460202,
          -144.70357542922022,
          -140.06297550995865,
          -136.49803080958367,
          -134.93201688777452,
          -137.54483116141245,
          -140.1436930470452,
          -144.12087657628254,
          -149.90698261433542,
          -157.9040110701264,
          -162.7781204254559,
          -168.17663732163007,
          -170.45786865346497,
          -172.7935670091897,
          -175.17155056453453,
          -177.57843869810938
         ],
         "y": [
          10.679764301197936,
          10.647034445747146,
          10.593037830089836,
          10.518575471800114,
          10.424714401516344,
          10.11401746557135,
          9.714033764687105,
          8.743853755272685,
          7.678062347477537,
          6.616357953051257,
          5.606844160199614,
          3.0102938424173917,
          1.0059460068552415,
          -0.5489159148760905,
          -1.764348624364853,
          -2.712947800201404,
          -3.4422186673114457,
          -3.9835217795043447,
          -4.357464956087062,
          -4.641452702670781,
          -4.649481613751726,
          -4.641452702670781,
          -4.357464956087062,
          -3.9835217795043465,
          -3.4422186673114457,
          -2.7129478002014027,
          -1.764348624364854,
          -0.5489159148760926,
          1.0059460068552415,
          3.010293842417389,
          5.606844160199607,
          6.61635795305126,
          7.67806234747754,
          8.743853755272685,
          9.714033764687107,
          10.11401746557135,
          10.424714401516344,
          10.518575471800109,
          10.59303783008983,
          10.647034445747146,
          10.679764301197936
         ]
        },
        {
         "hoverinfo": "name",
         "line": {
          "color": "#555",
          "dash": "dot",
          "width": 1
         },
         "name": "1.00 dB",
         "showlegend": false,
         "type": "scatter",
         "x": [
          -188.12984536554268,
          -195.88621216474792,
          -202.9844437398292,
          -209.27055340099685,
          -214.7096153155495,
          -224.98959838098392,
          -231.68544618825558,
          -238.9060061369517,
          -241.93858840592924,
          -242.95955537487828,
          -242.88818452740378,
          -239.59670953467293,
          -234.31238992498834,
          -228.21444019414758,
          -221.70905190957956,
          -214.9736246071892,
          -208.09857633531192,
          -201.13560158246298,
          -194.1172919529556,
          -182.35615618485986,
          -180,
          -177.6438438151401,
          -165.88270804704442,
          -158.86439841753705,
          -151.90142366468808,
          -145.0263753928108,
          -138.29094809042041,
          -131.78555980585242,
          -125.68761007501163,
          -120.40329046532707,
          -117.11181547259622,
          -117.04044462512172,
          -118.06141159407076,
          -121.0939938630483,
          -128.3145538117444,
          -135.0104016190161,
          -145.29038468445046,
          -150.72944659900304,
          -157.0155562601706,
          -164.11378783525214,
          -171.87015463445724
         ],
         "y": [
          19.17292087222408,
          18.88999404600427,
          18.45599908317477,
          17.91331788277162,
          17.30269583621942,
          15.674169524423078,
          14.099770859367858,
          11.392809577292622,
          9.232708314999615,
          7.475525714001363,
          6.009559815241832,
          2.725327008857705,
          0.44275075770600797,
          -1.2482454597388433,
          -2.5390189104386724,
          -3.5327626980741282,
          -4.29037960222416,
          -4.8497530368011,
          -5.234889529168014,
          -5.526739523137509,
          -5.534983129163744,
          -5.526739523137509,
          -5.2348895291680115,
          -4.8497530368011015,
          -4.290379602224161,
          -3.5327626980741273,
          -2.5390189104386733,
          -1.2482454597388464,
          0.44275075770600797,
          2.7253270088577004,
          6.009559815241823,
          7.4755257140013684,
          9.232708314999618,
          11.392809577292622,
          14.099770859367855,
          15.674169524423071,
          17.302695836219414,
          17.913317882771604,
          18.455999083174753,
          18.88999404600427,
          19.172920872224083
         ]
        },
        {
         "hoverinfo": "name",
         "line": {
          "color": "#555",
          "dash": "dot",
          "width": 1
         },
         "name": "0.50 dB",
         "showlegend": false,
         "type": "scatter",
         "x": [
          -196.3718246156576,
          -210.241776113004,
          -220.80355193113053,
          -228.51181527270387,
          -234.1134646185559,
          -242.54794804403969,
          -246.79435053744254,
          -250.17113669346753,
          -250.7317375930338,
          -250.10476324945597,
          -248.87064427851567,
          -243.52619111012865,
          -237.14681544455618,
          -230.35244392901245,
          -223.35180491824565,
          -216.23515197605684,
          -209.04823910924426,
          -201.81713920054904,
          -194.55825435352733,
          -182.42801843030043,
          -180,
          -177.57198156969963,
          -165.44174564647267,
          -158.18286079945094,
          -150.95176089075574,
          -143.76484802394313,
          -136.64819508175432,
          -129.64755607098758,
          -122.85318455544379,
          -116.47380888987135,
          -111.12935572148433,
          -109.89523675054403,
          -109.26826240696619,
          -109.82886330653247,
          -113.20564946255746,
          -117.45205195596026,
          -125.88653538144405,
          -131.488184727296,
          -139.19644806886924,
          -149.75822388699612,
          -163.6281753843424
         ],
         "y": [
          24.66386078734449,
          23.68619318037223,
          22.428476998260905,
          21.119016837844416,
          19.86570394081788,
          17.148405136599663,
          14.97381756434649,
          11.709190668056703,
          9.318257934761284,
          7.44651521952795,
          5.916081684987016,
          2.548102112298766,
          0.2356286732226798,
          -1.469242571571364,
          -2.7674915645818707,
          -3.7656469575966494,
          -4.526008275446839,
          -5.0871210227374375,
          -5.473330927281008,
          -5.765933081450027,
          -5.774197205849433,
          -5.765933081450027,
          -5.4733309272810065,
          -5.0871210227374375,
          -4.5260082754468405,
          -3.765646957596645,
          -2.767491564581872,
          -1.4692425715713675,
          0.2356286732226798,
          2.548102112298763,
          5.916081684987007,
          7.446515219527955,
          9.318257934761288,
          11.709190668056703,
          14.973817564346488,
          17.148405136599656,
          19.86570394081787,
          21.119016837844388,
          22.428476998260866,
          23.68619318037224,
          24.663860787344486
         ]
        },
        {
         "hoverinfo": "name",
         "line": {
          "color": "#555",
          "dash": "dot",
          "width": 1
         },
         "name": "0.00 dB",
         "showlegend": false,
         "type": "scatter",
         "x": [
          -269.4999999999999,
          -268.99999999999994,
          -268.50000000000006,
          -268.00000000000006,
          -267.5,
          -266.25,
          -265,
          -262.5,
          -260,
          -257.5,
          -255,
          -247.5,
          -240,
          -232.5,
          -225,
          -217.5,
          -210,
          -202.5,
          -195,
          -182.5,
          -180,
          -177.5,
          -165,
          -157.5,
          -150,
          -142.5,
          -135,
          -127.5,
          -120,
          -112.5,
          -105,
          -102.5,
          -100,
          -97.5,
          -95,
          -93.75,
          -92.5,
          -92,
          -91.5,
          -91.00000000000006,
          -90.50000000000011
         ],
         "y": [
          35.16256289318372,
          29.14229371826325,
          25.62101977894313,
          23.123016808799058,
          21.185808854403394,
          17.667429531589104,
          15.173479920117972,
          11.665446712198822,
          9.185995486488366,
          7.272665074459145,
          5.719475475333597,
          2.322606875058725,
          0,
          -1.7095424698920367,
          -3.0102999566398116,
          -4.009933005441557,
          -4.771212547196625,
          -5.332906831698536,
          -5.719475475333596,
          -6.0123289342854225,
          -6.020599913279624,
          -6.0123289342854225,
          -5.719475475333596,
          -5.332906831698536,
          -4.771212547196625,
          -4.009933005441557,
          -3.0102999566398125,
          -1.709542469892039,
          0,
          2.3226068750587205,
          5.719475475333587,
          7.27266507445915,
          9.18599548648837,
          11.665446712198822,
          15.17347992011797,
          17.667429531589097,
          21.185808854403376,
          23.12301680879902,
          25.621019778943044,
          29.142293718263286,
          35.1625628931837
         ]
        },
        {
         "hoverinfo": "name",
         "line": {
          "color": "#555",
          "dash": "dot",
          "width": 1
         },
         "name": "-1.00 dB",
         "showlegend": false,
         "type": "scatter",
         "x": [
          -350.87015463445726,
          -342.1137878352521,
          -334.01555626017085,
          -326.72944659900315,
          -320.29038468445054,
          -307.51040161901614,
          -298.3145538117444,
          -286.09399386304824,
          -278.06141159407076,
          -272.0404446251217,
          -267.1118154725962,
          -255.40329046532707,
          -245.68761007501166,
          -236.78555980585242,
          -228.29094809042044,
          -220.0263753928108,
          -211.90142366468808,
          -203.86439841753702,
          -195.8827080470444,
          -182.64384381514014,
          -180,
          -177.35615618485994,
          -164.1172919529556,
          -156.13560158246298,
          -148.09857633531195,
          -139.9736246071892,
          -131.70905190957959,
          -123.21444019414761,
          -114.31238992498837,
          -104.59670953467293,
          -92.88818452740384,
          -87.95955537487828,
          -81.93858840592918,
          -73.9060061369517,
          -61.68544618825558,
          -52.489598380983864,
          -39.70961531554951,
          -33.27055340099696,
          -25.98444373982943,
          -17.88621216474786,
          -9.129845365542792
         ],
         "y": [
          18.172920872224083,
          17.889994046004272,
          17.45599908317476,
          16.91331788277161,
          16.302695836219424,
          14.674169524423068,
          13.099770859367856,
          10.39280957729262,
          8.232708314999616,
          6.475525714001364,
          5.009559815241831,
          1.7253270088577046,
          -0.5572492422939905,
          -2.2482454597388433,
          -3.539018910438671,
          -4.532762698074128,
          -5.290379602224159,
          -5.8497530368011,
          -6.234889529168011,
          -6.526739523137509,
          -6.534983129163744,
          -6.526739523137509,
          -6.234889529168011,
          -5.8497530368011,
          -5.290379602224158,
          -4.532762698074128,
          -3.5390189104386724,
          -2.248245459738846,
          -0.5572492422939905,
          1.7253270088577017,
          5.009559815241822,
          6.47552571400137,
          8.232708314999618,
          10.392809577292624,
          13.099770859367855,
          14.674169524423066,
          16.302695836219417,
          16.9133178827716,
          17.455999083174746,
          17.889994046004276,
          18.17292087222408
         ]
        },
        {
         "hoverinfo": "name",
         "line": {
          "color": "#555",
          "dash": "dot",
          "width": 1
         },
         "name": "-3.00 dB",
         "showlegend": false,
         "type": "scatter",
         "x": [
          -356.5784386981094,
          -353.1715505645345,
          -349.7935670091898,
          -346.457868653465,
          -343.1766373216301,
          -335.27812042545594,
          -327.9040110701264,
          -314.9069826143354,
          -304.1208765762825,
          -295.1436930470452,
          -287.54483116141245,
          -269.9320168877745,
          -256.4980308095836,
          -245.06297550995862,
          -234.70357542922022,
          -224.97512724602018,
          -215.6382762250269,
          -206.55146099856734,
          -197.62337785672628,
          -182.92775694824832,
          -180,
          -177.0722430517517,
          -162.3766221432737,
          -153.44853900143264,
          -144.36172377497311,
          -135.02487275397982,
          -125.29642457077978,
          -114.93702449004138,
          -103.50196919041639,
          -90.06798311222553,
          -72.45516883858761,
          -64.85630695295481,
          -55.87912342371749,
          -45.09301738566461,
          -32.09598892987361,
          -24.72187957454412,
          -16.82336267836996,
          -13.54213134653503,
          -10.206432990810299,
          -6.828449435465473,
          -3.4215613018906197
         ],
         "y": [
          7.6797643011979355,
          7.647034445747147,
          7.593037830089832,
          7.51857547180011,
          7.424714401516347,
          7.114017465571349,
          6.714033764687107,
          5.743853755272688,
          4.678062347477541,
          3.6163579530512586,
          2.6068441601996146,
          0.010293842417393655,
          -1.9940539931447574,
          -3.54891591487609,
          -4.764348624364852,
          -5.712947800201404,
          -6.442218667311449,
          -6.983521779504347,
          -7.357464956087063,
          -7.64145270267078,
          -7.6494816137517265,
          -7.64145270267078,
          -7.357464956087062,
          -6.983521779504346,
          -6.442218667311447,
          -5.712947800201404,
          -4.764348624364854,
          -3.5489159148760945,
          -1.9940539931447574,
          0.0102938424173898,
          2.606844160199607,
          3.6163579530512613,
          4.678062347477542,
          5.743853755272687,
          6.714033764687107,
          7.114017465571347,
          7.424714401516347,
          7.51857547180011,
          7.593037830089831,
          7.647034445747147,
          7.6797643011979355
         ]
        },
        {
         "hoverinfo": "name",
         "line": {
          "color": "#555",
          "dash": "dot",
          "width": 1
         },
         "name": "-5.00 dB",
         "showlegend": false,
         "type": "scatter",
         "x": [
          -357.7156461901543,
          -355.4344760458533,
          -353.1596383215088,
          -350.89421290039166,
          -348.6411786888659,
          -343.08110719284156,
          -337.655658142777,
          -327.32791659155833,
          -317.81176103888635,
          -309.14193573202044,
          -301.2731626748182,
          -281.57023940198087,
          -265.8826332806969,
          -252.5557488275415,
          -240.64915314981818,
          -229.631213606674,
          -219.18707307644064,
          -209.11864001577317,
          -199.29260642451015,
          -183.2007348379094,
          -180,
          -176.79926516209062,
          -160.70739357548985,
          -150.8813599842268,
          -140.8129269235594,
          -130.36878639332593,
          -119.3508468501818,
          -107.44425117245856,
          -94.1173667193031,
          -78.42976059801913,
          -58.726837325181805,
          -50.85806426797956,
          -42.188238961113655,
          -32.67208340844161,
          -22.344341857223014,
          -16.918892807158443,
          -11.35882131113408,
          -9.105787099608392,
          -6.84036167849132,
          -4.565523954146727,
          -2.2843538098456975
         ],
         "y": [
          2.1734071144866545,
          2.16178287503579,
          2.1424819285456818,
          2.115612065794011,
          2.0813214716986472,
          1.964434082831654,
          1.8061996909436415,
          1.385219595998124,
          0.8607727963741443,
          0.2736183229458929,
          -0.3431048799285491,
          -2.16801908991087,
          -3.7730593229328253,
          -5.107825341480714,
          -6.193310480660946,
          -7.061015531352676,
          -7.738271724514311,
          -8.245907761671381,
          -8.598793860490886,
          -8.867897044997598,
          -8.875518407124991,
          -8.867897044997598,
          -8.598793860490886,
          -8.24590776167138,
          -7.738271724514313,
          -7.061015531352676,
          -6.193310480660946,
          -5.1078253414807175,
          -3.7730593229328253,
          -2.1680190899108718,
          -0.34310487992855515,
          0.2736183229458966,
          0.8607727963741427,
          1.385219595998124,
          1.8061996909436415,
          1.9644340828316524,
          2.0813214716986486,
          2.1156120657940125,
          2.1424819285456818,
          2.16178287503579,
          2.1734071144866545
         ]
        },
        {
         "hoverinfo": "name",
         "line": {
          "color": "#555",
          "dash": "dot",
          "width": 1
         },
         "name": "-10.00 dB",
         "showlegend": false,
         "type": "scatter",
         "x": [
          -358.5375907950498,
          -357.07557791375507,
          -355.61435658094774,
          -354.15431983136335,
          -352.6958574333717,
          -349.05910533090224,
          -345.44044385095657,
          -338.27923532466446,
          -331.25172280772404,
          -324.38957230161884,
          -317.7158161180123,
          -298.93322088504607,
          -281.98055625030804,
          -266.5986905881538,
          -252.4515993862077,
          -239.23329660667702,
          -226.69556020425625,
          -214.6438140225457,
          -202.92453522086737,
          -183.79933667786145,
          -180,
          -176.20066332213858,
          -157.07546477913257,
          -145.3561859774543,
          -133.30443979574378,
          -120.76670339332298,
          -107.5484006137923,
          -93.40130941184623,
          -78.01944374969196,
          -61.06677911495393,
          -42.2841838819877,
          -35.6104276983811,
          -28.748277192275964,
          -21.720764675335545,
          -14.55955614904343,
          -10.940894669097759,
          -7.304142566628343,
          -5.8456801686366475,
          -4.385643419052258,
          -2.924422086244874,
          -1.462409204950177
         ],
         "y": [
          -6.699123892294637,
          -6.701806509160542,
          -6.7062729515001065,
          -6.7125163626834325,
          -6.720527187262135,
          -6.748200164450676,
          -6.78657557329895,
          -6.893931055283403,
          -7.0388110511767845,
          -7.216462826641537,
          -7.421573050377543,
          -8.147711008436975,
          -8.941898740419433,
          -9.71418948914971,
          -10.41392685158225,
          -11.016410769656355,
          -11.511331047447138,
          -11.89550272938945,
          -12.168840872833393,
          -12.380583655718457,
          -12.38662096132189,
          -12.38058365571846,
          -12.16884087283339,
          -11.895502729389449,
          -11.511331047447138,
          -11.016410769656355,
          -10.41392685158225,
          -9.714189489149708,
          -8.941898740419433,
          -8.147711008436975,
          -7.421573050377544,
          -7.216462826641536,
          -7.038811051176785,
          -6.893931055283405,
          -6.78657557329895,
          -6.748200164450676,
          -6.720527187262135,
          -6.7125163626834325,
          -6.706272951500106,
          -6.701806509160542,
          -6.699123892294637
         ]
        },
        {
         "hoverinfo": "name",
         "line": {
          "color": "#555",
          "dash": "dot",
          "width": 1
         },
         "name": "-15.00 dB",
         "showlegend": false,
         "type": "scatter",
         "x": [
          -358.78372871113226,
          -357.56757218766745,
          -356.35164504978854,
          -355.13606162768133,
          -353.92093581764135,
          -350.88586520734776,
          -347.8561091438982,
          -341.8193145434761,
          -335.8234934153923,
          -329.8803847803898,
          -324.0002574368285,
          -306.8153430006575,
          -290.4058175896011,
          -274.7929344561041,
          -259.9166159495102,
          -245.67464220039773,
          -231.95012942506116,
          -218.62659104798547,
          -205.59416406308867,
          -184.2456701763938,
          -180,
          -175.75432982360618,
          -154.40583593691133,
          -141.37340895201453,
          -128.04987057493884,
          -114.32535779960227,
          -100.08338405048983,
          -85.20706554389596,
          -69.5941824103989,
          -53.18465699934251,
          -35.99974256317154,
          -30.119615219610125,
          -24.176506584607694,
          -18.180685456523918,
          -12.143890856101848,
          -9.114134792652237,
          -6.07906418235865,
          -4.863938372318671,
          -3.6483549502114556,
          -2.4324278123324916,
          -1.2162712888677447
         ],
         "y": [
          -13.299602274136596,
          -13.300646015181112,
          -13.302384673274837,
          -13.304816884886367,
          -13.307940744941824,
          -13.318759016704236,
          -13.333830760689928,
          -13.376424533448056,
          -13.434916381107115,
          -13.508232743883422,
          -13.595080096782212,
          -13.921703697025936,
          -14.313535235316843,
          -14.72930186538968,
          -15.13520922108038,
          -15.50640058611507,
          -15.825881765358389,
          -16.08263707776725,
          -16.26984801593978,
          -16.417398167862174,
          -16.421637052990647,
          -16.417398167862174,
          -16.269848015939782,
          -16.08263707776725,
          -15.825881765358389,
          -15.506400586115072,
          -15.13520922108038,
          -14.72930186538968,
          -14.313535235316843,
          -13.921703697025938,
          -13.595080096782212,
          -13.508232743883422,
          -13.434916381107113,
          -13.376424533448056,
          -13.333830760689928,
          -13.318759016704236,
          -13.307940744941824,
          -13.304816884886367,
          -13.302384673274837,
          -13.300646015181112,
          -13.299602274136596
         ]
        },
        {
         "hoverinfo": "name",
         "line": {
          "color": "#555",
          "dash": "dot",
          "width": 1
         },
         "name": "-20.00 dB",
         "showlegend": false,
         "type": "scatter",
         "x": [
          -358.8888965493027,
          -357.7778390541404,
          -356.66687343532357,
          -355.5560455442723,
          -354.44540112846903,
          -351.66989167066737,
          -348.89652075551027,
          -343.3589703285723,
          -337.8381516710673,
          -332.33916301626834,
          -326.8667171206091,
          -310.64868408641405,
          -294.79128089714493,
          -279.3371191156383,
          -264.28940686250036,
          -249.6211360082914,
          -235.2849960460518,
          -221.22162278409758,
          -207.3653939814767,
          -184.54588366326493,
          -180,
          -175.45411633673513,
          -152.63460601852324,
          -138.77837721590248,
          -124.71500395394821,
          -110.37886399170858,
          -95.71059313749964,
          -80.6628808843617,
          -65.20871910285507,
          -49.35131591358595,
          -33.13328287939095,
          -27.660836983731656,
          -22.161848328932706,
          -16.641029671427702,
          -11.103479244489733,
          -8.330108329332631,
          -5.55459887153097,
          -4.443954455727749,
          -3.3331265646764905,
          -2.2221609458596276,
          -1.1111034506973283
         ],
         "y": [
          -19.085013507081424,
          -19.085503375377726,
          -19.086319534008915,
          -19.08746155052706,
          -19.08892882019638,
          -19.094014462352902,
          -19.101110842980592,
          -19.121236166745526,
          -19.149042963976978,
          -19.184174848780152,
          -19.226190346310158,
          -19.38809146911957,
          -19.590413923210935,
          -19.81472569408657,
          -20.043213737826427,
          -20.260279180191155,
          -20.453229787866576,
          -20.612342803649057,
          -20.730600258806064,
          -20.825121237762787,
          -20.8278537031645,
          -20.825121237762787,
          -20.730600258806064,
          -20.612342803649057,
          -20.453229787866572,
          -20.26027918019116,
          -20.043213737826427,
          -19.81472569408657,
          -19.590413923210935,
          -19.38809146911957,
          -19.226190346310158,
          -19.184174848780152,
          -19.149042963976978,
          -19.121236166745526,
          -19.101110842980592,
          -19.094014462352902,
          -19.08892882019638,
          -19.08746155052706,
          -19.086319534008915,
          -19.085503375377726,
          -19.085013507081424
         ]
        },
        {
         "hoverinfo": "name",
         "line": {
          "color": "#555",
          "dash": "dot",
          "width": 1
         },
         "name": "-359.00 deg",
         "showlegend": false,
         "type": "scatter",
         "x": [
          -181.0044525859156,
          -182.42156130189062,
          -183.8538273684054,
          -188.12984536554268,
          -190.9344158007773,
          -196.3718246156576,
          -200.26021663058145,
          -206.3114697592357,
          -210.7345808486815,
          -216.6635681171084,
          -224.80489618685647,
          -236.09043705087817,
          -251.24683800549047,
          -269.4999999999999,
          -287.753161994509,
          -302.90956294912127,
          -314.19510381314365,
          -322.3364318828915,
          -328.2654191513184,
          -332.6885302407641,
          -338.7397833694185,
          -342.62817538434234,
          -348.06558419922266,
          -350.87015463445726,
          -355.14617263159454,
          -356.5784386981094,
          -357.2913247216967,
          -357.7156461901543,
          -357.9955474140844,
          -358.45015168578016,
          -358.6645881674737,
          -358.8116765954827,
          -358.8888965493027,
          -358.96734639178396,
          -358.98989951835864,
          -358.9989990499713
         ],
         "y": [
          6.038584887637681,
          10.679764301197936,
          13.711735715514646,
          19.17292087222408,
          21.473564446933352,
          24.66386078734449,
          26.351550772079545,
          28.39588115905801,
          29.582361840040452,
          30.88405633953153,
          32.272915503531166,
          33.64360969507572,
          34.739089603108305,
          35.16256289318372,
          34.689089603108336,
          33.54360969507577,
          32.12291550353115,
          30.68405633953155,
          29.33236184004049,
          28.095881159058045,
          25.951550772079585,
          24.163860787344515,
          20.723564446933352,
          18.172920872224083,
          11.711735715514651,
          7.6797643011979355,
          4.652344195068787,
          2.1734071144866545,
          0.03858488763767778,
          -5.194834381818714,
          -9.488041039111309,
          -14.50148872104064,
          -19.085013507081424,
          -29.72093593281454,
          -39.91271738956356,
          -59.99131109007229
         ]
        },
        {
         "hoverinfo": "name",
         "line": {
          "color": "#555",
          "dash": "dot",
          "width": 1
         },
         "name": "-355.00 deg",
         "showlegend": false,
         "type": "scatter",
         "x": [
          -184.98569457347367,
          -191.8233626783699,
          -198.35224760736764,
          -214.7096153155495,
          -222.83943505774351,
          -234.1134646185559,
          -239.69796826647632,
          -245.92146539007024,
          -249.25835228553376,
          -252.72858723419097,
          -256.31341133172936,
          -259.989259045856,
          -263.7283959194501,
          -267.5,
          -271.27160408054976,
          -275.0107409541439,
          -278.6865886682707,
          -282.271412765809,
          -285.74164771446624,
          -289.07853460992976,
          -295.30203173352356,
          -300.88653538144405,
          -312.1605649422565,
          -320.29038468445054,
          -336.6477523926323,
          -343.1766373216301,
          -346.5786356017429,
          -348.6411786888659,
          -350.0143054265264,
          -352.26161474704355,
          -353.32748962319005,
          -354.06025738718597,
          -354.44540112846903,
          -354.8369507000331,
          -354.9495609798578,
          -354.9950013641784
         ],
         "y": [
          5.975176335900421,
          10.424714401516344,
          13.15637722819709,
          17.30269583621942,
          18.59357019807048,
          19.86570394081788,
          20.318095967162986,
          20.70337257062739,
          20.862047629248345,
          20.99332004959212,
          21.093870457953344,
          21.16082174212472,
          21.1919404997191,
          21.185808854403394,
          21.1419404997191,
          21.060821742124723,
          20.943870457953345,
          20.793320049592126,
          20.61204762924834,
          20.40337257062739,
          19.918095967162994,
          19.365703940817884,
          17.843570198070484,
          16.302695836219424,
          11.156377228197092,
          7.424714401516347,
          4.50797988512989,
          2.0813214716986472,
          -0.024823664099580364,
          -5.221788912123486,
          -9.502229976955315,
          -14.508583844447521,
          -19.08892882019638,
          -29.722005767179546,
          -39.91304111416505,
          -59.99134288302994
         ]
        },
        {
         "hoverinfo": "name",
         "line": {
          "color": "#555",
          "dash": "dot",
          "width": 1
         },
         "name": "-350.00 deg",
         "showlegend": false,
         "type": "scatter",
         "x": [
          -189.75111962661822,
          -202.09598892987356,
          -212.35345913068954,
          -231.68544618825558,
          -238.7489296614017,
          -246.79435053744254,
          -250.2573865527558,
          -253.83501123894706,
          -255.65960361036178,
          -257.503659183197,
          -259.363585957195,
          -261.2355960478809,
          -263.1157490287522,
          -265,
          -266.8842509712478,
          -268.7644039521191,
          -270.6364140428051,
          -272.496340816803,
          -274.34039638963816,
          -276.1649887610529,
          -279.74261344724425,
          -283.20564946255746,
          -291.25107033859837,
          -298.3145538117444,
          -317.64654086931046,
          -327.9040110701264,
          -333.8610146236115,
          -337.655658142777,
          -340.2488803733818,
          -344.5899563733838,
          -346.68313903391805,
          -348.1321651543866,
          -348.89652075551027,
          -349.67526564124756,
          -349.8995174652041,
          -349.99004088458565
         ],
         "y": [
          5.783261698845564,
          9.714033764687105,
          11.775956313081908,
          14.099770859367858,
          14.594923883885638,
          14.97381756434649,
          15.080414384505051,
          15.15621710943876,
          15.181648668301047,
          15.1983486227364,
          15.206059569200638,
          15.204575519007793,
          15.193746138850234,
          15.173479920117972,
          15.143746138850233,
          15.104575519007792,
          15.056059569200638,
          14.9983486227364,
          14.931648668301046,
          14.856217109438761,
          14.680414384505053,
          14.473817564346486,
          13.844923883885636,
          13.099770859367856,
          9.775956313081904,
          6.714033764687107,
          4.086501615929624,
          1.8061996909436415,
          -0.21673830115443865,
          -5.304752563074492,
          -9.546163900231825,
          -14.530626329660187,
          -19.101110842980592,
          -29.725338912804,
          -39.914050057959166,
          -59.991441985000364
         ]
        },
        {
         "hoverinfo": "name",
         "line": {
          "color": "#555",
          "dash": "dot",
          "width": 1
         },
         "name": "-340.00 deg",
         "showlegend": false,
         "type": "scatter",
         "x": [
          -197.95308877480693,
          -215.8791234237175,
          -226.9736814525869,
          -241.93858840592924,
          -246.25008326075692,
          -250.7317375930338,
          -252.56136781439045,
          -254.40686827358445,
          -255.33439270580863,
          -256.264451326916,
          -257.19654718906554,
          -258.13017678870557,
          -259.06483165862886,
          -260,
          -260.93516834137114,
          -261.8698232112944,
          -262.80345281093446,
          -263.735548673084,
          -264.6656072941914,
          -265.59313172641555,
          -267.43863218560955,
          -269.2682624069662,
          -273.7499167392431,
          -278.06141159407076,
          -293.02631854741304,
          -304.1208765762825,
          -312.0719845024495,
          -317.81176103888635,
          -322.0469112251931,
          -329.68216191155295,
          -333.58372479687006,
          -336.35562188095696,
          -337.8381516710673,
          -339.3613582271222,
          -339.8021787598649,
          -339.9803852582164
         ],
         "y": [
          5.096695738427625,
          7.678062347477537,
          8.597793300386101,
          9.232708314999615,
          9.300350040488034,
          9.318257934761284,
          9.310284149791554,
          9.293248860230516,
          9.28126664709167,
          9.26694607309168,
          9.250270119069466,
          9.231225451995389,
          9.20980249648894,
          9.185995486488366,
          9.159802496488942,
          9.13122545199539,
          9.100270119069464,
          9.06694607309168,
          9.03126664709167,
          8.993248860230516,
          8.910284149791552,
          8.818257934761286,
          8.550350040488036,
          8.232708314999616,
          6.597793300386101,
          4.678062347477541,
          2.7305972432797097,
          0.8607727963741443,
          -0.9033042615723732,
          -5.618708656914063,
          -9.715988750167744,
          -14.616875379452285,
          -19.149042963976978,
          -29.7385197635113,
          -39.91804519575886,
          -59.99183460526538
         ]
        },
        {
         "hoverinfo": "name",
         "line": {
          "color": "#555",
          "dash": "dot",
          "width": 1
         },
         "name": "-330.00 deg",
         "showlegend": false,
         "type": "scatter",
         "x": [
          -203.882655271241,
          -222.4551688385875,
          -231.83973647604438,
          -242.88818452740378,
          -245.85243927303384,
          -248.87064427851567,
          -250.08929464488176,
          -251.3127394114194,
          -251.9258936010815,
          -252.53980424258486,
          -253.1543213605271,
          -253.769294105085,
          -254.3845709678439,
          -255,
          -255.6154290321561,
          -256.23070589491493,
          -256.84567863947296,
          -257.46019575741514,
          -258.0741063989185,
          -258.6872605885806,
          -259.9107053551182,
          -261.12935572148433,
          -264.14756072696616,
          -267.1118154725962,
          -278.16026352395556,
          -287.54483116141245,
          -295.1799121181876,
          -301.2731626748182,
          -306.117344728759,
          -315.6352523321829,
          -320.8811636256163,
          -324.7520018624275,
          -326.8667171206091,
          -329.06864784533053,
          -329.7110208991901,
          -329.97132728133215
         ],
         "y": [
          4.166800369039922,
          5.606844160199614,
          5.932206248669415,
          6.009559815241832,
          5.975208936745101,
          5.916081684987016,
          5.8852313052469665,
          5.850181404584557,
          5.831068132828873,
          5.8108902224713805,
          5.78964427580763,
          5.767327641665407,
          5.7439384217734455,
          5.719475475333597,
          5.693938421773446,
          5.667327641665408,
          5.63964427580763,
          5.610890222471382,
          5.581068132828873,
          5.5501814045845554,
          5.485231305246967,
          5.416081684987017,
          5.2252089367451005,
          5.009559815241831,
          3.932206248669413,
          2.6068441601996146,
          1.1533437890942961,
          -0.3431048799285491,
          -1.8331996309600802,
          -6.087078338824387,
          -9.979764081669678,
          -14.754127901309044,
          -19.226190346310158,
          -29.75995677804501,
          -39.92456085295799,
          -59.99247562744764
         ]
        },
        {
         "hoverinfo": "name",
         "line": {
          "color": "#555",
          "dash": "dot",
          "width": 1
         },
         "name": "-310.00 deg",
         "showlegend": false,
         "type": "scatter",
         "x": [
          -209.52730461324086,
          -224.8617597295535,
          -231.1899048297363,
          -237.97025516715092,
          -239.71356983065925,
          -241.46893619919013,
          -242.17358097759967,
          -242.8792695480219,
          -243.23242437600226,
          -243.58574287247382,
          -243.93919240648842,
          -244.2927402786603,
          -244.6463537381975,
          -245,
          -245.3536462618025,
          -245.7072597213397,
          -246.06080759351158,
          -246.41425712752618,
          -246.76757562399774,
          -247.12073045197803,
          -247.82641902240033,
          -248.53106380080987,
          -250.28643016934075,
          -252.02974483284908,
          -258.8100951702637,
          -265.1382402704465,
          -270.88476640555945,
          -275.9949524301256,
          -280.47269538675914,
          -290.6024276593667,
          -297.07594307104625,
          -302.30134107560315,
          -305.3198186609207,
          -308.583531731361,
          -309.55825809928365,
          -309.9560806642815
         ],
         "y": [
          2.1690092783717687,
          2.283613205343762,
          2.1482066351372553,
          1.8805110263369171,
          1.7903185689185086,
          1.690332235389074,
          1.6475597573189855,
          1.6031884953899582,
          1.5804015444470143,
          1.557212960058154,
          1.5336222991170896,
          1.5096292165861258,
          1.4852334657955046,
          1.4604348986575815,
          1.4352334657955048,
          1.4096292165861262,
          1.3836222991170892,
          1.357212960058154,
          1.3304015444470128,
          1.3031884953899575,
          1.2475597573189858,
          1.1903322353890728,
          1.0403185689185093,
          0.8805110263369176,
          0.14820663513725413,
          -0.7163867946562369,
          -1.6861149823730335,
          -2.7327119599275056,
          -3.8309907216282335,
          -7.25914823540008,
          -10.693337314020894,
          -15.145382670060465,
          -19.451939759943034,
          -29.824279769303864,
          -39.944246119925026,
          -59.99441757441544
         ]
        },
        {
         "hoverinfo": "name",
         "line": {
          "color": "#555",
          "dash": "dot",
          "width": 1
         },
         "name": "-270.00 deg",
         "showlegend": false,
         "type": "scatter",
         "x": [
          -206.61944411079287,
          -215.29642457077978,
          -218.46110795220994,
          -221.70905190957956,
          -222.52941048373117,
          -223.35180491824565,
          -223.6811819889183,
          -224.0107336090751,
          -224.1755612738757,
          -224.3404162425316,
          -224.50529305969962,
          -224.6701862664188,
          -224.8350904010141,
          -225,
          -225.1649095989859,
          -225.3298137335812,
          -225.49470694030038,
          -225.65958375746834,
          -225.8244387261243,
          -225.9892663909249,
          -226.3188180110817,
          -226.6481950817543,
          -227.47058951626883,
          -228.29094809042044,
          -231.53889204779006,
          -234.70357542922022,
          -237.7498224252065,
          -240.64915314981818,
          -243.38055588920713,
          -250.46463358891856,
          -255.89967637641075,
          -260.9941380290685,
          -264.28940686250036,
          -268.188751952672,
          -269.42706130231653,
          -269.9427042395855
         ],
         "y": [
          -0.9732279370869548,
          -1.764348624364853,
          -2.124426027943395,
          -2.5390189104386724,
          -2.6514699297020368,
          -2.7674915645818707,
          -2.8149035000028793,
          -2.8628898500051885,
          -2.887098602924716,
          -2.91145114746676,
          -2.9359475265105246,
          -2.9605877734182884,
          -2.985371912026573,
          -3.0102999566398116,
          -3.035371912026572,
          -3.0605877734182907,
          -3.0859475265105245,
          -3.1114511474667603,
          -3.1370986029247168,
          -3.162889850005191,
          -3.2149035000028805,
          -3.2674915645818716,
          -3.4014699297020368,
          -3.539018910438671,
          -4.124426027943397,
          -4.764348624364852,
          -5.455404631092938,
          -6.193310480660946,
          -6.973227937086955,
          -9.514969420252301,
          -12.265723755961025,
          -16.10774225511957,
          -20.043213737826427,
          -30.00434077479319,
          -40.00043427276863,
          -60.000004342942646
         ]
        },
        {
         "hoverinfo": "name",
         "line": {
          "color": "#555",
          "dash": "dot",
          "width": 1
         },
         "name": "-240.00 deg",
         "showlegend": false,
         "type": "scatter",
         "x": [
          -199.14024541544325,
          -204.36172377497314,
          -206.21381358967642,
          -208.09857633531192,
          -208.57301489483143,
          -209.04823910924426,
          -209.23849040969878,
          -209.42880894323696,
          -209.52398817799792,
          -209.6191779249774,
          -209.7143760829855,
          -209.80958054999672,
          -209.90478922335842,
          -210,
          -210.09521077664152,
          -210.19041945000322,
          -210.2856239170145,
          -210.3808220750226,
          -210.47601182200202,
          -210.57119105676304,
          -210.76150959030122,
          -210.95176089075574,
          -211.42698510516857,
          -211.90142366468808,
          -213.78618641032358,
          -215.6382762250269,
          -217.44292101522825,
          -219.18707307644064,
          -220.85975458455675,
          -225.37330168652204,
          -229.0616987201294,
          -232.75216733907212,
          -235.2849960460518,
          -238.45568816453994,
          -239.50628485109314,
          -239.95040520919997
         ],
         "y": [
          -2.436272660456205,
          -3.4422186673114457,
          -3.84762884451815,
          -4.29037960222416,
          -4.40699921593907,
          -4.526008275446839,
          -4.57428211823914,
          -4.622939314369939,
          -4.647411727484515,
          -4.671980041652243,
          -4.696644271172273,
          -4.721404427168291,
          -4.746260517586929,
          -4.771212547196625,
          -4.79626051758693,
          -4.821404427168288,
          -4.846644271172273,
          -4.871980041652241,
          -4.897411727484514,
          -4.922939314369941,
          -4.974282118239141,
          -5.02600827544684,
          -5.156999215939071,
          -5.290379602224159,
          -5.847628844518153,
          -6.442218667311449,
          -7.072958558444331,
          -7.738271724514311,
          -8.436272660456206,
          -10.704688157932988,
          -13.186893456343654,
          -16.732079592455978,
          -20.453229787866576,
          -30.139417000675234,
          -40.043643711077515,
          -60.004345113397235
         ]
        },
        {
         "hoverinfo": "name",
         "line": {
          "color": "#555",
          "dash": "dot",
          "width": 1
         },
         "name": "-210.00 deg",
         "showlegend": false,
         "type": "scatter",
         "x": [
          -189.91215173606156,
          -192.37662214327372,
          -193.24081558695843,
          -194.1172919529556,
          -194.3376264517101,
          -194.55825435352733,
          -194.64656584066665,
          -194.73490241741877,
          -194.77907815652532,
          -194.82325781782652,
          -194.8674406172289,
          -194.91162577040882,
          -194.95581249286977,
          -195,
          -195.04418750713023,
          -195.08837422959118,
          -195.13255938277098,
          -195.17674218217348,
          -195.22092184347468,
          -195.26509758258123,
          -195.35343415933335,
          -195.44174564647267,
          -195.6623735482898,
          -195.8827080470444,
          -196.75918441304157,
          -197.62337785672628,
          -198.46958668342972,
          -199.29260642451015,
          -200.08784826393844,
          -202.27177292498595,
          -204.1105118631359,
          -206.01403876500308,
          -207.3653939814767,
          -209.11829225570636,
          -209.71598310734691,
          -209.97137690095758
         ],
         "y": [
          -3.2618637150774954,
          -4.357464956087062,
          -4.781008157812972,
          -5.234889529168014,
          -5.353148423971277,
          -5.473330927281008,
          -5.521943113599203,
          -5.570863587065885,
          -5.595439459606192,
          -5.620092434585043,
          -5.644822518988903,
          -5.669629718252307,
          -5.694514036257395,
          -5.719475475333596,
          -5.744514036257396,
          -5.769629718252306,
          -5.794822518988905,
          -5.820092434585046,
          -5.845439459606192,
          -5.870863587065886,
          -5.921943113599205,
          -5.9733309272810065,
          -6.103148423971275,
          -6.234889529168011,
          -6.781008157812972,
          -7.357464956087063,
          -7.963662913962381,
          -8.598793860490886,
          -9.261863715077498,
          -11.406608921751245,
          -13.75560292379796,
          -17.138198674062732,
          -20.730600258806064,
          -30.235702451504753,
          -40.07500487427773,
          -60.00752002960971
         ]
        },
        {
         "hoverinfo": "name",
         "line": {
          "color": "#555",
          "dash": "dot",
          "width": 1
         },
         "name": "-180.00 deg",
         "showlegend": false,
         "type": "scatter",
         "x": [
          -180,
          -180,
          -180,
          -180,
          -180,
          -180,
          -180,
          -180,
          -180,
          -180,
          -180,
          -180,
          -180,
          -180,
          -180,
          -180,
          -180,
          -180,
          -180,
          -180,
          -180,
          -180,
          -180,
          -180,
          -180,
          -180,
          -180,
          -180,
          -180,
          -180,
          -180,
          -180,
          -180,
          -180,
          -180,
          -180
         ],
         "y": [
          -3.528697248729707,
          -4.649481613751726,
          -5.078037820877343,
          -5.534983129163744,
          -5.653692425461207,
          -5.774197205849433,
          -5.82290229493352,
          -5.871895053021047,
          -5.896499329536557,
          -5.921175546836581,
          -5.94592371028475,
          -5.970743824053145,
          -5.995635891122028,
          -6.020599913279624,
          -6.045635891122028,
          -6.070743824053146,
          -6.095923710284749,
          -6.121175546836581,
          -6.146499329536558,
          -6.17189505302105,
          -6.222902294933521,
          -6.2741972058494335,
          -6.403692425461207,
          -6.534983129163744,
          -7.078037820877343,
          -7.6494816137517265,
          -8.248852055886793,
          -8.875518407124991,
          -9.528697248729706,
          -11.637589600041242,
          -13.946455874173909,
          -17.277840682867595,
          -20.8278537031645,
          -30.27041844216076,
          -40.086427475652854,
          -60.00868154958637
         ]
        },
        {
         "hoverinfo": "name",
         "line": {
          "color": "#555",
          "dash": "dot",
          "width": 1
         },
         "name": "-1.00 deg",
         "showlegend": false,
         "type": "scatter",
         "x": [
          -178.9955474140844,
          -177.57843869810938,
          -176.1461726315946,
          -171.87015463445732,
          -169.0655841992227,
          -163.6281753843424,
          -159.73978336941855,
          -153.6885302407643,
          -149.2654191513185,
          -143.3364318828916,
          -135.19510381314353,
          -123.90956294912183,
          -108.75316199450953,
          -90.50000000000011,
          -72.24683800549099,
          -57.090437050878734,
          -45.804896186856354,
          -37.663568117108525,
          -31.734580848681617,
          -27.311469759235877,
          -21.26021663058151,
          -17.37182461565766,
          -11.934415800777344,
          -9.129845365542735,
          -4.853827368405462,
          -3.4215613018906197,
          -2.7086752783033035,
          -2.2843538098456975,
          -2.004452585915601,
          -1.5498483142198438,
          -1.3354118325262903,
          -1.1883234045172912,
          -1.1111034506973283,
          -1.0326536082160374,
          -1.0101004816413592,
          -1.001000950028697
         ],
         "y": [
          6.038584887637681,
          10.679764301197936,
          13.711735715514646,
          19.17292087222408,
          21.473564446933352,
          24.66386078734449,
          26.351550772079545,
          28.39588115905801,
          29.582361840040452,
          30.88405633953153,
          32.272915503531166,
          33.64360969507572,
          34.739089603108305,
          35.16256289318372,
          34.689089603108336,
          33.54360969507577,
          32.12291550353115,
          30.68405633953155,
          29.33236184004049,
          28.095881159058045,
          25.951550772079585,
          24.163860787344515,
          20.723564446933352,
          18.172920872224083,
          11.711735715514651,
          7.6797643011979355,
          4.652344195068787,
          2.1734071144866545,
          0.03858488763767778,
          -5.194834381818714,
          -9.488041039111309,
          -14.50148872104064,
          -19.085013507081424,
          -29.72093593281454,
          -39.91271738956356,
          -59.99131109007229
         ]
        },
        {
         "hoverinfo": "name",
         "line": {
          "color": "#555",
          "dash": "dot",
          "width": 1
         },
         "name": "-5.00 deg",
         "showlegend": false,
         "type": "scatter",
         "x": [
          -175.01430542652633,
          -168.1766373216301,
          -161.64775239263236,
          -145.2903846844505,
          -137.16056494225649,
          -125.8865353814441,
          -120.30203173352368,
          -114.07853460992976,
          -110.74164771446624,
          -107.27141276580903,
          -103.68658866827064,
          -100.01074095414401,
          -96.27160408054988,
          -92.5,
          -88.72839591945024,
          -84.9892590458561,
          -81.3134113317293,
          -77.72858723419102,
          -74.25835228553376,
          -70.92146539007024,
          -64.69796826647644,
          -59.11346461855595,
          -47.839435057743515,
          -39.709615315549456,
          -23.3522476073677,
          -16.823362678369904,
          -13.421364398257083,
          -11.35882131113408,
          -9.985694573473609,
          -7.738385252956448,
          -6.672510376809953,
          -5.93974261281403,
          -5.55459887153097,
          -5.163049299966872,
          -5.050439020142221,
          -5.004998635821607
         ],
         "y": [
          5.975176335900421,
          10.424714401516344,
          13.15637722819709,
          17.30269583621942,
          18.59357019807048,
          19.86570394081788,
          20.318095967162986,
          20.70337257062739,
          20.862047629248345,
          20.99332004959212,
          21.093870457953344,
          21.16082174212472,
          21.1919404997191,
          21.185808854403394,
          21.1419404997191,
          21.060821742124723,
          20.943870457953345,
          20.793320049592126,
          20.61204762924834,
          20.40337257062739,
          19.918095967162994,
          19.365703940817884,
          17.843570198070484,
          16.302695836219424,
          11.156377228197092,
          7.424714401516347,
          4.50797988512989,
          2.0813214716986472,
          -0.024823664099580364,
          -5.221788912123486,
          -9.502229976955315,
          -14.508583844447521,
          -19.08892882019638,
          -29.722005767179546,
          -39.91304111416505,
          -59.99134288302994
         ]
        },
        {
         "hoverinfo": "name",
         "line": {
          "color": "#555",
          "dash": "dot",
          "width": 1
         },
         "name": "-10.00 deg",
         "showlegend": false,
         "type": "scatter",
         "x": [
          -170.24888037338178,
          -157.90401107012644,
          -147.64654086931046,
          -128.31455381174442,
          -121.25107033859831,
          -113.20564946255746,
          -109.7426134472442,
          -106.16498876105294,
          -104.34039638963822,
          -102.49634081680301,
          -100.63641404280497,
          -98.7644039521191,
          -96.88425097124781,
          -95,
          -93.11574902875219,
          -91.2355960478809,
          -89.36358595719491,
          -87.50365918319699,
          -85.65960361036184,
          -83.83501123894712,
          -80.25738655275575,
          -76.79435053744254,
          -68.74892966140163,
          -61.68544618825558,
          -42.353459130689544,
          -32.09598892987361,
          -26.13898537638852,
          -22.344341857223014,
          -19.75111962661822,
          -15.410043626616186,
          -13.316860966081947,
          -11.867834845613402,
          -11.103479244489733,
          -10.324734358752437,
          -10.100482534795901,
          -10.009959115414347
         ],
         "y": [
          5.783261698845564,
          9.714033764687105,
          11.775956313081908,
          14.099770859367858,
          14.594923883885638,
          14.97381756434649,
          15.080414384505051,
          15.15621710943876,
          15.181648668301047,
          15.1983486227364,
          15.206059569200638,
          15.204575519007793,
          15.193746138850234,
          15.173479920117972,
          15.143746138850233,
          15.104575519007792,
          15.056059569200638,
          14.9983486227364,
          14.931648668301046,
          14.856217109438761,
          14.680414384505053,
          14.473817564346486,
          13.844923883885636,
          13.099770859367856,
          9.775956313081904,
          6.714033764687107,
          4.086501615929624,
          1.8061996909436415,
          -0.21673830115443865,
          -5.304752563074492,
          -9.546163900231825,
          -14.530626329660187,
          -19.101110842980592,
          -29.725338912804,
          -39.914050057959166,
          -59.991441985000364
         ]
        },
        {
         "hoverinfo": "name",
         "line": {
          "color": "#555",
          "dash": "dot",
          "width": 1
         },
         "name": "-20.00 deg",
         "showlegend": false,
         "type": "scatter",
         "x": [
          -162.04691122519307,
          -144.1208765762825,
          -133.0263185474131,
          -118.06141159407076,
          -113.74991673924308,
          -109.26826240696619,
          -107.43863218560955,
          -105.59313172641555,
          -104.66560729419137,
          -103.735548673084,
          -102.80345281093446,
          -101.86982321129443,
          -100.93516834137114,
          -100,
          -99.06483165862886,
          -98.13017678870563,
          -97.19654718906554,
          -96.264451326916,
          -95.33439270580863,
          -94.40686827358445,
          -92.56136781439045,
          -90.73173759303381,
          -86.25008326075692,
          -81.93858840592924,
          -66.97368145258696,
          -55.87912342371749,
          -47.92801549755052,
          -42.188238961113655,
          -37.95308877480687,
          -30.317838088447047,
          -26.416275203129942,
          -23.64437811904304,
          -22.161848328932706,
          -20.638641772877804,
          -20.197821240135113,
          -20.019614741783585
         ],
         "y": [
          5.096695738427625,
          7.678062347477537,
          8.597793300386101,
          9.232708314999615,
          9.300350040488034,
          9.318257934761284,
          9.310284149791554,
          9.293248860230516,
          9.28126664709167,
          9.26694607309168,
          9.250270119069466,
          9.231225451995389,
          9.20980249648894,
          9.185995486488366,
          9.159802496488942,
          9.13122545199539,
          9.100270119069464,
          9.06694607309168,
          9.03126664709167,
          8.993248860230516,
          8.910284149791552,
          8.818257934761286,
          8.550350040488036,
          8.232708314999616,
          6.597793300386101,
          4.678062347477541,
          2.7305972432797097,
          0.8607727963741443,
          -0.9033042615723732,
          -5.618708656914063,
          -9.715988750167744,
          -14.616875379452285,
          -19.149042963976978,
          -29.7385197635113,
          -39.91804519575886,
          -59.99183460526538
         ]
        },
        {
         "hoverinfo": "name",
         "line": {
          "color": "#555",
          "dash": "dot",
          "width": 1
         },
         "name": "-30.00 deg",
         "showlegend": false,
         "type": "scatter",
         "x": [
          -156.117344728759,
          -137.5448311614125,
          -128.16026352395562,
          -117.11181547259622,
          -114.14756072696616,
          -111.12935572148433,
          -109.91070535511824,
          -108.68726058858061,
          -108.0741063989185,
          -107.46019575741514,
          -106.84567863947291,
          -106.23070589491499,
          -105.6154290321561,
          -105,
          -104.3845709678439,
          -103.76929410508507,
          -103.15432136052704,
          -102.53980424258486,
          -101.9258936010815,
          -101.31273941141939,
          -100.08929464488182,
          -98.87064427851567,
          -95.85243927303384,
          -92.88818452740378,
          -81.83973647604444,
          -72.45516883858755,
          -64.82008788181241,
          -58.726837325181805,
          -53.88265527124099,
          -44.364747667817085,
          -39.118836374383704,
          -35.247998137572495,
          -33.13328287939089,
          -30.93135215466947,
          -30.28897910080991,
          -30.02867271866785
         ],
         "y": [
          4.166800369039922,
          5.606844160199614,
          5.932206248669415,
          6.009559815241832,
          5.975208936745101,
          5.916081684987016,
          5.8852313052469665,
          5.850181404584557,
          5.831068132828873,
          5.8108902224713805,
          5.78964427580763,
          5.767327641665407,
          5.7439384217734455,
          5.719475475333597,
          5.693938421773446,
          5.667327641665408,
          5.63964427580763,
          5.610890222471382,
          5.581068132828873,
          5.5501814045845554,
          5.485231305246967,
          5.416081684987017,
          5.2252089367451005,
          5.009559815241831,
          3.932206248669413,
          2.6068441601996146,
          1.1533437890942961,
          -0.3431048799285491,
          -1.8331996309600802,
          -6.087078338824387,
          -9.979764081669678,
          -14.754127901309044,
          -19.226190346310158,
          -29.75995677804501,
          -39.92456085295799,
          -59.99247562744764
         ]
        },
        {
         "hoverinfo": "name",
         "line": {
          "color": "#555",
          "dash": "dot",
          "width": 1
         },
         "name": "-50.00 deg",
         "showlegend": false,
         "type": "scatter",
         "x": [
          -150.47269538675914,
          -135.1382402704465,
          -128.8100951702637,
          -122.02974483284908,
          -120.28643016934075,
          -118.53106380080987,
          -117.82641902240033,
          -117.12073045197809,
          -116.76757562399774,
          -116.41425712752618,
          -116.06080759351158,
          -115.70725972133971,
          -115.35364626180251,
          -115,
          -114.64635373819749,
          -114.29274027866029,
          -113.93919240648842,
          -113.58574287247382,
          -113.23242437600226,
          -112.87926954802197,
          -112.17358097759967,
          -111.46893619919013,
          -109.71356983065925,
          -107.97025516715092,
          -101.18990482973629,
          -94.86175972955351,
          -89.11523359444055,
          -84.00504756987442,
          -79.52730461324086,
          -69.3975723406333,
          -62.924056928953746,
          -57.69865892439685,
          -54.6801813390793,
          -51.416468268638994,
          -50.44174190071635,
          -50.0439193357185
         ],
         "y": [
          2.1690092783717687,
          2.283613205343762,
          2.1482066351372553,
          1.8805110263369171,
          1.7903185689185086,
          1.690332235389074,
          1.6475597573189855,
          1.6031884953899582,
          1.5804015444470143,
          1.557212960058154,
          1.5336222991170896,
          1.5096292165861258,
          1.4852334657955046,
          1.4604348986575815,
          1.4352334657955048,
          1.4096292165861262,
          1.3836222991170892,
          1.357212960058154,
          1.3304015444470128,
          1.3031884953899575,
          1.2475597573189858,
          1.1903322353890728,
          1.0403185689185093,
          0.8805110263369176,
          0.14820663513725413,
          -0.7163867946562369,
          -1.6861149823730335,
          -2.7327119599275056,
          -3.8309907216282335,
          -7.25914823540008,
          -10.693337314020894,
          -15.145382670060465,
          -19.451939759943034,
          -29.824279769303864,
          -39.944246119925026,
          -59.99441757441544
         ]
        },
        {
         "hoverinfo": "name",
         "line": {
          "color": "#555",
          "dash": "dot",
          "width": 1
         },
         "name": "-90.00 deg",
         "showlegend": false,
         "type": "scatter",
         "x": [
          -153.38055588920713,
          -144.70357542922022,
          -141.53889204779006,
          -138.29094809042044,
          -137.47058951626883,
          -136.64819508175435,
          -136.3188180110817,
          -135.9892663909249,
          -135.8244387261243,
          -135.6595837574684,
          -135.49470694030038,
          -135.3298137335812,
          -135.1649095989859,
          -135,
          -134.8350904010141,
          -134.6701862664188,
          -134.50529305969962,
          -134.34041624253166,
          -134.1755612738757,
          -134.0107336090751,
          -133.6811819889183,
          -133.3518049182457,
          -132.52941048373117,
          -131.70905190957956,
          -128.46110795220994,
          -125.29642457077978,
          -122.2501775747935,
          -119.35084685018182,
          -116.61944411079287,
          -109.53536641108144,
          -104.10032362358925,
          -99.0058619709315,
          -95.71059313749964,
          -91.81124804732798,
          -90.57293869768347,
          -90.05729576041449
         ],
         "y": [
          -0.9732279370869548,
          -1.764348624364853,
          -2.124426027943395,
          -2.5390189104386724,
          -2.6514699297020368,
          -2.7674915645818707,
          -2.8149035000028793,
          -2.8628898500051885,
          -2.887098602924716,
          -2.91145114746676,
          -2.9359475265105246,
          -2.9605877734182884,
          -2.985371912026573,
          -3.0102999566398116,
          -3.035371912026572,
          -3.0605877734182907,
          -3.0859475265105245,
          -3.1114511474667603,
          -3.1370986029247168,
          -3.162889850005191,
          -3.2149035000028805,
          -3.2674915645818716,
          -3.4014699297020368,
          -3.539018910438671,
          -4.124426027943397,
          -4.764348624364852,
          -5.455404631092938,
          -6.193310480660946,
          -6.973227937086955,
          -9.514969420252301,
          -12.265723755961025,
          -16.10774225511957,
          -20.043213737826427,
          -30.00434077479319,
          -40.00043427276863,
          -60.000004342942646
         ]
        },
        {
         "hoverinfo": "name",
         "line": {
          "color": "#555",
          "dash": "dot",
          "width": 1
         },
         "name": "-120.00 deg",
         "showlegend": false,
         "type": "scatter",
         "x": [
          -160.85975458455675,
          -155.63827622502686,
          -153.78618641032358,
          -151.90142366468808,
          -151.42698510516857,
          -150.95176089075574,
          -150.76150959030122,
          -150.57119105676304,
          -150.47601182200208,
          -150.3808220750226,
          -150.2856239170145,
          -150.19041945000328,
          -150.09521077664158,
          -150,
          -149.90478922335848,
          -149.80958054999678,
          -149.7143760829855,
          -149.6191779249774,
          -149.52398817799798,
          -149.42880894323696,
          -149.23849040969878,
          -149.04823910924426,
          -148.57301489483143,
          -148.09857633531192,
          -146.21381358967642,
          -144.3617237749731,
          -142.55707898477175,
          -140.81292692355936,
          -139.14024541544325,
          -134.62669831347796,
          -130.9383012798706,
          -127.24783266092788,
          -124.71500395394821,
          -121.54431183546006,
          -120.49371514890686,
          -120.04959479080003
         ],
         "y": [
          -2.436272660456205,
          -3.4422186673114457,
          -3.84762884451815,
          -4.29037960222416,
          -4.40699921593907,
          -4.526008275446839,
          -4.57428211823914,
          -4.622939314369939,
          -4.647411727484515,
          -4.671980041652243,
          -4.696644271172273,
          -4.721404427168291,
          -4.746260517586929,
          -4.771212547196625,
          -4.79626051758693,
          -4.821404427168288,
          -4.846644271172273,
          -4.871980041652241,
          -4.897411727484514,
          -4.922939314369941,
          -4.974282118239141,
          -5.02600827544684,
          -5.156999215939071,
          -5.290379602224159,
          -5.847628844518153,
          -6.442218667311449,
          -7.072958558444331,
          -7.738271724514311,
          -8.436272660456206,
          -10.704688157932988,
          -13.186893456343654,
          -16.732079592455978,
          -20.453229787866576,
          -30.139417000675234,
          -40.043643711077515,
          -60.004345113397235
         ]
        },
        {
         "hoverinfo": "name",
         "line": {
          "color": "#555",
          "dash": "dot",
          "width": 1
         },
         "name": "-150.00 deg",
         "showlegend": false,
         "type": "scatter",
         "x": [
          -170.08784826393844,
          -167.62337785672628,
          -166.75918441304157,
          -165.8827080470444,
          -165.6623735482899,
          -165.44174564647267,
          -165.35343415933335,
          -165.26509758258123,
          -165.22092184347468,
          -165.17674218217348,
          -165.1325593827711,
          -165.08837422959118,
          -165.04418750713023,
          -165,
          -164.95581249286977,
          -164.91162577040882,
          -164.86744061722902,
          -164.82325781782652,
          -164.77907815652532,
          -164.73490241741877,
          -164.64656584066665,
          -164.55825435352733,
          -164.3376264517102,
          -164.1172919529556,
          -163.24081558695843,
          -162.37662214327372,
          -161.53041331657028,
          -160.70739357548985,
          -159.91215173606156,
          -157.72822707501405,
          -155.8894881368641,
          -153.98596123499692,
          -152.6346060185233,
          -150.88170774429364,
          -150.28401689265309,
          -150.02862309904242
         ],
         "y": [
          -3.2618637150774954,
          -4.357464956087062,
          -4.781008157812972,
          -5.234889529168014,
          -5.353148423971277,
          -5.473330927281008,
          -5.521943113599203,
          -5.570863587065885,
          -5.595439459606192,
          -5.620092434585043,
          -5.644822518988903,
          -5.669629718252307,
          -5.694514036257395,
          -5.719475475333596,
          -5.744514036257396,
          -5.769629718252306,
          -5.794822518988905,
          -5.820092434585046,
          -5.845439459606192,
          -5.870863587065886,
          -5.921943113599205,
          -5.9733309272810065,
          -6.103148423971275,
          -6.234889529168011,
          -6.781008157812972,
          -7.357464956087063,
          -7.963662913962381,
          -8.598793860490886,
          -9.261863715077498,
          -11.406608921751245,
          -13.75560292379796,
          -17.138198674062732,
          -20.730600258806064,
          -30.235702451504753,
          -40.07500487427773,
          -60.00752002960971
         ]
        },
        {
         "hoverinfo": "name",
         "line": {
          "color": "#555",
          "dash": "dot",
          "width": 1
         },
         "name": "-180.00 deg",
         "showlegend": false,
         "type": "scatter",
         "x": [
          -180,
          -180,
          -180,
          -180,
          -180,
          -180,
          -180,
          -180,
          -180,
          -180,
          -180,
          -180,
          -180,
          -180,
          -180,
          -180,
          -180,
          -180,
          -180,
          -180,
          -180,
          -180,
          -180,
          -180,
          -180,
          -180,
          -180,
          -180,
          -180,
          -180,
          -180,
          -180,
          -180,
          -180,
          -180,
          -180
         ],
         "y": [
          -3.528697248729707,
          -4.649481613751726,
          -5.078037820877343,
          -5.534983129163744,
          -5.653692425461207,
          -5.774197205849433,
          -5.82290229493352,
          -5.871895053021047,
          -5.896499329536557,
          -5.921175546836581,
          -5.94592371028475,
          -5.970743824053145,
          -5.995635891122028,
          -6.020599913279624,
          -6.045635891122028,
          -6.070743824053146,
          -6.095923710284749,
          -6.121175546836581,
          -6.146499329536558,
          -6.17189505302105,
          -6.222902294933521,
          -6.2741972058494335,
          -6.403692425461207,
          -6.534983129163744,
          -7.078037820877343,
          -7.6494816137517265,
          -8.248852055886793,
          -8.875518407124991,
          -9.528697248729706,
          -11.637589600041242,
          -13.946455874173909,
          -17.277840682867595,
          -20.8278537031645,
          -30.27041844216076,
          -40.086427475652854,
          -60.00868154958637
         ]
        },
        {
         "hoverinfo": "name",
         "line": {
          "color": "#555",
          "dash": "dot",
          "width": 1
         },
         "name": "-180.00 deg",
         "showlegend": false,
         "type": "scatter",
         "x": [
          -180,
          -180,
          -180,
          -180,
          -180,
          -180,
          -180,
          -180,
          -180,
          -180,
          -180,
          -180,
          -180,
          -180,
          -180,
          -180,
          -180,
          -180,
          -180,
          -180,
          -180,
          -180,
          -180,
          -180,
          -180,
          -180,
          -180,
          -180,
          -180,
          -180,
          -180,
          -180,
          -180,
          -180,
          -180,
          -180
         ],
         "y": [
          -3.528697248729707,
          -4.649481613751726,
          -5.078037820877343,
          -5.534983129163744,
          -5.653692425461207,
          -5.774197205849433,
          -5.82290229493352,
          -5.871895053021047,
          -5.896499329536557,
          -5.921175546836581,
          -5.94592371028475,
          -5.970743824053145,
          -5.995635891122028,
          -6.020599913279624,
          -6.045635891122028,
          -6.070743824053146,
          -6.095923710284749,
          -6.121175546836581,
          -6.146499329536558,
          -6.17189505302105,
          -6.222902294933521,
          -6.2741972058494335,
          -6.403692425461207,
          -6.534983129163744,
          -7.078037820877343,
          -7.6494816137517265,
          -8.248852055886793,
          -8.875518407124991,
          -9.528697248729706,
          -11.637589600041242,
          -13.946455874173909,
          -17.277840682867595,
          -20.8278537031645,
          -30.27041844216076,
          -40.086427475652854,
          -60.00868154958637
         ]
        }
       ],
       "layout": {
        "template": {
         "data": {
          "bar": [
           {
            "error_x": {
             "color": "#2a3f5f"
            },
            "error_y": {
             "color": "#2a3f5f"
            },
            "marker": {
             "line": {
              "color": "#E5ECF6",
              "width": 0.5
             }
            },
            "type": "bar"
           }
          ],
          "barpolar": [
           {
            "marker": {
             "line": {
              "color": "#E5ECF6",
              "width": 0.5
             }
            },
            "type": "barpolar"
           }
          ],
          "carpet": [
           {
            "aaxis": {
             "endlinecolor": "#2a3f5f",
             "gridcolor": "white",
             "linecolor": "white",
             "minorgridcolor": "white",
             "startlinecolor": "#2a3f5f"
            },
            "baxis": {
             "endlinecolor": "#2a3f5f",
             "gridcolor": "white",
             "linecolor": "white",
             "minorgridcolor": "white",
             "startlinecolor": "#2a3f5f"
            },
            "type": "carpet"
           }
          ],
          "choropleth": [
           {
            "colorbar": {
             "outlinewidth": 0,
             "ticks": ""
            },
            "type": "choropleth"
           }
          ],
          "contour": [
           {
            "colorbar": {
             "outlinewidth": 0,
             "ticks": ""
            },
            "colorscale": [
             [
              0,
              "#0d0887"
             ],
             [
              0.1111111111111111,
              "#46039f"
             ],
             [
              0.2222222222222222,
              "#7201a8"
             ],
             [
              0.3333333333333333,
              "#9c179e"
             ],
             [
              0.4444444444444444,
              "#bd3786"
             ],
             [
              0.5555555555555556,
              "#d8576b"
             ],
             [
              0.6666666666666666,
              "#ed7953"
             ],
             [
              0.7777777777777778,
              "#fb9f3a"
             ],
             [
              0.8888888888888888,
              "#fdca26"
             ],
             [
              1,
              "#f0f921"
             ]
            ],
            "type": "contour"
           }
          ],
          "contourcarpet": [
           {
            "colorbar": {
             "outlinewidth": 0,
             "ticks": ""
            },
            "type": "contourcarpet"
           }
          ],
          "heatmap": [
           {
            "colorbar": {
             "outlinewidth": 0,
             "ticks": ""
            },
            "colorscale": [
             [
              0,
              "#0d0887"
             ],
             [
              0.1111111111111111,
              "#46039f"
             ],
             [
              0.2222222222222222,
              "#7201a8"
             ],
             [
              0.3333333333333333,
              "#9c179e"
             ],
             [
              0.4444444444444444,
              "#bd3786"
             ],
             [
              0.5555555555555556,
              "#d8576b"
             ],
             [
              0.6666666666666666,
              "#ed7953"
             ],
             [
              0.7777777777777778,
              "#fb9f3a"
             ],
             [
              0.8888888888888888,
              "#fdca26"
             ],
             [
              1,
              "#f0f921"
             ]
            ],
            "type": "heatmap"
           }
          ],
          "heatmapgl": [
           {
            "colorbar": {
             "outlinewidth": 0,
             "ticks": ""
            },
            "colorscale": [
             [
              0,
              "#0d0887"
             ],
             [
              0.1111111111111111,
              "#46039f"
             ],
             [
              0.2222222222222222,
              "#7201a8"
             ],
             [
              0.3333333333333333,
              "#9c179e"
             ],
             [
              0.4444444444444444,
              "#bd3786"
             ],
             [
              0.5555555555555556,
              "#d8576b"
             ],
             [
              0.6666666666666666,
              "#ed7953"
             ],
             [
              0.7777777777777778,
              "#fb9f3a"
             ],
             [
              0.8888888888888888,
              "#fdca26"
             ],
             [
              1,
              "#f0f921"
             ]
            ],
            "type": "heatmapgl"
           }
          ],
          "histogram": [
           {
            "marker": {
             "colorbar": {
              "outlinewidth": 0,
              "ticks": ""
             }
            },
            "type": "histogram"
           }
          ],
          "histogram2d": [
           {
            "colorbar": {
             "outlinewidth": 0,
             "ticks": ""
            },
            "colorscale": [
             [
              0,
              "#0d0887"
             ],
             [
              0.1111111111111111,
              "#46039f"
             ],
             [
              0.2222222222222222,
              "#7201a8"
             ],
             [
              0.3333333333333333,
              "#9c179e"
             ],
             [
              0.4444444444444444,
              "#bd3786"
             ],
             [
              0.5555555555555556,
              "#d8576b"
             ],
             [
              0.6666666666666666,
              "#ed7953"
             ],
             [
              0.7777777777777778,
              "#fb9f3a"
             ],
             [
              0.8888888888888888,
              "#fdca26"
             ],
             [
              1,
              "#f0f921"
             ]
            ],
            "type": "histogram2d"
           }
          ],
          "histogram2dcontour": [
           {
            "colorbar": {
             "outlinewidth": 0,
             "ticks": ""
            },
            "colorscale": [
             [
              0,
              "#0d0887"
             ],
             [
              0.1111111111111111,
              "#46039f"
             ],
             [
              0.2222222222222222,
              "#7201a8"
             ],
             [
              0.3333333333333333,
              "#9c179e"
             ],
             [
              0.4444444444444444,
              "#bd3786"
             ],
             [
              0.5555555555555556,
              "#d8576b"
             ],
             [
              0.6666666666666666,
              "#ed7953"
             ],
             [
              0.7777777777777778,
              "#fb9f3a"
             ],
             [
              0.8888888888888888,
              "#fdca26"
             ],
             [
              1,
              "#f0f921"
             ]
            ],
            "type": "histogram2dcontour"
           }
          ],
          "mesh3d": [
           {
            "colorbar": {
             "outlinewidth": 0,
             "ticks": ""
            },
            "type": "mesh3d"
           }
          ],
          "parcoords": [
           {
            "line": {
             "colorbar": {
              "outlinewidth": 0,
              "ticks": ""
             }
            },
            "type": "parcoords"
           }
          ],
          "pie": [
           {
            "automargin": true,
            "type": "pie"
           }
          ],
          "scatter": [
           {
            "marker": {
             "colorbar": {
              "outlinewidth": 0,
              "ticks": ""
             }
            },
            "type": "scatter"
           }
          ],
          "scatter3d": [
           {
            "line": {
             "colorbar": {
              "outlinewidth": 0,
              "ticks": ""
             }
            },
            "marker": {
             "colorbar": {
              "outlinewidth": 0,
              "ticks": ""
             }
            },
            "type": "scatter3d"
           }
          ],
          "scattercarpet": [
           {
            "marker": {
             "colorbar": {
              "outlinewidth": 0,
              "ticks": ""
             }
            },
            "type": "scattercarpet"
           }
          ],
          "scattergeo": [
           {
            "marker": {
             "colorbar": {
              "outlinewidth": 0,
              "ticks": ""
             }
            },
            "type": "scattergeo"
           }
          ],
          "scattergl": [
           {
            "marker": {
             "colorbar": {
              "outlinewidth": 0,
              "ticks": ""
             }
            },
            "type": "scattergl"
           }
          ],
          "scattermapbox": [
           {
            "marker": {
             "colorbar": {
              "outlinewidth": 0,
              "ticks": ""
             }
            },
            "type": "scattermapbox"
           }
          ],
          "scatterpolar": [
           {
            "marker": {
             "colorbar": {
              "outlinewidth": 0,
              "ticks": ""
             }
            },
            "type": "scatterpolar"
           }
          ],
          "scatterpolargl": [
           {
            "marker": {
             "colorbar": {
              "outlinewidth": 0,
              "ticks": ""
             }
            },
            "type": "scatterpolargl"
           }
          ],
          "scatterternary": [
           {
            "marker": {
             "colorbar": {
              "outlinewidth": 0,
              "ticks": ""
             }
            },
            "type": "scatterternary"
           }
          ],
          "surface": [
           {
            "colorbar": {
             "outlinewidth": 0,
             "ticks": ""
            },
            "colorscale": [
             [
              0,
              "#0d0887"
             ],
             [
              0.1111111111111111,
              "#46039f"
             ],
             [
              0.2222222222222222,
              "#7201a8"
             ],
             [
              0.3333333333333333,
              "#9c179e"
             ],
             [
              0.4444444444444444,
              "#bd3786"
             ],
             [
              0.5555555555555556,
              "#d8576b"
             ],
             [
              0.6666666666666666,
              "#ed7953"
             ],
             [
              0.7777777777777778,
              "#fb9f3a"
             ],
             [
              0.8888888888888888,
              "#fdca26"
             ],
             [
              1,
              "#f0f921"
             ]
            ],
            "type": "surface"
           }
          ],
          "table": [
           {
            "cells": {
             "fill": {
              "color": "#EBF0F8"
             },
             "line": {
              "color": "white"
             }
            },
            "header": {
             "fill": {
              "color": "#C8D4E3"
             },
             "line": {
              "color": "white"
             }
            },
            "type": "table"
           }
          ]
         },
         "layout": {
          "annotationdefaults": {
           "arrowcolor": "#2a3f5f",
           "arrowhead": 0,
           "arrowwidth": 1
          },
          "coloraxis": {
           "colorbar": {
            "outlinewidth": 0,
            "ticks": ""
           }
          },
          "colorscale": {
           "diverging": [
            [
             0,
             "#8e0152"
            ],
            [
             0.1,
             "#c51b7d"
            ],
            [
             0.2,
             "#de77ae"
            ],
            [
             0.3,
             "#f1b6da"
            ],
            [
             0.4,
             "#fde0ef"
            ],
            [
             0.5,
             "#f7f7f7"
            ],
            [
             0.6,
             "#e6f5d0"
            ],
            [
             0.7,
             "#b8e186"
            ],
            [
             0.8,
             "#7fbc41"
            ],
            [
             0.9,
             "#4d9221"
            ],
            [
             1,
             "#276419"
            ]
           ],
           "sequential": [
            [
             0,
             "#0d0887"
            ],
            [
             0.1111111111111111,
             "#46039f"
            ],
            [
             0.2222222222222222,
             "#7201a8"
            ],
            [
             0.3333333333333333,
             "#9c179e"
            ],
            [
             0.4444444444444444,
             "#bd3786"
            ],
            [
             0.5555555555555556,
             "#d8576b"
            ],
            [
             0.6666666666666666,
             "#ed7953"
            ],
            [
             0.7777777777777778,
             "#fb9f3a"
            ],
            [
             0.8888888888888888,
             "#fdca26"
            ],
            [
             1,
             "#f0f921"
            ]
           ],
           "sequentialminus": [
            [
             0,
             "#0d0887"
            ],
            [
             0.1111111111111111,
             "#46039f"
            ],
            [
             0.2222222222222222,
             "#7201a8"
            ],
            [
             0.3333333333333333,
             "#9c179e"
            ],
            [
             0.4444444444444444,
             "#bd3786"
            ],
            [
             0.5555555555555556,
             "#d8576b"
            ],
            [
             0.6666666666666666,
             "#ed7953"
            ],
            [
             0.7777777777777778,
             "#fb9f3a"
            ],
            [
             0.8888888888888888,
             "#fdca26"
            ],
            [
             1,
             "#f0f921"
            ]
           ]
          },
          "colorway": [
           "#636efa",
           "#EF553B",
           "#00cc96",
           "#ab63fa",
           "#FFA15A",
           "#19d3f3",
           "#FF6692",
           "#B6E880",
           "#FF97FF",
           "#FECB52"
          ],
          "font": {
           "color": "#2a3f5f"
          },
          "geo": {
           "bgcolor": "white",
           "lakecolor": "white",
           "landcolor": "#E5ECF6",
           "showlakes": true,
           "showland": true,
           "subunitcolor": "white"
          },
          "hoverlabel": {
           "align": "left"
          },
          "hovermode": "closest",
          "mapbox": {
           "style": "light"
          },
          "paper_bgcolor": "white",
          "plot_bgcolor": "#E5ECF6",
          "polar": {
           "angularaxis": {
            "gridcolor": "white",
            "linecolor": "white",
            "ticks": ""
           },
           "bgcolor": "#E5ECF6",
           "radialaxis": {
            "gridcolor": "white",
            "linecolor": "white",
            "ticks": ""
           }
          },
          "scene": {
           "xaxis": {
            "backgroundcolor": "#E5ECF6",
            "gridcolor": "white",
            "gridwidth": 2,
            "linecolor": "white",
            "showbackground": true,
            "ticks": "",
            "zerolinecolor": "white"
           },
           "yaxis": {
            "backgroundcolor": "#E5ECF6",
            "gridcolor": "white",
            "gridwidth": 2,
            "linecolor": "white",
            "showbackground": true,
            "ticks": "",
            "zerolinecolor": "white"
           },
           "zaxis": {
            "backgroundcolor": "#E5ECF6",
            "gridcolor": "white",
            "gridwidth": 2,
            "linecolor": "white",
            "showbackground": true,
            "ticks": "",
            "zerolinecolor": "white"
           }
          },
          "shapedefaults": {
           "line": {
            "color": "#2a3f5f"
           }
          },
          "ternary": {
           "aaxis": {
            "gridcolor": "white",
            "linecolor": "white",
            "ticks": ""
           },
           "baxis": {
            "gridcolor": "white",
            "linecolor": "white",
            "ticks": ""
           },
           "bgcolor": "#E5ECF6",
           "caxis": {
            "gridcolor": "white",
            "linecolor": "white",
            "ticks": ""
           }
          },
          "title": {
           "x": 0.05
          },
          "xaxis": {
           "automargin": true,
           "gridcolor": "white",
           "linecolor": "white",
           "ticks": "",
           "title": {
            "standoff": 15
           },
           "zerolinecolor": "white",
           "zerolinewidth": 2
          },
          "yaxis": {
           "automargin": true,
           "gridcolor": "white",
           "linecolor": "white",
           "ticks": "",
           "title": {
            "standoff": 15
           },
           "zerolinecolor": "white",
           "zerolinewidth": 2
          }
         }
        },
        "xaxis": {
         "title": {
          "text": "Open-Loop Phase (deg)"
         }
        },
        "yaxis": {
         "title": {
          "text": "Open-Loop Gain (dB)"
         }
        }
       }
      },
      "text/html": [
       "<div>                            <div id=\"38422306-e781-431a-9887-7590d9e428b6\" class=\"plotly-graph-div\" style=\"height:525px; width:100%;\"></div>            <script type=\"text/javascript\">                require([\"plotly\"], function(Plotly) {                    window.PLOTLYENV=window.PLOTLYENV || {};                                    if (document.getElementById(\"38422306-e781-431a-9887-7590d9e428b6\")) {                    Plotly.newPlot(                        \"38422306-e781-431a-9887-7590d9e428b6\",                        [{\"hoverinfo\": \"none\", \"marker\": {\"line\": {\"color\": \"#FF0000\", \"width\": 1}, \"size\": 3}, \"mode\": \"markers\", \"showlegend\": false, \"type\": \"scatter\", \"x\": [-180], \"y\": [0]}, {\"hovertemplate\": \"<b>w</b>: %{text:.3f} rad/s<br><b>mag</b>: %{y:.3f} dB<br><b>phase</b>: %{x:.3f} deg<br>\", \"line\": {\"color\": \"#1f77b4\"}, \"name\": \"sys\", \"showlegend\": false, \"text\": [0.01, 0.010595601792776159, 0.011226677735108135, 0.011895340673703195, 0.012603829296797275, 0.013354515629298987, 0.01414991297434576, 0.014992684327860457, 0.015885651294280528, 0.016831803533309566, 0.017834308769319095, 0.018896523396912095, 0.020022003718155844, 0.021214517849106298, 0.02247805833548725, 0.023816855519761582, 0.02523539170434766, 0.026738416158399468, 0.02833096101839324, 0.03001835813575589, 0.031806256927941194, 0.03370064329271928, 0.03570785964900463, 0.03783462617131929, 0.04008806328898465, 0.04247571552536898, 0.04500557675700498, 0.04768611697714469, 0.0505263106533568, 0.053535666774107246, 0.05672426068491978, 0.06010276782070382, 0.06368249944718586, 0.06747544053110693, 0.07149428986597577, 0.07575250258771912, 0.08026433522257174, 0.08504489341802678, 0.09011018251665019, 0.09547716114208056, 0.10116379797662076, 0.10718913192051281, 0.11357333583431058, 0.12033778407775898, 0.12750512407130135, 0.13509935211980273, 0.14314589375234793, 0.15167168884709234, 0.16070528182616392, 0.17027691722259003, 0.18041864093920726, 0.19116440753857028, 0.20255019392306675, 0.21461411978584047, 0.22739657523579287, 0.24094035602395256, 0.2552908068239518, 0.27049597304631356, 0.2866067616948252, 0.3036771118035459, 0.3217641750250737, 0.3409285069746813, 0.3612342699709432, 0.3827494478516313, 0.40554607358408296, 0.42970047043208415, 0.455293507486695, 0.48241087041653713, 0.5111433483440168, 0.5415871378079473, 0.5738441648302396, 0.6080224261649424, 0.6442363508721374, 0.6826071834272389, 0.7232633896483537, 0.7663410868007459, 0.8119844993184013, 0.8603464416684504, 0.9115888299750823, 0.9658832241158704, 1.0234114021054537, 1.0843659686896108, 1.1489510001873098, 1.217382727739662, 1.2898902612533094, 1.3667163564620073, 1.4481182276745346, 1.5343684089300131, 1.625755666443795, 1.7225859653987874, 1.8251834943190444, 1.933891750455232, 2.049074689815848, 2.171117945694505, 2.300430119772919, 2.437444150122222, 2.5826187606826774, 2.736439997074672, 2.899422853882878, 3.0721129988617593, 3.2550885998350596, 3.44896226040576, 3.654383070957258, 3.8720387818125572, 4.102658105827195, 4.347013158125026, 4.605922041145108, 4.880251583654434, 5.17092024289676, 5.478901179593945, 5.805225516094902, 6.150985788580504, 6.517339604882427, 6.905513520162331, 7.3168071434272, 7.752597488629465, 8.21434358491943, 8.703591361485167, 9.221978823334332, 9.771241535346501, 10.353218432956627, 10.96985797892384, 11.62322468679853, 12.315506032928262, 13.049019780144029, 13.826221737646565, 14.649713983072864, 15.52225357427048, 16.446761779946645, 17.42633386009651, 18.464249428955444, 19.56398343517065, 20.72921779595372, 21.96385372416547, 23.272024789604096, 24.658110758226037, 26.126752255633292, 27.682866303920665, 29.331662783900455, 31.07866187782014, 32.929712550971516, 34.891012134067736, 36.96912707195028, 39.17101490809261, 41.50404757850477, 43.97603609302721, 46.59525668664682, 49.37047852839004, 52.31099308056263, 55.42664520663107, 58.72786613189483, 62.22570836730231, 65.93188271333548, 69.8587974678525, 74.01959996915645, 78.42822061337682, 83.09941949353396, 88.04883581643465, 93.29304026284686, 98.84959046625586, 104.73708979594508, 110.97524964120721, 117.58495540521582, 124.58833642950081, 132.00884008314193, 139.87131026472386, 148.202070579886, 157.02901247293775, 166.38168860761309, 176.2914118095948, 186.79135990207848, 197.91668678535575, 209.7046401323235, 222.19468609395238, 235.42864143224202, 249.45081352303166, 264.30814869741084, 280.0503894183631, 296.73024081888724, 314.40354715915, 333.1294787934677, 352.970730273065, 373.99373024788014, 396.2688638701478, 419.8707084443914, 444.87828311275854, 471.3753134116729, 499.450511585514, 529.1978735958447, 560.7169938205458, 594.113398496504, 629.4988990221888, 666.9919663030129, 706.7181273927491, 748.810385759003, 793.4096665797492, 840.6652885618333, 890.735463861044, 943.7878277775391, 1000.0], \"type\": \"scatter\", \"x\": [-0.06302533834671024, -0.06677913631287355, -0.07075651068792507, -0.07497077763358033, -0.07943604640764754, -0.08416726659773274, -0.08918027816759853, -0.09449186448362612, -0.10011980849862676, -0.10608295228098608, -0.11240126008814225, -0.11909588519523033, -0.12618924070244827, -0.1337050745575989, -0.14166854904453802, -0.15010632500311735, -0.1590466510617581, -0.16851945818076186, -0.17855645982166665, -0.18919125807688614, -0.200459456113615, -0.2123987773066696, -0.22504919145717214, -0.2384530485171149, -0.25265522026492926, -0.2677032504027057, -0.2836475135737757, -0.30054138382806733, -0.3184414130936643, -0.33740752024533704, -0.35750319139470677, -0.3787956920633434, -0.4013562919374764, -0.4252605029433013, -0.45058833142364374, -0.47742454524132383, -0.5058589566801566, -0.5359867220638896, -0.5679086590636814, -0.6017315827178761, -0.6375686612433535, -0.6755397927752586, -0.7157720042315856, -0.7583998735608447, -0.803565976695233, -0.8514213605962884, -0.9021260438476069, -0.9558495463161752, -1.0127714494728535, -1.0730819890297327, -1.1369826816199133, -1.204686987309742, -1.2764210097959403, -1.3524242361967453, -1.4329503183972025, -1.5182678979499649, -1.6086614765639748, -1.704432334227959, -1.8058994970127353, -1.913400756569289, -2.0272937432834937, -2.147957054955709, -2.2757914427377166, -2.4112210558691793, -2.5546947465003784, -2.7066874355544766, -2.8677015401539174, -3.0382684625936665, -3.2189501401671885, -3.410340654312212, -3.613067896514003, -3.8277952871476946, -4.055223541918592, -4.296092478722788, -4.551182855547359, -4.821318227397363, -5.107366807108977, -5.410243311204534, -5.7309107675830075, -6.070382256722649, -6.429722552102151, -6.81004961861579, -7.212535919759647, -7.638409475194532, -8.08895459985191, -8.565512243965548, -9.069479840241646, -9.60231054983094, -10.165511782920843, -10.760642852809408, -11.389311604583542, -12.053169841514151, -12.753907354753666, -13.493244345926994, -14.272922019161236, -15.094691110843595, -15.960298124257706, -16.871469045074406, -17.82989033583039, -18.83718704685149, -19.894897941715346, -21.00444762151179, -22.16711574770658, -23.38400361126682, -24.655998477084356, -25.98373634621009, -27.36756401888227, -28.807501598971623, -30.30320683992411, -31.853942972309014, -33.45855184694186, -35.11543434450009, -36.822540010561006, -38.57736774480464, -40.37697908328986, -42.218025155020634, -44.09678777831488, -46.009234419677426, -47.95108591994344, -49.917895068734445, -51.905133357886534, -53.90828264591353, -55.922928084822466, -57.944848540799086, -59.97010089434957, -61.99509501394563, -64.01665681153162, -66.03207753887051, -68.03914829111596, -70.03617947037351, -72.02200566127317, -73.995976935247, -75.9579380044423, -77.9081968851333, -79.84748481684008, -81.77690914245291, -83.69790071906615, -85.61215723392293, -87.52158357841243, -89.42823021505498, -91.33423028209148, -93.24173603602824, -95.15285514679272, -97.06958733995654, -98.99376192736617, -100.92697687778303, -102.87054024364566, -104.82541496399708, -106.79216828623733, -108.77092726417317, -110.76134196543528, -112.76255812321213, -114.77320096087985, -116.79137177318113, -118.81465854319335, -120.84016140420765, -122.8645331327999, -124.88403411842101, -126.89460045126145, -128.89192297576756, -130.8715344518423, -132.8289014263964, -134.75951710687949, -136.65899148335956, -138.52313517324913, -140.34803393732238, -142.1301114838669, -143.86617896723658, -145.55347041764307, -147.1896641343835, -148.7728907717719, -150.3017294020295, -151.77519323002008, -153.1927068588396, -154.55407707705055, -155.85945908298837, -157.109319910011, -158.30440060071734, -159.44567842744442, -160.53433019539997, -161.57169741249936, -162.55925387940772, -163.49857605227163, -164.39131636265196, -165.23917954450516, -166.04390191467937, -166.8072334779379, -167.53092267591362, -168.2167035674316, -168.8662852112438, -169.48134301775835, -170.0635118406425, -170.6143805896015, -171.13548816005664, -171.62832049220134, -172.09430858974147, -172.53482734660508, -172.95119504738025, -173.3446734237855, -173.7164681648168], \"y\": [18.061795353466778, 18.061794815400575, 18.06179421133107, 18.061793533161804, 18.061792771803148, 18.061791917050474, 18.06179095744739, 18.06178988013218, 18.061788670665422, 18.061787312836465, 18.06178578844615, 18.061784077062892, 18.061782155748848, 18.061779998752485, 18.061777577163426, 18.06177485852501, 18.061771806399257, 18.061768379878544, 18.06176453303732, 18.061760214316628, 18.0617553658331, 18.06174992260322, 18.061743811672414, 18.06173695113738, 18.06172924904845, 18.061720602177374, 18.061710894633983, 18.06169999631321, 18.061687761151642, 18.061674025170305, 18.061658604277476, 18.061641291802022, 18.061621855724365, 18.06160003556795, 18.061575538909594, 18.06154803746211, 18.06151716267673, 18.06148250080657, 18.061443587365137, 18.06139990090578, 18.061350856039063, 18.06129579559475, 18.06123398182375, 18.06116458652284, 18.06108667995017, 18.060999218384207, 18.060901030160203, 18.06079079999851, 18.060667051416498, 18.06052812699039, 18.06037216620535, 18.06019708060036, 18.060000525879193, 18.059779870619124, 18.059532161165055, 18.059254082247204, 18.058941912805633, 18.058591476443393, 18.058198085861775, 18.057756480555007, 18.057260756957042, 18.05670429013931, 18.05607964605383, 18.05537848320108, 18.05459144247425, 18.05370802379144, 18.052716447972415, 18.051603502147714, 18.05035436680242, 18.04895242235585, 18.047379032960166, 18.045613304966054, 18.043631817252408, 18.04140832035021, 18.03891340101088, 18.03611410857886, 18.032973539232028, 18.02945037385749, 18.025498365043994, 18.021065768406217, 18.016094713226902, 18.01052050722957, 18.004270870202667, 17.99726509121796, 17.989413104361166, 17.98061447827014, 17.97075731541532, 17.959717058029145, 17.947355198980116, 17.9335178977902, 17.918034504521806, 17.900715997534846, 17.881353345265893, 17.859715807343896, 17.835549196657567, 17.80857413153599, 17.778484316065953, 17.744944896752177, 17.70759095514157, 17.666026208455243, 17.61982200330093, 17.568516700545096, 17.511615561510784, 17.44859125563172, 17.378885116019454, 17.301909270283396, 17.217049767373002, 17.123670805121762, 17.02112013567843, 16.908735685724892, 16.785853374796133, 16.6518160489211, 16.50598337063635, 16.34774242452111, 16.17651871598293, 15.991787167863832, 15.793082663161233, 15.580009651178745, 15.35225033564818, 15.109571000890833, 14.851826106134173, 14.57895988448059, 14.2910053133195, 13.988080465478117, 13.670382391704921, 13.33817881196371, 12.99179799435841, 12.631617268733827, 12.258050653875163, 11.871536073903059, 11.472522605787397, 11.061458143315724, 10.63877779202975, 10.20489323324362, 9.760183220912324, 9.30498530878569, 8.839588850967807, 8.364229278780652, 7.879083631086052, 7.384267302983178, 6.879831977110646, 6.365764710022291, 5.841988160248075, 5.3083619614540964, 4.764685260251059, 4.210700450362459, 3.6460981398777643, 3.070523383292266, 2.4835831925827514, 1.8848553100818624, 1.2738981799211628, 0.6502619953369061, 0.013500629002130822, -0.6368158224371089, -1.3010882236040666, -1.9796757255895683, -2.672883689707227, -3.3809526907179737, -4.104049070077186, -4.842257463241669, -5.595575642961882, -6.363911907792068, -7.147085110910732, -7.944827280921279, -8.756788647128886, -9.582544759808778, -10.421605301749018, -11.273424127657991, -12.137410045284373, -13.01293786442823, -13.899359282065095, -14.796013235880721, -15.702235435987015, -16.617366867058532, -17.5407611333839, -18.4717905918745, -19.40985127935957, -20.354366688772515, -21.30479048388519, -22.26060826497499, -23.22133850985108, -24.186532818003847, -25.155775582351353, -26.12868320507105, -27.104902963029605, -28.084111615739836, -29.06601383566891, -30.050340527871565, -31.03684709386755, -32.02531168374006, -33.015533470774876, -34.0073309746271, -35.00054045196726, -35.99501436772555, -36.99061995531276, -37.987237870409814, -38.98476093995971, -39.983093005729835, -40.9821478601297, -41.98184827075618]}, {\"hoverinfo\": \"name\", \"line\": {\"color\": \"#555\", \"dash\": \"dot\", \"width\": 1}, \"name\": \"6.00 dB\", \"showlegend\": false, \"type\": \"scatter\", \"x\": [-181.0044525859156, -182.00706208752763, -183.0059994899574, -183.99946365000403, -184.98569457347367, -187.408591693385, -189.75111962661822, -194.11400997325404, -197.95308877480693, -201.2110046386224, -203.882655271241, -208.76368925804854, -210.07854669531383, -209.08573699075276, -206.61944411079287, -203.19624885388873, -199.14024541544325, -194.6633656344593, -189.91215173606156, -181.66883360739166, -180.0, -178.33116639260837, -170.08784826393844, -165.33663436554068, -160.85975458455675, -156.8037511461113, -153.38055588920716, -150.91426300924724, -149.92145330468617, -151.23631074195146, -156.11734472875898, -158.78899536137763, -162.04691122519313, -165.88599002674593, -170.24888037338178, -172.59140830661497, -175.0143054265264, -176.00053634999594, -176.99400051004255, -177.99293791247237, -178.9955474140844], \"y\": [6.038584887637681, 6.030603754626434, 6.017337064173958, 5.998837145331412, 5.975176335900421, 5.894089570862205, 5.783261698845564, 5.4826074459056695, 5.096695738427625, 4.650493262050236, 4.166800369039922, 2.6567802911877996, 1.2493792041125524, 0.03595583500082545, -0.9732279370869548, -1.7915587587987878, -2.436272660456205, -2.922504047148822, -3.2618637150774954, -3.5213402361322443, -3.528697248729707, -3.5213402361322443, -3.261863715077498, -2.9225040471488253, -2.4362726604562077, -1.7915587587987878, -0.9732279370869548, 0.03595583500082353, 1.2493792041125524, 2.6567802911877987, 4.166800369039918, 4.650493262050238, 5.096695738427627, 5.482607445905669, 5.783261698845564, 5.894089570862203, 5.975176335900418, 5.998837145331412, 6.017337064173956, 6.030603754626437, 6.038584887637679]}, {\"hoverinfo\": \"name\", \"line\": {\"color\": \"#555\", \"dash\": \"dot\", \"width\": 1}, \"name\": \"3.00 dB\", \"showlegend\": false, \"type\": \"scatter\", \"x\": [-182.42156130189062, -184.82844943546547, -187.20643299081019, -189.54213134653503, -191.8233626783699, -197.22187957454412, -202.09598892987356, -210.09301738566455, -215.8791234237175, -219.8563069529548, -222.4551688385875, -225.06798311222548, -223.50196919041633, -219.93702449004138, -215.29642457077978, -210.02487275397982, -204.36172377497314, -198.44853900143266, -192.37662214327372, -182.07224305175168, -180.0, -177.92775694824832, -167.6233778567263, -161.5514609985674, -155.63827622502694, -149.9751272460202, -144.70357542922022, -140.06297550995865, -136.49803080958367, -134.93201688777452, -137.54483116141245, -140.1436930470452, -144.12087657628254, -149.90698261433542, -157.9040110701264, -162.7781204254559, -168.17663732163007, -170.45786865346497, -172.7935670091897, -175.17155056453453, -177.57843869810938], \"y\": [10.679764301197936, 10.647034445747146, 10.593037830089836, 10.518575471800114, 10.424714401516344, 10.11401746557135, 9.714033764687105, 8.743853755272685, 7.678062347477537, 6.616357953051257, 5.606844160199614, 3.0102938424173917, 1.0059460068552415, -0.5489159148760905, -1.764348624364853, -2.712947800201404, -3.4422186673114457, -3.9835217795043447, -4.357464956087062, -4.641452702670781, -4.649481613751726, -4.641452702670781, -4.357464956087062, -3.9835217795043465, -3.4422186673114457, -2.7129478002014027, -1.764348624364854, -0.5489159148760926, 1.0059460068552415, 3.010293842417389, 5.606844160199607, 6.61635795305126, 7.67806234747754, 8.743853755272685, 9.714033764687107, 10.11401746557135, 10.424714401516344, 10.518575471800109, 10.59303783008983, 10.647034445747146, 10.679764301197936]}, {\"hoverinfo\": \"name\", \"line\": {\"color\": \"#555\", \"dash\": \"dot\", \"width\": 1}, \"name\": \"1.00 dB\", \"showlegend\": false, \"type\": \"scatter\", \"x\": [-188.12984536554268, -195.88621216474792, -202.9844437398292, -209.27055340099685, -214.7096153155495, -224.98959838098392, -231.68544618825558, -238.9060061369517, -241.93858840592924, -242.95955537487828, -242.88818452740378, -239.59670953467293, -234.31238992498834, -228.21444019414758, -221.70905190957956, -214.9736246071892, -208.09857633531192, -201.13560158246298, -194.1172919529556, -182.35615618485986, -180.0, -177.6438438151401, -165.88270804704442, -158.86439841753705, -151.90142366468808, -145.0263753928108, -138.29094809042041, -131.78555980585242, -125.68761007501163, -120.40329046532707, -117.11181547259622, -117.04044462512172, -118.06141159407076, -121.0939938630483, -128.3145538117444, -135.0104016190161, -145.29038468445046, -150.72944659900304, -157.0155562601706, -164.11378783525214, -171.87015463445724], \"y\": [19.17292087222408, 18.88999404600427, 18.45599908317477, 17.91331788277162, 17.30269583621942, 15.674169524423078, 14.099770859367858, 11.392809577292622, 9.232708314999615, 7.475525714001363, 6.009559815241832, 2.725327008857705, 0.44275075770600797, -1.2482454597388433, -2.5390189104386724, -3.5327626980741282, -4.29037960222416, -4.8497530368011, -5.234889529168014, -5.526739523137509, -5.534983129163744, -5.526739523137509, -5.2348895291680115, -4.8497530368011015, -4.290379602224161, -3.5327626980741273, -2.5390189104386733, -1.2482454597388464, 0.44275075770600797, 2.7253270088577004, 6.009559815241823, 7.4755257140013684, 9.232708314999618, 11.392809577292622, 14.099770859367855, 15.674169524423071, 17.302695836219414, 17.913317882771604, 18.455999083174753, 18.88999404600427, 19.172920872224083]}, {\"hoverinfo\": \"name\", \"line\": {\"color\": \"#555\", \"dash\": \"dot\", \"width\": 1}, \"name\": \"0.50 dB\", \"showlegend\": false, \"type\": \"scatter\", \"x\": [-196.3718246156576, -210.241776113004, -220.80355193113053, -228.51181527270387, -234.1134646185559, -242.54794804403969, -246.79435053744254, -250.17113669346753, -250.7317375930338, -250.10476324945597, -248.87064427851567, -243.52619111012865, -237.14681544455618, -230.35244392901245, -223.35180491824565, -216.23515197605684, -209.04823910924426, -201.81713920054904, -194.55825435352733, -182.42801843030043, -180.0, -177.57198156969963, -165.44174564647267, -158.18286079945094, -150.95176089075574, -143.76484802394313, -136.64819508175432, -129.64755607098758, -122.85318455544379, -116.47380888987135, -111.12935572148433, -109.89523675054403, -109.26826240696619, -109.82886330653247, -113.20564946255746, -117.45205195596026, -125.88653538144405, -131.488184727296, -139.19644806886924, -149.75822388699612, -163.6281753843424], \"y\": [24.66386078734449, 23.68619318037223, 22.428476998260905, 21.119016837844416, 19.86570394081788, 17.148405136599663, 14.97381756434649, 11.709190668056703, 9.318257934761284, 7.44651521952795, 5.916081684987016, 2.548102112298766, 0.2356286732226798, -1.469242571571364, -2.7674915645818707, -3.7656469575966494, -4.526008275446839, -5.0871210227374375, -5.473330927281008, -5.765933081450027, -5.774197205849433, -5.765933081450027, -5.4733309272810065, -5.0871210227374375, -4.5260082754468405, -3.765646957596645, -2.767491564581872, -1.4692425715713675, 0.2356286732226798, 2.548102112298763, 5.916081684987007, 7.446515219527955, 9.318257934761288, 11.709190668056703, 14.973817564346488, 17.148405136599656, 19.86570394081787, 21.119016837844388, 22.428476998260866, 23.68619318037224, 24.663860787344486]}, {\"hoverinfo\": \"name\", \"line\": {\"color\": \"#555\", \"dash\": \"dot\", \"width\": 1}, \"name\": \"0.00 dB\", \"showlegend\": false, \"type\": \"scatter\", \"x\": [-269.4999999999999, -268.99999999999994, -268.50000000000006, -268.00000000000006, -267.5, -266.25, -265.0, -262.5, -260.0, -257.5, -255.0, -247.5, -240.0, -232.5, -225.0, -217.5, -210.0, -202.5, -195.0, -182.5, -180.0, -177.5, -165.0, -157.5, -150.0, -142.5, -135.0, -127.5, -120.0, -112.5, -105.0, -102.5, -100.0, -97.5, -95.0, -93.75, -92.5, -92.0, -91.5, -91.00000000000006, -90.50000000000011], \"y\": [35.16256289318372, 29.14229371826325, 25.62101977894313, 23.123016808799058, 21.185808854403394, 17.667429531589104, 15.173479920117972, 11.665446712198822, 9.185995486488366, 7.272665074459145, 5.719475475333597, 2.322606875058725, 0.0, -1.7095424698920367, -3.0102999566398116, -4.009933005441557, -4.771212547196625, -5.332906831698536, -5.719475475333596, -6.0123289342854225, -6.020599913279624, -6.0123289342854225, -5.719475475333596, -5.332906831698536, -4.771212547196625, -4.009933005441557, -3.0102999566398125, -1.709542469892039, 0.0, 2.3226068750587205, 5.719475475333587, 7.27266507445915, 9.18599548648837, 11.665446712198822, 15.17347992011797, 17.667429531589097, 21.185808854403376, 23.12301680879902, 25.621019778943044, 29.142293718263286, 35.1625628931837]}, {\"hoverinfo\": \"name\", \"line\": {\"color\": \"#555\", \"dash\": \"dot\", \"width\": 1}, \"name\": \"-1.00 dB\", \"showlegend\": false, \"type\": \"scatter\", \"x\": [-350.87015463445726, -342.1137878352521, -334.01555626017085, -326.72944659900315, -320.29038468445054, -307.51040161901614, -298.3145538117444, -286.09399386304824, -278.06141159407076, -272.0404446251217, -267.1118154725962, -255.40329046532707, -245.68761007501166, -236.78555980585242, -228.29094809042044, -220.0263753928108, -211.90142366468808, -203.86439841753702, -195.8827080470444, -182.64384381514014, -180.0, -177.35615618485994, -164.1172919529556, -156.13560158246298, -148.09857633531195, -139.9736246071892, -131.70905190957959, -123.21444019414761, -114.31238992498837, -104.59670953467293, -92.88818452740384, -87.95955537487828, -81.93858840592918, -73.9060061369517, -61.68544618825558, -52.489598380983864, -39.70961531554951, -33.27055340099696, -25.98444373982943, -17.88621216474786, -9.129845365542792], \"y\": [18.172920872224083, 17.889994046004272, 17.45599908317476, 16.91331788277161, 16.302695836219424, 14.674169524423068, 13.099770859367856, 10.39280957729262, 8.232708314999616, 6.475525714001364, 5.009559815241831, 1.7253270088577046, -0.5572492422939905, -2.2482454597388433, -3.539018910438671, -4.532762698074128, -5.290379602224159, -5.8497530368011, -6.234889529168011, -6.526739523137509, -6.534983129163744, -6.526739523137509, -6.234889529168011, -5.8497530368011, -5.290379602224158, -4.532762698074128, -3.5390189104386724, -2.248245459738846, -0.5572492422939905, 1.7253270088577017, 5.009559815241822, 6.47552571400137, 8.232708314999618, 10.392809577292624, 13.099770859367855, 14.674169524423066, 16.302695836219417, 16.9133178827716, 17.455999083174746, 17.889994046004276, 18.17292087222408]}, {\"hoverinfo\": \"name\", \"line\": {\"color\": \"#555\", \"dash\": \"dot\", \"width\": 1}, \"name\": \"-3.00 dB\", \"showlegend\": false, \"type\": \"scatter\", \"x\": [-356.5784386981094, -353.1715505645345, -349.7935670091898, -346.457868653465, -343.1766373216301, -335.27812042545594, -327.9040110701264, -314.9069826143354, -304.1208765762825, -295.1436930470452, -287.54483116141245, -269.9320168877745, -256.4980308095836, -245.06297550995862, -234.70357542922022, -224.97512724602018, -215.6382762250269, -206.55146099856734, -197.62337785672628, -182.92775694824832, -180.0, -177.0722430517517, -162.3766221432737, -153.44853900143264, -144.36172377497311, -135.02487275397982, -125.29642457077978, -114.93702449004138, -103.50196919041639, -90.06798311222553, -72.45516883858761, -64.85630695295481, -55.87912342371749, -45.09301738566461, -32.09598892987361, -24.72187957454412, -16.82336267836996, -13.54213134653503, -10.206432990810299, -6.828449435465473, -3.4215613018906197], \"y\": [7.6797643011979355, 7.647034445747147, 7.593037830089832, 7.51857547180011, 7.424714401516347, 7.114017465571349, 6.714033764687107, 5.743853755272688, 4.678062347477541, 3.6163579530512586, 2.6068441601996146, 0.010293842417393655, -1.9940539931447574, -3.54891591487609, -4.764348624364852, -5.712947800201404, -6.442218667311449, -6.983521779504347, -7.357464956087063, -7.64145270267078, -7.6494816137517265, -7.64145270267078, -7.357464956087062, -6.983521779504346, -6.442218667311447, -5.712947800201404, -4.764348624364854, -3.5489159148760945, -1.9940539931447574, 0.0102938424173898, 2.606844160199607, 3.6163579530512613, 4.678062347477542, 5.743853755272687, 6.714033764687107, 7.114017465571347, 7.424714401516347, 7.51857547180011, 7.593037830089831, 7.647034445747147, 7.6797643011979355]}, {\"hoverinfo\": \"name\", \"line\": {\"color\": \"#555\", \"dash\": \"dot\", \"width\": 1}, \"name\": \"-5.00 dB\", \"showlegend\": false, \"type\": \"scatter\", \"x\": [-357.7156461901543, -355.4344760458533, -353.1596383215088, -350.89421290039166, -348.6411786888659, -343.08110719284156, -337.655658142777, -327.32791659155833, -317.81176103888635, -309.14193573202044, -301.2731626748182, -281.57023940198087, -265.8826332806969, -252.5557488275415, -240.64915314981818, -229.631213606674, -219.18707307644064, -209.11864001577317, -199.29260642451015, -183.2007348379094, -180.0, -176.79926516209062, -160.70739357548985, -150.8813599842268, -140.8129269235594, -130.36878639332593, -119.3508468501818, -107.44425117245856, -94.1173667193031, -78.42976059801913, -58.726837325181805, -50.85806426797956, -42.188238961113655, -32.67208340844161, -22.344341857223014, -16.918892807158443, -11.35882131113408, -9.105787099608392, -6.84036167849132, -4.565523954146727, -2.2843538098456975], \"y\": [2.1734071144866545, 2.16178287503579, 2.1424819285456818, 2.115612065794011, 2.0813214716986472, 1.964434082831654, 1.8061996909436415, 1.385219595998124, 0.8607727963741443, 0.2736183229458929, -0.3431048799285491, -2.16801908991087, -3.7730593229328253, -5.107825341480714, -6.193310480660946, -7.061015531352676, -7.738271724514311, -8.245907761671381, -8.598793860490886, -8.867897044997598, -8.875518407124991, -8.867897044997598, -8.598793860490886, -8.24590776167138, -7.738271724514313, -7.061015531352676, -6.193310480660946, -5.1078253414807175, -3.7730593229328253, -2.1680190899108718, -0.34310487992855515, 0.2736183229458966, 0.8607727963741427, 1.385219595998124, 1.8061996909436415, 1.9644340828316524, 2.0813214716986486, 2.1156120657940125, 2.1424819285456818, 2.16178287503579, 2.1734071144866545]}, {\"hoverinfo\": \"name\", \"line\": {\"color\": \"#555\", \"dash\": \"dot\", \"width\": 1}, \"name\": \"-10.00 dB\", \"showlegend\": false, \"type\": \"scatter\", \"x\": [-358.5375907950498, -357.07557791375507, -355.61435658094774, -354.15431983136335, -352.6958574333717, -349.05910533090224, -345.44044385095657, -338.27923532466446, -331.25172280772404, -324.38957230161884, -317.7158161180123, -298.93322088504607, -281.98055625030804, -266.5986905881538, -252.4515993862077, -239.23329660667702, -226.69556020425625, -214.6438140225457, -202.92453522086737, -183.79933667786145, -180.0, -176.20066332213858, -157.07546477913257, -145.3561859774543, -133.30443979574378, -120.76670339332298, -107.5484006137923, -93.40130941184623, -78.01944374969196, -61.06677911495393, -42.2841838819877, -35.6104276983811, -28.748277192275964, -21.720764675335545, -14.55955614904343, -10.940894669097759, -7.304142566628343, -5.8456801686366475, -4.385643419052258, -2.924422086244874, -1.462409204950177], \"y\": [-6.699123892294637, -6.701806509160542, -6.7062729515001065, -6.7125163626834325, -6.720527187262135, -6.748200164450676, -6.78657557329895, -6.893931055283403, -7.0388110511767845, -7.216462826641537, -7.421573050377543, -8.147711008436975, -8.941898740419433, -9.71418948914971, -10.41392685158225, -11.016410769656355, -11.511331047447138, -11.89550272938945, -12.168840872833393, -12.380583655718457, -12.38662096132189, -12.38058365571846, -12.16884087283339, -11.895502729389449, -11.511331047447138, -11.016410769656355, -10.41392685158225, -9.714189489149708, -8.941898740419433, -8.147711008436975, -7.421573050377544, -7.216462826641536, -7.038811051176785, -6.893931055283405, -6.78657557329895, -6.748200164450676, -6.720527187262135, -6.7125163626834325, -6.706272951500106, -6.701806509160542, -6.699123892294637]}, {\"hoverinfo\": \"name\", \"line\": {\"color\": \"#555\", \"dash\": \"dot\", \"width\": 1}, \"name\": \"-15.00 dB\", \"showlegend\": false, \"type\": \"scatter\", \"x\": [-358.78372871113226, -357.56757218766745, -356.35164504978854, -355.13606162768133, -353.92093581764135, -350.88586520734776, -347.8561091438982, -341.8193145434761, -335.8234934153923, -329.8803847803898, -324.0002574368285, -306.8153430006575, -290.4058175896011, -274.7929344561041, -259.9166159495102, -245.67464220039773, -231.95012942506116, -218.62659104798547, -205.59416406308867, -184.2456701763938, -180.0, -175.75432982360618, -154.40583593691133, -141.37340895201453, -128.04987057493884, -114.32535779960227, -100.08338405048983, -85.20706554389596, -69.5941824103989, -53.18465699934251, -35.99974256317154, -30.119615219610125, -24.176506584607694, -18.180685456523918, -12.143890856101848, -9.114134792652237, -6.07906418235865, -4.863938372318671, -3.6483549502114556, -2.4324278123324916, -1.2162712888677447], \"y\": [-13.299602274136596, -13.300646015181112, -13.302384673274837, -13.304816884886367, -13.307940744941824, -13.318759016704236, -13.333830760689928, -13.376424533448056, -13.434916381107115, -13.508232743883422, -13.595080096782212, -13.921703697025936, -14.313535235316843, -14.72930186538968, -15.13520922108038, -15.50640058611507, -15.825881765358389, -16.08263707776725, -16.26984801593978, -16.417398167862174, -16.421637052990647, -16.417398167862174, -16.269848015939782, -16.08263707776725, -15.825881765358389, -15.506400586115072, -15.13520922108038, -14.72930186538968, -14.313535235316843, -13.921703697025938, -13.595080096782212, -13.508232743883422, -13.434916381107113, -13.376424533448056, -13.333830760689928, -13.318759016704236, -13.307940744941824, -13.304816884886367, -13.302384673274837, -13.300646015181112, -13.299602274136596]}, {\"hoverinfo\": \"name\", \"line\": {\"color\": \"#555\", \"dash\": \"dot\", \"width\": 1}, \"name\": \"-20.00 dB\", \"showlegend\": false, \"type\": \"scatter\", \"x\": [-358.8888965493027, -357.7778390541404, -356.66687343532357, -355.5560455442723, -354.44540112846903, -351.66989167066737, -348.89652075551027, -343.3589703285723, -337.8381516710673, -332.33916301626834, -326.8667171206091, -310.64868408641405, -294.79128089714493, -279.3371191156383, -264.28940686250036, -249.6211360082914, -235.2849960460518, -221.22162278409758, -207.3653939814767, -184.54588366326493, -180.0, -175.45411633673513, -152.63460601852324, -138.77837721590248, -124.71500395394821, -110.37886399170858, -95.71059313749964, -80.6628808843617, -65.20871910285507, -49.35131591358595, -33.13328287939095, -27.660836983731656, -22.161848328932706, -16.641029671427702, -11.103479244489733, -8.330108329332631, -5.55459887153097, -4.443954455727749, -3.3331265646764905, -2.2221609458596276, -1.1111034506973283], \"y\": [-19.085013507081424, -19.085503375377726, -19.086319534008915, -19.08746155052706, -19.08892882019638, -19.094014462352902, -19.101110842980592, -19.121236166745526, -19.149042963976978, -19.184174848780152, -19.226190346310158, -19.38809146911957, -19.590413923210935, -19.81472569408657, -20.043213737826427, -20.260279180191155, -20.453229787866576, -20.612342803649057, -20.730600258806064, -20.825121237762787, -20.8278537031645, -20.825121237762787, -20.730600258806064, -20.612342803649057, -20.453229787866572, -20.26027918019116, -20.043213737826427, -19.81472569408657, -19.590413923210935, -19.38809146911957, -19.226190346310158, -19.184174848780152, -19.149042963976978, -19.121236166745526, -19.101110842980592, -19.094014462352902, -19.08892882019638, -19.08746155052706, -19.086319534008915, -19.085503375377726, -19.085013507081424]}, {\"hoverinfo\": \"name\", \"line\": {\"color\": \"#555\", \"dash\": \"dot\", \"width\": 1}, \"name\": \"-359.00 deg\", \"showlegend\": false, \"type\": \"scatter\", \"x\": [-181.0044525859156, -182.42156130189062, -183.8538273684054, -188.12984536554268, -190.9344158007773, -196.3718246156576, -200.26021663058145, -206.3114697592357, -210.7345808486815, -216.6635681171084, -224.80489618685647, -236.09043705087817, -251.24683800549047, -269.4999999999999, -287.753161994509, -302.90956294912127, -314.19510381314365, -322.3364318828915, -328.2654191513184, -332.6885302407641, -338.7397833694185, -342.62817538434234, -348.06558419922266, -350.87015463445726, -355.14617263159454, -356.5784386981094, -357.2913247216967, -357.7156461901543, -357.9955474140844, -358.45015168578016, -358.6645881674737, -358.8116765954827, -358.8888965493027, -358.96734639178396, -358.98989951835864, -358.9989990499713], \"y\": [6.038584887637681, 10.679764301197936, 13.711735715514646, 19.17292087222408, 21.473564446933352, 24.66386078734449, 26.351550772079545, 28.39588115905801, 29.582361840040452, 30.88405633953153, 32.272915503531166, 33.64360969507572, 34.739089603108305, 35.16256289318372, 34.689089603108336, 33.54360969507577, 32.12291550353115, 30.68405633953155, 29.33236184004049, 28.095881159058045, 25.951550772079585, 24.163860787344515, 20.723564446933352, 18.172920872224083, 11.711735715514651, 7.6797643011979355, 4.652344195068787, 2.1734071144866545, 0.03858488763767778, -5.194834381818714, -9.488041039111309, -14.50148872104064, -19.085013507081424, -29.72093593281454, -39.91271738956356, -59.99131109007229]}, {\"hoverinfo\": \"name\", \"line\": {\"color\": \"#555\", \"dash\": \"dot\", \"width\": 1}, \"name\": \"-355.00 deg\", \"showlegend\": false, \"type\": \"scatter\", \"x\": [-184.98569457347367, -191.8233626783699, -198.35224760736764, -214.7096153155495, -222.83943505774351, -234.1134646185559, -239.69796826647632, -245.92146539007024, -249.25835228553376, -252.72858723419097, -256.31341133172936, -259.989259045856, -263.7283959194501, -267.5, -271.27160408054976, -275.0107409541439, -278.6865886682707, -282.271412765809, -285.74164771446624, -289.07853460992976, -295.30203173352356, -300.88653538144405, -312.1605649422565, -320.29038468445054, -336.6477523926323, -343.1766373216301, -346.5786356017429, -348.6411786888659, -350.0143054265264, -352.26161474704355, -353.32748962319005, -354.06025738718597, -354.44540112846903, -354.8369507000331, -354.9495609798578, -354.9950013641784], \"y\": [5.975176335900421, 10.424714401516344, 13.15637722819709, 17.30269583621942, 18.59357019807048, 19.86570394081788, 20.318095967162986, 20.70337257062739, 20.862047629248345, 20.99332004959212, 21.093870457953344, 21.16082174212472, 21.1919404997191, 21.185808854403394, 21.1419404997191, 21.060821742124723, 20.943870457953345, 20.793320049592126, 20.61204762924834, 20.40337257062739, 19.918095967162994, 19.365703940817884, 17.843570198070484, 16.302695836219424, 11.156377228197092, 7.424714401516347, 4.50797988512989, 2.0813214716986472, -0.024823664099580364, -5.221788912123486, -9.502229976955315, -14.508583844447521, -19.08892882019638, -29.722005767179546, -39.91304111416505, -59.99134288302994]}, {\"hoverinfo\": \"name\", \"line\": {\"color\": \"#555\", \"dash\": \"dot\", \"width\": 1}, \"name\": \"-350.00 deg\", \"showlegend\": false, \"type\": \"scatter\", \"x\": [-189.75111962661822, -202.09598892987356, -212.35345913068954, -231.68544618825558, -238.7489296614017, -246.79435053744254, -250.2573865527558, -253.83501123894706, -255.65960361036178, -257.503659183197, -259.363585957195, -261.2355960478809, -263.1157490287522, -265.0, -266.8842509712478, -268.7644039521191, -270.6364140428051, -272.496340816803, -274.34039638963816, -276.1649887610529, -279.74261344724425, -283.20564946255746, -291.25107033859837, -298.3145538117444, -317.64654086931046, -327.9040110701264, -333.8610146236115, -337.655658142777, -340.2488803733818, -344.5899563733838, -346.68313903391805, -348.1321651543866, -348.89652075551027, -349.67526564124756, -349.8995174652041, -349.99004088458565], \"y\": [5.783261698845564, 9.714033764687105, 11.775956313081908, 14.099770859367858, 14.594923883885638, 14.97381756434649, 15.080414384505051, 15.15621710943876, 15.181648668301047, 15.1983486227364, 15.206059569200638, 15.204575519007793, 15.193746138850234, 15.173479920117972, 15.143746138850233, 15.104575519007792, 15.056059569200638, 14.9983486227364, 14.931648668301046, 14.856217109438761, 14.680414384505053, 14.473817564346486, 13.844923883885636, 13.099770859367856, 9.775956313081904, 6.714033764687107, 4.086501615929624, 1.8061996909436415, -0.21673830115443865, -5.304752563074492, -9.546163900231825, -14.530626329660187, -19.101110842980592, -29.725338912804, -39.914050057959166, -59.991441985000364]}, {\"hoverinfo\": \"name\", \"line\": {\"color\": \"#555\", \"dash\": \"dot\", \"width\": 1}, \"name\": \"-340.00 deg\", \"showlegend\": false, \"type\": \"scatter\", \"x\": [-197.95308877480693, -215.8791234237175, -226.9736814525869, -241.93858840592924, -246.25008326075692, -250.7317375930338, -252.56136781439045, -254.40686827358445, -255.33439270580863, -256.264451326916, -257.19654718906554, -258.13017678870557, -259.06483165862886, -260.0, -260.93516834137114, -261.8698232112944, -262.80345281093446, -263.735548673084, -264.6656072941914, -265.59313172641555, -267.43863218560955, -269.2682624069662, -273.7499167392431, -278.06141159407076, -293.02631854741304, -304.1208765762825, -312.0719845024495, -317.81176103888635, -322.0469112251931, -329.68216191155295, -333.58372479687006, -336.35562188095696, -337.8381516710673, -339.3613582271222, -339.8021787598649, -339.9803852582164], \"y\": [5.096695738427625, 7.678062347477537, 8.597793300386101, 9.232708314999615, 9.300350040488034, 9.318257934761284, 9.310284149791554, 9.293248860230516, 9.28126664709167, 9.26694607309168, 9.250270119069466, 9.231225451995389, 9.20980249648894, 9.185995486488366, 9.159802496488942, 9.13122545199539, 9.100270119069464, 9.06694607309168, 9.03126664709167, 8.993248860230516, 8.910284149791552, 8.818257934761286, 8.550350040488036, 8.232708314999616, 6.597793300386101, 4.678062347477541, 2.7305972432797097, 0.8607727963741443, -0.9033042615723732, -5.618708656914063, -9.715988750167744, -14.616875379452285, -19.149042963976978, -29.7385197635113, -39.91804519575886, -59.99183460526538]}, {\"hoverinfo\": \"name\", \"line\": {\"color\": \"#555\", \"dash\": \"dot\", \"width\": 1}, \"name\": \"-330.00 deg\", \"showlegend\": false, \"type\": \"scatter\", \"x\": [-203.882655271241, -222.4551688385875, -231.83973647604438, -242.88818452740378, -245.85243927303384, -248.87064427851567, -250.08929464488176, -251.3127394114194, -251.9258936010815, -252.53980424258486, -253.1543213605271, -253.769294105085, -254.3845709678439, -255.0, -255.6154290321561, -256.23070589491493, -256.84567863947296, -257.46019575741514, -258.0741063989185, -258.6872605885806, -259.9107053551182, -261.12935572148433, -264.14756072696616, -267.1118154725962, -278.16026352395556, -287.54483116141245, -295.1799121181876, -301.2731626748182, -306.117344728759, -315.6352523321829, -320.8811636256163, -324.7520018624275, -326.8667171206091, -329.06864784533053, -329.7110208991901, -329.97132728133215], \"y\": [4.166800369039922, 5.606844160199614, 5.932206248669415, 6.009559815241832, 5.975208936745101, 5.916081684987016, 5.8852313052469665, 5.850181404584557, 5.831068132828873, 5.8108902224713805, 5.78964427580763, 5.767327641665407, 5.7439384217734455, 5.719475475333597, 5.693938421773446, 5.667327641665408, 5.63964427580763, 5.610890222471382, 5.581068132828873, 5.5501814045845554, 5.485231305246967, 5.416081684987017, 5.2252089367451005, 5.009559815241831, 3.932206248669413, 2.6068441601996146, 1.1533437890942961, -0.3431048799285491, -1.8331996309600802, -6.087078338824387, -9.979764081669678, -14.754127901309044, -19.226190346310158, -29.75995677804501, -39.92456085295799, -59.99247562744764]}, {\"hoverinfo\": \"name\", \"line\": {\"color\": \"#555\", \"dash\": \"dot\", \"width\": 1}, \"name\": \"-310.00 deg\", \"showlegend\": false, \"type\": \"scatter\", \"x\": [-209.52730461324086, -224.8617597295535, -231.1899048297363, -237.97025516715092, -239.71356983065925, -241.46893619919013, -242.17358097759967, -242.8792695480219, -243.23242437600226, -243.58574287247382, -243.93919240648842, -244.2927402786603, -244.6463537381975, -245.0, -245.3536462618025, -245.7072597213397, -246.06080759351158, -246.41425712752618, -246.76757562399774, -247.12073045197803, -247.82641902240033, -248.53106380080987, -250.28643016934075, -252.02974483284908, -258.8100951702637, -265.1382402704465, -270.88476640555945, -275.9949524301256, -280.47269538675914, -290.6024276593667, -297.07594307104625, -302.30134107560315, -305.3198186609207, -308.583531731361, -309.55825809928365, -309.9560806642815], \"y\": [2.1690092783717687, 2.283613205343762, 2.1482066351372553, 1.8805110263369171, 1.7903185689185086, 1.690332235389074, 1.6475597573189855, 1.6031884953899582, 1.5804015444470143, 1.557212960058154, 1.5336222991170896, 1.5096292165861258, 1.4852334657955046, 1.4604348986575815, 1.4352334657955048, 1.4096292165861262, 1.3836222991170892, 1.357212960058154, 1.3304015444470128, 1.3031884953899575, 1.2475597573189858, 1.1903322353890728, 1.0403185689185093, 0.8805110263369176, 0.14820663513725413, -0.7163867946562369, -1.6861149823730335, -2.7327119599275056, -3.8309907216282335, -7.25914823540008, -10.693337314020894, -15.145382670060465, -19.451939759943034, -29.824279769303864, -39.944246119925026, -59.99441757441544]}, {\"hoverinfo\": \"name\", \"line\": {\"color\": \"#555\", \"dash\": \"dot\", \"width\": 1}, \"name\": \"-270.00 deg\", \"showlegend\": false, \"type\": \"scatter\", \"x\": [-206.61944411079287, -215.29642457077978, -218.46110795220994, -221.70905190957956, -222.52941048373117, -223.35180491824565, -223.6811819889183, -224.0107336090751, -224.1755612738757, -224.3404162425316, -224.50529305969962, -224.6701862664188, -224.8350904010141, -225.0, -225.1649095989859, -225.3298137335812, -225.49470694030038, -225.65958375746834, -225.8244387261243, -225.9892663909249, -226.3188180110817, -226.6481950817543, -227.47058951626883, -228.29094809042044, -231.53889204779006, -234.70357542922022, -237.7498224252065, -240.64915314981818, -243.38055588920713, -250.46463358891856, -255.89967637641075, -260.9941380290685, -264.28940686250036, -268.188751952672, -269.42706130231653, -269.9427042395855], \"y\": [-0.9732279370869548, -1.764348624364853, -2.124426027943395, -2.5390189104386724, -2.6514699297020368, -2.7674915645818707, -2.8149035000028793, -2.8628898500051885, -2.887098602924716, -2.91145114746676, -2.9359475265105246, -2.9605877734182884, -2.985371912026573, -3.0102999566398116, -3.035371912026572, -3.0605877734182907, -3.0859475265105245, -3.1114511474667603, -3.1370986029247168, -3.162889850005191, -3.2149035000028805, -3.2674915645818716, -3.4014699297020368, -3.539018910438671, -4.124426027943397, -4.764348624364852, -5.455404631092938, -6.193310480660946, -6.973227937086955, -9.514969420252301, -12.265723755961025, -16.10774225511957, -20.043213737826427, -30.00434077479319, -40.00043427276863, -60.000004342942646]}, {\"hoverinfo\": \"name\", \"line\": {\"color\": \"#555\", \"dash\": \"dot\", \"width\": 1}, \"name\": \"-240.00 deg\", \"showlegend\": false, \"type\": \"scatter\", \"x\": [-199.14024541544325, -204.36172377497314, -206.21381358967642, -208.09857633531192, -208.57301489483143, -209.04823910924426, -209.23849040969878, -209.42880894323696, -209.52398817799792, -209.6191779249774, -209.7143760829855, -209.80958054999672, -209.90478922335842, -210.0, -210.09521077664152, -210.19041945000322, -210.2856239170145, -210.3808220750226, -210.47601182200202, -210.57119105676304, -210.76150959030122, -210.95176089075574, -211.42698510516857, -211.90142366468808, -213.78618641032358, -215.6382762250269, -217.44292101522825, -219.18707307644064, -220.85975458455675, -225.37330168652204, -229.0616987201294, -232.75216733907212, -235.2849960460518, -238.45568816453994, -239.50628485109314, -239.95040520919997], \"y\": [-2.436272660456205, -3.4422186673114457, -3.84762884451815, -4.29037960222416, -4.40699921593907, -4.526008275446839, -4.57428211823914, -4.622939314369939, -4.647411727484515, -4.671980041652243, -4.696644271172273, -4.721404427168291, -4.746260517586929, -4.771212547196625, -4.79626051758693, -4.821404427168288, -4.846644271172273, -4.871980041652241, -4.897411727484514, -4.922939314369941, -4.974282118239141, -5.02600827544684, -5.156999215939071, -5.290379602224159, -5.847628844518153, -6.442218667311449, -7.072958558444331, -7.738271724514311, -8.436272660456206, -10.704688157932988, -13.186893456343654, -16.732079592455978, -20.453229787866576, -30.139417000675234, -40.043643711077515, -60.004345113397235]}, {\"hoverinfo\": \"name\", \"line\": {\"color\": \"#555\", \"dash\": \"dot\", \"width\": 1}, \"name\": \"-210.00 deg\", \"showlegend\": false, \"type\": \"scatter\", \"x\": [-189.91215173606156, -192.37662214327372, -193.24081558695843, -194.1172919529556, -194.3376264517101, -194.55825435352733, -194.64656584066665, -194.73490241741877, -194.77907815652532, -194.82325781782652, -194.8674406172289, -194.91162577040882, -194.95581249286977, -195.0, -195.04418750713023, -195.08837422959118, -195.13255938277098, -195.17674218217348, -195.22092184347468, -195.26509758258123, -195.35343415933335, -195.44174564647267, -195.6623735482898, -195.8827080470444, -196.75918441304157, -197.62337785672628, -198.46958668342972, -199.29260642451015, -200.08784826393844, -202.27177292498595, -204.1105118631359, -206.01403876500308, -207.3653939814767, -209.11829225570636, -209.71598310734691, -209.97137690095758], \"y\": [-3.2618637150774954, -4.357464956087062, -4.781008157812972, -5.234889529168014, -5.353148423971277, -5.473330927281008, -5.521943113599203, -5.570863587065885, -5.595439459606192, -5.620092434585043, -5.644822518988903, -5.669629718252307, -5.694514036257395, -5.719475475333596, -5.744514036257396, -5.769629718252306, -5.794822518988905, -5.820092434585046, -5.845439459606192, -5.870863587065886, -5.921943113599205, -5.9733309272810065, -6.103148423971275, -6.234889529168011, -6.781008157812972, -7.357464956087063, -7.963662913962381, -8.598793860490886, -9.261863715077498, -11.406608921751245, -13.75560292379796, -17.138198674062732, -20.730600258806064, -30.235702451504753, -40.07500487427773, -60.00752002960971]}, {\"hoverinfo\": \"name\", \"line\": {\"color\": \"#555\", \"dash\": \"dot\", \"width\": 1}, \"name\": \"-180.00 deg\", \"showlegend\": false, \"type\": \"scatter\", \"x\": [-180.0, -180.0, -180.0, -180.0, -180.0, -180.0, -180.0, -180.0, -180.0, -180.0, -180.0, -180.0, -180.0, -180.0, -180.0, -180.0, -180.0, -180.0, -180.0, -180.0, -180.0, -180.0, -180.0, -180.0, -180.0, -180.0, -180.0, -180.0, -180.0, -180.0, -180.0, -180.0, -180.0, -180.0, -180.0, -180.0], \"y\": [-3.528697248729707, -4.649481613751726, -5.078037820877343, -5.534983129163744, -5.653692425461207, -5.774197205849433, -5.82290229493352, -5.871895053021047, -5.896499329536557, -5.921175546836581, -5.94592371028475, -5.970743824053145, -5.995635891122028, -6.020599913279624, -6.045635891122028, -6.070743824053146, -6.095923710284749, -6.121175546836581, -6.146499329536558, -6.17189505302105, -6.222902294933521, -6.2741972058494335, -6.403692425461207, -6.534983129163744, -7.078037820877343, -7.6494816137517265, -8.248852055886793, -8.875518407124991, -9.528697248729706, -11.637589600041242, -13.946455874173909, -17.277840682867595, -20.8278537031645, -30.27041844216076, -40.086427475652854, -60.00868154958637]}, {\"hoverinfo\": \"name\", \"line\": {\"color\": \"#555\", \"dash\": \"dot\", \"width\": 1}, \"name\": \"-1.00 deg\", \"showlegend\": false, \"type\": \"scatter\", \"x\": [-178.9955474140844, -177.57843869810938, -176.1461726315946, -171.87015463445732, -169.0655841992227, -163.6281753843424, -159.73978336941855, -153.6885302407643, -149.2654191513185, -143.3364318828916, -135.19510381314353, -123.90956294912183, -108.75316199450953, -90.50000000000011, -72.24683800549099, -57.090437050878734, -45.804896186856354, -37.663568117108525, -31.734580848681617, -27.311469759235877, -21.26021663058151, -17.37182461565766, -11.934415800777344, -9.129845365542735, -4.853827368405462, -3.4215613018906197, -2.7086752783033035, -2.2843538098456975, -2.004452585915601, -1.5498483142198438, -1.3354118325262903, -1.1883234045172912, -1.1111034506973283, -1.0326536082160374, -1.0101004816413592, -1.001000950028697], \"y\": [6.038584887637681, 10.679764301197936, 13.711735715514646, 19.17292087222408, 21.473564446933352, 24.66386078734449, 26.351550772079545, 28.39588115905801, 29.582361840040452, 30.88405633953153, 32.272915503531166, 33.64360969507572, 34.739089603108305, 35.16256289318372, 34.689089603108336, 33.54360969507577, 32.12291550353115, 30.68405633953155, 29.33236184004049, 28.095881159058045, 25.951550772079585, 24.163860787344515, 20.723564446933352, 18.172920872224083, 11.711735715514651, 7.6797643011979355, 4.652344195068787, 2.1734071144866545, 0.03858488763767778, -5.194834381818714, -9.488041039111309, -14.50148872104064, -19.085013507081424, -29.72093593281454, -39.91271738956356, -59.99131109007229]}, {\"hoverinfo\": \"name\", \"line\": {\"color\": \"#555\", \"dash\": \"dot\", \"width\": 1}, \"name\": \"-5.00 deg\", \"showlegend\": false, \"type\": \"scatter\", \"x\": [-175.01430542652633, -168.1766373216301, -161.64775239263236, -145.2903846844505, -137.16056494225649, -125.8865353814441, -120.30203173352368, -114.07853460992976, -110.74164771446624, -107.27141276580903, -103.68658866827064, -100.01074095414401, -96.27160408054988, -92.5, -88.72839591945024, -84.9892590458561, -81.3134113317293, -77.72858723419102, -74.25835228553376, -70.92146539007024, -64.69796826647644, -59.11346461855595, -47.839435057743515, -39.709615315549456, -23.3522476073677, -16.823362678369904, -13.421364398257083, -11.35882131113408, -9.985694573473609, -7.738385252956448, -6.672510376809953, -5.93974261281403, -5.55459887153097, -5.163049299966872, -5.050439020142221, -5.004998635821607], \"y\": [5.975176335900421, 10.424714401516344, 13.15637722819709, 17.30269583621942, 18.59357019807048, 19.86570394081788, 20.318095967162986, 20.70337257062739, 20.862047629248345, 20.99332004959212, 21.093870457953344, 21.16082174212472, 21.1919404997191, 21.185808854403394, 21.1419404997191, 21.060821742124723, 20.943870457953345, 20.793320049592126, 20.61204762924834, 20.40337257062739, 19.918095967162994, 19.365703940817884, 17.843570198070484, 16.302695836219424, 11.156377228197092, 7.424714401516347, 4.50797988512989, 2.0813214716986472, -0.024823664099580364, -5.221788912123486, -9.502229976955315, -14.508583844447521, -19.08892882019638, -29.722005767179546, -39.91304111416505, -59.99134288302994]}, {\"hoverinfo\": \"name\", \"line\": {\"color\": \"#555\", \"dash\": \"dot\", \"width\": 1}, \"name\": \"-10.00 deg\", \"showlegend\": false, \"type\": \"scatter\", \"x\": [-170.24888037338178, -157.90401107012644, -147.64654086931046, -128.31455381174442, -121.25107033859831, -113.20564946255746, -109.7426134472442, -106.16498876105294, -104.34039638963822, -102.49634081680301, -100.63641404280497, -98.7644039521191, -96.88425097124781, -95.0, -93.11574902875219, -91.2355960478809, -89.36358595719491, -87.50365918319699, -85.65960361036184, -83.83501123894712, -80.25738655275575, -76.79435053744254, -68.74892966140163, -61.68544618825558, -42.353459130689544, -32.09598892987361, -26.13898537638852, -22.344341857223014, -19.75111962661822, -15.410043626616186, -13.316860966081947, -11.867834845613402, -11.103479244489733, -10.324734358752437, -10.100482534795901, -10.009959115414347], \"y\": [5.783261698845564, 9.714033764687105, 11.775956313081908, 14.099770859367858, 14.594923883885638, 14.97381756434649, 15.080414384505051, 15.15621710943876, 15.181648668301047, 15.1983486227364, 15.206059569200638, 15.204575519007793, 15.193746138850234, 15.173479920117972, 15.143746138850233, 15.104575519007792, 15.056059569200638, 14.9983486227364, 14.931648668301046, 14.856217109438761, 14.680414384505053, 14.473817564346486, 13.844923883885636, 13.099770859367856, 9.775956313081904, 6.714033764687107, 4.086501615929624, 1.8061996909436415, -0.21673830115443865, -5.304752563074492, -9.546163900231825, -14.530626329660187, -19.101110842980592, -29.725338912804, -39.914050057959166, -59.991441985000364]}, {\"hoverinfo\": \"name\", \"line\": {\"color\": \"#555\", \"dash\": \"dot\", \"width\": 1}, \"name\": \"-20.00 deg\", \"showlegend\": false, \"type\": \"scatter\", \"x\": [-162.04691122519307, -144.1208765762825, -133.0263185474131, -118.06141159407076, -113.74991673924308, -109.26826240696619, -107.43863218560955, -105.59313172641555, -104.66560729419137, -103.735548673084, -102.80345281093446, -101.86982321129443, -100.93516834137114, -100.0, -99.06483165862886, -98.13017678870563, -97.19654718906554, -96.264451326916, -95.33439270580863, -94.40686827358445, -92.56136781439045, -90.73173759303381, -86.25008326075692, -81.93858840592924, -66.97368145258696, -55.87912342371749, -47.92801549755052, -42.188238961113655, -37.95308877480687, -30.317838088447047, -26.416275203129942, -23.64437811904304, -22.161848328932706, -20.638641772877804, -20.197821240135113, -20.019614741783585], \"y\": [5.096695738427625, 7.678062347477537, 8.597793300386101, 9.232708314999615, 9.300350040488034, 9.318257934761284, 9.310284149791554, 9.293248860230516, 9.28126664709167, 9.26694607309168, 9.250270119069466, 9.231225451995389, 9.20980249648894, 9.185995486488366, 9.159802496488942, 9.13122545199539, 9.100270119069464, 9.06694607309168, 9.03126664709167, 8.993248860230516, 8.910284149791552, 8.818257934761286, 8.550350040488036, 8.232708314999616, 6.597793300386101, 4.678062347477541, 2.7305972432797097, 0.8607727963741443, -0.9033042615723732, -5.618708656914063, -9.715988750167744, -14.616875379452285, -19.149042963976978, -29.7385197635113, -39.91804519575886, -59.99183460526538]}, {\"hoverinfo\": \"name\", \"line\": {\"color\": \"#555\", \"dash\": \"dot\", \"width\": 1}, \"name\": \"-30.00 deg\", \"showlegend\": false, \"type\": \"scatter\", \"x\": [-156.117344728759, -137.5448311614125, -128.16026352395562, -117.11181547259622, -114.14756072696616, -111.12935572148433, -109.91070535511824, -108.68726058858061, -108.0741063989185, -107.46019575741514, -106.84567863947291, -106.23070589491499, -105.6154290321561, -105.0, -104.3845709678439, -103.76929410508507, -103.15432136052704, -102.53980424258486, -101.9258936010815, -101.31273941141939, -100.08929464488182, -98.87064427851567, -95.85243927303384, -92.88818452740378, -81.83973647604444, -72.45516883858755, -64.82008788181241, -58.726837325181805, -53.88265527124099, -44.364747667817085, -39.118836374383704, -35.247998137572495, -33.13328287939089, -30.93135215466947, -30.28897910080991, -30.02867271866785], \"y\": [4.166800369039922, 5.606844160199614, 5.932206248669415, 6.009559815241832, 5.975208936745101, 5.916081684987016, 5.8852313052469665, 5.850181404584557, 5.831068132828873, 5.8108902224713805, 5.78964427580763, 5.767327641665407, 5.7439384217734455, 5.719475475333597, 5.693938421773446, 5.667327641665408, 5.63964427580763, 5.610890222471382, 5.581068132828873, 5.5501814045845554, 5.485231305246967, 5.416081684987017, 5.2252089367451005, 5.009559815241831, 3.932206248669413, 2.6068441601996146, 1.1533437890942961, -0.3431048799285491, -1.8331996309600802, -6.087078338824387, -9.979764081669678, -14.754127901309044, -19.226190346310158, -29.75995677804501, -39.92456085295799, -59.99247562744764]}, {\"hoverinfo\": \"name\", \"line\": {\"color\": \"#555\", \"dash\": \"dot\", \"width\": 1}, \"name\": \"-50.00 deg\", \"showlegend\": false, \"type\": \"scatter\", \"x\": [-150.47269538675914, -135.1382402704465, -128.8100951702637, -122.02974483284908, -120.28643016934075, -118.53106380080987, -117.82641902240033, -117.12073045197809, -116.76757562399774, -116.41425712752618, -116.06080759351158, -115.70725972133971, -115.35364626180251, -115.0, -114.64635373819749, -114.29274027866029, -113.93919240648842, -113.58574287247382, -113.23242437600226, -112.87926954802197, -112.17358097759967, -111.46893619919013, -109.71356983065925, -107.97025516715092, -101.18990482973629, -94.86175972955351, -89.11523359444055, -84.00504756987442, -79.52730461324086, -69.3975723406333, -62.924056928953746, -57.69865892439685, -54.6801813390793, -51.416468268638994, -50.44174190071635, -50.0439193357185], \"y\": [2.1690092783717687, 2.283613205343762, 2.1482066351372553, 1.8805110263369171, 1.7903185689185086, 1.690332235389074, 1.6475597573189855, 1.6031884953899582, 1.5804015444470143, 1.557212960058154, 1.5336222991170896, 1.5096292165861258, 1.4852334657955046, 1.4604348986575815, 1.4352334657955048, 1.4096292165861262, 1.3836222991170892, 1.357212960058154, 1.3304015444470128, 1.3031884953899575, 1.2475597573189858, 1.1903322353890728, 1.0403185689185093, 0.8805110263369176, 0.14820663513725413, -0.7163867946562369, -1.6861149823730335, -2.7327119599275056, -3.8309907216282335, -7.25914823540008, -10.693337314020894, -15.145382670060465, -19.451939759943034, -29.824279769303864, -39.944246119925026, -59.99441757441544]}, {\"hoverinfo\": \"name\", \"line\": {\"color\": \"#555\", \"dash\": \"dot\", \"width\": 1}, \"name\": \"-90.00 deg\", \"showlegend\": false, \"type\": \"scatter\", \"x\": [-153.38055588920713, -144.70357542922022, -141.53889204779006, -138.29094809042044, -137.47058951626883, -136.64819508175435, -136.3188180110817, -135.9892663909249, -135.8244387261243, -135.6595837574684, -135.49470694030038, -135.3298137335812, -135.1649095989859, -135.0, -134.8350904010141, -134.6701862664188, -134.50529305969962, -134.34041624253166, -134.1755612738757, -134.0107336090751, -133.6811819889183, -133.3518049182457, -132.52941048373117, -131.70905190957956, -128.46110795220994, -125.29642457077978, -122.2501775747935, -119.35084685018182, -116.61944411079287, -109.53536641108144, -104.10032362358925, -99.0058619709315, -95.71059313749964, -91.81124804732798, -90.57293869768347, -90.05729576041449], \"y\": [-0.9732279370869548, -1.764348624364853, -2.124426027943395, -2.5390189104386724, -2.6514699297020368, -2.7674915645818707, -2.8149035000028793, -2.8628898500051885, -2.887098602924716, -2.91145114746676, -2.9359475265105246, -2.9605877734182884, -2.985371912026573, -3.0102999566398116, -3.035371912026572, -3.0605877734182907, -3.0859475265105245, -3.1114511474667603, -3.1370986029247168, -3.162889850005191, -3.2149035000028805, -3.2674915645818716, -3.4014699297020368, -3.539018910438671, -4.124426027943397, -4.764348624364852, -5.455404631092938, -6.193310480660946, -6.973227937086955, -9.514969420252301, -12.265723755961025, -16.10774225511957, -20.043213737826427, -30.00434077479319, -40.00043427276863, -60.000004342942646]}, {\"hoverinfo\": \"name\", \"line\": {\"color\": \"#555\", \"dash\": \"dot\", \"width\": 1}, \"name\": \"-120.00 deg\", \"showlegend\": false, \"type\": \"scatter\", \"x\": [-160.85975458455675, -155.63827622502686, -153.78618641032358, -151.90142366468808, -151.42698510516857, -150.95176089075574, -150.76150959030122, -150.57119105676304, -150.47601182200208, -150.3808220750226, -150.2856239170145, -150.19041945000328, -150.09521077664158, -150.0, -149.90478922335848, -149.80958054999678, -149.7143760829855, -149.6191779249774, -149.52398817799798, -149.42880894323696, -149.23849040969878, -149.04823910924426, -148.57301489483143, -148.09857633531192, -146.21381358967642, -144.3617237749731, -142.55707898477175, -140.81292692355936, -139.14024541544325, -134.62669831347796, -130.9383012798706, -127.24783266092788, -124.71500395394821, -121.54431183546006, -120.49371514890686, -120.04959479080003], \"y\": [-2.436272660456205, -3.4422186673114457, -3.84762884451815, -4.29037960222416, -4.40699921593907, -4.526008275446839, -4.57428211823914, -4.622939314369939, -4.647411727484515, -4.671980041652243, -4.696644271172273, -4.721404427168291, -4.746260517586929, -4.771212547196625, -4.79626051758693, -4.821404427168288, -4.846644271172273, -4.871980041652241, -4.897411727484514, -4.922939314369941, -4.974282118239141, -5.02600827544684, -5.156999215939071, -5.290379602224159, -5.847628844518153, -6.442218667311449, -7.072958558444331, -7.738271724514311, -8.436272660456206, -10.704688157932988, -13.186893456343654, -16.732079592455978, -20.453229787866576, -30.139417000675234, -40.043643711077515, -60.004345113397235]}, {\"hoverinfo\": \"name\", \"line\": {\"color\": \"#555\", \"dash\": \"dot\", \"width\": 1}, \"name\": \"-150.00 deg\", \"showlegend\": false, \"type\": \"scatter\", \"x\": [-170.08784826393844, -167.62337785672628, -166.75918441304157, -165.8827080470444, -165.6623735482899, -165.44174564647267, -165.35343415933335, -165.26509758258123, -165.22092184347468, -165.17674218217348, -165.1325593827711, -165.08837422959118, -165.04418750713023, -165.0, -164.95581249286977, -164.91162577040882, -164.86744061722902, -164.82325781782652, -164.77907815652532, -164.73490241741877, -164.64656584066665, -164.55825435352733, -164.3376264517102, -164.1172919529556, -163.24081558695843, -162.37662214327372, -161.53041331657028, -160.70739357548985, -159.91215173606156, -157.72822707501405, -155.8894881368641, -153.98596123499692, -152.6346060185233, -150.88170774429364, -150.28401689265309, -150.02862309904242], \"y\": [-3.2618637150774954, -4.357464956087062, -4.781008157812972, -5.234889529168014, -5.353148423971277, -5.473330927281008, -5.521943113599203, -5.570863587065885, -5.595439459606192, -5.620092434585043, -5.644822518988903, -5.669629718252307, -5.694514036257395, -5.719475475333596, -5.744514036257396, -5.769629718252306, -5.794822518988905, -5.820092434585046, -5.845439459606192, -5.870863587065886, -5.921943113599205, -5.9733309272810065, -6.103148423971275, -6.234889529168011, -6.781008157812972, -7.357464956087063, -7.963662913962381, -8.598793860490886, -9.261863715077498, -11.406608921751245, -13.75560292379796, -17.138198674062732, -20.730600258806064, -30.235702451504753, -40.07500487427773, -60.00752002960971]}, {\"hoverinfo\": \"name\", \"line\": {\"color\": \"#555\", \"dash\": \"dot\", \"width\": 1}, \"name\": \"-180.00 deg\", \"showlegend\": false, \"type\": \"scatter\", \"x\": [-180.0, -180.0, -180.0, -180.0, -180.0, -180.0, -180.0, -180.0, -180.0, -180.0, -180.0, -180.0, -180.0, -180.0, -180.0, -180.0, -180.0, -180.0, -180.0, -180.0, -180.0, -180.0, -180.0, -180.0, -180.0, -180.0, -180.0, -180.0, -180.0, -180.0, -180.0, -180.0, -180.0, -180.0, -180.0, -180.0], \"y\": [-3.528697248729707, -4.649481613751726, -5.078037820877343, -5.534983129163744, -5.653692425461207, -5.774197205849433, -5.82290229493352, -5.871895053021047, -5.896499329536557, -5.921175546836581, -5.94592371028475, -5.970743824053145, -5.995635891122028, -6.020599913279624, -6.045635891122028, -6.070743824053146, -6.095923710284749, -6.121175546836581, -6.146499329536558, -6.17189505302105, -6.222902294933521, -6.2741972058494335, -6.403692425461207, -6.534983129163744, -7.078037820877343, -7.6494816137517265, -8.248852055886793, -8.875518407124991, -9.528697248729706, -11.637589600041242, -13.946455874173909, -17.277840682867595, -20.8278537031645, -30.27041844216076, -40.086427475652854, -60.00868154958637]}, {\"hoverinfo\": \"name\", \"line\": {\"color\": \"#555\", \"dash\": \"dot\", \"width\": 1}, \"name\": \"-180.00 deg\", \"showlegend\": false, \"type\": \"scatter\", \"x\": [-180.0, -180.0, -180.0, -180.0, -180.0, -180.0, -180.0, -180.0, -180.0, -180.0, -180.0, -180.0, -180.0, -180.0, -180.0, -180.0, -180.0, -180.0, -180.0, -180.0, -180.0, -180.0, -180.0, -180.0, -180.0, -180.0, -180.0, -180.0, -180.0, -180.0, -180.0, -180.0, -180.0, -180.0, -180.0, -180.0], \"y\": [-3.528697248729707, -4.649481613751726, -5.078037820877343, -5.534983129163744, -5.653692425461207, -5.774197205849433, -5.82290229493352, -5.871895053021047, -5.896499329536557, -5.921175546836581, -5.94592371028475, -5.970743824053145, -5.995635891122028, -6.020599913279624, -6.045635891122028, -6.070743824053146, -6.095923710284749, -6.121175546836581, -6.146499329536558, -6.17189505302105, -6.222902294933521, -6.2741972058494335, -6.403692425461207, -6.534983129163744, -7.078037820877343, -7.6494816137517265, -8.248852055886793, -8.875518407124991, -9.528697248729706, -11.637589600041242, -13.946455874173909, -17.277840682867595, -20.8278537031645, -30.27041844216076, -40.086427475652854, -60.00868154958637]}],                        {\"template\": {\"data\": {\"bar\": [{\"error_x\": {\"color\": \"#2a3f5f\"}, \"error_y\": {\"color\": \"#2a3f5f\"}, \"marker\": {\"line\": {\"color\": \"#E5ECF6\", \"width\": 0.5}}, \"type\": \"bar\"}], \"barpolar\": [{\"marker\": {\"line\": {\"color\": \"#E5ECF6\", \"width\": 0.5}}, \"type\": \"barpolar\"}], \"carpet\": [{\"aaxis\": {\"endlinecolor\": \"#2a3f5f\", \"gridcolor\": \"white\", \"linecolor\": \"white\", \"minorgridcolor\": \"white\", \"startlinecolor\": \"#2a3f5f\"}, \"baxis\": {\"endlinecolor\": \"#2a3f5f\", \"gridcolor\": \"white\", \"linecolor\": \"white\", \"minorgridcolor\": \"white\", \"startlinecolor\": \"#2a3f5f\"}, \"type\": \"carpet\"}], \"choropleth\": [{\"colorbar\": {\"outlinewidth\": 0, \"ticks\": \"\"}, \"type\": \"choropleth\"}], \"contour\": [{\"colorbar\": {\"outlinewidth\": 0, \"ticks\": \"\"}, \"colorscale\": [[0.0, \"#0d0887\"], [0.1111111111111111, \"#46039f\"], [0.2222222222222222, \"#7201a8\"], [0.3333333333333333, \"#9c179e\"], [0.4444444444444444, \"#bd3786\"], [0.5555555555555556, \"#d8576b\"], [0.6666666666666666, \"#ed7953\"], [0.7777777777777778, \"#fb9f3a\"], [0.8888888888888888, \"#fdca26\"], [1.0, \"#f0f921\"]], \"type\": \"contour\"}], \"contourcarpet\": [{\"colorbar\": {\"outlinewidth\": 0, \"ticks\": \"\"}, \"type\": \"contourcarpet\"}], \"heatmap\": [{\"colorbar\": {\"outlinewidth\": 0, \"ticks\": \"\"}, \"colorscale\": [[0.0, \"#0d0887\"], [0.1111111111111111, \"#46039f\"], [0.2222222222222222, \"#7201a8\"], [0.3333333333333333, \"#9c179e\"], [0.4444444444444444, \"#bd3786\"], [0.5555555555555556, \"#d8576b\"], [0.6666666666666666, \"#ed7953\"], [0.7777777777777778, \"#fb9f3a\"], [0.8888888888888888, \"#fdca26\"], [1.0, \"#f0f921\"]], \"type\": \"heatmap\"}], \"heatmapgl\": [{\"colorbar\": {\"outlinewidth\": 0, \"ticks\": \"\"}, \"colorscale\": [[0.0, \"#0d0887\"], [0.1111111111111111, \"#46039f\"], [0.2222222222222222, \"#7201a8\"], [0.3333333333333333, \"#9c179e\"], [0.4444444444444444, \"#bd3786\"], [0.5555555555555556, \"#d8576b\"], [0.6666666666666666, \"#ed7953\"], [0.7777777777777778, \"#fb9f3a\"], [0.8888888888888888, \"#fdca26\"], [1.0, \"#f0f921\"]], \"type\": \"heatmapgl\"}], \"histogram\": [{\"marker\": {\"colorbar\": {\"outlinewidth\": 0, \"ticks\": \"\"}}, \"type\": \"histogram\"}], \"histogram2d\": [{\"colorbar\": {\"outlinewidth\": 0, \"ticks\": \"\"}, \"colorscale\": [[0.0, \"#0d0887\"], [0.1111111111111111, \"#46039f\"], [0.2222222222222222, \"#7201a8\"], [0.3333333333333333, \"#9c179e\"], [0.4444444444444444, \"#bd3786\"], [0.5555555555555556, \"#d8576b\"], [0.6666666666666666, \"#ed7953\"], [0.7777777777777778, \"#fb9f3a\"], [0.8888888888888888, \"#fdca26\"], [1.0, \"#f0f921\"]], \"type\": \"histogram2d\"}], \"histogram2dcontour\": [{\"colorbar\": {\"outlinewidth\": 0, \"ticks\": \"\"}, \"colorscale\": [[0.0, \"#0d0887\"], [0.1111111111111111, \"#46039f\"], [0.2222222222222222, \"#7201a8\"], [0.3333333333333333, \"#9c179e\"], [0.4444444444444444, \"#bd3786\"], [0.5555555555555556, \"#d8576b\"], [0.6666666666666666, \"#ed7953\"], [0.7777777777777778, \"#fb9f3a\"], [0.8888888888888888, \"#fdca26\"], [1.0, \"#f0f921\"]], \"type\": \"histogram2dcontour\"}], \"mesh3d\": [{\"colorbar\": {\"outlinewidth\": 0, \"ticks\": \"\"}, \"type\": \"mesh3d\"}], \"parcoords\": [{\"line\": {\"colorbar\": {\"outlinewidth\": 0, \"ticks\": \"\"}}, \"type\": \"parcoords\"}], \"pie\": [{\"automargin\": true, \"type\": \"pie\"}], \"scatter\": [{\"marker\": {\"colorbar\": {\"outlinewidth\": 0, \"ticks\": \"\"}}, \"type\": \"scatter\"}], \"scatter3d\": [{\"line\": {\"colorbar\": {\"outlinewidth\": 0, \"ticks\": \"\"}}, \"marker\": {\"colorbar\": {\"outlinewidth\": 0, \"ticks\": \"\"}}, \"type\": \"scatter3d\"}], \"scattercarpet\": [{\"marker\": {\"colorbar\": {\"outlinewidth\": 0, \"ticks\": \"\"}}, \"type\": \"scattercarpet\"}], \"scattergeo\": [{\"marker\": {\"colorbar\": {\"outlinewidth\": 0, \"ticks\": \"\"}}, \"type\": \"scattergeo\"}], \"scattergl\": [{\"marker\": {\"colorbar\": {\"outlinewidth\": 0, \"ticks\": \"\"}}, \"type\": \"scattergl\"}], \"scattermapbox\": [{\"marker\": {\"colorbar\": {\"outlinewidth\": 0, \"ticks\": \"\"}}, \"type\": \"scattermapbox\"}], \"scatterpolar\": [{\"marker\": {\"colorbar\": {\"outlinewidth\": 0, \"ticks\": \"\"}}, \"type\": \"scatterpolar\"}], \"scatterpolargl\": [{\"marker\": {\"colorbar\": {\"outlinewidth\": 0, \"ticks\": \"\"}}, \"type\": \"scatterpolargl\"}], \"scatterternary\": [{\"marker\": {\"colorbar\": {\"outlinewidth\": 0, \"ticks\": \"\"}}, \"type\": \"scatterternary\"}], \"surface\": [{\"colorbar\": {\"outlinewidth\": 0, \"ticks\": \"\"}, \"colorscale\": [[0.0, \"#0d0887\"], [0.1111111111111111, \"#46039f\"], [0.2222222222222222, \"#7201a8\"], [0.3333333333333333, \"#9c179e\"], [0.4444444444444444, \"#bd3786\"], [0.5555555555555556, \"#d8576b\"], [0.6666666666666666, \"#ed7953\"], [0.7777777777777778, \"#fb9f3a\"], [0.8888888888888888, \"#fdca26\"], [1.0, \"#f0f921\"]], \"type\": \"surface\"}], \"table\": [{\"cells\": {\"fill\": {\"color\": \"#EBF0F8\"}, \"line\": {\"color\": \"white\"}}, \"header\": {\"fill\": {\"color\": \"#C8D4E3\"}, \"line\": {\"color\": \"white\"}}, \"type\": \"table\"}]}, \"layout\": {\"annotationdefaults\": {\"arrowcolor\": \"#2a3f5f\", \"arrowhead\": 0, \"arrowwidth\": 1}, \"coloraxis\": {\"colorbar\": {\"outlinewidth\": 0, \"ticks\": \"\"}}, \"colorscale\": {\"diverging\": [[0, \"#8e0152\"], [0.1, \"#c51b7d\"], [0.2, \"#de77ae\"], [0.3, \"#f1b6da\"], [0.4, \"#fde0ef\"], [0.5, \"#f7f7f7\"], [0.6, \"#e6f5d0\"], [0.7, \"#b8e186\"], [0.8, \"#7fbc41\"], [0.9, \"#4d9221\"], [1, \"#276419\"]], \"sequential\": [[0.0, \"#0d0887\"], [0.1111111111111111, \"#46039f\"], [0.2222222222222222, \"#7201a8\"], [0.3333333333333333, \"#9c179e\"], [0.4444444444444444, \"#bd3786\"], [0.5555555555555556, \"#d8576b\"], [0.6666666666666666, \"#ed7953\"], [0.7777777777777778, \"#fb9f3a\"], [0.8888888888888888, \"#fdca26\"], [1.0, \"#f0f921\"]], \"sequentialminus\": [[0.0, \"#0d0887\"], [0.1111111111111111, \"#46039f\"], [0.2222222222222222, \"#7201a8\"], [0.3333333333333333, \"#9c179e\"], [0.4444444444444444, \"#bd3786\"], [0.5555555555555556, \"#d8576b\"], [0.6666666666666666, \"#ed7953\"], [0.7777777777777778, \"#fb9f3a\"], [0.8888888888888888, \"#fdca26\"], [1.0, \"#f0f921\"]]}, \"colorway\": [\"#636efa\", \"#EF553B\", \"#00cc96\", \"#ab63fa\", \"#FFA15A\", \"#19d3f3\", \"#FF6692\", \"#B6E880\", \"#FF97FF\", \"#FECB52\"], \"font\": {\"color\": \"#2a3f5f\"}, \"geo\": {\"bgcolor\": \"white\", \"lakecolor\": \"white\", \"landcolor\": \"#E5ECF6\", \"showlakes\": true, \"showland\": true, \"subunitcolor\": \"white\"}, \"hoverlabel\": {\"align\": \"left\"}, \"hovermode\": \"closest\", \"mapbox\": {\"style\": \"light\"}, \"paper_bgcolor\": \"white\", \"plot_bgcolor\": \"#E5ECF6\", \"polar\": {\"angularaxis\": {\"gridcolor\": \"white\", \"linecolor\": \"white\", \"ticks\": \"\"}, \"bgcolor\": \"#E5ECF6\", \"radialaxis\": {\"gridcolor\": \"white\", \"linecolor\": \"white\", \"ticks\": \"\"}}, \"scene\": {\"xaxis\": {\"backgroundcolor\": \"#E5ECF6\", \"gridcolor\": \"white\", \"gridwidth\": 2, \"linecolor\": \"white\", \"showbackground\": true, \"ticks\": \"\", \"zerolinecolor\": \"white\"}, \"yaxis\": {\"backgroundcolor\": \"#E5ECF6\", \"gridcolor\": \"white\", \"gridwidth\": 2, \"linecolor\": \"white\", \"showbackground\": true, \"ticks\": \"\", \"zerolinecolor\": \"white\"}, \"zaxis\": {\"backgroundcolor\": \"#E5ECF6\", \"gridcolor\": \"white\", \"gridwidth\": 2, \"linecolor\": \"white\", \"showbackground\": true, \"ticks\": \"\", \"zerolinecolor\": \"white\"}}, \"shapedefaults\": {\"line\": {\"color\": \"#2a3f5f\"}}, \"ternary\": {\"aaxis\": {\"gridcolor\": \"white\", \"linecolor\": \"white\", \"ticks\": \"\"}, \"baxis\": {\"gridcolor\": \"white\", \"linecolor\": \"white\", \"ticks\": \"\"}, \"bgcolor\": \"#E5ECF6\", \"caxis\": {\"gridcolor\": \"white\", \"linecolor\": \"white\", \"ticks\": \"\"}}, \"title\": {\"x\": 0.05}, \"xaxis\": {\"automargin\": true, \"gridcolor\": \"white\", \"linecolor\": \"white\", \"ticks\": \"\", \"title\": {\"standoff\": 15}, \"zerolinecolor\": \"white\", \"zerolinewidth\": 2}, \"yaxis\": {\"automargin\": true, \"gridcolor\": \"white\", \"linecolor\": \"white\", \"ticks\": \"\", \"title\": {\"standoff\": 15}, \"zerolinecolor\": \"white\", \"zerolinewidth\": 2}}}, \"xaxis\": {\"title\": {\"text\": \"Open-Loop Phase (deg)\"}}, \"yaxis\": {\"title\": {\"text\": \"Open-Loop Gain (dB)\"}}},                        {\"responsive\": true}                    ).then(function(){\n",
       "                            \n",
       "var gd = document.getElementById('38422306-e781-431a-9887-7590d9e428b6');\n",
       "var x = new MutationObserver(function (mutations, observer) {{\n",
       "        var display = window.getComputedStyle(gd).display;\n",
       "        if (!display || display === 'none') {{\n",
       "            console.log([gd, 'removed!']);\n",
       "            Plotly.purge(gd);\n",
       "            observer.disconnect();\n",
       "        }}\n",
       "}});\n",
       "\n",
       "// Listen for the removal of the full notebook cells\n",
       "var notebookContainer = gd.closest('#notebook-container');\n",
       "if (notebookContainer) {{\n",
       "    x.observe(notebookContainer, {childList: true});\n",
       "}}\n",
       "\n",
       "// Listen for the clearing of the current output cell\n",
       "var outputEl = gd.closest('.output');\n",
       "if (outputEl) {{\n",
       "    x.observe(outputEl, {childList: true});\n",
       "}}\n",
       "\n",
       "                        })                };                });            </script>        </div>"
      ]
     },
     "metadata": {},
     "output_type": "display_data"
    }
   ],
   "source": [
    "fig = figure(\"nichols\")\n",
    "fig.plot(F,w=np.logspace(-2,3,200))\n",
    "fig.grid(cm=np.array([6,3, 1, 0.5,0, -1, -3, -5, -10, -15, -20]))\n",
    "fig.show()"
   ]
  },
  {
   "cell_type": "markdown",
   "metadata": {},
   "source": [
    "<table style=\"width: 100%\">\n",
    "    <tr style=\"width: 100%\">\n",
    "        <th >Système</th>\n",
    "        <th >$\\omega$ (rad/s)</th> \n",
    "        <th >0</th> \n",
    "        <th >5</th> \n",
    "        <th >10</th>\n",
    "        <th >20</th> \n",
    "        <th >30</th> \n",
    "        <th >50</th> \n",
    "        <th >100</th> \n",
    "        <th >500</th>\n",
    "        <th >1000</th>\n",
    "        <th >$\\infty$</th>\n",
    "    </tr>\n",
    "    <tr>\n",
    "        <td> $F(p)$ </td>\n",
    "         <td>gain (dB)</td>\n",
    "         <td>18</td>\n",
    "         <td>17</td>\n",
    "         <td>15</td>\n",
    "         <td>10</td>\n",
    "         <td>8</td>\n",
    "         <td>3</td>\n",
    "         <td>-5</td>\n",
    "         <td>-30</td>\n",
    "         <td>-42</td>\n",
    "        <td>-$\\infty$</td>\n",
    "    </tr>\n",
    "    <tr>\n",
    "        <td> $F(p)$ </td>\n",
    "         <td>Phase (deg)</td>\n",
    "         <td>0</td>\n",
    "         <td>-30</td>\n",
    "         <td>-50</td>\n",
    "         <td>-73</td>\n",
    "         <td>-88</td>\n",
    "         <td>-105</td>\n",
    "         <td>-129</td>\n",
    "         <td>-168</td>\n",
    "         <td>-174</td>\n",
    "        <td>-180</td>\n",
    "    </tr>\n",
    "        <tr>\n",
    "        <td> $H(p)$ </td>\n",
    "         <td>gain (dB)</td>\n",
    "         <td>-1</td>\n",
    "         <td>-1</td>\n",
    "         <td>-1</td>\n",
    "         <td>-1</td>\n",
    "         <td>-1</td>\n",
    "         <td>-1</td>\n",
    "         <td></td>\n",
    "         <td></td>\n",
    "         <td></td>\n",
    "        <td>-$\\infty$</td>\n",
    "    </tr>\n",
    "    <tr>\n",
    "        <td> $H(p)$ </td>\n",
    "         <td>Phase (deg)</td>\n",
    "         <td>-1</td>\n",
    "         <td></td>\n",
    "         <td></td>\n",
    "         <td></td>\n",
    "         <td></td>\n",
    "         <td></td>\n",
    "         <td></td>\n",
    "         <td></td>\n",
    "         <td></td>\n",
    "        <td>-180</td>\n",
    "    </tr>\n",
    "</table>"
   ]
  },
  {
   "cell_type": "code",
   "execution_count": null,
   "metadata": {},
   "outputs": [],
   "source": []
  },
  {
   "cell_type": "markdown",
   "metadata": {},
   "source": [
    "#### Stabilité de $H(p)$ ($K_c=1$)\n",
    "\n",
    "**Question :** \n",
    "\n",
    "* Énoncez le critère de stabilité dans ce lieu.\n",
    "* Concluez quant à la stabilité de $H(p)$ à partir du lieu de Black-Nichols.\n"
   ]
  },
  {
   "cell_type": "markdown",
   "metadata": {},
   "source": []
  },
  {
   "cell_type": "markdown",
   "metadata": {},
   "source": [
    "### 2.2 Correction proportionnel du système à asservir \n",
    "\n",
    "\n",
    "**Question :** \n",
    "\n",
    "* Déterminez par essais successifs le gain $K_c$ à introduire dans la chaîne pour obtenir un comportement de la fonction de transfert en boucle fermée comparable à celui d'un système du 2ème ordre présentant un dépassement relatif de $D_r=25\\%$.\n",
    "\n",
    "* Déterminez les caractéristiques temporelles de la fonction de transfert corrigée et bouclée par le gain $K_c$.\n"
   ]
  },
  {
   "cell_type": "code",
   "execution_count": 24,
   "metadata": {},
   "outputs": [
    {
     "data": {
      "application/vnd.plotly.v1+json": {
       "config": {
        "plotlyServerURL": "https://plot.ly"
       },
       "data": [
        {
         "hoverinfo": "none",
         "marker": {
          "line": {
           "color": "#FF0000",
           "width": 1
          },
          "size": 3
         },
         "mode": "markers",
         "showlegend": false,
         "type": "scatter",
         "x": [
          -180
         ],
         "y": [
          0
         ]
        },
        {
         "hovertemplate": "<b>w</b>: %{text:.3f} rad/s<br><b>mag</b>: %{y:.3f} dB<br><b>phase</b>: %{x:.3f} deg<br>",
         "line": {
          "color": "#1f77b4"
         },
         "name": "sys",
         "showlegend": false,
         "text": [
          0.01,
          0.010595601792776159,
          0.011226677735108135,
          0.011895340673703195,
          0.012603829296797275,
          0.013354515629298987,
          0.01414991297434576,
          0.014992684327860457,
          0.015885651294280528,
          0.016831803533309566,
          0.017834308769319095,
          0.018896523396912095,
          0.020022003718155844,
          0.021214517849106298,
          0.02247805833548725,
          0.023816855519761582,
          0.02523539170434766,
          0.026738416158399468,
          0.02833096101839324,
          0.03001835813575589,
          0.031806256927941194,
          0.03370064329271928,
          0.03570785964900463,
          0.03783462617131929,
          0.04008806328898465,
          0.04247571552536898,
          0.04500557675700498,
          0.04768611697714469,
          0.0505263106533568,
          0.053535666774107246,
          0.05672426068491978,
          0.06010276782070382,
          0.06368249944718586,
          0.06747544053110693,
          0.07149428986597577,
          0.07575250258771912,
          0.08026433522257174,
          0.08504489341802678,
          0.09011018251665019,
          0.09547716114208056,
          0.10116379797662076,
          0.10718913192051281,
          0.11357333583431058,
          0.12033778407775898,
          0.12750512407130135,
          0.13509935211980273,
          0.14314589375234793,
          0.15167168884709234,
          0.16070528182616392,
          0.17027691722259003,
          0.18041864093920726,
          0.19116440753857028,
          0.20255019392306675,
          0.21461411978584047,
          0.22739657523579287,
          0.24094035602395256,
          0.2552908068239518,
          0.27049597304631356,
          0.2866067616948252,
          0.3036771118035459,
          0.3217641750250737,
          0.3409285069746813,
          0.3612342699709432,
          0.3827494478516313,
          0.40554607358408296,
          0.42970047043208415,
          0.455293507486695,
          0.48241087041653713,
          0.5111433483440168,
          0.5415871378079473,
          0.5738441648302396,
          0.6080224261649424,
          0.6442363508721374,
          0.6826071834272389,
          0.7232633896483537,
          0.7663410868007459,
          0.8119844993184013,
          0.8603464416684504,
          0.9115888299750823,
          0.9658832241158704,
          1.0234114021054537,
          1.0843659686896108,
          1.1489510001873098,
          1.217382727739662,
          1.2898902612533094,
          1.3667163564620073,
          1.4481182276745346,
          1.5343684089300131,
          1.625755666443795,
          1.7225859653987874,
          1.8251834943190444,
          1.933891750455232,
          2.049074689815848,
          2.171117945694505,
          2.300430119772919,
          2.437444150122222,
          2.5826187606826774,
          2.736439997074672,
          2.899422853882878,
          3.0721129988617593,
          3.2550885998350596,
          3.44896226040576,
          3.654383070957258,
          3.8720387818125572,
          4.102658105827195,
          4.347013158125026,
          4.605922041145108,
          4.880251583654434,
          5.17092024289676,
          5.478901179593945,
          5.805225516094902,
          6.150985788580504,
          6.517339604882427,
          6.905513520162331,
          7.3168071434272,
          7.752597488629465,
          8.21434358491943,
          8.703591361485167,
          9.221978823334332,
          9.771241535346501,
          10.353218432956627,
          10.96985797892384,
          11.62322468679853,
          12.315506032928262,
          13.049019780144029,
          13.826221737646565,
          14.649713983072864,
          15.52225357427048,
          16.446761779946645,
          17.42633386009651,
          18.464249428955444,
          19.56398343517065,
          20.72921779595372,
          21.96385372416547,
          23.272024789604096,
          24.658110758226037,
          26.126752255633292,
          27.682866303920665,
          29.331662783900455,
          31.07866187782014,
          32.929712550971516,
          34.891012134067736,
          36.96912707195028,
          39.17101490809261,
          41.50404757850477,
          43.97603609302721,
          46.59525668664682,
          49.37047852839004,
          52.31099308056263,
          55.42664520663107,
          58.72786613189483,
          62.22570836730231,
          65.93188271333548,
          69.8587974678525,
          74.01959996915645,
          78.42822061337682,
          83.09941949353396,
          88.04883581643465,
          93.29304026284686,
          98.84959046625586,
          104.73708979594508,
          110.97524964120721,
          117.58495540521582,
          124.58833642950081,
          132.00884008314193,
          139.87131026472386,
          148.202070579886,
          157.02901247293775,
          166.38168860761309,
          176.2914118095948,
          186.79135990207848,
          197.91668678535575,
          209.7046401323235,
          222.19468609395238,
          235.42864143224202,
          249.45081352303166,
          264.30814869741084,
          280.0503894183631,
          296.73024081888724,
          314.40354715915,
          333.1294787934677,
          352.970730273065,
          373.99373024788014,
          396.2688638701478,
          419.8707084443914,
          444.87828311275854,
          471.3753134116729,
          499.450511585514,
          529.1978735958447,
          560.7169938205458,
          594.113398496504,
          629.4988990221888,
          666.9919663030129,
          706.7181273927491,
          748.810385759003,
          793.4096665797492,
          840.6652885618333,
          890.735463861044,
          943.7878277775391,
          1000
         ],
         "type": "scatter",
         "x": [
          -0.06302533834671024,
          -0.06677913631287355,
          -0.07075651068792507,
          -0.07497077763358033,
          -0.07943604640764754,
          -0.08416726659773274,
          -0.08918027816759853,
          -0.09449186448362612,
          -0.10011980849862676,
          -0.10608295228098608,
          -0.11240126008814225,
          -0.11909588519523033,
          -0.12618924070244827,
          -0.1337050745575989,
          -0.14166854904453802,
          -0.15010632500311735,
          -0.1590466510617581,
          -0.16851945818076186,
          -0.17855645982166665,
          -0.18919125807688614,
          -0.200459456113615,
          -0.2123987773066696,
          -0.22504919145717214,
          -0.2384530485171149,
          -0.25265522026492926,
          -0.2677032504027057,
          -0.2836475135737757,
          -0.30054138382806733,
          -0.3184414130936643,
          -0.33740752024533704,
          -0.35750319139470677,
          -0.3787956920633434,
          -0.4013562919374764,
          -0.4252605029433013,
          -0.45058833142364374,
          -0.47742454524132383,
          -0.5058589566801566,
          -0.5359867220638896,
          -0.5679086590636814,
          -0.6017315827178761,
          -0.6375686612433535,
          -0.6755397927752586,
          -0.7157720042315856,
          -0.7583998735608447,
          -0.803565976695233,
          -0.8514213605962884,
          -0.9021260438476069,
          -0.9558495463161752,
          -1.0127714494728535,
          -1.0730819890297327,
          -1.1369826816199133,
          -1.204686987309742,
          -1.2764210097959403,
          -1.3524242361967453,
          -1.4329503183972025,
          -1.5182678979499649,
          -1.6086614765639748,
          -1.704432334227959,
          -1.8058994970127353,
          -1.913400756569289,
          -2.0272937432834937,
          -2.147957054955709,
          -2.2757914427377166,
          -2.4112210558691793,
          -2.5546947465003784,
          -2.7066874355544766,
          -2.8677015401539174,
          -3.0382684625936665,
          -3.2189501401671885,
          -3.410340654312212,
          -3.613067896514003,
          -3.8277952871476946,
          -4.055223541918592,
          -4.296092478722788,
          -4.551182855547359,
          -4.821318227397363,
          -5.107366807108977,
          -5.410243311204534,
          -5.7309107675830075,
          -6.070382256722649,
          -6.429722552102151,
          -6.81004961861579,
          -7.212535919759647,
          -7.638409475194532,
          -8.08895459985191,
          -8.565512243965548,
          -9.069479840241646,
          -9.60231054983094,
          -10.165511782920843,
          -10.760642852809408,
          -11.389311604583542,
          -12.053169841514151,
          -12.753907354753666,
          -13.493244345926994,
          -14.272922019161236,
          -15.094691110843595,
          -15.960298124257706,
          -16.871469045074406,
          -17.82989033583039,
          -18.83718704685149,
          -19.894897941715346,
          -21.00444762151179,
          -22.16711574770658,
          -23.38400361126682,
          -24.655998477084356,
          -25.98373634621009,
          -27.36756401888227,
          -28.807501598971623,
          -30.30320683992411,
          -31.853942972309014,
          -33.45855184694186,
          -35.11543434450009,
          -36.822540010561006,
          -38.57736774480464,
          -40.37697908328986,
          -42.218025155020634,
          -44.09678777831488,
          -46.009234419677426,
          -47.95108591994344,
          -49.917895068734445,
          -51.905133357886534,
          -53.90828264591353,
          -55.922928084822466,
          -57.944848540799086,
          -59.97010089434957,
          -61.99509501394563,
          -64.01665681153162,
          -66.03207753887051,
          -68.03914829111596,
          -70.03617947037351,
          -72.02200566127317,
          -73.995976935247,
          -75.9579380044423,
          -77.9081968851333,
          -79.84748481684008,
          -81.77690914245291,
          -83.69790071906615,
          -85.61215723392293,
          -87.52158357841243,
          -89.42823021505498,
          -91.33423028209148,
          -93.24173603602824,
          -95.15285514679272,
          -97.06958733995654,
          -98.99376192736617,
          -100.92697687778303,
          -102.87054024364566,
          -104.82541496399708,
          -106.79216828623733,
          -108.77092726417317,
          -110.76134196543528,
          -112.76255812321213,
          -114.77320096087985,
          -116.79137177318113,
          -118.81465854319335,
          -120.84016140420765,
          -122.8645331327999,
          -124.88403411842101,
          -126.89460045126145,
          -128.89192297576756,
          -130.8715344518423,
          -132.8289014263964,
          -134.75951710687949,
          -136.65899148335956,
          -138.52313517324913,
          -140.34803393732238,
          -142.1301114838669,
          -143.86617896723658,
          -145.55347041764307,
          -147.1896641343835,
          -148.7728907717719,
          -150.3017294020295,
          -151.77519323002008,
          -153.1927068588396,
          -154.55407707705055,
          -155.85945908298837,
          -157.109319910011,
          -158.30440060071734,
          -159.44567842744442,
          -160.53433019539997,
          -161.57169741249936,
          -162.55925387940772,
          -163.49857605227163,
          -164.39131636265196,
          -165.23917954450516,
          -166.04390191467937,
          -166.8072334779379,
          -167.53092267591362,
          -168.2167035674316,
          -168.8662852112438,
          -169.48134301775835,
          -170.0635118406425,
          -170.6143805896015,
          -171.13548816005664,
          -171.62832049220134,
          -172.09430858974147,
          -172.53482734660508,
          -172.95119504738025,
          -173.3446734237855,
          -173.7164681648168
         ],
         "y": [
          18.061795353466778,
          18.061794815400575,
          18.06179421133107,
          18.061793533161804,
          18.061792771803148,
          18.061791917050474,
          18.06179095744739,
          18.06178988013218,
          18.061788670665422,
          18.061787312836465,
          18.06178578844615,
          18.061784077062892,
          18.061782155748848,
          18.061779998752485,
          18.061777577163426,
          18.06177485852501,
          18.061771806399257,
          18.061768379878544,
          18.06176453303732,
          18.061760214316628,
          18.0617553658331,
          18.06174992260322,
          18.061743811672414,
          18.06173695113738,
          18.06172924904845,
          18.061720602177374,
          18.061710894633983,
          18.06169999631321,
          18.061687761151642,
          18.061674025170305,
          18.061658604277476,
          18.061641291802022,
          18.061621855724365,
          18.06160003556795,
          18.061575538909594,
          18.06154803746211,
          18.06151716267673,
          18.06148250080657,
          18.061443587365137,
          18.06139990090578,
          18.061350856039063,
          18.06129579559475,
          18.06123398182375,
          18.06116458652284,
          18.06108667995017,
          18.060999218384207,
          18.060901030160203,
          18.06079079999851,
          18.060667051416498,
          18.06052812699039,
          18.06037216620535,
          18.06019708060036,
          18.060000525879193,
          18.059779870619124,
          18.059532161165055,
          18.059254082247204,
          18.058941912805633,
          18.058591476443393,
          18.058198085861775,
          18.057756480555007,
          18.057260756957042,
          18.05670429013931,
          18.05607964605383,
          18.05537848320108,
          18.05459144247425,
          18.05370802379144,
          18.052716447972415,
          18.051603502147714,
          18.05035436680242,
          18.04895242235585,
          18.047379032960166,
          18.045613304966054,
          18.043631817252408,
          18.04140832035021,
          18.03891340101088,
          18.03611410857886,
          18.032973539232028,
          18.02945037385749,
          18.025498365043994,
          18.021065768406217,
          18.016094713226902,
          18.01052050722957,
          18.004270870202667,
          17.99726509121796,
          17.989413104361166,
          17.98061447827014,
          17.97075731541532,
          17.959717058029145,
          17.947355198980116,
          17.9335178977902,
          17.918034504521806,
          17.900715997534846,
          17.881353345265893,
          17.859715807343896,
          17.835549196657567,
          17.80857413153599,
          17.778484316065953,
          17.744944896752177,
          17.70759095514157,
          17.666026208455243,
          17.61982200330093,
          17.568516700545096,
          17.511615561510784,
          17.44859125563172,
          17.378885116019454,
          17.301909270283396,
          17.217049767373002,
          17.123670805121762,
          17.02112013567843,
          16.908735685724892,
          16.785853374796133,
          16.6518160489211,
          16.50598337063635,
          16.34774242452111,
          16.17651871598293,
          15.991787167863832,
          15.793082663161233,
          15.580009651178745,
          15.35225033564818,
          15.109571000890833,
          14.851826106134173,
          14.57895988448059,
          14.2910053133195,
          13.988080465478117,
          13.670382391704921,
          13.33817881196371,
          12.99179799435841,
          12.631617268733827,
          12.258050653875163,
          11.871536073903059,
          11.472522605787397,
          11.061458143315724,
          10.63877779202975,
          10.20489323324362,
          9.760183220912324,
          9.30498530878569,
          8.839588850967807,
          8.364229278780652,
          7.879083631086052,
          7.384267302983178,
          6.879831977110646,
          6.365764710022291,
          5.841988160248075,
          5.3083619614540964,
          4.764685260251059,
          4.210700450362459,
          3.6460981398777643,
          3.070523383292266,
          2.4835831925827514,
          1.8848553100818624,
          1.2738981799211628,
          0.6502619953369061,
          0.013500629002130822,
          -0.6368158224371089,
          -1.3010882236040666,
          -1.9796757255895683,
          -2.672883689707227,
          -3.3809526907179737,
          -4.104049070077186,
          -4.842257463241669,
          -5.595575642961882,
          -6.363911907792068,
          -7.147085110910732,
          -7.944827280921279,
          -8.756788647128886,
          -9.582544759808778,
          -10.421605301749018,
          -11.273424127657991,
          -12.137410045284373,
          -13.01293786442823,
          -13.899359282065095,
          -14.796013235880721,
          -15.702235435987015,
          -16.617366867058532,
          -17.5407611333839,
          -18.4717905918745,
          -19.40985127935957,
          -20.354366688772515,
          -21.30479048388519,
          -22.26060826497499,
          -23.22133850985108,
          -24.186532818003847,
          -25.155775582351353,
          -26.12868320507105,
          -27.104902963029605,
          -28.084111615739836,
          -29.06601383566891,
          -30.050340527871565,
          -31.03684709386755,
          -32.02531168374006,
          -33.015533470774876,
          -34.0073309746271,
          -35.00054045196726,
          -35.99501436772555,
          -36.99061995531276,
          -37.987237870409814,
          -38.98476093995971,
          -39.983093005729835,
          -40.9821478601297,
          -41.98184827075618
         ]
        },
        {
         "hovertemplate": "<b>w</b>: %{text:.3f} rad/s<br><b>mag</b>: %{y:.3f} dB<br><b>phase</b>: %{x:.3f} deg<br>",
         "line": {
          "color": "#ff7f0e"
         },
         "name": "sys",
         "showlegend": false,
         "text": [
          0.01,
          0.010595601792776159,
          0.011226677735108135,
          0.011895340673703195,
          0.012603829296797275,
          0.013354515629298987,
          0.01414991297434576,
          0.014992684327860457,
          0.015885651294280528,
          0.016831803533309566,
          0.017834308769319095,
          0.018896523396912095,
          0.020022003718155844,
          0.021214517849106298,
          0.02247805833548725,
          0.023816855519761582,
          0.02523539170434766,
          0.026738416158399468,
          0.02833096101839324,
          0.03001835813575589,
          0.031806256927941194,
          0.03370064329271928,
          0.03570785964900463,
          0.03783462617131929,
          0.04008806328898465,
          0.04247571552536898,
          0.04500557675700498,
          0.04768611697714469,
          0.0505263106533568,
          0.053535666774107246,
          0.05672426068491978,
          0.06010276782070382,
          0.06368249944718586,
          0.06747544053110693,
          0.07149428986597577,
          0.07575250258771912,
          0.08026433522257174,
          0.08504489341802678,
          0.09011018251665019,
          0.09547716114208056,
          0.10116379797662076,
          0.10718913192051281,
          0.11357333583431058,
          0.12033778407775898,
          0.12750512407130135,
          0.13509935211980273,
          0.14314589375234793,
          0.15167168884709234,
          0.16070528182616392,
          0.17027691722259003,
          0.18041864093920726,
          0.19116440753857028,
          0.20255019392306675,
          0.21461411978584047,
          0.22739657523579287,
          0.24094035602395256,
          0.2552908068239518,
          0.27049597304631356,
          0.2866067616948252,
          0.3036771118035459,
          0.3217641750250737,
          0.3409285069746813,
          0.3612342699709432,
          0.3827494478516313,
          0.40554607358408296,
          0.42970047043208415,
          0.455293507486695,
          0.48241087041653713,
          0.5111433483440168,
          0.5415871378079473,
          0.5738441648302396,
          0.6080224261649424,
          0.6442363508721374,
          0.6826071834272389,
          0.7232633896483537,
          0.7663410868007459,
          0.8119844993184013,
          0.8603464416684504,
          0.9115888299750823,
          0.9658832241158704,
          1.0234114021054537,
          1.0843659686896108,
          1.1489510001873098,
          1.217382727739662,
          1.2898902612533094,
          1.3667163564620073,
          1.4481182276745346,
          1.5343684089300131,
          1.625755666443795,
          1.7225859653987874,
          1.8251834943190444,
          1.933891750455232,
          2.049074689815848,
          2.171117945694505,
          2.300430119772919,
          2.437444150122222,
          2.5826187606826774,
          2.736439997074672,
          2.899422853882878,
          3.0721129988617593,
          3.2550885998350596,
          3.44896226040576,
          3.654383070957258,
          3.8720387818125572,
          4.102658105827195,
          4.347013158125026,
          4.605922041145108,
          4.880251583654434,
          5.17092024289676,
          5.478901179593945,
          5.805225516094902,
          6.150985788580504,
          6.517339604882427,
          6.905513520162331,
          7.3168071434272,
          7.752597488629465,
          8.21434358491943,
          8.703591361485167,
          9.221978823334332,
          9.771241535346501,
          10.353218432956627,
          10.96985797892384,
          11.62322468679853,
          12.315506032928262,
          13.049019780144029,
          13.826221737646565,
          14.649713983072864,
          15.52225357427048,
          16.446761779946645,
          17.42633386009651,
          18.464249428955444,
          19.56398343517065,
          20.72921779595372,
          21.96385372416547,
          23.272024789604096,
          24.658110758226037,
          26.126752255633292,
          27.682866303920665,
          29.331662783900455,
          31.07866187782014,
          32.929712550971516,
          34.891012134067736,
          36.96912707195028,
          39.17101490809261,
          41.50404757850477,
          43.97603609302721,
          46.59525668664682,
          49.37047852839004,
          52.31099308056263,
          55.42664520663107,
          58.72786613189483,
          62.22570836730231,
          65.93188271333548,
          69.8587974678525,
          74.01959996915645,
          78.42822061337682,
          83.09941949353396,
          88.04883581643465,
          93.29304026284686,
          98.84959046625586,
          104.73708979594508,
          110.97524964120721,
          117.58495540521582,
          124.58833642950081,
          132.00884008314193,
          139.87131026472386,
          148.202070579886,
          157.02901247293775,
          166.38168860761309,
          176.2914118095948,
          186.79135990207848,
          197.91668678535575,
          209.7046401323235,
          222.19468609395238,
          235.42864143224202,
          249.45081352303166,
          264.30814869741084,
          280.0503894183631,
          296.73024081888724,
          314.40354715915,
          333.1294787934677,
          352.970730273065,
          373.99373024788014,
          396.2688638701478,
          419.8707084443914,
          444.87828311275854,
          471.3753134116729,
          499.450511585514,
          529.1978735958447,
          560.7169938205458,
          594.113398496504,
          629.4988990221888,
          666.9919663030129,
          706.7181273927491,
          748.810385759003,
          793.4096665797492,
          840.6652885618333,
          890.735463861044,
          943.7878277775391,
          1000
         ],
         "type": "scatter",
         "x": [
          -0.06302533834671024,
          -0.06677913631287355,
          -0.07075651068792507,
          -0.07497077763358033,
          -0.07943604640764754,
          -0.08416726659773274,
          -0.08918027816759853,
          -0.09449186448362612,
          -0.10011980849862676,
          -0.10608295228098608,
          -0.11240126008814225,
          -0.11909588519523033,
          -0.12618924070244827,
          -0.1337050745575989,
          -0.14166854904453802,
          -0.15010632500311735,
          -0.1590466510617581,
          -0.16851945818076186,
          -0.17855645982166665,
          -0.18919125807688614,
          -0.200459456113615,
          -0.2123987773066696,
          -0.22504919145717214,
          -0.2384530485171149,
          -0.25265522026492926,
          -0.2677032504027057,
          -0.2836475135737757,
          -0.30054138382806733,
          -0.3184414130936643,
          -0.33740752024533704,
          -0.35750319139470677,
          -0.3787956920633434,
          -0.4013562919374764,
          -0.4252605029433013,
          -0.45058833142364374,
          -0.47742454524132383,
          -0.5058589566801566,
          -0.5359867220638896,
          -0.5679086590636814,
          -0.6017315827178761,
          -0.6375686612433535,
          -0.6755397927752586,
          -0.7157720042315856,
          -0.7583998735608447,
          -0.803565976695233,
          -0.8514213605962884,
          -0.9021260438476069,
          -0.9558495463161752,
          -1.0127714494728535,
          -1.0730819890297327,
          -1.1369826816199133,
          -1.204686987309742,
          -1.2764210097959403,
          -1.3524242361967453,
          -1.4329503183972025,
          -1.5182678979499649,
          -1.6086614765639748,
          -1.704432334227959,
          -1.8058994970127353,
          -1.913400756569289,
          -2.0272937432834937,
          -2.147957054955709,
          -2.2757914427377166,
          -2.4112210558691793,
          -2.5546947465003784,
          -2.7066874355544766,
          -2.8677015401539174,
          -3.0382684625936665,
          -3.2189501401671885,
          -3.410340654312212,
          -3.613067896514003,
          -3.8277952871476946,
          -4.055223541918592,
          -4.296092478722788,
          -4.551182855547359,
          -4.821318227397363,
          -5.107366807108977,
          -5.410243311204534,
          -5.7309107675830075,
          -6.070382256722649,
          -6.429722552102151,
          -6.81004961861579,
          -7.212535919759647,
          -7.638409475194532,
          -8.08895459985191,
          -8.565512243965548,
          -9.069479840241646,
          -9.60231054983094,
          -10.165511782920843,
          -10.760642852809408,
          -11.389311604583542,
          -12.053169841514151,
          -12.753907354753666,
          -13.493244345926994,
          -14.272922019161236,
          -15.094691110843595,
          -15.960298124257706,
          -16.871469045074406,
          -17.82989033583039,
          -18.83718704685149,
          -19.894897941715346,
          -21.00444762151179,
          -22.16711574770658,
          -23.38400361126682,
          -24.655998477084356,
          -25.98373634621009,
          -27.36756401888227,
          -28.807501598971623,
          -30.30320683992411,
          -31.853942972309014,
          -33.45855184694186,
          -35.11543434450009,
          -36.822540010561006,
          -38.57736774480464,
          -40.37697908328986,
          -42.218025155020634,
          -44.09678777831488,
          -46.009234419677426,
          -47.95108591994344,
          -49.917895068734445,
          -51.905133357886534,
          -53.90828264591353,
          -55.922928084822466,
          -57.944848540799086,
          -59.97010089434957,
          -61.99509501394563,
          -64.01665681153162,
          -66.03207753887051,
          -68.03914829111596,
          -70.03617947037351,
          -72.02200566127317,
          -73.995976935247,
          -75.9579380044423,
          -77.9081968851333,
          -79.84748481684008,
          -81.77690914245291,
          -83.69790071906615,
          -85.61215723392293,
          -87.52158357841243,
          -89.42823021505498,
          -91.33423028209148,
          -93.24173603602824,
          -95.15285514679272,
          -97.06958733995654,
          -98.99376192736617,
          -100.92697687778303,
          -102.87054024364566,
          -104.82541496399708,
          -106.79216828623733,
          -108.77092726417317,
          -110.76134196543528,
          -112.76255812321213,
          -114.77320096087985,
          -116.79137177318113,
          -118.81465854319335,
          -120.84016140420765,
          -122.8645331327999,
          -124.88403411842101,
          -126.89460045126145,
          -128.89192297576756,
          -130.8715344518423,
          -132.8289014263964,
          -134.75951710687949,
          -136.65899148335956,
          -138.52313517324913,
          -140.34803393732238,
          -142.1301114838669,
          -143.86617896723658,
          -145.55347041764307,
          -147.1896641343835,
          -148.7728907717719,
          -150.3017294020295,
          -151.77519323002008,
          -153.1927068588396,
          -154.55407707705055,
          -155.85945908298837,
          -157.109319910011,
          -158.30440060071734,
          -159.44567842744442,
          -160.53433019539997,
          -161.57169741249936,
          -162.55925387940772,
          -163.49857605227163,
          -164.39131636265196,
          -165.23917954450516,
          -166.04390191467937,
          -166.8072334779379,
          -167.53092267591362,
          -168.2167035674316,
          -168.8662852112438,
          -169.48134301775835,
          -170.0635118406425,
          -170.6143805896015,
          -171.13548816005664,
          -171.62832049220134,
          -172.09430858974147,
          -172.53482734660508,
          -172.95119504738025,
          -173.3446734237855,
          -173.7164681648168
         ],
         "y": [
          30.102995180026024,
          30.102994641959825,
          30.10299403789032,
          30.10299335972105,
          30.102992598362395,
          30.10299174360972,
          30.102990784006636,
          30.102989706691424,
          30.102988497224672,
          30.10298713939571,
          30.102985615005394,
          30.10298390362214,
          30.102981982308098,
          30.102979825311728,
          30.102977403722676,
          30.10297468508426,
          30.102971632958507,
          30.10296820643779,
          30.102964359596566,
          30.102960040875875,
          30.10295519239235,
          30.10294974916247,
          30.102943638231665,
          30.10293677769663,
          30.102929075607697,
          30.10292042873662,
          30.102910721193233,
          30.10289982287246,
          30.102887587710892,
          30.102873851729555,
          30.102858430836722,
          30.10284111836127,
          30.10282168228361,
          30.1027998621272,
          30.10277536546884,
          30.102747864021357,
          30.102716989235976,
          30.10268232736582,
          30.102643413924383,
          30.10259972746503,
          30.102550682598313,
          30.102495622153995,
          30.102433808383,
          30.102364413082086,
          30.102286506509415,
          30.102199044943454,
          30.10210085671945,
          30.101990626557757,
          30.101866877975745,
          30.10172795354964,
          30.101571992764597,
          30.10139690715961,
          30.10120035243844,
          30.10097969717837,
          30.100731987724302,
          30.10045390880645,
          30.100141739364883,
          30.09979130300264,
          30.099397912421022,
          30.09895630711425,
          30.09846058351629,
          30.097904116698558,
          30.097279472613078,
          30.096578309760325,
          30.0957912690335,
          30.09490785035069,
          30.09391627453166,
          30.092803328706957,
          30.091554193361667,
          30.090152248915096,
          30.088578859519416,
          30.086813131525304,
          30.084831643811654,
          30.08260814690946,
          30.08011322757013,
          30.07731393513811,
          30.074173365791275,
          30.07065020041674,
          30.066698191603244,
          30.062265594965467,
          30.057294539786152,
          30.05172033378882,
          30.045470696761917,
          30.038464917777205,
          30.030612930920416,
          30.02181430482939,
          30.01195714197457,
          30.000916884588392,
          29.988555025539366,
          29.97471772434945,
          29.959234331081053,
          29.94191582409409,
          29.922553171825143,
          29.900915633903146,
          29.87674902321681,
          29.849773958095234,
          29.8196841426252,
          29.786144723311423,
          29.748790781700816,
          29.707226035014493,
          29.661021829860175,
          29.609716527104347,
          29.552815388070034,
          29.489791082190962,
          29.4200849425787,
          29.343109096842642,
          29.25824959393225,
          29.164870631681005,
          29.06231996223768,
          28.949935512284142,
          28.827053201355383,
          28.69301587548035,
          28.547183197195597,
          28.38894225108036,
          28.21771854254218,
          28.03298699442308,
          27.83428248972048,
          27.62120947773799,
          27.393450162207426,
          27.15077082745008,
          26.89302593269342,
          26.620159711039836,
          26.332205139878745,
          26.029280292037363,
          25.71158221826417,
          25.379378638522958,
          25.032997820917657,
          24.67281709529307,
          24.29925048043441,
          23.912735900462305,
          23.513722432346643,
          23.102657969874972,
          22.679977618589,
          22.24609305980287,
          21.80138304747157,
          21.34618513534494,
          20.880788677527057,
          20.4054291053399,
          19.9202834576453,
          19.425467129542426,
          18.921031803669894,
          18.40696453658154,
          17.88318798680732,
          17.349561788013343,
          16.805885086810306,
          16.251900276921706,
          15.687297966437013,
          15.111723209851514,
          14.524783019142,
          13.92605513664111,
          13.31509800648041,
          12.691461821896155,
          12.054700455561377,
          11.40438400412214,
          10.74011160295518,
          10.06152410096968,
          9.368316136852021,
          8.660247135841274,
          7.937150756482062,
          7.198942363317578,
          6.445624183597366,
          5.677287918767179,
          4.8941147156485165,
          4.096372545637968,
          3.284411179430362,
          2.45865506675047,
          1.6195945248102301,
          0.7677756989012572,
          -0.09621021872512608,
          -0.9717380378689809,
          -1.858159455505847,
          -2.754813409321473,
          -3.661035609427766,
          -4.576167040499283,
          -5.499561306824651,
          -6.43059076531525,
          -7.368651452800327,
          -8.313166862213269,
          -9.26359065732594,
          -10.219408438415742,
          -11.180138683291831,
          -12.145332991444599,
          -13.114575755792103,
          -14.087483378511802,
          -15.063703136470357,
          -16.042911789180586,
          -17.024814009109665,
          -18.00914070131232,
          -18.9956472673083,
          -19.984111857180807,
          -20.974333644215633,
          -21.966131148067852,
          -22.959340625408018,
          -23.953814541166306,
          -24.949420128753516,
          -25.94603804385056,
          -26.943561113400463,
          -27.941893179170584,
          -28.940948033570454,
          -29.940648444196935
         ]
        },
        {
         "hoverinfo": "name",
         "line": {
          "color": "#555",
          "dash": "dot",
          "width": 1
         },
         "name": "6.00 dB",
         "showlegend": false,
         "type": "scatter",
         "x": [
          -181.0044525859156,
          -182.00706208752763,
          -183.0059994899574,
          -183.99946365000403,
          -184.98569457347367,
          -187.408591693385,
          -189.75111962661822,
          -194.11400997325404,
          -197.95308877480693,
          -201.2110046386224,
          -203.882655271241,
          -208.76368925804854,
          -210.07854669531383,
          -209.08573699075276,
          -206.61944411079287,
          -203.19624885388873,
          -199.14024541544325,
          -194.6633656344593,
          -189.91215173606156,
          -181.66883360739166,
          -180,
          -178.33116639260837,
          -170.08784826393844,
          -165.33663436554068,
          -160.85975458455675,
          -156.8037511461113,
          -153.38055588920716,
          -150.91426300924724,
          -149.92145330468617,
          -151.23631074195146,
          -156.11734472875898,
          -158.78899536137763,
          -162.04691122519313,
          -165.88599002674593,
          -170.24888037338178,
          -172.59140830661497,
          -175.0143054265264,
          -176.00053634999594,
          -176.99400051004255,
          -177.99293791247237,
          -178.9955474140844
         ],
         "y": [
          6.038584887637681,
          6.030603754626434,
          6.017337064173958,
          5.998837145331412,
          5.975176335900421,
          5.894089570862205,
          5.783261698845564,
          5.4826074459056695,
          5.096695738427625,
          4.650493262050236,
          4.166800369039922,
          2.6567802911877996,
          1.2493792041125524,
          0.03595583500082545,
          -0.9732279370869548,
          -1.7915587587987878,
          -2.436272660456205,
          -2.922504047148822,
          -3.2618637150774954,
          -3.5213402361322443,
          -3.528697248729707,
          -3.5213402361322443,
          -3.261863715077498,
          -2.9225040471488253,
          -2.4362726604562077,
          -1.7915587587987878,
          -0.9732279370869548,
          0.03595583500082353,
          1.2493792041125524,
          2.6567802911877987,
          4.166800369039918,
          4.650493262050238,
          5.096695738427627,
          5.482607445905669,
          5.783261698845564,
          5.894089570862203,
          5.975176335900418,
          5.998837145331412,
          6.017337064173956,
          6.030603754626437,
          6.038584887637679
         ]
        },
        {
         "hoverinfo": "name",
         "line": {
          "color": "#555",
          "dash": "dot",
          "width": 1
         },
         "name": "4.50 dB",
         "showlegend": false,
         "type": "scatter",
         "x": [
          -181.4724497747709,
          -182.94053453303707,
          -184.39994825392046,
          -185.84650092910033,
          -187.27617174509305,
          -190.75217060129603,
          -194.04782925162294,
          -199.95404036624222,
          -204.83210667473122,
          -208.68224569908432,
          -211.59873481970862,
          -216.0434861365511,
          -216.3034020354096,
          -214.2249730320999,
          -210.78065610570218,
          -206.49674595708598,
          -201.67670372193174,
          -196.50811972546967,
          -191.11570241797403,
          -181.8661281184768,
          -180,
          -178.1338718815232,
          -168.88429758202602,
          -163.49188027453036,
          -158.32329627806834,
          -153.50325404291405,
          -149.21934389429782,
          -145.77502696790006,
          -143.69659796459038,
          -143.95651386344886,
          -148.4012651802914,
          -151.31775430091568,
          -155.16789332526872,
          -160.04595963375783,
          -165.952170748377,
          -169.2478293987039,
          -172.72382825490698,
          -174.15349907089958,
          -175.60005174607946,
          -177.05946546696296,
          -178.52755022522916
         ],
         "y": [
          7.860294671052302,
          7.845876388527615,
          7.821956628087225,
          7.788698855901153,
          7.746326850058227,
          7.602475724919653,
          7.409128666254982,
          6.901942494349976,
          6.283139435004392,
          5.604984995200892,
          4.906680254481285,
          2.9037400647152682,
          1.1967169099353043,
          -0.19729262192201408,
          -1.3187948000206213,
          -2.20931629982923,
          -2.90140506786829,
          -3.4187094849675725,
          -3.7776698649380096,
          -4.051079413132717,
          -4.058818833856429,
          -4.051079413132717,
          -3.7776698649380096,
          -3.4187094849675708,
          -2.901405067868292,
          -2.20931629982923,
          -1.3187948000206222,
          -0.19729262192201702,
          1.1967169099353043,
          2.9037400647152674,
          4.906680254481281,
          5.604984995200892,
          6.283139435004392,
          6.901942494349976,
          7.409128666254982,
          7.602475724919653,
          7.746326850058227,
          7.788698855901152,
          7.821956628087225,
          7.845876388527615,
          7.860294671052302
         ]
        },
        {
         "hoverinfo": "name",
         "line": {
          "color": "#555",
          "dash": "dot",
          "width": 1
         },
         "name": "5.00 dB",
         "showlegend": false,
         "type": "scatter",
         "x": [
          -181.2843538098457,
          -182.56552395414678,
          -183.84036167849126,
          -185.10578709960828,
          -186.35882131113408,
          -189.4188928071585,
          -192.34434185722307,
          -197.6720834084416,
          -202.1882389611137,
          -205.85806426797956,
          -208.7268373251818,
          -213.42976059801913,
          -214.11736671930305,
          -212.4442511724585,
          -209.35084685018177,
          -205.368786393326,
          -200.81292692355942,
          -195.88135998422672,
          -190.70739357548985,
          -181.7992651620906,
          -180,
          -178.20073483790938,
          -169.29260642451015,
          -164.11864001577322,
          -159.18707307644067,
          -154.63121360667404,
          -150.64915314981823,
          -147.5557488275415,
          -145.88263328069692,
          -146.5702394019809,
          -151.2731626748182,
          -154.14193573202047,
          -157.81176103888635,
          -162.32791659155836,
          -167.65565814277696,
          -170.58110719284156,
          -173.64117868886592,
          -174.89421290039164,
          -176.15963832150874,
          -177.4344760458533,
          -178.71564619015427
         ],
         "y": [
          7.173407114486652,
          7.16178287503579,
          7.142481928545683,
          7.115612065794017,
          7.081321471698646,
          6.9644340828316516,
          6.806199690943643,
          6.3852195959981195,
          5.860772796374144,
          5.273618322945895,
          4.65689512007145,
          2.8319809100891296,
          1.2269406770671736,
          -0.10782534148071539,
          -1.1933104806609445,
          -2.0610155313526777,
          -2.738271724514311,
          -3.245907761671381,
          -3.5987938604908862,
          -3.867897044997595,
          -3.875518407124992,
          -3.867897044997595,
          -3.598793860490885,
          -3.245907761671381,
          -2.738271724514311,
          -2.0610155313526777,
          -1.1933104806609456,
          -0.10782534148071733,
          1.2269406770671736,
          2.8319809100891282,
          4.6568951200714475,
          5.273618322945897,
          5.860772796374145,
          6.385219595998121,
          6.806199690943643,
          6.964434082831655,
          7.081321471698646,
          7.115612065794014,
          7.142481928545682,
          7.16178287503579,
          7.173407114486652
         ]
        },
        {
         "hoverinfo": "name",
         "line": {
          "color": "#555",
          "dash": "dot",
          "width": 1
         },
         "name": "3.00 dB",
         "showlegend": false,
         "type": "scatter",
         "x": [
          -182.42156130189062,
          -184.82844943546547,
          -187.20643299081019,
          -189.54213134653503,
          -191.8233626783699,
          -197.22187957454412,
          -202.09598892987356,
          -210.09301738566455,
          -215.8791234237175,
          -219.8563069529548,
          -222.4551688385875,
          -225.06798311222548,
          -223.50196919041633,
          -219.93702449004138,
          -215.29642457077978,
          -210.02487275397982,
          -204.36172377497314,
          -198.44853900143266,
          -192.37662214327372,
          -182.07224305175168,
          -180,
          -177.92775694824832,
          -167.6233778567263,
          -161.5514609985674,
          -155.63827622502694,
          -149.9751272460202,
          -144.70357542922022,
          -140.06297550995865,
          -136.49803080958367,
          -134.93201688777452,
          -137.54483116141245,
          -140.1436930470452,
          -144.12087657628254,
          -149.90698261433542,
          -157.9040110701264,
          -162.7781204254559,
          -168.17663732163007,
          -170.45786865346497,
          -172.7935670091897,
          -175.17155056453453,
          -177.57843869810938
         ],
         "y": [
          10.679764301197936,
          10.647034445747146,
          10.593037830089836,
          10.518575471800114,
          10.424714401516344,
          10.11401746557135,
          9.714033764687105,
          8.743853755272685,
          7.678062347477537,
          6.616357953051257,
          5.606844160199614,
          3.0102938424173917,
          1.0059460068552415,
          -0.5489159148760905,
          -1.764348624364853,
          -2.712947800201404,
          -3.4422186673114457,
          -3.9835217795043447,
          -4.357464956087062,
          -4.641452702670781,
          -4.649481613751726,
          -4.641452702670781,
          -4.357464956087062,
          -3.9835217795043465,
          -3.4422186673114457,
          -2.7129478002014027,
          -1.764348624364854,
          -0.5489159148760926,
          1.0059460068552415,
          3.010293842417389,
          5.606844160199607,
          6.61635795305126,
          7.67806234747754,
          8.743853755272685,
          9.714033764687107,
          10.11401746557135,
          10.424714401516344,
          10.518575471800109,
          10.59303783008983,
          10.647034445747146,
          10.679764301197936
         ]
        },
        {
         "hoverinfo": "name",
         "line": {
          "color": "#555",
          "dash": "dot",
          "width": 1
         },
         "name": "1.00 dB",
         "showlegend": false,
         "type": "scatter",
         "x": [
          -188.12984536554268,
          -195.88621216474792,
          -202.9844437398292,
          -209.27055340099685,
          -214.7096153155495,
          -224.98959838098392,
          -231.68544618825558,
          -238.9060061369517,
          -241.93858840592924,
          -242.95955537487828,
          -242.88818452740378,
          -239.59670953467293,
          -234.31238992498834,
          -228.21444019414758,
          -221.70905190957956,
          -214.9736246071892,
          -208.09857633531192,
          -201.13560158246298,
          -194.1172919529556,
          -182.35615618485986,
          -180,
          -177.6438438151401,
          -165.88270804704442,
          -158.86439841753705,
          -151.90142366468808,
          -145.0263753928108,
          -138.29094809042041,
          -131.78555980585242,
          -125.68761007501163,
          -120.40329046532707,
          -117.11181547259622,
          -117.04044462512172,
          -118.06141159407076,
          -121.0939938630483,
          -128.3145538117444,
          -135.0104016190161,
          -145.29038468445046,
          -150.72944659900304,
          -157.0155562601706,
          -164.11378783525214,
          -171.87015463445724
         ],
         "y": [
          19.17292087222408,
          18.88999404600427,
          18.45599908317477,
          17.91331788277162,
          17.30269583621942,
          15.674169524423078,
          14.099770859367858,
          11.392809577292622,
          9.232708314999615,
          7.475525714001363,
          6.009559815241832,
          2.725327008857705,
          0.44275075770600797,
          -1.2482454597388433,
          -2.5390189104386724,
          -3.5327626980741282,
          -4.29037960222416,
          -4.8497530368011,
          -5.234889529168014,
          -5.526739523137509,
          -5.534983129163744,
          -5.526739523137509,
          -5.2348895291680115,
          -4.8497530368011015,
          -4.290379602224161,
          -3.5327626980741273,
          -2.5390189104386733,
          -1.2482454597388464,
          0.44275075770600797,
          2.7253270088577004,
          6.009559815241823,
          7.4755257140013684,
          9.232708314999618,
          11.392809577292622,
          14.099770859367855,
          15.674169524423071,
          17.302695836219414,
          17.913317882771604,
          18.455999083174753,
          18.88999404600427,
          19.172920872224083
         ]
        },
        {
         "hoverinfo": "name",
         "line": {
          "color": "#555",
          "dash": "dot",
          "width": 1
         },
         "name": "0.50 dB",
         "showlegend": false,
         "type": "scatter",
         "x": [
          -196.3718246156576,
          -210.241776113004,
          -220.80355193113053,
          -228.51181527270387,
          -234.1134646185559,
          -242.54794804403969,
          -246.79435053744254,
          -250.17113669346753,
          -250.7317375930338,
          -250.10476324945597,
          -248.87064427851567,
          -243.52619111012865,
          -237.14681544455618,
          -230.35244392901245,
          -223.35180491824565,
          -216.23515197605684,
          -209.04823910924426,
          -201.81713920054904,
          -194.55825435352733,
          -182.42801843030043,
          -180,
          -177.57198156969963,
          -165.44174564647267,
          -158.18286079945094,
          -150.95176089075574,
          -143.76484802394313,
          -136.64819508175432,
          -129.64755607098758,
          -122.85318455544379,
          -116.47380888987135,
          -111.12935572148433,
          -109.89523675054403,
          -109.26826240696619,
          -109.82886330653247,
          -113.20564946255746,
          -117.45205195596026,
          -125.88653538144405,
          -131.488184727296,
          -139.19644806886924,
          -149.75822388699612,
          -163.6281753843424
         ],
         "y": [
          24.66386078734449,
          23.68619318037223,
          22.428476998260905,
          21.119016837844416,
          19.86570394081788,
          17.148405136599663,
          14.97381756434649,
          11.709190668056703,
          9.318257934761284,
          7.44651521952795,
          5.916081684987016,
          2.548102112298766,
          0.2356286732226798,
          -1.469242571571364,
          -2.7674915645818707,
          -3.7656469575966494,
          -4.526008275446839,
          -5.0871210227374375,
          -5.473330927281008,
          -5.765933081450027,
          -5.774197205849433,
          -5.765933081450027,
          -5.4733309272810065,
          -5.0871210227374375,
          -4.5260082754468405,
          -3.765646957596645,
          -2.767491564581872,
          -1.4692425715713675,
          0.2356286732226798,
          2.548102112298763,
          5.916081684987007,
          7.446515219527955,
          9.318257934761288,
          11.709190668056703,
          14.973817564346488,
          17.148405136599656,
          19.86570394081787,
          21.119016837844388,
          22.428476998260866,
          23.68619318037224,
          24.663860787344486
         ]
        },
        {
         "hoverinfo": "name",
         "line": {
          "color": "#555",
          "dash": "dot",
          "width": 1
         },
         "name": "0.00 dB",
         "showlegend": false,
         "type": "scatter",
         "x": [
          -269.4999999999999,
          -268.99999999999994,
          -268.50000000000006,
          -268.00000000000006,
          -267.5,
          -266.25,
          -265,
          -262.5,
          -260,
          -257.5,
          -255,
          -247.5,
          -240,
          -232.5,
          -225,
          -217.5,
          -210,
          -202.5,
          -195,
          -182.5,
          -180,
          -177.5,
          -165,
          -157.5,
          -150,
          -142.5,
          -135,
          -127.5,
          -120,
          -112.5,
          -105,
          -102.5,
          -100,
          -97.5,
          -95,
          -93.75,
          -92.5,
          -92,
          -91.5,
          -91.00000000000006,
          -90.50000000000011
         ],
         "y": [
          35.16256289318372,
          29.14229371826325,
          25.62101977894313,
          23.123016808799058,
          21.185808854403394,
          17.667429531589104,
          15.173479920117972,
          11.665446712198822,
          9.185995486488366,
          7.272665074459145,
          5.719475475333597,
          2.322606875058725,
          0,
          -1.7095424698920367,
          -3.0102999566398116,
          -4.009933005441557,
          -4.771212547196625,
          -5.332906831698536,
          -5.719475475333596,
          -6.0123289342854225,
          -6.020599913279624,
          -6.0123289342854225,
          -5.719475475333596,
          -5.332906831698536,
          -4.771212547196625,
          -4.009933005441557,
          -3.0102999566398125,
          -1.709542469892039,
          0,
          2.3226068750587205,
          5.719475475333587,
          7.27266507445915,
          9.18599548648837,
          11.665446712198822,
          15.17347992011797,
          17.667429531589097,
          21.185808854403376,
          23.12301680879902,
          25.621019778943044,
          29.142293718263286,
          35.1625628931837
         ]
        },
        {
         "hoverinfo": "name",
         "line": {
          "color": "#555",
          "dash": "dot",
          "width": 1
         },
         "name": "-0.30 dB",
         "showlegend": false,
         "type": "scatter",
         "x": [
          -332.6885302407641,
          -313.6907864638013,
          -301.9018874453705,
          -294.3115400875977,
          -289.07853460992976,
          -281.0094155307614,
          -276.1649887610529,
          -269.9723165990006,
          -265.59313172641555,
          -261.95374371864057,
          -258.6872605885806,
          -249.8871554737882,
          -241.71311925670193,
          -233.7891476040948,
          -225.9892663909249,
          -218.25912181869262,
          -210.57119105676304,
          -202.90980129166792,
          -195.26509758258123,
          -182.54319658780867,
          -180,
          -177.45680341219133,
          -164.73490241741874,
          -157.09019870833208,
          -149.42880894323696,
          -141.74087818130738,
          -134.01073360907512,
          -126.21085239590522,
          -118.2868807432981,
          -110.11284452621186,
          -101.31273941141939,
          -98.04625628135943,
          -94.40686827358445,
          -90.02768340099936,
          -83.83501123894712,
          -78.99058446923863,
          -70.9214653900703,
          -65.6884599124025,
          -58.09811255462978,
          -46.30921353619857,
          -27.311469759235933
         ],
         "y": [
          28.095881159058045,
          26.02732250694666,
          23.901682762437574,
          22.02173122476455,
          20.40337257062739,
          17.224700580574858,
          14.856217109438761,
          11.44007437475331,
          8.993248860230516,
          7.095101914820542,
          5.5501814045845554,
          2.1637707838956795,
          -0.15517824318127627,
          -1.8630363856169732,
          -3.162889850005191,
          -4.1619905308118375,
          -4.922939314369941,
          -5.484424143476101,
          -5.870863587065886,
          -6.163626542554362,
          -6.17189505302105,
          -6.163626542554362,
          -5.870863587065886,
          -5.484424143476101,
          -4.922939314369941,
          -4.1619905308118375,
          -3.162889850005191,
          -1.8630363856169767,
          -0.15517824318127627,
          2.163770783895675,
          5.550181404584546,
          7.095101914820546,
          8.99324886023052,
          11.440074374753312,
          14.85621710943876,
          17.22470058057485,
          20.40337257062738,
          22.02173122476452,
          23.901682762437517,
          26.02732250694668,
          28.09588115905804
         ]
        },
        {
         "hoverinfo": "name",
         "line": {
          "color": "#555",
          "dash": "dot",
          "width": 1
         },
         "name": "-1.00 dB",
         "showlegend": false,
         "type": "scatter",
         "x": [
          -350.87015463445726,
          -342.1137878352521,
          -334.01555626017085,
          -326.72944659900315,
          -320.29038468445054,
          -307.51040161901614,
          -298.3145538117444,
          -286.09399386304824,
          -278.06141159407076,
          -272.0404446251217,
          -267.1118154725962,
          -255.40329046532707,
          -245.68761007501166,
          -236.78555980585242,
          -228.29094809042044,
          -220.0263753928108,
          -211.90142366468808,
          -203.86439841753702,
          -195.8827080470444,
          -182.64384381514014,
          -180,
          -177.35615618485994,
          -164.1172919529556,
          -156.13560158246298,
          -148.09857633531195,
          -139.9736246071892,
          -131.70905190957959,
          -123.21444019414761,
          -114.31238992498837,
          -104.59670953467293,
          -92.88818452740384,
          -87.95955537487828,
          -81.93858840592918,
          -73.9060061369517,
          -61.68544618825558,
          -52.489598380983864,
          -39.70961531554951,
          -33.27055340099696,
          -25.98444373982943,
          -17.88621216474786,
          -9.129845365542792
         ],
         "y": [
          18.172920872224083,
          17.889994046004272,
          17.45599908317476,
          16.91331788277161,
          16.302695836219424,
          14.674169524423068,
          13.099770859367856,
          10.39280957729262,
          8.232708314999616,
          6.475525714001364,
          5.009559815241831,
          1.7253270088577046,
          -0.5572492422939905,
          -2.2482454597388433,
          -3.539018910438671,
          -4.532762698074128,
          -5.290379602224159,
          -5.8497530368011,
          -6.234889529168011,
          -6.526739523137509,
          -6.534983129163744,
          -6.526739523137509,
          -6.234889529168011,
          -5.8497530368011,
          -5.290379602224158,
          -4.532762698074128,
          -3.5390189104386724,
          -2.248245459738846,
          -0.5572492422939905,
          1.7253270088577017,
          5.009559815241822,
          6.47552571400137,
          8.232708314999618,
          10.392809577292624,
          13.099770859367855,
          14.674169524423066,
          16.302695836219417,
          16.9133178827716,
          17.455999083174746,
          17.889994046004276,
          18.17292087222408
         ]
        },
        {
         "hoverinfo": "name",
         "line": {
          "color": "#555",
          "dash": "dot",
          "width": 1
         },
         "name": "-3.00 dB",
         "showlegend": false,
         "type": "scatter",
         "x": [
          -356.5784386981094,
          -353.1715505645345,
          -349.7935670091898,
          -346.457868653465,
          -343.1766373216301,
          -335.27812042545594,
          -327.9040110701264,
          -314.9069826143354,
          -304.1208765762825,
          -295.1436930470452,
          -287.54483116141245,
          -269.9320168877745,
          -256.4980308095836,
          -245.06297550995862,
          -234.70357542922022,
          -224.97512724602018,
          -215.6382762250269,
          -206.55146099856734,
          -197.62337785672628,
          -182.92775694824832,
          -180,
          -177.0722430517517,
          -162.3766221432737,
          -153.44853900143264,
          -144.36172377497311,
          -135.02487275397982,
          -125.29642457077978,
          -114.93702449004138,
          -103.50196919041639,
          -90.06798311222553,
          -72.45516883858761,
          -64.85630695295481,
          -55.87912342371749,
          -45.09301738566461,
          -32.09598892987361,
          -24.72187957454412,
          -16.82336267836996,
          -13.54213134653503,
          -10.206432990810299,
          -6.828449435465473,
          -3.4215613018906197
         ],
         "y": [
          7.6797643011979355,
          7.647034445747147,
          7.593037830089832,
          7.51857547180011,
          7.424714401516347,
          7.114017465571349,
          6.714033764687107,
          5.743853755272688,
          4.678062347477541,
          3.6163579530512586,
          2.6068441601996146,
          0.010293842417393655,
          -1.9940539931447574,
          -3.54891591487609,
          -4.764348624364852,
          -5.712947800201404,
          -6.442218667311449,
          -6.983521779504347,
          -7.357464956087063,
          -7.64145270267078,
          -7.6494816137517265,
          -7.64145270267078,
          -7.357464956087062,
          -6.983521779504346,
          -6.442218667311447,
          -5.712947800201404,
          -4.764348624364854,
          -3.5489159148760945,
          -1.9940539931447574,
          0.0102938424173898,
          2.606844160199607,
          3.6163579530512613,
          4.678062347477542,
          5.743853755272687,
          6.714033764687107,
          7.114017465571347,
          7.424714401516347,
          7.51857547180011,
          7.593037830089831,
          7.647034445747147,
          7.6797643011979355
         ]
        },
        {
         "hoverinfo": "name",
         "line": {
          "color": "#555",
          "dash": "dot",
          "width": 1
         },
         "name": "-5.00 dB",
         "showlegend": false,
         "type": "scatter",
         "x": [
          -357.7156461901543,
          -355.4344760458533,
          -353.1596383215088,
          -350.89421290039166,
          -348.6411786888659,
          -343.08110719284156,
          -337.655658142777,
          -327.32791659155833,
          -317.81176103888635,
          -309.14193573202044,
          -301.2731626748182,
          -281.57023940198087,
          -265.8826332806969,
          -252.5557488275415,
          -240.64915314981818,
          -229.631213606674,
          -219.18707307644064,
          -209.11864001577317,
          -199.29260642451015,
          -183.2007348379094,
          -180,
          -176.79926516209062,
          -160.70739357548985,
          -150.8813599842268,
          -140.8129269235594,
          -130.36878639332593,
          -119.3508468501818,
          -107.44425117245856,
          -94.1173667193031,
          -78.42976059801913,
          -58.726837325181805,
          -50.85806426797956,
          -42.188238961113655,
          -32.67208340844161,
          -22.344341857223014,
          -16.918892807158443,
          -11.35882131113408,
          -9.105787099608392,
          -6.84036167849132,
          -4.565523954146727,
          -2.2843538098456975
         ],
         "y": [
          2.1734071144866545,
          2.16178287503579,
          2.1424819285456818,
          2.115612065794011,
          2.0813214716986472,
          1.964434082831654,
          1.8061996909436415,
          1.385219595998124,
          0.8607727963741443,
          0.2736183229458929,
          -0.3431048799285491,
          -2.16801908991087,
          -3.7730593229328253,
          -5.107825341480714,
          -6.193310480660946,
          -7.061015531352676,
          -7.738271724514311,
          -8.245907761671381,
          -8.598793860490886,
          -8.867897044997598,
          -8.875518407124991,
          -8.867897044997598,
          -8.598793860490886,
          -8.24590776167138,
          -7.738271724514313,
          -7.061015531352676,
          -6.193310480660946,
          -5.1078253414807175,
          -3.7730593229328253,
          -2.1680190899108718,
          -0.34310487992855515,
          0.2736183229458966,
          0.8607727963741427,
          1.385219595998124,
          1.8061996909436415,
          1.9644340828316524,
          2.0813214716986486,
          2.1156120657940125,
          2.1424819285456818,
          2.16178287503579,
          2.1734071144866545
         ]
        },
        {
         "hoverinfo": "name",
         "line": {
          "color": "#555",
          "dash": "dot",
          "width": 1
         },
         "name": "-10.00 dB",
         "showlegend": false,
         "type": "scatter",
         "x": [
          -358.5375907950498,
          -357.07557791375507,
          -355.61435658094774,
          -354.15431983136335,
          -352.6958574333717,
          -349.05910533090224,
          -345.44044385095657,
          -338.27923532466446,
          -331.25172280772404,
          -324.38957230161884,
          -317.7158161180123,
          -298.93322088504607,
          -281.98055625030804,
          -266.5986905881538,
          -252.4515993862077,
          -239.23329660667702,
          -226.69556020425625,
          -214.6438140225457,
          -202.92453522086737,
          -183.79933667786145,
          -180,
          -176.20066332213858,
          -157.07546477913257,
          -145.3561859774543,
          -133.30443979574378,
          -120.76670339332298,
          -107.5484006137923,
          -93.40130941184623,
          -78.01944374969196,
          -61.06677911495393,
          -42.2841838819877,
          -35.6104276983811,
          -28.748277192275964,
          -21.720764675335545,
          -14.55955614904343,
          -10.940894669097759,
          -7.304142566628343,
          -5.8456801686366475,
          -4.385643419052258,
          -2.924422086244874,
          -1.462409204950177
         ],
         "y": [
          -6.699123892294637,
          -6.701806509160542,
          -6.7062729515001065,
          -6.7125163626834325,
          -6.720527187262135,
          -6.748200164450676,
          -6.78657557329895,
          -6.893931055283403,
          -7.0388110511767845,
          -7.216462826641537,
          -7.421573050377543,
          -8.147711008436975,
          -8.941898740419433,
          -9.71418948914971,
          -10.41392685158225,
          -11.016410769656355,
          -11.511331047447138,
          -11.89550272938945,
          -12.168840872833393,
          -12.380583655718457,
          -12.38662096132189,
          -12.38058365571846,
          -12.16884087283339,
          -11.895502729389449,
          -11.511331047447138,
          -11.016410769656355,
          -10.41392685158225,
          -9.714189489149708,
          -8.941898740419433,
          -8.147711008436975,
          -7.421573050377544,
          -7.216462826641536,
          -7.038811051176785,
          -6.893931055283405,
          -6.78657557329895,
          -6.748200164450676,
          -6.720527187262135,
          -6.7125163626834325,
          -6.706272951500106,
          -6.701806509160542,
          -6.699123892294637
         ]
        },
        {
         "hoverinfo": "name",
         "line": {
          "color": "#555",
          "dash": "dot",
          "width": 1
         },
         "name": "-15.00 dB",
         "showlegend": false,
         "type": "scatter",
         "x": [
          -358.78372871113226,
          -357.56757218766745,
          -356.35164504978854,
          -355.13606162768133,
          -353.92093581764135,
          -350.88586520734776,
          -347.8561091438982,
          -341.8193145434761,
          -335.8234934153923,
          -329.8803847803898,
          -324.0002574368285,
          -306.8153430006575,
          -290.4058175896011,
          -274.7929344561041,
          -259.9166159495102,
          -245.67464220039773,
          -231.95012942506116,
          -218.62659104798547,
          -205.59416406308867,
          -184.2456701763938,
          -180,
          -175.75432982360618,
          -154.40583593691133,
          -141.37340895201453,
          -128.04987057493884,
          -114.32535779960227,
          -100.08338405048983,
          -85.20706554389596,
          -69.5941824103989,
          -53.18465699934251,
          -35.99974256317154,
          -30.119615219610125,
          -24.176506584607694,
          -18.180685456523918,
          -12.143890856101848,
          -9.114134792652237,
          -6.07906418235865,
          -4.863938372318671,
          -3.6483549502114556,
          -2.4324278123324916,
          -1.2162712888677447
         ],
         "y": [
          -13.299602274136596,
          -13.300646015181112,
          -13.302384673274837,
          -13.304816884886367,
          -13.307940744941824,
          -13.318759016704236,
          -13.333830760689928,
          -13.376424533448056,
          -13.434916381107115,
          -13.508232743883422,
          -13.595080096782212,
          -13.921703697025936,
          -14.313535235316843,
          -14.72930186538968,
          -15.13520922108038,
          -15.50640058611507,
          -15.825881765358389,
          -16.08263707776725,
          -16.26984801593978,
          -16.417398167862174,
          -16.421637052990647,
          -16.417398167862174,
          -16.269848015939782,
          -16.08263707776725,
          -15.825881765358389,
          -15.506400586115072,
          -15.13520922108038,
          -14.72930186538968,
          -14.313535235316843,
          -13.921703697025938,
          -13.595080096782212,
          -13.508232743883422,
          -13.434916381107113,
          -13.376424533448056,
          -13.333830760689928,
          -13.318759016704236,
          -13.307940744941824,
          -13.304816884886367,
          -13.302384673274837,
          -13.300646015181112,
          -13.299602274136596
         ]
        },
        {
         "hoverinfo": "name",
         "line": {
          "color": "#555",
          "dash": "dot",
          "width": 1
         },
         "name": "-20.00 dB",
         "showlegend": false,
         "type": "scatter",
         "x": [
          -358.8888965493027,
          -357.7778390541404,
          -356.66687343532357,
          -355.5560455442723,
          -354.44540112846903,
          -351.66989167066737,
          -348.89652075551027,
          -343.3589703285723,
          -337.8381516710673,
          -332.33916301626834,
          -326.8667171206091,
          -310.64868408641405,
          -294.79128089714493,
          -279.3371191156383,
          -264.28940686250036,
          -249.6211360082914,
          -235.2849960460518,
          -221.22162278409758,
          -207.3653939814767,
          -184.54588366326493,
          -180,
          -175.45411633673513,
          -152.63460601852324,
          -138.77837721590248,
          -124.71500395394821,
          -110.37886399170858,
          -95.71059313749964,
          -80.6628808843617,
          -65.20871910285507,
          -49.35131591358595,
          -33.13328287939095,
          -27.660836983731656,
          -22.161848328932706,
          -16.641029671427702,
          -11.103479244489733,
          -8.330108329332631,
          -5.55459887153097,
          -4.443954455727749,
          -3.3331265646764905,
          -2.2221609458596276,
          -1.1111034506973283
         ],
         "y": [
          -19.085013507081424,
          -19.085503375377726,
          -19.086319534008915,
          -19.08746155052706,
          -19.08892882019638,
          -19.094014462352902,
          -19.101110842980592,
          -19.121236166745526,
          -19.149042963976978,
          -19.184174848780152,
          -19.226190346310158,
          -19.38809146911957,
          -19.590413923210935,
          -19.81472569408657,
          -20.043213737826427,
          -20.260279180191155,
          -20.453229787866576,
          -20.612342803649057,
          -20.730600258806064,
          -20.825121237762787,
          -20.8278537031645,
          -20.825121237762787,
          -20.730600258806064,
          -20.612342803649057,
          -20.453229787866572,
          -20.26027918019116,
          -20.043213737826427,
          -19.81472569408657,
          -19.590413923210935,
          -19.38809146911957,
          -19.226190346310158,
          -19.184174848780152,
          -19.149042963976978,
          -19.121236166745526,
          -19.101110842980592,
          -19.094014462352902,
          -19.08892882019638,
          -19.08746155052706,
          -19.086319534008915,
          -19.085503375377726,
          -19.085013507081424
         ]
        },
        {
         "hoverinfo": "name",
         "line": {
          "color": "#555",
          "dash": "dot",
          "width": 1
         },
         "name": "-359.00 deg",
         "showlegend": false,
         "type": "scatter",
         "x": [
          -181.0044525859156,
          -182.42156130189062,
          -183.8538273684054,
          -188.12984536554268,
          -190.9344158007773,
          -196.3718246156576,
          -200.26021663058145,
          -206.3114697592357,
          -210.7345808486815,
          -216.6635681171084,
          -224.80489618685647,
          -236.09043705087817,
          -251.24683800549047,
          -269.4999999999999,
          -287.753161994509,
          -302.90956294912127,
          -314.19510381314365,
          -322.3364318828915,
          -328.2654191513184,
          -332.6885302407641,
          -338.7397833694185,
          -342.62817538434234,
          -348.06558419922266,
          -350.87015463445726,
          -355.14617263159454,
          -356.5784386981094,
          -357.2913247216967,
          -357.7156461901543,
          -357.9955474140844,
          -358.45015168578016,
          -358.6645881674737,
          -358.8116765954827,
          -358.8888965493027,
          -358.96734639178396,
          -358.98989951835864,
          -358.9989990499713
         ],
         "y": [
          6.038584887637681,
          10.679764301197936,
          13.711735715514646,
          19.17292087222408,
          21.473564446933352,
          24.66386078734449,
          26.351550772079545,
          28.39588115905801,
          29.582361840040452,
          30.88405633953153,
          32.272915503531166,
          33.64360969507572,
          34.739089603108305,
          35.16256289318372,
          34.689089603108336,
          33.54360969507577,
          32.12291550353115,
          30.68405633953155,
          29.33236184004049,
          28.095881159058045,
          25.951550772079585,
          24.163860787344515,
          20.723564446933352,
          18.172920872224083,
          11.711735715514651,
          7.6797643011979355,
          4.652344195068787,
          2.1734071144866545,
          0.03858488763767778,
          -5.194834381818714,
          -9.488041039111309,
          -14.50148872104064,
          -19.085013507081424,
          -29.72093593281454,
          -39.91271738956356,
          -59.99131109007229
         ]
        },
        {
         "hoverinfo": "name",
         "line": {
          "color": "#555",
          "dash": "dot",
          "width": 1
         },
         "name": "-355.00 deg",
         "showlegend": false,
         "type": "scatter",
         "x": [
          -184.98569457347367,
          -191.8233626783699,
          -198.35224760736764,
          -214.7096153155495,
          -222.83943505774351,
          -234.1134646185559,
          -239.69796826647632,
          -245.92146539007024,
          -249.25835228553376,
          -252.72858723419097,
          -256.31341133172936,
          -259.989259045856,
          -263.7283959194501,
          -267.5,
          -271.27160408054976,
          -275.0107409541439,
          -278.6865886682707,
          -282.271412765809,
          -285.74164771446624,
          -289.07853460992976,
          -295.30203173352356,
          -300.88653538144405,
          -312.1605649422565,
          -320.29038468445054,
          -336.6477523926323,
          -343.1766373216301,
          -346.5786356017429,
          -348.6411786888659,
          -350.0143054265264,
          -352.26161474704355,
          -353.32748962319005,
          -354.06025738718597,
          -354.44540112846903,
          -354.8369507000331,
          -354.9495609798578,
          -354.9950013641784
         ],
         "y": [
          5.975176335900421,
          10.424714401516344,
          13.15637722819709,
          17.30269583621942,
          18.59357019807048,
          19.86570394081788,
          20.318095967162986,
          20.70337257062739,
          20.862047629248345,
          20.99332004959212,
          21.093870457953344,
          21.16082174212472,
          21.1919404997191,
          21.185808854403394,
          21.1419404997191,
          21.060821742124723,
          20.943870457953345,
          20.793320049592126,
          20.61204762924834,
          20.40337257062739,
          19.918095967162994,
          19.365703940817884,
          17.843570198070484,
          16.302695836219424,
          11.156377228197092,
          7.424714401516347,
          4.50797988512989,
          2.0813214716986472,
          -0.024823664099580364,
          -5.221788912123486,
          -9.502229976955315,
          -14.508583844447521,
          -19.08892882019638,
          -29.722005767179546,
          -39.91304111416505,
          -59.99134288302994
         ]
        },
        {
         "hoverinfo": "name",
         "line": {
          "color": "#555",
          "dash": "dot",
          "width": 1
         },
         "name": "-350.00 deg",
         "showlegend": false,
         "type": "scatter",
         "x": [
          -189.75111962661822,
          -202.09598892987356,
          -212.35345913068954,
          -231.68544618825558,
          -238.7489296614017,
          -246.79435053744254,
          -250.2573865527558,
          -253.83501123894706,
          -255.65960361036178,
          -257.503659183197,
          -259.363585957195,
          -261.2355960478809,
          -263.1157490287522,
          -265,
          -266.8842509712478,
          -268.7644039521191,
          -270.6364140428051,
          -272.496340816803,
          -274.34039638963816,
          -276.1649887610529,
          -279.74261344724425,
          -283.20564946255746,
          -291.25107033859837,
          -298.3145538117444,
          -317.64654086931046,
          -327.9040110701264,
          -333.8610146236115,
          -337.655658142777,
          -340.2488803733818,
          -344.5899563733838,
          -346.68313903391805,
          -348.1321651543866,
          -348.89652075551027,
          -349.67526564124756,
          -349.8995174652041,
          -349.99004088458565
         ],
         "y": [
          5.783261698845564,
          9.714033764687105,
          11.775956313081908,
          14.099770859367858,
          14.594923883885638,
          14.97381756434649,
          15.080414384505051,
          15.15621710943876,
          15.181648668301047,
          15.1983486227364,
          15.206059569200638,
          15.204575519007793,
          15.193746138850234,
          15.173479920117972,
          15.143746138850233,
          15.104575519007792,
          15.056059569200638,
          14.9983486227364,
          14.931648668301046,
          14.856217109438761,
          14.680414384505053,
          14.473817564346486,
          13.844923883885636,
          13.099770859367856,
          9.775956313081904,
          6.714033764687107,
          4.086501615929624,
          1.8061996909436415,
          -0.21673830115443865,
          -5.304752563074492,
          -9.546163900231825,
          -14.530626329660187,
          -19.101110842980592,
          -29.725338912804,
          -39.914050057959166,
          -59.991441985000364
         ]
        },
        {
         "hoverinfo": "name",
         "line": {
          "color": "#555",
          "dash": "dot",
          "width": 1
         },
         "name": "-340.00 deg",
         "showlegend": false,
         "type": "scatter",
         "x": [
          -197.95308877480693,
          -215.8791234237175,
          -226.9736814525869,
          -241.93858840592924,
          -246.25008326075692,
          -250.7317375930338,
          -252.56136781439045,
          -254.40686827358445,
          -255.33439270580863,
          -256.264451326916,
          -257.19654718906554,
          -258.13017678870557,
          -259.06483165862886,
          -260,
          -260.93516834137114,
          -261.8698232112944,
          -262.80345281093446,
          -263.735548673084,
          -264.6656072941914,
          -265.59313172641555,
          -267.43863218560955,
          -269.2682624069662,
          -273.7499167392431,
          -278.06141159407076,
          -293.02631854741304,
          -304.1208765762825,
          -312.0719845024495,
          -317.81176103888635,
          -322.0469112251931,
          -329.68216191155295,
          -333.58372479687006,
          -336.35562188095696,
          -337.8381516710673,
          -339.3613582271222,
          -339.8021787598649,
          -339.9803852582164
         ],
         "y": [
          5.096695738427625,
          7.678062347477537,
          8.597793300386101,
          9.232708314999615,
          9.300350040488034,
          9.318257934761284,
          9.310284149791554,
          9.293248860230516,
          9.28126664709167,
          9.26694607309168,
          9.250270119069466,
          9.231225451995389,
          9.20980249648894,
          9.185995486488366,
          9.159802496488942,
          9.13122545199539,
          9.100270119069464,
          9.06694607309168,
          9.03126664709167,
          8.993248860230516,
          8.910284149791552,
          8.818257934761286,
          8.550350040488036,
          8.232708314999616,
          6.597793300386101,
          4.678062347477541,
          2.7305972432797097,
          0.8607727963741443,
          -0.9033042615723732,
          -5.618708656914063,
          -9.715988750167744,
          -14.616875379452285,
          -19.149042963976978,
          -29.7385197635113,
          -39.91804519575886,
          -59.99183460526538
         ]
        },
        {
         "hoverinfo": "name",
         "line": {
          "color": "#555",
          "dash": "dot",
          "width": 1
         },
         "name": "-330.00 deg",
         "showlegend": false,
         "type": "scatter",
         "x": [
          -203.882655271241,
          -222.4551688385875,
          -231.83973647604438,
          -242.88818452740378,
          -245.85243927303384,
          -248.87064427851567,
          -250.08929464488176,
          -251.3127394114194,
          -251.9258936010815,
          -252.53980424258486,
          -253.1543213605271,
          -253.769294105085,
          -254.3845709678439,
          -255,
          -255.6154290321561,
          -256.23070589491493,
          -256.84567863947296,
          -257.46019575741514,
          -258.0741063989185,
          -258.6872605885806,
          -259.9107053551182,
          -261.12935572148433,
          -264.14756072696616,
          -267.1118154725962,
          -278.16026352395556,
          -287.54483116141245,
          -295.1799121181876,
          -301.2731626748182,
          -306.117344728759,
          -315.6352523321829,
          -320.8811636256163,
          -324.7520018624275,
          -326.8667171206091,
          -329.06864784533053,
          -329.7110208991901,
          -329.97132728133215
         ],
         "y": [
          4.166800369039922,
          5.606844160199614,
          5.932206248669415,
          6.009559815241832,
          5.975208936745101,
          5.916081684987016,
          5.8852313052469665,
          5.850181404584557,
          5.831068132828873,
          5.8108902224713805,
          5.78964427580763,
          5.767327641665407,
          5.7439384217734455,
          5.719475475333597,
          5.693938421773446,
          5.667327641665408,
          5.63964427580763,
          5.610890222471382,
          5.581068132828873,
          5.5501814045845554,
          5.485231305246967,
          5.416081684987017,
          5.2252089367451005,
          5.009559815241831,
          3.932206248669413,
          2.6068441601996146,
          1.1533437890942961,
          -0.3431048799285491,
          -1.8331996309600802,
          -6.087078338824387,
          -9.979764081669678,
          -14.754127901309044,
          -19.226190346310158,
          -29.75995677804501,
          -39.92456085295799,
          -59.99247562744764
         ]
        },
        {
         "hoverinfo": "name",
         "line": {
          "color": "#555",
          "dash": "dot",
          "width": 1
         },
         "name": "-310.00 deg",
         "showlegend": false,
         "type": "scatter",
         "x": [
          -209.52730461324086,
          -224.8617597295535,
          -231.1899048297363,
          -237.97025516715092,
          -239.71356983065925,
          -241.46893619919013,
          -242.17358097759967,
          -242.8792695480219,
          -243.23242437600226,
          -243.58574287247382,
          -243.93919240648842,
          -244.2927402786603,
          -244.6463537381975,
          -245,
          -245.3536462618025,
          -245.7072597213397,
          -246.06080759351158,
          -246.41425712752618,
          -246.76757562399774,
          -247.12073045197803,
          -247.82641902240033,
          -248.53106380080987,
          -250.28643016934075,
          -252.02974483284908,
          -258.8100951702637,
          -265.1382402704465,
          -270.88476640555945,
          -275.9949524301256,
          -280.47269538675914,
          -290.6024276593667,
          -297.07594307104625,
          -302.30134107560315,
          -305.3198186609207,
          -308.583531731361,
          -309.55825809928365,
          -309.9560806642815
         ],
         "y": [
          2.1690092783717687,
          2.283613205343762,
          2.1482066351372553,
          1.8805110263369171,
          1.7903185689185086,
          1.690332235389074,
          1.6475597573189855,
          1.6031884953899582,
          1.5804015444470143,
          1.557212960058154,
          1.5336222991170896,
          1.5096292165861258,
          1.4852334657955046,
          1.4604348986575815,
          1.4352334657955048,
          1.4096292165861262,
          1.3836222991170892,
          1.357212960058154,
          1.3304015444470128,
          1.3031884953899575,
          1.2475597573189858,
          1.1903322353890728,
          1.0403185689185093,
          0.8805110263369176,
          0.14820663513725413,
          -0.7163867946562369,
          -1.6861149823730335,
          -2.7327119599275056,
          -3.8309907216282335,
          -7.25914823540008,
          -10.693337314020894,
          -15.145382670060465,
          -19.451939759943034,
          -29.824279769303864,
          -39.944246119925026,
          -59.99441757441544
         ]
        },
        {
         "hoverinfo": "name",
         "line": {
          "color": "#555",
          "dash": "dot",
          "width": 1
         },
         "name": "-270.00 deg",
         "showlegend": false,
         "type": "scatter",
         "x": [
          -206.61944411079287,
          -215.29642457077978,
          -218.46110795220994,
          -221.70905190957956,
          -222.52941048373117,
          -223.35180491824565,
          -223.6811819889183,
          -224.0107336090751,
          -224.1755612738757,
          -224.3404162425316,
          -224.50529305969962,
          -224.6701862664188,
          -224.8350904010141,
          -225,
          -225.1649095989859,
          -225.3298137335812,
          -225.49470694030038,
          -225.65958375746834,
          -225.8244387261243,
          -225.9892663909249,
          -226.3188180110817,
          -226.6481950817543,
          -227.47058951626883,
          -228.29094809042044,
          -231.53889204779006,
          -234.70357542922022,
          -237.7498224252065,
          -240.64915314981818,
          -243.38055588920713,
          -250.46463358891856,
          -255.89967637641075,
          -260.9941380290685,
          -264.28940686250036,
          -268.188751952672,
          -269.42706130231653,
          -269.9427042395855
         ],
         "y": [
          -0.9732279370869548,
          -1.764348624364853,
          -2.124426027943395,
          -2.5390189104386724,
          -2.6514699297020368,
          -2.7674915645818707,
          -2.8149035000028793,
          -2.8628898500051885,
          -2.887098602924716,
          -2.91145114746676,
          -2.9359475265105246,
          -2.9605877734182884,
          -2.985371912026573,
          -3.0102999566398116,
          -3.035371912026572,
          -3.0605877734182907,
          -3.0859475265105245,
          -3.1114511474667603,
          -3.1370986029247168,
          -3.162889850005191,
          -3.2149035000028805,
          -3.2674915645818716,
          -3.4014699297020368,
          -3.539018910438671,
          -4.124426027943397,
          -4.764348624364852,
          -5.455404631092938,
          -6.193310480660946,
          -6.973227937086955,
          -9.514969420252301,
          -12.265723755961025,
          -16.10774225511957,
          -20.043213737826427,
          -30.00434077479319,
          -40.00043427276863,
          -60.000004342942646
         ]
        },
        {
         "hoverinfo": "name",
         "line": {
          "color": "#555",
          "dash": "dot",
          "width": 1
         },
         "name": "-240.00 deg",
         "showlegend": false,
         "type": "scatter",
         "x": [
          -199.14024541544325,
          -204.36172377497314,
          -206.21381358967642,
          -208.09857633531192,
          -208.57301489483143,
          -209.04823910924426,
          -209.23849040969878,
          -209.42880894323696,
          -209.52398817799792,
          -209.6191779249774,
          -209.7143760829855,
          -209.80958054999672,
          -209.90478922335842,
          -210,
          -210.09521077664152,
          -210.19041945000322,
          -210.2856239170145,
          -210.3808220750226,
          -210.47601182200202,
          -210.57119105676304,
          -210.76150959030122,
          -210.95176089075574,
          -211.42698510516857,
          -211.90142366468808,
          -213.78618641032358,
          -215.6382762250269,
          -217.44292101522825,
          -219.18707307644064,
          -220.85975458455675,
          -225.37330168652204,
          -229.0616987201294,
          -232.75216733907212,
          -235.2849960460518,
          -238.45568816453994,
          -239.50628485109314,
          -239.95040520919997
         ],
         "y": [
          -2.436272660456205,
          -3.4422186673114457,
          -3.84762884451815,
          -4.29037960222416,
          -4.40699921593907,
          -4.526008275446839,
          -4.57428211823914,
          -4.622939314369939,
          -4.647411727484515,
          -4.671980041652243,
          -4.696644271172273,
          -4.721404427168291,
          -4.746260517586929,
          -4.771212547196625,
          -4.79626051758693,
          -4.821404427168288,
          -4.846644271172273,
          -4.871980041652241,
          -4.897411727484514,
          -4.922939314369941,
          -4.974282118239141,
          -5.02600827544684,
          -5.156999215939071,
          -5.290379602224159,
          -5.847628844518153,
          -6.442218667311449,
          -7.072958558444331,
          -7.738271724514311,
          -8.436272660456206,
          -10.704688157932988,
          -13.186893456343654,
          -16.732079592455978,
          -20.453229787866576,
          -30.139417000675234,
          -40.043643711077515,
          -60.004345113397235
         ]
        },
        {
         "hoverinfo": "name",
         "line": {
          "color": "#555",
          "dash": "dot",
          "width": 1
         },
         "name": "-210.00 deg",
         "showlegend": false,
         "type": "scatter",
         "x": [
          -189.91215173606156,
          -192.37662214327372,
          -193.24081558695843,
          -194.1172919529556,
          -194.3376264517101,
          -194.55825435352733,
          -194.64656584066665,
          -194.73490241741877,
          -194.77907815652532,
          -194.82325781782652,
          -194.8674406172289,
          -194.91162577040882,
          -194.95581249286977,
          -195,
          -195.04418750713023,
          -195.08837422959118,
          -195.13255938277098,
          -195.17674218217348,
          -195.22092184347468,
          -195.26509758258123,
          -195.35343415933335,
          -195.44174564647267,
          -195.6623735482898,
          -195.8827080470444,
          -196.75918441304157,
          -197.62337785672628,
          -198.46958668342972,
          -199.29260642451015,
          -200.08784826393844,
          -202.27177292498595,
          -204.1105118631359,
          -206.01403876500308,
          -207.3653939814767,
          -209.11829225570636,
          -209.71598310734691,
          -209.97137690095758
         ],
         "y": [
          -3.2618637150774954,
          -4.357464956087062,
          -4.781008157812972,
          -5.234889529168014,
          -5.353148423971277,
          -5.473330927281008,
          -5.521943113599203,
          -5.570863587065885,
          -5.595439459606192,
          -5.620092434585043,
          -5.644822518988903,
          -5.669629718252307,
          -5.694514036257395,
          -5.719475475333596,
          -5.744514036257396,
          -5.769629718252306,
          -5.794822518988905,
          -5.820092434585046,
          -5.845439459606192,
          -5.870863587065886,
          -5.921943113599205,
          -5.9733309272810065,
          -6.103148423971275,
          -6.234889529168011,
          -6.781008157812972,
          -7.357464956087063,
          -7.963662913962381,
          -8.598793860490886,
          -9.261863715077498,
          -11.406608921751245,
          -13.75560292379796,
          -17.138198674062732,
          -20.730600258806064,
          -30.235702451504753,
          -40.07500487427773,
          -60.00752002960971
         ]
        },
        {
         "hoverinfo": "name",
         "line": {
          "color": "#555",
          "dash": "dot",
          "width": 1
         },
         "name": "-180.00 deg",
         "showlegend": false,
         "type": "scatter",
         "x": [
          -180,
          -180,
          -180,
          -180,
          -180,
          -180,
          -180,
          -180,
          -180,
          -180,
          -180,
          -180,
          -180,
          -180,
          -180,
          -180,
          -180,
          -180,
          -180,
          -180,
          -180,
          -180,
          -180,
          -180,
          -180,
          -180,
          -180,
          -180,
          -180,
          -180,
          -180,
          -180,
          -180,
          -180,
          -180,
          -180
         ],
         "y": [
          -3.528697248729707,
          -4.649481613751726,
          -5.078037820877343,
          -5.534983129163744,
          -5.653692425461207,
          -5.774197205849433,
          -5.82290229493352,
          -5.871895053021047,
          -5.896499329536557,
          -5.921175546836581,
          -5.94592371028475,
          -5.970743824053145,
          -5.995635891122028,
          -6.020599913279624,
          -6.045635891122028,
          -6.070743824053146,
          -6.095923710284749,
          -6.121175546836581,
          -6.146499329536558,
          -6.17189505302105,
          -6.222902294933521,
          -6.2741972058494335,
          -6.403692425461207,
          -6.534983129163744,
          -7.078037820877343,
          -7.6494816137517265,
          -8.248852055886793,
          -8.875518407124991,
          -9.528697248729706,
          -11.637589600041242,
          -13.946455874173909,
          -17.277840682867595,
          -20.8278537031645,
          -30.27041844216076,
          -40.086427475652854,
          -60.00868154958637
         ]
        },
        {
         "hoverinfo": "name",
         "line": {
          "color": "#555",
          "dash": "dot",
          "width": 1
         },
         "name": "-1.00 deg",
         "showlegend": false,
         "type": "scatter",
         "x": [
          -178.9955474140844,
          -177.57843869810938,
          -176.1461726315946,
          -171.87015463445732,
          -169.0655841992227,
          -163.6281753843424,
          -159.73978336941855,
          -153.6885302407643,
          -149.2654191513185,
          -143.3364318828916,
          -135.19510381314353,
          -123.90956294912183,
          -108.75316199450953,
          -90.50000000000011,
          -72.24683800549099,
          -57.090437050878734,
          -45.804896186856354,
          -37.663568117108525,
          -31.734580848681617,
          -27.311469759235877,
          -21.26021663058151,
          -17.37182461565766,
          -11.934415800777344,
          -9.129845365542735,
          -4.853827368405462,
          -3.4215613018906197,
          -2.7086752783033035,
          -2.2843538098456975,
          -2.004452585915601,
          -1.5498483142198438,
          -1.3354118325262903,
          -1.1883234045172912,
          -1.1111034506973283,
          -1.0326536082160374,
          -1.0101004816413592,
          -1.001000950028697
         ],
         "y": [
          6.038584887637681,
          10.679764301197936,
          13.711735715514646,
          19.17292087222408,
          21.473564446933352,
          24.66386078734449,
          26.351550772079545,
          28.39588115905801,
          29.582361840040452,
          30.88405633953153,
          32.272915503531166,
          33.64360969507572,
          34.739089603108305,
          35.16256289318372,
          34.689089603108336,
          33.54360969507577,
          32.12291550353115,
          30.68405633953155,
          29.33236184004049,
          28.095881159058045,
          25.951550772079585,
          24.163860787344515,
          20.723564446933352,
          18.172920872224083,
          11.711735715514651,
          7.6797643011979355,
          4.652344195068787,
          2.1734071144866545,
          0.03858488763767778,
          -5.194834381818714,
          -9.488041039111309,
          -14.50148872104064,
          -19.085013507081424,
          -29.72093593281454,
          -39.91271738956356,
          -59.99131109007229
         ]
        },
        {
         "hoverinfo": "name",
         "line": {
          "color": "#555",
          "dash": "dot",
          "width": 1
         },
         "name": "-5.00 deg",
         "showlegend": false,
         "type": "scatter",
         "x": [
          -175.01430542652633,
          -168.1766373216301,
          -161.64775239263236,
          -145.2903846844505,
          -137.16056494225649,
          -125.8865353814441,
          -120.30203173352368,
          -114.07853460992976,
          -110.74164771446624,
          -107.27141276580903,
          -103.68658866827064,
          -100.01074095414401,
          -96.27160408054988,
          -92.5,
          -88.72839591945024,
          -84.9892590458561,
          -81.3134113317293,
          -77.72858723419102,
          -74.25835228553376,
          -70.92146539007024,
          -64.69796826647644,
          -59.11346461855595,
          -47.839435057743515,
          -39.709615315549456,
          -23.3522476073677,
          -16.823362678369904,
          -13.421364398257083,
          -11.35882131113408,
          -9.985694573473609,
          -7.738385252956448,
          -6.672510376809953,
          -5.93974261281403,
          -5.55459887153097,
          -5.163049299966872,
          -5.050439020142221,
          -5.004998635821607
         ],
         "y": [
          5.975176335900421,
          10.424714401516344,
          13.15637722819709,
          17.30269583621942,
          18.59357019807048,
          19.86570394081788,
          20.318095967162986,
          20.70337257062739,
          20.862047629248345,
          20.99332004959212,
          21.093870457953344,
          21.16082174212472,
          21.1919404997191,
          21.185808854403394,
          21.1419404997191,
          21.060821742124723,
          20.943870457953345,
          20.793320049592126,
          20.61204762924834,
          20.40337257062739,
          19.918095967162994,
          19.365703940817884,
          17.843570198070484,
          16.302695836219424,
          11.156377228197092,
          7.424714401516347,
          4.50797988512989,
          2.0813214716986472,
          -0.024823664099580364,
          -5.221788912123486,
          -9.502229976955315,
          -14.508583844447521,
          -19.08892882019638,
          -29.722005767179546,
          -39.91304111416505,
          -59.99134288302994
         ]
        },
        {
         "hoverinfo": "name",
         "line": {
          "color": "#555",
          "dash": "dot",
          "width": 1
         },
         "name": "-10.00 deg",
         "showlegend": false,
         "type": "scatter",
         "x": [
          -170.24888037338178,
          -157.90401107012644,
          -147.64654086931046,
          -128.31455381174442,
          -121.25107033859831,
          -113.20564946255746,
          -109.7426134472442,
          -106.16498876105294,
          -104.34039638963822,
          -102.49634081680301,
          -100.63641404280497,
          -98.7644039521191,
          -96.88425097124781,
          -95,
          -93.11574902875219,
          -91.2355960478809,
          -89.36358595719491,
          -87.50365918319699,
          -85.65960361036184,
          -83.83501123894712,
          -80.25738655275575,
          -76.79435053744254,
          -68.74892966140163,
          -61.68544618825558,
          -42.353459130689544,
          -32.09598892987361,
          -26.13898537638852,
          -22.344341857223014,
          -19.75111962661822,
          -15.410043626616186,
          -13.316860966081947,
          -11.867834845613402,
          -11.103479244489733,
          -10.324734358752437,
          -10.100482534795901,
          -10.009959115414347
         ],
         "y": [
          5.783261698845564,
          9.714033764687105,
          11.775956313081908,
          14.099770859367858,
          14.594923883885638,
          14.97381756434649,
          15.080414384505051,
          15.15621710943876,
          15.181648668301047,
          15.1983486227364,
          15.206059569200638,
          15.204575519007793,
          15.193746138850234,
          15.173479920117972,
          15.143746138850233,
          15.104575519007792,
          15.056059569200638,
          14.9983486227364,
          14.931648668301046,
          14.856217109438761,
          14.680414384505053,
          14.473817564346486,
          13.844923883885636,
          13.099770859367856,
          9.775956313081904,
          6.714033764687107,
          4.086501615929624,
          1.8061996909436415,
          -0.21673830115443865,
          -5.304752563074492,
          -9.546163900231825,
          -14.530626329660187,
          -19.101110842980592,
          -29.725338912804,
          -39.914050057959166,
          -59.991441985000364
         ]
        },
        {
         "hoverinfo": "name",
         "line": {
          "color": "#555",
          "dash": "dot",
          "width": 1
         },
         "name": "-20.00 deg",
         "showlegend": false,
         "type": "scatter",
         "x": [
          -162.04691122519307,
          -144.1208765762825,
          -133.0263185474131,
          -118.06141159407076,
          -113.74991673924308,
          -109.26826240696619,
          -107.43863218560955,
          -105.59313172641555,
          -104.66560729419137,
          -103.735548673084,
          -102.80345281093446,
          -101.86982321129443,
          -100.93516834137114,
          -100,
          -99.06483165862886,
          -98.13017678870563,
          -97.19654718906554,
          -96.264451326916,
          -95.33439270580863,
          -94.40686827358445,
          -92.56136781439045,
          -90.73173759303381,
          -86.25008326075692,
          -81.93858840592924,
          -66.97368145258696,
          -55.87912342371749,
          -47.92801549755052,
          -42.188238961113655,
          -37.95308877480687,
          -30.317838088447047,
          -26.416275203129942,
          -23.64437811904304,
          -22.161848328932706,
          -20.638641772877804,
          -20.197821240135113,
          -20.019614741783585
         ],
         "y": [
          5.096695738427625,
          7.678062347477537,
          8.597793300386101,
          9.232708314999615,
          9.300350040488034,
          9.318257934761284,
          9.310284149791554,
          9.293248860230516,
          9.28126664709167,
          9.26694607309168,
          9.250270119069466,
          9.231225451995389,
          9.20980249648894,
          9.185995486488366,
          9.159802496488942,
          9.13122545199539,
          9.100270119069464,
          9.06694607309168,
          9.03126664709167,
          8.993248860230516,
          8.910284149791552,
          8.818257934761286,
          8.550350040488036,
          8.232708314999616,
          6.597793300386101,
          4.678062347477541,
          2.7305972432797097,
          0.8607727963741443,
          -0.9033042615723732,
          -5.618708656914063,
          -9.715988750167744,
          -14.616875379452285,
          -19.149042963976978,
          -29.7385197635113,
          -39.91804519575886,
          -59.99183460526538
         ]
        },
        {
         "hoverinfo": "name",
         "line": {
          "color": "#555",
          "dash": "dot",
          "width": 1
         },
         "name": "-30.00 deg",
         "showlegend": false,
         "type": "scatter",
         "x": [
          -156.117344728759,
          -137.5448311614125,
          -128.16026352395562,
          -117.11181547259622,
          -114.14756072696616,
          -111.12935572148433,
          -109.91070535511824,
          -108.68726058858061,
          -108.0741063989185,
          -107.46019575741514,
          -106.84567863947291,
          -106.23070589491499,
          -105.6154290321561,
          -105,
          -104.3845709678439,
          -103.76929410508507,
          -103.15432136052704,
          -102.53980424258486,
          -101.9258936010815,
          -101.31273941141939,
          -100.08929464488182,
          -98.87064427851567,
          -95.85243927303384,
          -92.88818452740378,
          -81.83973647604444,
          -72.45516883858755,
          -64.82008788181241,
          -58.726837325181805,
          -53.88265527124099,
          -44.364747667817085,
          -39.118836374383704,
          -35.247998137572495,
          -33.13328287939089,
          -30.93135215466947,
          -30.28897910080991,
          -30.02867271866785
         ],
         "y": [
          4.166800369039922,
          5.606844160199614,
          5.932206248669415,
          6.009559815241832,
          5.975208936745101,
          5.916081684987016,
          5.8852313052469665,
          5.850181404584557,
          5.831068132828873,
          5.8108902224713805,
          5.78964427580763,
          5.767327641665407,
          5.7439384217734455,
          5.719475475333597,
          5.693938421773446,
          5.667327641665408,
          5.63964427580763,
          5.610890222471382,
          5.581068132828873,
          5.5501814045845554,
          5.485231305246967,
          5.416081684987017,
          5.2252089367451005,
          5.009559815241831,
          3.932206248669413,
          2.6068441601996146,
          1.1533437890942961,
          -0.3431048799285491,
          -1.8331996309600802,
          -6.087078338824387,
          -9.979764081669678,
          -14.754127901309044,
          -19.226190346310158,
          -29.75995677804501,
          -39.92456085295799,
          -59.99247562744764
         ]
        },
        {
         "hoverinfo": "name",
         "line": {
          "color": "#555",
          "dash": "dot",
          "width": 1
         },
         "name": "-50.00 deg",
         "showlegend": false,
         "type": "scatter",
         "x": [
          -150.47269538675914,
          -135.1382402704465,
          -128.8100951702637,
          -122.02974483284908,
          -120.28643016934075,
          -118.53106380080987,
          -117.82641902240033,
          -117.12073045197809,
          -116.76757562399774,
          -116.41425712752618,
          -116.06080759351158,
          -115.70725972133971,
          -115.35364626180251,
          -115,
          -114.64635373819749,
          -114.29274027866029,
          -113.93919240648842,
          -113.58574287247382,
          -113.23242437600226,
          -112.87926954802197,
          -112.17358097759967,
          -111.46893619919013,
          -109.71356983065925,
          -107.97025516715092,
          -101.18990482973629,
          -94.86175972955351,
          -89.11523359444055,
          -84.00504756987442,
          -79.52730461324086,
          -69.3975723406333,
          -62.924056928953746,
          -57.69865892439685,
          -54.6801813390793,
          -51.416468268638994,
          -50.44174190071635,
          -50.0439193357185
         ],
         "y": [
          2.1690092783717687,
          2.283613205343762,
          2.1482066351372553,
          1.8805110263369171,
          1.7903185689185086,
          1.690332235389074,
          1.6475597573189855,
          1.6031884953899582,
          1.5804015444470143,
          1.557212960058154,
          1.5336222991170896,
          1.5096292165861258,
          1.4852334657955046,
          1.4604348986575815,
          1.4352334657955048,
          1.4096292165861262,
          1.3836222991170892,
          1.357212960058154,
          1.3304015444470128,
          1.3031884953899575,
          1.2475597573189858,
          1.1903322353890728,
          1.0403185689185093,
          0.8805110263369176,
          0.14820663513725413,
          -0.7163867946562369,
          -1.6861149823730335,
          -2.7327119599275056,
          -3.8309907216282335,
          -7.25914823540008,
          -10.693337314020894,
          -15.145382670060465,
          -19.451939759943034,
          -29.824279769303864,
          -39.944246119925026,
          -59.99441757441544
         ]
        },
        {
         "hoverinfo": "name",
         "line": {
          "color": "#555",
          "dash": "dot",
          "width": 1
         },
         "name": "-90.00 deg",
         "showlegend": false,
         "type": "scatter",
         "x": [
          -153.38055588920713,
          -144.70357542922022,
          -141.53889204779006,
          -138.29094809042044,
          -137.47058951626883,
          -136.64819508175435,
          -136.3188180110817,
          -135.9892663909249,
          -135.8244387261243,
          -135.6595837574684,
          -135.49470694030038,
          -135.3298137335812,
          -135.1649095989859,
          -135,
          -134.8350904010141,
          -134.6701862664188,
          -134.50529305969962,
          -134.34041624253166,
          -134.1755612738757,
          -134.0107336090751,
          -133.6811819889183,
          -133.3518049182457,
          -132.52941048373117,
          -131.70905190957956,
          -128.46110795220994,
          -125.29642457077978,
          -122.2501775747935,
          -119.35084685018182,
          -116.61944411079287,
          -109.53536641108144,
          -104.10032362358925,
          -99.0058619709315,
          -95.71059313749964,
          -91.81124804732798,
          -90.57293869768347,
          -90.05729576041449
         ],
         "y": [
          -0.9732279370869548,
          -1.764348624364853,
          -2.124426027943395,
          -2.5390189104386724,
          -2.6514699297020368,
          -2.7674915645818707,
          -2.8149035000028793,
          -2.8628898500051885,
          -2.887098602924716,
          -2.91145114746676,
          -2.9359475265105246,
          -2.9605877734182884,
          -2.985371912026573,
          -3.0102999566398116,
          -3.035371912026572,
          -3.0605877734182907,
          -3.0859475265105245,
          -3.1114511474667603,
          -3.1370986029247168,
          -3.162889850005191,
          -3.2149035000028805,
          -3.2674915645818716,
          -3.4014699297020368,
          -3.539018910438671,
          -4.124426027943397,
          -4.764348624364852,
          -5.455404631092938,
          -6.193310480660946,
          -6.973227937086955,
          -9.514969420252301,
          -12.265723755961025,
          -16.10774225511957,
          -20.043213737826427,
          -30.00434077479319,
          -40.00043427276863,
          -60.000004342942646
         ]
        },
        {
         "hoverinfo": "name",
         "line": {
          "color": "#555",
          "dash": "dot",
          "width": 1
         },
         "name": "-120.00 deg",
         "showlegend": false,
         "type": "scatter",
         "x": [
          -160.85975458455675,
          -155.63827622502686,
          -153.78618641032358,
          -151.90142366468808,
          -151.42698510516857,
          -150.95176089075574,
          -150.76150959030122,
          -150.57119105676304,
          -150.47601182200208,
          -150.3808220750226,
          -150.2856239170145,
          -150.19041945000328,
          -150.09521077664158,
          -150,
          -149.90478922335848,
          -149.80958054999678,
          -149.7143760829855,
          -149.6191779249774,
          -149.52398817799798,
          -149.42880894323696,
          -149.23849040969878,
          -149.04823910924426,
          -148.57301489483143,
          -148.09857633531192,
          -146.21381358967642,
          -144.3617237749731,
          -142.55707898477175,
          -140.81292692355936,
          -139.14024541544325,
          -134.62669831347796,
          -130.9383012798706,
          -127.24783266092788,
          -124.71500395394821,
          -121.54431183546006,
          -120.49371514890686,
          -120.04959479080003
         ],
         "y": [
          -2.436272660456205,
          -3.4422186673114457,
          -3.84762884451815,
          -4.29037960222416,
          -4.40699921593907,
          -4.526008275446839,
          -4.57428211823914,
          -4.622939314369939,
          -4.647411727484515,
          -4.671980041652243,
          -4.696644271172273,
          -4.721404427168291,
          -4.746260517586929,
          -4.771212547196625,
          -4.79626051758693,
          -4.821404427168288,
          -4.846644271172273,
          -4.871980041652241,
          -4.897411727484514,
          -4.922939314369941,
          -4.974282118239141,
          -5.02600827544684,
          -5.156999215939071,
          -5.290379602224159,
          -5.847628844518153,
          -6.442218667311449,
          -7.072958558444331,
          -7.738271724514311,
          -8.436272660456206,
          -10.704688157932988,
          -13.186893456343654,
          -16.732079592455978,
          -20.453229787866576,
          -30.139417000675234,
          -40.043643711077515,
          -60.004345113397235
         ]
        },
        {
         "hoverinfo": "name",
         "line": {
          "color": "#555",
          "dash": "dot",
          "width": 1
         },
         "name": "-150.00 deg",
         "showlegend": false,
         "type": "scatter",
         "x": [
          -170.08784826393844,
          -167.62337785672628,
          -166.75918441304157,
          -165.8827080470444,
          -165.6623735482899,
          -165.44174564647267,
          -165.35343415933335,
          -165.26509758258123,
          -165.22092184347468,
          -165.17674218217348,
          -165.1325593827711,
          -165.08837422959118,
          -165.04418750713023,
          -165,
          -164.95581249286977,
          -164.91162577040882,
          -164.86744061722902,
          -164.82325781782652,
          -164.77907815652532,
          -164.73490241741877,
          -164.64656584066665,
          -164.55825435352733,
          -164.3376264517102,
          -164.1172919529556,
          -163.24081558695843,
          -162.37662214327372,
          -161.53041331657028,
          -160.70739357548985,
          -159.91215173606156,
          -157.72822707501405,
          -155.8894881368641,
          -153.98596123499692,
          -152.6346060185233,
          -150.88170774429364,
          -150.28401689265309,
          -150.02862309904242
         ],
         "y": [
          -3.2618637150774954,
          -4.357464956087062,
          -4.781008157812972,
          -5.234889529168014,
          -5.353148423971277,
          -5.473330927281008,
          -5.521943113599203,
          -5.570863587065885,
          -5.595439459606192,
          -5.620092434585043,
          -5.644822518988903,
          -5.669629718252307,
          -5.694514036257395,
          -5.719475475333596,
          -5.744514036257396,
          -5.769629718252306,
          -5.794822518988905,
          -5.820092434585046,
          -5.845439459606192,
          -5.870863587065886,
          -5.921943113599205,
          -5.9733309272810065,
          -6.103148423971275,
          -6.234889529168011,
          -6.781008157812972,
          -7.357464956087063,
          -7.963662913962381,
          -8.598793860490886,
          -9.261863715077498,
          -11.406608921751245,
          -13.75560292379796,
          -17.138198674062732,
          -20.730600258806064,
          -30.235702451504753,
          -40.07500487427773,
          -60.00752002960971
         ]
        },
        {
         "hoverinfo": "name",
         "line": {
          "color": "#555",
          "dash": "dot",
          "width": 1
         },
         "name": "-180.00 deg",
         "showlegend": false,
         "type": "scatter",
         "x": [
          -180,
          -180,
          -180,
          -180,
          -180,
          -180,
          -180,
          -180,
          -180,
          -180,
          -180,
          -180,
          -180,
          -180,
          -180,
          -180,
          -180,
          -180,
          -180,
          -180,
          -180,
          -180,
          -180,
          -180,
          -180,
          -180,
          -180,
          -180,
          -180,
          -180,
          -180,
          -180,
          -180,
          -180,
          -180,
          -180
         ],
         "y": [
          -3.528697248729707,
          -4.649481613751726,
          -5.078037820877343,
          -5.534983129163744,
          -5.653692425461207,
          -5.774197205849433,
          -5.82290229493352,
          -5.871895053021047,
          -5.896499329536557,
          -5.921175546836581,
          -5.94592371028475,
          -5.970743824053145,
          -5.995635891122028,
          -6.020599913279624,
          -6.045635891122028,
          -6.070743824053146,
          -6.095923710284749,
          -6.121175546836581,
          -6.146499329536558,
          -6.17189505302105,
          -6.222902294933521,
          -6.2741972058494335,
          -6.403692425461207,
          -6.534983129163744,
          -7.078037820877343,
          -7.6494816137517265,
          -8.248852055886793,
          -8.875518407124991,
          -9.528697248729706,
          -11.637589600041242,
          -13.946455874173909,
          -17.277840682867595,
          -20.8278537031645,
          -30.27041844216076,
          -40.086427475652854,
          -60.00868154958637
         ]
        },
        {
         "hoverinfo": "name",
         "line": {
          "color": "#555",
          "dash": "dot",
          "width": 1
         },
         "name": "-180.00 deg",
         "showlegend": false,
         "type": "scatter",
         "x": [
          -180,
          -180,
          -180,
          -180,
          -180,
          -180,
          -180,
          -180,
          -180,
          -180,
          -180,
          -180,
          -180,
          -180,
          -180,
          -180,
          -180,
          -180,
          -180,
          -180,
          -180,
          -180,
          -180,
          -180,
          -180,
          -180,
          -180,
          -180,
          -180,
          -180,
          -180,
          -180,
          -180,
          -180,
          -180,
          -180
         ],
         "y": [
          -3.528697248729707,
          -4.649481613751726,
          -5.078037820877343,
          -5.534983129163744,
          -5.653692425461207,
          -5.774197205849433,
          -5.82290229493352,
          -5.871895053021047,
          -5.896499329536557,
          -5.921175546836581,
          -5.94592371028475,
          -5.970743824053145,
          -5.995635891122028,
          -6.020599913279624,
          -6.045635891122028,
          -6.070743824053146,
          -6.095923710284749,
          -6.121175546836581,
          -6.146499329536558,
          -6.17189505302105,
          -6.222902294933521,
          -6.2741972058494335,
          -6.403692425461207,
          -6.534983129163744,
          -7.078037820877343,
          -7.6494816137517265,
          -8.248852055886793,
          -8.875518407124991,
          -9.528697248729706,
          -11.637589600041242,
          -13.946455874173909,
          -17.277840682867595,
          -20.8278537031645,
          -30.27041844216076,
          -40.086427475652854,
          -60.00868154958637
         ]
        }
       ],
       "layout": {
        "template": {
         "data": {
          "bar": [
           {
            "error_x": {
             "color": "#2a3f5f"
            },
            "error_y": {
             "color": "#2a3f5f"
            },
            "marker": {
             "line": {
              "color": "#E5ECF6",
              "width": 0.5
             }
            },
            "type": "bar"
           }
          ],
          "barpolar": [
           {
            "marker": {
             "line": {
              "color": "#E5ECF6",
              "width": 0.5
             }
            },
            "type": "barpolar"
           }
          ],
          "carpet": [
           {
            "aaxis": {
             "endlinecolor": "#2a3f5f",
             "gridcolor": "white",
             "linecolor": "white",
             "minorgridcolor": "white",
             "startlinecolor": "#2a3f5f"
            },
            "baxis": {
             "endlinecolor": "#2a3f5f",
             "gridcolor": "white",
             "linecolor": "white",
             "minorgridcolor": "white",
             "startlinecolor": "#2a3f5f"
            },
            "type": "carpet"
           }
          ],
          "choropleth": [
           {
            "colorbar": {
             "outlinewidth": 0,
             "ticks": ""
            },
            "type": "choropleth"
           }
          ],
          "contour": [
           {
            "colorbar": {
             "outlinewidth": 0,
             "ticks": ""
            },
            "colorscale": [
             [
              0,
              "#0d0887"
             ],
             [
              0.1111111111111111,
              "#46039f"
             ],
             [
              0.2222222222222222,
              "#7201a8"
             ],
             [
              0.3333333333333333,
              "#9c179e"
             ],
             [
              0.4444444444444444,
              "#bd3786"
             ],
             [
              0.5555555555555556,
              "#d8576b"
             ],
             [
              0.6666666666666666,
              "#ed7953"
             ],
             [
              0.7777777777777778,
              "#fb9f3a"
             ],
             [
              0.8888888888888888,
              "#fdca26"
             ],
             [
              1,
              "#f0f921"
             ]
            ],
            "type": "contour"
           }
          ],
          "contourcarpet": [
           {
            "colorbar": {
             "outlinewidth": 0,
             "ticks": ""
            },
            "type": "contourcarpet"
           }
          ],
          "heatmap": [
           {
            "colorbar": {
             "outlinewidth": 0,
             "ticks": ""
            },
            "colorscale": [
             [
              0,
              "#0d0887"
             ],
             [
              0.1111111111111111,
              "#46039f"
             ],
             [
              0.2222222222222222,
              "#7201a8"
             ],
             [
              0.3333333333333333,
              "#9c179e"
             ],
             [
              0.4444444444444444,
              "#bd3786"
             ],
             [
              0.5555555555555556,
              "#d8576b"
             ],
             [
              0.6666666666666666,
              "#ed7953"
             ],
             [
              0.7777777777777778,
              "#fb9f3a"
             ],
             [
              0.8888888888888888,
              "#fdca26"
             ],
             [
              1,
              "#f0f921"
             ]
            ],
            "type": "heatmap"
           }
          ],
          "heatmapgl": [
           {
            "colorbar": {
             "outlinewidth": 0,
             "ticks": ""
            },
            "colorscale": [
             [
              0,
              "#0d0887"
             ],
             [
              0.1111111111111111,
              "#46039f"
             ],
             [
              0.2222222222222222,
              "#7201a8"
             ],
             [
              0.3333333333333333,
              "#9c179e"
             ],
             [
              0.4444444444444444,
              "#bd3786"
             ],
             [
              0.5555555555555556,
              "#d8576b"
             ],
             [
              0.6666666666666666,
              "#ed7953"
             ],
             [
              0.7777777777777778,
              "#fb9f3a"
             ],
             [
              0.8888888888888888,
              "#fdca26"
             ],
             [
              1,
              "#f0f921"
             ]
            ],
            "type": "heatmapgl"
           }
          ],
          "histogram": [
           {
            "marker": {
             "colorbar": {
              "outlinewidth": 0,
              "ticks": ""
             }
            },
            "type": "histogram"
           }
          ],
          "histogram2d": [
           {
            "colorbar": {
             "outlinewidth": 0,
             "ticks": ""
            },
            "colorscale": [
             [
              0,
              "#0d0887"
             ],
             [
              0.1111111111111111,
              "#46039f"
             ],
             [
              0.2222222222222222,
              "#7201a8"
             ],
             [
              0.3333333333333333,
              "#9c179e"
             ],
             [
              0.4444444444444444,
              "#bd3786"
             ],
             [
              0.5555555555555556,
              "#d8576b"
             ],
             [
              0.6666666666666666,
              "#ed7953"
             ],
             [
              0.7777777777777778,
              "#fb9f3a"
             ],
             [
              0.8888888888888888,
              "#fdca26"
             ],
             [
              1,
              "#f0f921"
             ]
            ],
            "type": "histogram2d"
           }
          ],
          "histogram2dcontour": [
           {
            "colorbar": {
             "outlinewidth": 0,
             "ticks": ""
            },
            "colorscale": [
             [
              0,
              "#0d0887"
             ],
             [
              0.1111111111111111,
              "#46039f"
             ],
             [
              0.2222222222222222,
              "#7201a8"
             ],
             [
              0.3333333333333333,
              "#9c179e"
             ],
             [
              0.4444444444444444,
              "#bd3786"
             ],
             [
              0.5555555555555556,
              "#d8576b"
             ],
             [
              0.6666666666666666,
              "#ed7953"
             ],
             [
              0.7777777777777778,
              "#fb9f3a"
             ],
             [
              0.8888888888888888,
              "#fdca26"
             ],
             [
              1,
              "#f0f921"
             ]
            ],
            "type": "histogram2dcontour"
           }
          ],
          "mesh3d": [
           {
            "colorbar": {
             "outlinewidth": 0,
             "ticks": ""
            },
            "type": "mesh3d"
           }
          ],
          "parcoords": [
           {
            "line": {
             "colorbar": {
              "outlinewidth": 0,
              "ticks": ""
             }
            },
            "type": "parcoords"
           }
          ],
          "pie": [
           {
            "automargin": true,
            "type": "pie"
           }
          ],
          "scatter": [
           {
            "marker": {
             "colorbar": {
              "outlinewidth": 0,
              "ticks": ""
             }
            },
            "type": "scatter"
           }
          ],
          "scatter3d": [
           {
            "line": {
             "colorbar": {
              "outlinewidth": 0,
              "ticks": ""
             }
            },
            "marker": {
             "colorbar": {
              "outlinewidth": 0,
              "ticks": ""
             }
            },
            "type": "scatter3d"
           }
          ],
          "scattercarpet": [
           {
            "marker": {
             "colorbar": {
              "outlinewidth": 0,
              "ticks": ""
             }
            },
            "type": "scattercarpet"
           }
          ],
          "scattergeo": [
           {
            "marker": {
             "colorbar": {
              "outlinewidth": 0,
              "ticks": ""
             }
            },
            "type": "scattergeo"
           }
          ],
          "scattergl": [
           {
            "marker": {
             "colorbar": {
              "outlinewidth": 0,
              "ticks": ""
             }
            },
            "type": "scattergl"
           }
          ],
          "scattermapbox": [
           {
            "marker": {
             "colorbar": {
              "outlinewidth": 0,
              "ticks": ""
             }
            },
            "type": "scattermapbox"
           }
          ],
          "scatterpolar": [
           {
            "marker": {
             "colorbar": {
              "outlinewidth": 0,
              "ticks": ""
             }
            },
            "type": "scatterpolar"
           }
          ],
          "scatterpolargl": [
           {
            "marker": {
             "colorbar": {
              "outlinewidth": 0,
              "ticks": ""
             }
            },
            "type": "scatterpolargl"
           }
          ],
          "scatterternary": [
           {
            "marker": {
             "colorbar": {
              "outlinewidth": 0,
              "ticks": ""
             }
            },
            "type": "scatterternary"
           }
          ],
          "surface": [
           {
            "colorbar": {
             "outlinewidth": 0,
             "ticks": ""
            },
            "colorscale": [
             [
              0,
              "#0d0887"
             ],
             [
              0.1111111111111111,
              "#46039f"
             ],
             [
              0.2222222222222222,
              "#7201a8"
             ],
             [
              0.3333333333333333,
              "#9c179e"
             ],
             [
              0.4444444444444444,
              "#bd3786"
             ],
             [
              0.5555555555555556,
              "#d8576b"
             ],
             [
              0.6666666666666666,
              "#ed7953"
             ],
             [
              0.7777777777777778,
              "#fb9f3a"
             ],
             [
              0.8888888888888888,
              "#fdca26"
             ],
             [
              1,
              "#f0f921"
             ]
            ],
            "type": "surface"
           }
          ],
          "table": [
           {
            "cells": {
             "fill": {
              "color": "#EBF0F8"
             },
             "line": {
              "color": "white"
             }
            },
            "header": {
             "fill": {
              "color": "#C8D4E3"
             },
             "line": {
              "color": "white"
             }
            },
            "type": "table"
           }
          ]
         },
         "layout": {
          "annotationdefaults": {
           "arrowcolor": "#2a3f5f",
           "arrowhead": 0,
           "arrowwidth": 1
          },
          "coloraxis": {
           "colorbar": {
            "outlinewidth": 0,
            "ticks": ""
           }
          },
          "colorscale": {
           "diverging": [
            [
             0,
             "#8e0152"
            ],
            [
             0.1,
             "#c51b7d"
            ],
            [
             0.2,
             "#de77ae"
            ],
            [
             0.3,
             "#f1b6da"
            ],
            [
             0.4,
             "#fde0ef"
            ],
            [
             0.5,
             "#f7f7f7"
            ],
            [
             0.6,
             "#e6f5d0"
            ],
            [
             0.7,
             "#b8e186"
            ],
            [
             0.8,
             "#7fbc41"
            ],
            [
             0.9,
             "#4d9221"
            ],
            [
             1,
             "#276419"
            ]
           ],
           "sequential": [
            [
             0,
             "#0d0887"
            ],
            [
             0.1111111111111111,
             "#46039f"
            ],
            [
             0.2222222222222222,
             "#7201a8"
            ],
            [
             0.3333333333333333,
             "#9c179e"
            ],
            [
             0.4444444444444444,
             "#bd3786"
            ],
            [
             0.5555555555555556,
             "#d8576b"
            ],
            [
             0.6666666666666666,
             "#ed7953"
            ],
            [
             0.7777777777777778,
             "#fb9f3a"
            ],
            [
             0.8888888888888888,
             "#fdca26"
            ],
            [
             1,
             "#f0f921"
            ]
           ],
           "sequentialminus": [
            [
             0,
             "#0d0887"
            ],
            [
             0.1111111111111111,
             "#46039f"
            ],
            [
             0.2222222222222222,
             "#7201a8"
            ],
            [
             0.3333333333333333,
             "#9c179e"
            ],
            [
             0.4444444444444444,
             "#bd3786"
            ],
            [
             0.5555555555555556,
             "#d8576b"
            ],
            [
             0.6666666666666666,
             "#ed7953"
            ],
            [
             0.7777777777777778,
             "#fb9f3a"
            ],
            [
             0.8888888888888888,
             "#fdca26"
            ],
            [
             1,
             "#f0f921"
            ]
           ]
          },
          "colorway": [
           "#636efa",
           "#EF553B",
           "#00cc96",
           "#ab63fa",
           "#FFA15A",
           "#19d3f3",
           "#FF6692",
           "#B6E880",
           "#FF97FF",
           "#FECB52"
          ],
          "font": {
           "color": "#2a3f5f"
          },
          "geo": {
           "bgcolor": "white",
           "lakecolor": "white",
           "landcolor": "#E5ECF6",
           "showlakes": true,
           "showland": true,
           "subunitcolor": "white"
          },
          "hoverlabel": {
           "align": "left"
          },
          "hovermode": "closest",
          "mapbox": {
           "style": "light"
          },
          "paper_bgcolor": "white",
          "plot_bgcolor": "#E5ECF6",
          "polar": {
           "angularaxis": {
            "gridcolor": "white",
            "linecolor": "white",
            "ticks": ""
           },
           "bgcolor": "#E5ECF6",
           "radialaxis": {
            "gridcolor": "white",
            "linecolor": "white",
            "ticks": ""
           }
          },
          "scene": {
           "xaxis": {
            "backgroundcolor": "#E5ECF6",
            "gridcolor": "white",
            "gridwidth": 2,
            "linecolor": "white",
            "showbackground": true,
            "ticks": "",
            "zerolinecolor": "white"
           },
           "yaxis": {
            "backgroundcolor": "#E5ECF6",
            "gridcolor": "white",
            "gridwidth": 2,
            "linecolor": "white",
            "showbackground": true,
            "ticks": "",
            "zerolinecolor": "white"
           },
           "zaxis": {
            "backgroundcolor": "#E5ECF6",
            "gridcolor": "white",
            "gridwidth": 2,
            "linecolor": "white",
            "showbackground": true,
            "ticks": "",
            "zerolinecolor": "white"
           }
          },
          "shapedefaults": {
           "line": {
            "color": "#2a3f5f"
           }
          },
          "ternary": {
           "aaxis": {
            "gridcolor": "white",
            "linecolor": "white",
            "ticks": ""
           },
           "baxis": {
            "gridcolor": "white",
            "linecolor": "white",
            "ticks": ""
           },
           "bgcolor": "#E5ECF6",
           "caxis": {
            "gridcolor": "white",
            "linecolor": "white",
            "ticks": ""
           }
          },
          "title": {
           "x": 0.05
          },
          "xaxis": {
           "automargin": true,
           "gridcolor": "white",
           "linecolor": "white",
           "ticks": "",
           "title": {
            "standoff": 15
           },
           "zerolinecolor": "white",
           "zerolinewidth": 2
          },
          "yaxis": {
           "automargin": true,
           "gridcolor": "white",
           "linecolor": "white",
           "ticks": "",
           "title": {
            "standoff": 15
           },
           "zerolinecolor": "white",
           "zerolinewidth": 2
          }
         }
        },
        "xaxis": {
         "title": {
          "text": "Open-Loop Phase (deg)"
         }
        },
        "yaxis": {
         "title": {
          "text": "Open-Loop Gain (dB)"
         }
        }
       }
      },
      "text/html": [
       "<div>                            <div id=\"acdce58b-c9eb-4edd-8e18-be7e964906b4\" class=\"plotly-graph-div\" style=\"height:525px; width:100%;\"></div>            <script type=\"text/javascript\">                require([\"plotly\"], function(Plotly) {                    window.PLOTLYENV=window.PLOTLYENV || {};                                    if (document.getElementById(\"acdce58b-c9eb-4edd-8e18-be7e964906b4\")) {                    Plotly.newPlot(                        \"acdce58b-c9eb-4edd-8e18-be7e964906b4\",                        [{\"hoverinfo\": \"none\", \"marker\": {\"line\": {\"color\": \"#FF0000\", \"width\": 1}, \"size\": 3}, \"mode\": \"markers\", \"showlegend\": false, \"type\": \"scatter\", \"x\": [-180], \"y\": [0]}, {\"hovertemplate\": \"<b>w</b>: %{text:.3f} rad/s<br><b>mag</b>: %{y:.3f} dB<br><b>phase</b>: %{x:.3f} deg<br>\", \"line\": {\"color\": \"#1f77b4\"}, \"name\": \"sys\", \"showlegend\": false, \"text\": [0.01, 0.010595601792776159, 0.011226677735108135, 0.011895340673703195, 0.012603829296797275, 0.013354515629298987, 0.01414991297434576, 0.014992684327860457, 0.015885651294280528, 0.016831803533309566, 0.017834308769319095, 0.018896523396912095, 0.020022003718155844, 0.021214517849106298, 0.02247805833548725, 0.023816855519761582, 0.02523539170434766, 0.026738416158399468, 0.02833096101839324, 0.03001835813575589, 0.031806256927941194, 0.03370064329271928, 0.03570785964900463, 0.03783462617131929, 0.04008806328898465, 0.04247571552536898, 0.04500557675700498, 0.04768611697714469, 0.0505263106533568, 0.053535666774107246, 0.05672426068491978, 0.06010276782070382, 0.06368249944718586, 0.06747544053110693, 0.07149428986597577, 0.07575250258771912, 0.08026433522257174, 0.08504489341802678, 0.09011018251665019, 0.09547716114208056, 0.10116379797662076, 0.10718913192051281, 0.11357333583431058, 0.12033778407775898, 0.12750512407130135, 0.13509935211980273, 0.14314589375234793, 0.15167168884709234, 0.16070528182616392, 0.17027691722259003, 0.18041864093920726, 0.19116440753857028, 0.20255019392306675, 0.21461411978584047, 0.22739657523579287, 0.24094035602395256, 0.2552908068239518, 0.27049597304631356, 0.2866067616948252, 0.3036771118035459, 0.3217641750250737, 0.3409285069746813, 0.3612342699709432, 0.3827494478516313, 0.40554607358408296, 0.42970047043208415, 0.455293507486695, 0.48241087041653713, 0.5111433483440168, 0.5415871378079473, 0.5738441648302396, 0.6080224261649424, 0.6442363508721374, 0.6826071834272389, 0.7232633896483537, 0.7663410868007459, 0.8119844993184013, 0.8603464416684504, 0.9115888299750823, 0.9658832241158704, 1.0234114021054537, 1.0843659686896108, 1.1489510001873098, 1.217382727739662, 1.2898902612533094, 1.3667163564620073, 1.4481182276745346, 1.5343684089300131, 1.625755666443795, 1.7225859653987874, 1.8251834943190444, 1.933891750455232, 2.049074689815848, 2.171117945694505, 2.300430119772919, 2.437444150122222, 2.5826187606826774, 2.736439997074672, 2.899422853882878, 3.0721129988617593, 3.2550885998350596, 3.44896226040576, 3.654383070957258, 3.8720387818125572, 4.102658105827195, 4.347013158125026, 4.605922041145108, 4.880251583654434, 5.17092024289676, 5.478901179593945, 5.805225516094902, 6.150985788580504, 6.517339604882427, 6.905513520162331, 7.3168071434272, 7.752597488629465, 8.21434358491943, 8.703591361485167, 9.221978823334332, 9.771241535346501, 10.353218432956627, 10.96985797892384, 11.62322468679853, 12.315506032928262, 13.049019780144029, 13.826221737646565, 14.649713983072864, 15.52225357427048, 16.446761779946645, 17.42633386009651, 18.464249428955444, 19.56398343517065, 20.72921779595372, 21.96385372416547, 23.272024789604096, 24.658110758226037, 26.126752255633292, 27.682866303920665, 29.331662783900455, 31.07866187782014, 32.929712550971516, 34.891012134067736, 36.96912707195028, 39.17101490809261, 41.50404757850477, 43.97603609302721, 46.59525668664682, 49.37047852839004, 52.31099308056263, 55.42664520663107, 58.72786613189483, 62.22570836730231, 65.93188271333548, 69.8587974678525, 74.01959996915645, 78.42822061337682, 83.09941949353396, 88.04883581643465, 93.29304026284686, 98.84959046625586, 104.73708979594508, 110.97524964120721, 117.58495540521582, 124.58833642950081, 132.00884008314193, 139.87131026472386, 148.202070579886, 157.02901247293775, 166.38168860761309, 176.2914118095948, 186.79135990207848, 197.91668678535575, 209.7046401323235, 222.19468609395238, 235.42864143224202, 249.45081352303166, 264.30814869741084, 280.0503894183631, 296.73024081888724, 314.40354715915, 333.1294787934677, 352.970730273065, 373.99373024788014, 396.2688638701478, 419.8707084443914, 444.87828311275854, 471.3753134116729, 499.450511585514, 529.1978735958447, 560.7169938205458, 594.113398496504, 629.4988990221888, 666.9919663030129, 706.7181273927491, 748.810385759003, 793.4096665797492, 840.6652885618333, 890.735463861044, 943.7878277775391, 1000.0], \"type\": \"scatter\", \"x\": [-0.06302533834671024, -0.06677913631287355, -0.07075651068792507, -0.07497077763358033, -0.07943604640764754, -0.08416726659773274, -0.08918027816759853, -0.09449186448362612, -0.10011980849862676, -0.10608295228098608, -0.11240126008814225, -0.11909588519523033, -0.12618924070244827, -0.1337050745575989, -0.14166854904453802, -0.15010632500311735, -0.1590466510617581, -0.16851945818076186, -0.17855645982166665, -0.18919125807688614, -0.200459456113615, -0.2123987773066696, -0.22504919145717214, -0.2384530485171149, -0.25265522026492926, -0.2677032504027057, -0.2836475135737757, -0.30054138382806733, -0.3184414130936643, -0.33740752024533704, -0.35750319139470677, -0.3787956920633434, -0.4013562919374764, -0.4252605029433013, -0.45058833142364374, -0.47742454524132383, -0.5058589566801566, -0.5359867220638896, -0.5679086590636814, -0.6017315827178761, -0.6375686612433535, -0.6755397927752586, -0.7157720042315856, -0.7583998735608447, -0.803565976695233, -0.8514213605962884, -0.9021260438476069, -0.9558495463161752, -1.0127714494728535, -1.0730819890297327, -1.1369826816199133, -1.204686987309742, -1.2764210097959403, -1.3524242361967453, -1.4329503183972025, -1.5182678979499649, -1.6086614765639748, -1.704432334227959, -1.8058994970127353, -1.913400756569289, -2.0272937432834937, -2.147957054955709, -2.2757914427377166, -2.4112210558691793, -2.5546947465003784, -2.7066874355544766, -2.8677015401539174, -3.0382684625936665, -3.2189501401671885, -3.410340654312212, -3.613067896514003, -3.8277952871476946, -4.055223541918592, -4.296092478722788, -4.551182855547359, -4.821318227397363, -5.107366807108977, -5.410243311204534, -5.7309107675830075, -6.070382256722649, -6.429722552102151, -6.81004961861579, -7.212535919759647, -7.638409475194532, -8.08895459985191, -8.565512243965548, -9.069479840241646, -9.60231054983094, -10.165511782920843, -10.760642852809408, -11.389311604583542, -12.053169841514151, -12.753907354753666, -13.493244345926994, -14.272922019161236, -15.094691110843595, -15.960298124257706, -16.871469045074406, -17.82989033583039, -18.83718704685149, -19.894897941715346, -21.00444762151179, -22.16711574770658, -23.38400361126682, -24.655998477084356, -25.98373634621009, -27.36756401888227, -28.807501598971623, -30.30320683992411, -31.853942972309014, -33.45855184694186, -35.11543434450009, -36.822540010561006, -38.57736774480464, -40.37697908328986, -42.218025155020634, -44.09678777831488, -46.009234419677426, -47.95108591994344, -49.917895068734445, -51.905133357886534, -53.90828264591353, -55.922928084822466, -57.944848540799086, -59.97010089434957, -61.99509501394563, -64.01665681153162, -66.03207753887051, -68.03914829111596, -70.03617947037351, -72.02200566127317, -73.995976935247, -75.9579380044423, -77.9081968851333, -79.84748481684008, -81.77690914245291, -83.69790071906615, -85.61215723392293, -87.52158357841243, -89.42823021505498, -91.33423028209148, -93.24173603602824, -95.15285514679272, -97.06958733995654, -98.99376192736617, -100.92697687778303, -102.87054024364566, -104.82541496399708, -106.79216828623733, -108.77092726417317, -110.76134196543528, -112.76255812321213, -114.77320096087985, -116.79137177318113, -118.81465854319335, -120.84016140420765, -122.8645331327999, -124.88403411842101, -126.89460045126145, -128.89192297576756, -130.8715344518423, -132.8289014263964, -134.75951710687949, -136.65899148335956, -138.52313517324913, -140.34803393732238, -142.1301114838669, -143.86617896723658, -145.55347041764307, -147.1896641343835, -148.7728907717719, -150.3017294020295, -151.77519323002008, -153.1927068588396, -154.55407707705055, -155.85945908298837, -157.109319910011, -158.30440060071734, -159.44567842744442, -160.53433019539997, -161.57169741249936, -162.55925387940772, -163.49857605227163, -164.39131636265196, -165.23917954450516, -166.04390191467937, -166.8072334779379, -167.53092267591362, -168.2167035674316, -168.8662852112438, -169.48134301775835, -170.0635118406425, -170.6143805896015, -171.13548816005664, -171.62832049220134, -172.09430858974147, -172.53482734660508, -172.95119504738025, -173.3446734237855, -173.7164681648168], \"y\": [18.061795353466778, 18.061794815400575, 18.06179421133107, 18.061793533161804, 18.061792771803148, 18.061791917050474, 18.06179095744739, 18.06178988013218, 18.061788670665422, 18.061787312836465, 18.06178578844615, 18.061784077062892, 18.061782155748848, 18.061779998752485, 18.061777577163426, 18.06177485852501, 18.061771806399257, 18.061768379878544, 18.06176453303732, 18.061760214316628, 18.0617553658331, 18.06174992260322, 18.061743811672414, 18.06173695113738, 18.06172924904845, 18.061720602177374, 18.061710894633983, 18.06169999631321, 18.061687761151642, 18.061674025170305, 18.061658604277476, 18.061641291802022, 18.061621855724365, 18.06160003556795, 18.061575538909594, 18.06154803746211, 18.06151716267673, 18.06148250080657, 18.061443587365137, 18.06139990090578, 18.061350856039063, 18.06129579559475, 18.06123398182375, 18.06116458652284, 18.06108667995017, 18.060999218384207, 18.060901030160203, 18.06079079999851, 18.060667051416498, 18.06052812699039, 18.06037216620535, 18.06019708060036, 18.060000525879193, 18.059779870619124, 18.059532161165055, 18.059254082247204, 18.058941912805633, 18.058591476443393, 18.058198085861775, 18.057756480555007, 18.057260756957042, 18.05670429013931, 18.05607964605383, 18.05537848320108, 18.05459144247425, 18.05370802379144, 18.052716447972415, 18.051603502147714, 18.05035436680242, 18.04895242235585, 18.047379032960166, 18.045613304966054, 18.043631817252408, 18.04140832035021, 18.03891340101088, 18.03611410857886, 18.032973539232028, 18.02945037385749, 18.025498365043994, 18.021065768406217, 18.016094713226902, 18.01052050722957, 18.004270870202667, 17.99726509121796, 17.989413104361166, 17.98061447827014, 17.97075731541532, 17.959717058029145, 17.947355198980116, 17.9335178977902, 17.918034504521806, 17.900715997534846, 17.881353345265893, 17.859715807343896, 17.835549196657567, 17.80857413153599, 17.778484316065953, 17.744944896752177, 17.70759095514157, 17.666026208455243, 17.61982200330093, 17.568516700545096, 17.511615561510784, 17.44859125563172, 17.378885116019454, 17.301909270283396, 17.217049767373002, 17.123670805121762, 17.02112013567843, 16.908735685724892, 16.785853374796133, 16.6518160489211, 16.50598337063635, 16.34774242452111, 16.17651871598293, 15.991787167863832, 15.793082663161233, 15.580009651178745, 15.35225033564818, 15.109571000890833, 14.851826106134173, 14.57895988448059, 14.2910053133195, 13.988080465478117, 13.670382391704921, 13.33817881196371, 12.99179799435841, 12.631617268733827, 12.258050653875163, 11.871536073903059, 11.472522605787397, 11.061458143315724, 10.63877779202975, 10.20489323324362, 9.760183220912324, 9.30498530878569, 8.839588850967807, 8.364229278780652, 7.879083631086052, 7.384267302983178, 6.879831977110646, 6.365764710022291, 5.841988160248075, 5.3083619614540964, 4.764685260251059, 4.210700450362459, 3.6460981398777643, 3.070523383292266, 2.4835831925827514, 1.8848553100818624, 1.2738981799211628, 0.6502619953369061, 0.013500629002130822, -0.6368158224371089, -1.3010882236040666, -1.9796757255895683, -2.672883689707227, -3.3809526907179737, -4.104049070077186, -4.842257463241669, -5.595575642961882, -6.363911907792068, -7.147085110910732, -7.944827280921279, -8.756788647128886, -9.582544759808778, -10.421605301749018, -11.273424127657991, -12.137410045284373, -13.01293786442823, -13.899359282065095, -14.796013235880721, -15.702235435987015, -16.617366867058532, -17.5407611333839, -18.4717905918745, -19.40985127935957, -20.354366688772515, -21.30479048388519, -22.26060826497499, -23.22133850985108, -24.186532818003847, -25.155775582351353, -26.12868320507105, -27.104902963029605, -28.084111615739836, -29.06601383566891, -30.050340527871565, -31.03684709386755, -32.02531168374006, -33.015533470774876, -34.0073309746271, -35.00054045196726, -35.99501436772555, -36.99061995531276, -37.987237870409814, -38.98476093995971, -39.983093005729835, -40.9821478601297, -41.98184827075618]}, {\"hovertemplate\": \"<b>w</b>: %{text:.3f} rad/s<br><b>mag</b>: %{y:.3f} dB<br><b>phase</b>: %{x:.3f} deg<br>\", \"line\": {\"color\": \"#ff7f0e\"}, \"name\": \"sys\", \"showlegend\": false, \"text\": [0.01, 0.010595601792776159, 0.011226677735108135, 0.011895340673703195, 0.012603829296797275, 0.013354515629298987, 0.01414991297434576, 0.014992684327860457, 0.015885651294280528, 0.016831803533309566, 0.017834308769319095, 0.018896523396912095, 0.020022003718155844, 0.021214517849106298, 0.02247805833548725, 0.023816855519761582, 0.02523539170434766, 0.026738416158399468, 0.02833096101839324, 0.03001835813575589, 0.031806256927941194, 0.03370064329271928, 0.03570785964900463, 0.03783462617131929, 0.04008806328898465, 0.04247571552536898, 0.04500557675700498, 0.04768611697714469, 0.0505263106533568, 0.053535666774107246, 0.05672426068491978, 0.06010276782070382, 0.06368249944718586, 0.06747544053110693, 0.07149428986597577, 0.07575250258771912, 0.08026433522257174, 0.08504489341802678, 0.09011018251665019, 0.09547716114208056, 0.10116379797662076, 0.10718913192051281, 0.11357333583431058, 0.12033778407775898, 0.12750512407130135, 0.13509935211980273, 0.14314589375234793, 0.15167168884709234, 0.16070528182616392, 0.17027691722259003, 0.18041864093920726, 0.19116440753857028, 0.20255019392306675, 0.21461411978584047, 0.22739657523579287, 0.24094035602395256, 0.2552908068239518, 0.27049597304631356, 0.2866067616948252, 0.3036771118035459, 0.3217641750250737, 0.3409285069746813, 0.3612342699709432, 0.3827494478516313, 0.40554607358408296, 0.42970047043208415, 0.455293507486695, 0.48241087041653713, 0.5111433483440168, 0.5415871378079473, 0.5738441648302396, 0.6080224261649424, 0.6442363508721374, 0.6826071834272389, 0.7232633896483537, 0.7663410868007459, 0.8119844993184013, 0.8603464416684504, 0.9115888299750823, 0.9658832241158704, 1.0234114021054537, 1.0843659686896108, 1.1489510001873098, 1.217382727739662, 1.2898902612533094, 1.3667163564620073, 1.4481182276745346, 1.5343684089300131, 1.625755666443795, 1.7225859653987874, 1.8251834943190444, 1.933891750455232, 2.049074689815848, 2.171117945694505, 2.300430119772919, 2.437444150122222, 2.5826187606826774, 2.736439997074672, 2.899422853882878, 3.0721129988617593, 3.2550885998350596, 3.44896226040576, 3.654383070957258, 3.8720387818125572, 4.102658105827195, 4.347013158125026, 4.605922041145108, 4.880251583654434, 5.17092024289676, 5.478901179593945, 5.805225516094902, 6.150985788580504, 6.517339604882427, 6.905513520162331, 7.3168071434272, 7.752597488629465, 8.21434358491943, 8.703591361485167, 9.221978823334332, 9.771241535346501, 10.353218432956627, 10.96985797892384, 11.62322468679853, 12.315506032928262, 13.049019780144029, 13.826221737646565, 14.649713983072864, 15.52225357427048, 16.446761779946645, 17.42633386009651, 18.464249428955444, 19.56398343517065, 20.72921779595372, 21.96385372416547, 23.272024789604096, 24.658110758226037, 26.126752255633292, 27.682866303920665, 29.331662783900455, 31.07866187782014, 32.929712550971516, 34.891012134067736, 36.96912707195028, 39.17101490809261, 41.50404757850477, 43.97603609302721, 46.59525668664682, 49.37047852839004, 52.31099308056263, 55.42664520663107, 58.72786613189483, 62.22570836730231, 65.93188271333548, 69.8587974678525, 74.01959996915645, 78.42822061337682, 83.09941949353396, 88.04883581643465, 93.29304026284686, 98.84959046625586, 104.73708979594508, 110.97524964120721, 117.58495540521582, 124.58833642950081, 132.00884008314193, 139.87131026472386, 148.202070579886, 157.02901247293775, 166.38168860761309, 176.2914118095948, 186.79135990207848, 197.91668678535575, 209.7046401323235, 222.19468609395238, 235.42864143224202, 249.45081352303166, 264.30814869741084, 280.0503894183631, 296.73024081888724, 314.40354715915, 333.1294787934677, 352.970730273065, 373.99373024788014, 396.2688638701478, 419.8707084443914, 444.87828311275854, 471.3753134116729, 499.450511585514, 529.1978735958447, 560.7169938205458, 594.113398496504, 629.4988990221888, 666.9919663030129, 706.7181273927491, 748.810385759003, 793.4096665797492, 840.6652885618333, 890.735463861044, 943.7878277775391, 1000.0], \"type\": \"scatter\", \"x\": [-0.06302533834671024, -0.06677913631287355, -0.07075651068792507, -0.07497077763358033, -0.07943604640764754, -0.08416726659773274, -0.08918027816759853, -0.09449186448362612, -0.10011980849862676, -0.10608295228098608, -0.11240126008814225, -0.11909588519523033, -0.12618924070244827, -0.1337050745575989, -0.14166854904453802, -0.15010632500311735, -0.1590466510617581, -0.16851945818076186, -0.17855645982166665, -0.18919125807688614, -0.200459456113615, -0.2123987773066696, -0.22504919145717214, -0.2384530485171149, -0.25265522026492926, -0.2677032504027057, -0.2836475135737757, -0.30054138382806733, -0.3184414130936643, -0.33740752024533704, -0.35750319139470677, -0.3787956920633434, -0.4013562919374764, -0.4252605029433013, -0.45058833142364374, -0.47742454524132383, -0.5058589566801566, -0.5359867220638896, -0.5679086590636814, -0.6017315827178761, -0.6375686612433535, -0.6755397927752586, -0.7157720042315856, -0.7583998735608447, -0.803565976695233, -0.8514213605962884, -0.9021260438476069, -0.9558495463161752, -1.0127714494728535, -1.0730819890297327, -1.1369826816199133, -1.204686987309742, -1.2764210097959403, -1.3524242361967453, -1.4329503183972025, -1.5182678979499649, -1.6086614765639748, -1.704432334227959, -1.8058994970127353, -1.913400756569289, -2.0272937432834937, -2.147957054955709, -2.2757914427377166, -2.4112210558691793, -2.5546947465003784, -2.7066874355544766, -2.8677015401539174, -3.0382684625936665, -3.2189501401671885, -3.410340654312212, -3.613067896514003, -3.8277952871476946, -4.055223541918592, -4.296092478722788, -4.551182855547359, -4.821318227397363, -5.107366807108977, -5.410243311204534, -5.7309107675830075, -6.070382256722649, -6.429722552102151, -6.81004961861579, -7.212535919759647, -7.638409475194532, -8.08895459985191, -8.565512243965548, -9.069479840241646, -9.60231054983094, -10.165511782920843, -10.760642852809408, -11.389311604583542, -12.053169841514151, -12.753907354753666, -13.493244345926994, -14.272922019161236, -15.094691110843595, -15.960298124257706, -16.871469045074406, -17.82989033583039, -18.83718704685149, -19.894897941715346, -21.00444762151179, -22.16711574770658, -23.38400361126682, -24.655998477084356, -25.98373634621009, -27.36756401888227, -28.807501598971623, -30.30320683992411, -31.853942972309014, -33.45855184694186, -35.11543434450009, -36.822540010561006, -38.57736774480464, -40.37697908328986, -42.218025155020634, -44.09678777831488, -46.009234419677426, -47.95108591994344, -49.917895068734445, -51.905133357886534, -53.90828264591353, -55.922928084822466, -57.944848540799086, -59.97010089434957, -61.99509501394563, -64.01665681153162, -66.03207753887051, -68.03914829111596, -70.03617947037351, -72.02200566127317, -73.995976935247, -75.9579380044423, -77.9081968851333, -79.84748481684008, -81.77690914245291, -83.69790071906615, -85.61215723392293, -87.52158357841243, -89.42823021505498, -91.33423028209148, -93.24173603602824, -95.15285514679272, -97.06958733995654, -98.99376192736617, -100.92697687778303, -102.87054024364566, -104.82541496399708, -106.79216828623733, -108.77092726417317, -110.76134196543528, -112.76255812321213, -114.77320096087985, -116.79137177318113, -118.81465854319335, -120.84016140420765, -122.8645331327999, -124.88403411842101, -126.89460045126145, -128.89192297576756, -130.8715344518423, -132.8289014263964, -134.75951710687949, -136.65899148335956, -138.52313517324913, -140.34803393732238, -142.1301114838669, -143.86617896723658, -145.55347041764307, -147.1896641343835, -148.7728907717719, -150.3017294020295, -151.77519323002008, -153.1927068588396, -154.55407707705055, -155.85945908298837, -157.109319910011, -158.30440060071734, -159.44567842744442, -160.53433019539997, -161.57169741249936, -162.55925387940772, -163.49857605227163, -164.39131636265196, -165.23917954450516, -166.04390191467937, -166.8072334779379, -167.53092267591362, -168.2167035674316, -168.8662852112438, -169.48134301775835, -170.0635118406425, -170.6143805896015, -171.13548816005664, -171.62832049220134, -172.09430858974147, -172.53482734660508, -172.95119504738025, -173.3446734237855, -173.7164681648168], \"y\": [30.102995180026024, 30.102994641959825, 30.10299403789032, 30.10299335972105, 30.102992598362395, 30.10299174360972, 30.102990784006636, 30.102989706691424, 30.102988497224672, 30.10298713939571, 30.102985615005394, 30.10298390362214, 30.102981982308098, 30.102979825311728, 30.102977403722676, 30.10297468508426, 30.102971632958507, 30.10296820643779, 30.102964359596566, 30.102960040875875, 30.10295519239235, 30.10294974916247, 30.102943638231665, 30.10293677769663, 30.102929075607697, 30.10292042873662, 30.102910721193233, 30.10289982287246, 30.102887587710892, 30.102873851729555, 30.102858430836722, 30.10284111836127, 30.10282168228361, 30.1027998621272, 30.10277536546884, 30.102747864021357, 30.102716989235976, 30.10268232736582, 30.102643413924383, 30.10259972746503, 30.102550682598313, 30.102495622153995, 30.102433808383, 30.102364413082086, 30.102286506509415, 30.102199044943454, 30.10210085671945, 30.101990626557757, 30.101866877975745, 30.10172795354964, 30.101571992764597, 30.10139690715961, 30.10120035243844, 30.10097969717837, 30.100731987724302, 30.10045390880645, 30.100141739364883, 30.09979130300264, 30.099397912421022, 30.09895630711425, 30.09846058351629, 30.097904116698558, 30.097279472613078, 30.096578309760325, 30.0957912690335, 30.09490785035069, 30.09391627453166, 30.092803328706957, 30.091554193361667, 30.090152248915096, 30.088578859519416, 30.086813131525304, 30.084831643811654, 30.08260814690946, 30.08011322757013, 30.07731393513811, 30.074173365791275, 30.07065020041674, 30.066698191603244, 30.062265594965467, 30.057294539786152, 30.05172033378882, 30.045470696761917, 30.038464917777205, 30.030612930920416, 30.02181430482939, 30.01195714197457, 30.000916884588392, 29.988555025539366, 29.97471772434945, 29.959234331081053, 29.94191582409409, 29.922553171825143, 29.900915633903146, 29.87674902321681, 29.849773958095234, 29.8196841426252, 29.786144723311423, 29.748790781700816, 29.707226035014493, 29.661021829860175, 29.609716527104347, 29.552815388070034, 29.489791082190962, 29.4200849425787, 29.343109096842642, 29.25824959393225, 29.164870631681005, 29.06231996223768, 28.949935512284142, 28.827053201355383, 28.69301587548035, 28.547183197195597, 28.38894225108036, 28.21771854254218, 28.03298699442308, 27.83428248972048, 27.62120947773799, 27.393450162207426, 27.15077082745008, 26.89302593269342, 26.620159711039836, 26.332205139878745, 26.029280292037363, 25.71158221826417, 25.379378638522958, 25.032997820917657, 24.67281709529307, 24.29925048043441, 23.912735900462305, 23.513722432346643, 23.102657969874972, 22.679977618589, 22.24609305980287, 21.80138304747157, 21.34618513534494, 20.880788677527057, 20.4054291053399, 19.9202834576453, 19.425467129542426, 18.921031803669894, 18.40696453658154, 17.88318798680732, 17.349561788013343, 16.805885086810306, 16.251900276921706, 15.687297966437013, 15.111723209851514, 14.524783019142, 13.92605513664111, 13.31509800648041, 12.691461821896155, 12.054700455561377, 11.40438400412214, 10.74011160295518, 10.06152410096968, 9.368316136852021, 8.660247135841274, 7.937150756482062, 7.198942363317578, 6.445624183597366, 5.677287918767179, 4.8941147156485165, 4.096372545637968, 3.284411179430362, 2.45865506675047, 1.6195945248102301, 0.7677756989012572, -0.09621021872512608, -0.9717380378689809, -1.858159455505847, -2.754813409321473, -3.661035609427766, -4.576167040499283, -5.499561306824651, -6.43059076531525, -7.368651452800327, -8.313166862213269, -9.26359065732594, -10.219408438415742, -11.180138683291831, -12.145332991444599, -13.114575755792103, -14.087483378511802, -15.063703136470357, -16.042911789180586, -17.024814009109665, -18.00914070131232, -18.9956472673083, -19.984111857180807, -20.974333644215633, -21.966131148067852, -22.959340625408018, -23.953814541166306, -24.949420128753516, -25.94603804385056, -26.943561113400463, -27.941893179170584, -28.940948033570454, -29.940648444196935]}, {\"hoverinfo\": \"name\", \"line\": {\"color\": \"#555\", \"dash\": \"dot\", \"width\": 1}, \"name\": \"6.00 dB\", \"showlegend\": false, \"type\": \"scatter\", \"x\": [-181.0044525859156, -182.00706208752763, -183.0059994899574, -183.99946365000403, -184.98569457347367, -187.408591693385, -189.75111962661822, -194.11400997325404, -197.95308877480693, -201.2110046386224, -203.882655271241, -208.76368925804854, -210.07854669531383, -209.08573699075276, -206.61944411079287, -203.19624885388873, -199.14024541544325, -194.6633656344593, -189.91215173606156, -181.66883360739166, -180.0, -178.33116639260837, -170.08784826393844, -165.33663436554068, -160.85975458455675, -156.8037511461113, -153.38055588920716, -150.91426300924724, -149.92145330468617, -151.23631074195146, -156.11734472875898, -158.78899536137763, -162.04691122519313, -165.88599002674593, -170.24888037338178, -172.59140830661497, -175.0143054265264, -176.00053634999594, -176.99400051004255, -177.99293791247237, -178.9955474140844], \"y\": [6.038584887637681, 6.030603754626434, 6.017337064173958, 5.998837145331412, 5.975176335900421, 5.894089570862205, 5.783261698845564, 5.4826074459056695, 5.096695738427625, 4.650493262050236, 4.166800369039922, 2.6567802911877996, 1.2493792041125524, 0.03595583500082545, -0.9732279370869548, -1.7915587587987878, -2.436272660456205, -2.922504047148822, -3.2618637150774954, -3.5213402361322443, -3.528697248729707, -3.5213402361322443, -3.261863715077498, -2.9225040471488253, -2.4362726604562077, -1.7915587587987878, -0.9732279370869548, 0.03595583500082353, 1.2493792041125524, 2.6567802911877987, 4.166800369039918, 4.650493262050238, 5.096695738427627, 5.482607445905669, 5.783261698845564, 5.894089570862203, 5.975176335900418, 5.998837145331412, 6.017337064173956, 6.030603754626437, 6.038584887637679]}, {\"hoverinfo\": \"name\", \"line\": {\"color\": \"#555\", \"dash\": \"dot\", \"width\": 1}, \"name\": \"4.50 dB\", \"showlegend\": false, \"type\": \"scatter\", \"x\": [-181.4724497747709, -182.94053453303707, -184.39994825392046, -185.84650092910033, -187.27617174509305, -190.75217060129603, -194.04782925162294, -199.95404036624222, -204.83210667473122, -208.68224569908432, -211.59873481970862, -216.0434861365511, -216.3034020354096, -214.2249730320999, -210.78065610570218, -206.49674595708598, -201.67670372193174, -196.50811972546967, -191.11570241797403, -181.8661281184768, -180.0, -178.1338718815232, -168.88429758202602, -163.49188027453036, -158.32329627806834, -153.50325404291405, -149.21934389429782, -145.77502696790006, -143.69659796459038, -143.95651386344886, -148.4012651802914, -151.31775430091568, -155.16789332526872, -160.04595963375783, -165.952170748377, -169.2478293987039, -172.72382825490698, -174.15349907089958, -175.60005174607946, -177.05946546696296, -178.52755022522916], \"y\": [7.860294671052302, 7.845876388527615, 7.821956628087225, 7.788698855901153, 7.746326850058227, 7.602475724919653, 7.409128666254982, 6.901942494349976, 6.283139435004392, 5.604984995200892, 4.906680254481285, 2.9037400647152682, 1.1967169099353043, -0.19729262192201408, -1.3187948000206213, -2.20931629982923, -2.90140506786829, -3.4187094849675725, -3.7776698649380096, -4.051079413132717, -4.058818833856429, -4.051079413132717, -3.7776698649380096, -3.4187094849675708, -2.901405067868292, -2.20931629982923, -1.3187948000206222, -0.19729262192201702, 1.1967169099353043, 2.9037400647152674, 4.906680254481281, 5.604984995200892, 6.283139435004392, 6.901942494349976, 7.409128666254982, 7.602475724919653, 7.746326850058227, 7.788698855901152, 7.821956628087225, 7.845876388527615, 7.860294671052302]}, {\"hoverinfo\": \"name\", \"line\": {\"color\": \"#555\", \"dash\": \"dot\", \"width\": 1}, \"name\": \"5.00 dB\", \"showlegend\": false, \"type\": \"scatter\", \"x\": [-181.2843538098457, -182.56552395414678, -183.84036167849126, -185.10578709960828, -186.35882131113408, -189.4188928071585, -192.34434185722307, -197.6720834084416, -202.1882389611137, -205.85806426797956, -208.7268373251818, -213.42976059801913, -214.11736671930305, -212.4442511724585, -209.35084685018177, -205.368786393326, -200.81292692355942, -195.88135998422672, -190.70739357548985, -181.7992651620906, -180.0, -178.20073483790938, -169.29260642451015, -164.11864001577322, -159.18707307644067, -154.63121360667404, -150.64915314981823, -147.5557488275415, -145.88263328069692, -146.5702394019809, -151.2731626748182, -154.14193573202047, -157.81176103888635, -162.32791659155836, -167.65565814277696, -170.58110719284156, -173.64117868886592, -174.89421290039164, -176.15963832150874, -177.4344760458533, -178.71564619015427], \"y\": [7.173407114486652, 7.16178287503579, 7.142481928545683, 7.115612065794017, 7.081321471698646, 6.9644340828316516, 6.806199690943643, 6.3852195959981195, 5.860772796374144, 5.273618322945895, 4.65689512007145, 2.8319809100891296, 1.2269406770671736, -0.10782534148071539, -1.1933104806609445, -2.0610155313526777, -2.738271724514311, -3.245907761671381, -3.5987938604908862, -3.867897044997595, -3.875518407124992, -3.867897044997595, -3.598793860490885, -3.245907761671381, -2.738271724514311, -2.0610155313526777, -1.1933104806609456, -0.10782534148071733, 1.2269406770671736, 2.8319809100891282, 4.6568951200714475, 5.273618322945897, 5.860772796374145, 6.385219595998121, 6.806199690943643, 6.964434082831655, 7.081321471698646, 7.115612065794014, 7.142481928545682, 7.16178287503579, 7.173407114486652]}, {\"hoverinfo\": \"name\", \"line\": {\"color\": \"#555\", \"dash\": \"dot\", \"width\": 1}, \"name\": \"3.00 dB\", \"showlegend\": false, \"type\": \"scatter\", \"x\": [-182.42156130189062, -184.82844943546547, -187.20643299081019, -189.54213134653503, -191.8233626783699, -197.22187957454412, -202.09598892987356, -210.09301738566455, -215.8791234237175, -219.8563069529548, -222.4551688385875, -225.06798311222548, -223.50196919041633, -219.93702449004138, -215.29642457077978, -210.02487275397982, -204.36172377497314, -198.44853900143266, -192.37662214327372, -182.07224305175168, -180.0, -177.92775694824832, -167.6233778567263, -161.5514609985674, -155.63827622502694, -149.9751272460202, -144.70357542922022, -140.06297550995865, -136.49803080958367, -134.93201688777452, -137.54483116141245, -140.1436930470452, -144.12087657628254, -149.90698261433542, -157.9040110701264, -162.7781204254559, -168.17663732163007, -170.45786865346497, -172.7935670091897, -175.17155056453453, -177.57843869810938], \"y\": [10.679764301197936, 10.647034445747146, 10.593037830089836, 10.518575471800114, 10.424714401516344, 10.11401746557135, 9.714033764687105, 8.743853755272685, 7.678062347477537, 6.616357953051257, 5.606844160199614, 3.0102938424173917, 1.0059460068552415, -0.5489159148760905, -1.764348624364853, -2.712947800201404, -3.4422186673114457, -3.9835217795043447, -4.357464956087062, -4.641452702670781, -4.649481613751726, -4.641452702670781, -4.357464956087062, -3.9835217795043465, -3.4422186673114457, -2.7129478002014027, -1.764348624364854, -0.5489159148760926, 1.0059460068552415, 3.010293842417389, 5.606844160199607, 6.61635795305126, 7.67806234747754, 8.743853755272685, 9.714033764687107, 10.11401746557135, 10.424714401516344, 10.518575471800109, 10.59303783008983, 10.647034445747146, 10.679764301197936]}, {\"hoverinfo\": \"name\", \"line\": {\"color\": \"#555\", \"dash\": \"dot\", \"width\": 1}, \"name\": \"1.00 dB\", \"showlegend\": false, \"type\": \"scatter\", \"x\": [-188.12984536554268, -195.88621216474792, -202.9844437398292, -209.27055340099685, -214.7096153155495, -224.98959838098392, -231.68544618825558, -238.9060061369517, -241.93858840592924, -242.95955537487828, -242.88818452740378, -239.59670953467293, -234.31238992498834, -228.21444019414758, -221.70905190957956, -214.9736246071892, -208.09857633531192, -201.13560158246298, -194.1172919529556, -182.35615618485986, -180.0, -177.6438438151401, -165.88270804704442, -158.86439841753705, -151.90142366468808, -145.0263753928108, -138.29094809042041, -131.78555980585242, -125.68761007501163, -120.40329046532707, -117.11181547259622, -117.04044462512172, -118.06141159407076, -121.0939938630483, -128.3145538117444, -135.0104016190161, -145.29038468445046, -150.72944659900304, -157.0155562601706, -164.11378783525214, -171.87015463445724], \"y\": [19.17292087222408, 18.88999404600427, 18.45599908317477, 17.91331788277162, 17.30269583621942, 15.674169524423078, 14.099770859367858, 11.392809577292622, 9.232708314999615, 7.475525714001363, 6.009559815241832, 2.725327008857705, 0.44275075770600797, -1.2482454597388433, -2.5390189104386724, -3.5327626980741282, -4.29037960222416, -4.8497530368011, -5.234889529168014, -5.526739523137509, -5.534983129163744, -5.526739523137509, -5.2348895291680115, -4.8497530368011015, -4.290379602224161, -3.5327626980741273, -2.5390189104386733, -1.2482454597388464, 0.44275075770600797, 2.7253270088577004, 6.009559815241823, 7.4755257140013684, 9.232708314999618, 11.392809577292622, 14.099770859367855, 15.674169524423071, 17.302695836219414, 17.913317882771604, 18.455999083174753, 18.88999404600427, 19.172920872224083]}, {\"hoverinfo\": \"name\", \"line\": {\"color\": \"#555\", \"dash\": \"dot\", \"width\": 1}, \"name\": \"0.50 dB\", \"showlegend\": false, \"type\": \"scatter\", \"x\": [-196.3718246156576, -210.241776113004, -220.80355193113053, -228.51181527270387, -234.1134646185559, -242.54794804403969, -246.79435053744254, -250.17113669346753, -250.7317375930338, -250.10476324945597, -248.87064427851567, -243.52619111012865, -237.14681544455618, -230.35244392901245, -223.35180491824565, -216.23515197605684, -209.04823910924426, -201.81713920054904, -194.55825435352733, -182.42801843030043, -180.0, -177.57198156969963, -165.44174564647267, -158.18286079945094, -150.95176089075574, -143.76484802394313, -136.64819508175432, -129.64755607098758, -122.85318455544379, -116.47380888987135, -111.12935572148433, -109.89523675054403, -109.26826240696619, -109.82886330653247, -113.20564946255746, -117.45205195596026, -125.88653538144405, -131.488184727296, -139.19644806886924, -149.75822388699612, -163.6281753843424], \"y\": [24.66386078734449, 23.68619318037223, 22.428476998260905, 21.119016837844416, 19.86570394081788, 17.148405136599663, 14.97381756434649, 11.709190668056703, 9.318257934761284, 7.44651521952795, 5.916081684987016, 2.548102112298766, 0.2356286732226798, -1.469242571571364, -2.7674915645818707, -3.7656469575966494, -4.526008275446839, -5.0871210227374375, -5.473330927281008, -5.765933081450027, -5.774197205849433, -5.765933081450027, -5.4733309272810065, -5.0871210227374375, -4.5260082754468405, -3.765646957596645, -2.767491564581872, -1.4692425715713675, 0.2356286732226798, 2.548102112298763, 5.916081684987007, 7.446515219527955, 9.318257934761288, 11.709190668056703, 14.973817564346488, 17.148405136599656, 19.86570394081787, 21.119016837844388, 22.428476998260866, 23.68619318037224, 24.663860787344486]}, {\"hoverinfo\": \"name\", \"line\": {\"color\": \"#555\", \"dash\": \"dot\", \"width\": 1}, \"name\": \"0.00 dB\", \"showlegend\": false, \"type\": \"scatter\", \"x\": [-269.4999999999999, -268.99999999999994, -268.50000000000006, -268.00000000000006, -267.5, -266.25, -265.0, -262.5, -260.0, -257.5, -255.0, -247.5, -240.0, -232.5, -225.0, -217.5, -210.0, -202.5, -195.0, -182.5, -180.0, -177.5, -165.0, -157.5, -150.0, -142.5, -135.0, -127.5, -120.0, -112.5, -105.0, -102.5, -100.0, -97.5, -95.0, -93.75, -92.5, -92.0, -91.5, -91.00000000000006, -90.50000000000011], \"y\": [35.16256289318372, 29.14229371826325, 25.62101977894313, 23.123016808799058, 21.185808854403394, 17.667429531589104, 15.173479920117972, 11.665446712198822, 9.185995486488366, 7.272665074459145, 5.719475475333597, 2.322606875058725, 0.0, -1.7095424698920367, -3.0102999566398116, -4.009933005441557, -4.771212547196625, -5.332906831698536, -5.719475475333596, -6.0123289342854225, -6.020599913279624, -6.0123289342854225, -5.719475475333596, -5.332906831698536, -4.771212547196625, -4.009933005441557, -3.0102999566398125, -1.709542469892039, 0.0, 2.3226068750587205, 5.719475475333587, 7.27266507445915, 9.18599548648837, 11.665446712198822, 15.17347992011797, 17.667429531589097, 21.185808854403376, 23.12301680879902, 25.621019778943044, 29.142293718263286, 35.1625628931837]}, {\"hoverinfo\": \"name\", \"line\": {\"color\": \"#555\", \"dash\": \"dot\", \"width\": 1}, \"name\": \"-0.30 dB\", \"showlegend\": false, \"type\": \"scatter\", \"x\": [-332.6885302407641, -313.6907864638013, -301.9018874453705, -294.3115400875977, -289.07853460992976, -281.0094155307614, -276.1649887610529, -269.9723165990006, -265.59313172641555, -261.95374371864057, -258.6872605885806, -249.8871554737882, -241.71311925670193, -233.7891476040948, -225.9892663909249, -218.25912181869262, -210.57119105676304, -202.90980129166792, -195.26509758258123, -182.54319658780867, -180.0, -177.45680341219133, -164.73490241741874, -157.09019870833208, -149.42880894323696, -141.74087818130738, -134.01073360907512, -126.21085239590522, -118.2868807432981, -110.11284452621186, -101.31273941141939, -98.04625628135943, -94.40686827358445, -90.02768340099936, -83.83501123894712, -78.99058446923863, -70.9214653900703, -65.6884599124025, -58.09811255462978, -46.30921353619857, -27.311469759235933], \"y\": [28.095881159058045, 26.02732250694666, 23.901682762437574, 22.02173122476455, 20.40337257062739, 17.224700580574858, 14.856217109438761, 11.44007437475331, 8.993248860230516, 7.095101914820542, 5.5501814045845554, 2.1637707838956795, -0.15517824318127627, -1.8630363856169732, -3.162889850005191, -4.1619905308118375, -4.922939314369941, -5.484424143476101, -5.870863587065886, -6.163626542554362, -6.17189505302105, -6.163626542554362, -5.870863587065886, -5.484424143476101, -4.922939314369941, -4.1619905308118375, -3.162889850005191, -1.8630363856169767, -0.15517824318127627, 2.163770783895675, 5.550181404584546, 7.095101914820546, 8.99324886023052, 11.440074374753312, 14.85621710943876, 17.22470058057485, 20.40337257062738, 22.02173122476452, 23.901682762437517, 26.02732250694668, 28.09588115905804]}, {\"hoverinfo\": \"name\", \"line\": {\"color\": \"#555\", \"dash\": \"dot\", \"width\": 1}, \"name\": \"-1.00 dB\", \"showlegend\": false, \"type\": \"scatter\", \"x\": [-350.87015463445726, -342.1137878352521, -334.01555626017085, -326.72944659900315, -320.29038468445054, -307.51040161901614, -298.3145538117444, -286.09399386304824, -278.06141159407076, -272.0404446251217, -267.1118154725962, -255.40329046532707, -245.68761007501166, -236.78555980585242, -228.29094809042044, -220.0263753928108, -211.90142366468808, -203.86439841753702, -195.8827080470444, -182.64384381514014, -180.0, -177.35615618485994, -164.1172919529556, -156.13560158246298, -148.09857633531195, -139.9736246071892, -131.70905190957959, -123.21444019414761, -114.31238992498837, -104.59670953467293, -92.88818452740384, -87.95955537487828, -81.93858840592918, -73.9060061369517, -61.68544618825558, -52.489598380983864, -39.70961531554951, -33.27055340099696, -25.98444373982943, -17.88621216474786, -9.129845365542792], \"y\": [18.172920872224083, 17.889994046004272, 17.45599908317476, 16.91331788277161, 16.302695836219424, 14.674169524423068, 13.099770859367856, 10.39280957729262, 8.232708314999616, 6.475525714001364, 5.009559815241831, 1.7253270088577046, -0.5572492422939905, -2.2482454597388433, -3.539018910438671, -4.532762698074128, -5.290379602224159, -5.8497530368011, -6.234889529168011, -6.526739523137509, -6.534983129163744, -6.526739523137509, -6.234889529168011, -5.8497530368011, -5.290379602224158, -4.532762698074128, -3.5390189104386724, -2.248245459738846, -0.5572492422939905, 1.7253270088577017, 5.009559815241822, 6.47552571400137, 8.232708314999618, 10.392809577292624, 13.099770859367855, 14.674169524423066, 16.302695836219417, 16.9133178827716, 17.455999083174746, 17.889994046004276, 18.17292087222408]}, {\"hoverinfo\": \"name\", \"line\": {\"color\": \"#555\", \"dash\": \"dot\", \"width\": 1}, \"name\": \"-3.00 dB\", \"showlegend\": false, \"type\": \"scatter\", \"x\": [-356.5784386981094, -353.1715505645345, -349.7935670091898, -346.457868653465, -343.1766373216301, -335.27812042545594, -327.9040110701264, -314.9069826143354, -304.1208765762825, -295.1436930470452, -287.54483116141245, -269.9320168877745, -256.4980308095836, -245.06297550995862, -234.70357542922022, -224.97512724602018, -215.6382762250269, -206.55146099856734, -197.62337785672628, -182.92775694824832, -180.0, -177.0722430517517, -162.3766221432737, -153.44853900143264, -144.36172377497311, -135.02487275397982, -125.29642457077978, -114.93702449004138, -103.50196919041639, -90.06798311222553, -72.45516883858761, -64.85630695295481, -55.87912342371749, -45.09301738566461, -32.09598892987361, -24.72187957454412, -16.82336267836996, -13.54213134653503, -10.206432990810299, -6.828449435465473, -3.4215613018906197], \"y\": [7.6797643011979355, 7.647034445747147, 7.593037830089832, 7.51857547180011, 7.424714401516347, 7.114017465571349, 6.714033764687107, 5.743853755272688, 4.678062347477541, 3.6163579530512586, 2.6068441601996146, 0.010293842417393655, -1.9940539931447574, -3.54891591487609, -4.764348624364852, -5.712947800201404, -6.442218667311449, -6.983521779504347, -7.357464956087063, -7.64145270267078, -7.6494816137517265, -7.64145270267078, -7.357464956087062, -6.983521779504346, -6.442218667311447, -5.712947800201404, -4.764348624364854, -3.5489159148760945, -1.9940539931447574, 0.0102938424173898, 2.606844160199607, 3.6163579530512613, 4.678062347477542, 5.743853755272687, 6.714033764687107, 7.114017465571347, 7.424714401516347, 7.51857547180011, 7.593037830089831, 7.647034445747147, 7.6797643011979355]}, {\"hoverinfo\": \"name\", \"line\": {\"color\": \"#555\", \"dash\": \"dot\", \"width\": 1}, \"name\": \"-5.00 dB\", \"showlegend\": false, \"type\": \"scatter\", \"x\": [-357.7156461901543, -355.4344760458533, -353.1596383215088, -350.89421290039166, -348.6411786888659, -343.08110719284156, -337.655658142777, -327.32791659155833, -317.81176103888635, -309.14193573202044, -301.2731626748182, -281.57023940198087, -265.8826332806969, -252.5557488275415, -240.64915314981818, -229.631213606674, -219.18707307644064, -209.11864001577317, -199.29260642451015, -183.2007348379094, -180.0, -176.79926516209062, -160.70739357548985, -150.8813599842268, -140.8129269235594, -130.36878639332593, -119.3508468501818, -107.44425117245856, -94.1173667193031, -78.42976059801913, -58.726837325181805, -50.85806426797956, -42.188238961113655, -32.67208340844161, -22.344341857223014, -16.918892807158443, -11.35882131113408, -9.105787099608392, -6.84036167849132, -4.565523954146727, -2.2843538098456975], \"y\": [2.1734071144866545, 2.16178287503579, 2.1424819285456818, 2.115612065794011, 2.0813214716986472, 1.964434082831654, 1.8061996909436415, 1.385219595998124, 0.8607727963741443, 0.2736183229458929, -0.3431048799285491, -2.16801908991087, -3.7730593229328253, -5.107825341480714, -6.193310480660946, -7.061015531352676, -7.738271724514311, -8.245907761671381, -8.598793860490886, -8.867897044997598, -8.875518407124991, -8.867897044997598, -8.598793860490886, -8.24590776167138, -7.738271724514313, -7.061015531352676, -6.193310480660946, -5.1078253414807175, -3.7730593229328253, -2.1680190899108718, -0.34310487992855515, 0.2736183229458966, 0.8607727963741427, 1.385219595998124, 1.8061996909436415, 1.9644340828316524, 2.0813214716986486, 2.1156120657940125, 2.1424819285456818, 2.16178287503579, 2.1734071144866545]}, {\"hoverinfo\": \"name\", \"line\": {\"color\": \"#555\", \"dash\": \"dot\", \"width\": 1}, \"name\": \"-10.00 dB\", \"showlegend\": false, \"type\": \"scatter\", \"x\": [-358.5375907950498, -357.07557791375507, -355.61435658094774, -354.15431983136335, -352.6958574333717, -349.05910533090224, -345.44044385095657, -338.27923532466446, -331.25172280772404, -324.38957230161884, -317.7158161180123, -298.93322088504607, -281.98055625030804, -266.5986905881538, -252.4515993862077, -239.23329660667702, -226.69556020425625, -214.6438140225457, -202.92453522086737, -183.79933667786145, -180.0, -176.20066332213858, -157.07546477913257, -145.3561859774543, -133.30443979574378, -120.76670339332298, -107.5484006137923, -93.40130941184623, -78.01944374969196, -61.06677911495393, -42.2841838819877, -35.6104276983811, -28.748277192275964, -21.720764675335545, -14.55955614904343, -10.940894669097759, -7.304142566628343, -5.8456801686366475, -4.385643419052258, -2.924422086244874, -1.462409204950177], \"y\": [-6.699123892294637, -6.701806509160542, -6.7062729515001065, -6.7125163626834325, -6.720527187262135, -6.748200164450676, -6.78657557329895, -6.893931055283403, -7.0388110511767845, -7.216462826641537, -7.421573050377543, -8.147711008436975, -8.941898740419433, -9.71418948914971, -10.41392685158225, -11.016410769656355, -11.511331047447138, -11.89550272938945, -12.168840872833393, -12.380583655718457, -12.38662096132189, -12.38058365571846, -12.16884087283339, -11.895502729389449, -11.511331047447138, -11.016410769656355, -10.41392685158225, -9.714189489149708, -8.941898740419433, -8.147711008436975, -7.421573050377544, -7.216462826641536, -7.038811051176785, -6.893931055283405, -6.78657557329895, -6.748200164450676, -6.720527187262135, -6.7125163626834325, -6.706272951500106, -6.701806509160542, -6.699123892294637]}, {\"hoverinfo\": \"name\", \"line\": {\"color\": \"#555\", \"dash\": \"dot\", \"width\": 1}, \"name\": \"-15.00 dB\", \"showlegend\": false, \"type\": \"scatter\", \"x\": [-358.78372871113226, -357.56757218766745, -356.35164504978854, -355.13606162768133, -353.92093581764135, -350.88586520734776, -347.8561091438982, -341.8193145434761, -335.8234934153923, -329.8803847803898, -324.0002574368285, -306.8153430006575, -290.4058175896011, -274.7929344561041, -259.9166159495102, -245.67464220039773, -231.95012942506116, -218.62659104798547, -205.59416406308867, -184.2456701763938, -180.0, -175.75432982360618, -154.40583593691133, -141.37340895201453, -128.04987057493884, -114.32535779960227, -100.08338405048983, -85.20706554389596, -69.5941824103989, -53.18465699934251, -35.99974256317154, -30.119615219610125, -24.176506584607694, -18.180685456523918, -12.143890856101848, -9.114134792652237, -6.07906418235865, -4.863938372318671, -3.6483549502114556, -2.4324278123324916, -1.2162712888677447], \"y\": [-13.299602274136596, -13.300646015181112, -13.302384673274837, -13.304816884886367, -13.307940744941824, -13.318759016704236, -13.333830760689928, -13.376424533448056, -13.434916381107115, -13.508232743883422, -13.595080096782212, -13.921703697025936, -14.313535235316843, -14.72930186538968, -15.13520922108038, -15.50640058611507, -15.825881765358389, -16.08263707776725, -16.26984801593978, -16.417398167862174, -16.421637052990647, -16.417398167862174, -16.269848015939782, -16.08263707776725, -15.825881765358389, -15.506400586115072, -15.13520922108038, -14.72930186538968, -14.313535235316843, -13.921703697025938, -13.595080096782212, -13.508232743883422, -13.434916381107113, -13.376424533448056, -13.333830760689928, -13.318759016704236, -13.307940744941824, -13.304816884886367, -13.302384673274837, -13.300646015181112, -13.299602274136596]}, {\"hoverinfo\": \"name\", \"line\": {\"color\": \"#555\", \"dash\": \"dot\", \"width\": 1}, \"name\": \"-20.00 dB\", \"showlegend\": false, \"type\": \"scatter\", \"x\": [-358.8888965493027, -357.7778390541404, -356.66687343532357, -355.5560455442723, -354.44540112846903, -351.66989167066737, -348.89652075551027, -343.3589703285723, -337.8381516710673, -332.33916301626834, -326.8667171206091, -310.64868408641405, -294.79128089714493, -279.3371191156383, -264.28940686250036, -249.6211360082914, -235.2849960460518, -221.22162278409758, -207.3653939814767, -184.54588366326493, -180.0, -175.45411633673513, -152.63460601852324, -138.77837721590248, -124.71500395394821, -110.37886399170858, -95.71059313749964, -80.6628808843617, -65.20871910285507, -49.35131591358595, -33.13328287939095, -27.660836983731656, -22.161848328932706, -16.641029671427702, -11.103479244489733, -8.330108329332631, -5.55459887153097, -4.443954455727749, -3.3331265646764905, -2.2221609458596276, -1.1111034506973283], \"y\": [-19.085013507081424, -19.085503375377726, -19.086319534008915, -19.08746155052706, -19.08892882019638, -19.094014462352902, -19.101110842980592, -19.121236166745526, -19.149042963976978, -19.184174848780152, -19.226190346310158, -19.38809146911957, -19.590413923210935, -19.81472569408657, -20.043213737826427, -20.260279180191155, -20.453229787866576, -20.612342803649057, -20.730600258806064, -20.825121237762787, -20.8278537031645, -20.825121237762787, -20.730600258806064, -20.612342803649057, -20.453229787866572, -20.26027918019116, -20.043213737826427, -19.81472569408657, -19.590413923210935, -19.38809146911957, -19.226190346310158, -19.184174848780152, -19.149042963976978, -19.121236166745526, -19.101110842980592, -19.094014462352902, -19.08892882019638, -19.08746155052706, -19.086319534008915, -19.085503375377726, -19.085013507081424]}, {\"hoverinfo\": \"name\", \"line\": {\"color\": \"#555\", \"dash\": \"dot\", \"width\": 1}, \"name\": \"-359.00 deg\", \"showlegend\": false, \"type\": \"scatter\", \"x\": [-181.0044525859156, -182.42156130189062, -183.8538273684054, -188.12984536554268, -190.9344158007773, -196.3718246156576, -200.26021663058145, -206.3114697592357, -210.7345808486815, -216.6635681171084, -224.80489618685647, -236.09043705087817, -251.24683800549047, -269.4999999999999, -287.753161994509, -302.90956294912127, -314.19510381314365, -322.3364318828915, -328.2654191513184, -332.6885302407641, -338.7397833694185, -342.62817538434234, -348.06558419922266, -350.87015463445726, -355.14617263159454, -356.5784386981094, -357.2913247216967, -357.7156461901543, -357.9955474140844, -358.45015168578016, -358.6645881674737, -358.8116765954827, -358.8888965493027, -358.96734639178396, -358.98989951835864, -358.9989990499713], \"y\": [6.038584887637681, 10.679764301197936, 13.711735715514646, 19.17292087222408, 21.473564446933352, 24.66386078734449, 26.351550772079545, 28.39588115905801, 29.582361840040452, 30.88405633953153, 32.272915503531166, 33.64360969507572, 34.739089603108305, 35.16256289318372, 34.689089603108336, 33.54360969507577, 32.12291550353115, 30.68405633953155, 29.33236184004049, 28.095881159058045, 25.951550772079585, 24.163860787344515, 20.723564446933352, 18.172920872224083, 11.711735715514651, 7.6797643011979355, 4.652344195068787, 2.1734071144866545, 0.03858488763767778, -5.194834381818714, -9.488041039111309, -14.50148872104064, -19.085013507081424, -29.72093593281454, -39.91271738956356, -59.99131109007229]}, {\"hoverinfo\": \"name\", \"line\": {\"color\": \"#555\", \"dash\": \"dot\", \"width\": 1}, \"name\": \"-355.00 deg\", \"showlegend\": false, \"type\": \"scatter\", \"x\": [-184.98569457347367, -191.8233626783699, -198.35224760736764, -214.7096153155495, -222.83943505774351, -234.1134646185559, -239.69796826647632, -245.92146539007024, -249.25835228553376, -252.72858723419097, -256.31341133172936, -259.989259045856, -263.7283959194501, -267.5, -271.27160408054976, -275.0107409541439, -278.6865886682707, -282.271412765809, -285.74164771446624, -289.07853460992976, -295.30203173352356, -300.88653538144405, -312.1605649422565, -320.29038468445054, -336.6477523926323, -343.1766373216301, -346.5786356017429, -348.6411786888659, -350.0143054265264, -352.26161474704355, -353.32748962319005, -354.06025738718597, -354.44540112846903, -354.8369507000331, -354.9495609798578, -354.9950013641784], \"y\": [5.975176335900421, 10.424714401516344, 13.15637722819709, 17.30269583621942, 18.59357019807048, 19.86570394081788, 20.318095967162986, 20.70337257062739, 20.862047629248345, 20.99332004959212, 21.093870457953344, 21.16082174212472, 21.1919404997191, 21.185808854403394, 21.1419404997191, 21.060821742124723, 20.943870457953345, 20.793320049592126, 20.61204762924834, 20.40337257062739, 19.918095967162994, 19.365703940817884, 17.843570198070484, 16.302695836219424, 11.156377228197092, 7.424714401516347, 4.50797988512989, 2.0813214716986472, -0.024823664099580364, -5.221788912123486, -9.502229976955315, -14.508583844447521, -19.08892882019638, -29.722005767179546, -39.91304111416505, -59.99134288302994]}, {\"hoverinfo\": \"name\", \"line\": {\"color\": \"#555\", \"dash\": \"dot\", \"width\": 1}, \"name\": \"-350.00 deg\", \"showlegend\": false, \"type\": \"scatter\", \"x\": [-189.75111962661822, -202.09598892987356, -212.35345913068954, -231.68544618825558, -238.7489296614017, -246.79435053744254, -250.2573865527558, -253.83501123894706, -255.65960361036178, -257.503659183197, -259.363585957195, -261.2355960478809, -263.1157490287522, -265.0, -266.8842509712478, -268.7644039521191, -270.6364140428051, -272.496340816803, -274.34039638963816, -276.1649887610529, -279.74261344724425, -283.20564946255746, -291.25107033859837, -298.3145538117444, -317.64654086931046, -327.9040110701264, -333.8610146236115, -337.655658142777, -340.2488803733818, -344.5899563733838, -346.68313903391805, -348.1321651543866, -348.89652075551027, -349.67526564124756, -349.8995174652041, -349.99004088458565], \"y\": [5.783261698845564, 9.714033764687105, 11.775956313081908, 14.099770859367858, 14.594923883885638, 14.97381756434649, 15.080414384505051, 15.15621710943876, 15.181648668301047, 15.1983486227364, 15.206059569200638, 15.204575519007793, 15.193746138850234, 15.173479920117972, 15.143746138850233, 15.104575519007792, 15.056059569200638, 14.9983486227364, 14.931648668301046, 14.856217109438761, 14.680414384505053, 14.473817564346486, 13.844923883885636, 13.099770859367856, 9.775956313081904, 6.714033764687107, 4.086501615929624, 1.8061996909436415, -0.21673830115443865, -5.304752563074492, -9.546163900231825, -14.530626329660187, -19.101110842980592, -29.725338912804, -39.914050057959166, -59.991441985000364]}, {\"hoverinfo\": \"name\", \"line\": {\"color\": \"#555\", \"dash\": \"dot\", \"width\": 1}, \"name\": \"-340.00 deg\", \"showlegend\": false, \"type\": \"scatter\", \"x\": [-197.95308877480693, -215.8791234237175, -226.9736814525869, -241.93858840592924, -246.25008326075692, -250.7317375930338, -252.56136781439045, -254.40686827358445, -255.33439270580863, -256.264451326916, -257.19654718906554, -258.13017678870557, -259.06483165862886, -260.0, -260.93516834137114, -261.8698232112944, -262.80345281093446, -263.735548673084, -264.6656072941914, -265.59313172641555, -267.43863218560955, -269.2682624069662, -273.7499167392431, -278.06141159407076, -293.02631854741304, -304.1208765762825, -312.0719845024495, -317.81176103888635, -322.0469112251931, -329.68216191155295, -333.58372479687006, -336.35562188095696, -337.8381516710673, -339.3613582271222, -339.8021787598649, -339.9803852582164], \"y\": [5.096695738427625, 7.678062347477537, 8.597793300386101, 9.232708314999615, 9.300350040488034, 9.318257934761284, 9.310284149791554, 9.293248860230516, 9.28126664709167, 9.26694607309168, 9.250270119069466, 9.231225451995389, 9.20980249648894, 9.185995486488366, 9.159802496488942, 9.13122545199539, 9.100270119069464, 9.06694607309168, 9.03126664709167, 8.993248860230516, 8.910284149791552, 8.818257934761286, 8.550350040488036, 8.232708314999616, 6.597793300386101, 4.678062347477541, 2.7305972432797097, 0.8607727963741443, -0.9033042615723732, -5.618708656914063, -9.715988750167744, -14.616875379452285, -19.149042963976978, -29.7385197635113, -39.91804519575886, -59.99183460526538]}, {\"hoverinfo\": \"name\", \"line\": {\"color\": \"#555\", \"dash\": \"dot\", \"width\": 1}, \"name\": \"-330.00 deg\", \"showlegend\": false, \"type\": \"scatter\", \"x\": [-203.882655271241, -222.4551688385875, -231.83973647604438, -242.88818452740378, -245.85243927303384, -248.87064427851567, -250.08929464488176, -251.3127394114194, -251.9258936010815, -252.53980424258486, -253.1543213605271, -253.769294105085, -254.3845709678439, -255.0, -255.6154290321561, -256.23070589491493, -256.84567863947296, -257.46019575741514, -258.0741063989185, -258.6872605885806, -259.9107053551182, -261.12935572148433, -264.14756072696616, -267.1118154725962, -278.16026352395556, -287.54483116141245, -295.1799121181876, -301.2731626748182, -306.117344728759, -315.6352523321829, -320.8811636256163, -324.7520018624275, -326.8667171206091, -329.06864784533053, -329.7110208991901, -329.97132728133215], \"y\": [4.166800369039922, 5.606844160199614, 5.932206248669415, 6.009559815241832, 5.975208936745101, 5.916081684987016, 5.8852313052469665, 5.850181404584557, 5.831068132828873, 5.8108902224713805, 5.78964427580763, 5.767327641665407, 5.7439384217734455, 5.719475475333597, 5.693938421773446, 5.667327641665408, 5.63964427580763, 5.610890222471382, 5.581068132828873, 5.5501814045845554, 5.485231305246967, 5.416081684987017, 5.2252089367451005, 5.009559815241831, 3.932206248669413, 2.6068441601996146, 1.1533437890942961, -0.3431048799285491, -1.8331996309600802, -6.087078338824387, -9.979764081669678, -14.754127901309044, -19.226190346310158, -29.75995677804501, -39.92456085295799, -59.99247562744764]}, {\"hoverinfo\": \"name\", \"line\": {\"color\": \"#555\", \"dash\": \"dot\", \"width\": 1}, \"name\": \"-310.00 deg\", \"showlegend\": false, \"type\": \"scatter\", \"x\": [-209.52730461324086, -224.8617597295535, -231.1899048297363, -237.97025516715092, -239.71356983065925, -241.46893619919013, -242.17358097759967, -242.8792695480219, -243.23242437600226, -243.58574287247382, -243.93919240648842, -244.2927402786603, -244.6463537381975, -245.0, -245.3536462618025, -245.7072597213397, -246.06080759351158, -246.41425712752618, -246.76757562399774, -247.12073045197803, -247.82641902240033, -248.53106380080987, -250.28643016934075, -252.02974483284908, -258.8100951702637, -265.1382402704465, -270.88476640555945, -275.9949524301256, -280.47269538675914, -290.6024276593667, -297.07594307104625, -302.30134107560315, -305.3198186609207, -308.583531731361, -309.55825809928365, -309.9560806642815], \"y\": [2.1690092783717687, 2.283613205343762, 2.1482066351372553, 1.8805110263369171, 1.7903185689185086, 1.690332235389074, 1.6475597573189855, 1.6031884953899582, 1.5804015444470143, 1.557212960058154, 1.5336222991170896, 1.5096292165861258, 1.4852334657955046, 1.4604348986575815, 1.4352334657955048, 1.4096292165861262, 1.3836222991170892, 1.357212960058154, 1.3304015444470128, 1.3031884953899575, 1.2475597573189858, 1.1903322353890728, 1.0403185689185093, 0.8805110263369176, 0.14820663513725413, -0.7163867946562369, -1.6861149823730335, -2.7327119599275056, -3.8309907216282335, -7.25914823540008, -10.693337314020894, -15.145382670060465, -19.451939759943034, -29.824279769303864, -39.944246119925026, -59.99441757441544]}, {\"hoverinfo\": \"name\", \"line\": {\"color\": \"#555\", \"dash\": \"dot\", \"width\": 1}, \"name\": \"-270.00 deg\", \"showlegend\": false, \"type\": \"scatter\", \"x\": [-206.61944411079287, -215.29642457077978, -218.46110795220994, -221.70905190957956, -222.52941048373117, -223.35180491824565, -223.6811819889183, -224.0107336090751, -224.1755612738757, -224.3404162425316, -224.50529305969962, -224.6701862664188, -224.8350904010141, -225.0, -225.1649095989859, -225.3298137335812, -225.49470694030038, -225.65958375746834, -225.8244387261243, -225.9892663909249, -226.3188180110817, -226.6481950817543, -227.47058951626883, -228.29094809042044, -231.53889204779006, -234.70357542922022, -237.7498224252065, -240.64915314981818, -243.38055588920713, -250.46463358891856, -255.89967637641075, -260.9941380290685, -264.28940686250036, -268.188751952672, -269.42706130231653, -269.9427042395855], \"y\": [-0.9732279370869548, -1.764348624364853, -2.124426027943395, -2.5390189104386724, -2.6514699297020368, -2.7674915645818707, -2.8149035000028793, -2.8628898500051885, -2.887098602924716, -2.91145114746676, -2.9359475265105246, -2.9605877734182884, -2.985371912026573, -3.0102999566398116, -3.035371912026572, -3.0605877734182907, -3.0859475265105245, -3.1114511474667603, -3.1370986029247168, -3.162889850005191, -3.2149035000028805, -3.2674915645818716, -3.4014699297020368, -3.539018910438671, -4.124426027943397, -4.764348624364852, -5.455404631092938, -6.193310480660946, -6.973227937086955, -9.514969420252301, -12.265723755961025, -16.10774225511957, -20.043213737826427, -30.00434077479319, -40.00043427276863, -60.000004342942646]}, {\"hoverinfo\": \"name\", \"line\": {\"color\": \"#555\", \"dash\": \"dot\", \"width\": 1}, \"name\": \"-240.00 deg\", \"showlegend\": false, \"type\": \"scatter\", \"x\": [-199.14024541544325, -204.36172377497314, -206.21381358967642, -208.09857633531192, -208.57301489483143, -209.04823910924426, -209.23849040969878, -209.42880894323696, -209.52398817799792, -209.6191779249774, -209.7143760829855, -209.80958054999672, -209.90478922335842, -210.0, -210.09521077664152, -210.19041945000322, -210.2856239170145, -210.3808220750226, -210.47601182200202, -210.57119105676304, -210.76150959030122, -210.95176089075574, -211.42698510516857, -211.90142366468808, -213.78618641032358, -215.6382762250269, -217.44292101522825, -219.18707307644064, -220.85975458455675, -225.37330168652204, -229.0616987201294, -232.75216733907212, -235.2849960460518, -238.45568816453994, -239.50628485109314, -239.95040520919997], \"y\": [-2.436272660456205, -3.4422186673114457, -3.84762884451815, -4.29037960222416, -4.40699921593907, -4.526008275446839, -4.57428211823914, -4.622939314369939, -4.647411727484515, -4.671980041652243, -4.696644271172273, -4.721404427168291, -4.746260517586929, -4.771212547196625, -4.79626051758693, -4.821404427168288, -4.846644271172273, -4.871980041652241, -4.897411727484514, -4.922939314369941, -4.974282118239141, -5.02600827544684, -5.156999215939071, -5.290379602224159, -5.847628844518153, -6.442218667311449, -7.072958558444331, -7.738271724514311, -8.436272660456206, -10.704688157932988, -13.186893456343654, -16.732079592455978, -20.453229787866576, -30.139417000675234, -40.043643711077515, -60.004345113397235]}, {\"hoverinfo\": \"name\", \"line\": {\"color\": \"#555\", \"dash\": \"dot\", \"width\": 1}, \"name\": \"-210.00 deg\", \"showlegend\": false, \"type\": \"scatter\", \"x\": [-189.91215173606156, -192.37662214327372, -193.24081558695843, -194.1172919529556, -194.3376264517101, -194.55825435352733, -194.64656584066665, -194.73490241741877, -194.77907815652532, -194.82325781782652, -194.8674406172289, -194.91162577040882, -194.95581249286977, -195.0, -195.04418750713023, -195.08837422959118, -195.13255938277098, -195.17674218217348, -195.22092184347468, -195.26509758258123, -195.35343415933335, -195.44174564647267, -195.6623735482898, -195.8827080470444, -196.75918441304157, -197.62337785672628, -198.46958668342972, -199.29260642451015, -200.08784826393844, -202.27177292498595, -204.1105118631359, -206.01403876500308, -207.3653939814767, -209.11829225570636, -209.71598310734691, -209.97137690095758], \"y\": [-3.2618637150774954, -4.357464956087062, -4.781008157812972, -5.234889529168014, -5.353148423971277, -5.473330927281008, -5.521943113599203, -5.570863587065885, -5.595439459606192, -5.620092434585043, -5.644822518988903, -5.669629718252307, -5.694514036257395, -5.719475475333596, -5.744514036257396, -5.769629718252306, -5.794822518988905, -5.820092434585046, -5.845439459606192, -5.870863587065886, -5.921943113599205, -5.9733309272810065, -6.103148423971275, -6.234889529168011, -6.781008157812972, -7.357464956087063, -7.963662913962381, -8.598793860490886, -9.261863715077498, -11.406608921751245, -13.75560292379796, -17.138198674062732, -20.730600258806064, -30.235702451504753, -40.07500487427773, -60.00752002960971]}, {\"hoverinfo\": \"name\", \"line\": {\"color\": \"#555\", \"dash\": \"dot\", \"width\": 1}, \"name\": \"-180.00 deg\", \"showlegend\": false, \"type\": \"scatter\", \"x\": [-180.0, -180.0, -180.0, -180.0, -180.0, -180.0, -180.0, -180.0, -180.0, -180.0, -180.0, -180.0, -180.0, -180.0, -180.0, -180.0, -180.0, -180.0, -180.0, -180.0, -180.0, -180.0, -180.0, -180.0, -180.0, -180.0, -180.0, -180.0, -180.0, -180.0, -180.0, -180.0, -180.0, -180.0, -180.0, -180.0], \"y\": [-3.528697248729707, -4.649481613751726, -5.078037820877343, -5.534983129163744, -5.653692425461207, -5.774197205849433, -5.82290229493352, -5.871895053021047, -5.896499329536557, -5.921175546836581, -5.94592371028475, -5.970743824053145, -5.995635891122028, -6.020599913279624, -6.045635891122028, -6.070743824053146, -6.095923710284749, -6.121175546836581, -6.146499329536558, -6.17189505302105, -6.222902294933521, -6.2741972058494335, -6.403692425461207, -6.534983129163744, -7.078037820877343, -7.6494816137517265, -8.248852055886793, -8.875518407124991, -9.528697248729706, -11.637589600041242, -13.946455874173909, -17.277840682867595, -20.8278537031645, -30.27041844216076, -40.086427475652854, -60.00868154958637]}, {\"hoverinfo\": \"name\", \"line\": {\"color\": \"#555\", \"dash\": \"dot\", \"width\": 1}, \"name\": \"-1.00 deg\", \"showlegend\": false, \"type\": \"scatter\", \"x\": [-178.9955474140844, -177.57843869810938, -176.1461726315946, -171.87015463445732, -169.0655841992227, -163.6281753843424, -159.73978336941855, -153.6885302407643, -149.2654191513185, -143.3364318828916, -135.19510381314353, -123.90956294912183, -108.75316199450953, -90.50000000000011, -72.24683800549099, -57.090437050878734, -45.804896186856354, -37.663568117108525, -31.734580848681617, -27.311469759235877, -21.26021663058151, -17.37182461565766, -11.934415800777344, -9.129845365542735, -4.853827368405462, -3.4215613018906197, -2.7086752783033035, -2.2843538098456975, -2.004452585915601, -1.5498483142198438, -1.3354118325262903, -1.1883234045172912, -1.1111034506973283, -1.0326536082160374, -1.0101004816413592, -1.001000950028697], \"y\": [6.038584887637681, 10.679764301197936, 13.711735715514646, 19.17292087222408, 21.473564446933352, 24.66386078734449, 26.351550772079545, 28.39588115905801, 29.582361840040452, 30.88405633953153, 32.272915503531166, 33.64360969507572, 34.739089603108305, 35.16256289318372, 34.689089603108336, 33.54360969507577, 32.12291550353115, 30.68405633953155, 29.33236184004049, 28.095881159058045, 25.951550772079585, 24.163860787344515, 20.723564446933352, 18.172920872224083, 11.711735715514651, 7.6797643011979355, 4.652344195068787, 2.1734071144866545, 0.03858488763767778, -5.194834381818714, -9.488041039111309, -14.50148872104064, -19.085013507081424, -29.72093593281454, -39.91271738956356, -59.99131109007229]}, {\"hoverinfo\": \"name\", \"line\": {\"color\": \"#555\", \"dash\": \"dot\", \"width\": 1}, \"name\": \"-5.00 deg\", \"showlegend\": false, \"type\": \"scatter\", \"x\": [-175.01430542652633, -168.1766373216301, -161.64775239263236, -145.2903846844505, -137.16056494225649, -125.8865353814441, -120.30203173352368, -114.07853460992976, -110.74164771446624, -107.27141276580903, -103.68658866827064, -100.01074095414401, -96.27160408054988, -92.5, -88.72839591945024, -84.9892590458561, -81.3134113317293, -77.72858723419102, -74.25835228553376, -70.92146539007024, -64.69796826647644, -59.11346461855595, -47.839435057743515, -39.709615315549456, -23.3522476073677, -16.823362678369904, -13.421364398257083, -11.35882131113408, -9.985694573473609, -7.738385252956448, -6.672510376809953, -5.93974261281403, -5.55459887153097, -5.163049299966872, -5.050439020142221, -5.004998635821607], \"y\": [5.975176335900421, 10.424714401516344, 13.15637722819709, 17.30269583621942, 18.59357019807048, 19.86570394081788, 20.318095967162986, 20.70337257062739, 20.862047629248345, 20.99332004959212, 21.093870457953344, 21.16082174212472, 21.1919404997191, 21.185808854403394, 21.1419404997191, 21.060821742124723, 20.943870457953345, 20.793320049592126, 20.61204762924834, 20.40337257062739, 19.918095967162994, 19.365703940817884, 17.843570198070484, 16.302695836219424, 11.156377228197092, 7.424714401516347, 4.50797988512989, 2.0813214716986472, -0.024823664099580364, -5.221788912123486, -9.502229976955315, -14.508583844447521, -19.08892882019638, -29.722005767179546, -39.91304111416505, -59.99134288302994]}, {\"hoverinfo\": \"name\", \"line\": {\"color\": \"#555\", \"dash\": \"dot\", \"width\": 1}, \"name\": \"-10.00 deg\", \"showlegend\": false, \"type\": \"scatter\", \"x\": [-170.24888037338178, -157.90401107012644, -147.64654086931046, -128.31455381174442, -121.25107033859831, -113.20564946255746, -109.7426134472442, -106.16498876105294, -104.34039638963822, -102.49634081680301, -100.63641404280497, -98.7644039521191, -96.88425097124781, -95.0, -93.11574902875219, -91.2355960478809, -89.36358595719491, -87.50365918319699, -85.65960361036184, -83.83501123894712, -80.25738655275575, -76.79435053744254, -68.74892966140163, -61.68544618825558, -42.353459130689544, -32.09598892987361, -26.13898537638852, -22.344341857223014, -19.75111962661822, -15.410043626616186, -13.316860966081947, -11.867834845613402, -11.103479244489733, -10.324734358752437, -10.100482534795901, -10.009959115414347], \"y\": [5.783261698845564, 9.714033764687105, 11.775956313081908, 14.099770859367858, 14.594923883885638, 14.97381756434649, 15.080414384505051, 15.15621710943876, 15.181648668301047, 15.1983486227364, 15.206059569200638, 15.204575519007793, 15.193746138850234, 15.173479920117972, 15.143746138850233, 15.104575519007792, 15.056059569200638, 14.9983486227364, 14.931648668301046, 14.856217109438761, 14.680414384505053, 14.473817564346486, 13.844923883885636, 13.099770859367856, 9.775956313081904, 6.714033764687107, 4.086501615929624, 1.8061996909436415, -0.21673830115443865, -5.304752563074492, -9.546163900231825, -14.530626329660187, -19.101110842980592, -29.725338912804, -39.914050057959166, -59.991441985000364]}, {\"hoverinfo\": \"name\", \"line\": {\"color\": \"#555\", \"dash\": \"dot\", \"width\": 1}, \"name\": \"-20.00 deg\", \"showlegend\": false, \"type\": \"scatter\", \"x\": [-162.04691122519307, -144.1208765762825, -133.0263185474131, -118.06141159407076, -113.74991673924308, -109.26826240696619, -107.43863218560955, -105.59313172641555, -104.66560729419137, -103.735548673084, -102.80345281093446, -101.86982321129443, -100.93516834137114, -100.0, -99.06483165862886, -98.13017678870563, -97.19654718906554, -96.264451326916, -95.33439270580863, -94.40686827358445, -92.56136781439045, -90.73173759303381, -86.25008326075692, -81.93858840592924, -66.97368145258696, -55.87912342371749, -47.92801549755052, -42.188238961113655, -37.95308877480687, -30.317838088447047, -26.416275203129942, -23.64437811904304, -22.161848328932706, -20.638641772877804, -20.197821240135113, -20.019614741783585], \"y\": [5.096695738427625, 7.678062347477537, 8.597793300386101, 9.232708314999615, 9.300350040488034, 9.318257934761284, 9.310284149791554, 9.293248860230516, 9.28126664709167, 9.26694607309168, 9.250270119069466, 9.231225451995389, 9.20980249648894, 9.185995486488366, 9.159802496488942, 9.13122545199539, 9.100270119069464, 9.06694607309168, 9.03126664709167, 8.993248860230516, 8.910284149791552, 8.818257934761286, 8.550350040488036, 8.232708314999616, 6.597793300386101, 4.678062347477541, 2.7305972432797097, 0.8607727963741443, -0.9033042615723732, -5.618708656914063, -9.715988750167744, -14.616875379452285, -19.149042963976978, -29.7385197635113, -39.91804519575886, -59.99183460526538]}, {\"hoverinfo\": \"name\", \"line\": {\"color\": \"#555\", \"dash\": \"dot\", \"width\": 1}, \"name\": \"-30.00 deg\", \"showlegend\": false, \"type\": \"scatter\", \"x\": [-156.117344728759, -137.5448311614125, -128.16026352395562, -117.11181547259622, -114.14756072696616, -111.12935572148433, -109.91070535511824, -108.68726058858061, -108.0741063989185, -107.46019575741514, -106.84567863947291, -106.23070589491499, -105.6154290321561, -105.0, -104.3845709678439, -103.76929410508507, -103.15432136052704, -102.53980424258486, -101.9258936010815, -101.31273941141939, -100.08929464488182, -98.87064427851567, -95.85243927303384, -92.88818452740378, -81.83973647604444, -72.45516883858755, -64.82008788181241, -58.726837325181805, -53.88265527124099, -44.364747667817085, -39.118836374383704, -35.247998137572495, -33.13328287939089, -30.93135215466947, -30.28897910080991, -30.02867271866785], \"y\": [4.166800369039922, 5.606844160199614, 5.932206248669415, 6.009559815241832, 5.975208936745101, 5.916081684987016, 5.8852313052469665, 5.850181404584557, 5.831068132828873, 5.8108902224713805, 5.78964427580763, 5.767327641665407, 5.7439384217734455, 5.719475475333597, 5.693938421773446, 5.667327641665408, 5.63964427580763, 5.610890222471382, 5.581068132828873, 5.5501814045845554, 5.485231305246967, 5.416081684987017, 5.2252089367451005, 5.009559815241831, 3.932206248669413, 2.6068441601996146, 1.1533437890942961, -0.3431048799285491, -1.8331996309600802, -6.087078338824387, -9.979764081669678, -14.754127901309044, -19.226190346310158, -29.75995677804501, -39.92456085295799, -59.99247562744764]}, {\"hoverinfo\": \"name\", \"line\": {\"color\": \"#555\", \"dash\": \"dot\", \"width\": 1}, \"name\": \"-50.00 deg\", \"showlegend\": false, \"type\": \"scatter\", \"x\": [-150.47269538675914, -135.1382402704465, -128.8100951702637, -122.02974483284908, -120.28643016934075, -118.53106380080987, -117.82641902240033, -117.12073045197809, -116.76757562399774, -116.41425712752618, -116.06080759351158, -115.70725972133971, -115.35364626180251, -115.0, -114.64635373819749, -114.29274027866029, -113.93919240648842, -113.58574287247382, -113.23242437600226, -112.87926954802197, -112.17358097759967, -111.46893619919013, -109.71356983065925, -107.97025516715092, -101.18990482973629, -94.86175972955351, -89.11523359444055, -84.00504756987442, -79.52730461324086, -69.3975723406333, -62.924056928953746, -57.69865892439685, -54.6801813390793, -51.416468268638994, -50.44174190071635, -50.0439193357185], \"y\": [2.1690092783717687, 2.283613205343762, 2.1482066351372553, 1.8805110263369171, 1.7903185689185086, 1.690332235389074, 1.6475597573189855, 1.6031884953899582, 1.5804015444470143, 1.557212960058154, 1.5336222991170896, 1.5096292165861258, 1.4852334657955046, 1.4604348986575815, 1.4352334657955048, 1.4096292165861262, 1.3836222991170892, 1.357212960058154, 1.3304015444470128, 1.3031884953899575, 1.2475597573189858, 1.1903322353890728, 1.0403185689185093, 0.8805110263369176, 0.14820663513725413, -0.7163867946562369, -1.6861149823730335, -2.7327119599275056, -3.8309907216282335, -7.25914823540008, -10.693337314020894, -15.145382670060465, -19.451939759943034, -29.824279769303864, -39.944246119925026, -59.99441757441544]}, {\"hoverinfo\": \"name\", \"line\": {\"color\": \"#555\", \"dash\": \"dot\", \"width\": 1}, \"name\": \"-90.00 deg\", \"showlegend\": false, \"type\": \"scatter\", \"x\": [-153.38055588920713, -144.70357542922022, -141.53889204779006, -138.29094809042044, -137.47058951626883, -136.64819508175435, -136.3188180110817, -135.9892663909249, -135.8244387261243, -135.6595837574684, -135.49470694030038, -135.3298137335812, -135.1649095989859, -135.0, -134.8350904010141, -134.6701862664188, -134.50529305969962, -134.34041624253166, -134.1755612738757, -134.0107336090751, -133.6811819889183, -133.3518049182457, -132.52941048373117, -131.70905190957956, -128.46110795220994, -125.29642457077978, -122.2501775747935, -119.35084685018182, -116.61944411079287, -109.53536641108144, -104.10032362358925, -99.0058619709315, -95.71059313749964, -91.81124804732798, -90.57293869768347, -90.05729576041449], \"y\": [-0.9732279370869548, -1.764348624364853, -2.124426027943395, -2.5390189104386724, -2.6514699297020368, -2.7674915645818707, -2.8149035000028793, -2.8628898500051885, -2.887098602924716, -2.91145114746676, -2.9359475265105246, -2.9605877734182884, -2.985371912026573, -3.0102999566398116, -3.035371912026572, -3.0605877734182907, -3.0859475265105245, -3.1114511474667603, -3.1370986029247168, -3.162889850005191, -3.2149035000028805, -3.2674915645818716, -3.4014699297020368, -3.539018910438671, -4.124426027943397, -4.764348624364852, -5.455404631092938, -6.193310480660946, -6.973227937086955, -9.514969420252301, -12.265723755961025, -16.10774225511957, -20.043213737826427, -30.00434077479319, -40.00043427276863, -60.000004342942646]}, {\"hoverinfo\": \"name\", \"line\": {\"color\": \"#555\", \"dash\": \"dot\", \"width\": 1}, \"name\": \"-120.00 deg\", \"showlegend\": false, \"type\": \"scatter\", \"x\": [-160.85975458455675, -155.63827622502686, -153.78618641032358, -151.90142366468808, -151.42698510516857, -150.95176089075574, -150.76150959030122, -150.57119105676304, -150.47601182200208, -150.3808220750226, -150.2856239170145, -150.19041945000328, -150.09521077664158, -150.0, -149.90478922335848, -149.80958054999678, -149.7143760829855, -149.6191779249774, -149.52398817799798, -149.42880894323696, -149.23849040969878, -149.04823910924426, -148.57301489483143, -148.09857633531192, -146.21381358967642, -144.3617237749731, -142.55707898477175, -140.81292692355936, -139.14024541544325, -134.62669831347796, -130.9383012798706, -127.24783266092788, -124.71500395394821, -121.54431183546006, -120.49371514890686, -120.04959479080003], \"y\": [-2.436272660456205, -3.4422186673114457, -3.84762884451815, -4.29037960222416, -4.40699921593907, -4.526008275446839, -4.57428211823914, -4.622939314369939, -4.647411727484515, -4.671980041652243, -4.696644271172273, -4.721404427168291, -4.746260517586929, -4.771212547196625, -4.79626051758693, -4.821404427168288, -4.846644271172273, -4.871980041652241, -4.897411727484514, -4.922939314369941, -4.974282118239141, -5.02600827544684, -5.156999215939071, -5.290379602224159, -5.847628844518153, -6.442218667311449, -7.072958558444331, -7.738271724514311, -8.436272660456206, -10.704688157932988, -13.186893456343654, -16.732079592455978, -20.453229787866576, -30.139417000675234, -40.043643711077515, -60.004345113397235]}, {\"hoverinfo\": \"name\", \"line\": {\"color\": \"#555\", \"dash\": \"dot\", \"width\": 1}, \"name\": \"-150.00 deg\", \"showlegend\": false, \"type\": \"scatter\", \"x\": [-170.08784826393844, -167.62337785672628, -166.75918441304157, -165.8827080470444, -165.6623735482899, -165.44174564647267, -165.35343415933335, -165.26509758258123, -165.22092184347468, -165.17674218217348, -165.1325593827711, -165.08837422959118, -165.04418750713023, -165.0, -164.95581249286977, -164.91162577040882, -164.86744061722902, -164.82325781782652, -164.77907815652532, -164.73490241741877, -164.64656584066665, -164.55825435352733, -164.3376264517102, -164.1172919529556, -163.24081558695843, -162.37662214327372, -161.53041331657028, -160.70739357548985, -159.91215173606156, -157.72822707501405, -155.8894881368641, -153.98596123499692, -152.6346060185233, -150.88170774429364, -150.28401689265309, -150.02862309904242], \"y\": [-3.2618637150774954, -4.357464956087062, -4.781008157812972, -5.234889529168014, -5.353148423971277, -5.473330927281008, -5.521943113599203, -5.570863587065885, -5.595439459606192, -5.620092434585043, -5.644822518988903, -5.669629718252307, -5.694514036257395, -5.719475475333596, -5.744514036257396, -5.769629718252306, -5.794822518988905, -5.820092434585046, -5.845439459606192, -5.870863587065886, -5.921943113599205, -5.9733309272810065, -6.103148423971275, -6.234889529168011, -6.781008157812972, -7.357464956087063, -7.963662913962381, -8.598793860490886, -9.261863715077498, -11.406608921751245, -13.75560292379796, -17.138198674062732, -20.730600258806064, -30.235702451504753, -40.07500487427773, -60.00752002960971]}, {\"hoverinfo\": \"name\", \"line\": {\"color\": \"#555\", \"dash\": \"dot\", \"width\": 1}, \"name\": \"-180.00 deg\", \"showlegend\": false, \"type\": \"scatter\", \"x\": [-180.0, -180.0, -180.0, -180.0, -180.0, -180.0, -180.0, -180.0, -180.0, -180.0, -180.0, -180.0, -180.0, -180.0, -180.0, -180.0, -180.0, -180.0, -180.0, -180.0, -180.0, -180.0, -180.0, -180.0, -180.0, -180.0, -180.0, -180.0, -180.0, -180.0, -180.0, -180.0, -180.0, -180.0, -180.0, -180.0], \"y\": [-3.528697248729707, -4.649481613751726, -5.078037820877343, -5.534983129163744, -5.653692425461207, -5.774197205849433, -5.82290229493352, -5.871895053021047, -5.896499329536557, -5.921175546836581, -5.94592371028475, -5.970743824053145, -5.995635891122028, -6.020599913279624, -6.045635891122028, -6.070743824053146, -6.095923710284749, -6.121175546836581, -6.146499329536558, -6.17189505302105, -6.222902294933521, -6.2741972058494335, -6.403692425461207, -6.534983129163744, -7.078037820877343, -7.6494816137517265, -8.248852055886793, -8.875518407124991, -9.528697248729706, -11.637589600041242, -13.946455874173909, -17.277840682867595, -20.8278537031645, -30.27041844216076, -40.086427475652854, -60.00868154958637]}, {\"hoverinfo\": \"name\", \"line\": {\"color\": \"#555\", \"dash\": \"dot\", \"width\": 1}, \"name\": \"-180.00 deg\", \"showlegend\": false, \"type\": \"scatter\", \"x\": [-180.0, -180.0, -180.0, -180.0, -180.0, -180.0, -180.0, -180.0, -180.0, -180.0, -180.0, -180.0, -180.0, -180.0, -180.0, -180.0, -180.0, -180.0, -180.0, -180.0, -180.0, -180.0, -180.0, -180.0, -180.0, -180.0, -180.0, -180.0, -180.0, -180.0, -180.0, -180.0, -180.0, -180.0, -180.0, -180.0], \"y\": [-3.528697248729707, -4.649481613751726, -5.078037820877343, -5.534983129163744, -5.653692425461207, -5.774197205849433, -5.82290229493352, -5.871895053021047, -5.896499329536557, -5.921175546836581, -5.94592371028475, -5.970743824053145, -5.995635891122028, -6.020599913279624, -6.045635891122028, -6.070743824053146, -6.095923710284749, -6.121175546836581, -6.146499329536558, -6.17189505302105, -6.222902294933521, -6.2741972058494335, -6.403692425461207, -6.534983129163744, -7.078037820877343, -7.6494816137517265, -8.248852055886793, -8.875518407124991, -9.528697248729706, -11.637589600041242, -13.946455874173909, -17.277840682867595, -20.8278537031645, -30.27041844216076, -40.086427475652854, -60.00868154958637]}],                        {\"template\": {\"data\": {\"bar\": [{\"error_x\": {\"color\": \"#2a3f5f\"}, \"error_y\": {\"color\": \"#2a3f5f\"}, \"marker\": {\"line\": {\"color\": \"#E5ECF6\", \"width\": 0.5}}, \"type\": \"bar\"}], \"barpolar\": [{\"marker\": {\"line\": {\"color\": \"#E5ECF6\", \"width\": 0.5}}, \"type\": \"barpolar\"}], \"carpet\": [{\"aaxis\": {\"endlinecolor\": \"#2a3f5f\", \"gridcolor\": \"white\", \"linecolor\": \"white\", \"minorgridcolor\": \"white\", \"startlinecolor\": \"#2a3f5f\"}, \"baxis\": {\"endlinecolor\": \"#2a3f5f\", \"gridcolor\": \"white\", \"linecolor\": \"white\", \"minorgridcolor\": \"white\", \"startlinecolor\": \"#2a3f5f\"}, \"type\": \"carpet\"}], \"choropleth\": [{\"colorbar\": {\"outlinewidth\": 0, \"ticks\": \"\"}, \"type\": \"choropleth\"}], \"contour\": [{\"colorbar\": {\"outlinewidth\": 0, \"ticks\": \"\"}, \"colorscale\": [[0.0, \"#0d0887\"], [0.1111111111111111, \"#46039f\"], [0.2222222222222222, \"#7201a8\"], [0.3333333333333333, \"#9c179e\"], [0.4444444444444444, \"#bd3786\"], [0.5555555555555556, \"#d8576b\"], [0.6666666666666666, \"#ed7953\"], [0.7777777777777778, \"#fb9f3a\"], [0.8888888888888888, \"#fdca26\"], [1.0, \"#f0f921\"]], \"type\": \"contour\"}], \"contourcarpet\": [{\"colorbar\": {\"outlinewidth\": 0, \"ticks\": \"\"}, \"type\": \"contourcarpet\"}], \"heatmap\": [{\"colorbar\": {\"outlinewidth\": 0, \"ticks\": \"\"}, \"colorscale\": [[0.0, \"#0d0887\"], [0.1111111111111111, \"#46039f\"], [0.2222222222222222, \"#7201a8\"], [0.3333333333333333, \"#9c179e\"], [0.4444444444444444, \"#bd3786\"], [0.5555555555555556, \"#d8576b\"], [0.6666666666666666, \"#ed7953\"], [0.7777777777777778, \"#fb9f3a\"], [0.8888888888888888, \"#fdca26\"], [1.0, \"#f0f921\"]], \"type\": \"heatmap\"}], \"heatmapgl\": [{\"colorbar\": {\"outlinewidth\": 0, \"ticks\": \"\"}, \"colorscale\": [[0.0, \"#0d0887\"], [0.1111111111111111, \"#46039f\"], [0.2222222222222222, \"#7201a8\"], [0.3333333333333333, \"#9c179e\"], [0.4444444444444444, \"#bd3786\"], [0.5555555555555556, \"#d8576b\"], [0.6666666666666666, \"#ed7953\"], [0.7777777777777778, \"#fb9f3a\"], [0.8888888888888888, \"#fdca26\"], [1.0, \"#f0f921\"]], \"type\": \"heatmapgl\"}], \"histogram\": [{\"marker\": {\"colorbar\": {\"outlinewidth\": 0, \"ticks\": \"\"}}, \"type\": \"histogram\"}], \"histogram2d\": [{\"colorbar\": {\"outlinewidth\": 0, \"ticks\": \"\"}, \"colorscale\": [[0.0, \"#0d0887\"], [0.1111111111111111, \"#46039f\"], [0.2222222222222222, \"#7201a8\"], [0.3333333333333333, \"#9c179e\"], [0.4444444444444444, \"#bd3786\"], [0.5555555555555556, \"#d8576b\"], [0.6666666666666666, \"#ed7953\"], [0.7777777777777778, \"#fb9f3a\"], [0.8888888888888888, \"#fdca26\"], [1.0, \"#f0f921\"]], \"type\": \"histogram2d\"}], \"histogram2dcontour\": [{\"colorbar\": {\"outlinewidth\": 0, \"ticks\": \"\"}, \"colorscale\": [[0.0, \"#0d0887\"], [0.1111111111111111, \"#46039f\"], [0.2222222222222222, \"#7201a8\"], [0.3333333333333333, \"#9c179e\"], [0.4444444444444444, \"#bd3786\"], [0.5555555555555556, \"#d8576b\"], [0.6666666666666666, \"#ed7953\"], [0.7777777777777778, \"#fb9f3a\"], [0.8888888888888888, \"#fdca26\"], [1.0, \"#f0f921\"]], \"type\": \"histogram2dcontour\"}], \"mesh3d\": [{\"colorbar\": {\"outlinewidth\": 0, \"ticks\": \"\"}, \"type\": \"mesh3d\"}], \"parcoords\": [{\"line\": {\"colorbar\": {\"outlinewidth\": 0, \"ticks\": \"\"}}, \"type\": \"parcoords\"}], \"pie\": [{\"automargin\": true, \"type\": \"pie\"}], \"scatter\": [{\"marker\": {\"colorbar\": {\"outlinewidth\": 0, \"ticks\": \"\"}}, \"type\": \"scatter\"}], \"scatter3d\": [{\"line\": {\"colorbar\": {\"outlinewidth\": 0, \"ticks\": \"\"}}, \"marker\": {\"colorbar\": {\"outlinewidth\": 0, \"ticks\": \"\"}}, \"type\": \"scatter3d\"}], \"scattercarpet\": [{\"marker\": {\"colorbar\": {\"outlinewidth\": 0, \"ticks\": \"\"}}, \"type\": \"scattercarpet\"}], \"scattergeo\": [{\"marker\": {\"colorbar\": {\"outlinewidth\": 0, \"ticks\": \"\"}}, \"type\": \"scattergeo\"}], \"scattergl\": [{\"marker\": {\"colorbar\": {\"outlinewidth\": 0, \"ticks\": \"\"}}, \"type\": \"scattergl\"}], \"scattermapbox\": [{\"marker\": {\"colorbar\": {\"outlinewidth\": 0, \"ticks\": \"\"}}, \"type\": \"scattermapbox\"}], \"scatterpolar\": [{\"marker\": {\"colorbar\": {\"outlinewidth\": 0, \"ticks\": \"\"}}, \"type\": \"scatterpolar\"}], \"scatterpolargl\": [{\"marker\": {\"colorbar\": {\"outlinewidth\": 0, \"ticks\": \"\"}}, \"type\": \"scatterpolargl\"}], \"scatterternary\": [{\"marker\": {\"colorbar\": {\"outlinewidth\": 0, \"ticks\": \"\"}}, \"type\": \"scatterternary\"}], \"surface\": [{\"colorbar\": {\"outlinewidth\": 0, \"ticks\": \"\"}, \"colorscale\": [[0.0, \"#0d0887\"], [0.1111111111111111, \"#46039f\"], [0.2222222222222222, \"#7201a8\"], [0.3333333333333333, \"#9c179e\"], [0.4444444444444444, \"#bd3786\"], [0.5555555555555556, \"#d8576b\"], [0.6666666666666666, \"#ed7953\"], [0.7777777777777778, \"#fb9f3a\"], [0.8888888888888888, \"#fdca26\"], [1.0, \"#f0f921\"]], \"type\": \"surface\"}], \"table\": [{\"cells\": {\"fill\": {\"color\": \"#EBF0F8\"}, \"line\": {\"color\": \"white\"}}, \"header\": {\"fill\": {\"color\": \"#C8D4E3\"}, \"line\": {\"color\": \"white\"}}, \"type\": \"table\"}]}, \"layout\": {\"annotationdefaults\": {\"arrowcolor\": \"#2a3f5f\", \"arrowhead\": 0, \"arrowwidth\": 1}, \"coloraxis\": {\"colorbar\": {\"outlinewidth\": 0, \"ticks\": \"\"}}, \"colorscale\": {\"diverging\": [[0, \"#8e0152\"], [0.1, \"#c51b7d\"], [0.2, \"#de77ae\"], [0.3, \"#f1b6da\"], [0.4, \"#fde0ef\"], [0.5, \"#f7f7f7\"], [0.6, \"#e6f5d0\"], [0.7, \"#b8e186\"], [0.8, \"#7fbc41\"], [0.9, \"#4d9221\"], [1, \"#276419\"]], \"sequential\": [[0.0, \"#0d0887\"], [0.1111111111111111, \"#46039f\"], [0.2222222222222222, \"#7201a8\"], [0.3333333333333333, \"#9c179e\"], [0.4444444444444444, \"#bd3786\"], [0.5555555555555556, \"#d8576b\"], [0.6666666666666666, \"#ed7953\"], [0.7777777777777778, \"#fb9f3a\"], [0.8888888888888888, \"#fdca26\"], [1.0, \"#f0f921\"]], \"sequentialminus\": [[0.0, \"#0d0887\"], [0.1111111111111111, \"#46039f\"], [0.2222222222222222, \"#7201a8\"], [0.3333333333333333, \"#9c179e\"], [0.4444444444444444, \"#bd3786\"], [0.5555555555555556, \"#d8576b\"], [0.6666666666666666, \"#ed7953\"], [0.7777777777777778, \"#fb9f3a\"], [0.8888888888888888, \"#fdca26\"], [1.0, \"#f0f921\"]]}, \"colorway\": [\"#636efa\", \"#EF553B\", \"#00cc96\", \"#ab63fa\", \"#FFA15A\", \"#19d3f3\", \"#FF6692\", \"#B6E880\", \"#FF97FF\", \"#FECB52\"], \"font\": {\"color\": \"#2a3f5f\"}, \"geo\": {\"bgcolor\": \"white\", \"lakecolor\": \"white\", \"landcolor\": \"#E5ECF6\", \"showlakes\": true, \"showland\": true, \"subunitcolor\": \"white\"}, \"hoverlabel\": {\"align\": \"left\"}, \"hovermode\": \"closest\", \"mapbox\": {\"style\": \"light\"}, \"paper_bgcolor\": \"white\", \"plot_bgcolor\": \"#E5ECF6\", \"polar\": {\"angularaxis\": {\"gridcolor\": \"white\", \"linecolor\": \"white\", \"ticks\": \"\"}, \"bgcolor\": \"#E5ECF6\", \"radialaxis\": {\"gridcolor\": \"white\", \"linecolor\": \"white\", \"ticks\": \"\"}}, \"scene\": {\"xaxis\": {\"backgroundcolor\": \"#E5ECF6\", \"gridcolor\": \"white\", \"gridwidth\": 2, \"linecolor\": \"white\", \"showbackground\": true, \"ticks\": \"\", \"zerolinecolor\": \"white\"}, \"yaxis\": {\"backgroundcolor\": \"#E5ECF6\", \"gridcolor\": \"white\", \"gridwidth\": 2, \"linecolor\": \"white\", \"showbackground\": true, \"ticks\": \"\", \"zerolinecolor\": \"white\"}, \"zaxis\": {\"backgroundcolor\": \"#E5ECF6\", \"gridcolor\": \"white\", \"gridwidth\": 2, \"linecolor\": \"white\", \"showbackground\": true, \"ticks\": \"\", \"zerolinecolor\": \"white\"}}, \"shapedefaults\": {\"line\": {\"color\": \"#2a3f5f\"}}, \"ternary\": {\"aaxis\": {\"gridcolor\": \"white\", \"linecolor\": \"white\", \"ticks\": \"\"}, \"baxis\": {\"gridcolor\": \"white\", \"linecolor\": \"white\", \"ticks\": \"\"}, \"bgcolor\": \"#E5ECF6\", \"caxis\": {\"gridcolor\": \"white\", \"linecolor\": \"white\", \"ticks\": \"\"}}, \"title\": {\"x\": 0.05}, \"xaxis\": {\"automargin\": true, \"gridcolor\": \"white\", \"linecolor\": \"white\", \"ticks\": \"\", \"title\": {\"standoff\": 15}, \"zerolinecolor\": \"white\", \"zerolinewidth\": 2}, \"yaxis\": {\"automargin\": true, \"gridcolor\": \"white\", \"linecolor\": \"white\", \"ticks\": \"\", \"title\": {\"standoff\": 15}, \"zerolinecolor\": \"white\", \"zerolinewidth\": 2}}}, \"xaxis\": {\"title\": {\"text\": \"Open-Loop Phase (deg)\"}}, \"yaxis\": {\"title\": {\"text\": \"Open-Loop Gain (dB)\"}}},                        {\"responsive\": true}                    ).then(function(){\n",
       "                            \n",
       "var gd = document.getElementById('acdce58b-c9eb-4edd-8e18-be7e964906b4');\n",
       "var x = new MutationObserver(function (mutations, observer) {{\n",
       "        var display = window.getComputedStyle(gd).display;\n",
       "        if (!display || display === 'none') {{\n",
       "            console.log([gd, 'removed!']);\n",
       "            Plotly.purge(gd);\n",
       "            observer.disconnect();\n",
       "        }}\n",
       "}});\n",
       "\n",
       "// Listen for the removal of the full notebook cells\n",
       "var notebookContainer = gd.closest('#notebook-container');\n",
       "if (notebookContainer) {{\n",
       "    x.observe(notebookContainer, {childList: true});\n",
       "}}\n",
       "\n",
       "// Listen for the clearing of the current output cell\n",
       "var outputEl = gd.closest('.output');\n",
       "if (outputEl) {{\n",
       "    x.observe(outputEl, {childList: true});\n",
       "}}\n",
       "\n",
       "                        })                };                });            </script>        </div>"
      ]
     },
     "metadata": {},
     "output_type": "display_data"
    }
   ],
   "source": [
    "Kc=4\n",
    "\n",
    "fig = figure(\"nichols\")\n",
    "fig.plot(F,w=np.logspace(-2,3,200))\n",
    "fig.plot(Kc*F,w=np.logspace(-2,3,200))\n",
    "fig.grid(cm=np.array([6,4.5, 5, 3, 1, 0.5,0, -0.3, -1, -3, -5, -10, -15, -20]))\n",
    "fig.show()"
   ]
  },
  {
   "cell_type": "code",
   "execution_count": 25,
   "metadata": {},
   "outputs": [
    {
     "name": "stdout",
     "output_type": "stream",
     "text": [
      "\n",
      "          32\n",
      "-----------------------\n",
      "0.001 s^2 + 0.11 s + 33\n",
      "\n"
     ]
    }
   ],
   "source": [
    "H = feedback(Kc*F, 1, sign=-1)\n",
    "print(H)"
   ]
  },
  {
   "cell_type": "code",
   "execution_count": 26,
   "metadata": {},
   "outputs": [
    {
     "name": "stdout",
     "output_type": "stream",
     "text": [
      "_____Eigenvalue______ Damping___ Frequency_\n",
      "       -55    +173.1j     0.3028      181.7\n",
      "       -55    -173.1j     0.3028      181.7\n"
     ]
    },
    {
     "data": {
      "text/plain": [
       "(array([181.65902125, 181.65902125]),\n",
       " array([0.30276504, 0.30276504]),\n",
       " array([-55.+173.13289693j, -55.-173.13289693j]))"
      ]
     },
     "execution_count": 26,
     "metadata": {},
     "output_type": "execute_result"
    }
   ],
   "source": [
    "damp(H)"
   ]
  },
  {
   "cell_type": "code",
   "execution_count": 18,
   "metadata": {},
   "outputs": [
    {
     "data": {
      "application/vnd.plotly.v1+json": {
       "config": {
        "plotlyServerURL": "https://plot.ly"
       },
       "data": [
        {
         "line": {
          "shape": "linear"
         },
         "mode": "lines",
         "name": "tf 1",
         "showlegend": false,
         "type": "scatter",
         "x": [
          0,
          0.0012855831037649219,
          0.0025711662075298437,
          0.0038567493112947656,
          0.0051423324150596875,
          0.006427915518824609,
          0.007713498622589531,
          0.008999081726354453,
          0.010284664830119375,
          0.011570247933884297,
          0.012855831037649219,
          0.01414141414141414,
          0.015426997245179062,
          0.016712580348943983,
          0.017998163452708906,
          0.01928374655647383,
          0.02056932966023875,
          0.02185491276400367,
          0.023140495867768594,
          0.024426078971533517,
          0.025711662075298437,
          0.026997245179063357,
          0.02828282828282828,
          0.029568411386593205,
          0.030853994490358125,
          0.032139577594123045,
          0.033425160697887965,
          0.03471074380165289,
          0.03599632690541781,
          0.03728191000918273,
          0.03856749311294766,
          0.03985307621671258,
          0.0411386593204775,
          0.04242424242424242,
          0.04370982552800734,
          0.04499540863177227,
          0.04628099173553719,
          0.04756657483930211,
          0.048852157943067034,
          0.050137741046831955,
          0.051423324150596875,
          0.052708907254361795,
          0.053994490358126715,
          0.05528007346189164,
          0.05656565656565656,
          0.05785123966942148,
          0.05913682277318641,
          0.06042240587695133,
          0.06170798898071625,
          0.06299357208448117,
          0.06427915518824609,
          0.06556473829201101,
          0.06685032139577593,
          0.06813590449954086,
          0.06942148760330578,
          0.0707070707070707,
          0.07199265381083562,
          0.07327823691460054,
          0.07456382001836546,
          0.07584940312213038,
          0.07713498622589532,
          0.07842056932966024,
          0.07970615243342516,
          0.08099173553719008,
          0.082277318640955,
          0.08356290174471992,
          0.08484848484848484,
          0.08613406795224976,
          0.08741965105601468,
          0.08870523415977961,
          0.08999081726354453,
          0.09127640036730945,
          0.09256198347107437,
          0.0938475665748393,
          0.09513314967860421,
          0.09641873278236913,
          0.09770431588613407,
          0.09898989898989899,
          0.10027548209366391,
          0.10156106519742883,
          0.10284664830119375,
          0.10413223140495867,
          0.10541781450872359,
          0.10670339761248851,
          0.10798898071625343,
          0.10927456382001836,
          0.11056014692378328,
          0.1118457300275482,
          0.11313131313131312,
          0.11441689623507804,
          0.11570247933884296,
          0.11698806244260788,
          0.11827364554637282,
          0.11955922865013774,
          0.12084481175390266,
          0.12213039485766758,
          0.1234159779614325,
          0.12470156106519742,
          0.12598714416896234,
          0.12727272727272726
         ],
         "y": [
          0,
          0.014474595628676878,
          0.054890920234560506,
          0.11662284837902387,
          0.19501868908933132,
          0.2855432668524188,
          0.38389779194995666,
          0.4861168746243686,
          0.5886428042415762,
          0.6883778765774664,
          0.7827161036710739,
          0.8695560795092587,
          0.9472971028845625,
          1.0148208809209345,
          1.0714612603349067,
          1.1169644678075201,
          1.1514422966332551,
          1.1753205657587087,
          1.1892850115521028,
          1.1942265643137884,
          1.1911877224722942,
          1.1813114787918664,
          1.165793985036152,
          1.1458418735981366,
          1.1226348946152886,
          1.097294281746309,
          1.0708570344761417,
          1.04425610361579,
          1.0183062923932706,
          0.9936955398370996,
          0.9709811366102684,
          0.9505903356918004,
          0.9328247601460243,
          0.9178679758203911,
          0.9057955858000684,
          0.8965872130660417,
          0.890139765045619,
          0.8862814154736484,
          0.8847857920446964,
          0.8853859196541695,
          0.8877875356827712,
          0.8916814630821209,
          0.8967547965541699,
          0.9027007247792677,
          0.9092268756666507,
          0.9160621305482003,
          0.9229619060226271,
          0.9297119480211472,
          0.9361307211524689,
          0.9420705073196814,
          0.9474173510578727,
          0.9520900053057324,
          0.9560380408604452,
          0.9592392861757216,
          0.9616967621539659,
          0.9634352699298657,
          0.964497779155058,
          0.9649417507902781,
          0.9648355126928742,
          0.9642547891145892,
          0.9632794673009892,
          0.9619906663432598,
          0.9604681558287299,
          0.958788155135817,
          0.9570215288009444,
          0.9552323795400002,
          0.953477028440484,
          0.9518033616778699,
          0.9502505149029218,
          0.9488488601825096,
          0.9476202559855206,
          0.9465785180716567,
          0.9457300681110666,
          0.9450747172560825,
          0.9446065435034142,
          0.9443148243163956,
          0.944184989410082,
          0.9441995626290393,
          0.9443390662701402,
          0.9445828658365817,
          0.944909937888595,
          0.9452995482354245,
          0.9457318320687597,
          0.9461882716695226,
          0.9466520709502123,
          0.94710842926858,
          0.9475447196308537,
          0.9479505785788137,
          0.9483179167266347,
          0.9486408600972344,
          0.948915633132919,
          0.949140394560282,
          0.9493150372208532,
          0.9494409625882371,
          0.9495208400335527,
          0.9495583600289336,
          0.9495579894477476,
          0.9495247359817922,
          0.9494639274980953,
          0.9493810109446315
         ]
        }
       ],
       "layout": {
        "template": {
         "data": {
          "bar": [
           {
            "error_x": {
             "color": "#2a3f5f"
            },
            "error_y": {
             "color": "#2a3f5f"
            },
            "marker": {
             "line": {
              "color": "#E5ECF6",
              "width": 0.5
             }
            },
            "type": "bar"
           }
          ],
          "barpolar": [
           {
            "marker": {
             "line": {
              "color": "#E5ECF6",
              "width": 0.5
             }
            },
            "type": "barpolar"
           }
          ],
          "carpet": [
           {
            "aaxis": {
             "endlinecolor": "#2a3f5f",
             "gridcolor": "white",
             "linecolor": "white",
             "minorgridcolor": "white",
             "startlinecolor": "#2a3f5f"
            },
            "baxis": {
             "endlinecolor": "#2a3f5f",
             "gridcolor": "white",
             "linecolor": "white",
             "minorgridcolor": "white",
             "startlinecolor": "#2a3f5f"
            },
            "type": "carpet"
           }
          ],
          "choropleth": [
           {
            "colorbar": {
             "outlinewidth": 0,
             "ticks": ""
            },
            "type": "choropleth"
           }
          ],
          "contour": [
           {
            "colorbar": {
             "outlinewidth": 0,
             "ticks": ""
            },
            "colorscale": [
             [
              0,
              "#0d0887"
             ],
             [
              0.1111111111111111,
              "#46039f"
             ],
             [
              0.2222222222222222,
              "#7201a8"
             ],
             [
              0.3333333333333333,
              "#9c179e"
             ],
             [
              0.4444444444444444,
              "#bd3786"
             ],
             [
              0.5555555555555556,
              "#d8576b"
             ],
             [
              0.6666666666666666,
              "#ed7953"
             ],
             [
              0.7777777777777778,
              "#fb9f3a"
             ],
             [
              0.8888888888888888,
              "#fdca26"
             ],
             [
              1,
              "#f0f921"
             ]
            ],
            "type": "contour"
           }
          ],
          "contourcarpet": [
           {
            "colorbar": {
             "outlinewidth": 0,
             "ticks": ""
            },
            "type": "contourcarpet"
           }
          ],
          "heatmap": [
           {
            "colorbar": {
             "outlinewidth": 0,
             "ticks": ""
            },
            "colorscale": [
             [
              0,
              "#0d0887"
             ],
             [
              0.1111111111111111,
              "#46039f"
             ],
             [
              0.2222222222222222,
              "#7201a8"
             ],
             [
              0.3333333333333333,
              "#9c179e"
             ],
             [
              0.4444444444444444,
              "#bd3786"
             ],
             [
              0.5555555555555556,
              "#d8576b"
             ],
             [
              0.6666666666666666,
              "#ed7953"
             ],
             [
              0.7777777777777778,
              "#fb9f3a"
             ],
             [
              0.8888888888888888,
              "#fdca26"
             ],
             [
              1,
              "#f0f921"
             ]
            ],
            "type": "heatmap"
           }
          ],
          "heatmapgl": [
           {
            "colorbar": {
             "outlinewidth": 0,
             "ticks": ""
            },
            "colorscale": [
             [
              0,
              "#0d0887"
             ],
             [
              0.1111111111111111,
              "#46039f"
             ],
             [
              0.2222222222222222,
              "#7201a8"
             ],
             [
              0.3333333333333333,
              "#9c179e"
             ],
             [
              0.4444444444444444,
              "#bd3786"
             ],
             [
              0.5555555555555556,
              "#d8576b"
             ],
             [
              0.6666666666666666,
              "#ed7953"
             ],
             [
              0.7777777777777778,
              "#fb9f3a"
             ],
             [
              0.8888888888888888,
              "#fdca26"
             ],
             [
              1,
              "#f0f921"
             ]
            ],
            "type": "heatmapgl"
           }
          ],
          "histogram": [
           {
            "marker": {
             "colorbar": {
              "outlinewidth": 0,
              "ticks": ""
             }
            },
            "type": "histogram"
           }
          ],
          "histogram2d": [
           {
            "colorbar": {
             "outlinewidth": 0,
             "ticks": ""
            },
            "colorscale": [
             [
              0,
              "#0d0887"
             ],
             [
              0.1111111111111111,
              "#46039f"
             ],
             [
              0.2222222222222222,
              "#7201a8"
             ],
             [
              0.3333333333333333,
              "#9c179e"
             ],
             [
              0.4444444444444444,
              "#bd3786"
             ],
             [
              0.5555555555555556,
              "#d8576b"
             ],
             [
              0.6666666666666666,
              "#ed7953"
             ],
             [
              0.7777777777777778,
              "#fb9f3a"
             ],
             [
              0.8888888888888888,
              "#fdca26"
             ],
             [
              1,
              "#f0f921"
             ]
            ],
            "type": "histogram2d"
           }
          ],
          "histogram2dcontour": [
           {
            "colorbar": {
             "outlinewidth": 0,
             "ticks": ""
            },
            "colorscale": [
             [
              0,
              "#0d0887"
             ],
             [
              0.1111111111111111,
              "#46039f"
             ],
             [
              0.2222222222222222,
              "#7201a8"
             ],
             [
              0.3333333333333333,
              "#9c179e"
             ],
             [
              0.4444444444444444,
              "#bd3786"
             ],
             [
              0.5555555555555556,
              "#d8576b"
             ],
             [
              0.6666666666666666,
              "#ed7953"
             ],
             [
              0.7777777777777778,
              "#fb9f3a"
             ],
             [
              0.8888888888888888,
              "#fdca26"
             ],
             [
              1,
              "#f0f921"
             ]
            ],
            "type": "histogram2dcontour"
           }
          ],
          "mesh3d": [
           {
            "colorbar": {
             "outlinewidth": 0,
             "ticks": ""
            },
            "type": "mesh3d"
           }
          ],
          "parcoords": [
           {
            "line": {
             "colorbar": {
              "outlinewidth": 0,
              "ticks": ""
             }
            },
            "type": "parcoords"
           }
          ],
          "pie": [
           {
            "automargin": true,
            "type": "pie"
           }
          ],
          "scatter": [
           {
            "marker": {
             "colorbar": {
              "outlinewidth": 0,
              "ticks": ""
             }
            },
            "type": "scatter"
           }
          ],
          "scatter3d": [
           {
            "line": {
             "colorbar": {
              "outlinewidth": 0,
              "ticks": ""
             }
            },
            "marker": {
             "colorbar": {
              "outlinewidth": 0,
              "ticks": ""
             }
            },
            "type": "scatter3d"
           }
          ],
          "scattercarpet": [
           {
            "marker": {
             "colorbar": {
              "outlinewidth": 0,
              "ticks": ""
             }
            },
            "type": "scattercarpet"
           }
          ],
          "scattergeo": [
           {
            "marker": {
             "colorbar": {
              "outlinewidth": 0,
              "ticks": ""
             }
            },
            "type": "scattergeo"
           }
          ],
          "scattergl": [
           {
            "marker": {
             "colorbar": {
              "outlinewidth": 0,
              "ticks": ""
             }
            },
            "type": "scattergl"
           }
          ],
          "scattermapbox": [
           {
            "marker": {
             "colorbar": {
              "outlinewidth": 0,
              "ticks": ""
             }
            },
            "type": "scattermapbox"
           }
          ],
          "scatterpolar": [
           {
            "marker": {
             "colorbar": {
              "outlinewidth": 0,
              "ticks": ""
             }
            },
            "type": "scatterpolar"
           }
          ],
          "scatterpolargl": [
           {
            "marker": {
             "colorbar": {
              "outlinewidth": 0,
              "ticks": ""
             }
            },
            "type": "scatterpolargl"
           }
          ],
          "scatterternary": [
           {
            "marker": {
             "colorbar": {
              "outlinewidth": 0,
              "ticks": ""
             }
            },
            "type": "scatterternary"
           }
          ],
          "surface": [
           {
            "colorbar": {
             "outlinewidth": 0,
             "ticks": ""
            },
            "colorscale": [
             [
              0,
              "#0d0887"
             ],
             [
              0.1111111111111111,
              "#46039f"
             ],
             [
              0.2222222222222222,
              "#7201a8"
             ],
             [
              0.3333333333333333,
              "#9c179e"
             ],
             [
              0.4444444444444444,
              "#bd3786"
             ],
             [
              0.5555555555555556,
              "#d8576b"
             ],
             [
              0.6666666666666666,
              "#ed7953"
             ],
             [
              0.7777777777777778,
              "#fb9f3a"
             ],
             [
              0.8888888888888888,
              "#fdca26"
             ],
             [
              1,
              "#f0f921"
             ]
            ],
            "type": "surface"
           }
          ],
          "table": [
           {
            "cells": {
             "fill": {
              "color": "#EBF0F8"
             },
             "line": {
              "color": "white"
             }
            },
            "header": {
             "fill": {
              "color": "#C8D4E3"
             },
             "line": {
              "color": "white"
             }
            },
            "type": "table"
           }
          ]
         },
         "layout": {
          "annotationdefaults": {
           "arrowcolor": "#2a3f5f",
           "arrowhead": 0,
           "arrowwidth": 1
          },
          "coloraxis": {
           "colorbar": {
            "outlinewidth": 0,
            "ticks": ""
           }
          },
          "colorscale": {
           "diverging": [
            [
             0,
             "#8e0152"
            ],
            [
             0.1,
             "#c51b7d"
            ],
            [
             0.2,
             "#de77ae"
            ],
            [
             0.3,
             "#f1b6da"
            ],
            [
             0.4,
             "#fde0ef"
            ],
            [
             0.5,
             "#f7f7f7"
            ],
            [
             0.6,
             "#e6f5d0"
            ],
            [
             0.7,
             "#b8e186"
            ],
            [
             0.8,
             "#7fbc41"
            ],
            [
             0.9,
             "#4d9221"
            ],
            [
             1,
             "#276419"
            ]
           ],
           "sequential": [
            [
             0,
             "#0d0887"
            ],
            [
             0.1111111111111111,
             "#46039f"
            ],
            [
             0.2222222222222222,
             "#7201a8"
            ],
            [
             0.3333333333333333,
             "#9c179e"
            ],
            [
             0.4444444444444444,
             "#bd3786"
            ],
            [
             0.5555555555555556,
             "#d8576b"
            ],
            [
             0.6666666666666666,
             "#ed7953"
            ],
            [
             0.7777777777777778,
             "#fb9f3a"
            ],
            [
             0.8888888888888888,
             "#fdca26"
            ],
            [
             1,
             "#f0f921"
            ]
           ],
           "sequentialminus": [
            [
             0,
             "#0d0887"
            ],
            [
             0.1111111111111111,
             "#46039f"
            ],
            [
             0.2222222222222222,
             "#7201a8"
            ],
            [
             0.3333333333333333,
             "#9c179e"
            ],
            [
             0.4444444444444444,
             "#bd3786"
            ],
            [
             0.5555555555555556,
             "#d8576b"
            ],
            [
             0.6666666666666666,
             "#ed7953"
            ],
            [
             0.7777777777777778,
             "#fb9f3a"
            ],
            [
             0.8888888888888888,
             "#fdca26"
            ],
            [
             1,
             "#f0f921"
            ]
           ]
          },
          "colorway": [
           "#636efa",
           "#EF553B",
           "#00cc96",
           "#ab63fa",
           "#FFA15A",
           "#19d3f3",
           "#FF6692",
           "#B6E880",
           "#FF97FF",
           "#FECB52"
          ],
          "font": {
           "color": "#2a3f5f"
          },
          "geo": {
           "bgcolor": "white",
           "lakecolor": "white",
           "landcolor": "#E5ECF6",
           "showlakes": true,
           "showland": true,
           "subunitcolor": "white"
          },
          "hoverlabel": {
           "align": "left"
          },
          "hovermode": "closest",
          "mapbox": {
           "style": "light"
          },
          "paper_bgcolor": "white",
          "plot_bgcolor": "#E5ECF6",
          "polar": {
           "angularaxis": {
            "gridcolor": "white",
            "linecolor": "white",
            "ticks": ""
           },
           "bgcolor": "#E5ECF6",
           "radialaxis": {
            "gridcolor": "white",
            "linecolor": "white",
            "ticks": ""
           }
          },
          "scene": {
           "xaxis": {
            "backgroundcolor": "#E5ECF6",
            "gridcolor": "white",
            "gridwidth": 2,
            "linecolor": "white",
            "showbackground": true,
            "ticks": "",
            "zerolinecolor": "white"
           },
           "yaxis": {
            "backgroundcolor": "#E5ECF6",
            "gridcolor": "white",
            "gridwidth": 2,
            "linecolor": "white",
            "showbackground": true,
            "ticks": "",
            "zerolinecolor": "white"
           },
           "zaxis": {
            "backgroundcolor": "#E5ECF6",
            "gridcolor": "white",
            "gridwidth": 2,
            "linecolor": "white",
            "showbackground": true,
            "ticks": "",
            "zerolinecolor": "white"
           }
          },
          "shapedefaults": {
           "line": {
            "color": "#2a3f5f"
           }
          },
          "ternary": {
           "aaxis": {
            "gridcolor": "white",
            "linecolor": "white",
            "ticks": ""
           },
           "baxis": {
            "gridcolor": "white",
            "linecolor": "white",
            "ticks": ""
           },
           "bgcolor": "#E5ECF6",
           "caxis": {
            "gridcolor": "white",
            "linecolor": "white",
            "ticks": ""
           }
          },
          "title": {
           "x": 0.05
          },
          "xaxis": {
           "automargin": true,
           "gridcolor": "white",
           "linecolor": "white",
           "ticks": "",
           "title": {
            "standoff": 15
           },
           "zerolinecolor": "white",
           "zerolinewidth": 2
          },
          "yaxis": {
           "automargin": true,
           "gridcolor": "white",
           "linecolor": "white",
           "ticks": "",
           "title": {
            "standoff": 15
           },
           "zerolinecolor": "white",
           "zerolinewidth": 2
          }
         }
        },
        "xaxis": {
         "title": {
          "text": "time (s)"
         }
        },
        "yaxis": {
         "title": {
          "text": "response"
         }
        }
       }
      },
      "text/html": [
       "<div>                            <div id=\"3881f1ff-04c9-4a6b-8c00-d1d899cda759\" class=\"plotly-graph-div\" style=\"height:525px; width:100%;\"></div>            <script type=\"text/javascript\">                require([\"plotly\"], function(Plotly) {                    window.PLOTLYENV=window.PLOTLYENV || {};                                    if (document.getElementById(\"3881f1ff-04c9-4a6b-8c00-d1d899cda759\")) {                    Plotly.newPlot(                        \"3881f1ff-04c9-4a6b-8c00-d1d899cda759\",                        [{\"line\": {\"shape\": \"linear\"}, \"mode\": \"lines\", \"name\": \"tf 1\", \"showlegend\": false, \"type\": \"scatter\", \"x\": [0.0, 0.0012855831037649219, 0.0025711662075298437, 0.0038567493112947656, 0.0051423324150596875, 0.006427915518824609, 0.007713498622589531, 0.008999081726354453, 0.010284664830119375, 0.011570247933884297, 0.012855831037649219, 0.01414141414141414, 0.015426997245179062, 0.016712580348943983, 0.017998163452708906, 0.01928374655647383, 0.02056932966023875, 0.02185491276400367, 0.023140495867768594, 0.024426078971533517, 0.025711662075298437, 0.026997245179063357, 0.02828282828282828, 0.029568411386593205, 0.030853994490358125, 0.032139577594123045, 0.033425160697887965, 0.03471074380165289, 0.03599632690541781, 0.03728191000918273, 0.03856749311294766, 0.03985307621671258, 0.0411386593204775, 0.04242424242424242, 0.04370982552800734, 0.04499540863177227, 0.04628099173553719, 0.04756657483930211, 0.048852157943067034, 0.050137741046831955, 0.051423324150596875, 0.052708907254361795, 0.053994490358126715, 0.05528007346189164, 0.05656565656565656, 0.05785123966942148, 0.05913682277318641, 0.06042240587695133, 0.06170798898071625, 0.06299357208448117, 0.06427915518824609, 0.06556473829201101, 0.06685032139577593, 0.06813590449954086, 0.06942148760330578, 0.0707070707070707, 0.07199265381083562, 0.07327823691460054, 0.07456382001836546, 0.07584940312213038, 0.07713498622589532, 0.07842056932966024, 0.07970615243342516, 0.08099173553719008, 0.082277318640955, 0.08356290174471992, 0.08484848484848484, 0.08613406795224976, 0.08741965105601468, 0.08870523415977961, 0.08999081726354453, 0.09127640036730945, 0.09256198347107437, 0.0938475665748393, 0.09513314967860421, 0.09641873278236913, 0.09770431588613407, 0.09898989898989899, 0.10027548209366391, 0.10156106519742883, 0.10284664830119375, 0.10413223140495867, 0.10541781450872359, 0.10670339761248851, 0.10798898071625343, 0.10927456382001836, 0.11056014692378328, 0.1118457300275482, 0.11313131313131312, 0.11441689623507804, 0.11570247933884296, 0.11698806244260788, 0.11827364554637282, 0.11955922865013774, 0.12084481175390266, 0.12213039485766758, 0.1234159779614325, 0.12470156106519742, 0.12598714416896234, 0.12727272727272726], \"y\": [0.0, 0.014474595628676878, 0.054890920234560506, 0.11662284837902387, 0.19501868908933132, 0.2855432668524188, 0.38389779194995666, 0.4861168746243686, 0.5886428042415762, 0.6883778765774664, 0.7827161036710739, 0.8695560795092587, 0.9472971028845625, 1.0148208809209345, 1.0714612603349067, 1.1169644678075201, 1.1514422966332551, 1.1753205657587087, 1.1892850115521028, 1.1942265643137884, 1.1911877224722942, 1.1813114787918664, 1.165793985036152, 1.1458418735981366, 1.1226348946152886, 1.097294281746309, 1.0708570344761417, 1.04425610361579, 1.0183062923932706, 0.9936955398370996, 0.9709811366102684, 0.9505903356918004, 0.9328247601460243, 0.9178679758203911, 0.9057955858000684, 0.8965872130660417, 0.890139765045619, 0.8862814154736484, 0.8847857920446964, 0.8853859196541695, 0.8877875356827712, 0.8916814630821209, 0.8967547965541699, 0.9027007247792677, 0.9092268756666507, 0.9160621305482003, 0.9229619060226271, 0.9297119480211472, 0.9361307211524689, 0.9420705073196814, 0.9474173510578727, 0.9520900053057324, 0.9560380408604452, 0.9592392861757216, 0.9616967621539659, 0.9634352699298657, 0.964497779155058, 0.9649417507902781, 0.9648355126928742, 0.9642547891145892, 0.9632794673009892, 0.9619906663432598, 0.9604681558287299, 0.958788155135817, 0.9570215288009444, 0.9552323795400002, 0.953477028440484, 0.9518033616778699, 0.9502505149029218, 0.9488488601825096, 0.9476202559855206, 0.9465785180716567, 0.9457300681110666, 0.9450747172560825, 0.9446065435034142, 0.9443148243163956, 0.944184989410082, 0.9441995626290393, 0.9443390662701402, 0.9445828658365817, 0.944909937888595, 0.9452995482354245, 0.9457318320687597, 0.9461882716695226, 0.9466520709502123, 0.94710842926858, 0.9475447196308537, 0.9479505785788137, 0.9483179167266347, 0.9486408600972344, 0.948915633132919, 0.949140394560282, 0.9493150372208532, 0.9494409625882371, 0.9495208400335527, 0.9495583600289336, 0.9495579894477476, 0.9495247359817922, 0.9494639274980953, 0.9493810109446315]}],                        {\"template\": {\"data\": {\"bar\": [{\"error_x\": {\"color\": \"#2a3f5f\"}, \"error_y\": {\"color\": \"#2a3f5f\"}, \"marker\": {\"line\": {\"color\": \"#E5ECF6\", \"width\": 0.5}}, \"type\": \"bar\"}], \"barpolar\": [{\"marker\": {\"line\": {\"color\": \"#E5ECF6\", \"width\": 0.5}}, \"type\": \"barpolar\"}], \"carpet\": [{\"aaxis\": {\"endlinecolor\": \"#2a3f5f\", \"gridcolor\": \"white\", \"linecolor\": \"white\", \"minorgridcolor\": \"white\", \"startlinecolor\": \"#2a3f5f\"}, \"baxis\": {\"endlinecolor\": \"#2a3f5f\", \"gridcolor\": \"white\", \"linecolor\": \"white\", \"minorgridcolor\": \"white\", \"startlinecolor\": \"#2a3f5f\"}, \"type\": \"carpet\"}], \"choropleth\": [{\"colorbar\": {\"outlinewidth\": 0, \"ticks\": \"\"}, \"type\": \"choropleth\"}], \"contour\": [{\"colorbar\": {\"outlinewidth\": 0, \"ticks\": \"\"}, \"colorscale\": [[0.0, \"#0d0887\"], [0.1111111111111111, \"#46039f\"], [0.2222222222222222, \"#7201a8\"], [0.3333333333333333, \"#9c179e\"], [0.4444444444444444, \"#bd3786\"], [0.5555555555555556, \"#d8576b\"], [0.6666666666666666, \"#ed7953\"], [0.7777777777777778, \"#fb9f3a\"], [0.8888888888888888, \"#fdca26\"], [1.0, \"#f0f921\"]], \"type\": \"contour\"}], \"contourcarpet\": [{\"colorbar\": {\"outlinewidth\": 0, \"ticks\": \"\"}, \"type\": \"contourcarpet\"}], \"heatmap\": [{\"colorbar\": {\"outlinewidth\": 0, \"ticks\": \"\"}, \"colorscale\": [[0.0, \"#0d0887\"], [0.1111111111111111, \"#46039f\"], [0.2222222222222222, \"#7201a8\"], [0.3333333333333333, \"#9c179e\"], [0.4444444444444444, \"#bd3786\"], [0.5555555555555556, \"#d8576b\"], [0.6666666666666666, \"#ed7953\"], [0.7777777777777778, \"#fb9f3a\"], [0.8888888888888888, \"#fdca26\"], [1.0, \"#f0f921\"]], \"type\": \"heatmap\"}], \"heatmapgl\": [{\"colorbar\": {\"outlinewidth\": 0, \"ticks\": \"\"}, \"colorscale\": [[0.0, \"#0d0887\"], [0.1111111111111111, \"#46039f\"], [0.2222222222222222, \"#7201a8\"], [0.3333333333333333, \"#9c179e\"], [0.4444444444444444, \"#bd3786\"], [0.5555555555555556, \"#d8576b\"], [0.6666666666666666, \"#ed7953\"], [0.7777777777777778, \"#fb9f3a\"], [0.8888888888888888, \"#fdca26\"], [1.0, \"#f0f921\"]], \"type\": \"heatmapgl\"}], \"histogram\": [{\"marker\": {\"colorbar\": {\"outlinewidth\": 0, \"ticks\": \"\"}}, \"type\": \"histogram\"}], \"histogram2d\": [{\"colorbar\": {\"outlinewidth\": 0, \"ticks\": \"\"}, \"colorscale\": [[0.0, \"#0d0887\"], [0.1111111111111111, \"#46039f\"], [0.2222222222222222, \"#7201a8\"], [0.3333333333333333, \"#9c179e\"], [0.4444444444444444, \"#bd3786\"], [0.5555555555555556, \"#d8576b\"], [0.6666666666666666, \"#ed7953\"], [0.7777777777777778, \"#fb9f3a\"], [0.8888888888888888, \"#fdca26\"], [1.0, \"#f0f921\"]], \"type\": \"histogram2d\"}], \"histogram2dcontour\": [{\"colorbar\": {\"outlinewidth\": 0, \"ticks\": \"\"}, \"colorscale\": [[0.0, \"#0d0887\"], [0.1111111111111111, \"#46039f\"], [0.2222222222222222, \"#7201a8\"], [0.3333333333333333, \"#9c179e\"], [0.4444444444444444, \"#bd3786\"], [0.5555555555555556, \"#d8576b\"], [0.6666666666666666, \"#ed7953\"], [0.7777777777777778, \"#fb9f3a\"], [0.8888888888888888, \"#fdca26\"], [1.0, \"#f0f921\"]], \"type\": \"histogram2dcontour\"}], \"mesh3d\": [{\"colorbar\": {\"outlinewidth\": 0, \"ticks\": \"\"}, \"type\": \"mesh3d\"}], \"parcoords\": [{\"line\": {\"colorbar\": {\"outlinewidth\": 0, \"ticks\": \"\"}}, \"type\": \"parcoords\"}], \"pie\": [{\"automargin\": true, \"type\": \"pie\"}], \"scatter\": [{\"marker\": {\"colorbar\": {\"outlinewidth\": 0, \"ticks\": \"\"}}, \"type\": \"scatter\"}], \"scatter3d\": [{\"line\": {\"colorbar\": {\"outlinewidth\": 0, \"ticks\": \"\"}}, \"marker\": {\"colorbar\": {\"outlinewidth\": 0, \"ticks\": \"\"}}, \"type\": \"scatter3d\"}], \"scattercarpet\": [{\"marker\": {\"colorbar\": {\"outlinewidth\": 0, \"ticks\": \"\"}}, \"type\": \"scattercarpet\"}], \"scattergeo\": [{\"marker\": {\"colorbar\": {\"outlinewidth\": 0, \"ticks\": \"\"}}, \"type\": \"scattergeo\"}], \"scattergl\": [{\"marker\": {\"colorbar\": {\"outlinewidth\": 0, \"ticks\": \"\"}}, \"type\": \"scattergl\"}], \"scattermapbox\": [{\"marker\": {\"colorbar\": {\"outlinewidth\": 0, \"ticks\": \"\"}}, \"type\": \"scattermapbox\"}], \"scatterpolar\": [{\"marker\": {\"colorbar\": {\"outlinewidth\": 0, \"ticks\": \"\"}}, \"type\": \"scatterpolar\"}], \"scatterpolargl\": [{\"marker\": {\"colorbar\": {\"outlinewidth\": 0, \"ticks\": \"\"}}, \"type\": \"scatterpolargl\"}], \"scatterternary\": [{\"marker\": {\"colorbar\": {\"outlinewidth\": 0, \"ticks\": \"\"}}, \"type\": \"scatterternary\"}], \"surface\": [{\"colorbar\": {\"outlinewidth\": 0, \"ticks\": \"\"}, \"colorscale\": [[0.0, \"#0d0887\"], [0.1111111111111111, \"#46039f\"], [0.2222222222222222, \"#7201a8\"], [0.3333333333333333, \"#9c179e\"], [0.4444444444444444, \"#bd3786\"], [0.5555555555555556, \"#d8576b\"], [0.6666666666666666, \"#ed7953\"], [0.7777777777777778, \"#fb9f3a\"], [0.8888888888888888, \"#fdca26\"], [1.0, \"#f0f921\"]], \"type\": \"surface\"}], \"table\": [{\"cells\": {\"fill\": {\"color\": \"#EBF0F8\"}, \"line\": {\"color\": \"white\"}}, \"header\": {\"fill\": {\"color\": \"#C8D4E3\"}, \"line\": {\"color\": \"white\"}}, \"type\": \"table\"}]}, \"layout\": {\"annotationdefaults\": {\"arrowcolor\": \"#2a3f5f\", \"arrowhead\": 0, \"arrowwidth\": 1}, \"coloraxis\": {\"colorbar\": {\"outlinewidth\": 0, \"ticks\": \"\"}}, \"colorscale\": {\"diverging\": [[0, \"#8e0152\"], [0.1, \"#c51b7d\"], [0.2, \"#de77ae\"], [0.3, \"#f1b6da\"], [0.4, \"#fde0ef\"], [0.5, \"#f7f7f7\"], [0.6, \"#e6f5d0\"], [0.7, \"#b8e186\"], [0.8, \"#7fbc41\"], [0.9, \"#4d9221\"], [1, \"#276419\"]], \"sequential\": [[0.0, \"#0d0887\"], [0.1111111111111111, \"#46039f\"], [0.2222222222222222, \"#7201a8\"], [0.3333333333333333, \"#9c179e\"], [0.4444444444444444, \"#bd3786\"], [0.5555555555555556, \"#d8576b\"], [0.6666666666666666, \"#ed7953\"], [0.7777777777777778, \"#fb9f3a\"], [0.8888888888888888, \"#fdca26\"], [1.0, \"#f0f921\"]], \"sequentialminus\": [[0.0, \"#0d0887\"], [0.1111111111111111, \"#46039f\"], [0.2222222222222222, \"#7201a8\"], [0.3333333333333333, \"#9c179e\"], [0.4444444444444444, \"#bd3786\"], [0.5555555555555556, \"#d8576b\"], [0.6666666666666666, \"#ed7953\"], [0.7777777777777778, \"#fb9f3a\"], [0.8888888888888888, \"#fdca26\"], [1.0, \"#f0f921\"]]}, \"colorway\": [\"#636efa\", \"#EF553B\", \"#00cc96\", \"#ab63fa\", \"#FFA15A\", \"#19d3f3\", \"#FF6692\", \"#B6E880\", \"#FF97FF\", \"#FECB52\"], \"font\": {\"color\": \"#2a3f5f\"}, \"geo\": {\"bgcolor\": \"white\", \"lakecolor\": \"white\", \"landcolor\": \"#E5ECF6\", \"showlakes\": true, \"showland\": true, \"subunitcolor\": \"white\"}, \"hoverlabel\": {\"align\": \"left\"}, \"hovermode\": \"closest\", \"mapbox\": {\"style\": \"light\"}, \"paper_bgcolor\": \"white\", \"plot_bgcolor\": \"#E5ECF6\", \"polar\": {\"angularaxis\": {\"gridcolor\": \"white\", \"linecolor\": \"white\", \"ticks\": \"\"}, \"bgcolor\": \"#E5ECF6\", \"radialaxis\": {\"gridcolor\": \"white\", \"linecolor\": \"white\", \"ticks\": \"\"}}, \"scene\": {\"xaxis\": {\"backgroundcolor\": \"#E5ECF6\", \"gridcolor\": \"white\", \"gridwidth\": 2, \"linecolor\": \"white\", \"showbackground\": true, \"ticks\": \"\", \"zerolinecolor\": \"white\"}, \"yaxis\": {\"backgroundcolor\": \"#E5ECF6\", \"gridcolor\": \"white\", \"gridwidth\": 2, \"linecolor\": \"white\", \"showbackground\": true, \"ticks\": \"\", \"zerolinecolor\": \"white\"}, \"zaxis\": {\"backgroundcolor\": \"#E5ECF6\", \"gridcolor\": \"white\", \"gridwidth\": 2, \"linecolor\": \"white\", \"showbackground\": true, \"ticks\": \"\", \"zerolinecolor\": \"white\"}}, \"shapedefaults\": {\"line\": {\"color\": \"#2a3f5f\"}}, \"ternary\": {\"aaxis\": {\"gridcolor\": \"white\", \"linecolor\": \"white\", \"ticks\": \"\"}, \"baxis\": {\"gridcolor\": \"white\", \"linecolor\": \"white\", \"ticks\": \"\"}, \"bgcolor\": \"#E5ECF6\", \"caxis\": {\"gridcolor\": \"white\", \"linecolor\": \"white\", \"ticks\": \"\"}}, \"title\": {\"x\": 0.05}, \"xaxis\": {\"automargin\": true, \"gridcolor\": \"white\", \"linecolor\": \"white\", \"ticks\": \"\", \"title\": {\"standoff\": 15}, \"zerolinecolor\": \"white\", \"zerolinewidth\": 2}, \"yaxis\": {\"automargin\": true, \"gridcolor\": \"white\", \"linecolor\": \"white\", \"ticks\": \"\", \"title\": {\"standoff\": 15}, \"zerolinecolor\": \"white\", \"zerolinewidth\": 2}}}, \"xaxis\": {\"title\": {\"text\": \"time (s)\"}}, \"yaxis\": {\"title\": {\"text\": \"response\"}}},                        {\"responsive\": true}                    ).then(function(){\n",
       "                            \n",
       "var gd = document.getElementById('3881f1ff-04c9-4a6b-8c00-d1d899cda759');\n",
       "var x = new MutationObserver(function (mutations, observer) {{\n",
       "        var display = window.getComputedStyle(gd).display;\n",
       "        if (!display || display === 'none') {{\n",
       "            console.log([gd, 'removed!']);\n",
       "            Plotly.purge(gd);\n",
       "            observer.disconnect();\n",
       "        }}\n",
       "}});\n",
       "\n",
       "// Listen for the removal of the full notebook cells\n",
       "var notebookContainer = gd.closest('#notebook-container');\n",
       "if (notebookContainer) {{\n",
       "    x.observe(notebookContainer, {childList: true});\n",
       "}}\n",
       "\n",
       "// Listen for the clearing of the current output cell\n",
       "var outputEl = gd.closest('.output');\n",
       "if (outputEl) {{\n",
       "    x.observe(outputEl, {childList: true});\n",
       "}}\n",
       "\n",
       "                        })                };                });            </script>        </div>"
      ]
     },
     "metadata": {},
     "output_type": "display_data"
    }
   ],
   "source": [
    "step([H])"
   ]
  },
  {
   "cell_type": "code",
   "execution_count": 19,
   "metadata": {},
   "outputs": [
    {
     "data": {
      "text/plain": [
       "{'RiseTime': 0.010232983097304704,\n",
       " 'SettlingTime': 0.055641845591594324,\n",
       " 'SettlingMin': 0.8649809553046413,\n",
       " 'SettlingMax': 1.1941167051408819,\n",
       " 'Overshoot': 25.778448417957936,\n",
       " 'Undershoot': 0.0,\n",
       " 'Peak': 1.1941167051408819,\n",
       " 'PeakTime': 0.02430333485609867,\n",
       " 'SteadyStateValue': 0.9493810109446322}"
      ]
     },
     "execution_count": 19,
     "metadata": {},
     "output_type": "execute_result"
    }
   ],
   "source": [
    "stepinfo(H)"
   ]
  },
  {
   "cell_type": "code",
   "execution_count": null,
   "metadata": {},
   "outputs": [],
   "source": []
  }
 ],
 "metadata": {
  "kernelspec": {
   "display_name": "Python 3",
   "language": "python",
   "name": "python3"
  },
  "language_info": {
   "codemirror_mode": {
    "name": "ipython",
    "version": 3
   },
   "file_extension": ".py",
   "mimetype": "text/x-python",
   "name": "python",
   "nbconvert_exporter": "python",
   "pygments_lexer": "ipython3",
   "version": "3.7.6"
  }
 },
 "nbformat": 4,
 "nbformat_minor": 2
}
